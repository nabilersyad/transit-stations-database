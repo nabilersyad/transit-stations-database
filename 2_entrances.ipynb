{
 "cells": [
  {
   "attachments": {},
   "cell_type": "markdown",
   "metadata": {},
   "source": [
    "# Exploring Transit Station Entrances in Klang Valley with Overpass API and Python\n",
    "\n",
    "In this notebook, we will explore the locations of subway entrances within Klang Valley using data from OpenStreetMap (OSM). \n",
    "\n",
    "We will leverage the Overpass API, a read-only API that allows access to OSM data. Specifically, we will use Overpass' powerful querying capabilities to identify nodes tagged as `subway_entrance` within the boundary of Malaysia.\n",
    "\n",
    "Once we have collected the subway entrances, we will then identify which public transport stations these entrances are associated with. To achieve this, we will query OSM relations tagged as `public_transport`.\n",
    "\n",
    "The data will be processed and stored in a pandas DataFrame, enabling us to manipulate and analyze the data easily.\n",
    "\n",
    "The ultimate goal is to create a table of subway entrances, complete with their coordinates and associated station names, providing a clear understanding of the distribution of subway entrances across Malaysia.\n"
   ]
  },
  {
   "attachments": {},
   "cell_type": "markdown",
   "metadata": {},
   "source": [
    "## Initialize the Overpass API and variables\n",
    "\n",
    "We will initialize two dataframes which will be used to create two tables down the line\n",
    "*entrance* - Which will hold details and characteristics of each individual entrance. This includes coordinates and destinations\n",
    "*station_entrances* - Will track the relationship between each entrance and station.\n",
    "\n",
    "The creation of two tables is to handle the many-to-many relationship between entrances and train stations. One station can have many entrances. While one entrance can lead to many stations\n",
    "\n",
    "For example Entrance A of MRT Kajang is also an entrance to KTM Kajang."
   ]
  },
  {
   "cell_type": "code",
   "execution_count": 1,
   "metadata": {},
   "outputs": [],
   "source": [
    "import geopandas as gpd\n",
    "import overpy\n",
    "import pandas as pd\n",
    "import os\n",
    "from datetime import date\n",
    "\n",
    "\n",
    "# initialize Overpass API\n",
    "api = overpy.Overpass()\n",
    "\n",
    "# DataFrames for entrances and station-entrance relationships\n",
    "entrances = pd.DataFrame(columns=['Entrance ID', 'Longitude','Latitude','Entrance Destination'])\n",
    "station_entrances = pd.DataFrame(columns=['Relationship ID', 'Entrance ID', 'Station Code','Station Name'])\n"
   ]
  },
  {
   "attachments": {},
   "cell_type": "markdown",
   "metadata": {},
   "source": [
    "## Query Subway Entrances in Malaysia\n",
    "\n",
    "We use the api.query() function to send a query to the Overpass API. This query searches within the administrative boundary of Malaysia for nodes that are tagged as subway_entrance in OpenStreetMap."
   ]
  },
  {
   "cell_type": "code",
   "execution_count": 2,
   "metadata": {},
   "outputs": [
    {
     "name": "stdout",
     "output_type": "stream",
     "text": [
      "Query completed 2024-05-04\n"
     ]
    }
   ],
   "source": [
    "\n",
    "# Query all subway entrances in Malaysia\n",
    "result_entrances = api.query(\"\"\"\n",
    "[out:json][timeout:25];\n",
    "area[\"name\"=\"Malaysia\"][\"boundary\"=\"administrative\"]->.searchArea;\n",
    "node[\"railway\"~\"subway_entrance|train_station_entrance\"](area.searchArea);\n",
    "out body;\n",
    "\"\"\")\n",
    "print(f'Query completed {date.today()}')\n"
   ]
  },
  {
   "attachments": {},
   "cell_type": "markdown",
   "metadata": {},
   "source": [
    "## Store Subway Entrance IDs and Coordinates\n",
    "\n",
    "We loop through the nodes returned by our query, which represent subway entrances, and add their ID and coordinates to our entrances list.\n",
    "\n"
   ]
  },
  {
   "cell_type": "code",
   "execution_count": 3,
   "metadata": {},
   "outputs": [],
   "source": [
    "\n",
    "# Store the subway_entrance object IDs and coordinates in df_entrances\n",
    "for node in result_entrances.nodes:\n",
    "    entrances = pd.concat(\n",
    "        [entrances, \n",
    "         pd.DataFrame([{'Entrance ID': node.id, \n",
    "                        'Entrance Name':node.tags.get('ref'),\n",
    "                        'Entrance Destination':node.tags.get('destination'),\n",
    "                        'Longitude':node.lon,\n",
    "                        'Latitude':node.lat}])], \n",
    "        ignore_index=True\n",
    "    )"
   ]
  },
  {
   "cell_type": "code",
   "execution_count": 4,
   "metadata": {},
   "outputs": [
    {
     "data": {
      "text/html": [
       "<div>\n",
       "<style scoped>\n",
       "    .dataframe tbody tr th:only-of-type {\n",
       "        vertical-align: middle;\n",
       "    }\n",
       "\n",
       "    .dataframe tbody tr th {\n",
       "        vertical-align: top;\n",
       "    }\n",
       "\n",
       "    .dataframe thead th {\n",
       "        text-align: right;\n",
       "    }\n",
       "</style>\n",
       "<table border=\"1\" class=\"dataframe\">\n",
       "  <thead>\n",
       "    <tr style=\"text-align: right;\">\n",
       "      <th></th>\n",
       "      <th>Entrance ID</th>\n",
       "      <th>Longitude</th>\n",
       "      <th>Latitude</th>\n",
       "      <th>Entrance Destination</th>\n",
       "      <th>Entrance Name</th>\n",
       "    </tr>\n",
       "  </thead>\n",
       "  <tbody>\n",
       "    <tr>\n",
       "      <th>238</th>\n",
       "      <td>11061429685</td>\n",
       "      <td>101.6720751</td>\n",
       "      <td>3.2146979</td>\n",
       "      <td>None</td>\n",
       "      <td>None</td>\n",
       "    </tr>\n",
       "  </tbody>\n",
       "</table>\n",
       "</div>"
      ],
      "text/plain": [
       "     Entrance ID    Longitude   Latitude Entrance Destination Entrance Name\n",
       "238  11061429685  101.6720751  3.2146979                 None          None"
      ]
     },
     "execution_count": 4,
     "metadata": {},
     "output_type": "execute_result"
    }
   ],
   "source": [
    "entrances[entrances['Entrance ID']==11061429685]"
   ]
  },
  {
   "attachments": {},
   "cell_type": "markdown",
   "metadata": {},
   "source": [
    "## Query Public Transport Relations in Malaysia"
   ]
  },
  {
   "cell_type": "code",
   "execution_count": 6,
   "metadata": {},
   "outputs": [
    {
     "name": "stdout",
     "output_type": "stream",
     "text": [
      "Query completed 2024-05-04\n"
     ]
    }
   ],
   "source": [
    "#  Query all relations in Malaysia\n",
    "result_relations = api.query(\"\"\"\n",
    "[out:json];\n",
    "area[\"name\"=\"Malaysia\"][\"boundary\"=\"administrative\"]->.searchArea;\n",
    "relation[\"type\"=\"public_transport\"](area.searchArea);\n",
    "out body;\n",
    "> ;\n",
    "out skel qt;\n",
    "\"\"\")\n",
    "print(f'Query completed {date.today()}')"
   ]
  },
  {
   "attachments": {},
   "cell_type": "markdown",
   "metadata": {},
   "source": [
    "## Link Subway Entrances to Public Transport Stations"
   ]
  },
  {
   "cell_type": "code",
   "execution_count": 7,
   "metadata": {},
   "outputs": [
    {
     "name": "stdout",
     "output_type": "stream",
     "text": [
      "     Entrance ID    Longitude   Latitude Entrance Destination Entrance Name\n",
      "0     1544031348  101.7113737  3.1459286                 None             B\n",
      "1     1631412559  101.6049325  3.1132076                 None          None\n",
      "2     1632120095  101.6943399  3.1423198                 None             E\n",
      "3     2278515570  101.6440770  3.0506498                 None          None\n",
      "4     2686635178  101.6991821  3.1385646                 None             C\n",
      "..           ...          ...        ...                  ...           ...\n",
      "265  11622373927  101.9404634  2.7191136                 None          None\n",
      "266  11768032038  101.6933203  3.1548719                 None          None\n",
      "267  11768421750  101.6930512  3.1548497                 None          None\n",
      "268  11871659779  101.6932905  3.1394769                 None             B\n",
      "269  11871659780  101.6934724  3.1400962                 None             A\n",
      "\n",
      "[270 rows x 5 columns]\n",
      "    Relationship ID  Entrance ID Station Code             Station Name\n",
      "0                 0  11435336038      AG8;SP8             Plaza Rakyat\n",
      "1                 1  10796851698    AG10;SP10                     Pudu\n",
      "2                 2   5485710279         KJ11             Kampung Baru\n",
      "3                 3   5485710278         KJ11             Kampung Baru\n",
      "4                 4  11052165913         KJ12               Dang Wangi\n",
      "..              ...          ...          ...                      ...\n",
      "277             277  10839997852         PY39          Cyberjaya Utara\n",
      "278             278  10658294223         PY30    Cyberjaya City Centre\n",
      "279             279  10722980582         PY41  Putrajaya Sentral (MRT)\n",
      "280             280   5044809585         PY23  Tun Razak Exchange (PY)\n",
      "281             281   5044809586         PY23  Tun Razak Exchange (PY)\n",
      "\n",
      "[282 rows x 4 columns]\n"
     ]
    }
   ],
   "source": [
    "# For each relation, check if it contains any of our entrances\n",
    "relationship_id = 0\n",
    "for relation in result_relations.relations:\n",
    "    station_id = relation.tags.get('ref', 'Unnamed')\n",
    "    station_name = relation.tags.get('name', 'Unnamed')\n",
    "    for member in relation.members:\n",
    "        if member.ref in entrances['Entrance ID'].values:\n",
    "            station_entrances = pd.concat(\n",
    "                [station_entrances,\n",
    "                 pd.DataFrame([{'Relationship ID': relationship_id, \n",
    "                                'Entrance ID': member.ref,\n",
    "                                'Station Name': station_name, \n",
    "                                'Station Code': station_id}])], \n",
    "                ignore_index=True\n",
    "            )\n",
    "            relationship_id += 1\n",
    "\n",
    "print(entrances)\n",
    "print(station_entrances)"
   ]
  },
  {
   "attachments": {},
   "cell_type": "markdown",
   "metadata": {},
   "source": [
    "## Save Found Dataset\n",
    "Finally, we will save the found entrances dataset to a new CSV file for use in creating our database"
   ]
  },
  {
   "cell_type": "code",
   "execution_count": 8,
   "metadata": {},
   "outputs": [],
   "source": [
    "# Define the directory where you want to save the cleaned data\n",
    "data_directory = 'data'\n",
    "kl_entrances_file = 'klang_valley_entrances.csv'\n",
    "kl_entrances__station_relations = 'klang_valley_stations_entrances_relation.csv'\n",
    "\n",
    "\n",
    "# Save the cleaned dataframes\n",
    "entrances.to_csv(os.path.join(data_directory, kl_entrances_file), index=False)\n",
    "station_entrances.to_csv(os.path.join(data_directory, kl_entrances__station_relations), index=False)"
   ]
  },
  {
   "attachments": {},
   "cell_type": "markdown",
   "metadata": {},
   "source": [
    "# Note\n",
    "\n",
    "We're aware that there are gaps in the data. Not all entrances are available and mapped in OSM. Addtional entrances must be added manually for a more complete dataset."
   ]
  }
 ],
 "metadata": {
  "interpreter": {
   "hash": "6c2c577300a283823fdaa3bb6febf40791e267aabde0cafde1043d84c9a16083"
  },
  "kernelspec": {
   "display_name": "Python 3.9.16 ('sql')",
   "language": "python",
   "name": "python3"
  },
  "language_info": {
   "codemirror_mode": {
    "name": "ipython",
    "version": 3
   },
   "file_extension": ".py",
   "mimetype": "text/x-python",
   "name": "python",
   "nbconvert_exporter": "python",
   "pygments_lexer": "ipython3",
   "version": "3.9.-1"
  },
  "orig_nbformat": 4
 },
 "nbformat": 4,
 "nbformat_minor": 2
}
