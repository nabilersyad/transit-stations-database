{
 "cells": [
  {
   "attachments": {},
   "cell_type": "markdown",
   "metadata": {},
   "source": [
    "# Exploring Subway Entrances in Malaysia with Overpass API and Python\n",
    "\n",
    "In this notebook, we will explore the locations of subway entrances within Klang Valley using data from OpenStreetMap (OSM). \n",
    "\n",
    "We will leverage the Overpass API, a read-only API that allows access to OSM data. Specifically, we will use Overpass' powerful querying capabilities to identify nodes tagged as `subway_entrance` within the boundary of Malaysia.\n",
    "\n",
    "Once we have collected the subway entrances, we will then identify which public transport stations these entrances are associated with. To achieve this, we will query OSM relations tagged as `public_transport`.\n",
    "\n",
    "The data will be processed and stored in a pandas DataFrame, enabling us to manipulate and analyze the data easily.\n",
    "\n",
    "The ultimate goal is to create a table of subway entrances, complete with their coordinates and associated station names, providing a clear understanding of the distribution of subway entrances across Malaysia.\n"
   ]
  },
  {
   "attachments": {},
   "cell_type": "markdown",
   "metadata": {},
   "source": [
    "## Initialize the Overpass API and variables"
   ]
  },
  {
   "cell_type": "code",
   "execution_count": 15,
   "metadata": {},
   "outputs": [],
   "source": [
    "import geopandas as gpd\n",
    "import overpy\n",
    "import pandas as pd\n",
    "import os\n",
    "\n",
    "# initialize Overpass API\n",
    "api = overpy.Overpass()\n",
    "\n",
    "# List to hold entrances information\n",
    "entrances = []\n",
    "\n"
   ]
  },
  {
   "attachments": {},
   "cell_type": "markdown",
   "metadata": {},
   "source": [
    "## Query Subway Entrances in Malaysia\n",
    "\n",
    "We use the api.query() function to send a query to the Overpass API. This query searches within the administrative boundary of Malaysia for nodes that are tagged as subway_entrance in OpenStreetMap."
   ]
  },
  {
   "cell_type": "code",
   "execution_count": 16,
   "metadata": {},
   "outputs": [],
   "source": [
    "\n",
    "result_entrances = api.query(\"\"\"\n",
    "[out:json][timeout:25];\n",
    "area[\"name\"=\"Malaysia\"][\"boundary\"=\"administrative\"]->.searchArea;\n",
    "node[\"railway\"=\"subway_entrance\"](area.searchArea);\n",
    "out body;\n",
    "\"\"\")\n"
   ]
  },
  {
   "attachments": {},
   "cell_type": "markdown",
   "metadata": {},
   "source": [
    "## Store Subway Entrance IDs and Coordinates\n",
    "\n",
    "We loop through the nodes returned by our query, which represent subway entrances, and add their ID and coordinates to our entrances list.\n",
    "\n"
   ]
  },
  {
   "cell_type": "code",
   "execution_count": 17,
   "metadata": {},
   "outputs": [],
   "source": [
    "\n",
    "# Store the subway_entrance object IDs and coordinates in a list\n",
    "for node in result_entrances.nodes:\n",
    "    entrances.append({'Entrance ID': node.id, \n",
    "                      'Entrance Name':node.tags.get('ref'),\n",
    "                      'Entrance Destination':node.tags.get('destination'),\n",
    "                      'Longitude':node.lon,\n",
    "                      'Latitude':node.lat,\n",
    "                      'Station Name': None})\n",
    "\n",
    "# Create a DataFrame\n",
    "entrances_data = pd.DataFrame(entrances)\n",
    "\n"
   ]
  },
  {
   "attachments": {},
   "cell_type": "markdown",
   "metadata": {},
   "source": [
    "## Query Public Transport Relations in Malaysia"
   ]
  },
  {
   "cell_type": "code",
   "execution_count": 18,
   "metadata": {},
   "outputs": [],
   "source": [
    "# Query all relations in Malaysia\n",
    "result_relations = api.query(\"\"\"\n",
    "[out:json][timeout:25];\n",
    "area[\"name\"=\"Malaysia\"][\"boundary\"=\"administrative\"]->.searchArea;\n",
    "relation[\"type\"=\"public_transport\"](area.searchArea);\n",
    "out body;\n",
    "> ;\n",
    "out skel qt;\n",
    "\"\"\")\n"
   ]
  },
  {
   "attachments": {},
   "cell_type": "markdown",
   "metadata": {},
   "source": [
    "## Link Subway Entrances to Public Transport Stations"
   ]
  },
  {
   "cell_type": "code",
   "execution_count": 19,
   "metadata": {},
   "outputs": [
    {
     "name": "stdout",
     "output_type": "stream",
     "text": [
      "     Entrance ID Entrance Name Entrance Destination    Longitude   Latitude  \\\n",
      "0     1544031348             B                 None  101.7113737  3.1459286   \n",
      "1     1631412559          None                 None  101.6049519  3.1132222   \n",
      "2     2278515570          None                 None  101.6440770  3.0506498   \n",
      "3     2686635178             C                 None  101.6991821  3.1385646   \n",
      "4     3308608988          None                 None  101.7127175  3.1587619   \n",
      "..           ...           ...                  ...          ...        ...   \n",
      "211  10839997852             A   Off Persiaran APEC  101.6572070  2.9497119   \n",
      "212  10860751179             D                 None  101.6952256  3.1732229   \n",
      "213  10864116957          None                 None  101.7314751  3.1651901   \n",
      "214  10949038882          None                 None  101.6808258  3.2376063   \n",
      "215  10949038884          None                 None  101.6814387  3.2377790   \n",
      "\n",
      "                 Station Name  \n",
      "0    Bukit Bintang (Monorail)  \n",
      "1                 Kelana Jaya  \n",
      "2                Kinrara BK 5  \n",
      "3                Maharajalela  \n",
      "4                        KLCC  \n",
      "..                        ...  \n",
      "211           Cyberjaya Utara  \n",
      "212          Titiwangsa (LRT)  \n",
      "213             Dato' Keramat  \n",
      "214                      None  \n",
      "215                      None  \n",
      "\n",
      "[216 rows x 6 columns]\n"
     ]
    }
   ],
   "source": [
    "\n",
    "# For each relation, check if it contains any of our entrances\n",
    "for relation in result_relations.relations:\n",
    "    for member in relation.members:\n",
    "        if member.ref in entrances_data['Entrance ID'].values:\n",
    "            entrances_data.loc[entrances_data['Entrance ID'] == member.ref, 'Station Name'] = relation.tags.get('name', 'Unnamed')\n",
    "\n",
    "print(entrances_data)"
   ]
  },
  {
   "attachments": {},
   "cell_type": "markdown",
   "metadata": {},
   "source": [
    "## Save Cleaned Datasets\n",
    "Finally, we will save the found entrances dataset to a new CSV file for use in creating our database"
   ]
  },
  {
   "cell_type": "code",
   "execution_count": 20,
   "metadata": {},
   "outputs": [],
   "source": [
    "# Define the directory where you want to save the cleaned data\n",
    "data_directory = 'data'\n",
    "kl_entrances_file = 'klang_valley_stations_entrances.csv'\n",
    "\n",
    "# Save the cleaned dataframes\n",
    "entrances_data.to_csv(os.path.join(data_directory, kl_entrances_file), index=False)"
   ]
  },
  {
   "cell_type": "code",
   "execution_count": null,
   "metadata": {},
   "outputs": [],
   "source": []
  }
 ],
 "metadata": {
  "kernelspec": {
   "display_name": "sql",
   "language": "python",
   "name": "python3"
  },
  "language_info": {
   "codemirror_mode": {
    "name": "ipython",
    "version": 3
   },
   "file_extension": ".py",
   "mimetype": "text/x-python",
   "name": "python",
   "nbconvert_exporter": "python",
   "pygments_lexer": "ipython3",
   "version": "3.9.16"
  },
  "orig_nbformat": 4
 },
 "nbformat": 4,
 "nbformat_minor": 2
}
