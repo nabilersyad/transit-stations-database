{
 "cells": [
  {
   "cell_type": "code",
   "execution_count": 12,
   "metadata": {},
   "outputs": [
    {
     "name": "stdout",
     "output_type": "stream",
     "text": [
      "Intel MKL WARNING: Support of Intel(R) Streaming SIMD Extensions 4.2 (Intel(R) SSE4.2) enabled only processors has been deprecated. Intel oneAPI Math Kernel Library 2025.0 will require Intel(R) Advanced Vector Extensions (Intel(R) AVX) instructions.\n",
      "Intel MKL WARNING: Support of Intel(R) Streaming SIMD Extensions 4.2 (Intel(R) SSE4.2) enabled only processors has been deprecated. Intel oneAPI Math Kernel Library 2025.0 will require Intel(R) Advanced Vector Extensions (Intel(R) AVX) instructions.\n"
     ]
    }
   ],
   "source": [
    "import os\n",
    "import pandas as pd\n",
    "from supabase import create_client, Client\n",
    "\n",
    "url: str = os.environ.get(\"SUPABASE_URL\")\n",
    "key: str = os.environ.get(\"SUPABASE_KEY\")\n",
    "supabase: Client = create_client(url, key)"
   ]
  },
  {
   "cell_type": "code",
   "execution_count": 13,
   "metadata": {},
   "outputs": [
    {
     "data": {
      "text/html": [
       "<div>\n",
       "<style scoped>\n",
       "    .dataframe tbody tr th:only-of-type {\n",
       "        vertical-align: middle;\n",
       "    }\n",
       "\n",
       "    .dataframe tbody tr th {\n",
       "        vertical-align: top;\n",
       "    }\n",
       "\n",
       "    .dataframe thead th {\n",
       "        text-align: right;\n",
       "    }\n",
       "</style>\n",
       "<table border=\"1\" class=\"dataframe\">\n",
       "  <thead>\n",
       "    <tr style=\"text-align: right;\">\n",
       "      <th></th>\n",
       "      <th>entrance_id</th>\n",
       "      <th>longitude</th>\n",
       "      <th>latitude</th>\n",
       "      <th>entrance_destination</th>\n",
       "      <th>entrance_name</th>\n",
       "      <th>geometry</th>\n",
       "    </tr>\n",
       "  </thead>\n",
       "  <tbody>\n",
       "    <tr>\n",
       "      <th>0</th>\n",
       "      <td>3308608988</td>\n",
       "      <td>101.712717</td>\n",
       "      <td>3.158762</td>\n",
       "      <td>None</td>\n",
       "      <td>None</td>\n",
       "      <td>POINT (101.71272 3.15876)</td>\n",
       "    </tr>\n",
       "    <tr>\n",
       "      <th>1</th>\n",
       "      <td>3308608989</td>\n",
       "      <td>101.712507</td>\n",
       "      <td>3.158809</td>\n",
       "      <td>None</td>\n",
       "      <td>None</td>\n",
       "      <td>POINT (101.71251 3.15881)</td>\n",
       "    </tr>\n",
       "    <tr>\n",
       "      <th>2</th>\n",
       "      <td>4092013971</td>\n",
       "      <td>101.614130</td>\n",
       "      <td>3.022231</td>\n",
       "      <td>None</td>\n",
       "      <td>None</td>\n",
       "      <td>POINT (101.61413 3.02223)</td>\n",
       "    </tr>\n",
       "    <tr>\n",
       "      <th>3</th>\n",
       "      <td>4400847336</td>\n",
       "      <td>101.698939</td>\n",
       "      <td>3.139210</td>\n",
       "      <td>None</td>\n",
       "      <td>A</td>\n",
       "      <td>POINT (101.69894 3.13921)</td>\n",
       "    </tr>\n",
       "    <tr>\n",
       "      <th>4</th>\n",
       "      <td>4952299503</td>\n",
       "      <td>101.732720</td>\n",
       "      <td>3.104671</td>\n",
       "      <td>None</td>\n",
       "      <td>B</td>\n",
       "      <td>POINT (101.73272 3.10467)</td>\n",
       "    </tr>\n",
       "    <tr>\n",
       "      <th>...</th>\n",
       "      <td>...</td>\n",
       "      <td>...</td>\n",
       "      <td>...</td>\n",
       "      <td>...</td>\n",
       "      <td>...</td>\n",
       "      <td>...</td>\n",
       "    </tr>\n",
       "    <tr>\n",
       "      <th>284</th>\n",
       "      <td>12076281187</td>\n",
       "      <td>101.681477</td>\n",
       "      <td>3.113727</td>\n",
       "      <td>None</td>\n",
       "      <td>None</td>\n",
       "      <td>POINT (101.68148 3.11373)</td>\n",
       "    </tr>\n",
       "    <tr>\n",
       "      <th>285</th>\n",
       "      <td>12076314945</td>\n",
       "      <td>101.704860</td>\n",
       "      <td>3.098311</td>\n",
       "      <td>None</td>\n",
       "      <td>None</td>\n",
       "      <td>POINT (101.70486 3.09831)</td>\n",
       "    </tr>\n",
       "    <tr>\n",
       "      <th>286</th>\n",
       "      <td>12084946657</td>\n",
       "      <td>101.710926</td>\n",
       "      <td>3.076792</td>\n",
       "      <td>None</td>\n",
       "      <td>None</td>\n",
       "      <td>POINT (101.71093 3.07679)</td>\n",
       "    </tr>\n",
       "    <tr>\n",
       "      <th>287</th>\n",
       "      <td>12084946658</td>\n",
       "      <td>101.711568</td>\n",
       "      <td>3.075897</td>\n",
       "      <td>None</td>\n",
       "      <td>None</td>\n",
       "      <td>POINT (101.71157 3.07590)</td>\n",
       "    </tr>\n",
       "    <tr>\n",
       "      <th>288</th>\n",
       "      <td>10778084768</td>\n",
       "      <td>101.716062</td>\n",
       "      <td>3.023411</td>\n",
       "      <td>None</td>\n",
       "      <td>None</td>\n",
       "      <td>POINT (101.71606 3.02341)</td>\n",
       "    </tr>\n",
       "  </tbody>\n",
       "</table>\n",
       "<p>289 rows × 6 columns</p>\n",
       "</div>"
      ],
      "text/plain": [
       "     entrance_id   longitude  latitude entrance_destination entrance_name  \\\n",
       "0     3308608988  101.712717  3.158762                 None          None   \n",
       "1     3308608989  101.712507  3.158809                 None          None   \n",
       "2     4092013971  101.614130  3.022231                 None          None   \n",
       "3     4400847336  101.698939  3.139210                 None             A   \n",
       "4     4952299503  101.732720  3.104671                 None             B   \n",
       "..           ...         ...       ...                  ...           ...   \n",
       "284  12076281187  101.681477  3.113727                 None          None   \n",
       "285  12076314945  101.704860  3.098311                 None          None   \n",
       "286  12084946657  101.710926  3.076792                 None          None   \n",
       "287  12084946658  101.711568  3.075897                 None          None   \n",
       "288  10778084768  101.716062  3.023411                 None          None   \n",
       "\n",
       "                      geometry  \n",
       "0    POINT (101.71272 3.15876)  \n",
       "1    POINT (101.71251 3.15881)  \n",
       "2    POINT (101.61413 3.02223)  \n",
       "3    POINT (101.69894 3.13921)  \n",
       "4    POINT (101.73272 3.10467)  \n",
       "..                         ...  \n",
       "284  POINT (101.68148 3.11373)  \n",
       "285  POINT (101.70486 3.09831)  \n",
       "286  POINT (101.71093 3.07679)  \n",
       "287  POINT (101.71157 3.07590)  \n",
       "288  POINT (101.71606 3.02341)  \n",
       "\n",
       "[289 rows x 6 columns]"
      ]
     },
     "execution_count": 13,
     "metadata": {},
     "output_type": "execute_result"
    }
   ],
   "source": [
    "import geopandas as gpd\n",
    "from shapely.geometry import Point\n",
    "\n",
    "\n",
    "\n",
    "response = supabase.table('entrances').select(\"*\").execute()\n",
    "data,_ = response\n",
    "\n",
    "entrances_df = pd.DataFrame(data[1])\n",
    "# Create a new column in your DataFrame for the geographic data\n",
    "entrances_df['geometry'] = [Point(xy) for xy in zip(entrances_df['longitude'], entrances_df['latitude'])]\n",
    "\n",
    "# Convert the DataFrame to a GeoDataFrame\n",
    "entrances_gdf = gpd.GeoDataFrame(entrances_df, geometry='geometry')\n",
    "# Set the coordinate reference system (CRS) to EPSG:4326 (WGS84)\n",
    "entrances_gdf.crs = \"EPSG:4326\"\n",
    "\n",
    "entrances_gdf"
   ]
  },
  {
   "cell_type": "code",
   "execution_count": 52,
   "metadata": {},
   "outputs": [],
   "source": [
    "#library to call Open Route Service(ORS)'s client and requests\n",
    "from openrouteservice import client\n",
    "import os\n",
    "#Personal api_key stored in a config.py file that is in gitignore. Uncomment the following and provide your own ORS api for your own use\n",
    "## api_key = \"you api key \" #Provide your personal API key\n",
    "ors_key: str = os.environ.get('ORS_KEY')\n",
    "\n",
    "\n",
    "ors_client = client.Client(key='ors_key') "
   ]
  },
  {
   "cell_type": "code",
   "execution_count": 55,
   "metadata": {},
   "outputs": [
    {
     "data": {
      "text/plain": [
       "101.7127175"
      ]
     },
     "execution_count": 55,
     "metadata": {},
     "output_type": "execute_result"
    }
   ],
   "source": [
    "entrances_gdf.iloc[0]['geometry'].coords[0][0]"
   ]
  },
  {
   "cell_type": "code",
   "execution_count": 57,
   "metadata": {},
   "outputs": [
    {
     "data": {
      "text/plain": [
       "[101.7127175, 3.1587619]"
      ]
     },
     "execution_count": 57,
     "metadata": {},
     "output_type": "execute_result"
    }
   ],
   "source": [
    "[entrances_gdf.iloc[0]['geometry'].coords[0][0],entrances_gdf.iloc[0]['geometry'].coords[0][1]]"
   ]
  },
  {
   "cell_type": "code",
   "execution_count": 61,
   "metadata": {},
   "outputs": [],
   "source": [
    "isochrone_params = {\n",
    "              'profile': 'foot-walking', \n",
    "              'range': [900], # 900/60 = 15 mins\n",
    "              'interval': 300,\n",
    "              'attributes': ['area', 'reachfactor', 'total_pop'] # Get population count for isochrones\n",
    "             }\n",
    "isochrone_params['locations'] = [[entrances_gdf.iloc[0]['geometry'].coords[0][0],entrances_gdf.iloc[0]['geometry'].coords[0][1]]]\n",
    "\n",
    "temp_iso = ors_client.isochrones(**isochrone_params)\n"
   ]
  },
  {
   "cell_type": "code",
   "execution_count": 44,
   "metadata": {},
   "outputs": [],
   "source": [
    "def isoGeoJsonRetriever(parameters,stations,client):\n",
    "\n",
    "    #ORS isochrones API takes input list of coordinates in field called location. This line creates that column\n",
    "    stations['locations']  = stations.apply(lambda row: list([row.loc[\"longitude\"],row.loc[\"latitude\"]]) , axis = 1)\n",
    "    iso_list = []\n",
    "\n",
    "    for index, row in stations.iterrows():\n",
    "        print(\"Retrieving Isochrone of {} station\".format(stations.loc[index,'name']))\n",
    "        parameters['locations'] = [row.loc['locations']]\n",
    "    \n",
    "        try:\n",
    "            temp_iso = client.isochrones(**parameters)\n",
    "            temp_iso = json.dumps(temp_iso)\n",
    "            iso_list.append(temp_iso)\n",
    "            print(\"Success\")\n",
    "        except Exception as e:\n",
    "            print(f\"Failed to retrieve isochrone for station {stations.loc[index,'name']}: {e}\")\n",
    "            iso_list.append(None)  # or some other default value\n",
    "    \n",
    "    stations['iso'] = iso_list\n",
    "\n",
    "    return\n"
   ]
  },
  {
   "cell_type": "code",
   "execution_count": null,
   "metadata": {},
   "outputs": [],
   "source": []
  }
 ],
 "metadata": {
  "kernelspec": {
   "display_name": "sql",
   "language": "python",
   "name": "python3"
  },
  "language_info": {
   "codemirror_mode": {
    "name": "ipython",
    "version": 3
   },
   "file_extension": ".py",
   "mimetype": "text/x-python",
   "name": "python",
   "nbconvert_exporter": "python",
   "pygments_lexer": "ipython3",
   "version": "3.9.16"
  }
 },
 "nbformat": 4,
 "nbformat_minor": 2
}
