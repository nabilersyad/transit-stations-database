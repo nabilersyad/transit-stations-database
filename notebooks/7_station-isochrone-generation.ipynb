{
 "cells": [
  {
   "cell_type": "markdown",
   "metadata": {},
   "source": [
    "# Station isochrone Generation\n",
    "\n",
    "This notebook aims to try and generate isochrones of train stations\n",
    "\n",
    "It will first attempt to merge isochrones of station entrances where available\n",
    "\n",
    "Otherwise it will be a simple isochrone generation of the approximate centre of the station\n",
    "\n"
   ]
  },
  {
   "cell_type": "code",
   "execution_count": 7,
   "metadata": {},
   "outputs": [],
   "source": [
    "#setting up supabase client\n",
    "import os\n",
    "import pandas as pd\n",
    "from supabase import create_client, Client\n",
    "\n",
    "#in the py webapp, keys will be stored in github secrets\n",
    "url: str = os.environ.get(\"SUPABASE_URL\")\n",
    "key: str = os.environ.get(\"SUPABASE_KEY\")\n",
    "supabase: Client = create_client(url, key)"
   ]
  },
  {
   "cell_type": "code",
   "execution_count": 3,
   "metadata": {},
   "outputs": [],
   "source": [
    "#library to call Open Route Service(ORS)'s client and requests\n",
    "from openrouteservice import client\n",
    "import os\n",
    "\n",
    "import sys\n",
    "\n",
    "# Get the path of the parent directory (the root of the project)\n",
    "module_path = os.path.abspath(os.path.join('..'))\n",
    "\n",
    "# Add the parent directory to sys.path\n",
    "sys.path.append(module_path)\n",
    "\n",
    "# Now you can import key.py, this is only done for testing purposes. actual live version should be stored in secret github\n",
    "from key import ORS_KEY\n",
    "\n",
    "#Personal api_key stored in a key.py file that is in gitignore. Uncomment the following and provide your own ORS api for your own use\n",
    "## api_key = \"you api key \" #Provide your personal API key\n",
    "ors_key: str = ORS_KEY\n",
    "\n",
    "\n",
    "ors_client = client.Client(key=ors_key) "
   ]
  },
  {
   "cell_type": "markdown",
   "metadata": {},
   "source": [
    "# Querying station entrances from Supabase\n",
    "\n",
    "\n",
    "The following blocks will load the various relevant tables from Supabase"
   ]
  },
  {
   "cell_type": "code",
   "execution_count": 14,
   "metadata": {},
   "outputs": [
    {
     "data": {
      "text/html": [
       "<div>\n",
       "<style scoped>\n",
       "    .dataframe tbody tr th:only-of-type {\n",
       "        vertical-align: middle;\n",
       "    }\n",
       "\n",
       "    .dataframe tbody tr th {\n",
       "        vertical-align: top;\n",
       "    }\n",
       "\n",
       "    .dataframe thead th {\n",
       "        text-align: right;\n",
       "    }\n",
       "</style>\n",
       "<table border=\"1\" class=\"dataframe\">\n",
       "  <thead>\n",
       "    <tr style=\"text-align: right;\">\n",
       "      <th></th>\n",
       "      <th>isochrone_id</th>\n",
       "      <th>value</th>\n",
       "      <th>center</th>\n",
       "      <th>area</th>\n",
       "      <th>reachfactor</th>\n",
       "      <th>total_pop</th>\n",
       "      <th>type</th>\n",
       "      <th>entrance_id</th>\n",
       "      <th>geometry</th>\n",
       "    </tr>\n",
       "  </thead>\n",
       "  <tbody>\n",
       "    <tr>\n",
       "      <th>0</th>\n",
       "      <td>3308608988900</td>\n",
       "      <td>900</td>\n",
       "      <td>[101.71272677986722, 3.158791494667739]</td>\n",
       "      <td>2964181.86</td>\n",
       "      <td>0.9435</td>\n",
       "      <td>42510</td>\n",
       "      <td>Polygon</td>\n",
       "      <td>3308608988</td>\n",
       "      <td>POLYGON ((101.70289 3.15823, 101.70243 3.15634...</td>\n",
       "    </tr>\n",
       "    <tr>\n",
       "      <th>1</th>\n",
       "      <td>3308608988300</td>\n",
       "      <td>300</td>\n",
       "      <td>[101.71272677986722, 3.158791494667739]</td>\n",
       "      <td>356944.49</td>\n",
       "      <td>1.0000</td>\n",
       "      <td>5009</td>\n",
       "      <td>Polygon</td>\n",
       "      <td>3308608988</td>\n",
       "      <td>POLYGON ((101.70929 3.15881, 101.70934 3.15874...</td>\n",
       "    </tr>\n",
       "    <tr>\n",
       "      <th>2</th>\n",
       "      <td>3308608988600</td>\n",
       "      <td>600</td>\n",
       "      <td>[101.71272677986722, 3.158791494667739]</td>\n",
       "      <td>1365017.65</td>\n",
       "      <td>0.9776</td>\n",
       "      <td>19193</td>\n",
       "      <td>Polygon</td>\n",
       "      <td>3308608988</td>\n",
       "      <td>POLYGON ((101.70599 3.15737, 101.70598 3.15725...</td>\n",
       "    </tr>\n",
       "    <tr>\n",
       "      <th>3</th>\n",
       "      <td>3308608989300</td>\n",
       "      <td>300</td>\n",
       "      <td>[101.7125217751169, 3.1588555818871913]</td>\n",
       "      <td>337860.68</td>\n",
       "      <td>0.9679</td>\n",
       "      <td>4774</td>\n",
       "      <td>Polygon</td>\n",
       "      <td>3308608989</td>\n",
       "      <td>POLYGON ((101.70906 3.15892, 101.70922 3.15865...</td>\n",
       "    </tr>\n",
       "    <tr>\n",
       "      <th>4</th>\n",
       "      <td>3308608989600</td>\n",
       "      <td>600</td>\n",
       "      <td>[101.7125217751169, 3.1588555818871913]</td>\n",
       "      <td>1362846.78</td>\n",
       "      <td>0.9761</td>\n",
       "      <td>18751</td>\n",
       "      <td>Polygon</td>\n",
       "      <td>3308608989</td>\n",
       "      <td>POLYGON ((101.70580 3.15729, 101.70579 3.15715...</td>\n",
       "    </tr>\n",
       "    <tr>\n",
       "      <th>...</th>\n",
       "      <td>...</td>\n",
       "      <td>...</td>\n",
       "      <td>...</td>\n",
       "      <td>...</td>\n",
       "      <td>...</td>\n",
       "      <td>...</td>\n",
       "      <td>...</td>\n",
       "      <td>...</td>\n",
       "      <td>...</td>\n",
       "    </tr>\n",
       "    <tr>\n",
       "      <th>877</th>\n",
       "      <td>12182196430600</td>\n",
       "      <td>600</td>\n",
       "      <td>[101.72715278646551, 3.123366156533917]</td>\n",
       "      <td>1266713.44</td>\n",
       "      <td>0.9072</td>\n",
       "      <td>9056</td>\n",
       "      <td>Polygon</td>\n",
       "      <td>12182196430</td>\n",
       "      <td>POLYGON ((101.72167 3.12239, 101.72191 3.12213...</td>\n",
       "    </tr>\n",
       "    <tr>\n",
       "      <th>878</th>\n",
       "      <td>12182196430900</td>\n",
       "      <td>900</td>\n",
       "      <td>[101.72715278646551, 3.123366156533917]</td>\n",
       "      <td>2972398.37</td>\n",
       "      <td>0.9461</td>\n",
       "      <td>23787</td>\n",
       "      <td>Polygon</td>\n",
       "      <td>12182196430</td>\n",
       "      <td>POLYGON ((101.71862 3.12433, 101.71860 3.12223...</td>\n",
       "    </tr>\n",
       "    <tr>\n",
       "      <th>879</th>\n",
       "      <td>12191934049300</td>\n",
       "      <td>300</td>\n",
       "      <td>[101.73887678477966, 3.130344012142177]</td>\n",
       "      <td>106447.13</td>\n",
       "      <td>0.3049</td>\n",
       "      <td>1406</td>\n",
       "      <td>Polygon</td>\n",
       "      <td>12191934049</td>\n",
       "      <td>POLYGON ((101.73711 3.13201, 101.73740 3.13131...</td>\n",
       "    </tr>\n",
       "    <tr>\n",
       "      <th>880</th>\n",
       "      <td>12191934049600</td>\n",
       "      <td>600</td>\n",
       "      <td>[101.73887678477966, 3.130344012142177]</td>\n",
       "      <td>463494.89</td>\n",
       "      <td>0.3320</td>\n",
       "      <td>5604</td>\n",
       "      <td>Polygon</td>\n",
       "      <td>12191934049</td>\n",
       "      <td>POLYGON ((101.73501 3.13384, 101.73810 3.12974...</td>\n",
       "    </tr>\n",
       "    <tr>\n",
       "      <th>881</th>\n",
       "      <td>12191934049900</td>\n",
       "      <td>900</td>\n",
       "      <td>[101.73887678477966, 3.130344012142177]</td>\n",
       "      <td>1260459.73</td>\n",
       "      <td>0.4012</td>\n",
       "      <td>16264</td>\n",
       "      <td>Polygon</td>\n",
       "      <td>12191934049</td>\n",
       "      <td>POLYGON ((101.73130 3.13372, 101.73131 3.13365...</td>\n",
       "    </tr>\n",
       "  </tbody>\n",
       "</table>\n",
       "<p>882 rows × 9 columns</p>\n",
       "</div>"
      ],
      "text/plain": [
       "       isochrone_id  value                                   center  \\\n",
       "0     3308608988900    900  [101.71272677986722, 3.158791494667739]   \n",
       "1     3308608988300    300  [101.71272677986722, 3.158791494667739]   \n",
       "2     3308608988600    600  [101.71272677986722, 3.158791494667739]   \n",
       "3     3308608989300    300  [101.7125217751169, 3.1588555818871913]   \n",
       "4     3308608989600    600  [101.7125217751169, 3.1588555818871913]   \n",
       "..              ...    ...                                      ...   \n",
       "877  12182196430600    600  [101.72715278646551, 3.123366156533917]   \n",
       "878  12182196430900    900  [101.72715278646551, 3.123366156533917]   \n",
       "879  12191934049300    300  [101.73887678477966, 3.130344012142177]   \n",
       "880  12191934049600    600  [101.73887678477966, 3.130344012142177]   \n",
       "881  12191934049900    900  [101.73887678477966, 3.130344012142177]   \n",
       "\n",
       "           area  reachfactor  total_pop     type  entrance_id  \\\n",
       "0    2964181.86       0.9435      42510  Polygon   3308608988   \n",
       "1     356944.49       1.0000       5009  Polygon   3308608988   \n",
       "2    1365017.65       0.9776      19193  Polygon   3308608988   \n",
       "3     337860.68       0.9679       4774  Polygon   3308608989   \n",
       "4    1362846.78       0.9761      18751  Polygon   3308608989   \n",
       "..          ...          ...        ...      ...          ...   \n",
       "877  1266713.44       0.9072       9056  Polygon  12182196430   \n",
       "878  2972398.37       0.9461      23787  Polygon  12182196430   \n",
       "879   106447.13       0.3049       1406  Polygon  12191934049   \n",
       "880   463494.89       0.3320       5604  Polygon  12191934049   \n",
       "881  1260459.73       0.4012      16264  Polygon  12191934049   \n",
       "\n",
       "                                              geometry  \n",
       "0    POLYGON ((101.70289 3.15823, 101.70243 3.15634...  \n",
       "1    POLYGON ((101.70929 3.15881, 101.70934 3.15874...  \n",
       "2    POLYGON ((101.70599 3.15737, 101.70598 3.15725...  \n",
       "3    POLYGON ((101.70906 3.15892, 101.70922 3.15865...  \n",
       "4    POLYGON ((101.70580 3.15729, 101.70579 3.15715...  \n",
       "..                                                 ...  \n",
       "877  POLYGON ((101.72167 3.12239, 101.72191 3.12213...  \n",
       "878  POLYGON ((101.71862 3.12433, 101.71860 3.12223...  \n",
       "879  POLYGON ((101.73711 3.13201, 101.73740 3.13131...  \n",
       "880  POLYGON ((101.73501 3.13384, 101.73810 3.12974...  \n",
       "881  POLYGON ((101.73130 3.13372, 101.73131 3.13365...  \n",
       "\n",
       "[882 rows x 9 columns]"
      ]
     },
     "execution_count": 14,
     "metadata": {},
     "output_type": "execute_result"
    }
   ],
   "source": [
    "import geopandas as gpd\n",
    "from shapely.geometry import Point\n",
    "\n",
    "#query to supabase using the previous supabase client that was declared\n",
    "response_entrances_isochrones = supabase.table('entrances_isochrones').select(\"*\").execute()\n",
    "\n",
    "data,_ = response_entrances_isochrones\n",
    "entrances_isochrones_df = pd.DataFrame(data[1])\n",
    "\n",
    "# Convert the geometry column from dictionaries to shapely Polygons\n",
    "entrances_isochrones_df['geometry'] = entrances_isochrones_df['geometry'].apply(lambda geom: shape(geom))\n",
    "\n",
    "# Convert the DataFrame to a GeoDataFrame\n",
    "entrances_isochrones_gdf = gpd.GeoDataFrame(entrances_isochrones_df, geometry='geometry', crs='EPSG:4326')\n",
    "\n",
    "\n",
    "entrances_isochrones_gdf"
   ]
  },
  {
   "cell_type": "code",
   "execution_count": 6,
   "metadata": {},
   "outputs": [
    {
     "data": {
      "text/html": [
       "<div>\n",
       "<style scoped>\n",
       "    .dataframe tbody tr th:only-of-type {\n",
       "        vertical-align: middle;\n",
       "    }\n",
       "\n",
       "    .dataframe tbody tr th {\n",
       "        vertical-align: top;\n",
       "    }\n",
       "\n",
       "    .dataframe thead th {\n",
       "        text-align: right;\n",
       "    }\n",
       "</style>\n",
       "<table border=\"1\" class=\"dataframe\">\n",
       "  <thead>\n",
       "    <tr style=\"text-align: right;\">\n",
       "      <th></th>\n",
       "      <th>name</th>\n",
       "      <th>station_code</th>\n",
       "      <th>service_provider_name</th>\n",
       "      <th>latitude</th>\n",
       "      <th>longitude</th>\n",
       "      <th>route_id</th>\n",
       "      <th>route_name</th>\n",
       "      <th>line_number</th>\n",
       "      <th>line_colour</th>\n",
       "      <th>colour_hex_code</th>\n",
       "      <th>region</th>\n",
       "      <th>odonym</th>\n",
       "      <th>namesake</th>\n",
       "      <th>opened</th>\n",
       "      <th>station_id</th>\n",
       "      <th>geometry</th>\n",
       "    </tr>\n",
       "  </thead>\n",
       "  <tbody>\n",
       "    <tr>\n",
       "      <th>0</th>\n",
       "      <td>Kuala Lumpur</td>\n",
       "      <td>KA02</td>\n",
       "      <td>Keretapi Tanah Melayu</td>\n",
       "      <td>3.139513</td>\n",
       "      <td>101.693789</td>\n",
       "      <td>KA</td>\n",
       "      <td>Seremban Line</td>\n",
       "      <td>1</td>\n",
       "      <td>Blue</td>\n",
       "      <td>#0000FF</td>\n",
       "      <td>Klang Valley</td>\n",
       "      <td>None</td>\n",
       "      <td>None</td>\n",
       "      <td>None</td>\n",
       "      <td>1</td>\n",
       "      <td>POINT (101.69379 3.13951)</td>\n",
       "    </tr>\n",
       "    <tr>\n",
       "      <th>1</th>\n",
       "      <td>Bank Negara</td>\n",
       "      <td>KA03</td>\n",
       "      <td>Keretapi Tanah Melayu</td>\n",
       "      <td>3.154542</td>\n",
       "      <td>101.693010</td>\n",
       "      <td>KA</td>\n",
       "      <td>Seremban Line</td>\n",
       "      <td>1</td>\n",
       "      <td>Blue</td>\n",
       "      <td>#0000FF</td>\n",
       "      <td>Klang Valley</td>\n",
       "      <td>None</td>\n",
       "      <td>None</td>\n",
       "      <td>None</td>\n",
       "      <td>2</td>\n",
       "      <td>POINT (101.69301 3.15454)</td>\n",
       "    </tr>\n",
       "    <tr>\n",
       "      <th>2</th>\n",
       "      <td>Putra</td>\n",
       "      <td>KA04</td>\n",
       "      <td>Keretapi Tanah Melayu</td>\n",
       "      <td>3.165005</td>\n",
       "      <td>101.691234</td>\n",
       "      <td>KA</td>\n",
       "      <td>Seremban Line</td>\n",
       "      <td>1</td>\n",
       "      <td>Blue</td>\n",
       "      <td>#0000FF</td>\n",
       "      <td>Klang Valley</td>\n",
       "      <td>None</td>\n",
       "      <td>None</td>\n",
       "      <td>None</td>\n",
       "      <td>3</td>\n",
       "      <td>POINT (101.69123 3.16500)</td>\n",
       "    </tr>\n",
       "    <tr>\n",
       "      <th>3</th>\n",
       "      <td>Mid Valley</td>\n",
       "      <td>KB01</td>\n",
       "      <td>Keretapi Tanah Melayu</td>\n",
       "      <td>3.118528</td>\n",
       "      <td>101.678985</td>\n",
       "      <td>KB</td>\n",
       "      <td>Seremban Line</td>\n",
       "      <td>1</td>\n",
       "      <td>Blue</td>\n",
       "      <td>#0000FF</td>\n",
       "      <td>Klang Valley</td>\n",
       "      <td>None</td>\n",
       "      <td>None</td>\n",
       "      <td>None</td>\n",
       "      <td>4</td>\n",
       "      <td>POINT (101.67899 3.11853)</td>\n",
       "    </tr>\n",
       "    <tr>\n",
       "      <th>4</th>\n",
       "      <td>Seputeh</td>\n",
       "      <td>KB02</td>\n",
       "      <td>Keretapi Tanah Melayu</td>\n",
       "      <td>3.113697</td>\n",
       "      <td>101.681299</td>\n",
       "      <td>KB</td>\n",
       "      <td>Seremban Line</td>\n",
       "      <td>1</td>\n",
       "      <td>Blue</td>\n",
       "      <td>#0000FF</td>\n",
       "      <td>Klang Valley</td>\n",
       "      <td>None</td>\n",
       "      <td>None</td>\n",
       "      <td>None</td>\n",
       "      <td>5</td>\n",
       "      <td>POINT (101.68130 3.11370)</td>\n",
       "    </tr>\n",
       "    <tr>\n",
       "      <th>...</th>\n",
       "      <td>...</td>\n",
       "      <td>...</td>\n",
       "      <td>...</td>\n",
       "      <td>...</td>\n",
       "      <td>...</td>\n",
       "      <td>...</td>\n",
       "      <td>...</td>\n",
       "      <td>...</td>\n",
       "      <td>...</td>\n",
       "      <td>...</td>\n",
       "      <td>...</td>\n",
       "      <td>...</td>\n",
       "      <td>...</td>\n",
       "      <td>...</td>\n",
       "      <td>...</td>\n",
       "      <td>...</td>\n",
       "    </tr>\n",
       "    <tr>\n",
       "      <th>254</th>\n",
       "      <td>Sri Andalas</td>\n",
       "      <td>JS22</td>\n",
       "      <td>Rapid KL</td>\n",
       "      <td>3.015225</td>\n",
       "      <td>101.440441</td>\n",
       "      <td>JS</td>\n",
       "      <td>LRT3</td>\n",
       "      <td>11</td>\n",
       "      <td>Sky Blue</td>\n",
       "      <td>#88cffa</td>\n",
       "      <td>Klang Valley</td>\n",
       "      <td>None</td>\n",
       "      <td>None</td>\n",
       "      <td>None</td>\n",
       "      <td>255</td>\n",
       "      <td>POINT (101.44044 3.01522)</td>\n",
       "    </tr>\n",
       "    <tr>\n",
       "      <th>255</th>\n",
       "      <td>Klang Jaya</td>\n",
       "      <td>JS23</td>\n",
       "      <td>Rapid KL</td>\n",
       "      <td>3.005072</td>\n",
       "      <td>101.442081</td>\n",
       "      <td>JS</td>\n",
       "      <td>LRT3</td>\n",
       "      <td>11</td>\n",
       "      <td>Sky Blue</td>\n",
       "      <td>#88cffa</td>\n",
       "      <td>Klang Valley</td>\n",
       "      <td>None</td>\n",
       "      <td>None</td>\n",
       "      <td>None</td>\n",
       "      <td>256</td>\n",
       "      <td>POINT (101.44208 3.00507)</td>\n",
       "    </tr>\n",
       "    <tr>\n",
       "      <th>256</th>\n",
       "      <td>Bandar Bukit Tinggi</td>\n",
       "      <td>JS24</td>\n",
       "      <td>Rapid KL</td>\n",
       "      <td>2.993526</td>\n",
       "      <td>101.446175</td>\n",
       "      <td>JS</td>\n",
       "      <td>LRT3</td>\n",
       "      <td>11</td>\n",
       "      <td>Sky Blue</td>\n",
       "      <td>#88cffa</td>\n",
       "      <td>Klang Valley</td>\n",
       "      <td>None</td>\n",
       "      <td>None</td>\n",
       "      <td>None</td>\n",
       "      <td>257</td>\n",
       "      <td>POINT (101.44617 2.99353)</td>\n",
       "    </tr>\n",
       "    <tr>\n",
       "      <th>257</th>\n",
       "      <td>Johan Setia</td>\n",
       "      <td>JS26</td>\n",
       "      <td>Rapid KL</td>\n",
       "      <td>2.975436</td>\n",
       "      <td>101.460718</td>\n",
       "      <td>JS</td>\n",
       "      <td>LRT3</td>\n",
       "      <td>11</td>\n",
       "      <td>Sky Blue</td>\n",
       "      <td>#88cffa</td>\n",
       "      <td>Klang Valley</td>\n",
       "      <td>None</td>\n",
       "      <td>None</td>\n",
       "      <td>None</td>\n",
       "      <td>258</td>\n",
       "      <td>POINT (101.46072 2.97544)</td>\n",
       "    </tr>\n",
       "    <tr>\n",
       "      <th>258</th>\n",
       "      <td>KL Sentral</td>\n",
       "      <td>KA01</td>\n",
       "      <td>Keretapi Tanah Melayu</td>\n",
       "      <td>3.134603</td>\n",
       "      <td>101.686567</td>\n",
       "      <td>KA</td>\n",
       "      <td>Seremban Line</td>\n",
       "      <td>1</td>\n",
       "      <td>Blue</td>\n",
       "      <td>#0000FF</td>\n",
       "      <td>Klang Valley</td>\n",
       "      <td>None</td>\n",
       "      <td>None</td>\n",
       "      <td>None</td>\n",
       "      <td>0</td>\n",
       "      <td>POINT (101.68657 3.13460)</td>\n",
       "    </tr>\n",
       "  </tbody>\n",
       "</table>\n",
       "<p>259 rows × 16 columns</p>\n",
       "</div>"
      ],
      "text/plain": [
       "                    name station_code  service_provider_name  latitude  \\\n",
       "0           Kuala Lumpur         KA02  Keretapi Tanah Melayu  3.139513   \n",
       "1            Bank Negara         KA03  Keretapi Tanah Melayu  3.154542   \n",
       "2                  Putra         KA04  Keretapi Tanah Melayu  3.165005   \n",
       "3             Mid Valley         KB01  Keretapi Tanah Melayu  3.118528   \n",
       "4                Seputeh         KB02  Keretapi Tanah Melayu  3.113697   \n",
       "..                   ...          ...                    ...       ...   \n",
       "254          Sri Andalas         JS22               Rapid KL  3.015225   \n",
       "255           Klang Jaya         JS23               Rapid KL  3.005072   \n",
       "256  Bandar Bukit Tinggi         JS24               Rapid KL  2.993526   \n",
       "257          Johan Setia         JS26               Rapid KL  2.975436   \n",
       "258           KL Sentral         KA01  Keretapi Tanah Melayu  3.134603   \n",
       "\n",
       "      longitude route_id     route_name line_number line_colour  \\\n",
       "0    101.693789       KA  Seremban Line           1        Blue   \n",
       "1    101.693010       KA  Seremban Line           1        Blue   \n",
       "2    101.691234       KA  Seremban Line           1        Blue   \n",
       "3    101.678985       KB  Seremban Line           1        Blue   \n",
       "4    101.681299       KB  Seremban Line           1        Blue   \n",
       "..          ...      ...            ...         ...         ...   \n",
       "254  101.440441       JS           LRT3          11    Sky Blue   \n",
       "255  101.442081       JS           LRT3          11    Sky Blue   \n",
       "256  101.446175       JS           LRT3          11    Sky Blue   \n",
       "257  101.460718       JS           LRT3          11    Sky Blue   \n",
       "258  101.686567       KA  Seremban Line           1        Blue   \n",
       "\n",
       "    colour_hex_code        region odonym namesake opened  station_id  \\\n",
       "0           #0000FF  Klang Valley   None     None   None           1   \n",
       "1           #0000FF  Klang Valley   None     None   None           2   \n",
       "2           #0000FF  Klang Valley   None     None   None           3   \n",
       "3           #0000FF  Klang Valley   None     None   None           4   \n",
       "4           #0000FF  Klang Valley   None     None   None           5   \n",
       "..              ...           ...    ...      ...    ...         ...   \n",
       "254         #88cffa  Klang Valley   None     None   None         255   \n",
       "255         #88cffa  Klang Valley   None     None   None         256   \n",
       "256         #88cffa  Klang Valley   None     None   None         257   \n",
       "257         #88cffa  Klang Valley   None     None   None         258   \n",
       "258         #0000FF  Klang Valley   None     None   None           0   \n",
       "\n",
       "                      geometry  \n",
       "0    POINT (101.69379 3.13951)  \n",
       "1    POINT (101.69301 3.15454)  \n",
       "2    POINT (101.69123 3.16500)  \n",
       "3    POINT (101.67899 3.11853)  \n",
       "4    POINT (101.68130 3.11370)  \n",
       "..                         ...  \n",
       "254  POINT (101.44044 3.01522)  \n",
       "255  POINT (101.44208 3.00507)  \n",
       "256  POINT (101.44617 2.99353)  \n",
       "257  POINT (101.46072 2.97544)  \n",
       "258  POINT (101.68657 3.13460)  \n",
       "\n",
       "[259 rows x 16 columns]"
      ]
     },
     "execution_count": 6,
     "metadata": {},
     "output_type": "execute_result"
    }
   ],
   "source": [
    "#query to supabase using the previous supabase client that was declared\n",
    "response_stations = supabase.table('stations').select(\"*\").eq('region','Klang Valley').execute()\n",
    "\n",
    "data,_ = response_stations\n",
    "\n",
    "stations_df = pd.DataFrame(data[1])\n",
    "# Create a new column in your DataFrame for the geographic data\n",
    "stations_df['geometry'] = [Point(xy) for xy in zip(stations_df['longitude'], stations_df['latitude'])]\n",
    "\n",
    "# Convert the DataFrame to a GeoDataFrame\n",
    "stations_gdf = gpd.GeoDataFrame(stations_df, geometry='geometry')\n",
    "# Set the coordinate reference system (CRS) to EPSG:4326 (WGS84)\n",
    "stations_gdf.crs = \"EPSG:4326\"\n",
    "\n",
    "stations_gdf"
   ]
  },
  {
   "cell_type": "code",
   "execution_count": 18,
   "metadata": {},
   "outputs": [
    {
     "data": {
      "text/html": [
       "<div>\n",
       "<style scoped>\n",
       "    .dataframe tbody tr th:only-of-type {\n",
       "        vertical-align: middle;\n",
       "    }\n",
       "\n",
       "    .dataframe tbody tr th {\n",
       "        vertical-align: top;\n",
       "    }\n",
       "\n",
       "    .dataframe thead th {\n",
       "        text-align: right;\n",
       "    }\n",
       "</style>\n",
       "<table border=\"1\" class=\"dataframe\">\n",
       "  <thead>\n",
       "    <tr style=\"text-align: right;\">\n",
       "      <th></th>\n",
       "      <th>relationship_id</th>\n",
       "      <th>entrance_id</th>\n",
       "      <th>station_name</th>\n",
       "      <th>station_code</th>\n",
       "    </tr>\n",
       "  </thead>\n",
       "  <tbody>\n",
       "    <tr>\n",
       "      <th>0</th>\n",
       "      <td>0</td>\n",
       "      <td>10796851698</td>\n",
       "      <td>Pudu</td>\n",
       "      <td>AG10</td>\n",
       "    </tr>\n",
       "    <tr>\n",
       "      <th>1</th>\n",
       "      <td>1</td>\n",
       "      <td>10796851698</td>\n",
       "      <td>Pudu</td>\n",
       "      <td>SP10</td>\n",
       "    </tr>\n",
       "    <tr>\n",
       "      <th>2</th>\n",
       "      <td>2</td>\n",
       "      <td>5485710279</td>\n",
       "      <td>Kampung Baru</td>\n",
       "      <td>KJ11</td>\n",
       "    </tr>\n",
       "    <tr>\n",
       "      <th>3</th>\n",
       "      <td>3</td>\n",
       "      <td>5485710278</td>\n",
       "      <td>Kampung Baru</td>\n",
       "      <td>KJ11</td>\n",
       "    </tr>\n",
       "    <tr>\n",
       "      <th>4</th>\n",
       "      <td>4</td>\n",
       "      <td>9740843587</td>\n",
       "      <td>Masjid Jamek (KJ)</td>\n",
       "      <td>KJ13</td>\n",
       "    </tr>\n",
       "    <tr>\n",
       "      <th>...</th>\n",
       "      <td>...</td>\n",
       "      <td>...</td>\n",
       "      <td>...</td>\n",
       "      <td>...</td>\n",
       "    </tr>\n",
       "    <tr>\n",
       "      <th>324</th>\n",
       "      <td>324</td>\n",
       "      <td>5044809585</td>\n",
       "      <td>Tun Razak Exchange (PY)</td>\n",
       "      <td>PY23</td>\n",
       "    </tr>\n",
       "    <tr>\n",
       "      <th>325</th>\n",
       "      <td>325</td>\n",
       "      <td>5044809586</td>\n",
       "      <td>Tun Razak Exchange (PY)</td>\n",
       "      <td>PY23</td>\n",
       "    </tr>\n",
       "    <tr>\n",
       "      <th>326</th>\n",
       "      <td>326</td>\n",
       "      <td>12155642296</td>\n",
       "      <td>Kajang 2</td>\n",
       "      <td>KB06A</td>\n",
       "    </tr>\n",
       "    <tr>\n",
       "      <th>327</th>\n",
       "      <td>327</td>\n",
       "      <td>12155642293</td>\n",
       "      <td>Kajang 2</td>\n",
       "      <td>KB06A</td>\n",
       "    </tr>\n",
       "    <tr>\n",
       "      <th>328</th>\n",
       "      <td>328</td>\n",
       "      <td>12155642294</td>\n",
       "      <td>Kajang 2</td>\n",
       "      <td>KB06A</td>\n",
       "    </tr>\n",
       "  </tbody>\n",
       "</table>\n",
       "<p>329 rows × 4 columns</p>\n",
       "</div>"
      ],
      "text/plain": [
       "     relationship_id  entrance_id             station_name station_code\n",
       "0                  0  10796851698                     Pudu         AG10\n",
       "1                  1  10796851698                     Pudu         SP10\n",
       "2                  2   5485710279             Kampung Baru         KJ11\n",
       "3                  3   5485710278             Kampung Baru         KJ11\n",
       "4                  4   9740843587        Masjid Jamek (KJ)         KJ13\n",
       "..               ...          ...                      ...          ...\n",
       "324              324   5044809585  Tun Razak Exchange (PY)         PY23\n",
       "325              325   5044809586  Tun Razak Exchange (PY)         PY23\n",
       "326              326  12155642296                 Kajang 2        KB06A\n",
       "327              327  12155642293                 Kajang 2        KB06A\n",
       "328              328  12155642294                 Kajang 2        KB06A\n",
       "\n",
       "[329 rows x 4 columns]"
      ]
     },
     "execution_count": 18,
     "metadata": {},
     "output_type": "execute_result"
    }
   ],
   "source": [
    "#query to supabase using the previous supabase client that was declared\n",
    "response_stations = supabase.table('station_entrances').select(\"*\").execute()\n",
    "\n",
    "data,_ = response_stations\n",
    "\n",
    "stations_entrances_df = pd.DataFrame(data[1])\n",
    "# Create a new column in your DataFrame for the geographic data\n",
    "stations_entrances_df"
   ]
  },
  {
   "cell_type": "markdown",
   "metadata": {},
   "source": [
    "## Task TODO\n",
    "\n",
    "1. Left join station_entrances with entrances_isochrones_gdf on entrance_id\n",
    "2. This will create a table with isochrones mapped to station_name\n",
    "3. Iterate stations table to look up joined table for entrance isochrones.\n",
    "4. If isochrones are found, store all of them and use a unity function to combine them all\n",
    "5. save in a new isochrones polygon column just for stations\n",
    "6. If no isochrones found, just query on station coordinates"
   ]
  },
  {
   "cell_type": "code",
   "execution_count": 23,
   "metadata": {},
   "outputs": [],
   "source": [
    "#correcting the column data type to prep for merging\n",
    "entrances_isochrones_gdf['entrance_id']= entrances_isochrones_gdf['entrance_id'].astype(int)  "
   ]
  },
  {
   "cell_type": "code",
   "execution_count": 24,
   "metadata": {},
   "outputs": [
    {
     "data": {
      "text/html": [
       "<div>\n",
       "<style scoped>\n",
       "    .dataframe tbody tr th:only-of-type {\n",
       "        vertical-align: middle;\n",
       "    }\n",
       "\n",
       "    .dataframe tbody tr th {\n",
       "        vertical-align: top;\n",
       "    }\n",
       "\n",
       "    .dataframe thead th {\n",
       "        text-align: right;\n",
       "    }\n",
       "</style>\n",
       "<table border=\"1\" class=\"dataframe\">\n",
       "  <thead>\n",
       "    <tr style=\"text-align: right;\">\n",
       "      <th></th>\n",
       "      <th>relationship_id</th>\n",
       "      <th>entrance_id</th>\n",
       "      <th>station_name</th>\n",
       "      <th>station_code</th>\n",
       "      <th>isochrone_id</th>\n",
       "      <th>value</th>\n",
       "      <th>center</th>\n",
       "      <th>area</th>\n",
       "      <th>reachfactor</th>\n",
       "      <th>total_pop</th>\n",
       "      <th>type</th>\n",
       "      <th>geometry</th>\n",
       "    </tr>\n",
       "  </thead>\n",
       "  <tbody>\n",
       "    <tr>\n",
       "      <th>0</th>\n",
       "      <td>0</td>\n",
       "      <td>10796851698</td>\n",
       "      <td>Pudu</td>\n",
       "      <td>AG10</td>\n",
       "      <td>10796851698300</td>\n",
       "      <td>300.0</td>\n",
       "      <td>[101.7121408, 3.1347568]</td>\n",
       "      <td>278905.63</td>\n",
       "      <td>0.7990</td>\n",
       "      <td>2478.0</td>\n",
       "      <td>Polygon</td>\n",
       "      <td>POLYGON ((101.70965 3.13579, 101.70971 3.13562...</td>\n",
       "    </tr>\n",
       "    <tr>\n",
       "      <th>1</th>\n",
       "      <td>0</td>\n",
       "      <td>10796851698</td>\n",
       "      <td>Pudu</td>\n",
       "      <td>AG10</td>\n",
       "      <td>10796851698600</td>\n",
       "      <td>600.0</td>\n",
       "      <td>[101.7121408, 3.1347568]</td>\n",
       "      <td>1366234.08</td>\n",
       "      <td>0.9785</td>\n",
       "      <td>13013.0</td>\n",
       "      <td>Polygon</td>\n",
       "      <td>POLYGON ((101.70670 3.13675, 101.70656 3.13563...</td>\n",
       "    </tr>\n",
       "    <tr>\n",
       "      <th>2</th>\n",
       "      <td>0</td>\n",
       "      <td>10796851698</td>\n",
       "      <td>Pudu</td>\n",
       "      <td>AG10</td>\n",
       "      <td>10796851698900</td>\n",
       "      <td>900.0</td>\n",
       "      <td>[101.7121408, 3.1347568]</td>\n",
       "      <td>2968558.89</td>\n",
       "      <td>0.9449</td>\n",
       "      <td>26537.0</td>\n",
       "      <td>Polygon</td>\n",
       "      <td>POLYGON ((101.70388 3.13690, 101.70406 3.13641...</td>\n",
       "    </tr>\n",
       "    <tr>\n",
       "      <th>3</th>\n",
       "      <td>1</td>\n",
       "      <td>10796851698</td>\n",
       "      <td>Pudu</td>\n",
       "      <td>SP10</td>\n",
       "      <td>10796851698300</td>\n",
       "      <td>300.0</td>\n",
       "      <td>[101.7121408, 3.1347568]</td>\n",
       "      <td>278905.63</td>\n",
       "      <td>0.7990</td>\n",
       "      <td>2478.0</td>\n",
       "      <td>Polygon</td>\n",
       "      <td>POLYGON ((101.70965 3.13579, 101.70971 3.13562...</td>\n",
       "    </tr>\n",
       "    <tr>\n",
       "      <th>4</th>\n",
       "      <td>1</td>\n",
       "      <td>10796851698</td>\n",
       "      <td>Pudu</td>\n",
       "      <td>SP10</td>\n",
       "      <td>10796851698600</td>\n",
       "      <td>600.0</td>\n",
       "      <td>[101.7121408, 3.1347568]</td>\n",
       "      <td>1366234.08</td>\n",
       "      <td>0.9785</td>\n",
       "      <td>13013.0</td>\n",
       "      <td>Polygon</td>\n",
       "      <td>POLYGON ((101.70670 3.13675, 101.70656 3.13563...</td>\n",
       "    </tr>\n",
       "    <tr>\n",
       "      <th>...</th>\n",
       "      <td>...</td>\n",
       "      <td>...</td>\n",
       "      <td>...</td>\n",
       "      <td>...</td>\n",
       "      <td>...</td>\n",
       "      <td>...</td>\n",
       "      <td>...</td>\n",
       "      <td>...</td>\n",
       "      <td>...</td>\n",
       "      <td>...</td>\n",
       "      <td>...</td>\n",
       "      <td>...</td>\n",
       "    </tr>\n",
       "    <tr>\n",
       "      <th>980</th>\n",
       "      <td>327</td>\n",
       "      <td>12155642293</td>\n",
       "      <td>Kajang 2</td>\n",
       "      <td>KB06A</td>\n",
       "      <td>12155642293600</td>\n",
       "      <td>600.0</td>\n",
       "      <td>[101.7924757365604, 2.962197483109656]</td>\n",
       "      <td>1132110.23</td>\n",
       "      <td>0.8108</td>\n",
       "      <td>5671.0</td>\n",
       "      <td>Polygon</td>\n",
       "      <td>POLYGON ((101.78562 2.96171, 101.78582 2.96056...</td>\n",
       "    </tr>\n",
       "    <tr>\n",
       "      <th>981</th>\n",
       "      <td>327</td>\n",
       "      <td>12155642293</td>\n",
       "      <td>Kajang 2</td>\n",
       "      <td>KB06A</td>\n",
       "      <td>12155642293900</td>\n",
       "      <td>900.0</td>\n",
       "      <td>[101.7924757365604, 2.962197483109656]</td>\n",
       "      <td>2647963.56</td>\n",
       "      <td>0.8429</td>\n",
       "      <td>13241.0</td>\n",
       "      <td>Polygon</td>\n",
       "      <td>POLYGON ((101.78315 2.96410, 101.78342 2.96268...</td>\n",
       "    </tr>\n",
       "    <tr>\n",
       "      <th>982</th>\n",
       "      <td>328</td>\n",
       "      <td>12155642294</td>\n",
       "      <td>Kajang 2</td>\n",
       "      <td>KB06A</td>\n",
       "      <td>12155642294300</td>\n",
       "      <td>300.0</td>\n",
       "      <td>[101.7920585756707, 2.962773292823094]</td>\n",
       "      <td>275078.71</td>\n",
       "      <td>0.7880</td>\n",
       "      <td>1118.0</td>\n",
       "      <td>Polygon</td>\n",
       "      <td>POLYGON ((101.78944 2.96378, 101.78966 2.96172...</td>\n",
       "    </tr>\n",
       "    <tr>\n",
       "      <th>983</th>\n",
       "      <td>328</td>\n",
       "      <td>12155642294</td>\n",
       "      <td>Kajang 2</td>\n",
       "      <td>KB06A</td>\n",
       "      <td>12155642294600</td>\n",
       "      <td>600.0</td>\n",
       "      <td>[101.7920585756707, 2.962773292823094]</td>\n",
       "      <td>1279931.08</td>\n",
       "      <td>0.9167</td>\n",
       "      <td>5476.0</td>\n",
       "      <td>Polygon</td>\n",
       "      <td>POLYGON ((101.78577 2.96369, 101.78622 2.96092...</td>\n",
       "    </tr>\n",
       "    <tr>\n",
       "      <th>984</th>\n",
       "      <td>328</td>\n",
       "      <td>12155642294</td>\n",
       "      <td>Kajang 2</td>\n",
       "      <td>KB06A</td>\n",
       "      <td>12155642294900</td>\n",
       "      <td>900.0</td>\n",
       "      <td>[101.7920585756707, 2.962773292823094]</td>\n",
       "      <td>2825636.74</td>\n",
       "      <td>0.8994</td>\n",
       "      <td>14115.0</td>\n",
       "      <td>Polygon</td>\n",
       "      <td>POLYGON ((101.78248 2.96367, 101.78248 2.96361...</td>\n",
       "    </tr>\n",
       "  </tbody>\n",
       "</table>\n",
       "<p>985 rows × 12 columns</p>\n",
       "</div>"
      ],
      "text/plain": [
       "     relationship_id  entrance_id station_name station_code    isochrone_id  \\\n",
       "0                  0  10796851698         Pudu         AG10  10796851698300   \n",
       "1                  0  10796851698         Pudu         AG10  10796851698600   \n",
       "2                  0  10796851698         Pudu         AG10  10796851698900   \n",
       "3                  1  10796851698         Pudu         SP10  10796851698300   \n",
       "4                  1  10796851698         Pudu         SP10  10796851698600   \n",
       "..               ...          ...          ...          ...             ...   \n",
       "980              327  12155642293     Kajang 2        KB06A  12155642293600   \n",
       "981              327  12155642293     Kajang 2        KB06A  12155642293900   \n",
       "982              328  12155642294     Kajang 2        KB06A  12155642294300   \n",
       "983              328  12155642294     Kajang 2        KB06A  12155642294600   \n",
       "984              328  12155642294     Kajang 2        KB06A  12155642294900   \n",
       "\n",
       "     value                                  center        area  reachfactor  \\\n",
       "0    300.0                [101.7121408, 3.1347568]   278905.63       0.7990   \n",
       "1    600.0                [101.7121408, 3.1347568]  1366234.08       0.9785   \n",
       "2    900.0                [101.7121408, 3.1347568]  2968558.89       0.9449   \n",
       "3    300.0                [101.7121408, 3.1347568]   278905.63       0.7990   \n",
       "4    600.0                [101.7121408, 3.1347568]  1366234.08       0.9785   \n",
       "..     ...                                     ...         ...          ...   \n",
       "980  600.0  [101.7924757365604, 2.962197483109656]  1132110.23       0.8108   \n",
       "981  900.0  [101.7924757365604, 2.962197483109656]  2647963.56       0.8429   \n",
       "982  300.0  [101.7920585756707, 2.962773292823094]   275078.71       0.7880   \n",
       "983  600.0  [101.7920585756707, 2.962773292823094]  1279931.08       0.9167   \n",
       "984  900.0  [101.7920585756707, 2.962773292823094]  2825636.74       0.8994   \n",
       "\n",
       "     total_pop     type                                           geometry  \n",
       "0       2478.0  Polygon  POLYGON ((101.70965 3.13579, 101.70971 3.13562...  \n",
       "1      13013.0  Polygon  POLYGON ((101.70670 3.13675, 101.70656 3.13563...  \n",
       "2      26537.0  Polygon  POLYGON ((101.70388 3.13690, 101.70406 3.13641...  \n",
       "3       2478.0  Polygon  POLYGON ((101.70965 3.13579, 101.70971 3.13562...  \n",
       "4      13013.0  Polygon  POLYGON ((101.70670 3.13675, 101.70656 3.13563...  \n",
       "..         ...      ...                                                ...  \n",
       "980     5671.0  Polygon  POLYGON ((101.78562 2.96171, 101.78582 2.96056...  \n",
       "981    13241.0  Polygon  POLYGON ((101.78315 2.96410, 101.78342 2.96268...  \n",
       "982     1118.0  Polygon  POLYGON ((101.78944 2.96378, 101.78966 2.96172...  \n",
       "983     5476.0  Polygon  POLYGON ((101.78577 2.96369, 101.78622 2.96092...  \n",
       "984    14115.0  Polygon  POLYGON ((101.78248 2.96367, 101.78248 2.96361...  \n",
       "\n",
       "[985 rows x 12 columns]"
      ]
     },
     "execution_count": 24,
     "metadata": {},
     "output_type": "execute_result"
    }
   ],
   "source": [
    "# Step 1: Left join station_entrances with entrances_isochrones_gdf on entrance_id\n",
    "# This will create a table where each station entrance has corresponding isochrones mapped\n",
    "merged_gdf = stations_entrances_df.merge(entrances_isochrones_gdf, on='entrance_id', how='left')\n",
    "merged_gdf"
   ]
  },
  {
   "cell_type": "code",
   "execution_count": 25,
   "metadata": {},
   "outputs": [
    {
     "data": {
      "text/html": [
       "<div>\n",
       "<style scoped>\n",
       "    .dataframe tbody tr th:only-of-type {\n",
       "        vertical-align: middle;\n",
       "    }\n",
       "\n",
       "    .dataframe tbody tr th {\n",
       "        vertical-align: top;\n",
       "    }\n",
       "\n",
       "    .dataframe thead th {\n",
       "        text-align: right;\n",
       "    }\n",
       "</style>\n",
       "<table border=\"1\" class=\"dataframe\">\n",
       "  <thead>\n",
       "    <tr style=\"text-align: right;\">\n",
       "      <th></th>\n",
       "      <th>name</th>\n",
       "      <th>station_code</th>\n",
       "      <th>service_provider_name</th>\n",
       "      <th>latitude</th>\n",
       "      <th>longitude</th>\n",
       "      <th>route_id</th>\n",
       "      <th>route_name</th>\n",
       "      <th>line_number</th>\n",
       "      <th>line_colour</th>\n",
       "      <th>colour_hex_code</th>\n",
       "      <th>region</th>\n",
       "      <th>odonym</th>\n",
       "      <th>namesake</th>\n",
       "      <th>opened</th>\n",
       "      <th>station_id</th>\n",
       "      <th>geometry</th>\n",
       "    </tr>\n",
       "  </thead>\n",
       "  <tbody>\n",
       "    <tr>\n",
       "      <th>0</th>\n",
       "      <td>Kuala Lumpur</td>\n",
       "      <td>KA02</td>\n",
       "      <td>Keretapi Tanah Melayu</td>\n",
       "      <td>3.139513</td>\n",
       "      <td>101.693789</td>\n",
       "      <td>KA</td>\n",
       "      <td>Seremban Line</td>\n",
       "      <td>1</td>\n",
       "      <td>Blue</td>\n",
       "      <td>#0000FF</td>\n",
       "      <td>Klang Valley</td>\n",
       "      <td>None</td>\n",
       "      <td>None</td>\n",
       "      <td>None</td>\n",
       "      <td>1</td>\n",
       "      <td>POINT (101.69379 3.13951)</td>\n",
       "    </tr>\n",
       "    <tr>\n",
       "      <th>1</th>\n",
       "      <td>Bank Negara</td>\n",
       "      <td>KA03</td>\n",
       "      <td>Keretapi Tanah Melayu</td>\n",
       "      <td>3.154542</td>\n",
       "      <td>101.693010</td>\n",
       "      <td>KA</td>\n",
       "      <td>Seremban Line</td>\n",
       "      <td>1</td>\n",
       "      <td>Blue</td>\n",
       "      <td>#0000FF</td>\n",
       "      <td>Klang Valley</td>\n",
       "      <td>None</td>\n",
       "      <td>None</td>\n",
       "      <td>None</td>\n",
       "      <td>2</td>\n",
       "      <td>POINT (101.69301 3.15454)</td>\n",
       "    </tr>\n",
       "    <tr>\n",
       "      <th>2</th>\n",
       "      <td>Putra</td>\n",
       "      <td>KA04</td>\n",
       "      <td>Keretapi Tanah Melayu</td>\n",
       "      <td>3.165005</td>\n",
       "      <td>101.691234</td>\n",
       "      <td>KA</td>\n",
       "      <td>Seremban Line</td>\n",
       "      <td>1</td>\n",
       "      <td>Blue</td>\n",
       "      <td>#0000FF</td>\n",
       "      <td>Klang Valley</td>\n",
       "      <td>None</td>\n",
       "      <td>None</td>\n",
       "      <td>None</td>\n",
       "      <td>3</td>\n",
       "      <td>POINT (101.69123 3.16500)</td>\n",
       "    </tr>\n",
       "    <tr>\n",
       "      <th>3</th>\n",
       "      <td>Mid Valley</td>\n",
       "      <td>KB01</td>\n",
       "      <td>Keretapi Tanah Melayu</td>\n",
       "      <td>3.118528</td>\n",
       "      <td>101.678985</td>\n",
       "      <td>KB</td>\n",
       "      <td>Seremban Line</td>\n",
       "      <td>1</td>\n",
       "      <td>Blue</td>\n",
       "      <td>#0000FF</td>\n",
       "      <td>Klang Valley</td>\n",
       "      <td>None</td>\n",
       "      <td>None</td>\n",
       "      <td>None</td>\n",
       "      <td>4</td>\n",
       "      <td>POINT (101.67899 3.11853)</td>\n",
       "    </tr>\n",
       "    <tr>\n",
       "      <th>4</th>\n",
       "      <td>Seputeh</td>\n",
       "      <td>KB02</td>\n",
       "      <td>Keretapi Tanah Melayu</td>\n",
       "      <td>3.113697</td>\n",
       "      <td>101.681299</td>\n",
       "      <td>KB</td>\n",
       "      <td>Seremban Line</td>\n",
       "      <td>1</td>\n",
       "      <td>Blue</td>\n",
       "      <td>#0000FF</td>\n",
       "      <td>Klang Valley</td>\n",
       "      <td>None</td>\n",
       "      <td>None</td>\n",
       "      <td>None</td>\n",
       "      <td>5</td>\n",
       "      <td>POINT (101.68130 3.11370)</td>\n",
       "    </tr>\n",
       "    <tr>\n",
       "      <th>...</th>\n",
       "      <td>...</td>\n",
       "      <td>...</td>\n",
       "      <td>...</td>\n",
       "      <td>...</td>\n",
       "      <td>...</td>\n",
       "      <td>...</td>\n",
       "      <td>...</td>\n",
       "      <td>...</td>\n",
       "      <td>...</td>\n",
       "      <td>...</td>\n",
       "      <td>...</td>\n",
       "      <td>...</td>\n",
       "      <td>...</td>\n",
       "      <td>...</td>\n",
       "      <td>...</td>\n",
       "      <td>...</td>\n",
       "    </tr>\n",
       "    <tr>\n",
       "      <th>254</th>\n",
       "      <td>Sri Andalas</td>\n",
       "      <td>JS22</td>\n",
       "      <td>Rapid KL</td>\n",
       "      <td>3.015225</td>\n",
       "      <td>101.440441</td>\n",
       "      <td>JS</td>\n",
       "      <td>LRT3</td>\n",
       "      <td>11</td>\n",
       "      <td>Sky Blue</td>\n",
       "      <td>#88cffa</td>\n",
       "      <td>Klang Valley</td>\n",
       "      <td>None</td>\n",
       "      <td>None</td>\n",
       "      <td>None</td>\n",
       "      <td>255</td>\n",
       "      <td>POINT (101.44044 3.01522)</td>\n",
       "    </tr>\n",
       "    <tr>\n",
       "      <th>255</th>\n",
       "      <td>Klang Jaya</td>\n",
       "      <td>JS23</td>\n",
       "      <td>Rapid KL</td>\n",
       "      <td>3.005072</td>\n",
       "      <td>101.442081</td>\n",
       "      <td>JS</td>\n",
       "      <td>LRT3</td>\n",
       "      <td>11</td>\n",
       "      <td>Sky Blue</td>\n",
       "      <td>#88cffa</td>\n",
       "      <td>Klang Valley</td>\n",
       "      <td>None</td>\n",
       "      <td>None</td>\n",
       "      <td>None</td>\n",
       "      <td>256</td>\n",
       "      <td>POINT (101.44208 3.00507)</td>\n",
       "    </tr>\n",
       "    <tr>\n",
       "      <th>256</th>\n",
       "      <td>Bandar Bukit Tinggi</td>\n",
       "      <td>JS24</td>\n",
       "      <td>Rapid KL</td>\n",
       "      <td>2.993526</td>\n",
       "      <td>101.446175</td>\n",
       "      <td>JS</td>\n",
       "      <td>LRT3</td>\n",
       "      <td>11</td>\n",
       "      <td>Sky Blue</td>\n",
       "      <td>#88cffa</td>\n",
       "      <td>Klang Valley</td>\n",
       "      <td>None</td>\n",
       "      <td>None</td>\n",
       "      <td>None</td>\n",
       "      <td>257</td>\n",
       "      <td>POINT (101.44617 2.99353)</td>\n",
       "    </tr>\n",
       "    <tr>\n",
       "      <th>257</th>\n",
       "      <td>Johan Setia</td>\n",
       "      <td>JS26</td>\n",
       "      <td>Rapid KL</td>\n",
       "      <td>2.975436</td>\n",
       "      <td>101.460718</td>\n",
       "      <td>JS</td>\n",
       "      <td>LRT3</td>\n",
       "      <td>11</td>\n",
       "      <td>Sky Blue</td>\n",
       "      <td>#88cffa</td>\n",
       "      <td>Klang Valley</td>\n",
       "      <td>None</td>\n",
       "      <td>None</td>\n",
       "      <td>None</td>\n",
       "      <td>258</td>\n",
       "      <td>POINT (101.46072 2.97544)</td>\n",
       "    </tr>\n",
       "    <tr>\n",
       "      <th>258</th>\n",
       "      <td>KL Sentral</td>\n",
       "      <td>KA01</td>\n",
       "      <td>Keretapi Tanah Melayu</td>\n",
       "      <td>3.134603</td>\n",
       "      <td>101.686567</td>\n",
       "      <td>KA</td>\n",
       "      <td>Seremban Line</td>\n",
       "      <td>1</td>\n",
       "      <td>Blue</td>\n",
       "      <td>#0000FF</td>\n",
       "      <td>Klang Valley</td>\n",
       "      <td>None</td>\n",
       "      <td>None</td>\n",
       "      <td>None</td>\n",
       "      <td>0</td>\n",
       "      <td>POINT (101.68657 3.13460)</td>\n",
       "    </tr>\n",
       "  </tbody>\n",
       "</table>\n",
       "<p>259 rows × 16 columns</p>\n",
       "</div>"
      ],
      "text/plain": [
       "                    name station_code  service_provider_name  latitude  \\\n",
       "0           Kuala Lumpur         KA02  Keretapi Tanah Melayu  3.139513   \n",
       "1            Bank Negara         KA03  Keretapi Tanah Melayu  3.154542   \n",
       "2                  Putra         KA04  Keretapi Tanah Melayu  3.165005   \n",
       "3             Mid Valley         KB01  Keretapi Tanah Melayu  3.118528   \n",
       "4                Seputeh         KB02  Keretapi Tanah Melayu  3.113697   \n",
       "..                   ...          ...                    ...       ...   \n",
       "254          Sri Andalas         JS22               Rapid KL  3.015225   \n",
       "255           Klang Jaya         JS23               Rapid KL  3.005072   \n",
       "256  Bandar Bukit Tinggi         JS24               Rapid KL  2.993526   \n",
       "257          Johan Setia         JS26               Rapid KL  2.975436   \n",
       "258           KL Sentral         KA01  Keretapi Tanah Melayu  3.134603   \n",
       "\n",
       "      longitude route_id     route_name line_number line_colour  \\\n",
       "0    101.693789       KA  Seremban Line           1        Blue   \n",
       "1    101.693010       KA  Seremban Line           1        Blue   \n",
       "2    101.691234       KA  Seremban Line           1        Blue   \n",
       "3    101.678985       KB  Seremban Line           1        Blue   \n",
       "4    101.681299       KB  Seremban Line           1        Blue   \n",
       "..          ...      ...            ...         ...         ...   \n",
       "254  101.440441       JS           LRT3          11    Sky Blue   \n",
       "255  101.442081       JS           LRT3          11    Sky Blue   \n",
       "256  101.446175       JS           LRT3          11    Sky Blue   \n",
       "257  101.460718       JS           LRT3          11    Sky Blue   \n",
       "258  101.686567       KA  Seremban Line           1        Blue   \n",
       "\n",
       "    colour_hex_code        region odonym namesake opened  station_id  \\\n",
       "0           #0000FF  Klang Valley   None     None   None           1   \n",
       "1           #0000FF  Klang Valley   None     None   None           2   \n",
       "2           #0000FF  Klang Valley   None     None   None           3   \n",
       "3           #0000FF  Klang Valley   None     None   None           4   \n",
       "4           #0000FF  Klang Valley   None     None   None           5   \n",
       "..              ...           ...    ...      ...    ...         ...   \n",
       "254         #88cffa  Klang Valley   None     None   None         255   \n",
       "255         #88cffa  Klang Valley   None     None   None         256   \n",
       "256         #88cffa  Klang Valley   None     None   None         257   \n",
       "257         #88cffa  Klang Valley   None     None   None         258   \n",
       "258         #0000FF  Klang Valley   None     None   None           0   \n",
       "\n",
       "                      geometry  \n",
       "0    POINT (101.69379 3.13951)  \n",
       "1    POINT (101.69301 3.15454)  \n",
       "2    POINT (101.69123 3.16500)  \n",
       "3    POINT (101.67899 3.11853)  \n",
       "4    POINT (101.68130 3.11370)  \n",
       "..                         ...  \n",
       "254  POINT (101.44044 3.01522)  \n",
       "255  POINT (101.44208 3.00507)  \n",
       "256  POINT (101.44617 2.99353)  \n",
       "257  POINT (101.46072 2.97544)  \n",
       "258  POINT (101.68657 3.13460)  \n",
       "\n",
       "[259 rows x 16 columns]"
      ]
     },
     "execution_count": 25,
     "metadata": {},
     "output_type": "execute_result"
    }
   ],
   "source": [
    "stations_gdf\n"
   ]
  },
  {
   "cell_type": "code",
   "execution_count": 5,
   "metadata": {},
   "outputs": [
    {
     "data": {
      "text/plain": [
       "list"
      ]
     },
     "execution_count": 5,
     "metadata": {},
     "output_type": "execute_result"
    }
   ],
   "source": [
    "for idx, station_row in stations_gdf.iterrows():\n",
    "    station_code= station_row['station_code']\n",
    "\n",
    "    "
   ]
  },
  {
   "cell_type": "code",
   "execution_count": 6,
   "metadata": {},
   "outputs": [],
   "source": [
    "coordinates= [entrances_gdf.iloc[50]['geometry'].coords[0][0],entrances_gdf.iloc[50]['geometry'].coords[0][1]]\n",
    "entrance_id = entrances_gdf.iloc[50]['entrance_id']\n",
    "type(coordinates)\n",
    "#sample of parameters to be passed through to ors client and generate isochrones. in the form of dictionary\n",
    "isochrone_params = {\n",
    "              'profile': 'foot-walking', \n",
    "              'range': [900], # 900/60 = 15 mins\n",
    "              'interval': 300,\n",
    "              'attributes': ['area', 'reachfactor', 'total_pop'] # Get population count for isochrones\n",
    "             }\n",
    "\n",
    "#add the specific key='locations' to be passed to the ors client. consists of a list of coordinates. coordinates in turn are to be in a list of [lat,long]\n",
    "isochrone_params['locations'] = [coordinates]\n",
    "\n",
    "#ors query results in a dict \n",
    "temp_iso = ors_client.isochrones(**isochrone_params)\n"
   ]
  },
  {
   "cell_type": "code",
   "execution_count": 7,
   "metadata": {},
   "outputs": [
    {
     "data": {
      "text/html": [
       "<div>\n",
       "<style scoped>\n",
       "    .dataframe tbody tr th:only-of-type {\n",
       "        vertical-align: middle;\n",
       "    }\n",
       "\n",
       "    .dataframe tbody tr th {\n",
       "        vertical-align: top;\n",
       "    }\n",
       "\n",
       "    .dataframe thead th {\n",
       "        text-align: right;\n",
       "    }\n",
       "</style>\n",
       "<table border=\"1\" class=\"dataframe\">\n",
       "  <thead>\n",
       "    <tr style=\"text-align: right;\">\n",
       "      <th></th>\n",
       "      <th>properties.value</th>\n",
       "      <th>properties.center</th>\n",
       "      <th>properties.area</th>\n",
       "      <th>properties.reachfactor</th>\n",
       "      <th>properties.total_pop</th>\n",
       "      <th>geometry.coordinates</th>\n",
       "      <th>geometry.type</th>\n",
       "    </tr>\n",
       "  </thead>\n",
       "  <tbody>\n",
       "    <tr>\n",
       "      <th>0</th>\n",
       "      <td>300.0</td>\n",
       "      <td>[101.6991072, 3.1590919]</td>\n",
       "      <td>285653.74</td>\n",
       "      <td>0.8183</td>\n",
       "      <td>2842.0</td>\n",
       "      <td>[[[101.695956, 3.158645], [101.697156, 3.15670...</td>\n",
       "      <td>Polygon</td>\n",
       "    </tr>\n",
       "    <tr>\n",
       "      <th>1</th>\n",
       "      <td>600.0</td>\n",
       "      <td>[101.6991072, 3.1590919]</td>\n",
       "      <td>1375757.45</td>\n",
       "      <td>0.9853</td>\n",
       "      <td>16064.0</td>\n",
       "      <td>[[[101.692989, 3.161272], [101.694041, 3.15613...</td>\n",
       "      <td>Polygon</td>\n",
       "    </tr>\n",
       "    <tr>\n",
       "      <th>2</th>\n",
       "      <td>900.0</td>\n",
       "      <td>[101.6991072, 3.1590919]</td>\n",
       "      <td>2935073.01</td>\n",
       "      <td>0.9343</td>\n",
       "      <td>42050.0</td>\n",
       "      <td>[[[101.692929, 3.163399], [101.692796, 3.16219...</td>\n",
       "      <td>Polygon</td>\n",
       "    </tr>\n",
       "  </tbody>\n",
       "</table>\n",
       "</div>"
      ],
      "text/plain": [
       "   properties.value         properties.center  properties.area  \\\n",
       "0             300.0  [101.6991072, 3.1590919]        285653.74   \n",
       "1             600.0  [101.6991072, 3.1590919]       1375757.45   \n",
       "2             900.0  [101.6991072, 3.1590919]       2935073.01   \n",
       "\n",
       "   properties.reachfactor  properties.total_pop  \\\n",
       "0                  0.8183                2842.0   \n",
       "1                  0.9853               16064.0   \n",
       "2                  0.9343               42050.0   \n",
       "\n",
       "                                geometry.coordinates geometry.type  \n",
       "0  [[[101.695956, 3.158645], [101.697156, 3.15670...       Polygon  \n",
       "1  [[[101.692989, 3.161272], [101.694041, 3.15613...       Polygon  \n",
       "2  [[[101.692929, 3.163399], [101.692796, 3.16219...       Polygon  "
      ]
     },
     "execution_count": 7,
     "metadata": {},
     "output_type": "execute_result"
    }
   ],
   "source": [
    "import json\n",
    "\n",
    "####\n",
    "#the following seems redundant for now\n",
    "#temp_iso_json = json.dumps(temp_iso)\n",
    "#data = json.loads(temp_iso_json)\n",
    "#df = pd.json_normalize(data['features'])\n",
    "####\n",
    "\n",
    "#transform query result into a dataframe\n",
    "df = pd.json_normalize(temp_iso['features'])\n",
    "df = df.drop(columns=['type','properties.group_index'])\n",
    "df"
   ]
  },
  {
   "cell_type": "code",
   "execution_count": 8,
   "metadata": {},
   "outputs": [
    {
     "data": {
      "text/html": [
       "<div>\n",
       "<style scoped>\n",
       "    .dataframe tbody tr th:only-of-type {\n",
       "        vertical-align: middle;\n",
       "    }\n",
       "\n",
       "    .dataframe tbody tr th {\n",
       "        vertical-align: top;\n",
       "    }\n",
       "\n",
       "    .dataframe thead th {\n",
       "        text-align: right;\n",
       "    }\n",
       "</style>\n",
       "<table border=\"1\" class=\"dataframe\">\n",
       "  <thead>\n",
       "    <tr style=\"text-align: right;\">\n",
       "      <th></th>\n",
       "      <th>value</th>\n",
       "      <th>center</th>\n",
       "      <th>area</th>\n",
       "      <th>reachfactor</th>\n",
       "      <th>total_pop</th>\n",
       "      <th>coordinates</th>\n",
       "      <th>type</th>\n",
       "    </tr>\n",
       "  </thead>\n",
       "  <tbody>\n",
       "    <tr>\n",
       "      <th>0</th>\n",
       "      <td>300.0</td>\n",
       "      <td>[101.6991072, 3.1590919]</td>\n",
       "      <td>285653.74</td>\n",
       "      <td>0.8183</td>\n",
       "      <td>2842.0</td>\n",
       "      <td>[[101.695956, 3.158645], [101.697156, 3.156708...</td>\n",
       "      <td>Polygon</td>\n",
       "    </tr>\n",
       "    <tr>\n",
       "      <th>1</th>\n",
       "      <td>600.0</td>\n",
       "      <td>[101.6991072, 3.1590919]</td>\n",
       "      <td>1375757.45</td>\n",
       "      <td>0.9853</td>\n",
       "      <td>16064.0</td>\n",
       "      <td>[[101.692989, 3.161272], [101.694041, 3.156137...</td>\n",
       "      <td>Polygon</td>\n",
       "    </tr>\n",
       "    <tr>\n",
       "      <th>2</th>\n",
       "      <td>900.0</td>\n",
       "      <td>[101.6991072, 3.1590919]</td>\n",
       "      <td>2935073.01</td>\n",
       "      <td>0.9343</td>\n",
       "      <td>42050.0</td>\n",
       "      <td>[[101.692929, 3.163399], [101.692796, 3.16219]...</td>\n",
       "      <td>Polygon</td>\n",
       "    </tr>\n",
       "  </tbody>\n",
       "</table>\n",
       "</div>"
      ],
      "text/plain": [
       "   value                    center        area  reachfactor  total_pop  \\\n",
       "0  300.0  [101.6991072, 3.1590919]   285653.74       0.8183     2842.0   \n",
       "1  600.0  [101.6991072, 3.1590919]  1375757.45       0.9853    16064.0   \n",
       "2  900.0  [101.6991072, 3.1590919]  2935073.01       0.9343    42050.0   \n",
       "\n",
       "                                         coordinates     type  \n",
       "0  [[101.695956, 3.158645], [101.697156, 3.156708...  Polygon  \n",
       "1  [[101.692989, 3.161272], [101.694041, 3.156137...  Polygon  \n",
       "2  [[101.692929, 3.163399], [101.692796, 3.16219]...  Polygon  "
      ]
     },
     "execution_count": 8,
     "metadata": {},
     "output_type": "execute_result"
    }
   ],
   "source": [
    "#simplify values in geometry.coordinates column. only first value in list is relevant\n",
    "df['geometry.coordinates']=df['geometry.coordinates'].apply(lambda row:row[0])\n",
    "\n",
    "# Remove 'properties.' and 'geometry.' from the column names\n",
    "df.columns = df.columns.str.replace('properties.', '', regex=False)\n",
    "df.columns = df.columns.str.replace('geometry.', '', regex=False)\n",
    "df"
   ]
  },
  {
   "cell_type": "code",
   "execution_count": 9,
   "metadata": {},
   "outputs": [
    {
     "data": {
      "text/html": [
       "<div>\n",
       "<style scoped>\n",
       "    .dataframe tbody tr th:only-of-type {\n",
       "        vertical-align: middle;\n",
       "    }\n",
       "\n",
       "    .dataframe tbody tr th {\n",
       "        vertical-align: top;\n",
       "    }\n",
       "\n",
       "    .dataframe thead th {\n",
       "        text-align: right;\n",
       "    }\n",
       "</style>\n",
       "<table border=\"1\" class=\"dataframe\">\n",
       "  <thead>\n",
       "    <tr style=\"text-align: right;\">\n",
       "      <th></th>\n",
       "      <th>value</th>\n",
       "      <th>center</th>\n",
       "      <th>area</th>\n",
       "      <th>reachfactor</th>\n",
       "      <th>total_pop</th>\n",
       "      <th>coordinates</th>\n",
       "      <th>type</th>\n",
       "      <th>entrance_id</th>\n",
       "      <th>isochrone_id</th>\n",
       "    </tr>\n",
       "  </thead>\n",
       "  <tbody>\n",
       "    <tr>\n",
       "      <th>0</th>\n",
       "      <td>300.0</td>\n",
       "      <td>[101.6991072, 3.1590919]</td>\n",
       "      <td>285653.74</td>\n",
       "      <td>0.8183</td>\n",
       "      <td>2842.0</td>\n",
       "      <td>[[101.695956, 3.158645], [101.697156, 3.156708...</td>\n",
       "      <td>Polygon</td>\n",
       "      <td>7259253706</td>\n",
       "      <td>7259253706300</td>\n",
       "    </tr>\n",
       "    <tr>\n",
       "      <th>1</th>\n",
       "      <td>600.0</td>\n",
       "      <td>[101.6991072, 3.1590919]</td>\n",
       "      <td>1375757.45</td>\n",
       "      <td>0.9853</td>\n",
       "      <td>16064.0</td>\n",
       "      <td>[[101.692989, 3.161272], [101.694041, 3.156137...</td>\n",
       "      <td>Polygon</td>\n",
       "      <td>7259253706</td>\n",
       "      <td>7259253706600</td>\n",
       "    </tr>\n",
       "    <tr>\n",
       "      <th>2</th>\n",
       "      <td>900.0</td>\n",
       "      <td>[101.6991072, 3.1590919]</td>\n",
       "      <td>2935073.01</td>\n",
       "      <td>0.9343</td>\n",
       "      <td>42050.0</td>\n",
       "      <td>[[101.692929, 3.163399], [101.692796, 3.16219]...</td>\n",
       "      <td>Polygon</td>\n",
       "      <td>7259253706</td>\n",
       "      <td>7259253706900</td>\n",
       "    </tr>\n",
       "  </tbody>\n",
       "</table>\n",
       "</div>"
      ],
      "text/plain": [
       "   value                    center        area  reachfactor  total_pop  \\\n",
       "0  300.0  [101.6991072, 3.1590919]   285653.74       0.8183     2842.0   \n",
       "1  600.0  [101.6991072, 3.1590919]  1375757.45       0.9853    16064.0   \n",
       "2  900.0  [101.6991072, 3.1590919]  2935073.01       0.9343    42050.0   \n",
       "\n",
       "                                         coordinates     type  entrance_id  \\\n",
       "0  [[101.695956, 3.158645], [101.697156, 3.156708...  Polygon   7259253706   \n",
       "1  [[101.692989, 3.161272], [101.694041, 3.156137...  Polygon   7259253706   \n",
       "2  [[101.692929, 3.163399], [101.692796, 3.16219]...  Polygon   7259253706   \n",
       "\n",
       "    isochrone_id  \n",
       "0  7259253706300  \n",
       "1  7259253706600  \n",
       "2  7259253706900  "
      ]
     },
     "execution_count": 9,
     "metadata": {},
     "output_type": "execute_result"
    }
   ],
   "source": [
    "#creating a new id key for isochrones. to be inserted in supabase table\n",
    "df['entrance_id']=entrance_id\n",
    "df['isochrone_id'] = df['entrance_id'].astype(str) + df['value'].astype(int).astype(str)\n",
    "df"
   ]
  },
  {
   "cell_type": "code",
   "execution_count": 10,
   "metadata": {},
   "outputs": [],
   "source": [
    "from shapely.geometry import Polygon\n",
    "\n",
    "# Convert list of coordinates to Polygon objects\n",
    "df['geometry'] = df['coordinates'].apply(Polygon)\n",
    "df.drop(columns=['coordinates'],inplace=True)\n",
    "# Convert to GeoDataFrame\n",
    "entrances_iso_gdf = gpd.GeoDataFrame(df, geometry='geometry', crs=\"EPSG:4326\")\n",
    "\n"
   ]
  },
  {
   "cell_type": "code",
   "execution_count": 11,
   "metadata": {},
   "outputs": [
    {
     "data": {
      "text/html": [
       "<div>\n",
       "<style scoped>\n",
       "    .dataframe tbody tr th:only-of-type {\n",
       "        vertical-align: middle;\n",
       "    }\n",
       "\n",
       "    .dataframe tbody tr th {\n",
       "        vertical-align: top;\n",
       "    }\n",
       "\n",
       "    .dataframe thead th {\n",
       "        text-align: right;\n",
       "    }\n",
       "</style>\n",
       "<table border=\"1\" class=\"dataframe\">\n",
       "  <thead>\n",
       "    <tr style=\"text-align: right;\">\n",
       "      <th></th>\n",
       "      <th>value</th>\n",
       "      <th>center</th>\n",
       "      <th>area</th>\n",
       "      <th>reachfactor</th>\n",
       "      <th>total_pop</th>\n",
       "      <th>type</th>\n",
       "      <th>entrance_id</th>\n",
       "      <th>isochrone_id</th>\n",
       "      <th>geometry</th>\n",
       "    </tr>\n",
       "  </thead>\n",
       "  <tbody>\n",
       "    <tr>\n",
       "      <th>0</th>\n",
       "      <td>300.0</td>\n",
       "      <td>[101.6991072, 3.1590919]</td>\n",
       "      <td>285653.74</td>\n",
       "      <td>0.8183</td>\n",
       "      <td>2842.0</td>\n",
       "      <td>Polygon</td>\n",
       "      <td>7259253706</td>\n",
       "      <td>7259253706300</td>\n",
       "      <td>POLYGON ((101.69596 3.15864, 101.69716 3.15671...</td>\n",
       "    </tr>\n",
       "    <tr>\n",
       "      <th>1</th>\n",
       "      <td>600.0</td>\n",
       "      <td>[101.6991072, 3.1590919]</td>\n",
       "      <td>1375757.45</td>\n",
       "      <td>0.9853</td>\n",
       "      <td>16064.0</td>\n",
       "      <td>Polygon</td>\n",
       "      <td>7259253706</td>\n",
       "      <td>7259253706600</td>\n",
       "      <td>POLYGON ((101.69299 3.16127, 101.69404 3.15614...</td>\n",
       "    </tr>\n",
       "    <tr>\n",
       "      <th>2</th>\n",
       "      <td>900.0</td>\n",
       "      <td>[101.6991072, 3.1590919]</td>\n",
       "      <td>2935073.01</td>\n",
       "      <td>0.9343</td>\n",
       "      <td>42050.0</td>\n",
       "      <td>Polygon</td>\n",
       "      <td>7259253706</td>\n",
       "      <td>7259253706900</td>\n",
       "      <td>POLYGON ((101.69293 3.16340, 101.69280 3.16219...</td>\n",
       "    </tr>\n",
       "  </tbody>\n",
       "</table>\n",
       "</div>"
      ],
      "text/plain": [
       "   value                    center        area  reachfactor  total_pop  \\\n",
       "0  300.0  [101.6991072, 3.1590919]   285653.74       0.8183     2842.0   \n",
       "1  600.0  [101.6991072, 3.1590919]  1375757.45       0.9853    16064.0   \n",
       "2  900.0  [101.6991072, 3.1590919]  2935073.01       0.9343    42050.0   \n",
       "\n",
       "      type  entrance_id   isochrone_id  \\\n",
       "0  Polygon   7259253706  7259253706300   \n",
       "1  Polygon   7259253706  7259253706600   \n",
       "2  Polygon   7259253706  7259253706900   \n",
       "\n",
       "                                            geometry  \n",
       "0  POLYGON ((101.69596 3.15864, 101.69716 3.15671...  \n",
       "1  POLYGON ((101.69299 3.16127, 101.69404 3.15614...  \n",
       "2  POLYGON ((101.69293 3.16340, 101.69280 3.16219...  "
      ]
     },
     "execution_count": 11,
     "metadata": {},
     "output_type": "execute_result"
    }
   ],
   "source": [
    "entrances_iso_gdf"
   ]
  },
  {
   "cell_type": "code",
   "execution_count": 12,
   "metadata": {},
   "outputs": [
    {
     "name": "stderr",
     "output_type": "stream",
     "text": [
      "/home/nabilersyad/miniconda3/envs/sql/lib/python3.9/site-packages/geopandas/geodataframe.py:1537: UserWarning: Geometry column does not contain geometry.\n",
      "  warnings.warn(\"Geometry column does not contain geometry.\")\n"
     ]
    }
   ],
   "source": [
    "#data preparation of geodataframe before being compatible for updating supabase\n",
    "gpf_copy = entrances_iso_gdf.copy()\n",
    "gpf_copy['geometry'] = gpf_copy['geometry'].apply(lambda geom: geom.wkt)\n",
    "gpf_copy['area'] = gpf_copy['area'].astype(float)\n",
    "gpf_copy['reachfactor'] = gpf_copy['reachfactor'].astype(float)\n",
    "gpf_copy['total_pop'] = gpf_copy['total_pop'].astype(float)\n",
    "\n"
   ]
  },
  {
   "cell_type": "code",
   "execution_count": 13,
   "metadata": {},
   "outputs": [],
   "source": [
    "#upsert will insert the row if it doesn’t exist or update the row if it already exists. \n",
    "data, error = supabase.table('entrances_isochrones').upsert(gpf_copy.to_dict(('records'))).execute()\n",
    "\n"
   ]
  },
  {
   "cell_type": "code",
   "execution_count": 14,
   "metadata": {},
   "outputs": [],
   "source": [
    "#creating a reusable function to generate isochrones\n",
    "def generate_entrances_isochrone(client,entrance_id,reach_centre,range=900,interval=300):\n",
    "    isochrone_parameters = {\n",
    "              'profile': 'foot-walking', \n",
    "              'range': [range], # 900/60 = 15 mins\n",
    "              'interval': interval,\n",
    "              'attributes': ['area', 'reachfactor', 'total_pop'] # Get population count for isochrones\n",
    "             }\n",
    "\n",
    "    #reach_centre is in the format: [101.7127175, 3.1587619], ie [longitude,latitude]\n",
    "    isochrone_parameters['locations'] = [reach_centre]\n",
    "    isochrones_output = client.isochrones(**isochrone_parameters)\n",
    "\n",
    "    df = pd.json_normalize(isochrones_output['features'])\n",
    "    df = df.drop(columns=['type','properties.group_index'])\n",
    "\n",
    "    #reformate coordinates column\n",
    "    df['geometry.coordinates']=df['geometry.coordinates'].apply(lambda row:row[0])\n",
    "\n",
    "    # Remove 'properties.' and 'geometry.' from the column names\n",
    "    df.columns = df.columns.str.replace('properties.', '', regex=False)\n",
    "    df.columns = df.columns.str.replace('geometry.', '', regex=False)\n",
    "    \n",
    "\n",
    "    #creating a new id key for isochrones. to be inserted in supabase table\n",
    "    df['entrance_id']=entrance_id\n",
    "    df['isochrone_id'] = df['entrance_id'].astype(str) + df['value'].astype(int).astype(str)\n",
    "    df\n",
    "    return df   \n",
    "    "
   ]
  },
  {
   "cell_type": "code",
   "execution_count": 15,
   "metadata": {},
   "outputs": [
    {
     "data": {
      "text/html": [
       "<div>\n",
       "<style scoped>\n",
       "    .dataframe tbody tr th:only-of-type {\n",
       "        vertical-align: middle;\n",
       "    }\n",
       "\n",
       "    .dataframe tbody tr th {\n",
       "        vertical-align: top;\n",
       "    }\n",
       "\n",
       "    .dataframe thead th {\n",
       "        text-align: right;\n",
       "    }\n",
       "</style>\n",
       "<table border=\"1\" class=\"dataframe\">\n",
       "  <thead>\n",
       "    <tr style=\"text-align: right;\">\n",
       "      <th></th>\n",
       "      <th>value</th>\n",
       "      <th>center</th>\n",
       "      <th>area</th>\n",
       "      <th>reachfactor</th>\n",
       "      <th>total_pop</th>\n",
       "      <th>coordinates</th>\n",
       "      <th>type</th>\n",
       "      <th>entrance_id</th>\n",
       "      <th>isochrone_id</th>\n",
       "    </tr>\n",
       "  </thead>\n",
       "  <tbody>\n",
       "    <tr>\n",
       "      <th>0</th>\n",
       "      <td>300.0</td>\n",
       "      <td>[101.6141298, 3.0222312]</td>\n",
       "      <td>220091.61</td>\n",
       "      <td>0.6305</td>\n",
       "      <td>1498.0</td>\n",
       "      <td>[[101.611457, 3.023368], [101.611967, 3.021279...</td>\n",
       "      <td>Polygon</td>\n",
       "      <td>4092013971</td>\n",
       "      <td>4092013971300</td>\n",
       "    </tr>\n",
       "    <tr>\n",
       "      <th>1</th>\n",
       "      <td>600.0</td>\n",
       "      <td>[101.6141298, 3.0222312]</td>\n",
       "      <td>958202.50</td>\n",
       "      <td>0.6863</td>\n",
       "      <td>5893.0</td>\n",
       "      <td>[[101.608258, 3.021474], [101.608289, 3.021367...</td>\n",
       "      <td>Polygon</td>\n",
       "      <td>4092013971</td>\n",
       "      <td>4092013971600</td>\n",
       "    </tr>\n",
       "    <tr>\n",
       "      <th>2</th>\n",
       "      <td>900.0</td>\n",
       "      <td>[101.6141298, 3.0222312]</td>\n",
       "      <td>2248676.02</td>\n",
       "      <td>0.7158</td>\n",
       "      <td>12267.0</td>\n",
       "      <td>[[101.605448, 3.020465], [101.60581, 3.020405]...</td>\n",
       "      <td>Polygon</td>\n",
       "      <td>4092013971</td>\n",
       "      <td>4092013971900</td>\n",
       "    </tr>\n",
       "  </tbody>\n",
       "</table>\n",
       "</div>"
      ],
      "text/plain": [
       "   value                    center        area  reachfactor  total_pop  \\\n",
       "0  300.0  [101.6141298, 3.0222312]   220091.61       0.6305     1498.0   \n",
       "1  600.0  [101.6141298, 3.0222312]   958202.50       0.6863     5893.0   \n",
       "2  900.0  [101.6141298, 3.0222312]  2248676.02       0.7158    12267.0   \n",
       "\n",
       "                                         coordinates     type  entrance_id  \\\n",
       "0  [[101.611457, 3.023368], [101.611967, 3.021279...  Polygon   4092013971   \n",
       "1  [[101.608258, 3.021474], [101.608289, 3.021367...  Polygon   4092013971   \n",
       "2  [[101.605448, 3.020465], [101.60581, 3.020405]...  Polygon   4092013971   \n",
       "\n",
       "    isochrone_id  \n",
       "0  4092013971300  \n",
       "1  4092013971600  \n",
       "2  4092013971900  "
      ]
     },
     "execution_count": 15,
     "metadata": {},
     "output_type": "execute_result"
    }
   ],
   "source": [
    "reach = [entrances_gdf.iloc[2]['geometry'].coords[0][0],entrances_gdf.iloc[2]['geometry'].coords[0][1]]\n",
    "id = entrances_gdf.iloc[2]['entrance_id']\n",
    "function_df = generate_entrances_isochrone(ors_client,id,reach)\n",
    "function_df"
   ]
  },
  {
   "cell_type": "code",
   "execution_count": 16,
   "metadata": {},
   "outputs": [],
   "source": [
    "def update__entrances_isochrone_supabase(supabase_client,isochrone_dataframe):\n",
    "    # Convert list of coordinates to Polygon objects\n",
    "    isochrone_dataframe['geometry'] = isochrone_dataframe['coordinates'].apply(Polygon)\n",
    "    isochrone_dataframe.drop(columns=['coordinates'],inplace=True)\n",
    "    \n",
    "    # Convert to GeoDataFrame\n",
    "    isochrone_geodataframe = gpd.GeoDataFrame(isochrone_dataframe, geometry='geometry', crs=\"EPSG:4326\")\n",
    "    isochrone_geodataframe['geometry'] = isochrone_geodataframe['geometry'].apply(lambda geom: geom.wkt)\n",
    "    isochrone_geodataframe['area'] = isochrone_geodataframe['area'].astype(float)\n",
    "    isochrone_geodataframe['reachfactor'] = isochrone_geodataframe['reachfactor'].astype(float)\n",
    "    isochrone_geodataframe['total_pop'] = isochrone_geodataframe['total_pop'].astype(float)\n",
    "\n",
    "    isochrone_dict = isochrone_geodataframe.to_dict(('records'))\n",
    "\n",
    "    #upsert will insert the row if it doesn’t exist or update the row if it already exists. \n",
    "    data, error = supabase_client.table('entrances_isochrones').upsert(isochrone_dict).execute()\n",
    "\n",
    "    return data,error\n"
   ]
  },
  {
   "cell_type": "code",
   "execution_count": 36,
   "metadata": {},
   "outputs": [
    {
     "name": "stderr",
     "output_type": "stream",
     "text": [
      "/home/nabilersyad/miniconda3/envs/sql/lib/python3.9/site-packages/geopandas/geodataframe.py:1537: UserWarning: Geometry column does not contain geometry.\n",
      "  warnings.warn(\"Geometry column does not contain geometry.\")\n"
     ]
    },
    {
     "data": {
      "text/plain": [
       "(('data',\n",
       "  [{'isochrone_id': '4092013971300',\n",
       "    'value': 300,\n",
       "    'center': '[101.6141298, 3.0222312]',\n",
       "    'area': 220091.61,\n",
       "    'reachfactor': 0.6305,\n",
       "    'total_pop': 1498,\n",
       "    'type': 'Polygon',\n",
       "    'entrance_id': '4092013971',\n",
       "    'geometry': {'type': 'Polygon',\n",
       "     'coordinates': [[[101.611457, 3.023368],\n",
       "       [101.611967, 3.021279],\n",
       "       [101.612704, 3.020689],\n",
       "       [101.613056, 3.020613],\n",
       "       [101.614862, 3.021034],\n",
       "       [101.616296, 3.022148],\n",
       "       [101.61654, 3.022733],\n",
       "       [101.616571, 3.022918],\n",
       "       [101.616602, 3.023104],\n",
       "       [101.616602, 3.023104],\n",
       "       [101.616633, 3.023289],\n",
       "       [101.616664, 3.023475],\n",
       "       [101.615475, 3.025506],\n",
       "       [101.615244, 3.025566],\n",
       "       [101.613829, 3.025002],\n",
       "       [101.612421, 3.02446],\n",
       "       [101.611923, 3.024061],\n",
       "       [101.611507, 3.023724],\n",
       "       [101.611457, 3.023368]]]}},\n",
       "   {'isochrone_id': '4092013971600',\n",
       "    'value': 600,\n",
       "    'center': '[101.6141298, 3.0222312]',\n",
       "    'area': 958202.5,\n",
       "    'reachfactor': 0.6863,\n",
       "    'total_pop': 5893,\n",
       "    'type': 'Polygon',\n",
       "    'entrance_id': '4092013971',\n",
       "    'geometry': {'type': 'Polygon',\n",
       "     'coordinates': [[[101.608258, 3.021474],\n",
       "       [101.608289, 3.021367],\n",
       "       [101.610508, 3.020629],\n",
       "       [101.614206, 3.01744],\n",
       "       [101.614398, 3.017399],\n",
       "       [101.615771, 3.01836],\n",
       "       [101.618179, 3.021301],\n",
       "       [101.61925, 3.024046],\n",
       "       [101.619298, 3.024402],\n",
       "       [101.619045, 3.024897],\n",
       "       [101.618998, 3.024972],\n",
       "       [101.61767, 3.027013],\n",
       "       [101.617071, 3.027872],\n",
       "       [101.614816, 3.028446],\n",
       "       [101.614052, 3.028633],\n",
       "       [101.613942, 3.028635],\n",
       "       [101.611795, 3.027308],\n",
       "       [101.611337, 3.02698],\n",
       "       [101.609939, 3.025781],\n",
       "       [101.608273, 3.021834],\n",
       "       [101.608258, 3.021474]]]}},\n",
       "   {'isochrone_id': '4092013971900',\n",
       "    'value': 900,\n",
       "    'center': '[101.6141298, 3.0222312]',\n",
       "    'area': 2248676.02,\n",
       "    'reachfactor': 0.7158,\n",
       "    'total_pop': 12267,\n",
       "    'type': 'Polygon',\n",
       "    'entrance_id': '4092013971',\n",
       "    'geometry': {'type': 'Polygon',\n",
       "     'coordinates': [[[101.605448, 3.020465],\n",
       "       [101.60581, 3.020405],\n",
       "       [101.606173, 3.020344],\n",
       "       [101.606473, 3.020452],\n",
       "       [101.607201, 3.020654],\n",
       "       [101.611305, 3.016827],\n",
       "       [101.611309, 3.016659],\n",
       "       [101.612248, 3.014623],\n",
       "       [101.613454, 3.013778],\n",
       "       [101.613813, 3.013746],\n",
       "       [101.614069, 3.013906],\n",
       "       [101.615339, 3.014707],\n",
       "       [101.615672, 3.014934],\n",
       "       [101.615989, 3.015149],\n",
       "       [101.616967, 3.015821],\n",
       "       [101.617933, 3.016478],\n",
       "       [101.617997, 3.016832],\n",
       "       [101.619536, 3.020871],\n",
       "       [101.62264, 3.022601],\n",
       "       [101.622869, 3.022879],\n",
       "       [101.622802, 3.023374],\n",
       "       [101.622119, 3.025129],\n",
       "       [101.622012, 3.0253],\n",
       "       [101.620759, 3.027182],\n",
       "       [101.617424, 3.031058],\n",
       "       [101.617135, 3.031272],\n",
       "       [101.613562, 3.032099],\n",
       "       [101.613325, 3.031985],\n",
       "       [101.613098, 3.031843],\n",
       "       [101.611205, 3.030346],\n",
       "       [101.61104, 3.030081],\n",
       "       [101.610226, 3.028571],\n",
       "       [101.60666, 3.023851],\n",
       "       [101.605523, 3.021213],\n",
       "       [101.605448, 3.020465]]]}}]),\n",
       " ('count', None))"
      ]
     },
     "execution_count": 36,
     "metadata": {},
     "output_type": "execute_result"
    }
   ],
   "source": [
    "update__entrances_isochrone_supabase(supabase,function_df)"
   ]
  },
  {
   "cell_type": "code",
   "execution_count": 19,
   "metadata": {},
   "outputs": [],
   "source": [
    "def process_entrances(entrances_gdf, client, supabase_client):\n",
    "    # Iterate over each row in the GeoDataFrame\n",
    "    for index, row in entrances_gdf.iterrows():\n",
    "        entrance_id = row['entrance_id']  # Extract entrance_id\n",
    "        \n",
    "        # Extract coordinates (reach_centre) from the geometry\n",
    "        reach_centre = [row['geometry'].coords[0][0], row['geometry'].coords[0][1]]\n",
    "        \n",
    "        # Generate the isochrone for this entrance using the specified function\n",
    "        try:\n",
    "            isochrone_dataframe = generate_entrances_isochrone(\n",
    "                client, \n",
    "                entrance_id, \n",
    "                reach_centre, \n",
    "                range=900,    # 15 minutes\n",
    "                interval=300  # 5 minutes\n",
    "            )\n",
    "            \n",
    "            # Update the isochrone data in Supabase using the specified function\n",
    "            update__entrances_isochrone_supabase(supabase_client, isochrone_dataframe)\n",
    "            print(f'updated {entrance_id}')\n",
    "            \n",
    "        except Exception as e:\n",
    "            # Handle exceptions (e.g., API errors, invalid geometries, etc.)\n",
    "            print(f\"Error processing entrance {entrance_id}: {e}\")\n"
   ]
  },
  {
   "cell_type": "code",
   "execution_count": 20,
   "metadata": {},
   "outputs": [
    {
     "name": "stderr",
     "output_type": "stream",
     "text": [
      "/home/nabilersyad/miniconda3/envs/sql/lib/python3.9/site-packages/geopandas/geodataframe.py:1537: UserWarning: Geometry column does not contain geometry.\n",
      "  warnings.warn(\"Geometry column does not contain geometry.\")\n"
     ]
    },
    {
     "name": "stdout",
     "output_type": "stream",
     "text": [
      "updated 3308608988\n"
     ]
    },
    {
     "name": "stderr",
     "output_type": "stream",
     "text": [
      "/home/nabilersyad/miniconda3/envs/sql/lib/python3.9/site-packages/geopandas/geodataframe.py:1537: UserWarning: Geometry column does not contain geometry.\n",
      "  warnings.warn(\"Geometry column does not contain geometry.\")\n"
     ]
    },
    {
     "name": "stdout",
     "output_type": "stream",
     "text": [
      "updated 3308608989\n"
     ]
    },
    {
     "name": "stderr",
     "output_type": "stream",
     "text": [
      "/home/nabilersyad/miniconda3/envs/sql/lib/python3.9/site-packages/geopandas/geodataframe.py:1537: UserWarning: Geometry column does not contain geometry.\n",
      "  warnings.warn(\"Geometry column does not contain geometry.\")\n"
     ]
    },
    {
     "name": "stdout",
     "output_type": "stream",
     "text": [
      "updated 4092013971\n"
     ]
    },
    {
     "name": "stderr",
     "output_type": "stream",
     "text": [
      "/home/nabilersyad/miniconda3/envs/sql/lib/python3.9/site-packages/geopandas/geodataframe.py:1537: UserWarning: Geometry column does not contain geometry.\n",
      "  warnings.warn(\"Geometry column does not contain geometry.\")\n"
     ]
    },
    {
     "name": "stdout",
     "output_type": "stream",
     "text": [
      "updated 4952299503\n"
     ]
    },
    {
     "name": "stderr",
     "output_type": "stream",
     "text": [
      "/home/nabilersyad/miniconda3/envs/sql/lib/python3.9/site-packages/geopandas/geodataframe.py:1537: UserWarning: Geometry column does not contain geometry.\n",
      "  warnings.warn(\"Geometry column does not contain geometry.\")\n"
     ]
    },
    {
     "name": "stdout",
     "output_type": "stream",
     "text": [
      "updated 5040821684\n"
     ]
    },
    {
     "name": "stderr",
     "output_type": "stream",
     "text": [
      "/home/nabilersyad/miniconda3/envs/sql/lib/python3.9/site-packages/geopandas/geodataframe.py:1537: UserWarning: Geometry column does not contain geometry.\n",
      "  warnings.warn(\"Geometry column does not contain geometry.\")\n"
     ]
    },
    {
     "name": "stdout",
     "output_type": "stream",
     "text": [
      "updated 5040821685\n"
     ]
    },
    {
     "name": "stderr",
     "output_type": "stream",
     "text": [
      "/home/nabilersyad/miniconda3/envs/sql/lib/python3.9/site-packages/geopandas/geodataframe.py:1537: UserWarning: Geometry column does not contain geometry.\n",
      "  warnings.warn(\"Geometry column does not contain geometry.\")\n"
     ]
    },
    {
     "name": "stdout",
     "output_type": "stream",
     "text": [
      "updated 5040821688\n"
     ]
    },
    {
     "name": "stderr",
     "output_type": "stream",
     "text": [
      "/home/nabilersyad/miniconda3/envs/sql/lib/python3.9/site-packages/geopandas/geodataframe.py:1537: UserWarning: Geometry column does not contain geometry.\n",
      "  warnings.warn(\"Geometry column does not contain geometry.\")\n"
     ]
    },
    {
     "name": "stdout",
     "output_type": "stream",
     "text": [
      "updated 5040821689\n"
     ]
    },
    {
     "name": "stderr",
     "output_type": "stream",
     "text": [
      "/home/nabilersyad/miniconda3/envs/sql/lib/python3.9/site-packages/geopandas/geodataframe.py:1537: UserWarning: Geometry column does not contain geometry.\n",
      "  warnings.warn(\"Geometry column does not contain geometry.\")\n"
     ]
    },
    {
     "name": "stdout",
     "output_type": "stream",
     "text": [
      "updated 5042521354\n"
     ]
    },
    {
     "name": "stderr",
     "output_type": "stream",
     "text": [
      "/home/nabilersyad/miniconda3/envs/sql/lib/python3.9/site-packages/geopandas/geodataframe.py:1537: UserWarning: Geometry column does not contain geometry.\n",
      "  warnings.warn(\"Geometry column does not contain geometry.\")\n"
     ]
    },
    {
     "name": "stdout",
     "output_type": "stream",
     "text": [
      "updated 5042521355\n"
     ]
    },
    {
     "name": "stderr",
     "output_type": "stream",
     "text": [
      "/home/nabilersyad/miniconda3/envs/sql/lib/python3.9/site-packages/geopandas/geodataframe.py:1537: UserWarning: Geometry column does not contain geometry.\n",
      "  warnings.warn(\"Geometry column does not contain geometry.\")\n"
     ]
    },
    {
     "name": "stdout",
     "output_type": "stream",
     "text": [
      "updated 5042521365\n"
     ]
    },
    {
     "name": "stderr",
     "output_type": "stream",
     "text": [
      "/home/nabilersyad/miniconda3/envs/sql/lib/python3.9/site-packages/geopandas/geodataframe.py:1537: UserWarning: Geometry column does not contain geometry.\n",
      "  warnings.warn(\"Geometry column does not contain geometry.\")\n"
     ]
    },
    {
     "name": "stdout",
     "output_type": "stream",
     "text": [
      "updated 5043240641\n"
     ]
    },
    {
     "name": "stderr",
     "output_type": "stream",
     "text": [
      "/home/nabilersyad/miniconda3/envs/sql/lib/python3.9/site-packages/geopandas/geodataframe.py:1537: UserWarning: Geometry column does not contain geometry.\n",
      "  warnings.warn(\"Geometry column does not contain geometry.\")\n"
     ]
    },
    {
     "name": "stdout",
     "output_type": "stream",
     "text": [
      "updated 5043240648\n"
     ]
    },
    {
     "name": "stderr",
     "output_type": "stream",
     "text": [
      "/home/nabilersyad/miniconda3/envs/sql/lib/python3.9/site-packages/geopandas/geodataframe.py:1537: UserWarning: Geometry column does not contain geometry.\n",
      "  warnings.warn(\"Geometry column does not contain geometry.\")\n"
     ]
    },
    {
     "name": "stdout",
     "output_type": "stream",
     "text": [
      "updated 5044809566\n"
     ]
    },
    {
     "name": "stderr",
     "output_type": "stream",
     "text": [
      "/home/nabilersyad/miniconda3/envs/sql/lib/python3.9/site-packages/geopandas/geodataframe.py:1537: UserWarning: Geometry column does not contain geometry.\n",
      "  warnings.warn(\"Geometry column does not contain geometry.\")\n"
     ]
    },
    {
     "name": "stdout",
     "output_type": "stream",
     "text": [
      "updated 5044809567\n"
     ]
    },
    {
     "name": "stderr",
     "output_type": "stream",
     "text": [
      "/home/nabilersyad/miniconda3/envs/sql/lib/python3.9/site-packages/geopandas/geodataframe.py:1537: UserWarning: Geometry column does not contain geometry.\n",
      "  warnings.warn(\"Geometry column does not contain geometry.\")\n"
     ]
    },
    {
     "name": "stdout",
     "output_type": "stream",
     "text": [
      "updated 5044809568\n"
     ]
    },
    {
     "name": "stderr",
     "output_type": "stream",
     "text": [
      "/home/nabilersyad/miniconda3/envs/sql/lib/python3.9/site-packages/geopandas/geodataframe.py:1537: UserWarning: Geometry column does not contain geometry.\n",
      "  warnings.warn(\"Geometry column does not contain geometry.\")\n"
     ]
    },
    {
     "name": "stdout",
     "output_type": "stream",
     "text": [
      "updated 5044809569\n"
     ]
    },
    {
     "name": "stderr",
     "output_type": "stream",
     "text": [
      "/home/nabilersyad/miniconda3/envs/sql/lib/python3.9/site-packages/geopandas/geodataframe.py:1537: UserWarning: Geometry column does not contain geometry.\n",
      "  warnings.warn(\"Geometry column does not contain geometry.\")\n"
     ]
    },
    {
     "name": "stdout",
     "output_type": "stream",
     "text": [
      "updated 5044809580\n"
     ]
    },
    {
     "name": "stderr",
     "output_type": "stream",
     "text": [
      "/home/nabilersyad/miniconda3/envs/sql/lib/python3.9/site-packages/geopandas/geodataframe.py:1537: UserWarning: Geometry column does not contain geometry.\n",
      "  warnings.warn(\"Geometry column does not contain geometry.\")\n"
     ]
    },
    {
     "name": "stdout",
     "output_type": "stream",
     "text": [
      "updated 5044809584\n"
     ]
    },
    {
     "name": "stderr",
     "output_type": "stream",
     "text": [
      "/home/nabilersyad/miniconda3/envs/sql/lib/python3.9/site-packages/geopandas/geodataframe.py:1537: UserWarning: Geometry column does not contain geometry.\n",
      "  warnings.warn(\"Geometry column does not contain geometry.\")\n"
     ]
    },
    {
     "name": "stdout",
     "output_type": "stream",
     "text": [
      "updated 5044809586\n"
     ]
    },
    {
     "name": "stderr",
     "output_type": "stream",
     "text": [
      "/home/nabilersyad/miniconda3/envs/sql/lib/python3.9/site-packages/openrouteservice/client.py:211: UserWarning: Rate limit exceeded. Retrying for the 1st time.\n",
      "  warnings.warn('Rate limit exceeded. Retrying for the {0}{1} time.'.format(retry_counter + 1,\n",
      "/home/nabilersyad/miniconda3/envs/sql/lib/python3.9/site-packages/openrouteservice/client.py:211: UserWarning: Rate limit exceeded. Retrying for the 2nd time.\n",
      "  warnings.warn('Rate limit exceeded. Retrying for the {0}{1} time.'.format(retry_counter + 1,\n",
      "/home/nabilersyad/miniconda3/envs/sql/lib/python3.9/site-packages/openrouteservice/client.py:211: UserWarning: Rate limit exceeded. Retrying for the 3rd time.\n",
      "  warnings.warn('Rate limit exceeded. Retrying for the {0}{1} time.'.format(retry_counter + 1,\n",
      "/home/nabilersyad/miniconda3/envs/sql/lib/python3.9/site-packages/openrouteservice/client.py:211: UserWarning: Rate limit exceeded. Retrying for the 4th time.\n",
      "  warnings.warn('Rate limit exceeded. Retrying for the {0}{1} time.'.format(retry_counter + 1,\n",
      "/home/nabilersyad/miniconda3/envs/sql/lib/python3.9/site-packages/openrouteservice/client.py:211: UserWarning: Rate limit exceeded. Retrying for the 5th time.\n",
      "  warnings.warn('Rate limit exceeded. Retrying for the {0}{1} time.'.format(retry_counter + 1,\n",
      "/home/nabilersyad/miniconda3/envs/sql/lib/python3.9/site-packages/openrouteservice/client.py:211: UserWarning: Rate limit exceeded. Retrying for the 6th time.\n",
      "  warnings.warn('Rate limit exceeded. Retrying for the {0}{1} time.'.format(retry_counter + 1,\n",
      "/home/nabilersyad/miniconda3/envs/sql/lib/python3.9/site-packages/openrouteservice/client.py:211: UserWarning: Rate limit exceeded. Retrying for the 7th time.\n",
      "  warnings.warn('Rate limit exceeded. Retrying for the {0}{1} time.'.format(retry_counter + 1,\n",
      "/home/nabilersyad/miniconda3/envs/sql/lib/python3.9/site-packages/openrouteservice/client.py:211: UserWarning: Rate limit exceeded. Retrying for the 8th time.\n",
      "  warnings.warn('Rate limit exceeded. Retrying for the {0}{1} time.'.format(retry_counter + 1,\n",
      "/home/nabilersyad/miniconda3/envs/sql/lib/python3.9/site-packages/openrouteservice/client.py:211: UserWarning: Rate limit exceeded. Retrying for the 9th time.\n",
      "  warnings.warn('Rate limit exceeded. Retrying for the {0}{1} time.'.format(retry_counter + 1,\n",
      "/home/nabilersyad/miniconda3/envs/sql/lib/python3.9/site-packages/geopandas/geodataframe.py:1537: UserWarning: Geometry column does not contain geometry.\n",
      "  warnings.warn(\"Geometry column does not contain geometry.\")\n"
     ]
    },
    {
     "name": "stdout",
     "output_type": "stream",
     "text": [
      "updated 5261439396\n"
     ]
    },
    {
     "name": "stderr",
     "output_type": "stream",
     "text": [
      "/home/nabilersyad/miniconda3/envs/sql/lib/python3.9/site-packages/geopandas/geodataframe.py:1537: UserWarning: Geometry column does not contain geometry.\n",
      "  warnings.warn(\"Geometry column does not contain geometry.\")\n"
     ]
    },
    {
     "name": "stdout",
     "output_type": "stream",
     "text": [
      "updated 5261535537\n"
     ]
    },
    {
     "name": "stderr",
     "output_type": "stream",
     "text": [
      "/home/nabilersyad/miniconda3/envs/sql/lib/python3.9/site-packages/geopandas/geodataframe.py:1537: UserWarning: Geometry column does not contain geometry.\n",
      "  warnings.warn(\"Geometry column does not contain geometry.\")\n"
     ]
    },
    {
     "name": "stdout",
     "output_type": "stream",
     "text": [
      "updated 5261535590\n"
     ]
    },
    {
     "name": "stderr",
     "output_type": "stream",
     "text": [
      "/home/nabilersyad/miniconda3/envs/sql/lib/python3.9/site-packages/geopandas/geodataframe.py:1537: UserWarning: Geometry column does not contain geometry.\n",
      "  warnings.warn(\"Geometry column does not contain geometry.\")\n"
     ]
    },
    {
     "name": "stdout",
     "output_type": "stream",
     "text": [
      "updated 5383383307\n"
     ]
    },
    {
     "name": "stderr",
     "output_type": "stream",
     "text": [
      "/home/nabilersyad/miniconda3/envs/sql/lib/python3.9/site-packages/geopandas/geodataframe.py:1537: UserWarning: Geometry column does not contain geometry.\n",
      "  warnings.warn(\"Geometry column does not contain geometry.\")\n"
     ]
    },
    {
     "name": "stdout",
     "output_type": "stream",
     "text": [
      "updated 5385396799\n"
     ]
    },
    {
     "name": "stderr",
     "output_type": "stream",
     "text": [
      "/home/nabilersyad/miniconda3/envs/sql/lib/python3.9/site-packages/geopandas/geodataframe.py:1537: UserWarning: Geometry column does not contain geometry.\n",
      "  warnings.warn(\"Geometry column does not contain geometry.\")\n"
     ]
    },
    {
     "name": "stdout",
     "output_type": "stream",
     "text": [
      "updated 5469085624\n"
     ]
    },
    {
     "name": "stderr",
     "output_type": "stream",
     "text": [
      "/home/nabilersyad/miniconda3/envs/sql/lib/python3.9/site-packages/geopandas/geodataframe.py:1537: UserWarning: Geometry column does not contain geometry.\n",
      "  warnings.warn(\"Geometry column does not contain geometry.\")\n"
     ]
    },
    {
     "name": "stdout",
     "output_type": "stream",
     "text": [
      "updated 5469085630\n"
     ]
    },
    {
     "name": "stderr",
     "output_type": "stream",
     "text": [
      "/home/nabilersyad/miniconda3/envs/sql/lib/python3.9/site-packages/geopandas/geodataframe.py:1537: UserWarning: Geometry column does not contain geometry.\n",
      "  warnings.warn(\"Geometry column does not contain geometry.\")\n"
     ]
    },
    {
     "name": "stdout",
     "output_type": "stream",
     "text": [
      "updated 5469085631\n"
     ]
    },
    {
     "name": "stderr",
     "output_type": "stream",
     "text": [
      "/home/nabilersyad/miniconda3/envs/sql/lib/python3.9/site-packages/geopandas/geodataframe.py:1537: UserWarning: Geometry column does not contain geometry.\n",
      "  warnings.warn(\"Geometry column does not contain geometry.\")\n"
     ]
    },
    {
     "name": "stdout",
     "output_type": "stream",
     "text": [
      "updated 5469085632\n"
     ]
    },
    {
     "name": "stderr",
     "output_type": "stream",
     "text": [
      "/home/nabilersyad/miniconda3/envs/sql/lib/python3.9/site-packages/geopandas/geodataframe.py:1537: UserWarning: Geometry column does not contain geometry.\n",
      "  warnings.warn(\"Geometry column does not contain geometry.\")\n"
     ]
    },
    {
     "name": "stdout",
     "output_type": "stream",
     "text": [
      "updated 5469085641\n"
     ]
    },
    {
     "name": "stderr",
     "output_type": "stream",
     "text": [
      "/home/nabilersyad/miniconda3/envs/sql/lib/python3.9/site-packages/geopandas/geodataframe.py:1537: UserWarning: Geometry column does not contain geometry.\n",
      "  warnings.warn(\"Geometry column does not contain geometry.\")\n"
     ]
    },
    {
     "name": "stdout",
     "output_type": "stream",
     "text": [
      "updated 5484250474\n"
     ]
    },
    {
     "name": "stderr",
     "output_type": "stream",
     "text": [
      "/home/nabilersyad/miniconda3/envs/sql/lib/python3.9/site-packages/geopandas/geodataframe.py:1537: UserWarning: Geometry column does not contain geometry.\n",
      "  warnings.warn(\"Geometry column does not contain geometry.\")\n"
     ]
    },
    {
     "name": "stdout",
     "output_type": "stream",
     "text": [
      "updated 5484250475\n"
     ]
    },
    {
     "name": "stderr",
     "output_type": "stream",
     "text": [
      "/home/nabilersyad/miniconda3/envs/sql/lib/python3.9/site-packages/geopandas/geodataframe.py:1537: UserWarning: Geometry column does not contain geometry.\n",
      "  warnings.warn(\"Geometry column does not contain geometry.\")\n"
     ]
    },
    {
     "name": "stdout",
     "output_type": "stream",
     "text": [
      "updated 5484616643\n"
     ]
    },
    {
     "name": "stderr",
     "output_type": "stream",
     "text": [
      "/home/nabilersyad/miniconda3/envs/sql/lib/python3.9/site-packages/geopandas/geodataframe.py:1537: UserWarning: Geometry column does not contain geometry.\n",
      "  warnings.warn(\"Geometry column does not contain geometry.\")\n"
     ]
    },
    {
     "name": "stdout",
     "output_type": "stream",
     "text": [
      "updated 5484616646\n"
     ]
    },
    {
     "name": "stderr",
     "output_type": "stream",
     "text": [
      "/home/nabilersyad/miniconda3/envs/sql/lib/python3.9/site-packages/geopandas/geodataframe.py:1537: UserWarning: Geometry column does not contain geometry.\n",
      "  warnings.warn(\"Geometry column does not contain geometry.\")\n"
     ]
    },
    {
     "name": "stdout",
     "output_type": "stream",
     "text": [
      "updated 5624757758\n"
     ]
    },
    {
     "name": "stderr",
     "output_type": "stream",
     "text": [
      "/home/nabilersyad/miniconda3/envs/sql/lib/python3.9/site-packages/geopandas/geodataframe.py:1537: UserWarning: Geometry column does not contain geometry.\n",
      "  warnings.warn(\"Geometry column does not contain geometry.\")\n"
     ]
    },
    {
     "name": "stdout",
     "output_type": "stream",
     "text": [
      "updated 5485710279\n"
     ]
    },
    {
     "name": "stderr",
     "output_type": "stream",
     "text": [
      "/home/nabilersyad/miniconda3/envs/sql/lib/python3.9/site-packages/geopandas/geodataframe.py:1537: UserWarning: Geometry column does not contain geometry.\n",
      "  warnings.warn(\"Geometry column does not contain geometry.\")\n"
     ]
    },
    {
     "name": "stdout",
     "output_type": "stream",
     "text": [
      "updated 5486069126\n"
     ]
    },
    {
     "name": "stderr",
     "output_type": "stream",
     "text": [
      "/home/nabilersyad/miniconda3/envs/sql/lib/python3.9/site-packages/openrouteservice/client.py:211: UserWarning: Rate limit exceeded. Retrying for the 1st time.\n",
      "  warnings.warn('Rate limit exceeded. Retrying for the {0}{1} time.'.format(retry_counter + 1,\n",
      "/home/nabilersyad/miniconda3/envs/sql/lib/python3.9/site-packages/openrouteservice/client.py:211: UserWarning: Rate limit exceeded. Retrying for the 2nd time.\n",
      "  warnings.warn('Rate limit exceeded. Retrying for the {0}{1} time.'.format(retry_counter + 1,\n",
      "/home/nabilersyad/miniconda3/envs/sql/lib/python3.9/site-packages/openrouteservice/client.py:211: UserWarning: Rate limit exceeded. Retrying for the 3rd time.\n",
      "  warnings.warn('Rate limit exceeded. Retrying for the {0}{1} time.'.format(retry_counter + 1,\n",
      "/home/nabilersyad/miniconda3/envs/sql/lib/python3.9/site-packages/openrouteservice/client.py:211: UserWarning: Rate limit exceeded. Retrying for the 4th time.\n",
      "  warnings.warn('Rate limit exceeded. Retrying for the {0}{1} time.'.format(retry_counter + 1,\n",
      "/home/nabilersyad/miniconda3/envs/sql/lib/python3.9/site-packages/openrouteservice/client.py:211: UserWarning: Rate limit exceeded. Retrying for the 5th time.\n",
      "  warnings.warn('Rate limit exceeded. Retrying for the {0}{1} time.'.format(retry_counter + 1,\n",
      "/home/nabilersyad/miniconda3/envs/sql/lib/python3.9/site-packages/openrouteservice/client.py:211: UserWarning: Rate limit exceeded. Retrying for the 6th time.\n",
      "  warnings.warn('Rate limit exceeded. Retrying for the {0}{1} time.'.format(retry_counter + 1,\n",
      "/home/nabilersyad/miniconda3/envs/sql/lib/python3.9/site-packages/openrouteservice/client.py:211: UserWarning: Rate limit exceeded. Retrying for the 7th time.\n",
      "  warnings.warn('Rate limit exceeded. Retrying for the {0}{1} time.'.format(retry_counter + 1,\n",
      "/home/nabilersyad/miniconda3/envs/sql/lib/python3.9/site-packages/openrouteservice/client.py:211: UserWarning: Rate limit exceeded. Retrying for the 8th time.\n",
      "  warnings.warn('Rate limit exceeded. Retrying for the {0}{1} time.'.format(retry_counter + 1,\n",
      "/home/nabilersyad/miniconda3/envs/sql/lib/python3.9/site-packages/openrouteservice/client.py:211: UserWarning: Rate limit exceeded. Retrying for the 9th time.\n",
      "  warnings.warn('Rate limit exceeded. Retrying for the {0}{1} time.'.format(retry_counter + 1,\n",
      "/home/nabilersyad/miniconda3/envs/sql/lib/python3.9/site-packages/geopandas/geodataframe.py:1537: UserWarning: Geometry column does not contain geometry.\n",
      "  warnings.warn(\"Geometry column does not contain geometry.\")\n"
     ]
    },
    {
     "name": "stdout",
     "output_type": "stream",
     "text": [
      "updated 5488029391\n"
     ]
    },
    {
     "name": "stderr",
     "output_type": "stream",
     "text": [
      "/home/nabilersyad/miniconda3/envs/sql/lib/python3.9/site-packages/geopandas/geodataframe.py:1537: UserWarning: Geometry column does not contain geometry.\n",
      "  warnings.warn(\"Geometry column does not contain geometry.\")\n"
     ]
    },
    {
     "name": "stdout",
     "output_type": "stream",
     "text": [
      "updated 5581685893\n"
     ]
    },
    {
     "name": "stderr",
     "output_type": "stream",
     "text": [
      "/home/nabilersyad/miniconda3/envs/sql/lib/python3.9/site-packages/geopandas/geodataframe.py:1537: UserWarning: Geometry column does not contain geometry.\n",
      "  warnings.warn(\"Geometry column does not contain geometry.\")\n"
     ]
    },
    {
     "name": "stdout",
     "output_type": "stream",
     "text": [
      "updated 5641420313\n"
     ]
    },
    {
     "name": "stderr",
     "output_type": "stream",
     "text": [
      "/home/nabilersyad/miniconda3/envs/sql/lib/python3.9/site-packages/geopandas/geodataframe.py:1537: UserWarning: Geometry column does not contain geometry.\n",
      "  warnings.warn(\"Geometry column does not contain geometry.\")\n"
     ]
    },
    {
     "name": "stdout",
     "output_type": "stream",
     "text": [
      "updated 5724964836\n"
     ]
    },
    {
     "name": "stderr",
     "output_type": "stream",
     "text": [
      "/home/nabilersyad/miniconda3/envs/sql/lib/python3.9/site-packages/geopandas/geodataframe.py:1537: UserWarning: Geometry column does not contain geometry.\n",
      "  warnings.warn(\"Geometry column does not contain geometry.\")\n"
     ]
    },
    {
     "name": "stdout",
     "output_type": "stream",
     "text": [
      "updated 5858640711\n"
     ]
    },
    {
     "name": "stderr",
     "output_type": "stream",
     "text": [
      "/home/nabilersyad/miniconda3/envs/sql/lib/python3.9/site-packages/geopandas/geodataframe.py:1537: UserWarning: Geometry column does not contain geometry.\n",
      "  warnings.warn(\"Geometry column does not contain geometry.\")\n"
     ]
    },
    {
     "name": "stdout",
     "output_type": "stream",
     "text": [
      "updated 5858640712\n"
     ]
    },
    {
     "name": "stderr",
     "output_type": "stream",
     "text": [
      "/home/nabilersyad/miniconda3/envs/sql/lib/python3.9/site-packages/geopandas/geodataframe.py:1537: UserWarning: Geometry column does not contain geometry.\n",
      "  warnings.warn(\"Geometry column does not contain geometry.\")\n"
     ]
    },
    {
     "name": "stdout",
     "output_type": "stream",
     "text": [
      "updated 6162833429\n"
     ]
    },
    {
     "name": "stderr",
     "output_type": "stream",
     "text": [
      "/home/nabilersyad/miniconda3/envs/sql/lib/python3.9/site-packages/geopandas/geodataframe.py:1537: UserWarning: Geometry column does not contain geometry.\n",
      "  warnings.warn(\"Geometry column does not contain geometry.\")\n"
     ]
    },
    {
     "name": "stdout",
     "output_type": "stream",
     "text": [
      "updated 6162845303\n"
     ]
    },
    {
     "name": "stderr",
     "output_type": "stream",
     "text": [
      "/home/nabilersyad/miniconda3/envs/sql/lib/python3.9/site-packages/geopandas/geodataframe.py:1537: UserWarning: Geometry column does not contain geometry.\n",
      "  warnings.warn(\"Geometry column does not contain geometry.\")\n"
     ]
    },
    {
     "name": "stdout",
     "output_type": "stream",
     "text": [
      "updated 6575190638\n"
     ]
    },
    {
     "name": "stderr",
     "output_type": "stream",
     "text": [
      "/home/nabilersyad/miniconda3/envs/sql/lib/python3.9/site-packages/geopandas/geodataframe.py:1537: UserWarning: Geometry column does not contain geometry.\n",
      "  warnings.warn(\"Geometry column does not contain geometry.\")\n"
     ]
    },
    {
     "name": "stdout",
     "output_type": "stream",
     "text": [
      "updated 6782815005\n"
     ]
    },
    {
     "name": "stderr",
     "output_type": "stream",
     "text": [
      "/home/nabilersyad/miniconda3/envs/sql/lib/python3.9/site-packages/geopandas/geodataframe.py:1537: UserWarning: Geometry column does not contain geometry.\n",
      "  warnings.warn(\"Geometry column does not contain geometry.\")\n"
     ]
    },
    {
     "name": "stdout",
     "output_type": "stream",
     "text": [
      "updated 6782815006\n"
     ]
    },
    {
     "name": "stderr",
     "output_type": "stream",
     "text": [
      "/home/nabilersyad/miniconda3/envs/sql/lib/python3.9/site-packages/geopandas/geodataframe.py:1537: UserWarning: Geometry column does not contain geometry.\n",
      "  warnings.warn(\"Geometry column does not contain geometry.\")\n"
     ]
    },
    {
     "name": "stdout",
     "output_type": "stream",
     "text": [
      "updated 7150491826\n"
     ]
    },
    {
     "name": "stderr",
     "output_type": "stream",
     "text": [
      "/home/nabilersyad/miniconda3/envs/sql/lib/python3.9/site-packages/geopandas/geodataframe.py:1537: UserWarning: Geometry column does not contain geometry.\n",
      "  warnings.warn(\"Geometry column does not contain geometry.\")\n"
     ]
    },
    {
     "name": "stdout",
     "output_type": "stream",
     "text": [
      "updated 7150491837\n"
     ]
    },
    {
     "name": "stderr",
     "output_type": "stream",
     "text": [
      "/home/nabilersyad/miniconda3/envs/sql/lib/python3.9/site-packages/geopandas/geodataframe.py:1537: UserWarning: Geometry column does not contain geometry.\n",
      "  warnings.warn(\"Geometry column does not contain geometry.\")\n"
     ]
    },
    {
     "name": "stdout",
     "output_type": "stream",
     "text": [
      "updated 7259253706\n"
     ]
    },
    {
     "name": "stderr",
     "output_type": "stream",
     "text": [
      "/home/nabilersyad/miniconda3/envs/sql/lib/python3.9/site-packages/geopandas/geodataframe.py:1537: UserWarning: Geometry column does not contain geometry.\n",
      "  warnings.warn(\"Geometry column does not contain geometry.\")\n"
     ]
    },
    {
     "name": "stdout",
     "output_type": "stream",
     "text": [
      "updated 7299533782\n"
     ]
    },
    {
     "name": "stderr",
     "output_type": "stream",
     "text": [
      "/home/nabilersyad/miniconda3/envs/sql/lib/python3.9/site-packages/geopandas/geodataframe.py:1537: UserWarning: Geometry column does not contain geometry.\n",
      "  warnings.warn(\"Geometry column does not contain geometry.\")\n"
     ]
    },
    {
     "name": "stdout",
     "output_type": "stream",
     "text": [
      "updated 7387995582\n"
     ]
    },
    {
     "name": "stderr",
     "output_type": "stream",
     "text": [
      "/home/nabilersyad/miniconda3/envs/sql/lib/python3.9/site-packages/geopandas/geodataframe.py:1537: UserWarning: Geometry column does not contain geometry.\n",
      "  warnings.warn(\"Geometry column does not contain geometry.\")\n"
     ]
    },
    {
     "name": "stdout",
     "output_type": "stream",
     "text": [
      "updated 7733651045\n"
     ]
    },
    {
     "name": "stderr",
     "output_type": "stream",
     "text": [
      "/home/nabilersyad/miniconda3/envs/sql/lib/python3.9/site-packages/geopandas/geodataframe.py:1537: UserWarning: Geometry column does not contain geometry.\n",
      "  warnings.warn(\"Geometry column does not contain geometry.\")\n"
     ]
    },
    {
     "name": "stdout",
     "output_type": "stream",
     "text": [
      "updated 7733651046\n"
     ]
    },
    {
     "name": "stderr",
     "output_type": "stream",
     "text": [
      "/home/nabilersyad/miniconda3/envs/sql/lib/python3.9/site-packages/geopandas/geodataframe.py:1537: UserWarning: Geometry column does not contain geometry.\n",
      "  warnings.warn(\"Geometry column does not contain geometry.\")\n"
     ]
    },
    {
     "name": "stdout",
     "output_type": "stream",
     "text": [
      "updated 8074913901\n"
     ]
    },
    {
     "name": "stderr",
     "output_type": "stream",
     "text": [
      "/home/nabilersyad/miniconda3/envs/sql/lib/python3.9/site-packages/openrouteservice/client.py:211: UserWarning: Rate limit exceeded. Retrying for the 1st time.\n",
      "  warnings.warn('Rate limit exceeded. Retrying for the {0}{1} time.'.format(retry_counter + 1,\n",
      "/home/nabilersyad/miniconda3/envs/sql/lib/python3.9/site-packages/openrouteservice/client.py:211: UserWarning: Rate limit exceeded. Retrying for the 2nd time.\n",
      "  warnings.warn('Rate limit exceeded. Retrying for the {0}{1} time.'.format(retry_counter + 1,\n",
      "/home/nabilersyad/miniconda3/envs/sql/lib/python3.9/site-packages/openrouteservice/client.py:211: UserWarning: Rate limit exceeded. Retrying for the 3rd time.\n",
      "  warnings.warn('Rate limit exceeded. Retrying for the {0}{1} time.'.format(retry_counter + 1,\n",
      "/home/nabilersyad/miniconda3/envs/sql/lib/python3.9/site-packages/openrouteservice/client.py:211: UserWarning: Rate limit exceeded. Retrying for the 4th time.\n",
      "  warnings.warn('Rate limit exceeded. Retrying for the {0}{1} time.'.format(retry_counter + 1,\n",
      "/home/nabilersyad/miniconda3/envs/sql/lib/python3.9/site-packages/openrouteservice/client.py:211: UserWarning: Rate limit exceeded. Retrying for the 5th time.\n",
      "  warnings.warn('Rate limit exceeded. Retrying for the {0}{1} time.'.format(retry_counter + 1,\n",
      "/home/nabilersyad/miniconda3/envs/sql/lib/python3.9/site-packages/openrouteservice/client.py:211: UserWarning: Rate limit exceeded. Retrying for the 6th time.\n",
      "  warnings.warn('Rate limit exceeded. Retrying for the {0}{1} time.'.format(retry_counter + 1,\n",
      "/home/nabilersyad/miniconda3/envs/sql/lib/python3.9/site-packages/openrouteservice/client.py:211: UserWarning: Rate limit exceeded. Retrying for the 7th time.\n",
      "  warnings.warn('Rate limit exceeded. Retrying for the {0}{1} time.'.format(retry_counter + 1,\n",
      "/home/nabilersyad/miniconda3/envs/sql/lib/python3.9/site-packages/openrouteservice/client.py:211: UserWarning: Rate limit exceeded. Retrying for the 8th time.\n",
      "  warnings.warn('Rate limit exceeded. Retrying for the {0}{1} time.'.format(retry_counter + 1,\n",
      "/home/nabilersyad/miniconda3/envs/sql/lib/python3.9/site-packages/openrouteservice/client.py:211: UserWarning: Rate limit exceeded. Retrying for the 9th time.\n",
      "  warnings.warn('Rate limit exceeded. Retrying for the {0}{1} time.'.format(retry_counter + 1,\n",
      "/home/nabilersyad/miniconda3/envs/sql/lib/python3.9/site-packages/geopandas/geodataframe.py:1537: UserWarning: Geometry column does not contain geometry.\n",
      "  warnings.warn(\"Geometry column does not contain geometry.\")\n"
     ]
    },
    {
     "name": "stdout",
     "output_type": "stream",
     "text": [
      "updated 9221724469\n"
     ]
    },
    {
     "name": "stderr",
     "output_type": "stream",
     "text": [
      "/home/nabilersyad/miniconda3/envs/sql/lib/python3.9/site-packages/geopandas/geodataframe.py:1537: UserWarning: Geometry column does not contain geometry.\n",
      "  warnings.warn(\"Geometry column does not contain geometry.\")\n"
     ]
    },
    {
     "name": "stdout",
     "output_type": "stream",
     "text": [
      "updated 9221724470\n"
     ]
    },
    {
     "name": "stderr",
     "output_type": "stream",
     "text": [
      "/home/nabilersyad/miniconda3/envs/sql/lib/python3.9/site-packages/geopandas/geodataframe.py:1537: UserWarning: Geometry column does not contain geometry.\n",
      "  warnings.warn(\"Geometry column does not contain geometry.\")\n"
     ]
    },
    {
     "name": "stdout",
     "output_type": "stream",
     "text": [
      "updated 9221724471\n"
     ]
    },
    {
     "name": "stderr",
     "output_type": "stream",
     "text": [
      "/home/nabilersyad/miniconda3/envs/sql/lib/python3.9/site-packages/geopandas/geodataframe.py:1537: UserWarning: Geometry column does not contain geometry.\n",
      "  warnings.warn(\"Geometry column does not contain geometry.\")\n"
     ]
    },
    {
     "name": "stdout",
     "output_type": "stream",
     "text": [
      "updated 9229552290\n"
     ]
    },
    {
     "name": "stderr",
     "output_type": "stream",
     "text": [
      "/home/nabilersyad/miniconda3/envs/sql/lib/python3.9/site-packages/geopandas/geodataframe.py:1537: UserWarning: Geometry column does not contain geometry.\n",
      "  warnings.warn(\"Geometry column does not contain geometry.\")\n"
     ]
    },
    {
     "name": "stdout",
     "output_type": "stream",
     "text": [
      "updated 9229552291\n"
     ]
    },
    {
     "name": "stderr",
     "output_type": "stream",
     "text": [
      "/home/nabilersyad/miniconda3/envs/sql/lib/python3.9/site-packages/geopandas/geodataframe.py:1537: UserWarning: Geometry column does not contain geometry.\n",
      "  warnings.warn(\"Geometry column does not contain geometry.\")\n"
     ]
    },
    {
     "name": "stdout",
     "output_type": "stream",
     "text": [
      "updated 9361137458\n"
     ]
    },
    {
     "name": "stderr",
     "output_type": "stream",
     "text": [
      "/home/nabilersyad/miniconda3/envs/sql/lib/python3.9/site-packages/geopandas/geodataframe.py:1537: UserWarning: Geometry column does not contain geometry.\n",
      "  warnings.warn(\"Geometry column does not contain geometry.\")\n"
     ]
    },
    {
     "name": "stdout",
     "output_type": "stream",
     "text": [
      "updated 9378300196\n"
     ]
    },
    {
     "name": "stderr",
     "output_type": "stream",
     "text": [
      "/home/nabilersyad/miniconda3/envs/sql/lib/python3.9/site-packages/geopandas/geodataframe.py:1537: UserWarning: Geometry column does not contain geometry.\n",
      "  warnings.warn(\"Geometry column does not contain geometry.\")\n"
     ]
    },
    {
     "name": "stdout",
     "output_type": "stream",
     "text": [
      "updated 9378325928\n"
     ]
    },
    {
     "name": "stderr",
     "output_type": "stream",
     "text": [
      "/home/nabilersyad/miniconda3/envs/sql/lib/python3.9/site-packages/geopandas/geodataframe.py:1537: UserWarning: Geometry column does not contain geometry.\n",
      "  warnings.warn(\"Geometry column does not contain geometry.\")\n"
     ]
    },
    {
     "name": "stdout",
     "output_type": "stream",
     "text": [
      "updated 9439800347\n"
     ]
    },
    {
     "name": "stderr",
     "output_type": "stream",
     "text": [
      "/home/nabilersyad/miniconda3/envs/sql/lib/python3.9/site-packages/geopandas/geodataframe.py:1537: UserWarning: Geometry column does not contain geometry.\n",
      "  warnings.warn(\"Geometry column does not contain geometry.\")\n"
     ]
    },
    {
     "name": "stdout",
     "output_type": "stream",
     "text": [
      "updated 9504210024\n"
     ]
    },
    {
     "name": "stderr",
     "output_type": "stream",
     "text": [
      "/home/nabilersyad/miniconda3/envs/sql/lib/python3.9/site-packages/geopandas/geodataframe.py:1537: UserWarning: Geometry column does not contain geometry.\n",
      "  warnings.warn(\"Geometry column does not contain geometry.\")\n"
     ]
    },
    {
     "name": "stdout",
     "output_type": "stream",
     "text": [
      "updated 9504210028\n"
     ]
    },
    {
     "name": "stderr",
     "output_type": "stream",
     "text": [
      "/home/nabilersyad/miniconda3/envs/sql/lib/python3.9/site-packages/geopandas/geodataframe.py:1537: UserWarning: Geometry column does not contain geometry.\n",
      "  warnings.warn(\"Geometry column does not contain geometry.\")\n"
     ]
    },
    {
     "name": "stdout",
     "output_type": "stream",
     "text": [
      "updated 9508388055\n"
     ]
    },
    {
     "name": "stderr",
     "output_type": "stream",
     "text": [
      "/home/nabilersyad/miniconda3/envs/sql/lib/python3.9/site-packages/geopandas/geodataframe.py:1537: UserWarning: Geometry column does not contain geometry.\n",
      "  warnings.warn(\"Geometry column does not contain geometry.\")\n"
     ]
    },
    {
     "name": "stdout",
     "output_type": "stream",
     "text": [
      "updated 9508388060\n"
     ]
    },
    {
     "name": "stderr",
     "output_type": "stream",
     "text": [
      "/home/nabilersyad/miniconda3/envs/sql/lib/python3.9/site-packages/geopandas/geodataframe.py:1537: UserWarning: Geometry column does not contain geometry.\n",
      "  warnings.warn(\"Geometry column does not contain geometry.\")\n"
     ]
    },
    {
     "name": "stdout",
     "output_type": "stream",
     "text": [
      "updated 9508388065\n"
     ]
    },
    {
     "name": "stderr",
     "output_type": "stream",
     "text": [
      "/home/nabilersyad/miniconda3/envs/sql/lib/python3.9/site-packages/geopandas/geodataframe.py:1537: UserWarning: Geometry column does not contain geometry.\n",
      "  warnings.warn(\"Geometry column does not contain geometry.\")\n"
     ]
    },
    {
     "name": "stdout",
     "output_type": "stream",
     "text": [
      "updated 9508388066\n"
     ]
    },
    {
     "name": "stderr",
     "output_type": "stream",
     "text": [
      "/home/nabilersyad/miniconda3/envs/sql/lib/python3.9/site-packages/geopandas/geodataframe.py:1537: UserWarning: Geometry column does not contain geometry.\n",
      "  warnings.warn(\"Geometry column does not contain geometry.\")\n"
     ]
    },
    {
     "name": "stdout",
     "output_type": "stream",
     "text": [
      "updated 9508388067\n"
     ]
    },
    {
     "name": "stderr",
     "output_type": "stream",
     "text": [
      "/home/nabilersyad/miniconda3/envs/sql/lib/python3.9/site-packages/geopandas/geodataframe.py:1537: UserWarning: Geometry column does not contain geometry.\n",
      "  warnings.warn(\"Geometry column does not contain geometry.\")\n"
     ]
    },
    {
     "name": "stdout",
     "output_type": "stream",
     "text": [
      "updated 9508388068\n"
     ]
    },
    {
     "name": "stderr",
     "output_type": "stream",
     "text": [
      "/home/nabilersyad/miniconda3/envs/sql/lib/python3.9/site-packages/geopandas/geodataframe.py:1537: UserWarning: Geometry column does not contain geometry.\n",
      "  warnings.warn(\"Geometry column does not contain geometry.\")\n"
     ]
    },
    {
     "name": "stdout",
     "output_type": "stream",
     "text": [
      "updated 9508388069\n"
     ]
    },
    {
     "name": "stderr",
     "output_type": "stream",
     "text": [
      "/home/nabilersyad/miniconda3/envs/sql/lib/python3.9/site-packages/openrouteservice/client.py:211: UserWarning: Rate limit exceeded. Retrying for the 1st time.\n",
      "  warnings.warn('Rate limit exceeded. Retrying for the {0}{1} time.'.format(retry_counter + 1,\n",
      "/home/nabilersyad/miniconda3/envs/sql/lib/python3.9/site-packages/openrouteservice/client.py:211: UserWarning: Rate limit exceeded. Retrying for the 2nd time.\n",
      "  warnings.warn('Rate limit exceeded. Retrying for the {0}{1} time.'.format(retry_counter + 1,\n",
      "/home/nabilersyad/miniconda3/envs/sql/lib/python3.9/site-packages/openrouteservice/client.py:211: UserWarning: Rate limit exceeded. Retrying for the 3rd time.\n",
      "  warnings.warn('Rate limit exceeded. Retrying for the {0}{1} time.'.format(retry_counter + 1,\n",
      "/home/nabilersyad/miniconda3/envs/sql/lib/python3.9/site-packages/openrouteservice/client.py:211: UserWarning: Rate limit exceeded. Retrying for the 4th time.\n",
      "  warnings.warn('Rate limit exceeded. Retrying for the {0}{1} time.'.format(retry_counter + 1,\n",
      "/home/nabilersyad/miniconda3/envs/sql/lib/python3.9/site-packages/openrouteservice/client.py:211: UserWarning: Rate limit exceeded. Retrying for the 5th time.\n",
      "  warnings.warn('Rate limit exceeded. Retrying for the {0}{1} time.'.format(retry_counter + 1,\n",
      "/home/nabilersyad/miniconda3/envs/sql/lib/python3.9/site-packages/openrouteservice/client.py:211: UserWarning: Rate limit exceeded. Retrying for the 6th time.\n",
      "  warnings.warn('Rate limit exceeded. Retrying for the {0}{1} time.'.format(retry_counter + 1,\n",
      "/home/nabilersyad/miniconda3/envs/sql/lib/python3.9/site-packages/openrouteservice/client.py:211: UserWarning: Rate limit exceeded. Retrying for the 7th time.\n",
      "  warnings.warn('Rate limit exceeded. Retrying for the {0}{1} time.'.format(retry_counter + 1,\n",
      "/home/nabilersyad/miniconda3/envs/sql/lib/python3.9/site-packages/openrouteservice/client.py:211: UserWarning: Rate limit exceeded. Retrying for the 8th time.\n",
      "  warnings.warn('Rate limit exceeded. Retrying for the {0}{1} time.'.format(retry_counter + 1,\n",
      "/home/nabilersyad/miniconda3/envs/sql/lib/python3.9/site-packages/geopandas/geodataframe.py:1537: UserWarning: Geometry column does not contain geometry.\n",
      "  warnings.warn(\"Geometry column does not contain geometry.\")\n"
     ]
    },
    {
     "name": "stdout",
     "output_type": "stream",
     "text": [
      "updated 9508388071\n"
     ]
    },
    {
     "name": "stderr",
     "output_type": "stream",
     "text": [
      "/home/nabilersyad/miniconda3/envs/sql/lib/python3.9/site-packages/geopandas/geodataframe.py:1537: UserWarning: Geometry column does not contain geometry.\n",
      "  warnings.warn(\"Geometry column does not contain geometry.\")\n"
     ]
    },
    {
     "name": "stdout",
     "output_type": "stream",
     "text": [
      "updated 9508388072\n"
     ]
    },
    {
     "name": "stderr",
     "output_type": "stream",
     "text": [
      "/home/nabilersyad/miniconda3/envs/sql/lib/python3.9/site-packages/geopandas/geodataframe.py:1537: UserWarning: Geometry column does not contain geometry.\n",
      "  warnings.warn(\"Geometry column does not contain geometry.\")\n"
     ]
    },
    {
     "name": "stdout",
     "output_type": "stream",
     "text": [
      "updated 4952299496\n"
     ]
    },
    {
     "name": "stderr",
     "output_type": "stream",
     "text": [
      "/home/nabilersyad/miniconda3/envs/sql/lib/python3.9/site-packages/geopandas/geodataframe.py:1537: UserWarning: Geometry column does not contain geometry.\n",
      "  warnings.warn(\"Geometry column does not contain geometry.\")\n"
     ]
    },
    {
     "name": "stdout",
     "output_type": "stream",
     "text": [
      "updated 2278515570\n"
     ]
    },
    {
     "name": "stderr",
     "output_type": "stream",
     "text": [
      "/home/nabilersyad/miniconda3/envs/sql/lib/python3.9/site-packages/geopandas/geodataframe.py:1537: UserWarning: Geometry column does not contain geometry.\n",
      "  warnings.warn(\"Geometry column does not contain geometry.\")\n"
     ]
    },
    {
     "name": "stdout",
     "output_type": "stream",
     "text": [
      "updated 2686635178\n"
     ]
    },
    {
     "name": "stderr",
     "output_type": "stream",
     "text": [
      "/home/nabilersyad/miniconda3/envs/sql/lib/python3.9/site-packages/geopandas/geodataframe.py:1537: UserWarning: Geometry column does not contain geometry.\n",
      "  warnings.warn(\"Geometry column does not contain geometry.\")\n"
     ]
    },
    {
     "name": "stdout",
     "output_type": "stream",
     "text": [
      "updated 5261535560\n"
     ]
    },
    {
     "name": "stderr",
     "output_type": "stream",
     "text": [
      "/home/nabilersyad/miniconda3/envs/sql/lib/python3.9/site-packages/geopandas/geodataframe.py:1537: UserWarning: Geometry column does not contain geometry.\n",
      "  warnings.warn(\"Geometry column does not contain geometry.\")\n"
     ]
    },
    {
     "name": "stdout",
     "output_type": "stream",
     "text": [
      "updated 5261535561\n"
     ]
    },
    {
     "name": "stderr",
     "output_type": "stream",
     "text": [
      "/home/nabilersyad/miniconda3/envs/sql/lib/python3.9/site-packages/geopandas/geodataframe.py:1537: UserWarning: Geometry column does not contain geometry.\n",
      "  warnings.warn(\"Geometry column does not contain geometry.\")\n"
     ]
    },
    {
     "name": "stdout",
     "output_type": "stream",
     "text": [
      "updated 5261535570\n"
     ]
    },
    {
     "name": "stderr",
     "output_type": "stream",
     "text": [
      "/home/nabilersyad/miniconda3/envs/sql/lib/python3.9/site-packages/geopandas/geodataframe.py:1537: UserWarning: Geometry column does not contain geometry.\n",
      "  warnings.warn(\"Geometry column does not contain geometry.\")\n"
     ]
    },
    {
     "name": "stdout",
     "output_type": "stream",
     "text": [
      "updated 5386930796\n"
     ]
    },
    {
     "name": "stderr",
     "output_type": "stream",
     "text": [
      "/home/nabilersyad/miniconda3/envs/sql/lib/python3.9/site-packages/geopandas/geodataframe.py:1537: UserWarning: Geometry column does not contain geometry.\n",
      "  warnings.warn(\"Geometry column does not contain geometry.\")\n"
     ]
    },
    {
     "name": "stdout",
     "output_type": "stream",
     "text": [
      "updated 5392028001\n"
     ]
    },
    {
     "name": "stderr",
     "output_type": "stream",
     "text": [
      "/home/nabilersyad/miniconda3/envs/sql/lib/python3.9/site-packages/geopandas/geodataframe.py:1537: UserWarning: Geometry column does not contain geometry.\n",
      "  warnings.warn(\"Geometry column does not contain geometry.\")\n"
     ]
    },
    {
     "name": "stdout",
     "output_type": "stream",
     "text": [
      "updated 5469085305\n"
     ]
    },
    {
     "name": "stderr",
     "output_type": "stream",
     "text": [
      "/home/nabilersyad/miniconda3/envs/sql/lib/python3.9/site-packages/geopandas/geodataframe.py:1537: UserWarning: Geometry column does not contain geometry.\n",
      "  warnings.warn(\"Geometry column does not contain geometry.\")\n"
     ]
    },
    {
     "name": "stdout",
     "output_type": "stream",
     "text": [
      "updated 5469085306\n"
     ]
    },
    {
     "name": "stderr",
     "output_type": "stream",
     "text": [
      "/home/nabilersyad/miniconda3/envs/sql/lib/python3.9/site-packages/geopandas/geodataframe.py:1537: UserWarning: Geometry column does not contain geometry.\n",
      "  warnings.warn(\"Geometry column does not contain geometry.\")\n"
     ]
    },
    {
     "name": "stdout",
     "output_type": "stream",
     "text": [
      "updated 5469085491\n"
     ]
    },
    {
     "name": "stderr",
     "output_type": "stream",
     "text": [
      "/home/nabilersyad/miniconda3/envs/sql/lib/python3.9/site-packages/geopandas/geodataframe.py:1537: UserWarning: Geometry column does not contain geometry.\n",
      "  warnings.warn(\"Geometry column does not contain geometry.\")\n"
     ]
    },
    {
     "name": "stdout",
     "output_type": "stream",
     "text": [
      "updated 5469085492\n"
     ]
    },
    {
     "name": "stderr",
     "output_type": "stream",
     "text": [
      "/home/nabilersyad/miniconda3/envs/sql/lib/python3.9/site-packages/geopandas/geodataframe.py:1537: UserWarning: Geometry column does not contain geometry.\n",
      "  warnings.warn(\"Geometry column does not contain geometry.\")\n"
     ]
    },
    {
     "name": "stdout",
     "output_type": "stream",
     "text": [
      "updated 5469085625\n"
     ]
    },
    {
     "name": "stderr",
     "output_type": "stream",
     "text": [
      "/home/nabilersyad/miniconda3/envs/sql/lib/python3.9/site-packages/geopandas/geodataframe.py:1537: UserWarning: Geometry column does not contain geometry.\n",
      "  warnings.warn(\"Geometry column does not contain geometry.\")\n"
     ]
    },
    {
     "name": "stdout",
     "output_type": "stream",
     "text": [
      "updated 5469085629\n"
     ]
    },
    {
     "name": "stderr",
     "output_type": "stream",
     "text": [
      "/home/nabilersyad/miniconda3/envs/sql/lib/python3.9/site-packages/openrouteservice/client.py:211: UserWarning: Rate limit exceeded. Retrying for the 1st time.\n",
      "  warnings.warn('Rate limit exceeded. Retrying for the {0}{1} time.'.format(retry_counter + 1,\n",
      "/home/nabilersyad/miniconda3/envs/sql/lib/python3.9/site-packages/openrouteservice/client.py:211: UserWarning: Rate limit exceeded. Retrying for the 2nd time.\n",
      "  warnings.warn('Rate limit exceeded. Retrying for the {0}{1} time.'.format(retry_counter + 1,\n",
      "/home/nabilersyad/miniconda3/envs/sql/lib/python3.9/site-packages/openrouteservice/client.py:211: UserWarning: Rate limit exceeded. Retrying for the 3rd time.\n",
      "  warnings.warn('Rate limit exceeded. Retrying for the {0}{1} time.'.format(retry_counter + 1,\n",
      "/home/nabilersyad/miniconda3/envs/sql/lib/python3.9/site-packages/openrouteservice/client.py:211: UserWarning: Rate limit exceeded. Retrying for the 4th time.\n",
      "  warnings.warn('Rate limit exceeded. Retrying for the {0}{1} time.'.format(retry_counter + 1,\n",
      "/home/nabilersyad/miniconda3/envs/sql/lib/python3.9/site-packages/openrouteservice/client.py:211: UserWarning: Rate limit exceeded. Retrying for the 5th time.\n",
      "  warnings.warn('Rate limit exceeded. Retrying for the {0}{1} time.'.format(retry_counter + 1,\n",
      "/home/nabilersyad/miniconda3/envs/sql/lib/python3.9/site-packages/openrouteservice/client.py:211: UserWarning: Rate limit exceeded. Retrying for the 6th time.\n",
      "  warnings.warn('Rate limit exceeded. Retrying for the {0}{1} time.'.format(retry_counter + 1,\n",
      "/home/nabilersyad/miniconda3/envs/sql/lib/python3.9/site-packages/openrouteservice/client.py:211: UserWarning: Rate limit exceeded. Retrying for the 7th time.\n",
      "  warnings.warn('Rate limit exceeded. Retrying for the {0}{1} time.'.format(retry_counter + 1,\n",
      "/home/nabilersyad/miniconda3/envs/sql/lib/python3.9/site-packages/openrouteservice/client.py:211: UserWarning: Rate limit exceeded. Retrying for the 8th time.\n",
      "  warnings.warn('Rate limit exceeded. Retrying for the {0}{1} time.'.format(retry_counter + 1,\n",
      "/home/nabilersyad/miniconda3/envs/sql/lib/python3.9/site-packages/openrouteservice/client.py:211: UserWarning: Rate limit exceeded. Retrying for the 9th time.\n",
      "  warnings.warn('Rate limit exceeded. Retrying for the {0}{1} time.'.format(retry_counter + 1,\n",
      "/home/nabilersyad/miniconda3/envs/sql/lib/python3.9/site-packages/geopandas/geodataframe.py:1537: UserWarning: Geometry column does not contain geometry.\n",
      "  warnings.warn(\"Geometry column does not contain geometry.\")\n"
     ]
    },
    {
     "name": "stdout",
     "output_type": "stream",
     "text": [
      "updated 5469085633\n"
     ]
    },
    {
     "name": "stderr",
     "output_type": "stream",
     "text": [
      "/home/nabilersyad/miniconda3/envs/sql/lib/python3.9/site-packages/geopandas/geodataframe.py:1537: UserWarning: Geometry column does not contain geometry.\n",
      "  warnings.warn(\"Geometry column does not contain geometry.\")\n"
     ]
    },
    {
     "name": "stdout",
     "output_type": "stream",
     "text": [
      "updated 5485710268\n"
     ]
    },
    {
     "name": "stderr",
     "output_type": "stream",
     "text": [
      "/home/nabilersyad/miniconda3/envs/sql/lib/python3.9/site-packages/geopandas/geodataframe.py:1537: UserWarning: Geometry column does not contain geometry.\n",
      "  warnings.warn(\"Geometry column does not contain geometry.\")\n"
     ]
    },
    {
     "name": "stdout",
     "output_type": "stream",
     "text": [
      "updated 7308309728\n"
     ]
    },
    {
     "name": "stderr",
     "output_type": "stream",
     "text": [
      "/home/nabilersyad/miniconda3/envs/sql/lib/python3.9/site-packages/geopandas/geodataframe.py:1537: UserWarning: Geometry column does not contain geometry.\n",
      "  warnings.warn(\"Geometry column does not contain geometry.\")\n"
     ]
    },
    {
     "name": "stdout",
     "output_type": "stream",
     "text": [
      "updated 5485710278\n"
     ]
    },
    {
     "name": "stderr",
     "output_type": "stream",
     "text": [
      "/home/nabilersyad/miniconda3/envs/sql/lib/python3.9/site-packages/geopandas/geodataframe.py:1537: UserWarning: Geometry column does not contain geometry.\n",
      "  warnings.warn(\"Geometry column does not contain geometry.\")\n"
     ]
    },
    {
     "name": "stdout",
     "output_type": "stream",
     "text": [
      "updated 10266244039\n"
     ]
    },
    {
     "name": "stderr",
     "output_type": "stream",
     "text": [
      "/home/nabilersyad/miniconda3/envs/sql/lib/python3.9/site-packages/geopandas/geodataframe.py:1537: UserWarning: Geometry column does not contain geometry.\n",
      "  warnings.warn(\"Geometry column does not contain geometry.\")\n"
     ]
    },
    {
     "name": "stdout",
     "output_type": "stream",
     "text": [
      "updated 10270864772\n"
     ]
    },
    {
     "name": "stderr",
     "output_type": "stream",
     "text": [
      "/home/nabilersyad/miniconda3/envs/sql/lib/python3.9/site-packages/geopandas/geodataframe.py:1537: UserWarning: Geometry column does not contain geometry.\n",
      "  warnings.warn(\"Geometry column does not contain geometry.\")\n"
     ]
    },
    {
     "name": "stdout",
     "output_type": "stream",
     "text": [
      "updated 10270868702\n"
     ]
    },
    {
     "name": "stderr",
     "output_type": "stream",
     "text": [
      "/home/nabilersyad/miniconda3/envs/sql/lib/python3.9/site-packages/geopandas/geodataframe.py:1537: UserWarning: Geometry column does not contain geometry.\n",
      "  warnings.warn(\"Geometry column does not contain geometry.\")\n"
     ]
    },
    {
     "name": "stdout",
     "output_type": "stream",
     "text": [
      "updated 10706850272\n"
     ]
    },
    {
     "name": "stderr",
     "output_type": "stream",
     "text": [
      "/home/nabilersyad/miniconda3/envs/sql/lib/python3.9/site-packages/geopandas/geodataframe.py:1537: UserWarning: Geometry column does not contain geometry.\n",
      "  warnings.warn(\"Geometry column does not contain geometry.\")\n"
     ]
    },
    {
     "name": "stdout",
     "output_type": "stream",
     "text": [
      "updated 10722980582\n"
     ]
    },
    {
     "name": "stderr",
     "output_type": "stream",
     "text": [
      "/home/nabilersyad/miniconda3/envs/sql/lib/python3.9/site-packages/geopandas/geodataframe.py:1537: UserWarning: Geometry column does not contain geometry.\n",
      "  warnings.warn(\"Geometry column does not contain geometry.\")\n"
     ]
    },
    {
     "name": "stdout",
     "output_type": "stream",
     "text": [
      "updated 10723194529\n"
     ]
    },
    {
     "name": "stderr",
     "output_type": "stream",
     "text": [
      "/home/nabilersyad/miniconda3/envs/sql/lib/python3.9/site-packages/geopandas/geodataframe.py:1537: UserWarning: Geometry column does not contain geometry.\n",
      "  warnings.warn(\"Geometry column does not contain geometry.\")\n"
     ]
    },
    {
     "name": "stdout",
     "output_type": "stream",
     "text": [
      "updated 10727740945\n"
     ]
    },
    {
     "name": "stderr",
     "output_type": "stream",
     "text": [
      "/home/nabilersyad/miniconda3/envs/sql/lib/python3.9/site-packages/geopandas/geodataframe.py:1537: UserWarning: Geometry column does not contain geometry.\n",
      "  warnings.warn(\"Geometry column does not contain geometry.\")\n"
     ]
    },
    {
     "name": "stdout",
     "output_type": "stream",
     "text": [
      "updated 10727805627\n"
     ]
    },
    {
     "name": "stderr",
     "output_type": "stream",
     "text": [
      "/home/nabilersyad/miniconda3/envs/sql/lib/python3.9/site-packages/geopandas/geodataframe.py:1537: UserWarning: Geometry column does not contain geometry.\n",
      "  warnings.warn(\"Geometry column does not contain geometry.\")\n"
     ]
    },
    {
     "name": "stdout",
     "output_type": "stream",
     "text": [
      "updated 10795590948\n"
     ]
    },
    {
     "name": "stderr",
     "output_type": "stream",
     "text": [
      "/home/nabilersyad/miniconda3/envs/sql/lib/python3.9/site-packages/geopandas/geodataframe.py:1537: UserWarning: Geometry column does not contain geometry.\n",
      "  warnings.warn(\"Geometry column does not contain geometry.\")\n"
     ]
    },
    {
     "name": "stdout",
     "output_type": "stream",
     "text": [
      "updated 5469085437\n"
     ]
    },
    {
     "name": "stderr",
     "output_type": "stream",
     "text": [
      "/home/nabilersyad/miniconda3/envs/sql/lib/python3.9/site-packages/geopandas/geodataframe.py:1537: UserWarning: Geometry column does not contain geometry.\n",
      "  warnings.warn(\"Geometry column does not contain geometry.\")\n"
     ]
    },
    {
     "name": "stdout",
     "output_type": "stream",
     "text": [
      "updated 5469085653\n"
     ]
    },
    {
     "name": "stderr",
     "output_type": "stream",
     "text": [
      "/home/nabilersyad/miniconda3/envs/sql/lib/python3.9/site-packages/geopandas/geodataframe.py:1537: UserWarning: Geometry column does not contain geometry.\n",
      "  warnings.warn(\"Geometry column does not contain geometry.\")\n"
     ]
    },
    {
     "name": "stdout",
     "output_type": "stream",
     "text": [
      "updated 5484250431\n"
     ]
    },
    {
     "name": "stderr",
     "output_type": "stream",
     "text": [
      "/home/nabilersyad/miniconda3/envs/sql/lib/python3.9/site-packages/geopandas/geodataframe.py:1537: UserWarning: Geometry column does not contain geometry.\n",
      "  warnings.warn(\"Geometry column does not contain geometry.\")\n"
     ]
    },
    {
     "name": "stdout",
     "output_type": "stream",
     "text": [
      "updated 5484250432\n"
     ]
    },
    {
     "name": "stderr",
     "output_type": "stream",
     "text": [
      "/home/nabilersyad/miniconda3/envs/sql/lib/python3.9/site-packages/openrouteservice/client.py:211: UserWarning: Rate limit exceeded. Retrying for the 1st time.\n",
      "  warnings.warn('Rate limit exceeded. Retrying for the {0}{1} time.'.format(retry_counter + 1,\n",
      "/home/nabilersyad/miniconda3/envs/sql/lib/python3.9/site-packages/openrouteservice/client.py:211: UserWarning: Rate limit exceeded. Retrying for the 2nd time.\n",
      "  warnings.warn('Rate limit exceeded. Retrying for the {0}{1} time.'.format(retry_counter + 1,\n",
      "/home/nabilersyad/miniconda3/envs/sql/lib/python3.9/site-packages/openrouteservice/client.py:211: UserWarning: Rate limit exceeded. Retrying for the 3rd time.\n",
      "  warnings.warn('Rate limit exceeded. Retrying for the {0}{1} time.'.format(retry_counter + 1,\n",
      "/home/nabilersyad/miniconda3/envs/sql/lib/python3.9/site-packages/openrouteservice/client.py:211: UserWarning: Rate limit exceeded. Retrying for the 4th time.\n",
      "  warnings.warn('Rate limit exceeded. Retrying for the {0}{1} time.'.format(retry_counter + 1,\n",
      "/home/nabilersyad/miniconda3/envs/sql/lib/python3.9/site-packages/openrouteservice/client.py:211: UserWarning: Rate limit exceeded. Retrying for the 5th time.\n",
      "  warnings.warn('Rate limit exceeded. Retrying for the {0}{1} time.'.format(retry_counter + 1,\n",
      "/home/nabilersyad/miniconda3/envs/sql/lib/python3.9/site-packages/openrouteservice/client.py:211: UserWarning: Rate limit exceeded. Retrying for the 6th time.\n",
      "  warnings.warn('Rate limit exceeded. Retrying for the {0}{1} time.'.format(retry_counter + 1,\n",
      "/home/nabilersyad/miniconda3/envs/sql/lib/python3.9/site-packages/openrouteservice/client.py:211: UserWarning: Rate limit exceeded. Retrying for the 7th time.\n",
      "  warnings.warn('Rate limit exceeded. Retrying for the {0}{1} time.'.format(retry_counter + 1,\n",
      "/home/nabilersyad/miniconda3/envs/sql/lib/python3.9/site-packages/openrouteservice/client.py:211: UserWarning: Rate limit exceeded. Retrying for the 8th time.\n",
      "  warnings.warn('Rate limit exceeded. Retrying for the {0}{1} time.'.format(retry_counter + 1,\n",
      "/home/nabilersyad/miniconda3/envs/sql/lib/python3.9/site-packages/openrouteservice/client.py:211: UserWarning: Rate limit exceeded. Retrying for the 9th time.\n",
      "  warnings.warn('Rate limit exceeded. Retrying for the {0}{1} time.'.format(retry_counter + 1,\n",
      "/home/nabilersyad/miniconda3/envs/sql/lib/python3.9/site-packages/geopandas/geodataframe.py:1537: UserWarning: Geometry column does not contain geometry.\n",
      "  warnings.warn(\"Geometry column does not contain geometry.\")\n"
     ]
    },
    {
     "name": "stdout",
     "output_type": "stream",
     "text": [
      "updated 6375602764\n"
     ]
    },
    {
     "name": "stderr",
     "output_type": "stream",
     "text": [
      "/home/nabilersyad/miniconda3/envs/sql/lib/python3.9/site-packages/geopandas/geodataframe.py:1537: UserWarning: Geometry column does not contain geometry.\n",
      "  warnings.warn(\"Geometry column does not contain geometry.\")\n"
     ]
    },
    {
     "name": "stdout",
     "output_type": "stream",
     "text": [
      "updated 7042863007\n"
     ]
    },
    {
     "name": "stderr",
     "output_type": "stream",
     "text": [
      "/home/nabilersyad/miniconda3/envs/sql/lib/python3.9/site-packages/geopandas/geodataframe.py:1537: UserWarning: Geometry column does not contain geometry.\n",
      "  warnings.warn(\"Geometry column does not contain geometry.\")\n"
     ]
    },
    {
     "name": "stdout",
     "output_type": "stream",
     "text": [
      "updated 7056476413\n"
     ]
    },
    {
     "name": "stderr",
     "output_type": "stream",
     "text": [
      "/home/nabilersyad/miniconda3/envs/sql/lib/python3.9/site-packages/geopandas/geodataframe.py:1537: UserWarning: Geometry column does not contain geometry.\n",
      "  warnings.warn(\"Geometry column does not contain geometry.\")\n"
     ]
    },
    {
     "name": "stdout",
     "output_type": "stream",
     "text": [
      "updated 7056476416\n"
     ]
    },
    {
     "name": "stderr",
     "output_type": "stream",
     "text": [
      "/home/nabilersyad/miniconda3/envs/sql/lib/python3.9/site-packages/geopandas/geodataframe.py:1537: UserWarning: Geometry column does not contain geometry.\n",
      "  warnings.warn(\"Geometry column does not contain geometry.\")\n"
     ]
    },
    {
     "name": "stdout",
     "output_type": "stream",
     "text": [
      "updated 7056476417\n"
     ]
    },
    {
     "name": "stderr",
     "output_type": "stream",
     "text": [
      "/home/nabilersyad/miniconda3/envs/sql/lib/python3.9/site-packages/geopandas/geodataframe.py:1537: UserWarning: Geometry column does not contain geometry.\n",
      "  warnings.warn(\"Geometry column does not contain geometry.\")\n"
     ]
    },
    {
     "name": "stdout",
     "output_type": "stream",
     "text": [
      "updated 7387995584\n"
     ]
    },
    {
     "name": "stderr",
     "output_type": "stream",
     "text": [
      "/home/nabilersyad/miniconda3/envs/sql/lib/python3.9/site-packages/geopandas/geodataframe.py:1537: UserWarning: Geometry column does not contain geometry.\n",
      "  warnings.warn(\"Geometry column does not contain geometry.\")\n"
     ]
    },
    {
     "name": "stdout",
     "output_type": "stream",
     "text": [
      "updated 9221724474\n"
     ]
    },
    {
     "name": "stderr",
     "output_type": "stream",
     "text": [
      "/home/nabilersyad/miniconda3/envs/sql/lib/python3.9/site-packages/geopandas/geodataframe.py:1537: UserWarning: Geometry column does not contain geometry.\n",
      "  warnings.warn(\"Geometry column does not contain geometry.\")\n"
     ]
    },
    {
     "name": "stdout",
     "output_type": "stream",
     "text": [
      "updated 9221724475\n"
     ]
    },
    {
     "name": "stderr",
     "output_type": "stream",
     "text": [
      "/home/nabilersyad/miniconda3/envs/sql/lib/python3.9/site-packages/geopandas/geodataframe.py:1537: UserWarning: Geometry column does not contain geometry.\n",
      "  warnings.warn(\"Geometry column does not contain geometry.\")\n"
     ]
    },
    {
     "name": "stdout",
     "output_type": "stream",
     "text": [
      "updated 9229566390\n"
     ]
    },
    {
     "name": "stderr",
     "output_type": "stream",
     "text": [
      "/home/nabilersyad/miniconda3/envs/sql/lib/python3.9/site-packages/geopandas/geodataframe.py:1537: UserWarning: Geometry column does not contain geometry.\n",
      "  warnings.warn(\"Geometry column does not contain geometry.\")\n"
     ]
    },
    {
     "name": "stdout",
     "output_type": "stream",
     "text": [
      "updated 10216200615\n"
     ]
    },
    {
     "name": "stderr",
     "output_type": "stream",
     "text": [
      "/home/nabilersyad/miniconda3/envs/sql/lib/python3.9/site-packages/geopandas/geodataframe.py:1537: UserWarning: Geometry column does not contain geometry.\n",
      "  warnings.warn(\"Geometry column does not contain geometry.\")\n"
     ]
    },
    {
     "name": "stdout",
     "output_type": "stream",
     "text": [
      "updated 10795657618\n"
     ]
    },
    {
     "name": "stderr",
     "output_type": "stream",
     "text": [
      "/home/nabilersyad/miniconda3/envs/sql/lib/python3.9/site-packages/geopandas/geodataframe.py:1537: UserWarning: Geometry column does not contain geometry.\n",
      "  warnings.warn(\"Geometry column does not contain geometry.\")\n"
     ]
    },
    {
     "name": "stdout",
     "output_type": "stream",
     "text": [
      "updated 10796851698\n"
     ]
    },
    {
     "name": "stderr",
     "output_type": "stream",
     "text": [
      "/home/nabilersyad/miniconda3/envs/sql/lib/python3.9/site-packages/geopandas/geodataframe.py:1537: UserWarning: Geometry column does not contain geometry.\n",
      "  warnings.warn(\"Geometry column does not contain geometry.\")\n"
     ]
    },
    {
     "name": "stdout",
     "output_type": "stream",
     "text": [
      "updated 4533242217\n"
     ]
    },
    {
     "name": "stderr",
     "output_type": "stream",
     "text": [
      "/home/nabilersyad/miniconda3/envs/sql/lib/python3.9/site-packages/geopandas/geodataframe.py:1537: UserWarning: Geometry column does not contain geometry.\n",
      "  warnings.warn(\"Geometry column does not contain geometry.\")\n"
     ]
    },
    {
     "name": "stdout",
     "output_type": "stream",
     "text": [
      "updated 5261535531\n"
     ]
    },
    {
     "name": "stderr",
     "output_type": "stream",
     "text": [
      "/home/nabilersyad/miniconda3/envs/sql/lib/python3.9/site-packages/geopandas/geodataframe.py:1537: UserWarning: Geometry column does not contain geometry.\n",
      "  warnings.warn(\"Geometry column does not contain geometry.\")\n"
     ]
    },
    {
     "name": "stdout",
     "output_type": "stream",
     "text": [
      "updated 5484616510\n"
     ]
    },
    {
     "name": "stderr",
     "output_type": "stream",
     "text": [
      "/home/nabilersyad/miniconda3/envs/sql/lib/python3.9/site-packages/geopandas/geodataframe.py:1537: UserWarning: Geometry column does not contain geometry.\n",
      "  warnings.warn(\"Geometry column does not contain geometry.\")\n"
     ]
    },
    {
     "name": "stdout",
     "output_type": "stream",
     "text": [
      "updated 10800273158\n"
     ]
    },
    {
     "name": "stderr",
     "output_type": "stream",
     "text": [
      "/home/nabilersyad/miniconda3/envs/sql/lib/python3.9/site-packages/geopandas/geodataframe.py:1537: UserWarning: Geometry column does not contain geometry.\n",
      "  warnings.warn(\"Geometry column does not contain geometry.\")\n"
     ]
    },
    {
     "name": "stdout",
     "output_type": "stream",
     "text": [
      "updated 10804709653\n"
     ]
    },
    {
     "name": "stderr",
     "output_type": "stream",
     "text": [
      "/home/nabilersyad/miniconda3/envs/sql/lib/python3.9/site-packages/geopandas/geodataframe.py:1537: UserWarning: Geometry column does not contain geometry.\n",
      "  warnings.warn(\"Geometry column does not contain geometry.\")\n"
     ]
    },
    {
     "name": "stdout",
     "output_type": "stream",
     "text": [
      "updated 10804709680\n"
     ]
    },
    {
     "name": "stderr",
     "output_type": "stream",
     "text": [
      "/home/nabilersyad/miniconda3/envs/sql/lib/python3.9/site-packages/openrouteservice/client.py:211: UserWarning: Rate limit exceeded. Retrying for the 1st time.\n",
      "  warnings.warn('Rate limit exceeded. Retrying for the {0}{1} time.'.format(retry_counter + 1,\n",
      "/home/nabilersyad/miniconda3/envs/sql/lib/python3.9/site-packages/openrouteservice/client.py:211: UserWarning: Rate limit exceeded. Retrying for the 2nd time.\n",
      "  warnings.warn('Rate limit exceeded. Retrying for the {0}{1} time.'.format(retry_counter + 1,\n",
      "/home/nabilersyad/miniconda3/envs/sql/lib/python3.9/site-packages/openrouteservice/client.py:211: UserWarning: Rate limit exceeded. Retrying for the 3rd time.\n",
      "  warnings.warn('Rate limit exceeded. Retrying for the {0}{1} time.'.format(retry_counter + 1,\n",
      "/home/nabilersyad/miniconda3/envs/sql/lib/python3.9/site-packages/openrouteservice/client.py:211: UserWarning: Rate limit exceeded. Retrying for the 4th time.\n",
      "  warnings.warn('Rate limit exceeded. Retrying for the {0}{1} time.'.format(retry_counter + 1,\n",
      "/home/nabilersyad/miniconda3/envs/sql/lib/python3.9/site-packages/openrouteservice/client.py:211: UserWarning: Rate limit exceeded. Retrying for the 5th time.\n",
      "  warnings.warn('Rate limit exceeded. Retrying for the {0}{1} time.'.format(retry_counter + 1,\n",
      "/home/nabilersyad/miniconda3/envs/sql/lib/python3.9/site-packages/openrouteservice/client.py:211: UserWarning: Rate limit exceeded. Retrying for the 6th time.\n",
      "  warnings.warn('Rate limit exceeded. Retrying for the {0}{1} time.'.format(retry_counter + 1,\n",
      "/home/nabilersyad/miniconda3/envs/sql/lib/python3.9/site-packages/openrouteservice/client.py:211: UserWarning: Rate limit exceeded. Retrying for the 7th time.\n",
      "  warnings.warn('Rate limit exceeded. Retrying for the {0}{1} time.'.format(retry_counter + 1,\n",
      "/home/nabilersyad/miniconda3/envs/sql/lib/python3.9/site-packages/openrouteservice/client.py:211: UserWarning: Rate limit exceeded. Retrying for the 8th time.\n",
      "  warnings.warn('Rate limit exceeded. Retrying for the {0}{1} time.'.format(retry_counter + 1,\n",
      "/home/nabilersyad/miniconda3/envs/sql/lib/python3.9/site-packages/openrouteservice/client.py:211: UserWarning: Rate limit exceeded. Retrying for the 9th time.\n",
      "  warnings.warn('Rate limit exceeded. Retrying for the {0}{1} time.'.format(retry_counter + 1,\n",
      "/home/nabilersyad/miniconda3/envs/sql/lib/python3.9/site-packages/geopandas/geodataframe.py:1537: UserWarning: Geometry column does not contain geometry.\n",
      "  warnings.warn(\"Geometry column does not contain geometry.\")\n"
     ]
    },
    {
     "name": "stdout",
     "output_type": "stream",
     "text": [
      "updated 9900002870\n"
     ]
    },
    {
     "name": "stderr",
     "output_type": "stream",
     "text": [
      "/home/nabilersyad/miniconda3/envs/sql/lib/python3.9/site-packages/geopandas/geodataframe.py:1537: UserWarning: Geometry column does not contain geometry.\n",
      "  warnings.warn(\"Geometry column does not contain geometry.\")\n"
     ]
    },
    {
     "name": "stdout",
     "output_type": "stream",
     "text": [
      "updated 9913027336\n"
     ]
    },
    {
     "name": "stderr",
     "output_type": "stream",
     "text": [
      "/home/nabilersyad/miniconda3/envs/sql/lib/python3.9/site-packages/geopandas/geodataframe.py:1537: UserWarning: Geometry column does not contain geometry.\n",
      "  warnings.warn(\"Geometry column does not contain geometry.\")\n"
     ]
    },
    {
     "name": "stdout",
     "output_type": "stream",
     "text": [
      "updated 5469085643\n"
     ]
    },
    {
     "name": "stderr",
     "output_type": "stream",
     "text": [
      "/home/nabilersyad/miniconda3/envs/sql/lib/python3.9/site-packages/geopandas/geodataframe.py:1537: UserWarning: Geometry column does not contain geometry.\n",
      "  warnings.warn(\"Geometry column does not contain geometry.\")\n"
     ]
    },
    {
     "name": "stdout",
     "output_type": "stream",
     "text": [
      "updated 4400847336\n"
     ]
    },
    {
     "name": "stderr",
     "output_type": "stream",
     "text": [
      "/home/nabilersyad/miniconda3/envs/sql/lib/python3.9/site-packages/geopandas/geodataframe.py:1537: UserWarning: Geometry column does not contain geometry.\n",
      "  warnings.warn(\"Geometry column does not contain geometry.\")\n"
     ]
    },
    {
     "name": "stdout",
     "output_type": "stream",
     "text": [
      "updated 9914411090\n"
     ]
    },
    {
     "name": "stderr",
     "output_type": "stream",
     "text": [
      "/home/nabilersyad/miniconda3/envs/sql/lib/python3.9/site-packages/geopandas/geodataframe.py:1537: UserWarning: Geometry column does not contain geometry.\n",
      "  warnings.warn(\"Geometry column does not contain geometry.\")\n"
     ]
    },
    {
     "name": "stdout",
     "output_type": "stream",
     "text": [
      "updated 9983121350\n"
     ]
    },
    {
     "name": "stderr",
     "output_type": "stream",
     "text": [
      "/home/nabilersyad/miniconda3/envs/sql/lib/python3.9/site-packages/geopandas/geodataframe.py:1537: UserWarning: Geometry column does not contain geometry.\n",
      "  warnings.warn(\"Geometry column does not contain geometry.\")\n"
     ]
    },
    {
     "name": "stdout",
     "output_type": "stream",
     "text": [
      "updated 10223843931\n"
     ]
    },
    {
     "name": "stderr",
     "output_type": "stream",
     "text": [
      "/home/nabilersyad/miniconda3/envs/sql/lib/python3.9/site-packages/geopandas/geodataframe.py:1537: UserWarning: Geometry column does not contain geometry.\n",
      "  warnings.warn(\"Geometry column does not contain geometry.\")\n"
     ]
    },
    {
     "name": "stdout",
     "output_type": "stream",
     "text": [
      "updated 10271036605\n"
     ]
    },
    {
     "name": "stderr",
     "output_type": "stream",
     "text": [
      "/home/nabilersyad/miniconda3/envs/sql/lib/python3.9/site-packages/geopandas/geodataframe.py:1537: UserWarning: Geometry column does not contain geometry.\n",
      "  warnings.warn(\"Geometry column does not contain geometry.\")\n"
     ]
    },
    {
     "name": "stdout",
     "output_type": "stream",
     "text": [
      "updated 1544031348\n"
     ]
    },
    {
     "name": "stderr",
     "output_type": "stream",
     "text": [
      "/home/nabilersyad/miniconda3/envs/sql/lib/python3.9/site-packages/geopandas/geodataframe.py:1537: UserWarning: Geometry column does not contain geometry.\n",
      "  warnings.warn(\"Geometry column does not contain geometry.\")\n"
     ]
    },
    {
     "name": "stdout",
     "output_type": "stream",
     "text": [
      "updated 5040821686\n"
     ]
    },
    {
     "name": "stderr",
     "output_type": "stream",
     "text": [
      "/home/nabilersyad/miniconda3/envs/sql/lib/python3.9/site-packages/geopandas/geodataframe.py:1537: UserWarning: Geometry column does not contain geometry.\n",
      "  warnings.warn(\"Geometry column does not contain geometry.\")\n"
     ]
    },
    {
     "name": "stdout",
     "output_type": "stream",
     "text": [
      "updated 5469085640\n"
     ]
    },
    {
     "name": "stderr",
     "output_type": "stream",
     "text": [
      "/home/nabilersyad/miniconda3/envs/sql/lib/python3.9/site-packages/geopandas/geodataframe.py:1537: UserWarning: Geometry column does not contain geometry.\n",
      "  warnings.warn(\"Geometry column does not contain geometry.\")\n"
     ]
    },
    {
     "name": "stdout",
     "output_type": "stream",
     "text": [
      "updated 5484250466\n"
     ]
    },
    {
     "name": "stderr",
     "output_type": "stream",
     "text": [
      "/home/nabilersyad/miniconda3/envs/sql/lib/python3.9/site-packages/geopandas/geodataframe.py:1537: UserWarning: Geometry column does not contain geometry.\n",
      "  warnings.warn(\"Geometry column does not contain geometry.\")\n"
     ]
    },
    {
     "name": "stdout",
     "output_type": "stream",
     "text": [
      "updated 5624757756\n"
     ]
    },
    {
     "name": "stderr",
     "output_type": "stream",
     "text": [
      "/home/nabilersyad/miniconda3/envs/sql/lib/python3.9/site-packages/geopandas/geodataframe.py:1537: UserWarning: Geometry column does not contain geometry.\n",
      "  warnings.warn(\"Geometry column does not contain geometry.\")\n"
     ]
    },
    {
     "name": "stdout",
     "output_type": "stream",
     "text": [
      "updated 7104299331\n"
     ]
    },
    {
     "name": "stderr",
     "output_type": "stream",
     "text": [
      "/home/nabilersyad/miniconda3/envs/sql/lib/python3.9/site-packages/geopandas/geodataframe.py:1537: UserWarning: Geometry column does not contain geometry.\n",
      "  warnings.warn(\"Geometry column does not contain geometry.\")\n"
     ]
    },
    {
     "name": "stdout",
     "output_type": "stream",
     "text": [
      "updated 9221724476\n"
     ]
    },
    {
     "name": "stderr",
     "output_type": "stream",
     "text": [
      "/home/nabilersyad/miniconda3/envs/sql/lib/python3.9/site-packages/geopandas/geodataframe.py:1537: UserWarning: Geometry column does not contain geometry.\n",
      "  warnings.warn(\"Geometry column does not contain geometry.\")\n"
     ]
    },
    {
     "name": "stdout",
     "output_type": "stream",
     "text": [
      "updated 9508388057\n"
     ]
    },
    {
     "name": "stderr",
     "output_type": "stream",
     "text": [
      "/home/nabilersyad/miniconda3/envs/sql/lib/python3.9/site-packages/openrouteservice/client.py:211: UserWarning: Rate limit exceeded. Retrying for the 1st time.\n",
      "  warnings.warn('Rate limit exceeded. Retrying for the {0}{1} time.'.format(retry_counter + 1,\n",
      "/home/nabilersyad/miniconda3/envs/sql/lib/python3.9/site-packages/openrouteservice/client.py:211: UserWarning: Rate limit exceeded. Retrying for the 2nd time.\n",
      "  warnings.warn('Rate limit exceeded. Retrying for the {0}{1} time.'.format(retry_counter + 1,\n",
      "/home/nabilersyad/miniconda3/envs/sql/lib/python3.9/site-packages/openrouteservice/client.py:211: UserWarning: Rate limit exceeded. Retrying for the 3rd time.\n",
      "  warnings.warn('Rate limit exceeded. Retrying for the {0}{1} time.'.format(retry_counter + 1,\n",
      "/home/nabilersyad/miniconda3/envs/sql/lib/python3.9/site-packages/openrouteservice/client.py:211: UserWarning: Rate limit exceeded. Retrying for the 4th time.\n",
      "  warnings.warn('Rate limit exceeded. Retrying for the {0}{1} time.'.format(retry_counter + 1,\n",
      "/home/nabilersyad/miniconda3/envs/sql/lib/python3.9/site-packages/openrouteservice/client.py:211: UserWarning: Rate limit exceeded. Retrying for the 5th time.\n",
      "  warnings.warn('Rate limit exceeded. Retrying for the {0}{1} time.'.format(retry_counter + 1,\n",
      "/home/nabilersyad/miniconda3/envs/sql/lib/python3.9/site-packages/openrouteservice/client.py:211: UserWarning: Rate limit exceeded. Retrying for the 6th time.\n",
      "  warnings.warn('Rate limit exceeded. Retrying for the {0}{1} time.'.format(retry_counter + 1,\n",
      "/home/nabilersyad/miniconda3/envs/sql/lib/python3.9/site-packages/openrouteservice/client.py:211: UserWarning: Rate limit exceeded. Retrying for the 7th time.\n",
      "  warnings.warn('Rate limit exceeded. Retrying for the {0}{1} time.'.format(retry_counter + 1,\n",
      "/home/nabilersyad/miniconda3/envs/sql/lib/python3.9/site-packages/openrouteservice/client.py:211: UserWarning: Rate limit exceeded. Retrying for the 8th time.\n",
      "  warnings.warn('Rate limit exceeded. Retrying for the {0}{1} time.'.format(retry_counter + 1,\n",
      "/home/nabilersyad/miniconda3/envs/sql/lib/python3.9/site-packages/openrouteservice/client.py:211: UserWarning: Rate limit exceeded. Retrying for the 9th time.\n",
      "  warnings.warn('Rate limit exceeded. Retrying for the {0}{1} time.'.format(retry_counter + 1,\n",
      "/home/nabilersyad/miniconda3/envs/sql/lib/python3.9/site-packages/geopandas/geodataframe.py:1537: UserWarning: Geometry column does not contain geometry.\n",
      "  warnings.warn(\"Geometry column does not contain geometry.\")\n"
     ]
    },
    {
     "name": "stdout",
     "output_type": "stream",
     "text": [
      "updated 9508388077\n"
     ]
    },
    {
     "name": "stderr",
     "output_type": "stream",
     "text": [
      "/home/nabilersyad/miniconda3/envs/sql/lib/python3.9/site-packages/geopandas/geodataframe.py:1537: UserWarning: Geometry column does not contain geometry.\n",
      "  warnings.warn(\"Geometry column does not contain geometry.\")\n"
     ]
    },
    {
     "name": "stdout",
     "output_type": "stream",
     "text": [
      "updated 9508388079\n"
     ]
    },
    {
     "name": "stderr",
     "output_type": "stream",
     "text": [
      "/home/nabilersyad/miniconda3/envs/sql/lib/python3.9/site-packages/geopandas/geodataframe.py:1537: UserWarning: Geometry column does not contain geometry.\n",
      "  warnings.warn(\"Geometry column does not contain geometry.\")\n"
     ]
    },
    {
     "name": "stdout",
     "output_type": "stream",
     "text": [
      "updated 9646411432\n"
     ]
    },
    {
     "name": "stderr",
     "output_type": "stream",
     "text": [
      "/home/nabilersyad/miniconda3/envs/sql/lib/python3.9/site-packages/geopandas/geodataframe.py:1537: UserWarning: Geometry column does not contain geometry.\n",
      "  warnings.warn(\"Geometry column does not contain geometry.\")\n"
     ]
    },
    {
     "name": "stdout",
     "output_type": "stream",
     "text": [
      "updated 9740843587\n"
     ]
    },
    {
     "name": "stderr",
     "output_type": "stream",
     "text": [
      "/home/nabilersyad/miniconda3/envs/sql/lib/python3.9/site-packages/geopandas/geodataframe.py:1537: UserWarning: Geometry column does not contain geometry.\n",
      "  warnings.warn(\"Geometry column does not contain geometry.\")\n"
     ]
    },
    {
     "name": "stdout",
     "output_type": "stream",
     "text": [
      "updated 9774145253\n"
     ]
    },
    {
     "name": "stderr",
     "output_type": "stream",
     "text": [
      "/home/nabilersyad/miniconda3/envs/sql/lib/python3.9/site-packages/geopandas/geodataframe.py:1537: UserWarning: Geometry column does not contain geometry.\n",
      "  warnings.warn(\"Geometry column does not contain geometry.\")\n"
     ]
    },
    {
     "name": "stdout",
     "output_type": "stream",
     "text": [
      "updated 9850359889\n"
     ]
    },
    {
     "name": "stderr",
     "output_type": "stream",
     "text": [
      "/home/nabilersyad/miniconda3/envs/sql/lib/python3.9/site-packages/geopandas/geodataframe.py:1537: UserWarning: Geometry column does not contain geometry.\n",
      "  warnings.warn(\"Geometry column does not contain geometry.\")\n"
     ]
    },
    {
     "name": "stdout",
     "output_type": "stream",
     "text": [
      "updated 9850375320\n"
     ]
    },
    {
     "name": "stderr",
     "output_type": "stream",
     "text": [
      "/home/nabilersyad/miniconda3/envs/sql/lib/python3.9/site-packages/geopandas/geodataframe.py:1537: UserWarning: Geometry column does not contain geometry.\n",
      "  warnings.warn(\"Geometry column does not contain geometry.\")\n"
     ]
    },
    {
     "name": "stdout",
     "output_type": "stream",
     "text": [
      "updated 9850375370\n"
     ]
    },
    {
     "name": "stderr",
     "output_type": "stream",
     "text": [
      "/home/nabilersyad/miniconda3/envs/sql/lib/python3.9/site-packages/geopandas/geodataframe.py:1537: UserWarning: Geometry column does not contain geometry.\n",
      "  warnings.warn(\"Geometry column does not contain geometry.\")\n"
     ]
    },
    {
     "name": "stdout",
     "output_type": "stream",
     "text": [
      "updated 9850375371\n"
     ]
    },
    {
     "name": "stderr",
     "output_type": "stream",
     "text": [
      "/home/nabilersyad/miniconda3/envs/sql/lib/python3.9/site-packages/geopandas/geodataframe.py:1537: UserWarning: Geometry column does not contain geometry.\n",
      "  warnings.warn(\"Geometry column does not contain geometry.\")\n"
     ]
    },
    {
     "name": "stdout",
     "output_type": "stream",
     "text": [
      "updated 9853266686\n"
     ]
    },
    {
     "name": "stderr",
     "output_type": "stream",
     "text": [
      "/home/nabilersyad/miniconda3/envs/sql/lib/python3.9/site-packages/geopandas/geodataframe.py:1537: UserWarning: Geometry column does not contain geometry.\n",
      "  warnings.warn(\"Geometry column does not contain geometry.\")\n"
     ]
    },
    {
     "name": "stdout",
     "output_type": "stream",
     "text": [
      "updated 9909030875\n"
     ]
    },
    {
     "name": "stderr",
     "output_type": "stream",
     "text": [
      "/home/nabilersyad/miniconda3/envs/sql/lib/python3.9/site-packages/geopandas/geodataframe.py:1537: UserWarning: Geometry column does not contain geometry.\n",
      "  warnings.warn(\"Geometry column does not contain geometry.\")\n"
     ]
    },
    {
     "name": "stdout",
     "output_type": "stream",
     "text": [
      "updated 9913020228\n"
     ]
    },
    {
     "name": "stderr",
     "output_type": "stream",
     "text": [
      "/home/nabilersyad/miniconda3/envs/sql/lib/python3.9/site-packages/geopandas/geodataframe.py:1537: UserWarning: Geometry column does not contain geometry.\n",
      "  warnings.warn(\"Geometry column does not contain geometry.\")\n"
     ]
    },
    {
     "name": "stdout",
     "output_type": "stream",
     "text": [
      "updated 9913020229\n"
     ]
    },
    {
     "name": "stderr",
     "output_type": "stream",
     "text": [
      "/home/nabilersyad/miniconda3/envs/sql/lib/python3.9/site-packages/geopandas/geodataframe.py:1537: UserWarning: Geometry column does not contain geometry.\n",
      "  warnings.warn(\"Geometry column does not contain geometry.\")\n"
     ]
    },
    {
     "name": "stdout",
     "output_type": "stream",
     "text": [
      "updated 9913020238\n"
     ]
    },
    {
     "name": "stderr",
     "output_type": "stream",
     "text": [
      "/home/nabilersyad/miniconda3/envs/sql/lib/python3.9/site-packages/geopandas/geodataframe.py:1537: UserWarning: Geometry column does not contain geometry.\n",
      "  warnings.warn(\"Geometry column does not contain geometry.\")\n"
     ]
    },
    {
     "name": "stdout",
     "output_type": "stream",
     "text": [
      "updated 9914411088\n"
     ]
    },
    {
     "name": "stderr",
     "output_type": "stream",
     "text": [
      "/home/nabilersyad/miniconda3/envs/sql/lib/python3.9/site-packages/geopandas/geodataframe.py:1537: UserWarning: Geometry column does not contain geometry.\n",
      "  warnings.warn(\"Geometry column does not contain geometry.\")\n"
     ]
    },
    {
     "name": "stdout",
     "output_type": "stream",
     "text": [
      "updated 9919591009\n"
     ]
    },
    {
     "name": "stderr",
     "output_type": "stream",
     "text": [
      "/home/nabilersyad/miniconda3/envs/sql/lib/python3.9/site-packages/geopandas/geodataframe.py:1537: UserWarning: Geometry column does not contain geometry.\n",
      "  warnings.warn(\"Geometry column does not contain geometry.\")\n"
     ]
    },
    {
     "name": "stdout",
     "output_type": "stream",
     "text": [
      "updated 9924537172\n"
     ]
    },
    {
     "name": "stderr",
     "output_type": "stream",
     "text": [
      "/home/nabilersyad/miniconda3/envs/sql/lib/python3.9/site-packages/openrouteservice/client.py:211: UserWarning: Rate limit exceeded. Retrying for the 1st time.\n",
      "  warnings.warn('Rate limit exceeded. Retrying for the {0}{1} time.'.format(retry_counter + 1,\n",
      "/home/nabilersyad/miniconda3/envs/sql/lib/python3.9/site-packages/openrouteservice/client.py:211: UserWarning: Rate limit exceeded. Retrying for the 2nd time.\n",
      "  warnings.warn('Rate limit exceeded. Retrying for the {0}{1} time.'.format(retry_counter + 1,\n",
      "/home/nabilersyad/miniconda3/envs/sql/lib/python3.9/site-packages/openrouteservice/client.py:211: UserWarning: Rate limit exceeded. Retrying for the 3rd time.\n",
      "  warnings.warn('Rate limit exceeded. Retrying for the {0}{1} time.'.format(retry_counter + 1,\n",
      "/home/nabilersyad/miniconda3/envs/sql/lib/python3.9/site-packages/openrouteservice/client.py:211: UserWarning: Rate limit exceeded. Retrying for the 4th time.\n",
      "  warnings.warn('Rate limit exceeded. Retrying for the {0}{1} time.'.format(retry_counter + 1,\n",
      "/home/nabilersyad/miniconda3/envs/sql/lib/python3.9/site-packages/openrouteservice/client.py:211: UserWarning: Rate limit exceeded. Retrying for the 5th time.\n",
      "  warnings.warn('Rate limit exceeded. Retrying for the {0}{1} time.'.format(retry_counter + 1,\n",
      "/home/nabilersyad/miniconda3/envs/sql/lib/python3.9/site-packages/openrouteservice/client.py:211: UserWarning: Rate limit exceeded. Retrying for the 6th time.\n",
      "  warnings.warn('Rate limit exceeded. Retrying for the {0}{1} time.'.format(retry_counter + 1,\n",
      "/home/nabilersyad/miniconda3/envs/sql/lib/python3.9/site-packages/openrouteservice/client.py:211: UserWarning: Rate limit exceeded. Retrying for the 7th time.\n",
      "  warnings.warn('Rate limit exceeded. Retrying for the {0}{1} time.'.format(retry_counter + 1,\n",
      "/home/nabilersyad/miniconda3/envs/sql/lib/python3.9/site-packages/openrouteservice/client.py:211: UserWarning: Rate limit exceeded. Retrying for the 8th time.\n",
      "  warnings.warn('Rate limit exceeded. Retrying for the {0}{1} time.'.format(retry_counter + 1,\n",
      "/home/nabilersyad/miniconda3/envs/sql/lib/python3.9/site-packages/openrouteservice/client.py:211: UserWarning: Rate limit exceeded. Retrying for the 9th time.\n",
      "  warnings.warn('Rate limit exceeded. Retrying for the {0}{1} time.'.format(retry_counter + 1,\n",
      "/home/nabilersyad/miniconda3/envs/sql/lib/python3.9/site-packages/geopandas/geodataframe.py:1537: UserWarning: Geometry column does not contain geometry.\n",
      "  warnings.warn(\"Geometry column does not contain geometry.\")\n"
     ]
    },
    {
     "name": "stdout",
     "output_type": "stream",
     "text": [
      "updated 9924537173\n"
     ]
    },
    {
     "name": "stderr",
     "output_type": "stream",
     "text": [
      "/home/nabilersyad/miniconda3/envs/sql/lib/python3.9/site-packages/geopandas/geodataframe.py:1537: UserWarning: Geometry column does not contain geometry.\n",
      "  warnings.warn(\"Geometry column does not contain geometry.\")\n"
     ]
    },
    {
     "name": "stdout",
     "output_type": "stream",
     "text": [
      "updated 9924537197\n"
     ]
    },
    {
     "name": "stderr",
     "output_type": "stream",
     "text": [
      "/home/nabilersyad/miniconda3/envs/sql/lib/python3.9/site-packages/geopandas/geodataframe.py:1537: UserWarning: Geometry column does not contain geometry.\n",
      "  warnings.warn(\"Geometry column does not contain geometry.\")\n"
     ]
    },
    {
     "name": "stdout",
     "output_type": "stream",
     "text": [
      "updated 9933445412\n"
     ]
    },
    {
     "name": "stderr",
     "output_type": "stream",
     "text": [
      "/home/nabilersyad/miniconda3/envs/sql/lib/python3.9/site-packages/geopandas/geodataframe.py:1537: UserWarning: Geometry column does not contain geometry.\n",
      "  warnings.warn(\"Geometry column does not contain geometry.\")\n"
     ]
    },
    {
     "name": "stdout",
     "output_type": "stream",
     "text": [
      "updated 9933445415\n"
     ]
    },
    {
     "name": "stderr",
     "output_type": "stream",
     "text": [
      "/home/nabilersyad/miniconda3/envs/sql/lib/python3.9/site-packages/geopandas/geodataframe.py:1537: UserWarning: Geometry column does not contain geometry.\n",
      "  warnings.warn(\"Geometry column does not contain geometry.\")\n"
     ]
    },
    {
     "name": "stdout",
     "output_type": "stream",
     "text": [
      "updated 9933445416\n"
     ]
    },
    {
     "name": "stderr",
     "output_type": "stream",
     "text": [
      "/home/nabilersyad/miniconda3/envs/sql/lib/python3.9/site-packages/geopandas/geodataframe.py:1537: UserWarning: Geometry column does not contain geometry.\n",
      "  warnings.warn(\"Geometry column does not contain geometry.\")\n"
     ]
    },
    {
     "name": "stdout",
     "output_type": "stream",
     "text": [
      "updated 9983121349\n"
     ]
    },
    {
     "name": "stderr",
     "output_type": "stream",
     "text": [
      "/home/nabilersyad/miniconda3/envs/sql/lib/python3.9/site-packages/geopandas/geodataframe.py:1537: UserWarning: Geometry column does not contain geometry.\n",
      "  warnings.warn(\"Geometry column does not contain geometry.\")\n"
     ]
    },
    {
     "name": "stdout",
     "output_type": "stream",
     "text": [
      "updated 9983207462\n"
     ]
    },
    {
     "name": "stderr",
     "output_type": "stream",
     "text": [
      "/home/nabilersyad/miniconda3/envs/sql/lib/python3.9/site-packages/geopandas/geodataframe.py:1537: UserWarning: Geometry column does not contain geometry.\n",
      "  warnings.warn(\"Geometry column does not contain geometry.\")\n"
     ]
    },
    {
     "name": "stdout",
     "output_type": "stream",
     "text": [
      "updated 10211729864\n"
     ]
    },
    {
     "name": "stderr",
     "output_type": "stream",
     "text": [
      "/home/nabilersyad/miniconda3/envs/sql/lib/python3.9/site-packages/geopandas/geodataframe.py:1537: UserWarning: Geometry column does not contain geometry.\n",
      "  warnings.warn(\"Geometry column does not contain geometry.\")\n"
     ]
    },
    {
     "name": "stdout",
     "output_type": "stream",
     "text": [
      "updated 10211729868\n"
     ]
    },
    {
     "name": "stderr",
     "output_type": "stream",
     "text": [
      "/home/nabilersyad/miniconda3/envs/sql/lib/python3.9/site-packages/geopandas/geodataframe.py:1537: UserWarning: Geometry column does not contain geometry.\n",
      "  warnings.warn(\"Geometry column does not contain geometry.\")\n"
     ]
    },
    {
     "name": "stdout",
     "output_type": "stream",
     "text": [
      "updated 10270868726\n"
     ]
    },
    {
     "name": "stderr",
     "output_type": "stream",
     "text": [
      "/home/nabilersyad/miniconda3/envs/sql/lib/python3.9/site-packages/geopandas/geodataframe.py:1537: UserWarning: Geometry column does not contain geometry.\n",
      "  warnings.warn(\"Geometry column does not contain geometry.\")\n"
     ]
    },
    {
     "name": "stdout",
     "output_type": "stream",
     "text": [
      "updated 10270868727\n"
     ]
    },
    {
     "name": "stderr",
     "output_type": "stream",
     "text": [
      "/home/nabilersyad/miniconda3/envs/sql/lib/python3.9/site-packages/geopandas/geodataframe.py:1537: UserWarning: Geometry column does not contain geometry.\n",
      "  warnings.warn(\"Geometry column does not contain geometry.\")\n"
     ]
    },
    {
     "name": "stdout",
     "output_type": "stream",
     "text": [
      "updated 10270868745\n"
     ]
    },
    {
     "name": "stderr",
     "output_type": "stream",
     "text": [
      "/home/nabilersyad/miniconda3/envs/sql/lib/python3.9/site-packages/geopandas/geodataframe.py:1537: UserWarning: Geometry column does not contain geometry.\n",
      "  warnings.warn(\"Geometry column does not contain geometry.\")\n"
     ]
    },
    {
     "name": "stdout",
     "output_type": "stream",
     "text": [
      "updated 10271036579\n"
     ]
    },
    {
     "name": "stderr",
     "output_type": "stream",
     "text": [
      "/home/nabilersyad/miniconda3/envs/sql/lib/python3.9/site-packages/geopandas/geodataframe.py:1537: UserWarning: Geometry column does not contain geometry.\n",
      "  warnings.warn(\"Geometry column does not contain geometry.\")\n"
     ]
    },
    {
     "name": "stdout",
     "output_type": "stream",
     "text": [
      "updated 10271036580\n"
     ]
    },
    {
     "name": "stderr",
     "output_type": "stream",
     "text": [
      "/home/nabilersyad/miniconda3/envs/sql/lib/python3.9/site-packages/geopandas/geodataframe.py:1537: UserWarning: Geometry column does not contain geometry.\n",
      "  warnings.warn(\"Geometry column does not contain geometry.\")\n"
     ]
    },
    {
     "name": "stdout",
     "output_type": "stream",
     "text": [
      "updated 10271036965\n"
     ]
    },
    {
     "name": "stderr",
     "output_type": "stream",
     "text": [
      "/home/nabilersyad/miniconda3/envs/sql/lib/python3.9/site-packages/geopandas/geodataframe.py:1537: UserWarning: Geometry column does not contain geometry.\n",
      "  warnings.warn(\"Geometry column does not contain geometry.\")\n"
     ]
    },
    {
     "name": "stdout",
     "output_type": "stream",
     "text": [
      "updated 10271036984\n"
     ]
    },
    {
     "name": "stderr",
     "output_type": "stream",
     "text": [
      "/home/nabilersyad/miniconda3/envs/sql/lib/python3.9/site-packages/geopandas/geodataframe.py:1537: UserWarning: Geometry column does not contain geometry.\n",
      "  warnings.warn(\"Geometry column does not contain geometry.\")\n"
     ]
    },
    {
     "name": "stdout",
     "output_type": "stream",
     "text": [
      "updated 10271039830\n"
     ]
    },
    {
     "name": "stderr",
     "output_type": "stream",
     "text": [
      "/home/nabilersyad/miniconda3/envs/sql/lib/python3.9/site-packages/openrouteservice/client.py:211: UserWarning: Rate limit exceeded. Retrying for the 1st time.\n",
      "  warnings.warn('Rate limit exceeded. Retrying for the {0}{1} time.'.format(retry_counter + 1,\n",
      "/home/nabilersyad/miniconda3/envs/sql/lib/python3.9/site-packages/openrouteservice/client.py:211: UserWarning: Rate limit exceeded. Retrying for the 2nd time.\n",
      "  warnings.warn('Rate limit exceeded. Retrying for the {0}{1} time.'.format(retry_counter + 1,\n",
      "/home/nabilersyad/miniconda3/envs/sql/lib/python3.9/site-packages/openrouteservice/client.py:211: UserWarning: Rate limit exceeded. Retrying for the 3rd time.\n",
      "  warnings.warn('Rate limit exceeded. Retrying for the {0}{1} time.'.format(retry_counter + 1,\n",
      "/home/nabilersyad/miniconda3/envs/sql/lib/python3.9/site-packages/openrouteservice/client.py:211: UserWarning: Rate limit exceeded. Retrying for the 4th time.\n",
      "  warnings.warn('Rate limit exceeded. Retrying for the {0}{1} time.'.format(retry_counter + 1,\n",
      "/home/nabilersyad/miniconda3/envs/sql/lib/python3.9/site-packages/openrouteservice/client.py:211: UserWarning: Rate limit exceeded. Retrying for the 5th time.\n",
      "  warnings.warn('Rate limit exceeded. Retrying for the {0}{1} time.'.format(retry_counter + 1,\n",
      "/home/nabilersyad/miniconda3/envs/sql/lib/python3.9/site-packages/openrouteservice/client.py:211: UserWarning: Rate limit exceeded. Retrying for the 6th time.\n",
      "  warnings.warn('Rate limit exceeded. Retrying for the {0}{1} time.'.format(retry_counter + 1,\n",
      "/home/nabilersyad/miniconda3/envs/sql/lib/python3.9/site-packages/openrouteservice/client.py:211: UserWarning: Rate limit exceeded. Retrying for the 7th time.\n",
      "  warnings.warn('Rate limit exceeded. Retrying for the {0}{1} time.'.format(retry_counter + 1,\n",
      "/home/nabilersyad/miniconda3/envs/sql/lib/python3.9/site-packages/openrouteservice/client.py:211: UserWarning: Rate limit exceeded. Retrying for the 8th time.\n",
      "  warnings.warn('Rate limit exceeded. Retrying for the {0}{1} time.'.format(retry_counter + 1,\n",
      "/home/nabilersyad/miniconda3/envs/sql/lib/python3.9/site-packages/openrouteservice/client.py:211: UserWarning: Rate limit exceeded. Retrying for the 9th time.\n",
      "  warnings.warn('Rate limit exceeded. Retrying for the {0}{1} time.'.format(retry_counter + 1,\n",
      "/home/nabilersyad/miniconda3/envs/sql/lib/python3.9/site-packages/geopandas/geodataframe.py:1537: UserWarning: Geometry column does not contain geometry.\n",
      "  warnings.warn(\"Geometry column does not contain geometry.\")\n"
     ]
    },
    {
     "name": "stdout",
     "output_type": "stream",
     "text": [
      "updated 10271039842\n"
     ]
    },
    {
     "name": "stderr",
     "output_type": "stream",
     "text": [
      "/home/nabilersyad/miniconda3/envs/sql/lib/python3.9/site-packages/geopandas/geodataframe.py:1537: UserWarning: Geometry column does not contain geometry.\n",
      "  warnings.warn(\"Geometry column does not contain geometry.\")\n"
     ]
    },
    {
     "name": "stdout",
     "output_type": "stream",
     "text": [
      "updated 10271071855\n"
     ]
    },
    {
     "name": "stderr",
     "output_type": "stream",
     "text": [
      "/home/nabilersyad/miniconda3/envs/sql/lib/python3.9/site-packages/geopandas/geodataframe.py:1537: UserWarning: Geometry column does not contain geometry.\n",
      "  warnings.warn(\"Geometry column does not contain geometry.\")\n"
     ]
    },
    {
     "name": "stdout",
     "output_type": "stream",
     "text": [
      "updated 10594184537\n"
     ]
    },
    {
     "name": "stderr",
     "output_type": "stream",
     "text": [
      "/home/nabilersyad/miniconda3/envs/sql/lib/python3.9/site-packages/geopandas/geodataframe.py:1537: UserWarning: Geometry column does not contain geometry.\n",
      "  warnings.warn(\"Geometry column does not contain geometry.\")\n"
     ]
    },
    {
     "name": "stdout",
     "output_type": "stream",
     "text": [
      "updated 10594184538\n"
     ]
    },
    {
     "name": "stderr",
     "output_type": "stream",
     "text": [
      "/home/nabilersyad/miniconda3/envs/sql/lib/python3.9/site-packages/geopandas/geodataframe.py:1537: UserWarning: Geometry column does not contain geometry.\n",
      "  warnings.warn(\"Geometry column does not contain geometry.\")\n"
     ]
    },
    {
     "name": "stdout",
     "output_type": "stream",
     "text": [
      "updated 10611678881\n"
     ]
    },
    {
     "name": "stderr",
     "output_type": "stream",
     "text": [
      "/home/nabilersyad/miniconda3/envs/sql/lib/python3.9/site-packages/geopandas/geodataframe.py:1537: UserWarning: Geometry column does not contain geometry.\n",
      "  warnings.warn(\"Geometry column does not contain geometry.\")\n"
     ]
    },
    {
     "name": "stdout",
     "output_type": "stream",
     "text": [
      "updated 10611678882\n"
     ]
    },
    {
     "name": "stderr",
     "output_type": "stream",
     "text": [
      "/home/nabilersyad/miniconda3/envs/sql/lib/python3.9/site-packages/geopandas/geodataframe.py:1537: UserWarning: Geometry column does not contain geometry.\n",
      "  warnings.warn(\"Geometry column does not contain geometry.\")\n"
     ]
    },
    {
     "name": "stdout",
     "output_type": "stream",
     "text": [
      "updated 10658294223\n"
     ]
    },
    {
     "name": "stderr",
     "output_type": "stream",
     "text": [
      "/home/nabilersyad/miniconda3/envs/sql/lib/python3.9/site-packages/geopandas/geodataframe.py:1537: UserWarning: Geometry column does not contain geometry.\n",
      "  warnings.warn(\"Geometry column does not contain geometry.\")\n"
     ]
    },
    {
     "name": "stdout",
     "output_type": "stream",
     "text": [
      "updated 10660535048\n"
     ]
    },
    {
     "name": "stderr",
     "output_type": "stream",
     "text": [
      "/home/nabilersyad/miniconda3/envs/sql/lib/python3.9/site-packages/geopandas/geodataframe.py:1537: UserWarning: Geometry column does not contain geometry.\n",
      "  warnings.warn(\"Geometry column does not contain geometry.\")\n"
     ]
    },
    {
     "name": "stdout",
     "output_type": "stream",
     "text": [
      "updated 10830050822\n"
     ]
    },
    {
     "name": "stderr",
     "output_type": "stream",
     "text": [
      "/home/nabilersyad/miniconda3/envs/sql/lib/python3.9/site-packages/geopandas/geodataframe.py:1537: UserWarning: Geometry column does not contain geometry.\n",
      "  warnings.warn(\"Geometry column does not contain geometry.\")\n"
     ]
    },
    {
     "name": "stdout",
     "output_type": "stream",
     "text": [
      "updated 10839997852\n"
     ]
    },
    {
     "name": "stderr",
     "output_type": "stream",
     "text": [
      "/home/nabilersyad/miniconda3/envs/sql/lib/python3.9/site-packages/geopandas/geodataframe.py:1537: UserWarning: Geometry column does not contain geometry.\n",
      "  warnings.warn(\"Geometry column does not contain geometry.\")\n"
     ]
    },
    {
     "name": "stdout",
     "output_type": "stream",
     "text": [
      "updated 10864116957\n"
     ]
    },
    {
     "name": "stderr",
     "output_type": "stream",
     "text": [
      "/home/nabilersyad/miniconda3/envs/sql/lib/python3.9/site-packages/geopandas/geodataframe.py:1537: UserWarning: Geometry column does not contain geometry.\n",
      "  warnings.warn(\"Geometry column does not contain geometry.\")\n"
     ]
    },
    {
     "name": "stdout",
     "output_type": "stream",
     "text": [
      "updated 10949038882\n"
     ]
    },
    {
     "name": "stderr",
     "output_type": "stream",
     "text": [
      "/home/nabilersyad/miniconda3/envs/sql/lib/python3.9/site-packages/geopandas/geodataframe.py:1537: UserWarning: Geometry column does not contain geometry.\n",
      "  warnings.warn(\"Geometry column does not contain geometry.\")\n"
     ]
    },
    {
     "name": "stdout",
     "output_type": "stream",
     "text": [
      "updated 10949038884\n"
     ]
    },
    {
     "name": "stderr",
     "output_type": "stream",
     "text": [
      "/home/nabilersyad/miniconda3/envs/sql/lib/python3.9/site-packages/geopandas/geodataframe.py:1537: UserWarning: Geometry column does not contain geometry.\n",
      "  warnings.warn(\"Geometry column does not contain geometry.\")\n"
     ]
    },
    {
     "name": "stdout",
     "output_type": "stream",
     "text": [
      "updated 5261535576\n"
     ]
    },
    {
     "name": "stderr",
     "output_type": "stream",
     "text": [
      "/home/nabilersyad/miniconda3/envs/sql/lib/python3.9/site-packages/geopandas/geodataframe.py:1537: UserWarning: Geometry column does not contain geometry.\n",
      "  warnings.warn(\"Geometry column does not contain geometry.\")\n"
     ]
    },
    {
     "name": "stdout",
     "output_type": "stream",
     "text": [
      "updated 5469085483\n"
     ]
    },
    {
     "name": "stderr",
     "output_type": "stream",
     "text": [
      "/home/nabilersyad/miniconda3/envs/sql/lib/python3.9/site-packages/geopandas/geodataframe.py:1537: UserWarning: Geometry column does not contain geometry.\n",
      "  warnings.warn(\"Geometry column does not contain geometry.\")\n"
     ]
    },
    {
     "name": "stdout",
     "output_type": "stream",
     "text": [
      "updated 5469085628\n"
     ]
    },
    {
     "name": "stderr",
     "output_type": "stream",
     "text": [
      "/home/nabilersyad/miniconda3/envs/sql/lib/python3.9/site-packages/geopandas/geodataframe.py:1537: UserWarning: Geometry column does not contain geometry.\n",
      "  warnings.warn(\"Geometry column does not contain geometry.\")\n"
     ]
    },
    {
     "name": "stdout",
     "output_type": "stream",
     "text": [
      "updated 5469085650\n"
     ]
    },
    {
     "name": "stderr",
     "output_type": "stream",
     "text": [
      "/home/nabilersyad/miniconda3/envs/sql/lib/python3.9/site-packages/geopandas/geodataframe.py:1537: UserWarning: Geometry column does not contain geometry.\n",
      "  warnings.warn(\"Geometry column does not contain geometry.\")\n"
     ]
    },
    {
     "name": "stdout",
     "output_type": "stream",
     "text": [
      "updated 7702628710\n"
     ]
    },
    {
     "name": "stderr",
     "output_type": "stream",
     "text": [
      "/home/nabilersyad/miniconda3/envs/sql/lib/python3.9/site-packages/openrouteservice/client.py:211: UserWarning: Rate limit exceeded. Retrying for the 1st time.\n",
      "  warnings.warn('Rate limit exceeded. Retrying for the {0}{1} time.'.format(retry_counter + 1,\n",
      "/home/nabilersyad/miniconda3/envs/sql/lib/python3.9/site-packages/openrouteservice/client.py:211: UserWarning: Rate limit exceeded. Retrying for the 2nd time.\n",
      "  warnings.warn('Rate limit exceeded. Retrying for the {0}{1} time.'.format(retry_counter + 1,\n",
      "/home/nabilersyad/miniconda3/envs/sql/lib/python3.9/site-packages/openrouteservice/client.py:211: UserWarning: Rate limit exceeded. Retrying for the 3rd time.\n",
      "  warnings.warn('Rate limit exceeded. Retrying for the {0}{1} time.'.format(retry_counter + 1,\n",
      "/home/nabilersyad/miniconda3/envs/sql/lib/python3.9/site-packages/openrouteservice/client.py:211: UserWarning: Rate limit exceeded. Retrying for the 4th time.\n",
      "  warnings.warn('Rate limit exceeded. Retrying for the {0}{1} time.'.format(retry_counter + 1,\n",
      "/home/nabilersyad/miniconda3/envs/sql/lib/python3.9/site-packages/openrouteservice/client.py:211: UserWarning: Rate limit exceeded. Retrying for the 5th time.\n",
      "  warnings.warn('Rate limit exceeded. Retrying for the {0}{1} time.'.format(retry_counter + 1,\n",
      "/home/nabilersyad/miniconda3/envs/sql/lib/python3.9/site-packages/openrouteservice/client.py:211: UserWarning: Rate limit exceeded. Retrying for the 6th time.\n",
      "  warnings.warn('Rate limit exceeded. Retrying for the {0}{1} time.'.format(retry_counter + 1,\n",
      "/home/nabilersyad/miniconda3/envs/sql/lib/python3.9/site-packages/openrouteservice/client.py:211: UserWarning: Rate limit exceeded. Retrying for the 7th time.\n",
      "  warnings.warn('Rate limit exceeded. Retrying for the {0}{1} time.'.format(retry_counter + 1,\n",
      "/home/nabilersyad/miniconda3/envs/sql/lib/python3.9/site-packages/openrouteservice/client.py:211: UserWarning: Rate limit exceeded. Retrying for the 8th time.\n",
      "  warnings.warn('Rate limit exceeded. Retrying for the {0}{1} time.'.format(retry_counter + 1,\n",
      "/home/nabilersyad/miniconda3/envs/sql/lib/python3.9/site-packages/openrouteservice/client.py:211: UserWarning: Rate limit exceeded. Retrying for the 9th time.\n",
      "  warnings.warn('Rate limit exceeded. Retrying for the {0}{1} time.'.format(retry_counter + 1,\n",
      "/home/nabilersyad/miniconda3/envs/sql/lib/python3.9/site-packages/geopandas/geodataframe.py:1537: UserWarning: Geometry column does not contain geometry.\n",
      "  warnings.warn(\"Geometry column does not contain geometry.\")\n"
     ]
    },
    {
     "name": "stdout",
     "output_type": "stream",
     "text": [
      "updated 10860751179\n"
     ]
    },
    {
     "name": "stderr",
     "output_type": "stream",
     "text": [
      "/home/nabilersyad/miniconda3/envs/sql/lib/python3.9/site-packages/geopandas/geodataframe.py:1537: UserWarning: Geometry column does not contain geometry.\n",
      "  warnings.warn(\"Geometry column does not contain geometry.\")\n"
     ]
    },
    {
     "name": "stdout",
     "output_type": "stream",
     "text": [
      "updated 5737775567\n"
     ]
    },
    {
     "name": "stderr",
     "output_type": "stream",
     "text": [
      "/home/nabilersyad/miniconda3/envs/sql/lib/python3.9/site-packages/geopandas/geodataframe.py:1537: UserWarning: Geometry column does not contain geometry.\n",
      "  warnings.warn(\"Geometry column does not contain geometry.\")\n"
     ]
    },
    {
     "name": "stdout",
     "output_type": "stream",
     "text": [
      "updated 7629425122\n"
     ]
    },
    {
     "name": "stderr",
     "output_type": "stream",
     "text": [
      "/home/nabilersyad/miniconda3/envs/sql/lib/python3.9/site-packages/geopandas/geodataframe.py:1537: UserWarning: Geometry column does not contain geometry.\n",
      "  warnings.warn(\"Geometry column does not contain geometry.\")\n"
     ]
    },
    {
     "name": "stdout",
     "output_type": "stream",
     "text": [
      "updated 9913027320\n"
     ]
    },
    {
     "name": "stderr",
     "output_type": "stream",
     "text": [
      "/home/nabilersyad/miniconda3/envs/sql/lib/python3.9/site-packages/geopandas/geodataframe.py:1537: UserWarning: Geometry column does not contain geometry.\n",
      "  warnings.warn(\"Geometry column does not contain geometry.\")\n"
     ]
    },
    {
     "name": "stdout",
     "output_type": "stream",
     "text": [
      "updated 9942835610\n"
     ]
    },
    {
     "name": "stderr",
     "output_type": "stream",
     "text": [
      "/home/nabilersyad/miniconda3/envs/sql/lib/python3.9/site-packages/geopandas/geodataframe.py:1537: UserWarning: Geometry column does not contain geometry.\n",
      "  warnings.warn(\"Geometry column does not contain geometry.\")\n"
     ]
    },
    {
     "name": "stdout",
     "output_type": "stream",
     "text": [
      "updated 10941247782\n"
     ]
    },
    {
     "name": "stderr",
     "output_type": "stream",
     "text": [
      "/home/nabilersyad/miniconda3/envs/sql/lib/python3.9/site-packages/geopandas/geodataframe.py:1537: UserWarning: Geometry column does not contain geometry.\n",
      "  warnings.warn(\"Geometry column does not contain geometry.\")\n"
     ]
    },
    {
     "name": "stdout",
     "output_type": "stream",
     "text": [
      "updated 11032999050\n"
     ]
    },
    {
     "name": "stderr",
     "output_type": "stream",
     "text": [
      "/home/nabilersyad/miniconda3/envs/sql/lib/python3.9/site-packages/geopandas/geodataframe.py:1537: UserWarning: Geometry column does not contain geometry.\n",
      "  warnings.warn(\"Geometry column does not contain geometry.\")\n"
     ]
    },
    {
     "name": "stdout",
     "output_type": "stream",
     "text": [
      "updated 9849592637\n"
     ]
    },
    {
     "name": "stderr",
     "output_type": "stream",
     "text": [
      "/home/nabilersyad/miniconda3/envs/sql/lib/python3.9/site-packages/geopandas/geodataframe.py:1537: UserWarning: Geometry column does not contain geometry.\n",
      "  warnings.warn(\"Geometry column does not contain geometry.\")\n"
     ]
    },
    {
     "name": "stdout",
     "output_type": "stream",
     "text": [
      "updated 9849815460\n"
     ]
    },
    {
     "name": "stderr",
     "output_type": "stream",
     "text": [
      "/home/nabilersyad/miniconda3/envs/sql/lib/python3.9/site-packages/geopandas/geodataframe.py:1537: UserWarning: Geometry column does not contain geometry.\n",
      "  warnings.warn(\"Geometry column does not contain geometry.\")\n"
     ]
    },
    {
     "name": "stdout",
     "output_type": "stream",
     "text": [
      "updated 9849815463\n"
     ]
    },
    {
     "name": "stderr",
     "output_type": "stream",
     "text": [
      "/home/nabilersyad/miniconda3/envs/sql/lib/python3.9/site-packages/geopandas/geodataframe.py:1537: UserWarning: Geometry column does not contain geometry.\n",
      "  warnings.warn(\"Geometry column does not contain geometry.\")\n"
     ]
    },
    {
     "name": "stdout",
     "output_type": "stream",
     "text": [
      "updated 11032999053\n"
     ]
    },
    {
     "name": "stderr",
     "output_type": "stream",
     "text": [
      "/home/nabilersyad/miniconda3/envs/sql/lib/python3.9/site-packages/geopandas/geodataframe.py:1537: UserWarning: Geometry column does not contain geometry.\n",
      "  warnings.warn(\"Geometry column does not contain geometry.\")\n"
     ]
    },
    {
     "name": "stdout",
     "output_type": "stream",
     "text": [
      "updated 11033916949\n"
     ]
    },
    {
     "name": "stderr",
     "output_type": "stream",
     "text": [
      "/home/nabilersyad/miniconda3/envs/sql/lib/python3.9/site-packages/geopandas/geodataframe.py:1537: UserWarning: Geometry column does not contain geometry.\n",
      "  warnings.warn(\"Geometry column does not contain geometry.\")\n"
     ]
    },
    {
     "name": "stdout",
     "output_type": "stream",
     "text": [
      "updated 11039579993\n"
     ]
    },
    {
     "name": "stderr",
     "output_type": "stream",
     "text": [
      "/home/nabilersyad/miniconda3/envs/sql/lib/python3.9/site-packages/geopandas/geodataframe.py:1537: UserWarning: Geometry column does not contain geometry.\n",
      "  warnings.warn(\"Geometry column does not contain geometry.\")\n"
     ]
    },
    {
     "name": "stdout",
     "output_type": "stream",
     "text": [
      "updated 11039579994\n"
     ]
    },
    {
     "name": "stderr",
     "output_type": "stream",
     "text": [
      "/home/nabilersyad/miniconda3/envs/sql/lib/python3.9/site-packages/geopandas/geodataframe.py:1537: UserWarning: Geometry column does not contain geometry.\n",
      "  warnings.warn(\"Geometry column does not contain geometry.\")\n"
     ]
    },
    {
     "name": "stdout",
     "output_type": "stream",
     "text": [
      "updated 11039725697\n"
     ]
    },
    {
     "name": "stderr",
     "output_type": "stream",
     "text": [
      "/home/nabilersyad/miniconda3/envs/sql/lib/python3.9/site-packages/geopandas/geodataframe.py:1537: UserWarning: Geometry column does not contain geometry.\n",
      "  warnings.warn(\"Geometry column does not contain geometry.\")\n"
     ]
    },
    {
     "name": "stdout",
     "output_type": "stream",
     "text": [
      "updated 11052165924\n"
     ]
    },
    {
     "name": "stderr",
     "output_type": "stream",
     "text": [
      "/home/nabilersyad/miniconda3/envs/sql/lib/python3.9/site-packages/geopandas/geodataframe.py:1537: UserWarning: Geometry column does not contain geometry.\n",
      "  warnings.warn(\"Geometry column does not contain geometry.\")\n"
     ]
    },
    {
     "name": "stdout",
     "output_type": "stream",
     "text": [
      "updated 11061429683\n"
     ]
    },
    {
     "name": "stderr",
     "output_type": "stream",
     "text": [
      "/home/nabilersyad/miniconda3/envs/sql/lib/python3.9/site-packages/openrouteservice/client.py:211: UserWarning: Rate limit exceeded. Retrying for the 1st time.\n",
      "  warnings.warn('Rate limit exceeded. Retrying for the {0}{1} time.'.format(retry_counter + 1,\n",
      "/home/nabilersyad/miniconda3/envs/sql/lib/python3.9/site-packages/openrouteservice/client.py:211: UserWarning: Rate limit exceeded. Retrying for the 2nd time.\n",
      "  warnings.warn('Rate limit exceeded. Retrying for the {0}{1} time.'.format(retry_counter + 1,\n",
      "/home/nabilersyad/miniconda3/envs/sql/lib/python3.9/site-packages/openrouteservice/client.py:211: UserWarning: Rate limit exceeded. Retrying for the 3rd time.\n",
      "  warnings.warn('Rate limit exceeded. Retrying for the {0}{1} time.'.format(retry_counter + 1,\n",
      "/home/nabilersyad/miniconda3/envs/sql/lib/python3.9/site-packages/openrouteservice/client.py:211: UserWarning: Rate limit exceeded. Retrying for the 4th time.\n",
      "  warnings.warn('Rate limit exceeded. Retrying for the {0}{1} time.'.format(retry_counter + 1,\n",
      "/home/nabilersyad/miniconda3/envs/sql/lib/python3.9/site-packages/openrouteservice/client.py:211: UserWarning: Rate limit exceeded. Retrying for the 5th time.\n",
      "  warnings.warn('Rate limit exceeded. Retrying for the {0}{1} time.'.format(retry_counter + 1,\n",
      "/home/nabilersyad/miniconda3/envs/sql/lib/python3.9/site-packages/openrouteservice/client.py:211: UserWarning: Rate limit exceeded. Retrying for the 6th time.\n",
      "  warnings.warn('Rate limit exceeded. Retrying for the {0}{1} time.'.format(retry_counter + 1,\n",
      "/home/nabilersyad/miniconda3/envs/sql/lib/python3.9/site-packages/openrouteservice/client.py:211: UserWarning: Rate limit exceeded. Retrying for the 7th time.\n",
      "  warnings.warn('Rate limit exceeded. Retrying for the {0}{1} time.'.format(retry_counter + 1,\n",
      "/home/nabilersyad/miniconda3/envs/sql/lib/python3.9/site-packages/openrouteservice/client.py:211: UserWarning: Rate limit exceeded. Retrying for the 8th time.\n",
      "  warnings.warn('Rate limit exceeded. Retrying for the {0}{1} time.'.format(retry_counter + 1,\n",
      "/home/nabilersyad/miniconda3/envs/sql/lib/python3.9/site-packages/geopandas/geodataframe.py:1537: UserWarning: Geometry column does not contain geometry.\n",
      "  warnings.warn(\"Geometry column does not contain geometry.\")\n"
     ]
    },
    {
     "name": "stdout",
     "output_type": "stream",
     "text": [
      "updated 11061429685\n"
     ]
    },
    {
     "name": "stderr",
     "output_type": "stream",
     "text": [
      "/home/nabilersyad/miniconda3/envs/sql/lib/python3.9/site-packages/geopandas/geodataframe.py:1537: UserWarning: Geometry column does not contain geometry.\n",
      "  warnings.warn(\"Geometry column does not contain geometry.\")\n"
     ]
    },
    {
     "name": "stdout",
     "output_type": "stream",
     "text": [
      "updated 11061429686\n"
     ]
    },
    {
     "name": "stderr",
     "output_type": "stream",
     "text": [
      "/home/nabilersyad/miniconda3/envs/sql/lib/python3.9/site-packages/geopandas/geodataframe.py:1537: UserWarning: Geometry column does not contain geometry.\n",
      "  warnings.warn(\"Geometry column does not contain geometry.\")\n"
     ]
    },
    {
     "name": "stdout",
     "output_type": "stream",
     "text": [
      "updated 11066919329\n"
     ]
    },
    {
     "name": "stderr",
     "output_type": "stream",
     "text": [
      "/home/nabilersyad/miniconda3/envs/sql/lib/python3.9/site-packages/geopandas/geodataframe.py:1537: UserWarning: Geometry column does not contain geometry.\n",
      "  warnings.warn(\"Geometry column does not contain geometry.\")\n"
     ]
    },
    {
     "name": "stdout",
     "output_type": "stream",
     "text": [
      "updated 10036593582\n"
     ]
    },
    {
     "name": "stderr",
     "output_type": "stream",
     "text": [
      "/home/nabilersyad/miniconda3/envs/sql/lib/python3.9/site-packages/geopandas/geodataframe.py:1537: UserWarning: Geometry column does not contain geometry.\n",
      "  warnings.warn(\"Geometry column does not contain geometry.\")\n"
     ]
    },
    {
     "name": "stdout",
     "output_type": "stream",
     "text": [
      "updated 11187840754\n"
     ]
    },
    {
     "name": "stderr",
     "output_type": "stream",
     "text": [
      "/home/nabilersyad/miniconda3/envs/sql/lib/python3.9/site-packages/geopandas/geodataframe.py:1537: UserWarning: Geometry column does not contain geometry.\n",
      "  warnings.warn(\"Geometry column does not contain geometry.\")\n"
     ]
    },
    {
     "name": "stdout",
     "output_type": "stream",
     "text": [
      "updated 11187967857\n"
     ]
    },
    {
     "name": "stderr",
     "output_type": "stream",
     "text": [
      "/home/nabilersyad/miniconda3/envs/sql/lib/python3.9/site-packages/geopandas/geodataframe.py:1537: UserWarning: Geometry column does not contain geometry.\n",
      "  warnings.warn(\"Geometry column does not contain geometry.\")\n"
     ]
    },
    {
     "name": "stdout",
     "output_type": "stream",
     "text": [
      "updated 11224787496\n"
     ]
    },
    {
     "name": "stderr",
     "output_type": "stream",
     "text": [
      "/home/nabilersyad/miniconda3/envs/sql/lib/python3.9/site-packages/geopandas/geodataframe.py:1537: UserWarning: Geometry column does not contain geometry.\n",
      "  warnings.warn(\"Geometry column does not contain geometry.\")\n"
     ]
    },
    {
     "name": "stdout",
     "output_type": "stream",
     "text": [
      "updated 11224787497\n"
     ]
    },
    {
     "name": "stderr",
     "output_type": "stream",
     "text": [
      "/home/nabilersyad/miniconda3/envs/sql/lib/python3.9/site-packages/geopandas/geodataframe.py:1537: UserWarning: Geometry column does not contain geometry.\n",
      "  warnings.warn(\"Geometry column does not contain geometry.\")\n"
     ]
    },
    {
     "name": "stdout",
     "output_type": "stream",
     "text": [
      "updated 11224787498\n"
     ]
    },
    {
     "name": "stderr",
     "output_type": "stream",
     "text": [
      "/home/nabilersyad/miniconda3/envs/sql/lib/python3.9/site-packages/geopandas/geodataframe.py:1537: UserWarning: Geometry column does not contain geometry.\n",
      "  warnings.warn(\"Geometry column does not contain geometry.\")\n"
     ]
    },
    {
     "name": "stdout",
     "output_type": "stream",
     "text": [
      "updated 11250847387\n"
     ]
    },
    {
     "name": "stderr",
     "output_type": "stream",
     "text": [
      "/home/nabilersyad/miniconda3/envs/sql/lib/python3.9/site-packages/geopandas/geodataframe.py:1537: UserWarning: Geometry column does not contain geometry.\n",
      "  warnings.warn(\"Geometry column does not contain geometry.\")\n"
     ]
    },
    {
     "name": "stdout",
     "output_type": "stream",
     "text": [
      "updated 11252711594\n"
     ]
    },
    {
     "name": "stderr",
     "output_type": "stream",
     "text": [
      "/home/nabilersyad/miniconda3/envs/sql/lib/python3.9/site-packages/geopandas/geodataframe.py:1537: UserWarning: Geometry column does not contain geometry.\n",
      "  warnings.warn(\"Geometry column does not contain geometry.\")\n"
     ]
    },
    {
     "name": "stdout",
     "output_type": "stream",
     "text": [
      "updated 11257782484\n"
     ]
    },
    {
     "name": "stderr",
     "output_type": "stream",
     "text": [
      "/home/nabilersyad/miniconda3/envs/sql/lib/python3.9/site-packages/geopandas/geodataframe.py:1537: UserWarning: Geometry column does not contain geometry.\n",
      "  warnings.warn(\"Geometry column does not contain geometry.\")\n"
     ]
    },
    {
     "name": "stdout",
     "output_type": "stream",
     "text": [
      "updated 11257782485\n"
     ]
    },
    {
     "name": "stderr",
     "output_type": "stream",
     "text": [
      "/home/nabilersyad/miniconda3/envs/sql/lib/python3.9/site-packages/geopandas/geodataframe.py:1537: UserWarning: Geometry column does not contain geometry.\n",
      "  warnings.warn(\"Geometry column does not contain geometry.\")\n"
     ]
    },
    {
     "name": "stdout",
     "output_type": "stream",
     "text": [
      "updated 11264561181\n"
     ]
    },
    {
     "name": "stderr",
     "output_type": "stream",
     "text": [
      "/home/nabilersyad/miniconda3/envs/sql/lib/python3.9/site-packages/geopandas/geodataframe.py:1537: UserWarning: Geometry column does not contain geometry.\n",
      "  warnings.warn(\"Geometry column does not contain geometry.\")\n"
     ]
    },
    {
     "name": "stdout",
     "output_type": "stream",
     "text": [
      "updated 5044809585\n"
     ]
    },
    {
     "name": "stderr",
     "output_type": "stream",
     "text": [
      "/home/nabilersyad/miniconda3/envs/sql/lib/python3.9/site-packages/openrouteservice/client.py:211: UserWarning: Rate limit exceeded. Retrying for the 1st time.\n",
      "  warnings.warn('Rate limit exceeded. Retrying for the {0}{1} time.'.format(retry_counter + 1,\n",
      "/home/nabilersyad/miniconda3/envs/sql/lib/python3.9/site-packages/openrouteservice/client.py:211: UserWarning: Rate limit exceeded. Retrying for the 2nd time.\n",
      "  warnings.warn('Rate limit exceeded. Retrying for the {0}{1} time.'.format(retry_counter + 1,\n",
      "/home/nabilersyad/miniconda3/envs/sql/lib/python3.9/site-packages/openrouteservice/client.py:211: UserWarning: Rate limit exceeded. Retrying for the 3rd time.\n",
      "  warnings.warn('Rate limit exceeded. Retrying for the {0}{1} time.'.format(retry_counter + 1,\n",
      "/home/nabilersyad/miniconda3/envs/sql/lib/python3.9/site-packages/openrouteservice/client.py:211: UserWarning: Rate limit exceeded. Retrying for the 4th time.\n",
      "  warnings.warn('Rate limit exceeded. Retrying for the {0}{1} time.'.format(retry_counter + 1,\n",
      "/home/nabilersyad/miniconda3/envs/sql/lib/python3.9/site-packages/openrouteservice/client.py:211: UserWarning: Rate limit exceeded. Retrying for the 5th time.\n",
      "  warnings.warn('Rate limit exceeded. Retrying for the {0}{1} time.'.format(retry_counter + 1,\n",
      "/home/nabilersyad/miniconda3/envs/sql/lib/python3.9/site-packages/openrouteservice/client.py:211: UserWarning: Rate limit exceeded. Retrying for the 6th time.\n",
      "  warnings.warn('Rate limit exceeded. Retrying for the {0}{1} time.'.format(retry_counter + 1,\n",
      "/home/nabilersyad/miniconda3/envs/sql/lib/python3.9/site-packages/openrouteservice/client.py:211: UserWarning: Rate limit exceeded. Retrying for the 7th time.\n",
      "  warnings.warn('Rate limit exceeded. Retrying for the {0}{1} time.'.format(retry_counter + 1,\n",
      "/home/nabilersyad/miniconda3/envs/sql/lib/python3.9/site-packages/openrouteservice/client.py:211: UserWarning: Rate limit exceeded. Retrying for the 8th time.\n",
      "  warnings.warn('Rate limit exceeded. Retrying for the {0}{1} time.'.format(retry_counter + 1,\n",
      "/home/nabilersyad/miniconda3/envs/sql/lib/python3.9/site-packages/openrouteservice/client.py:211: UserWarning: Rate limit exceeded. Retrying for the 9th time.\n",
      "  warnings.warn('Rate limit exceeded. Retrying for the {0}{1} time.'.format(retry_counter + 1,\n",
      "/home/nabilersyad/miniconda3/envs/sql/lib/python3.9/site-packages/geopandas/geodataframe.py:1537: UserWarning: Geometry column does not contain geometry.\n",
      "  warnings.warn(\"Geometry column does not contain geometry.\")\n"
     ]
    },
    {
     "name": "stdout",
     "output_type": "stream",
     "text": [
      "updated 5385396790\n"
     ]
    },
    {
     "name": "stderr",
     "output_type": "stream",
     "text": [
      "/home/nabilersyad/miniconda3/envs/sql/lib/python3.9/site-packages/geopandas/geodataframe.py:1537: UserWarning: Geometry column does not contain geometry.\n",
      "  warnings.warn(\"Geometry column does not contain geometry.\")\n"
     ]
    },
    {
     "name": "stdout",
     "output_type": "stream",
     "text": [
      "updated 5469085436\n"
     ]
    },
    {
     "name": "stderr",
     "output_type": "stream",
     "text": [
      "/home/nabilersyad/miniconda3/envs/sql/lib/python3.9/site-packages/geopandas/geodataframe.py:1537: UserWarning: Geometry column does not contain geometry.\n",
      "  warnings.warn(\"Geometry column does not contain geometry.\")\n"
     ]
    },
    {
     "name": "stdout",
     "output_type": "stream",
     "text": [
      "updated 5484250467\n"
     ]
    },
    {
     "name": "stderr",
     "output_type": "stream",
     "text": [
      "/home/nabilersyad/miniconda3/envs/sql/lib/python3.9/site-packages/geopandas/geodataframe.py:1537: UserWarning: Geometry column does not contain geometry.\n",
      "  warnings.warn(\"Geometry column does not contain geometry.\")\n"
     ]
    },
    {
     "name": "stdout",
     "output_type": "stream",
     "text": [
      "updated 7056476419\n"
     ]
    },
    {
     "name": "stderr",
     "output_type": "stream",
     "text": [
      "/home/nabilersyad/miniconda3/envs/sql/lib/python3.9/site-packages/geopandas/geodataframe.py:1537: UserWarning: Geometry column does not contain geometry.\n",
      "  warnings.warn(\"Geometry column does not contain geometry.\")\n"
     ]
    },
    {
     "name": "stdout",
     "output_type": "stream",
     "text": [
      "updated 9849457821\n"
     ]
    },
    {
     "name": "stderr",
     "output_type": "stream",
     "text": [
      "/home/nabilersyad/miniconda3/envs/sql/lib/python3.9/site-packages/geopandas/geodataframe.py:1537: UserWarning: Geometry column does not contain geometry.\n",
      "  warnings.warn(\"Geometry column does not contain geometry.\")\n"
     ]
    },
    {
     "name": "stdout",
     "output_type": "stream",
     "text": [
      "updated 9849815470\n"
     ]
    },
    {
     "name": "stderr",
     "output_type": "stream",
     "text": [
      "/home/nabilersyad/miniconda3/envs/sql/lib/python3.9/site-packages/geopandas/geodataframe.py:1537: UserWarning: Geometry column does not contain geometry.\n",
      "  warnings.warn(\"Geometry column does not contain geometry.\")\n"
     ]
    },
    {
     "name": "stdout",
     "output_type": "stream",
     "text": [
      "updated 9849815474\n"
     ]
    },
    {
     "name": "stderr",
     "output_type": "stream",
     "text": [
      "/home/nabilersyad/miniconda3/envs/sql/lib/python3.9/site-packages/geopandas/geodataframe.py:1537: UserWarning: Geometry column does not contain geometry.\n",
      "  warnings.warn(\"Geometry column does not contain geometry.\")\n"
     ]
    },
    {
     "name": "stdout",
     "output_type": "stream",
     "text": [
      "updated 10246792131\n"
     ]
    },
    {
     "name": "stderr",
     "output_type": "stream",
     "text": [
      "/home/nabilersyad/miniconda3/envs/sql/lib/python3.9/site-packages/geopandas/geodataframe.py:1537: UserWarning: Geometry column does not contain geometry.\n",
      "  warnings.warn(\"Geometry column does not contain geometry.\")\n"
     ]
    },
    {
     "name": "stdout",
     "output_type": "stream",
     "text": [
      "updated 10611678880\n"
     ]
    },
    {
     "name": "stderr",
     "output_type": "stream",
     "text": [
      "/home/nabilersyad/miniconda3/envs/sql/lib/python3.9/site-packages/geopandas/geodataframe.py:1537: UserWarning: Geometry column does not contain geometry.\n",
      "  warnings.warn(\"Geometry column does not contain geometry.\")\n"
     ]
    },
    {
     "name": "stdout",
     "output_type": "stream",
     "text": [
      "updated 11052165913\n"
     ]
    },
    {
     "name": "stderr",
     "output_type": "stream",
     "text": [
      "/home/nabilersyad/miniconda3/envs/sql/lib/python3.9/site-packages/geopandas/geodataframe.py:1537: UserWarning: Geometry column does not contain geometry.\n",
      "  warnings.warn(\"Geometry column does not contain geometry.\")\n"
     ]
    },
    {
     "name": "stdout",
     "output_type": "stream",
     "text": [
      "updated 3948655246\n"
     ]
    },
    {
     "name": "stderr",
     "output_type": "stream",
     "text": [
      "/home/nabilersyad/miniconda3/envs/sql/lib/python3.9/site-packages/geopandas/geodataframe.py:1537: UserWarning: Geometry column does not contain geometry.\n",
      "  warnings.warn(\"Geometry column does not contain geometry.\")\n"
     ]
    },
    {
     "name": "stdout",
     "output_type": "stream",
     "text": [
      "updated 10271036606\n"
     ]
    },
    {
     "name": "stderr",
     "output_type": "stream",
     "text": [
      "/home/nabilersyad/miniconda3/envs/sql/lib/python3.9/site-packages/geopandas/geodataframe.py:1537: UserWarning: Geometry column does not contain geometry.\n",
      "  warnings.warn(\"Geometry column does not contain geometry.\")\n"
     ]
    },
    {
     "name": "stdout",
     "output_type": "stream",
     "text": [
      "updated 11307838640\n"
     ]
    },
    {
     "name": "stderr",
     "output_type": "stream",
     "text": [
      "/home/nabilersyad/miniconda3/envs/sql/lib/python3.9/site-packages/openrouteservice/client.py:211: UserWarning: Rate limit exceeded. Retrying for the 1st time.\n",
      "  warnings.warn('Rate limit exceeded. Retrying for the {0}{1} time.'.format(retry_counter + 1,\n",
      "/home/nabilersyad/miniconda3/envs/sql/lib/python3.9/site-packages/openrouteservice/client.py:211: UserWarning: Rate limit exceeded. Retrying for the 2nd time.\n",
      "  warnings.warn('Rate limit exceeded. Retrying for the {0}{1} time.'.format(retry_counter + 1,\n",
      "/home/nabilersyad/miniconda3/envs/sql/lib/python3.9/site-packages/openrouteservice/client.py:211: UserWarning: Rate limit exceeded. Retrying for the 3rd time.\n",
      "  warnings.warn('Rate limit exceeded. Retrying for the {0}{1} time.'.format(retry_counter + 1,\n",
      "/home/nabilersyad/miniconda3/envs/sql/lib/python3.9/site-packages/openrouteservice/client.py:211: UserWarning: Rate limit exceeded. Retrying for the 4th time.\n",
      "  warnings.warn('Rate limit exceeded. Retrying for the {0}{1} time.'.format(retry_counter + 1,\n",
      "/home/nabilersyad/miniconda3/envs/sql/lib/python3.9/site-packages/openrouteservice/client.py:211: UserWarning: Rate limit exceeded. Retrying for the 5th time.\n",
      "  warnings.warn('Rate limit exceeded. Retrying for the {0}{1} time.'.format(retry_counter + 1,\n",
      "/home/nabilersyad/miniconda3/envs/sql/lib/python3.9/site-packages/openrouteservice/client.py:211: UserWarning: Rate limit exceeded. Retrying for the 6th time.\n",
      "  warnings.warn('Rate limit exceeded. Retrying for the {0}{1} time.'.format(retry_counter + 1,\n",
      "/home/nabilersyad/miniconda3/envs/sql/lib/python3.9/site-packages/openrouteservice/client.py:211: UserWarning: Rate limit exceeded. Retrying for the 7th time.\n",
      "  warnings.warn('Rate limit exceeded. Retrying for the {0}{1} time.'.format(retry_counter + 1,\n",
      "/home/nabilersyad/miniconda3/envs/sql/lib/python3.9/site-packages/openrouteservice/client.py:211: UserWarning: Rate limit exceeded. Retrying for the 8th time.\n",
      "  warnings.warn('Rate limit exceeded. Retrying for the {0}{1} time.'.format(retry_counter + 1,\n",
      "/home/nabilersyad/miniconda3/envs/sql/lib/python3.9/site-packages/geopandas/geodataframe.py:1537: UserWarning: Geometry column does not contain geometry.\n",
      "  warnings.warn(\"Geometry column does not contain geometry.\")\n"
     ]
    },
    {
     "name": "stdout",
     "output_type": "stream",
     "text": [
      "updated 11307838642\n"
     ]
    },
    {
     "name": "stderr",
     "output_type": "stream",
     "text": [
      "/home/nabilersyad/miniconda3/envs/sql/lib/python3.9/site-packages/geopandas/geodataframe.py:1537: UserWarning: Geometry column does not contain geometry.\n",
      "  warnings.warn(\"Geometry column does not contain geometry.\")\n"
     ]
    },
    {
     "name": "stdout",
     "output_type": "stream",
     "text": [
      "updated 11307838648\n"
     ]
    },
    {
     "name": "stderr",
     "output_type": "stream",
     "text": [
      "/home/nabilersyad/miniconda3/envs/sql/lib/python3.9/site-packages/geopandas/geodataframe.py:1537: UserWarning: Geometry column does not contain geometry.\n",
      "  warnings.warn(\"Geometry column does not contain geometry.\")\n"
     ]
    },
    {
     "name": "stdout",
     "output_type": "stream",
     "text": [
      "updated 11307838662\n"
     ]
    },
    {
     "name": "stderr",
     "output_type": "stream",
     "text": [
      "/home/nabilersyad/miniconda3/envs/sql/lib/python3.9/site-packages/geopandas/geodataframe.py:1537: UserWarning: Geometry column does not contain geometry.\n",
      "  warnings.warn(\"Geometry column does not contain geometry.\")\n"
     ]
    },
    {
     "name": "stdout",
     "output_type": "stream",
     "text": [
      "updated 11348181710\n"
     ]
    },
    {
     "name": "stderr",
     "output_type": "stream",
     "text": [
      "/home/nabilersyad/miniconda3/envs/sql/lib/python3.9/site-packages/geopandas/geodataframe.py:1537: UserWarning: Geometry column does not contain geometry.\n",
      "  warnings.warn(\"Geometry column does not contain geometry.\")\n"
     ]
    },
    {
     "name": "stdout",
     "output_type": "stream",
     "text": [
      "updated 11353407735\n"
     ]
    },
    {
     "name": "stderr",
     "output_type": "stream",
     "text": [
      "/home/nabilersyad/miniconda3/envs/sql/lib/python3.9/site-packages/geopandas/geodataframe.py:1537: UserWarning: Geometry column does not contain geometry.\n",
      "  warnings.warn(\"Geometry column does not contain geometry.\")\n"
     ]
    },
    {
     "name": "stdout",
     "output_type": "stream",
     "text": [
      "updated 11375596033\n"
     ]
    },
    {
     "name": "stderr",
     "output_type": "stream",
     "text": [
      "/home/nabilersyad/miniconda3/envs/sql/lib/python3.9/site-packages/geopandas/geodataframe.py:1537: UserWarning: Geometry column does not contain geometry.\n",
      "  warnings.warn(\"Geometry column does not contain geometry.\")\n"
     ]
    },
    {
     "name": "stdout",
     "output_type": "stream",
     "text": [
      "updated 11377990463\n"
     ]
    },
    {
     "name": "stderr",
     "output_type": "stream",
     "text": [
      "/home/nabilersyad/miniconda3/envs/sql/lib/python3.9/site-packages/geopandas/geodataframe.py:1537: UserWarning: Geometry column does not contain geometry.\n",
      "  warnings.warn(\"Geometry column does not contain geometry.\")\n"
     ]
    },
    {
     "name": "stdout",
     "output_type": "stream",
     "text": [
      "updated 11377990464\n"
     ]
    },
    {
     "name": "stderr",
     "output_type": "stream",
     "text": [
      "/home/nabilersyad/miniconda3/envs/sql/lib/python3.9/site-packages/geopandas/geodataframe.py:1537: UserWarning: Geometry column does not contain geometry.\n",
      "  warnings.warn(\"Geometry column does not contain geometry.\")\n"
     ]
    },
    {
     "name": "stdout",
     "output_type": "stream",
     "text": [
      "updated 11388844440\n"
     ]
    },
    {
     "name": "stderr",
     "output_type": "stream",
     "text": [
      "/home/nabilersyad/miniconda3/envs/sql/lib/python3.9/site-packages/geopandas/geodataframe.py:1537: UserWarning: Geometry column does not contain geometry.\n",
      "  warnings.warn(\"Geometry column does not contain geometry.\")\n"
     ]
    },
    {
     "name": "stdout",
     "output_type": "stream",
     "text": [
      "updated 11390855314\n"
     ]
    },
    {
     "name": "stderr",
     "output_type": "stream",
     "text": [
      "/home/nabilersyad/miniconda3/envs/sql/lib/python3.9/site-packages/geopandas/geodataframe.py:1537: UserWarning: Geometry column does not contain geometry.\n",
      "  warnings.warn(\"Geometry column does not contain geometry.\")\n"
     ]
    },
    {
     "name": "stdout",
     "output_type": "stream",
     "text": [
      "updated 11435336038\n"
     ]
    },
    {
     "name": "stderr",
     "output_type": "stream",
     "text": [
      "/home/nabilersyad/miniconda3/envs/sql/lib/python3.9/site-packages/geopandas/geodataframe.py:1537: UserWarning: Geometry column does not contain geometry.\n",
      "  warnings.warn(\"Geometry column does not contain geometry.\")\n"
     ]
    },
    {
     "name": "stdout",
     "output_type": "stream",
     "text": [
      "updated 11459346120\n"
     ]
    },
    {
     "name": "stderr",
     "output_type": "stream",
     "text": [
      "/home/nabilersyad/miniconda3/envs/sql/lib/python3.9/site-packages/geopandas/geodataframe.py:1537: UserWarning: Geometry column does not contain geometry.\n",
      "  warnings.warn(\"Geometry column does not contain geometry.\")\n"
     ]
    },
    {
     "name": "stdout",
     "output_type": "stream",
     "text": [
      "updated 11459346125\n"
     ]
    },
    {
     "name": "stderr",
     "output_type": "stream",
     "text": [
      "/home/nabilersyad/miniconda3/envs/sql/lib/python3.9/site-packages/geopandas/geodataframe.py:1537: UserWarning: Geometry column does not contain geometry.\n",
      "  warnings.warn(\"Geometry column does not contain geometry.\")\n"
     ]
    },
    {
     "name": "stdout",
     "output_type": "stream",
     "text": [
      "updated 11622373927\n"
     ]
    },
    {
     "name": "stderr",
     "output_type": "stream",
     "text": [
      "/home/nabilersyad/miniconda3/envs/sql/lib/python3.9/site-packages/geopandas/geodataframe.py:1537: UserWarning: Geometry column does not contain geometry.\n",
      "  warnings.warn(\"Geometry column does not contain geometry.\")\n"
     ]
    },
    {
     "name": "stdout",
     "output_type": "stream",
     "text": [
      "updated 1631412559\n"
     ]
    },
    {
     "name": "stderr",
     "output_type": "stream",
     "text": [
      "/home/nabilersyad/miniconda3/envs/sql/lib/python3.9/site-packages/geopandas/geodataframe.py:1537: UserWarning: Geometry column does not contain geometry.\n",
      "  warnings.warn(\"Geometry column does not contain geometry.\")\n"
     ]
    },
    {
     "name": "stdout",
     "output_type": "stream",
     "text": [
      "updated 5261535528\n"
     ]
    },
    {
     "name": "stderr",
     "output_type": "stream",
     "text": [
      "/home/nabilersyad/miniconda3/envs/sql/lib/python3.9/site-packages/openrouteservice/client.py:211: UserWarning: Rate limit exceeded. Retrying for the 1st time.\n",
      "  warnings.warn('Rate limit exceeded. Retrying for the {0}{1} time.'.format(retry_counter + 1,\n",
      "/home/nabilersyad/miniconda3/envs/sql/lib/python3.9/site-packages/openrouteservice/client.py:211: UserWarning: Rate limit exceeded. Retrying for the 2nd time.\n",
      "  warnings.warn('Rate limit exceeded. Retrying for the {0}{1} time.'.format(retry_counter + 1,\n",
      "/home/nabilersyad/miniconda3/envs/sql/lib/python3.9/site-packages/openrouteservice/client.py:211: UserWarning: Rate limit exceeded. Retrying for the 3rd time.\n",
      "  warnings.warn('Rate limit exceeded. Retrying for the {0}{1} time.'.format(retry_counter + 1,\n",
      "/home/nabilersyad/miniconda3/envs/sql/lib/python3.9/site-packages/openrouteservice/client.py:211: UserWarning: Rate limit exceeded. Retrying for the 4th time.\n",
      "  warnings.warn('Rate limit exceeded. Retrying for the {0}{1} time.'.format(retry_counter + 1,\n",
      "/home/nabilersyad/miniconda3/envs/sql/lib/python3.9/site-packages/openrouteservice/client.py:211: UserWarning: Rate limit exceeded. Retrying for the 5th time.\n",
      "  warnings.warn('Rate limit exceeded. Retrying for the {0}{1} time.'.format(retry_counter + 1,\n",
      "/home/nabilersyad/miniconda3/envs/sql/lib/python3.9/site-packages/openrouteservice/client.py:211: UserWarning: Rate limit exceeded. Retrying for the 6th time.\n",
      "  warnings.warn('Rate limit exceeded. Retrying for the {0}{1} time.'.format(retry_counter + 1,\n",
      "/home/nabilersyad/miniconda3/envs/sql/lib/python3.9/site-packages/openrouteservice/client.py:211: UserWarning: Rate limit exceeded. Retrying for the 7th time.\n",
      "  warnings.warn('Rate limit exceeded. Retrying for the {0}{1} time.'.format(retry_counter + 1,\n",
      "/home/nabilersyad/miniconda3/envs/sql/lib/python3.9/site-packages/openrouteservice/client.py:211: UserWarning: Rate limit exceeded. Retrying for the 8th time.\n",
      "  warnings.warn('Rate limit exceeded. Retrying for the {0}{1} time.'.format(retry_counter + 1,\n",
      "/home/nabilersyad/miniconda3/envs/sql/lib/python3.9/site-packages/geopandas/geodataframe.py:1537: UserWarning: Geometry column does not contain geometry.\n",
      "  warnings.warn(\"Geometry column does not contain geometry.\")\n"
     ]
    },
    {
     "name": "stdout",
     "output_type": "stream",
     "text": [
      "updated 5484616509\n"
     ]
    },
    {
     "name": "stderr",
     "output_type": "stream",
     "text": [
      "/home/nabilersyad/miniconda3/envs/sql/lib/python3.9/site-packages/geopandas/geodataframe.py:1537: UserWarning: Geometry column does not contain geometry.\n",
      "  warnings.warn(\"Geometry column does not contain geometry.\")\n"
     ]
    },
    {
     "name": "stdout",
     "output_type": "stream",
     "text": [
      "updated 11768032038\n"
     ]
    },
    {
     "name": "stderr",
     "output_type": "stream",
     "text": [
      "/home/nabilersyad/miniconda3/envs/sql/lib/python3.9/site-packages/geopandas/geodataframe.py:1537: UserWarning: Geometry column does not contain geometry.\n",
      "  warnings.warn(\"Geometry column does not contain geometry.\")\n"
     ]
    },
    {
     "name": "stdout",
     "output_type": "stream",
     "text": [
      "updated 11768421750\n"
     ]
    },
    {
     "name": "stderr",
     "output_type": "stream",
     "text": [
      "/home/nabilersyad/miniconda3/envs/sql/lib/python3.9/site-packages/geopandas/geodataframe.py:1537: UserWarning: Geometry column does not contain geometry.\n",
      "  warnings.warn(\"Geometry column does not contain geometry.\")\n"
     ]
    },
    {
     "name": "stdout",
     "output_type": "stream",
     "text": [
      "updated 8711020731\n"
     ]
    },
    {
     "name": "stderr",
     "output_type": "stream",
     "text": [
      "/home/nabilersyad/miniconda3/envs/sql/lib/python3.9/site-packages/geopandas/geodataframe.py:1537: UserWarning: Geometry column does not contain geometry.\n",
      "  warnings.warn(\"Geometry column does not contain geometry.\")\n"
     ]
    },
    {
     "name": "stdout",
     "output_type": "stream",
     "text": [
      "updated 9358657242\n"
     ]
    },
    {
     "name": "stderr",
     "output_type": "stream",
     "text": [
      "/home/nabilersyad/miniconda3/envs/sql/lib/python3.9/site-packages/geopandas/geodataframe.py:1537: UserWarning: Geometry column does not contain geometry.\n",
      "  warnings.warn(\"Geometry column does not contain geometry.\")\n"
     ]
    },
    {
     "name": "stdout",
     "output_type": "stream",
     "text": [
      "updated 1632120095\n"
     ]
    },
    {
     "name": "stderr",
     "output_type": "stream",
     "text": [
      "/home/nabilersyad/miniconda3/envs/sql/lib/python3.9/site-packages/geopandas/geodataframe.py:1537: UserWarning: Geometry column does not contain geometry.\n",
      "  warnings.warn(\"Geometry column does not contain geometry.\")\n"
     ]
    },
    {
     "name": "stdout",
     "output_type": "stream",
     "text": [
      "updated 10796652215\n"
     ]
    },
    {
     "name": "stderr",
     "output_type": "stream",
     "text": [
      "/home/nabilersyad/miniconda3/envs/sql/lib/python3.9/site-packages/geopandas/geodataframe.py:1537: UserWarning: Geometry column does not contain geometry.\n",
      "  warnings.warn(\"Geometry column does not contain geometry.\")\n"
     ]
    },
    {
     "name": "stdout",
     "output_type": "stream",
     "text": [
      "updated 10796652226\n"
     ]
    },
    {
     "name": "stderr",
     "output_type": "stream",
     "text": [
      "/home/nabilersyad/miniconda3/envs/sql/lib/python3.9/site-packages/geopandas/geodataframe.py:1537: UserWarning: Geometry column does not contain geometry.\n",
      "  warnings.warn(\"Geometry column does not contain geometry.\")\n"
     ]
    },
    {
     "name": "stdout",
     "output_type": "stream",
     "text": [
      "updated 10796652243\n"
     ]
    },
    {
     "name": "stderr",
     "output_type": "stream",
     "text": [
      "/home/nabilersyad/miniconda3/envs/sql/lib/python3.9/site-packages/geopandas/geodataframe.py:1537: UserWarning: Geometry column does not contain geometry.\n",
      "  warnings.warn(\"Geometry column does not contain geometry.\")\n"
     ]
    },
    {
     "name": "stdout",
     "output_type": "stream",
     "text": [
      "updated 10801231762\n"
     ]
    },
    {
     "name": "stderr",
     "output_type": "stream",
     "text": [
      "/home/nabilersyad/miniconda3/envs/sql/lib/python3.9/site-packages/geopandas/geodataframe.py:1537: UserWarning: Geometry column does not contain geometry.\n",
      "  warnings.warn(\"Geometry column does not contain geometry.\")\n"
     ]
    },
    {
     "name": "stdout",
     "output_type": "stream",
     "text": [
      "updated 11871659779\n"
     ]
    },
    {
     "name": "stderr",
     "output_type": "stream",
     "text": [
      "/home/nabilersyad/miniconda3/envs/sql/lib/python3.9/site-packages/geopandas/geodataframe.py:1537: UserWarning: Geometry column does not contain geometry.\n",
      "  warnings.warn(\"Geometry column does not contain geometry.\")\n"
     ]
    },
    {
     "name": "stdout",
     "output_type": "stream",
     "text": [
      "updated 11871659780\n"
     ]
    },
    {
     "name": "stderr",
     "output_type": "stream",
     "text": [
      "/home/nabilersyad/miniconda3/envs/sql/lib/python3.9/site-packages/geopandas/geodataframe.py:1537: UserWarning: Geometry column does not contain geometry.\n",
      "  warnings.warn(\"Geometry column does not contain geometry.\")\n"
     ]
    },
    {
     "name": "stdout",
     "output_type": "stream",
     "text": [
      "updated 9508388070\n"
     ]
    },
    {
     "name": "stderr",
     "output_type": "stream",
     "text": [
      "/home/nabilersyad/miniconda3/envs/sql/lib/python3.9/site-packages/geopandas/geodataframe.py:1537: UserWarning: Geometry column does not contain geometry.\n",
      "  warnings.warn(\"Geometry column does not contain geometry.\")\n"
     ]
    },
    {
     "name": "stdout",
     "output_type": "stream",
     "text": [
      "updated 10277840675\n"
     ]
    },
    {
     "name": "stderr",
     "output_type": "stream",
     "text": [
      "/home/nabilersyad/miniconda3/envs/sql/lib/python3.9/site-packages/geopandas/geodataframe.py:1537: UserWarning: Geometry column does not contain geometry.\n",
      "  warnings.warn(\"Geometry column does not contain geometry.\")\n"
     ]
    },
    {
     "name": "stdout",
     "output_type": "stream",
     "text": [
      "updated 11292475708\n"
     ]
    },
    {
     "name": "stderr",
     "output_type": "stream",
     "text": [
      "/home/nabilersyad/miniconda3/envs/sql/lib/python3.9/site-packages/openrouteservice/client.py:211: UserWarning: Rate limit exceeded. Retrying for the 1st time.\n",
      "  warnings.warn('Rate limit exceeded. Retrying for the {0}{1} time.'.format(retry_counter + 1,\n",
      "/home/nabilersyad/miniconda3/envs/sql/lib/python3.9/site-packages/openrouteservice/client.py:211: UserWarning: Rate limit exceeded. Retrying for the 2nd time.\n",
      "  warnings.warn('Rate limit exceeded. Retrying for the {0}{1} time.'.format(retry_counter + 1,\n",
      "/home/nabilersyad/miniconda3/envs/sql/lib/python3.9/site-packages/openrouteservice/client.py:211: UserWarning: Rate limit exceeded. Retrying for the 3rd time.\n",
      "  warnings.warn('Rate limit exceeded. Retrying for the {0}{1} time.'.format(retry_counter + 1,\n",
      "/home/nabilersyad/miniconda3/envs/sql/lib/python3.9/site-packages/openrouteservice/client.py:211: UserWarning: Rate limit exceeded. Retrying for the 4th time.\n",
      "  warnings.warn('Rate limit exceeded. Retrying for the {0}{1} time.'.format(retry_counter + 1,\n",
      "/home/nabilersyad/miniconda3/envs/sql/lib/python3.9/site-packages/openrouteservice/client.py:211: UserWarning: Rate limit exceeded. Retrying for the 5th time.\n",
      "  warnings.warn('Rate limit exceeded. Retrying for the {0}{1} time.'.format(retry_counter + 1,\n",
      "/home/nabilersyad/miniconda3/envs/sql/lib/python3.9/site-packages/openrouteservice/client.py:211: UserWarning: Rate limit exceeded. Retrying for the 6th time.\n",
      "  warnings.warn('Rate limit exceeded. Retrying for the {0}{1} time.'.format(retry_counter + 1,\n",
      "/home/nabilersyad/miniconda3/envs/sql/lib/python3.9/site-packages/openrouteservice/client.py:211: UserWarning: Rate limit exceeded. Retrying for the 7th time.\n",
      "  warnings.warn('Rate limit exceeded. Retrying for the {0}{1} time.'.format(retry_counter + 1,\n",
      "/home/nabilersyad/miniconda3/envs/sql/lib/python3.9/site-packages/openrouteservice/client.py:211: UserWarning: Rate limit exceeded. Retrying for the 8th time.\n",
      "  warnings.warn('Rate limit exceeded. Retrying for the {0}{1} time.'.format(retry_counter + 1,\n",
      "/home/nabilersyad/miniconda3/envs/sql/lib/python3.9/site-packages/openrouteservice/client.py:211: UserWarning: Rate limit exceeded. Retrying for the 9th time.\n",
      "  warnings.warn('Rate limit exceeded. Retrying for the {0}{1} time.'.format(retry_counter + 1,\n",
      "/home/nabilersyad/miniconda3/envs/sql/lib/python3.9/site-packages/geopandas/geodataframe.py:1537: UserWarning: Geometry column does not contain geometry.\n",
      "  warnings.warn(\"Geometry column does not contain geometry.\")\n"
     ]
    },
    {
     "name": "stdout",
     "output_type": "stream",
     "text": [
      "updated 11292475709\n"
     ]
    },
    {
     "name": "stderr",
     "output_type": "stream",
     "text": [
      "/home/nabilersyad/miniconda3/envs/sql/lib/python3.9/site-packages/geopandas/geodataframe.py:1537: UserWarning: Geometry column does not contain geometry.\n",
      "  warnings.warn(\"Geometry column does not contain geometry.\")\n"
     ]
    },
    {
     "name": "stdout",
     "output_type": "stream",
     "text": [
      "updated 11292475710\n"
     ]
    },
    {
     "name": "stderr",
     "output_type": "stream",
     "text": [
      "/home/nabilersyad/miniconda3/envs/sql/lib/python3.9/site-packages/geopandas/geodataframe.py:1537: UserWarning: Geometry column does not contain geometry.\n",
      "  warnings.warn(\"Geometry column does not contain geometry.\")\n"
     ]
    },
    {
     "name": "stdout",
     "output_type": "stream",
     "text": [
      "updated 11899741782\n"
     ]
    },
    {
     "name": "stderr",
     "output_type": "stream",
     "text": [
      "/home/nabilersyad/miniconda3/envs/sql/lib/python3.9/site-packages/geopandas/geodataframe.py:1537: UserWarning: Geometry column does not contain geometry.\n",
      "  warnings.warn(\"Geometry column does not contain geometry.\")\n"
     ]
    },
    {
     "name": "stdout",
     "output_type": "stream",
     "text": [
      "updated 11925140813\n"
     ]
    },
    {
     "name": "stderr",
     "output_type": "stream",
     "text": [
      "/home/nabilersyad/miniconda3/envs/sql/lib/python3.9/site-packages/geopandas/geodataframe.py:1537: UserWarning: Geometry column does not contain geometry.\n",
      "  warnings.warn(\"Geometry column does not contain geometry.\")\n"
     ]
    },
    {
     "name": "stdout",
     "output_type": "stream",
     "text": [
      "updated 2688004520\n"
     ]
    },
    {
     "name": "stderr",
     "output_type": "stream",
     "text": [
      "/home/nabilersyad/miniconda3/envs/sql/lib/python3.9/site-packages/geopandas/geodataframe.py:1537: UserWarning: Geometry column does not contain geometry.\n",
      "  warnings.warn(\"Geometry column does not contain geometry.\")\n"
     ]
    },
    {
     "name": "stdout",
     "output_type": "stream",
     "text": [
      "updated 11991808923\n"
     ]
    },
    {
     "name": "stderr",
     "output_type": "stream",
     "text": [
      "/home/nabilersyad/miniconda3/envs/sql/lib/python3.9/site-packages/geopandas/geodataframe.py:1537: UserWarning: Geometry column does not contain geometry.\n",
      "  warnings.warn(\"Geometry column does not contain geometry.\")\n"
     ]
    },
    {
     "name": "stdout",
     "output_type": "stream",
     "text": [
      "updated 12037033085\n"
     ]
    },
    {
     "name": "stderr",
     "output_type": "stream",
     "text": [
      "/home/nabilersyad/miniconda3/envs/sql/lib/python3.9/site-packages/geopandas/geodataframe.py:1537: UserWarning: Geometry column does not contain geometry.\n",
      "  warnings.warn(\"Geometry column does not contain geometry.\")\n"
     ]
    },
    {
     "name": "stdout",
     "output_type": "stream",
     "text": [
      "updated 12050257722\n"
     ]
    },
    {
     "name": "stderr",
     "output_type": "stream",
     "text": [
      "/home/nabilersyad/miniconda3/envs/sql/lib/python3.9/site-packages/geopandas/geodataframe.py:1537: UserWarning: Geometry column does not contain geometry.\n",
      "  warnings.warn(\"Geometry column does not contain geometry.\")\n"
     ]
    },
    {
     "name": "stdout",
     "output_type": "stream",
     "text": [
      "updated 12050551336\n"
     ]
    },
    {
     "name": "stderr",
     "output_type": "stream",
     "text": [
      "/home/nabilersyad/miniconda3/envs/sql/lib/python3.9/site-packages/geopandas/geodataframe.py:1537: UserWarning: Geometry column does not contain geometry.\n",
      "  warnings.warn(\"Geometry column does not contain geometry.\")\n"
     ]
    },
    {
     "name": "stdout",
     "output_type": "stream",
     "text": [
      "updated 12050867765\n"
     ]
    },
    {
     "name": "stderr",
     "output_type": "stream",
     "text": [
      "/home/nabilersyad/miniconda3/envs/sql/lib/python3.9/site-packages/geopandas/geodataframe.py:1537: UserWarning: Geometry column does not contain geometry.\n",
      "  warnings.warn(\"Geometry column does not contain geometry.\")\n"
     ]
    },
    {
     "name": "stdout",
     "output_type": "stream",
     "text": [
      "updated 12050867766\n"
     ]
    },
    {
     "name": "stderr",
     "output_type": "stream",
     "text": [
      "/home/nabilersyad/miniconda3/envs/sql/lib/python3.9/site-packages/geopandas/geodataframe.py:1537: UserWarning: Geometry column does not contain geometry.\n",
      "  warnings.warn(\"Geometry column does not contain geometry.\")\n"
     ]
    },
    {
     "name": "stdout",
     "output_type": "stream",
     "text": [
      "updated 12062807836\n"
     ]
    },
    {
     "name": "stderr",
     "output_type": "stream",
     "text": [
      "/home/nabilersyad/miniconda3/envs/sql/lib/python3.9/site-packages/geopandas/geodataframe.py:1537: UserWarning: Geometry column does not contain geometry.\n",
      "  warnings.warn(\"Geometry column does not contain geometry.\")\n"
     ]
    },
    {
     "name": "stdout",
     "output_type": "stream",
     "text": [
      "updated 12064324191\n"
     ]
    },
    {
     "name": "stderr",
     "output_type": "stream",
     "text": [
      "/home/nabilersyad/miniconda3/envs/sql/lib/python3.9/site-packages/geopandas/geodataframe.py:1537: UserWarning: Geometry column does not contain geometry.\n",
      "  warnings.warn(\"Geometry column does not contain geometry.\")\n"
     ]
    },
    {
     "name": "stdout",
     "output_type": "stream",
     "text": [
      "updated 12076281187\n"
     ]
    },
    {
     "name": "stderr",
     "output_type": "stream",
     "text": [
      "/home/nabilersyad/miniconda3/envs/sql/lib/python3.9/site-packages/geopandas/geodataframe.py:1537: UserWarning: Geometry column does not contain geometry.\n",
      "  warnings.warn(\"Geometry column does not contain geometry.\")\n"
     ]
    },
    {
     "name": "stdout",
     "output_type": "stream",
     "text": [
      "updated 12076314945\n"
     ]
    },
    {
     "name": "stderr",
     "output_type": "stream",
     "text": [
      "/home/nabilersyad/miniconda3/envs/sql/lib/python3.9/site-packages/geopandas/geodataframe.py:1537: UserWarning: Geometry column does not contain geometry.\n",
      "  warnings.warn(\"Geometry column does not contain geometry.\")\n"
     ]
    },
    {
     "name": "stdout",
     "output_type": "stream",
     "text": [
      "updated 12084946657\n"
     ]
    },
    {
     "name": "stderr",
     "output_type": "stream",
     "text": [
      "/home/nabilersyad/miniconda3/envs/sql/lib/python3.9/site-packages/geopandas/geodataframe.py:1537: UserWarning: Geometry column does not contain geometry.\n",
      "  warnings.warn(\"Geometry column does not contain geometry.\")\n"
     ]
    },
    {
     "name": "stdout",
     "output_type": "stream",
     "text": [
      "updated 12084946658\n"
     ]
    },
    {
     "name": "stderr",
     "output_type": "stream",
     "text": [
      "/home/nabilersyad/miniconda3/envs/sql/lib/python3.9/site-packages/openrouteservice/client.py:211: UserWarning: Rate limit exceeded. Retrying for the 1st time.\n",
      "  warnings.warn('Rate limit exceeded. Retrying for the {0}{1} time.'.format(retry_counter + 1,\n",
      "/home/nabilersyad/miniconda3/envs/sql/lib/python3.9/site-packages/openrouteservice/client.py:211: UserWarning: Rate limit exceeded. Retrying for the 2nd time.\n",
      "  warnings.warn('Rate limit exceeded. Retrying for the {0}{1} time.'.format(retry_counter + 1,\n",
      "/home/nabilersyad/miniconda3/envs/sql/lib/python3.9/site-packages/openrouteservice/client.py:211: UserWarning: Rate limit exceeded. Retrying for the 3rd time.\n",
      "  warnings.warn('Rate limit exceeded. Retrying for the {0}{1} time.'.format(retry_counter + 1,\n",
      "/home/nabilersyad/miniconda3/envs/sql/lib/python3.9/site-packages/openrouteservice/client.py:211: UserWarning: Rate limit exceeded. Retrying for the 4th time.\n",
      "  warnings.warn('Rate limit exceeded. Retrying for the {0}{1} time.'.format(retry_counter + 1,\n",
      "/home/nabilersyad/miniconda3/envs/sql/lib/python3.9/site-packages/openrouteservice/client.py:211: UserWarning: Rate limit exceeded. Retrying for the 5th time.\n",
      "  warnings.warn('Rate limit exceeded. Retrying for the {0}{1} time.'.format(retry_counter + 1,\n",
      "/home/nabilersyad/miniconda3/envs/sql/lib/python3.9/site-packages/openrouteservice/client.py:211: UserWarning: Rate limit exceeded. Retrying for the 6th time.\n",
      "  warnings.warn('Rate limit exceeded. Retrying for the {0}{1} time.'.format(retry_counter + 1,\n",
      "/home/nabilersyad/miniconda3/envs/sql/lib/python3.9/site-packages/openrouteservice/client.py:211: UserWarning: Rate limit exceeded. Retrying for the 7th time.\n",
      "  warnings.warn('Rate limit exceeded. Retrying for the {0}{1} time.'.format(retry_counter + 1,\n",
      "/home/nabilersyad/miniconda3/envs/sql/lib/python3.9/site-packages/openrouteservice/client.py:211: UserWarning: Rate limit exceeded. Retrying for the 8th time.\n",
      "  warnings.warn('Rate limit exceeded. Retrying for the {0}{1} time.'.format(retry_counter + 1,\n",
      "/home/nabilersyad/miniconda3/envs/sql/lib/python3.9/site-packages/openrouteservice/client.py:211: UserWarning: Rate limit exceeded. Retrying for the 9th time.\n",
      "  warnings.warn('Rate limit exceeded. Retrying for the {0}{1} time.'.format(retry_counter + 1,\n",
      "/home/nabilersyad/miniconda3/envs/sql/lib/python3.9/site-packages/geopandas/geodataframe.py:1537: UserWarning: Geometry column does not contain geometry.\n",
      "  warnings.warn(\"Geometry column does not contain geometry.\")\n"
     ]
    },
    {
     "name": "stdout",
     "output_type": "stream",
     "text": [
      "updated 10778084768\n"
     ]
    },
    {
     "name": "stderr",
     "output_type": "stream",
     "text": [
      "/home/nabilersyad/miniconda3/envs/sql/lib/python3.9/site-packages/geopandas/geodataframe.py:1537: UserWarning: Geometry column does not contain geometry.\n",
      "  warnings.warn(\"Geometry column does not contain geometry.\")\n"
     ]
    },
    {
     "name": "stdout",
     "output_type": "stream",
     "text": [
      "updated 9849423415\n"
     ]
    },
    {
     "name": "stderr",
     "output_type": "stream",
     "text": [
      "/home/nabilersyad/miniconda3/envs/sql/lib/python3.9/site-packages/geopandas/geodataframe.py:1537: UserWarning: Geometry column does not contain geometry.\n",
      "  warnings.warn(\"Geometry column does not contain geometry.\")\n"
     ]
    },
    {
     "name": "stdout",
     "output_type": "stream",
     "text": [
      "updated 12155642293\n"
     ]
    },
    {
     "name": "stderr",
     "output_type": "stream",
     "text": [
      "/home/nabilersyad/miniconda3/envs/sql/lib/python3.9/site-packages/geopandas/geodataframe.py:1537: UserWarning: Geometry column does not contain geometry.\n",
      "  warnings.warn(\"Geometry column does not contain geometry.\")\n"
     ]
    },
    {
     "name": "stdout",
     "output_type": "stream",
     "text": [
      "updated 12155642294\n"
     ]
    },
    {
     "name": "stderr",
     "output_type": "stream",
     "text": [
      "/home/nabilersyad/miniconda3/envs/sql/lib/python3.9/site-packages/geopandas/geodataframe.py:1537: UserWarning: Geometry column does not contain geometry.\n",
      "  warnings.warn(\"Geometry column does not contain geometry.\")\n"
     ]
    },
    {
     "name": "stdout",
     "output_type": "stream",
     "text": [
      "updated 12155642296\n"
     ]
    },
    {
     "name": "stderr",
     "output_type": "stream",
     "text": [
      "/home/nabilersyad/miniconda3/envs/sql/lib/python3.9/site-packages/geopandas/geodataframe.py:1537: UserWarning: Geometry column does not contain geometry.\n",
      "  warnings.warn(\"Geometry column does not contain geometry.\")\n"
     ]
    },
    {
     "name": "stdout",
     "output_type": "stream",
     "text": [
      "updated 5042521364\n"
     ]
    },
    {
     "name": "stderr",
     "output_type": "stream",
     "text": [
      "/home/nabilersyad/miniconda3/envs/sql/lib/python3.9/site-packages/geopandas/geodataframe.py:1537: UserWarning: Geometry column does not contain geometry.\n",
      "  warnings.warn(\"Geometry column does not contain geometry.\")\n"
     ]
    },
    {
     "name": "stdout",
     "output_type": "stream",
     "text": [
      "updated 12182196430\n",
      "updated 12191934049\n"
     ]
    },
    {
     "name": "stderr",
     "output_type": "stream",
     "text": [
      "/home/nabilersyad/miniconda3/envs/sql/lib/python3.9/site-packages/geopandas/geodataframe.py:1537: UserWarning: Geometry column does not contain geometry.\n",
      "  warnings.warn(\"Geometry column does not contain geometry.\")\n"
     ]
    }
   ],
   "source": [
    "#setting up supabase client\n",
    "import os\n",
    "import pandas as pd\n",
    "from supabase import create_client, Client\n",
    "\n",
    "#in the py webapp, keys will be stored in github secrets\n",
    "url: str = os.environ.get(\"SUPABASE_URL\")\n",
    "key: str = os.environ.get(\"SUPABASE_KEY\")\n",
    "supabase: Client = create_client(url, key)\n",
    "\n",
    "\n",
    "import geopandas as gpd\n",
    "from shapely.geometry import Point\n",
    "\n",
    "#query to supabase using the previous supabase client that was declared\n",
    "response = supabase.table('entrances').select(\"*\").execute()\n",
    "data,_ = response\n",
    "\n",
    "entrances_df = pd.DataFrame(data[1])\n",
    "# Create a new column in your DataFrame for the geographic data\n",
    "entrances_df['geometry'] = [Point(xy) for xy in zip(entrances_df['longitude'], entrances_df['latitude'])]\n",
    "\n",
    "# Convert the DataFrame to a GeoDataFrame\n",
    "entrances_gdf = gpd.GeoDataFrame(entrances_df, geometry='geometry')\n",
    "# Set the coordinate reference system (CRS) to EPSG:4326 (WGS84)\n",
    "entrances_gdf.crs = \"EPSG:4326\"\n",
    "\n",
    "#library to call Open Route Service(ORS)'s client and requests\n",
    "from openrouteservice import client\n",
    "import sys\n",
    "\n",
    "# Get the path of the parent directory (the root of the project)\n",
    "module_path = os.path.abspath(os.path.join('..'))\n",
    "\n",
    "# Add the parent directory to sys.path\n",
    "sys.path.append(module_path)\n",
    "\n",
    "# Now you can import key.py, this is only done for testing purposes. actual live version should be stored in secret github\n",
    "from key import ORS_KEY\n",
    "\n",
    "#Personal api_key stored in a key.py file that is in gitignore. Uncomment the following and provide your own ORS api for your own use\n",
    "## api_key = \"you api key \" #Provide your personal API key\n",
    "ors_key: str = ORS_KEY\n",
    "ors_client = client.Client(key=ors_key) \n",
    "\n",
    "process_entrances(entrances_gdf, ors_client, supabase)"
   ]
  },
  {
   "cell_type": "code",
   "execution_count": 21,
   "metadata": {},
   "outputs": [],
   "source": [
    "#creating a reusable function to generate isochrones\n",
    "#TODO allow batch processing by accepting dataframes and do a batch api call to generate isochrones\n",
    "def generate_entrances_isochrone(client,entrance_id,reach_centre,range=900,interval=300):\n",
    "    isochrone_parameters = {\n",
    "              'profile': 'foot-walking', \n",
    "              'range': [range], # 900/60 = 15 mins\n",
    "              'interval': interval,\n",
    "              'attributes': ['area', 'reachfactor', 'total_pop'] # Get population count for isochrones\n",
    "             }\n",
    "\n",
    "    #reach_centre is in the format: [101.7127175, 3.1587619], ie [longitude,latitude]\n",
    "    isochrone_parameters['locations'] = [reach_centre]\n",
    "    isochrones_output = client.isochrones(**isochrone_parameters)\n",
    "\n",
    "    df = pd.json_normalize(isochrones_output['features'])\n",
    "    df = df.drop(columns=['type','properties.group_index'])\n",
    "\n",
    "    #reformate coordinates column\n",
    "    df['geometry.coordinates']=df['geometry.coordinates'].apply(lambda row:row[0])\n",
    "\n",
    "    # Remove 'properties.' and 'geometry.' from the column names\n",
    "    df.columns = df.columns.str.replace('properties.', '', regex=False)\n",
    "    df.columns = df.columns.str.replace('geometry.', '', regex=False)\n",
    "    \n",
    "\n",
    "    #creating a new id key for isochrones. to be inserted in supabase table\n",
    "    df['entrance_id']=entrance_id\n",
    "    df['isochrone_id'] = df['entrance_id'].astype(str) + df['value'].astype(int).astype(str)\n",
    "    df\n",
    "    return df   "
   ]
  },
  {
   "cell_type": "code",
   "execution_count": null,
   "metadata": {},
   "outputs": [],
   "source": []
  }
 ],
 "metadata": {
  "kernelspec": {
   "display_name": "sql",
   "language": "python",
   "name": "python3"
  },
  "language_info": {
   "codemirror_mode": {
    "name": "ipython",
    "version": 3
   },
   "file_extension": ".py",
   "mimetype": "text/x-python",
   "name": "python",
   "nbconvert_exporter": "python",
   "pygments_lexer": "ipython3",
   "version": "3.9.16"
  }
 },
 "nbformat": 4,
 "nbformat_minor": 2
}
