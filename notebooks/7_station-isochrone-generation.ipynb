{
 "cells": [
  {
   "cell_type": "markdown",
   "metadata": {},
   "source": [
    "# Station isochrone Generation\n",
    "\n",
    "This notebook aims to try and generate isochrones of train stations\n",
    "\n",
    "It will first attempt to merge isochrones of station entrances where available\n",
    "\n",
    "Otherwise it will be a simple isochrone generation of the approximate centre of the station\n",
    "\n"
   ]
  },
  {
   "cell_type": "code",
   "execution_count": 50,
   "metadata": {},
   "outputs": [],
   "source": [
    "#setting up supabase client\n",
    "import os\n",
    "import pandas as pd\n",
    "from supabase import create_client, Client\n",
    "\n",
    "import geopandas as gpd\n",
    "from shapely.geometry import Point\n",
    "from shapely.geometry import shape\n",
    "from geopandas import GeoSeries\n",
    "from shapely.geometry import Polygon\n",
    "\n",
    "\n",
    "#in the py webapp, keys will be stored in github secrets\n",
    "url: str = os.environ.get(\"SUPABASE_URL\")\n",
    "key: str = os.environ.get(\"SUPABASE_SERVICE_KEY\")\n",
    "supabase: Client = create_client(url, key)"
   ]
  },
  {
   "cell_type": "code",
   "execution_count": 2,
   "metadata": {},
   "outputs": [],
   "source": [
    "#library to call Open Route Service(ORS)'s client and requests\n",
    "from openrouteservice import client\n",
    "import os\n",
    "\n",
    "import sys\n",
    "\n",
    "# Get the path of the parent directory (the root of the project)\n",
    "module_path = os.path.abspath(os.path.join('..'))\n",
    "\n",
    "# Add the parent directory to sys.path\n",
    "sys.path.append(module_path)\n",
    "\n",
    "# Now you can import key.py, this is only done for testing purposes. actual live version should be stored in secret github\n",
    "from key import ORS_KEY\n",
    "\n",
    "#Personal api_key stored in a key.py file that is in gitignore. Uncomment the following and provide your own ORS api for your own use\n",
    "## api_key = \"you api key \" #Provide your personal API key\n",
    "ors_key: str = ORS_KEY\n",
    "\n",
    "\n",
    "ors_client = client.Client(key=ors_key) "
   ]
  },
  {
   "cell_type": "markdown",
   "metadata": {},
   "source": [
    "# Querying station entrances from Supabase\n",
    "\n",
    "\n",
    "The following blocks will load the various relevant tables from Supabase"
   ]
  },
  {
   "cell_type": "code",
   "execution_count": 3,
   "metadata": {},
   "outputs": [
    {
     "data": {
      "text/html": [
       "<div>\n",
       "<style scoped>\n",
       "    .dataframe tbody tr th:only-of-type {\n",
       "        vertical-align: middle;\n",
       "    }\n",
       "\n",
       "    .dataframe tbody tr th {\n",
       "        vertical-align: top;\n",
       "    }\n",
       "\n",
       "    .dataframe thead th {\n",
       "        text-align: right;\n",
       "    }\n",
       "</style>\n",
       "<table border=\"1\" class=\"dataframe\">\n",
       "  <thead>\n",
       "    <tr style=\"text-align: right;\">\n",
       "      <th></th>\n",
       "      <th>isochrone_id</th>\n",
       "      <th>value</th>\n",
       "      <th>center</th>\n",
       "      <th>area</th>\n",
       "      <th>reachfactor</th>\n",
       "      <th>total_pop</th>\n",
       "      <th>type</th>\n",
       "      <th>entrance_id</th>\n",
       "      <th>geometry</th>\n",
       "    </tr>\n",
       "  </thead>\n",
       "  <tbody>\n",
       "    <tr>\n",
       "      <th>0</th>\n",
       "      <td>11187840754900</td>\n",
       "      <td>900</td>\n",
       "      <td>[101.6956212881515, 3.178221134305872]</td>\n",
       "      <td>2562043.68</td>\n",
       "      <td>0.8155</td>\n",
       "      <td>21957</td>\n",
       "      <td>Polygon</td>\n",
       "      <td>11187840754</td>\n",
       "      <td>POLYGON ((101.68708 3.17785, 101.68752 3.17655...</td>\n",
       "    </tr>\n",
       "    <tr>\n",
       "      <th>1</th>\n",
       "      <td>3308608989300</td>\n",
       "      <td>300</td>\n",
       "      <td>[101.7125217751169, 3.1588555818871913]</td>\n",
       "      <td>337860.68</td>\n",
       "      <td>0.9679</td>\n",
       "      <td>4774</td>\n",
       "      <td>Polygon</td>\n",
       "      <td>3308608989</td>\n",
       "      <td>POLYGON ((101.70906 3.15892, 101.70922 3.15865...</td>\n",
       "    </tr>\n",
       "    <tr>\n",
       "      <th>2</th>\n",
       "      <td>7259253706300</td>\n",
       "      <td>300</td>\n",
       "      <td>[101.6991072, 3.1590919]</td>\n",
       "      <td>285653.74</td>\n",
       "      <td>0.8183</td>\n",
       "      <td>2842</td>\n",
       "      <td>Polygon</td>\n",
       "      <td>7259253706</td>\n",
       "      <td>POLYGON ((101.69596 3.15864, 101.69716 3.15671...</td>\n",
       "    </tr>\n",
       "    <tr>\n",
       "      <th>3</th>\n",
       "      <td>3308608989600</td>\n",
       "      <td>600</td>\n",
       "      <td>[101.7125217751169, 3.1588555818871913]</td>\n",
       "      <td>1362846.78</td>\n",
       "      <td>0.9761</td>\n",
       "      <td>18751</td>\n",
       "      <td>Polygon</td>\n",
       "      <td>3308608989</td>\n",
       "      <td>POLYGON ((101.70580 3.15729, 101.70579 3.15715...</td>\n",
       "    </tr>\n",
       "    <tr>\n",
       "      <th>4</th>\n",
       "      <td>4092013971300</td>\n",
       "      <td>300</td>\n",
       "      <td>[101.6141298, 3.0222312]</td>\n",
       "      <td>220091.61</td>\n",
       "      <td>0.6305</td>\n",
       "      <td>1498</td>\n",
       "      <td>Polygon</td>\n",
       "      <td>4092013971</td>\n",
       "      <td>POLYGON ((101.61146 3.02337, 101.61197 3.02128...</td>\n",
       "    </tr>\n",
       "    <tr>\n",
       "      <th>...</th>\n",
       "      <td>...</td>\n",
       "      <td>...</td>\n",
       "      <td>...</td>\n",
       "      <td>...</td>\n",
       "      <td>...</td>\n",
       "      <td>...</td>\n",
       "      <td>...</td>\n",
       "      <td>...</td>\n",
       "      <td>...</td>\n",
       "    </tr>\n",
       "    <tr>\n",
       "      <th>877</th>\n",
       "      <td>11039579994600</td>\n",
       "      <td>600</td>\n",
       "      <td>[101.69373096126859, 3.1670089963140877]</td>\n",
       "      <td>1251497.64</td>\n",
       "      <td>0.8963</td>\n",
       "      <td>15656</td>\n",
       "      <td>Polygon</td>\n",
       "      <td>11039579994</td>\n",
       "      <td>POLYGON ((101.68883 3.16710, 101.68884 3.16370...</td>\n",
       "    </tr>\n",
       "    <tr>\n",
       "      <th>878</th>\n",
       "      <td>11039579994900</td>\n",
       "      <td>900</td>\n",
       "      <td>[101.69373096126859, 3.1670089963140877]</td>\n",
       "      <td>2652413.84</td>\n",
       "      <td>0.8443</td>\n",
       "      <td>30134</td>\n",
       "      <td>Polygon</td>\n",
       "      <td>11039579994</td>\n",
       "      <td>POLYGON ((101.68610 3.16642, 101.68672 3.16494...</td>\n",
       "    </tr>\n",
       "    <tr>\n",
       "      <th>879</th>\n",
       "      <td>11061429685600</td>\n",
       "      <td>600</td>\n",
       "      <td>[101.6720750549697, 3.2146979016680297]</td>\n",
       "      <td>1084752.26</td>\n",
       "      <td>0.7769</td>\n",
       "      <td>6835</td>\n",
       "      <td>Polygon</td>\n",
       "      <td>11061429685</td>\n",
       "      <td>POLYGON ((101.66858 3.21536, 101.66857 3.21528...</td>\n",
       "    </tr>\n",
       "    <tr>\n",
       "      <th>880</th>\n",
       "      <td>11061429685900</td>\n",
       "      <td>900</td>\n",
       "      <td>[101.6720750549697, 3.2146979016680297]</td>\n",
       "      <td>1969864.91</td>\n",
       "      <td>0.6270</td>\n",
       "      <td>12886</td>\n",
       "      <td>Polygon</td>\n",
       "      <td>11061429685</td>\n",
       "      <td>POLYGON ((101.66857 3.21528, 101.66693 3.21038...</td>\n",
       "    </tr>\n",
       "    <tr>\n",
       "      <th>881</th>\n",
       "      <td>11061429686900</td>\n",
       "      <td>900</td>\n",
       "      <td>[101.67232393189418, 3.2142627997259146]</td>\n",
       "      <td>2063049.11</td>\n",
       "      <td>0.6567</td>\n",
       "      <td>14351</td>\n",
       "      <td>Polygon</td>\n",
       "      <td>11061429686</td>\n",
       "      <td>POLYGON ((101.66857 3.21528, 101.66693 3.21038...</td>\n",
       "    </tr>\n",
       "  </tbody>\n",
       "</table>\n",
       "<p>882 rows × 9 columns</p>\n",
       "</div>"
      ],
      "text/plain": [
       "       isochrone_id  value                                    center  \\\n",
       "0    11187840754900    900    [101.6956212881515, 3.178221134305872]   \n",
       "1     3308608989300    300   [101.7125217751169, 3.1588555818871913]   \n",
       "2     7259253706300    300                  [101.6991072, 3.1590919]   \n",
       "3     3308608989600    600   [101.7125217751169, 3.1588555818871913]   \n",
       "4     4092013971300    300                  [101.6141298, 3.0222312]   \n",
       "..              ...    ...                                       ...   \n",
       "877  11039579994600    600  [101.69373096126859, 3.1670089963140877]   \n",
       "878  11039579994900    900  [101.69373096126859, 3.1670089963140877]   \n",
       "879  11061429685600    600   [101.6720750549697, 3.2146979016680297]   \n",
       "880  11061429685900    900   [101.6720750549697, 3.2146979016680297]   \n",
       "881  11061429686900    900  [101.67232393189418, 3.2142627997259146]   \n",
       "\n",
       "           area  reachfactor  total_pop     type  entrance_id  \\\n",
       "0    2562043.68       0.8155      21957  Polygon  11187840754   \n",
       "1     337860.68       0.9679       4774  Polygon   3308608989   \n",
       "2     285653.74       0.8183       2842  Polygon   7259253706   \n",
       "3    1362846.78       0.9761      18751  Polygon   3308608989   \n",
       "4     220091.61       0.6305       1498  Polygon   4092013971   \n",
       "..          ...          ...        ...      ...          ...   \n",
       "877  1251497.64       0.8963      15656  Polygon  11039579994   \n",
       "878  2652413.84       0.8443      30134  Polygon  11039579994   \n",
       "879  1084752.26       0.7769       6835  Polygon  11061429685   \n",
       "880  1969864.91       0.6270      12886  Polygon  11061429685   \n",
       "881  2063049.11       0.6567      14351  Polygon  11061429686   \n",
       "\n",
       "                                              geometry  \n",
       "0    POLYGON ((101.68708 3.17785, 101.68752 3.17655...  \n",
       "1    POLYGON ((101.70906 3.15892, 101.70922 3.15865...  \n",
       "2    POLYGON ((101.69596 3.15864, 101.69716 3.15671...  \n",
       "3    POLYGON ((101.70580 3.15729, 101.70579 3.15715...  \n",
       "4    POLYGON ((101.61146 3.02337, 101.61197 3.02128...  \n",
       "..                                                 ...  \n",
       "877  POLYGON ((101.68883 3.16710, 101.68884 3.16370...  \n",
       "878  POLYGON ((101.68610 3.16642, 101.68672 3.16494...  \n",
       "879  POLYGON ((101.66858 3.21536, 101.66857 3.21528...  \n",
       "880  POLYGON ((101.66857 3.21528, 101.66693 3.21038...  \n",
       "881  POLYGON ((101.66857 3.21528, 101.66693 3.21038...  \n",
       "\n",
       "[882 rows x 9 columns]"
      ]
     },
     "execution_count": 3,
     "metadata": {},
     "output_type": "execute_result"
    }
   ],
   "source": [
    "#Querying table with entrance isochrones\n",
    "\n",
    "#query to supabase using the previous supabase client that was declared\n",
    "response_entrances_isochrones = supabase.table('entrances_isochrones').select(\"*\").execute()\n",
    "\n",
    "data,_ = response_entrances_isochrones\n",
    "entrances_isochrones_df = pd.DataFrame(data[1])\n",
    "\n",
    "# Convert the geometry column from dictionaries to shapely Polygons\n",
    "entrances_isochrones_df['geometry'] = entrances_isochrones_df['geometry'].apply(lambda geom: shape(geom))\n",
    "\n",
    "# Convert the DataFrame to a GeoDataFrame\n",
    "entrances_isochrones_gdf = gpd.GeoDataFrame(entrances_isochrones_df, geometry='geometry', crs='EPSG:4326')\n",
    "\n",
    "\n",
    "entrances_isochrones_gdf"
   ]
  },
  {
   "cell_type": "code",
   "execution_count": 4,
   "metadata": {},
   "outputs": [
    {
     "data": {
      "text/html": [
       "<div>\n",
       "<style scoped>\n",
       "    .dataframe tbody tr th:only-of-type {\n",
       "        vertical-align: middle;\n",
       "    }\n",
       "\n",
       "    .dataframe tbody tr th {\n",
       "        vertical-align: top;\n",
       "    }\n",
       "\n",
       "    .dataframe thead th {\n",
       "        text-align: right;\n",
       "    }\n",
       "</style>\n",
       "<table border=\"1\" class=\"dataframe\">\n",
       "  <thead>\n",
       "    <tr style=\"text-align: right;\">\n",
       "      <th></th>\n",
       "      <th>name</th>\n",
       "      <th>station_code</th>\n",
       "      <th>service_provider_name</th>\n",
       "      <th>latitude</th>\n",
       "      <th>longitude</th>\n",
       "      <th>route_id</th>\n",
       "      <th>route_name</th>\n",
       "      <th>line_number</th>\n",
       "      <th>line_colour</th>\n",
       "      <th>colour_hex_code</th>\n",
       "      <th>region</th>\n",
       "      <th>odonym</th>\n",
       "      <th>namesake</th>\n",
       "      <th>opened</th>\n",
       "      <th>station_id</th>\n",
       "      <th>geometry</th>\n",
       "    </tr>\n",
       "  </thead>\n",
       "  <tbody>\n",
       "    <tr>\n",
       "      <th>0</th>\n",
       "      <td>Kuala Lumpur</td>\n",
       "      <td>KA02</td>\n",
       "      <td>Keretapi Tanah Melayu</td>\n",
       "      <td>3.139513</td>\n",
       "      <td>101.693789</td>\n",
       "      <td>KA</td>\n",
       "      <td>Seremban Line</td>\n",
       "      <td>1</td>\n",
       "      <td>Blue</td>\n",
       "      <td>#0000FF</td>\n",
       "      <td>Klang Valley</td>\n",
       "      <td>None</td>\n",
       "      <td>None</td>\n",
       "      <td>None</td>\n",
       "      <td>1</td>\n",
       "      <td>POINT (101.69379 3.13951)</td>\n",
       "    </tr>\n",
       "    <tr>\n",
       "      <th>1</th>\n",
       "      <td>Bank Negara</td>\n",
       "      <td>KA03</td>\n",
       "      <td>Keretapi Tanah Melayu</td>\n",
       "      <td>3.154542</td>\n",
       "      <td>101.693010</td>\n",
       "      <td>KA</td>\n",
       "      <td>Seremban Line</td>\n",
       "      <td>1</td>\n",
       "      <td>Blue</td>\n",
       "      <td>#0000FF</td>\n",
       "      <td>Klang Valley</td>\n",
       "      <td>None</td>\n",
       "      <td>None</td>\n",
       "      <td>None</td>\n",
       "      <td>2</td>\n",
       "      <td>POINT (101.69301 3.15454)</td>\n",
       "    </tr>\n",
       "    <tr>\n",
       "      <th>2</th>\n",
       "      <td>Putra</td>\n",
       "      <td>KA04</td>\n",
       "      <td>Keretapi Tanah Melayu</td>\n",
       "      <td>3.165005</td>\n",
       "      <td>101.691234</td>\n",
       "      <td>KA</td>\n",
       "      <td>Seremban Line</td>\n",
       "      <td>1</td>\n",
       "      <td>Blue</td>\n",
       "      <td>#0000FF</td>\n",
       "      <td>Klang Valley</td>\n",
       "      <td>None</td>\n",
       "      <td>None</td>\n",
       "      <td>None</td>\n",
       "      <td>3</td>\n",
       "      <td>POINT (101.69123 3.16500)</td>\n",
       "    </tr>\n",
       "    <tr>\n",
       "      <th>3</th>\n",
       "      <td>Mid Valley</td>\n",
       "      <td>KB01</td>\n",
       "      <td>Keretapi Tanah Melayu</td>\n",
       "      <td>3.118528</td>\n",
       "      <td>101.678985</td>\n",
       "      <td>KB</td>\n",
       "      <td>Seremban Line</td>\n",
       "      <td>1</td>\n",
       "      <td>Blue</td>\n",
       "      <td>#0000FF</td>\n",
       "      <td>Klang Valley</td>\n",
       "      <td>None</td>\n",
       "      <td>None</td>\n",
       "      <td>None</td>\n",
       "      <td>4</td>\n",
       "      <td>POINT (101.67899 3.11853)</td>\n",
       "    </tr>\n",
       "    <tr>\n",
       "      <th>4</th>\n",
       "      <td>Seputeh</td>\n",
       "      <td>KB02</td>\n",
       "      <td>Keretapi Tanah Melayu</td>\n",
       "      <td>3.113697</td>\n",
       "      <td>101.681299</td>\n",
       "      <td>KB</td>\n",
       "      <td>Seremban Line</td>\n",
       "      <td>1</td>\n",
       "      <td>Blue</td>\n",
       "      <td>#0000FF</td>\n",
       "      <td>Klang Valley</td>\n",
       "      <td>None</td>\n",
       "      <td>None</td>\n",
       "      <td>None</td>\n",
       "      <td>5</td>\n",
       "      <td>POINT (101.68130 3.11370)</td>\n",
       "    </tr>\n",
       "    <tr>\n",
       "      <th>...</th>\n",
       "      <td>...</td>\n",
       "      <td>...</td>\n",
       "      <td>...</td>\n",
       "      <td>...</td>\n",
       "      <td>...</td>\n",
       "      <td>...</td>\n",
       "      <td>...</td>\n",
       "      <td>...</td>\n",
       "      <td>...</td>\n",
       "      <td>...</td>\n",
       "      <td>...</td>\n",
       "      <td>...</td>\n",
       "      <td>...</td>\n",
       "      <td>...</td>\n",
       "      <td>...</td>\n",
       "      <td>...</td>\n",
       "    </tr>\n",
       "    <tr>\n",
       "      <th>254</th>\n",
       "      <td>Sri Andalas</td>\n",
       "      <td>JS22</td>\n",
       "      <td>Rapid KL</td>\n",
       "      <td>3.015225</td>\n",
       "      <td>101.440441</td>\n",
       "      <td>JS</td>\n",
       "      <td>LRT3</td>\n",
       "      <td>11</td>\n",
       "      <td>Sky Blue</td>\n",
       "      <td>#88cffa</td>\n",
       "      <td>Klang Valley</td>\n",
       "      <td>None</td>\n",
       "      <td>None</td>\n",
       "      <td>None</td>\n",
       "      <td>255</td>\n",
       "      <td>POINT (101.44044 3.01522)</td>\n",
       "    </tr>\n",
       "    <tr>\n",
       "      <th>255</th>\n",
       "      <td>Klang Jaya</td>\n",
       "      <td>JS23</td>\n",
       "      <td>Rapid KL</td>\n",
       "      <td>3.005072</td>\n",
       "      <td>101.442081</td>\n",
       "      <td>JS</td>\n",
       "      <td>LRT3</td>\n",
       "      <td>11</td>\n",
       "      <td>Sky Blue</td>\n",
       "      <td>#88cffa</td>\n",
       "      <td>Klang Valley</td>\n",
       "      <td>None</td>\n",
       "      <td>None</td>\n",
       "      <td>None</td>\n",
       "      <td>256</td>\n",
       "      <td>POINT (101.44208 3.00507)</td>\n",
       "    </tr>\n",
       "    <tr>\n",
       "      <th>256</th>\n",
       "      <td>Bandar Bukit Tinggi</td>\n",
       "      <td>JS24</td>\n",
       "      <td>Rapid KL</td>\n",
       "      <td>2.993526</td>\n",
       "      <td>101.446175</td>\n",
       "      <td>JS</td>\n",
       "      <td>LRT3</td>\n",
       "      <td>11</td>\n",
       "      <td>Sky Blue</td>\n",
       "      <td>#88cffa</td>\n",
       "      <td>Klang Valley</td>\n",
       "      <td>None</td>\n",
       "      <td>None</td>\n",
       "      <td>None</td>\n",
       "      <td>257</td>\n",
       "      <td>POINT (101.44617 2.99353)</td>\n",
       "    </tr>\n",
       "    <tr>\n",
       "      <th>257</th>\n",
       "      <td>Johan Setia</td>\n",
       "      <td>JS26</td>\n",
       "      <td>Rapid KL</td>\n",
       "      <td>2.975436</td>\n",
       "      <td>101.460718</td>\n",
       "      <td>JS</td>\n",
       "      <td>LRT3</td>\n",
       "      <td>11</td>\n",
       "      <td>Sky Blue</td>\n",
       "      <td>#88cffa</td>\n",
       "      <td>Klang Valley</td>\n",
       "      <td>None</td>\n",
       "      <td>None</td>\n",
       "      <td>None</td>\n",
       "      <td>258</td>\n",
       "      <td>POINT (101.46072 2.97544)</td>\n",
       "    </tr>\n",
       "    <tr>\n",
       "      <th>258</th>\n",
       "      <td>KL Sentral</td>\n",
       "      <td>KA01</td>\n",
       "      <td>Keretapi Tanah Melayu</td>\n",
       "      <td>3.134603</td>\n",
       "      <td>101.686567</td>\n",
       "      <td>KA</td>\n",
       "      <td>Seremban Line</td>\n",
       "      <td>1</td>\n",
       "      <td>Blue</td>\n",
       "      <td>#0000FF</td>\n",
       "      <td>Klang Valley</td>\n",
       "      <td>None</td>\n",
       "      <td>None</td>\n",
       "      <td>None</td>\n",
       "      <td>0</td>\n",
       "      <td>POINT (101.68657 3.13460)</td>\n",
       "    </tr>\n",
       "  </tbody>\n",
       "</table>\n",
       "<p>259 rows × 16 columns</p>\n",
       "</div>"
      ],
      "text/plain": [
       "                    name station_code  service_provider_name  latitude  \\\n",
       "0           Kuala Lumpur         KA02  Keretapi Tanah Melayu  3.139513   \n",
       "1            Bank Negara         KA03  Keretapi Tanah Melayu  3.154542   \n",
       "2                  Putra         KA04  Keretapi Tanah Melayu  3.165005   \n",
       "3             Mid Valley         KB01  Keretapi Tanah Melayu  3.118528   \n",
       "4                Seputeh         KB02  Keretapi Tanah Melayu  3.113697   \n",
       "..                   ...          ...                    ...       ...   \n",
       "254          Sri Andalas         JS22               Rapid KL  3.015225   \n",
       "255           Klang Jaya         JS23               Rapid KL  3.005072   \n",
       "256  Bandar Bukit Tinggi         JS24               Rapid KL  2.993526   \n",
       "257          Johan Setia         JS26               Rapid KL  2.975436   \n",
       "258           KL Sentral         KA01  Keretapi Tanah Melayu  3.134603   \n",
       "\n",
       "      longitude route_id     route_name line_number line_colour  \\\n",
       "0    101.693789       KA  Seremban Line           1        Blue   \n",
       "1    101.693010       KA  Seremban Line           1        Blue   \n",
       "2    101.691234       KA  Seremban Line           1        Blue   \n",
       "3    101.678985       KB  Seremban Line           1        Blue   \n",
       "4    101.681299       KB  Seremban Line           1        Blue   \n",
       "..          ...      ...            ...         ...         ...   \n",
       "254  101.440441       JS           LRT3          11    Sky Blue   \n",
       "255  101.442081       JS           LRT3          11    Sky Blue   \n",
       "256  101.446175       JS           LRT3          11    Sky Blue   \n",
       "257  101.460718       JS           LRT3          11    Sky Blue   \n",
       "258  101.686567       KA  Seremban Line           1        Blue   \n",
       "\n",
       "    colour_hex_code        region odonym namesake opened  station_id  \\\n",
       "0           #0000FF  Klang Valley   None     None   None           1   \n",
       "1           #0000FF  Klang Valley   None     None   None           2   \n",
       "2           #0000FF  Klang Valley   None     None   None           3   \n",
       "3           #0000FF  Klang Valley   None     None   None           4   \n",
       "4           #0000FF  Klang Valley   None     None   None           5   \n",
       "..              ...           ...    ...      ...    ...         ...   \n",
       "254         #88cffa  Klang Valley   None     None   None         255   \n",
       "255         #88cffa  Klang Valley   None     None   None         256   \n",
       "256         #88cffa  Klang Valley   None     None   None         257   \n",
       "257         #88cffa  Klang Valley   None     None   None         258   \n",
       "258         #0000FF  Klang Valley   None     None   None           0   \n",
       "\n",
       "                      geometry  \n",
       "0    POINT (101.69379 3.13951)  \n",
       "1    POINT (101.69301 3.15454)  \n",
       "2    POINT (101.69123 3.16500)  \n",
       "3    POINT (101.67899 3.11853)  \n",
       "4    POINT (101.68130 3.11370)  \n",
       "..                         ...  \n",
       "254  POINT (101.44044 3.01522)  \n",
       "255  POINT (101.44208 3.00507)  \n",
       "256  POINT (101.44617 2.99353)  \n",
       "257  POINT (101.46072 2.97544)  \n",
       "258  POINT (101.68657 3.13460)  \n",
       "\n",
       "[259 rows x 16 columns]"
      ]
     },
     "execution_count": 4,
     "metadata": {},
     "output_type": "execute_result"
    }
   ],
   "source": [
    "#query to supabase using the previous supabase client that was declared\n",
    "response_stations = supabase.table('stations').select(\"*\").eq('region','Klang Valley').execute()\n",
    "\n",
    "data,_ = response_stations\n",
    "\n",
    "stations_df = pd.DataFrame(data[1])\n",
    "# Create a new column in your DataFrame for the geographic data\n",
    "stations_df['geometry'] = [Point(xy) for xy in zip(stations_df['longitude'], stations_df['latitude'])]\n",
    "\n",
    "# Convert the DataFrame to a GeoDataFrame\n",
    "stations_gdf = gpd.GeoDataFrame(stations_df, geometry='geometry')\n",
    "# Set the coordinate reference system (CRS) to EPSG:4326 (WGS84)\n",
    "stations_gdf.crs = \"EPSG:4326\"\n",
    "\n",
    "stations_gdf"
   ]
  },
  {
   "cell_type": "code",
   "execution_count": 5,
   "metadata": {},
   "outputs": [
    {
     "data": {
      "text/html": [
       "<div>\n",
       "<style scoped>\n",
       "    .dataframe tbody tr th:only-of-type {\n",
       "        vertical-align: middle;\n",
       "    }\n",
       "\n",
       "    .dataframe tbody tr th {\n",
       "        vertical-align: top;\n",
       "    }\n",
       "\n",
       "    .dataframe thead th {\n",
       "        text-align: right;\n",
       "    }\n",
       "</style>\n",
       "<table border=\"1\" class=\"dataframe\">\n",
       "  <thead>\n",
       "    <tr style=\"text-align: right;\">\n",
       "      <th></th>\n",
       "      <th>relationship_id</th>\n",
       "      <th>entrance_id</th>\n",
       "      <th>station_name</th>\n",
       "      <th>station_code</th>\n",
       "    </tr>\n",
       "  </thead>\n",
       "  <tbody>\n",
       "    <tr>\n",
       "      <th>0</th>\n",
       "      <td>0</td>\n",
       "      <td>10796851698</td>\n",
       "      <td>Pudu</td>\n",
       "      <td>AG10</td>\n",
       "    </tr>\n",
       "    <tr>\n",
       "      <th>1</th>\n",
       "      <td>1</td>\n",
       "      <td>10796851698</td>\n",
       "      <td>Pudu</td>\n",
       "      <td>SP10</td>\n",
       "    </tr>\n",
       "    <tr>\n",
       "      <th>2</th>\n",
       "      <td>2</td>\n",
       "      <td>5485710279</td>\n",
       "      <td>Kampung Baru</td>\n",
       "      <td>KJ11</td>\n",
       "    </tr>\n",
       "    <tr>\n",
       "      <th>3</th>\n",
       "      <td>3</td>\n",
       "      <td>5485710278</td>\n",
       "      <td>Kampung Baru</td>\n",
       "      <td>KJ11</td>\n",
       "    </tr>\n",
       "    <tr>\n",
       "      <th>4</th>\n",
       "      <td>4</td>\n",
       "      <td>9740843587</td>\n",
       "      <td>Masjid Jamek (KJ)</td>\n",
       "      <td>KJ13</td>\n",
       "    </tr>\n",
       "    <tr>\n",
       "      <th>...</th>\n",
       "      <td>...</td>\n",
       "      <td>...</td>\n",
       "      <td>...</td>\n",
       "      <td>...</td>\n",
       "    </tr>\n",
       "    <tr>\n",
       "      <th>324</th>\n",
       "      <td>324</td>\n",
       "      <td>5044809585</td>\n",
       "      <td>Tun Razak Exchange (PY)</td>\n",
       "      <td>PY23</td>\n",
       "    </tr>\n",
       "    <tr>\n",
       "      <th>325</th>\n",
       "      <td>325</td>\n",
       "      <td>5044809586</td>\n",
       "      <td>Tun Razak Exchange (PY)</td>\n",
       "      <td>PY23</td>\n",
       "    </tr>\n",
       "    <tr>\n",
       "      <th>326</th>\n",
       "      <td>326</td>\n",
       "      <td>12155642296</td>\n",
       "      <td>Kajang 2</td>\n",
       "      <td>KB06A</td>\n",
       "    </tr>\n",
       "    <tr>\n",
       "      <th>327</th>\n",
       "      <td>327</td>\n",
       "      <td>12155642293</td>\n",
       "      <td>Kajang 2</td>\n",
       "      <td>KB06A</td>\n",
       "    </tr>\n",
       "    <tr>\n",
       "      <th>328</th>\n",
       "      <td>328</td>\n",
       "      <td>12155642294</td>\n",
       "      <td>Kajang 2</td>\n",
       "      <td>KB06A</td>\n",
       "    </tr>\n",
       "  </tbody>\n",
       "</table>\n",
       "<p>329 rows × 4 columns</p>\n",
       "</div>"
      ],
      "text/plain": [
       "     relationship_id  entrance_id             station_name station_code\n",
       "0                  0  10796851698                     Pudu         AG10\n",
       "1                  1  10796851698                     Pudu         SP10\n",
       "2                  2   5485710279             Kampung Baru         KJ11\n",
       "3                  3   5485710278             Kampung Baru         KJ11\n",
       "4                  4   9740843587        Masjid Jamek (KJ)         KJ13\n",
       "..               ...          ...                      ...          ...\n",
       "324              324   5044809585  Tun Razak Exchange (PY)         PY23\n",
       "325              325   5044809586  Tun Razak Exchange (PY)         PY23\n",
       "326              326  12155642296                 Kajang 2        KB06A\n",
       "327              327  12155642293                 Kajang 2        KB06A\n",
       "328              328  12155642294                 Kajang 2        KB06A\n",
       "\n",
       "[329 rows x 4 columns]"
      ]
     },
     "execution_count": 5,
     "metadata": {},
     "output_type": "execute_result"
    }
   ],
   "source": [
    "#query to supabase using the previous supabase client that was declared\n",
    "response_stations = supabase.table('station_entrances').select(\"*\").execute()\n",
    "\n",
    "data,_ = response_stations\n",
    "\n",
    "stations_entrances_df = pd.DataFrame(data[1])\n",
    "stations_entrances_df"
   ]
  },
  {
   "cell_type": "markdown",
   "metadata": {},
   "source": [
    "## Task TODO\n",
    "\n",
    "1. Left join station_entrances with entrances_isochrones_gdf on entrance_id\n",
    "2. This will create a table with isochrones mapped to station_name\n",
    "3. Iterate stations table to look up joined table for entrance isochrones.\n",
    "4. If isochrones are found, store all of them and use a unity function to combine them all\n",
    "5. save in a new isochrones polygon column just for stations\n",
    "6. If no isochrones found, just query on station coordinates"
   ]
  },
  {
   "cell_type": "code",
   "execution_count": 6,
   "metadata": {},
   "outputs": [],
   "source": [
    "#correcting the column data type to prep for merging\n",
    "entrances_isochrones_gdf['entrance_id']= entrances_isochrones_gdf['entrance_id'].astype(int)  "
   ]
  },
  {
   "cell_type": "code",
   "execution_count": 7,
   "metadata": {},
   "outputs": [
    {
     "data": {
      "text/html": [
       "<div>\n",
       "<style scoped>\n",
       "    .dataframe tbody tr th:only-of-type {\n",
       "        vertical-align: middle;\n",
       "    }\n",
       "\n",
       "    .dataframe tbody tr th {\n",
       "        vertical-align: top;\n",
       "    }\n",
       "\n",
       "    .dataframe thead th {\n",
       "        text-align: right;\n",
       "    }\n",
       "</style>\n",
       "<table border=\"1\" class=\"dataframe\">\n",
       "  <thead>\n",
       "    <tr style=\"text-align: right;\">\n",
       "      <th></th>\n",
       "      <th>relationship_id</th>\n",
       "      <th>entrance_id</th>\n",
       "      <th>station_name</th>\n",
       "      <th>station_code</th>\n",
       "      <th>isochrone_id</th>\n",
       "      <th>value</th>\n",
       "      <th>center</th>\n",
       "      <th>area</th>\n",
       "      <th>reachfactor</th>\n",
       "      <th>total_pop</th>\n",
       "      <th>type</th>\n",
       "      <th>geometry</th>\n",
       "    </tr>\n",
       "  </thead>\n",
       "  <tbody>\n",
       "    <tr>\n",
       "      <th>0</th>\n",
       "      <td>0</td>\n",
       "      <td>10796851698</td>\n",
       "      <td>Pudu</td>\n",
       "      <td>AG10</td>\n",
       "      <td>10796851698300</td>\n",
       "      <td>300.0</td>\n",
       "      <td>[101.7121408, 3.1347568]</td>\n",
       "      <td>278905.63</td>\n",
       "      <td>0.7990</td>\n",
       "      <td>2478.0</td>\n",
       "      <td>Polygon</td>\n",
       "      <td>POLYGON ((101.70965 3.13579, 101.70971 3.13562...</td>\n",
       "    </tr>\n",
       "    <tr>\n",
       "      <th>1</th>\n",
       "      <td>0</td>\n",
       "      <td>10796851698</td>\n",
       "      <td>Pudu</td>\n",
       "      <td>AG10</td>\n",
       "      <td>10796851698600</td>\n",
       "      <td>600.0</td>\n",
       "      <td>[101.7121408, 3.1347568]</td>\n",
       "      <td>1366234.08</td>\n",
       "      <td>0.9785</td>\n",
       "      <td>13013.0</td>\n",
       "      <td>Polygon</td>\n",
       "      <td>POLYGON ((101.70670 3.13675, 101.70656 3.13563...</td>\n",
       "    </tr>\n",
       "    <tr>\n",
       "      <th>2</th>\n",
       "      <td>0</td>\n",
       "      <td>10796851698</td>\n",
       "      <td>Pudu</td>\n",
       "      <td>AG10</td>\n",
       "      <td>10796851698900</td>\n",
       "      <td>900.0</td>\n",
       "      <td>[101.7121408, 3.1347568]</td>\n",
       "      <td>2968558.89</td>\n",
       "      <td>0.9449</td>\n",
       "      <td>26537.0</td>\n",
       "      <td>Polygon</td>\n",
       "      <td>POLYGON ((101.70388 3.13690, 101.70406 3.13641...</td>\n",
       "    </tr>\n",
       "    <tr>\n",
       "      <th>3</th>\n",
       "      <td>1</td>\n",
       "      <td>10796851698</td>\n",
       "      <td>Pudu</td>\n",
       "      <td>SP10</td>\n",
       "      <td>10796851698300</td>\n",
       "      <td>300.0</td>\n",
       "      <td>[101.7121408, 3.1347568]</td>\n",
       "      <td>278905.63</td>\n",
       "      <td>0.7990</td>\n",
       "      <td>2478.0</td>\n",
       "      <td>Polygon</td>\n",
       "      <td>POLYGON ((101.70965 3.13579, 101.70971 3.13562...</td>\n",
       "    </tr>\n",
       "    <tr>\n",
       "      <th>4</th>\n",
       "      <td>1</td>\n",
       "      <td>10796851698</td>\n",
       "      <td>Pudu</td>\n",
       "      <td>SP10</td>\n",
       "      <td>10796851698600</td>\n",
       "      <td>600.0</td>\n",
       "      <td>[101.7121408, 3.1347568]</td>\n",
       "      <td>1366234.08</td>\n",
       "      <td>0.9785</td>\n",
       "      <td>13013.0</td>\n",
       "      <td>Polygon</td>\n",
       "      <td>POLYGON ((101.70670 3.13675, 101.70656 3.13563...</td>\n",
       "    </tr>\n",
       "    <tr>\n",
       "      <th>...</th>\n",
       "      <td>...</td>\n",
       "      <td>...</td>\n",
       "      <td>...</td>\n",
       "      <td>...</td>\n",
       "      <td>...</td>\n",
       "      <td>...</td>\n",
       "      <td>...</td>\n",
       "      <td>...</td>\n",
       "      <td>...</td>\n",
       "      <td>...</td>\n",
       "      <td>...</td>\n",
       "      <td>...</td>\n",
       "    </tr>\n",
       "    <tr>\n",
       "      <th>980</th>\n",
       "      <td>327</td>\n",
       "      <td>12155642293</td>\n",
       "      <td>Kajang 2</td>\n",
       "      <td>KB06A</td>\n",
       "      <td>12155642293600</td>\n",
       "      <td>600.0</td>\n",
       "      <td>[101.7924757365604, 2.962197483109656]</td>\n",
       "      <td>1132110.23</td>\n",
       "      <td>0.8108</td>\n",
       "      <td>5671.0</td>\n",
       "      <td>Polygon</td>\n",
       "      <td>POLYGON ((101.78562 2.96171, 101.78582 2.96056...</td>\n",
       "    </tr>\n",
       "    <tr>\n",
       "      <th>981</th>\n",
       "      <td>327</td>\n",
       "      <td>12155642293</td>\n",
       "      <td>Kajang 2</td>\n",
       "      <td>KB06A</td>\n",
       "      <td>12155642293900</td>\n",
       "      <td>900.0</td>\n",
       "      <td>[101.7924757365604, 2.962197483109656]</td>\n",
       "      <td>2647963.56</td>\n",
       "      <td>0.8429</td>\n",
       "      <td>13241.0</td>\n",
       "      <td>Polygon</td>\n",
       "      <td>POLYGON ((101.78315 2.96410, 101.78342 2.96268...</td>\n",
       "    </tr>\n",
       "    <tr>\n",
       "      <th>982</th>\n",
       "      <td>328</td>\n",
       "      <td>12155642294</td>\n",
       "      <td>Kajang 2</td>\n",
       "      <td>KB06A</td>\n",
       "      <td>12155642294300</td>\n",
       "      <td>300.0</td>\n",
       "      <td>[101.7920585756707, 2.962773292823094]</td>\n",
       "      <td>275078.71</td>\n",
       "      <td>0.7880</td>\n",
       "      <td>1118.0</td>\n",
       "      <td>Polygon</td>\n",
       "      <td>POLYGON ((101.78944 2.96378, 101.78966 2.96172...</td>\n",
       "    </tr>\n",
       "    <tr>\n",
       "      <th>983</th>\n",
       "      <td>328</td>\n",
       "      <td>12155642294</td>\n",
       "      <td>Kajang 2</td>\n",
       "      <td>KB06A</td>\n",
       "      <td>12155642294600</td>\n",
       "      <td>600.0</td>\n",
       "      <td>[101.7920585756707, 2.962773292823094]</td>\n",
       "      <td>1279931.08</td>\n",
       "      <td>0.9167</td>\n",
       "      <td>5476.0</td>\n",
       "      <td>Polygon</td>\n",
       "      <td>POLYGON ((101.78577 2.96369, 101.78622 2.96092...</td>\n",
       "    </tr>\n",
       "    <tr>\n",
       "      <th>984</th>\n",
       "      <td>328</td>\n",
       "      <td>12155642294</td>\n",
       "      <td>Kajang 2</td>\n",
       "      <td>KB06A</td>\n",
       "      <td>12155642294900</td>\n",
       "      <td>900.0</td>\n",
       "      <td>[101.7920585756707, 2.962773292823094]</td>\n",
       "      <td>2825636.74</td>\n",
       "      <td>0.8994</td>\n",
       "      <td>14115.0</td>\n",
       "      <td>Polygon</td>\n",
       "      <td>POLYGON ((101.78248 2.96367, 101.78248 2.96361...</td>\n",
       "    </tr>\n",
       "  </tbody>\n",
       "</table>\n",
       "<p>985 rows × 12 columns</p>\n",
       "</div>"
      ],
      "text/plain": [
       "     relationship_id  entrance_id station_name station_code    isochrone_id  \\\n",
       "0                  0  10796851698         Pudu         AG10  10796851698300   \n",
       "1                  0  10796851698         Pudu         AG10  10796851698600   \n",
       "2                  0  10796851698         Pudu         AG10  10796851698900   \n",
       "3                  1  10796851698         Pudu         SP10  10796851698300   \n",
       "4                  1  10796851698         Pudu         SP10  10796851698600   \n",
       "..               ...          ...          ...          ...             ...   \n",
       "980              327  12155642293     Kajang 2        KB06A  12155642293600   \n",
       "981              327  12155642293     Kajang 2        KB06A  12155642293900   \n",
       "982              328  12155642294     Kajang 2        KB06A  12155642294300   \n",
       "983              328  12155642294     Kajang 2        KB06A  12155642294600   \n",
       "984              328  12155642294     Kajang 2        KB06A  12155642294900   \n",
       "\n",
       "     value                                  center        area  reachfactor  \\\n",
       "0    300.0                [101.7121408, 3.1347568]   278905.63       0.7990   \n",
       "1    600.0                [101.7121408, 3.1347568]  1366234.08       0.9785   \n",
       "2    900.0                [101.7121408, 3.1347568]  2968558.89       0.9449   \n",
       "3    300.0                [101.7121408, 3.1347568]   278905.63       0.7990   \n",
       "4    600.0                [101.7121408, 3.1347568]  1366234.08       0.9785   \n",
       "..     ...                                     ...         ...          ...   \n",
       "980  600.0  [101.7924757365604, 2.962197483109656]  1132110.23       0.8108   \n",
       "981  900.0  [101.7924757365604, 2.962197483109656]  2647963.56       0.8429   \n",
       "982  300.0  [101.7920585756707, 2.962773292823094]   275078.71       0.7880   \n",
       "983  600.0  [101.7920585756707, 2.962773292823094]  1279931.08       0.9167   \n",
       "984  900.0  [101.7920585756707, 2.962773292823094]  2825636.74       0.8994   \n",
       "\n",
       "     total_pop     type                                           geometry  \n",
       "0       2478.0  Polygon  POLYGON ((101.70965 3.13579, 101.70971 3.13562...  \n",
       "1      13013.0  Polygon  POLYGON ((101.70670 3.13675, 101.70656 3.13563...  \n",
       "2      26537.0  Polygon  POLYGON ((101.70388 3.13690, 101.70406 3.13641...  \n",
       "3       2478.0  Polygon  POLYGON ((101.70965 3.13579, 101.70971 3.13562...  \n",
       "4      13013.0  Polygon  POLYGON ((101.70670 3.13675, 101.70656 3.13563...  \n",
       "..         ...      ...                                                ...  \n",
       "980     5671.0  Polygon  POLYGON ((101.78562 2.96171, 101.78582 2.96056...  \n",
       "981    13241.0  Polygon  POLYGON ((101.78315 2.96410, 101.78342 2.96268...  \n",
       "982     1118.0  Polygon  POLYGON ((101.78944 2.96378, 101.78966 2.96172...  \n",
       "983     5476.0  Polygon  POLYGON ((101.78577 2.96369, 101.78622 2.96092...  \n",
       "984    14115.0  Polygon  POLYGON ((101.78248 2.96367, 101.78248 2.96361...  \n",
       "\n",
       "[985 rows x 12 columns]"
      ]
     },
     "execution_count": 7,
     "metadata": {},
     "output_type": "execute_result"
    }
   ],
   "source": [
    "# Step 1: Left join station_entrances with entrances_isochrones_gdf on entrance_id\n",
    "# This will create a table where each station entrance has corresponding isochrones mapped\n",
    "merged_gdf = stations_entrances_df.merge(entrances_isochrones_gdf, on='entrance_id', how='left')\n",
    "merged_gdf"
   ]
  },
  {
   "cell_type": "code",
   "execution_count": 133,
   "metadata": {},
   "outputs": [],
   "source": [
    "#Iterate stations_gdf table to look up merged_gdf table for entrance isochrones.\n",
    "#If isochrones are found in merged_gdf, \n",
    "\n",
    "from shapely.ops import unary_union\n",
    "from geopandas import GeoDataFrame\n",
    "\n",
    "\n",
    "def generate_station_isochrone(client,station_id,reach_centre,range=900,interval=300):\n",
    "    isochrone_parameters = {\n",
    "              'profile': 'foot-walking', \n",
    "              'range': [range], # 900/60 = 15 mins\n",
    "              'interval': interval,\n",
    "              'attributes': ['area', 'reachfactor', 'total_pop'] # Get population count for isochrones\n",
    "             }\n",
    "\n",
    "    #reach_centre is in the format: [101.7127175, 3.1587619], ie [longitude,latitude]\n",
    "    isochrone_parameters['locations'] = [reach_centre]\n",
    "    isochrones_output = client.isochrones(**isochrone_parameters)\n",
    "\n",
    "    df = pd.json_normalize(isochrones_output['features'])\n",
    "    df = df.drop(columns=['type','properties.group_index'])\n",
    "\n",
    "    #reformate coordinates column\n",
    "    df['geometry.coordinates']=df['geometry.coordinates'].apply(lambda row:row[0])\n",
    "\n",
    "    # Remove 'properties.' and 'geometry.' from the column names\n",
    "    df.columns = df.columns.str.replace('properties.', '', regex=False)\n",
    "    df.columns = df.columns.str.replace('geometry.', '', regex=False)\n",
    "    \n",
    "\n",
    "    #creating a new id key for isochrones. to be inserted in supabase table\n",
    "    df['station_id']=station_id\n",
    "    df['isochrone_id'] = df['station_id'].astype(str) + df['value'].astype(int).astype(str)\n",
    "\n",
    "\n",
    "    # Convert list of coordinates to Polygon objects\n",
    "    df['geometry'] = df['coordinates'].apply(Polygon)\n",
    "    df.drop(columns=['coordinates'],inplace=True)\n",
    "    \n",
    "    # Convert to GeoDataFrame\n",
    "    gdf = gpd.GeoDataFrame(df, geometry='geometry', crs=\"EPSG:4326\")\n",
    "    #gdf['geometry'] = gdf['geometry'].apply(lambda geom: geom.wkt)\n",
    "    gdf['area'] = gdf['area'].astype(float)\n",
    "    gdf['reachfactor'] = gdf['reachfactor'].astype(float)\n",
    "    gdf['total_pop'] = gdf['total_pop'].astype(float)\n",
    "    #area calculation likely wrong. just trying to standardize method\n",
    "    gdf['area'] = gdf['geometry'].area\n",
    "\n",
    "    return gdf   \n",
    "\n",
    "def get_station_isochrone(station_row, merged_gdf,ors_client):\n",
    "    station_code = station_row['station_code']\n",
    "    \n",
    "    # Find all entrances for this station\n",
    "    station_entrances = merged_gdf[merged_gdf['station_code'] == station_code]\n",
    "    \n",
    "    if not station_entrances.empty:\n",
    "        print(\"combining isochrones\")\n",
    "        \n",
    "        average_pop = station_entrances.groupby('value')['total_pop'].mean()\n",
    "        average_reach_factor = station_entrances.groupby('value')['reachfactor'].mean()\n",
    "\n",
    "        reach_centre = station_entrances['center'].iloc[0]\n",
    "\n",
    "        # Group the geometries by 'value' and create unions\n",
    "        grouped_isochrones = station_entrances.groupby('value')['geometry'].apply(unary_union)\n",
    "        # Create a new DataFrame with the combined isochrones\n",
    "        combined_isochrones = gpd.GeoDataFrame(\n",
    "            {'value': grouped_isochrones.index,\n",
    "             'center':reach_centre,\n",
    "             'reachfactor':average_reach_factor,\n",
    "             'total_pop':average_pop},\n",
    "            geometry=grouped_isochrones.values,\n",
    "            crs=\"EPSG:4326\"\n",
    "        )\n",
    "        #creating a new id key for isochrones. to be inserted in supabase table\n",
    "        combined_isochrones['station_id']=station_row['station_id']\n",
    "        combined_isochrones['isochrone_id'] = combined_isochrones['station_id'].astype(str) + combined_isochrones['value'].astype(int).astype(str)        \n",
    "        #area calculation likely wrong. just trying to standardize method\n",
    "        combined_isochrones['area'] = combined_isochrones['geometry'].area\n",
    "        combined_isochrones['type'] = combined_isochrones['geometry'].type\n",
    "        combined_isochrones = combined_isochrones.reset_index(drop=True)\n",
    "        \n",
    "        # If you need to keep other columns from station_row, you can merge them here\n",
    "        # For example:\n",
    "        # result = pd.concat([station_row.drop('geometry', axis=1), combined_isochrones], axis=1)\n",
    "        \n",
    "        return combined_isochrones\n",
    "    \n",
    "    else:\n",
    "        print(\"generating isochrones\")\n",
    "        # If no entrances found, generate new isochrone based on station coordinates\n",
    "        # Extract coordinates (reach_centre) from the geometry\n",
    "        reach_centre = [station_row['geometry'].coords[0][0], station_row['geometry'].coords[0][1]]\n",
    "\n",
    "        return generate_station_isochrone(ors_client,station_row['station_id'],reach_centre)\n",
    "\n",
    "    \n",
    "\n",
    "def update_station_isochrone_supabase(supabase_client,isochrone_geodataframe):\n",
    "    # # Convert list of coordinates to Polygon objects\n",
    "    # isochrone_dataframe['geometry'] = isochrone_dataframe['coordinates'].apply(Polygon)\n",
    "    # isochrone_dataframe.drop(columns=['coordinates'],inplace=True)\n",
    "    \n",
    "    # # Convert to GeoDataFrame\n",
    "    # isochrone_geodataframe = gpd.GeoDataFrame(isochrone_dataframe, geometry='geometry', crs=\"EPSG:4326\")\n",
    "    isochrone_geodataframe['geometry'] = isochrone_geodataframe['geometry'].apply(lambda geom: geom.wkt)\n",
    "    # isochrone_geodataframe['area'] = isochrone_geodataframe['area'].astype(float)\n",
    "    # isochrone_geodataframe['reachfactor'] = isochrone_geodataframe['reachfactor'].astype(float)\n",
    "    # isochrone_geodataframe['total_pop'] = isochrone_geodataframe['total_pop'].astype(float)\n",
    "\n",
    "    isochrone_dict = isochrone_geodataframe.to_dict(('records'))\n",
    "\n",
    "    #upsert will insert the row if it doesn’t exist or update the row if it already exists. \n",
    "    data, error = supabase_client.table('station_isochrones').upsert(isochrone_dict).execute()\n",
    "\n",
    "    return data,error"
   ]
  },
  {
   "cell_type": "code",
   "execution_count": 114,
   "metadata": {},
   "outputs": [
    {
     "data": {
      "text/plain": [
       "name                                       Bank Negara\n",
       "station_code                                      KA03\n",
       "service_provider_name            Keretapi Tanah Melayu\n",
       "latitude                                      3.154542\n",
       "longitude                                    101.69301\n",
       "route_id                                            KA\n",
       "route_name                               Seremban Line\n",
       "line_number                                          1\n",
       "line_colour                                       Blue\n",
       "colour_hex_code                                #0000FF\n",
       "region                                    Klang Valley\n",
       "odonym                                            None\n",
       "namesake                                          None\n",
       "opened                                            None\n",
       "station_id                                           2\n",
       "geometry                 POINT (101.6930105 3.1545422)\n",
       "Name: 1, dtype: object"
      ]
     },
     "execution_count": 114,
     "metadata": {},
     "output_type": "execute_result"
    }
   ],
   "source": [
    "stations_gdf.iloc[1]"
   ]
  },
  {
   "cell_type": "code",
   "execution_count": 115,
   "metadata": {},
   "outputs": [
    {
     "name": "stdout",
     "output_type": "stream",
     "text": [
      "combining isochrones\n"
     ]
    },
    {
     "name": "stderr",
     "output_type": "stream",
     "text": [
      "/var/folders/2s/3b55fy1174l4bfchw66wdl800000gn/T/ipykernel_92403/1834069666.py:80: UserWarning: Geometry is in a geographic CRS. Results from 'area' are likely incorrect. Use 'GeoSeries.to_crs()' to re-project geometries to a projected CRS before this operation.\n",
      "\n",
      "  combined_isochrones['area'] = combined_isochrones['geometry'].area\n"
     ]
    }
   ],
   "source": [
    "sample_combined = get_station_isochrone(stations_gdf.iloc[8],merged_gdf)"
   ]
  },
  {
   "cell_type": "code",
   "execution_count": 118,
   "metadata": {},
   "outputs": [
    {
     "name": "stdout",
     "output_type": "stream",
     "text": [
      "generating isochrones\n"
     ]
    },
    {
     "name": "stderr",
     "output_type": "stream",
     "text": [
      "/var/folders/2s/3b55fy1174l4bfchw66wdl800000gn/T/ipykernel_92403/3341404757.py:47: UserWarning: Geometry is in a geographic CRS. Results from 'area' are likely incorrect. Use 'GeoSeries.to_crs()' to re-project geometries to a projected CRS before this operation.\n",
      "\n",
      "  gdf['area'] = gdf['geometry'].area\n"
     ]
    }
   ],
   "source": [
    "sample_generated = get_station_isochrone(stations_gdf.iloc[9],merged_gdf)"
   ]
  },
  {
   "cell_type": "code",
   "execution_count": 119,
   "metadata": {},
   "outputs": [
    {
     "data": {
      "text/html": [
       "<div>\n",
       "<style scoped>\n",
       "    .dataframe tbody tr th:only-of-type {\n",
       "        vertical-align: middle;\n",
       "    }\n",
       "\n",
       "    .dataframe tbody tr th {\n",
       "        vertical-align: top;\n",
       "    }\n",
       "\n",
       "    .dataframe thead th {\n",
       "        text-align: right;\n",
       "    }\n",
       "</style>\n",
       "<table border=\"1\" class=\"dataframe\">\n",
       "  <thead>\n",
       "    <tr style=\"text-align: right;\">\n",
       "      <th></th>\n",
       "      <th>value</th>\n",
       "      <th>center</th>\n",
       "      <th>area</th>\n",
       "      <th>reachfactor</th>\n",
       "      <th>total_pop</th>\n",
       "      <th>type</th>\n",
       "      <th>station_id</th>\n",
       "      <th>isochrone_id</th>\n",
       "      <th>geometry</th>\n",
       "    </tr>\n",
       "  </thead>\n",
       "  <tbody>\n",
       "    <tr>\n",
       "      <th>0</th>\n",
       "      <td>300.0</td>\n",
       "      <td>[101.78770801629291, 2.9395100221711816]</td>\n",
       "      <td>0.000020</td>\n",
       "      <td>0.7131</td>\n",
       "      <td>839.0</td>\n",
       "      <td>Polygon</td>\n",
       "      <td>10</td>\n",
       "      <td>10300</td>\n",
       "      <td>POLYGON ((101.78521 2.94117, 101.78507 2.93850...</td>\n",
       "    </tr>\n",
       "    <tr>\n",
       "      <th>1</th>\n",
       "      <td>600.0</td>\n",
       "      <td>[101.78770801629291, 2.9395100221711816]</td>\n",
       "      <td>0.000064</td>\n",
       "      <td>0.5661</td>\n",
       "      <td>3355.0</td>\n",
       "      <td>Polygon</td>\n",
       "      <td>10</td>\n",
       "      <td>10600</td>\n",
       "      <td>POLYGON ((101.78476 2.94308, 101.78481 2.94041...</td>\n",
       "    </tr>\n",
       "    <tr>\n",
       "      <th>2</th>\n",
       "      <td>900.0</td>\n",
       "      <td>[101.78770801629291, 2.9395100221711816]</td>\n",
       "      <td>0.000168</td>\n",
       "      <td>0.6630</td>\n",
       "      <td>7410.0</td>\n",
       "      <td>Polygon</td>\n",
       "      <td>10</td>\n",
       "      <td>10900</td>\n",
       "      <td>POLYGON ((101.78450 2.94634, 101.78459 2.94517...</td>\n",
       "    </tr>\n",
       "  </tbody>\n",
       "</table>\n",
       "</div>"
      ],
      "text/plain": [
       "   value                                    center      area  reachfactor  \\\n",
       "0  300.0  [101.78770801629291, 2.9395100221711816]  0.000020       0.7131   \n",
       "1  600.0  [101.78770801629291, 2.9395100221711816]  0.000064       0.5661   \n",
       "2  900.0  [101.78770801629291, 2.9395100221711816]  0.000168       0.6630   \n",
       "\n",
       "   total_pop     type  station_id isochrone_id  \\\n",
       "0      839.0  Polygon          10        10300   \n",
       "1     3355.0  Polygon          10        10600   \n",
       "2     7410.0  Polygon          10        10900   \n",
       "\n",
       "                                            geometry  \n",
       "0  POLYGON ((101.78521 2.94117, 101.78507 2.93850...  \n",
       "1  POLYGON ((101.78476 2.94308, 101.78481 2.94041...  \n",
       "2  POLYGON ((101.78450 2.94634, 101.78459 2.94517...  "
      ]
     },
     "execution_count": 119,
     "metadata": {},
     "output_type": "execute_result"
    }
   ],
   "source": [
    "sample_generated"
   ]
  },
  {
   "cell_type": "code",
   "execution_count": 120,
   "metadata": {},
   "outputs": [
    {
     "data": {
      "text/html": [
       "<div>\n",
       "<style scoped>\n",
       "    .dataframe tbody tr th:only-of-type {\n",
       "        vertical-align: middle;\n",
       "    }\n",
       "\n",
       "    .dataframe tbody tr th {\n",
       "        vertical-align: top;\n",
       "    }\n",
       "\n",
       "    .dataframe thead th {\n",
       "        text-align: right;\n",
       "    }\n",
       "</style>\n",
       "<table border=\"1\" class=\"dataframe\">\n",
       "  <thead>\n",
       "    <tr style=\"text-align: right;\">\n",
       "      <th></th>\n",
       "      <th>value</th>\n",
       "      <th>center</th>\n",
       "      <th>reachfactor</th>\n",
       "      <th>total_pop</th>\n",
       "      <th>geometry</th>\n",
       "      <th>station_id</th>\n",
       "      <th>isochrone_id</th>\n",
       "      <th>area</th>\n",
       "      <th>type</th>\n",
       "    </tr>\n",
       "  </thead>\n",
       "  <tbody>\n",
       "    <tr>\n",
       "      <th>0</th>\n",
       "      <td>300.0</td>\n",
       "      <td>[101.79089, 2.9838212]</td>\n",
       "      <td>0.57035</td>\n",
       "      <td>1331.5</td>\n",
       "      <td>POLYGON ((101.79052 2.98026, 101.79001 2.97965...</td>\n",
       "      <td>9</td>\n",
       "      <td>9300</td>\n",
       "      <td>0.000021</td>\n",
       "      <td>Polygon</td>\n",
       "    </tr>\n",
       "    <tr>\n",
       "      <th>1</th>\n",
       "      <td>600.0</td>\n",
       "      <td>[101.79089, 2.9838212]</td>\n",
       "      <td>0.69160</td>\n",
       "      <td>7168.5</td>\n",
       "      <td>POLYGON ((101.79182 2.97781, 101.79003 2.97581...</td>\n",
       "      <td>9</td>\n",
       "      <td>9600</td>\n",
       "      <td>0.000090</td>\n",
       "      <td>Polygon</td>\n",
       "    </tr>\n",
       "    <tr>\n",
       "      <th>2</th>\n",
       "      <td>900.0</td>\n",
       "      <td>[101.79089, 2.9838212]</td>\n",
       "      <td>0.71805</td>\n",
       "      <td>19265.0</td>\n",
       "      <td>POLYGON ((101.78663 2.98590, 101.78657 2.98624...</td>\n",
       "      <td>9</td>\n",
       "      <td>9900</td>\n",
       "      <td>0.000199</td>\n",
       "      <td>Polygon</td>\n",
       "    </tr>\n",
       "  </tbody>\n",
       "</table>\n",
       "</div>"
      ],
      "text/plain": [
       "   value                  center  reachfactor  total_pop  \\\n",
       "0  300.0  [101.79089, 2.9838212]      0.57035     1331.5   \n",
       "1  600.0  [101.79089, 2.9838212]      0.69160     7168.5   \n",
       "2  900.0  [101.79089, 2.9838212]      0.71805    19265.0   \n",
       "\n",
       "                                            geometry  station_id isochrone_id  \\\n",
       "0  POLYGON ((101.79052 2.98026, 101.79001 2.97965...           9         9300   \n",
       "1  POLYGON ((101.79182 2.97781, 101.79003 2.97581...           9         9600   \n",
       "2  POLYGON ((101.78663 2.98590, 101.78657 2.98624...           9         9900   \n",
       "\n",
       "       area     type  \n",
       "0  0.000021  Polygon  \n",
       "1  0.000090  Polygon  \n",
       "2  0.000199  Polygon  "
      ]
     },
     "execution_count": 120,
     "metadata": {},
     "output_type": "execute_result"
    }
   ],
   "source": [
    "sample_combined"
   ]
  },
  {
   "cell_type": "code",
   "execution_count": 136,
   "metadata": {},
   "outputs": [],
   "source": [
    "# Apply the function to each row in stations_gdf and update in Supabase\n",
    "\n",
    "def process_stations(stations_gdf, merged_gdf,ors_client, supabase_client):\n",
    "    # Iterate over each row in the GeoDataFrame\n",
    "    for index, row in stations_gdf.iterrows():\n",
    "\n",
    "        try:\n",
    "            isochrone_dataframe = get_station_isochrone(\n",
    "                row, \n",
    "                merged_gdf,\n",
    "                ors_client)\n",
    "            \n",
    "            # Update the isochrone data in Supabase using the specified function\n",
    "            update_station_isochrone_supabase(supabase_client, isochrone_dataframe)\n",
    "            print(f'updated {row.station_id}')\n",
    "            \n",
    "        except Exception as e:\n",
    "            # Handle exceptions (e.g., API errors, invalid geometries, etc.)\n",
    "            print(f\"Error processing entrance {row.station_id}: {e}\")"
   ]
  },
  {
   "cell_type": "code",
   "execution_count": 137,
   "metadata": {},
   "outputs": [
    {
     "name": "stdout",
     "output_type": "stream",
     "text": [
      "generating isochrones\n"
     ]
    },
    {
     "name": "stderr",
     "output_type": "stream",
     "text": [
      "/var/folders/2s/3b55fy1174l4bfchw66wdl800000gn/T/ipykernel_92403/2605401413.py:47: UserWarning: Geometry is in a geographic CRS. Results from 'area' are likely incorrect. Use 'GeoSeries.to_crs()' to re-project geometries to a projected CRS before this operation.\n",
      "\n",
      "  gdf['area'] = gdf['geometry'].area\n",
      "/Users/nabilersyad/miniconda3/envs/sql/lib/python3.9/site-packages/geopandas/geodataframe.py:1442: UserWarning: Geometry column does not contain geometry.\n",
      "  warnings.warn(\"Geometry column does not contain geometry.\")\n"
     ]
    },
    {
     "name": "stdout",
     "output_type": "stream",
     "text": [
      "updated 1\n",
      "generating isochrones\n"
     ]
    },
    {
     "name": "stderr",
     "output_type": "stream",
     "text": [
      "/var/folders/2s/3b55fy1174l4bfchw66wdl800000gn/T/ipykernel_92403/2605401413.py:47: UserWarning: Geometry is in a geographic CRS. Results from 'area' are likely incorrect. Use 'GeoSeries.to_crs()' to re-project geometries to a projected CRS before this operation.\n",
      "\n",
      "  gdf['area'] = gdf['geometry'].area\n",
      "/Users/nabilersyad/miniconda3/envs/sql/lib/python3.9/site-packages/geopandas/geodataframe.py:1442: UserWarning: Geometry column does not contain geometry.\n",
      "  warnings.warn(\"Geometry column does not contain geometry.\")\n"
     ]
    },
    {
     "name": "stdout",
     "output_type": "stream",
     "text": [
      "updated 2\n",
      "generating isochrones\n"
     ]
    },
    {
     "name": "stderr",
     "output_type": "stream",
     "text": [
      "/var/folders/2s/3b55fy1174l4bfchw66wdl800000gn/T/ipykernel_92403/2605401413.py:47: UserWarning: Geometry is in a geographic CRS. Results from 'area' are likely incorrect. Use 'GeoSeries.to_crs()' to re-project geometries to a projected CRS before this operation.\n",
      "\n",
      "  gdf['area'] = gdf['geometry'].area\n",
      "/Users/nabilersyad/miniconda3/envs/sql/lib/python3.9/site-packages/geopandas/geodataframe.py:1442: UserWarning: Geometry column does not contain geometry.\n",
      "  warnings.warn(\"Geometry column does not contain geometry.\")\n"
     ]
    },
    {
     "name": "stdout",
     "output_type": "stream",
     "text": [
      "updated 3\n",
      "generating isochrones\n"
     ]
    },
    {
     "name": "stderr",
     "output_type": "stream",
     "text": [
      "/var/folders/2s/3b55fy1174l4bfchw66wdl800000gn/T/ipykernel_92403/2605401413.py:47: UserWarning: Geometry is in a geographic CRS. Results from 'area' are likely incorrect. Use 'GeoSeries.to_crs()' to re-project geometries to a projected CRS before this operation.\n",
      "\n",
      "  gdf['area'] = gdf['geometry'].area\n",
      "/Users/nabilersyad/miniconda3/envs/sql/lib/python3.9/site-packages/geopandas/geodataframe.py:1442: UserWarning: Geometry column does not contain geometry.\n",
      "  warnings.warn(\"Geometry column does not contain geometry.\")\n"
     ]
    },
    {
     "name": "stdout",
     "output_type": "stream",
     "text": [
      "updated 4\n",
      "generating isochrones\n"
     ]
    },
    {
     "name": "stderr",
     "output_type": "stream",
     "text": [
      "/var/folders/2s/3b55fy1174l4bfchw66wdl800000gn/T/ipykernel_92403/2605401413.py:47: UserWarning: Geometry is in a geographic CRS. Results from 'area' are likely incorrect. Use 'GeoSeries.to_crs()' to re-project geometries to a projected CRS before this operation.\n",
      "\n",
      "  gdf['area'] = gdf['geometry'].area\n",
      "/Users/nabilersyad/miniconda3/envs/sql/lib/python3.9/site-packages/geopandas/geodataframe.py:1442: UserWarning: Geometry column does not contain geometry.\n",
      "  warnings.warn(\"Geometry column does not contain geometry.\")\n"
     ]
    },
    {
     "name": "stdout",
     "output_type": "stream",
     "text": [
      "updated 5\n",
      "generating isochrones\n"
     ]
    },
    {
     "name": "stderr",
     "output_type": "stream",
     "text": [
      "/var/folders/2s/3b55fy1174l4bfchw66wdl800000gn/T/ipykernel_92403/2605401413.py:47: UserWarning: Geometry is in a geographic CRS. Results from 'area' are likely incorrect. Use 'GeoSeries.to_crs()' to re-project geometries to a projected CRS before this operation.\n",
      "\n",
      "  gdf['area'] = gdf['geometry'].area\n",
      "/Users/nabilersyad/miniconda3/envs/sql/lib/python3.9/site-packages/geopandas/geodataframe.py:1442: UserWarning: Geometry column does not contain geometry.\n",
      "  warnings.warn(\"Geometry column does not contain geometry.\")\n"
     ]
    },
    {
     "name": "stdout",
     "output_type": "stream",
     "text": [
      "updated 6\n",
      "generating isochrones\n"
     ]
    },
    {
     "name": "stderr",
     "output_type": "stream",
     "text": [
      "/var/folders/2s/3b55fy1174l4bfchw66wdl800000gn/T/ipykernel_92403/2605401413.py:47: UserWarning: Geometry is in a geographic CRS. Results from 'area' are likely incorrect. Use 'GeoSeries.to_crs()' to re-project geometries to a projected CRS before this operation.\n",
      "\n",
      "  gdf['area'] = gdf['geometry'].area\n",
      "/Users/nabilersyad/miniconda3/envs/sql/lib/python3.9/site-packages/geopandas/geodataframe.py:1442: UserWarning: Geometry column does not contain geometry.\n",
      "  warnings.warn(\"Geometry column does not contain geometry.\")\n"
     ]
    },
    {
     "name": "stdout",
     "output_type": "stream",
     "text": [
      "updated 7\n",
      "generating isochrones\n"
     ]
    },
    {
     "name": "stderr",
     "output_type": "stream",
     "text": [
      "/var/folders/2s/3b55fy1174l4bfchw66wdl800000gn/T/ipykernel_92403/2605401413.py:47: UserWarning: Geometry is in a geographic CRS. Results from 'area' are likely incorrect. Use 'GeoSeries.to_crs()' to re-project geometries to a projected CRS before this operation.\n",
      "\n",
      "  gdf['area'] = gdf['geometry'].area\n",
      "/Users/nabilersyad/miniconda3/envs/sql/lib/python3.9/site-packages/geopandas/geodataframe.py:1442: UserWarning: Geometry column does not contain geometry.\n",
      "  warnings.warn(\"Geometry column does not contain geometry.\")\n",
      "/var/folders/2s/3b55fy1174l4bfchw66wdl800000gn/T/ipykernel_92403/2605401413.py:80: UserWarning: Geometry is in a geographic CRS. Results from 'area' are likely incorrect. Use 'GeoSeries.to_crs()' to re-project geometries to a projected CRS before this operation.\n",
      "\n",
      "  combined_isochrones['area'] = combined_isochrones['geometry'].area\n",
      "/Users/nabilersyad/miniconda3/envs/sql/lib/python3.9/site-packages/geopandas/geodataframe.py:1442: UserWarning: Geometry column does not contain geometry.\n",
      "  warnings.warn(\"Geometry column does not contain geometry.\")\n"
     ]
    },
    {
     "name": "stdout",
     "output_type": "stream",
     "text": [
      "updated 8\n",
      "combining isochrones\n",
      "updated 9\n",
      "generating isochrones\n"
     ]
    },
    {
     "name": "stderr",
     "output_type": "stream",
     "text": [
      "/var/folders/2s/3b55fy1174l4bfchw66wdl800000gn/T/ipykernel_92403/2605401413.py:47: UserWarning: Geometry is in a geographic CRS. Results from 'area' are likely incorrect. Use 'GeoSeries.to_crs()' to re-project geometries to a projected CRS before this operation.\n",
      "\n",
      "  gdf['area'] = gdf['geometry'].area\n",
      "/Users/nabilersyad/miniconda3/envs/sql/lib/python3.9/site-packages/geopandas/geodataframe.py:1442: UserWarning: Geometry column does not contain geometry.\n",
      "  warnings.warn(\"Geometry column does not contain geometry.\")\n"
     ]
    },
    {
     "name": "stdout",
     "output_type": "stream",
     "text": [
      "updated 10\n",
      "generating isochrones\n"
     ]
    },
    {
     "name": "stderr",
     "output_type": "stream",
     "text": [
      "/var/folders/2s/3b55fy1174l4bfchw66wdl800000gn/T/ipykernel_92403/2605401413.py:47: UserWarning: Geometry is in a geographic CRS. Results from 'area' are likely incorrect. Use 'GeoSeries.to_crs()' to re-project geometries to a projected CRS before this operation.\n",
      "\n",
      "  gdf['area'] = gdf['geometry'].area\n",
      "/Users/nabilersyad/miniconda3/envs/sql/lib/python3.9/site-packages/geopandas/geodataframe.py:1442: UserWarning: Geometry column does not contain geometry.\n",
      "  warnings.warn(\"Geometry column does not contain geometry.\")\n"
     ]
    },
    {
     "name": "stdout",
     "output_type": "stream",
     "text": [
      "updated 11\n",
      "generating isochrones\n"
     ]
    },
    {
     "name": "stderr",
     "output_type": "stream",
     "text": [
      "/var/folders/2s/3b55fy1174l4bfchw66wdl800000gn/T/ipykernel_92403/2605401413.py:47: UserWarning: Geometry is in a geographic CRS. Results from 'area' are likely incorrect. Use 'GeoSeries.to_crs()' to re-project geometries to a projected CRS before this operation.\n",
      "\n",
      "  gdf['area'] = gdf['geometry'].area\n",
      "/Users/nabilersyad/miniconda3/envs/sql/lib/python3.9/site-packages/geopandas/geodataframe.py:1442: UserWarning: Geometry column does not contain geometry.\n",
      "  warnings.warn(\"Geometry column does not contain geometry.\")\n"
     ]
    },
    {
     "name": "stdout",
     "output_type": "stream",
     "text": [
      "updated 12\n",
      "generating isochrones\n"
     ]
    },
    {
     "name": "stderr",
     "output_type": "stream",
     "text": [
      "/var/folders/2s/3b55fy1174l4bfchw66wdl800000gn/T/ipykernel_92403/2605401413.py:47: UserWarning: Geometry is in a geographic CRS. Results from 'area' are likely incorrect. Use 'GeoSeries.to_crs()' to re-project geometries to a projected CRS before this operation.\n",
      "\n",
      "  gdf['area'] = gdf['geometry'].area\n",
      "/Users/nabilersyad/miniconda3/envs/sql/lib/python3.9/site-packages/geopandas/geodataframe.py:1442: UserWarning: Geometry column does not contain geometry.\n",
      "  warnings.warn(\"Geometry column does not contain geometry.\")\n"
     ]
    },
    {
     "name": "stdout",
     "output_type": "stream",
     "text": [
      "updated 13\n",
      "generating isochrones\n"
     ]
    },
    {
     "name": "stderr",
     "output_type": "stream",
     "text": [
      "/var/folders/2s/3b55fy1174l4bfchw66wdl800000gn/T/ipykernel_92403/2605401413.py:47: UserWarning: Geometry is in a geographic CRS. Results from 'area' are likely incorrect. Use 'GeoSeries.to_crs()' to re-project geometries to a projected CRS before this operation.\n",
      "\n",
      "  gdf['area'] = gdf['geometry'].area\n",
      "/Users/nabilersyad/miniconda3/envs/sql/lib/python3.9/site-packages/geopandas/geodataframe.py:1442: UserWarning: Geometry column does not contain geometry.\n",
      "  warnings.warn(\"Geometry column does not contain geometry.\")\n"
     ]
    },
    {
     "name": "stdout",
     "output_type": "stream",
     "text": [
      "updated 14\n",
      "generating isochrones\n"
     ]
    },
    {
     "name": "stderr",
     "output_type": "stream",
     "text": [
      "/var/folders/2s/3b55fy1174l4bfchw66wdl800000gn/T/ipykernel_92403/2605401413.py:47: UserWarning: Geometry is in a geographic CRS. Results from 'area' are likely incorrect. Use 'GeoSeries.to_crs()' to re-project geometries to a projected CRS before this operation.\n",
      "\n",
      "  gdf['area'] = gdf['geometry'].area\n",
      "/Users/nabilersyad/miniconda3/envs/sql/lib/python3.9/site-packages/geopandas/geodataframe.py:1442: UserWarning: Geometry column does not contain geometry.\n",
      "  warnings.warn(\"Geometry column does not contain geometry.\")\n"
     ]
    },
    {
     "name": "stdout",
     "output_type": "stream",
     "text": [
      "updated 15\n",
      "generating isochrones\n"
     ]
    },
    {
     "name": "stderr",
     "output_type": "stream",
     "text": [
      "/var/folders/2s/3b55fy1174l4bfchw66wdl800000gn/T/ipykernel_92403/2605401413.py:47: UserWarning: Geometry is in a geographic CRS. Results from 'area' are likely incorrect. Use 'GeoSeries.to_crs()' to re-project geometries to a projected CRS before this operation.\n",
      "\n",
      "  gdf['area'] = gdf['geometry'].area\n",
      "/Users/nabilersyad/miniconda3/envs/sql/lib/python3.9/site-packages/geopandas/geodataframe.py:1442: UserWarning: Geometry column does not contain geometry.\n",
      "  warnings.warn(\"Geometry column does not contain geometry.\")\n"
     ]
    },
    {
     "name": "stdout",
     "output_type": "stream",
     "text": [
      "updated 16\n",
      "generating isochrones\n"
     ]
    },
    {
     "name": "stderr",
     "output_type": "stream",
     "text": [
      "/var/folders/2s/3b55fy1174l4bfchw66wdl800000gn/T/ipykernel_92403/2605401413.py:47: UserWarning: Geometry is in a geographic CRS. Results from 'area' are likely incorrect. Use 'GeoSeries.to_crs()' to re-project geometries to a projected CRS before this operation.\n",
      "\n",
      "  gdf['area'] = gdf['geometry'].area\n",
      "/Users/nabilersyad/miniconda3/envs/sql/lib/python3.9/site-packages/geopandas/geodataframe.py:1442: UserWarning: Geometry column does not contain geometry.\n",
      "  warnings.warn(\"Geometry column does not contain geometry.\")\n"
     ]
    },
    {
     "name": "stdout",
     "output_type": "stream",
     "text": [
      "updated 17\n",
      "generating isochrones\n"
     ]
    },
    {
     "name": "stderr",
     "output_type": "stream",
     "text": [
      "/var/folders/2s/3b55fy1174l4bfchw66wdl800000gn/T/ipykernel_92403/2605401413.py:47: UserWarning: Geometry is in a geographic CRS. Results from 'area' are likely incorrect. Use 'GeoSeries.to_crs()' to re-project geometries to a projected CRS before this operation.\n",
      "\n",
      "  gdf['area'] = gdf['geometry'].area\n",
      "/Users/nabilersyad/miniconda3/envs/sql/lib/python3.9/site-packages/geopandas/geodataframe.py:1442: UserWarning: Geometry column does not contain geometry.\n",
      "  warnings.warn(\"Geometry column does not contain geometry.\")\n"
     ]
    },
    {
     "name": "stdout",
     "output_type": "stream",
     "text": [
      "updated 18\n",
      "generating isochrones\n"
     ]
    },
    {
     "name": "stderr",
     "output_type": "stream",
     "text": [
      "/var/folders/2s/3b55fy1174l4bfchw66wdl800000gn/T/ipykernel_92403/2605401413.py:47: UserWarning: Geometry is in a geographic CRS. Results from 'area' are likely incorrect. Use 'GeoSeries.to_crs()' to re-project geometries to a projected CRS before this operation.\n",
      "\n",
      "  gdf['area'] = gdf['geometry'].area\n",
      "/Users/nabilersyad/miniconda3/envs/sql/lib/python3.9/site-packages/geopandas/geodataframe.py:1442: UserWarning: Geometry column does not contain geometry.\n",
      "  warnings.warn(\"Geometry column does not contain geometry.\")\n"
     ]
    },
    {
     "name": "stdout",
     "output_type": "stream",
     "text": [
      "updated 19\n",
      "generating isochrones\n"
     ]
    },
    {
     "name": "stderr",
     "output_type": "stream",
     "text": [
      "/var/folders/2s/3b55fy1174l4bfchw66wdl800000gn/T/ipykernel_92403/2605401413.py:47: UserWarning: Geometry is in a geographic CRS. Results from 'area' are likely incorrect. Use 'GeoSeries.to_crs()' to re-project geometries to a projected CRS before this operation.\n",
      "\n",
      "  gdf['area'] = gdf['geometry'].area\n",
      "/Users/nabilersyad/miniconda3/envs/sql/lib/python3.9/site-packages/geopandas/geodataframe.py:1442: UserWarning: Geometry column does not contain geometry.\n",
      "  warnings.warn(\"Geometry column does not contain geometry.\")\n"
     ]
    },
    {
     "name": "stdout",
     "output_type": "stream",
     "text": [
      "updated 20\n",
      "generating isochrones\n"
     ]
    },
    {
     "name": "stderr",
     "output_type": "stream",
     "text": [
      "/Users/nabilersyad/miniconda3/envs/sql/lib/python3.9/site-packages/openrouteservice/client.py:211: UserWarning: Rate limit exceeded. Retrying for the 1st time.\n",
      "  warnings.warn('Rate limit exceeded. Retrying for the {0}{1} time.'.format(retry_counter + 1,\n",
      "/Users/nabilersyad/miniconda3/envs/sql/lib/python3.9/site-packages/openrouteservice/client.py:211: UserWarning: Rate limit exceeded. Retrying for the 2nd time.\n",
      "  warnings.warn('Rate limit exceeded. Retrying for the {0}{1} time.'.format(retry_counter + 1,\n",
      "/Users/nabilersyad/miniconda3/envs/sql/lib/python3.9/site-packages/openrouteservice/client.py:211: UserWarning: Rate limit exceeded. Retrying for the 3rd time.\n",
      "  warnings.warn('Rate limit exceeded. Retrying for the {0}{1} time.'.format(retry_counter + 1,\n",
      "/Users/nabilersyad/miniconda3/envs/sql/lib/python3.9/site-packages/openrouteservice/client.py:211: UserWarning: Rate limit exceeded. Retrying for the 4th time.\n",
      "  warnings.warn('Rate limit exceeded. Retrying for the {0}{1} time.'.format(retry_counter + 1,\n",
      "/Users/nabilersyad/miniconda3/envs/sql/lib/python3.9/site-packages/openrouteservice/client.py:211: UserWarning: Rate limit exceeded. Retrying for the 5th time.\n",
      "  warnings.warn('Rate limit exceeded. Retrying for the {0}{1} time.'.format(retry_counter + 1,\n",
      "/Users/nabilersyad/miniconda3/envs/sql/lib/python3.9/site-packages/openrouteservice/client.py:211: UserWarning: Rate limit exceeded. Retrying for the 6th time.\n",
      "  warnings.warn('Rate limit exceeded. Retrying for the {0}{1} time.'.format(retry_counter + 1,\n",
      "/Users/nabilersyad/miniconda3/envs/sql/lib/python3.9/site-packages/openrouteservice/client.py:211: UserWarning: Rate limit exceeded. Retrying for the 7th time.\n",
      "  warnings.warn('Rate limit exceeded. Retrying for the {0}{1} time.'.format(retry_counter + 1,\n",
      "/Users/nabilersyad/miniconda3/envs/sql/lib/python3.9/site-packages/openrouteservice/client.py:211: UserWarning: Rate limit exceeded. Retrying for the 8th time.\n",
      "  warnings.warn('Rate limit exceeded. Retrying for the {0}{1} time.'.format(retry_counter + 1,\n",
      "/Users/nabilersyad/miniconda3/envs/sql/lib/python3.9/site-packages/openrouteservice/client.py:211: UserWarning: Rate limit exceeded. Retrying for the 9th time.\n",
      "  warnings.warn('Rate limit exceeded. Retrying for the {0}{1} time.'.format(retry_counter + 1,\n",
      "/var/folders/2s/3b55fy1174l4bfchw66wdl800000gn/T/ipykernel_92403/2605401413.py:47: UserWarning: Geometry is in a geographic CRS. Results from 'area' are likely incorrect. Use 'GeoSeries.to_crs()' to re-project geometries to a projected CRS before this operation.\n",
      "\n",
      "  gdf['area'] = gdf['geometry'].area\n",
      "/Users/nabilersyad/miniconda3/envs/sql/lib/python3.9/site-packages/geopandas/geodataframe.py:1442: UserWarning: Geometry column does not contain geometry.\n",
      "  warnings.warn(\"Geometry column does not contain geometry.\")\n"
     ]
    },
    {
     "name": "stdout",
     "output_type": "stream",
     "text": [
      "updated 21\n",
      "generating isochrones\n"
     ]
    },
    {
     "name": "stderr",
     "output_type": "stream",
     "text": [
      "/var/folders/2s/3b55fy1174l4bfchw66wdl800000gn/T/ipykernel_92403/2605401413.py:47: UserWarning: Geometry is in a geographic CRS. Results from 'area' are likely incorrect. Use 'GeoSeries.to_crs()' to re-project geometries to a projected CRS before this operation.\n",
      "\n",
      "  gdf['area'] = gdf['geometry'].area\n",
      "/Users/nabilersyad/miniconda3/envs/sql/lib/python3.9/site-packages/geopandas/geodataframe.py:1442: UserWarning: Geometry column does not contain geometry.\n",
      "  warnings.warn(\"Geometry column does not contain geometry.\")\n"
     ]
    },
    {
     "name": "stdout",
     "output_type": "stream",
     "text": [
      "updated 22\n",
      "generating isochrones\n"
     ]
    },
    {
     "name": "stderr",
     "output_type": "stream",
     "text": [
      "/var/folders/2s/3b55fy1174l4bfchw66wdl800000gn/T/ipykernel_92403/2605401413.py:47: UserWarning: Geometry is in a geographic CRS. Results from 'area' are likely incorrect. Use 'GeoSeries.to_crs()' to re-project geometries to a projected CRS before this operation.\n",
      "\n",
      "  gdf['area'] = gdf['geometry'].area\n",
      "/Users/nabilersyad/miniconda3/envs/sql/lib/python3.9/site-packages/geopandas/geodataframe.py:1442: UserWarning: Geometry column does not contain geometry.\n",
      "  warnings.warn(\"Geometry column does not contain geometry.\")\n"
     ]
    },
    {
     "name": "stdout",
     "output_type": "stream",
     "text": [
      "updated 23\n",
      "generating isochrones\n"
     ]
    },
    {
     "name": "stderr",
     "output_type": "stream",
     "text": [
      "/var/folders/2s/3b55fy1174l4bfchw66wdl800000gn/T/ipykernel_92403/2605401413.py:47: UserWarning: Geometry is in a geographic CRS. Results from 'area' are likely incorrect. Use 'GeoSeries.to_crs()' to re-project geometries to a projected CRS before this operation.\n",
      "\n",
      "  gdf['area'] = gdf['geometry'].area\n",
      "/Users/nabilersyad/miniconda3/envs/sql/lib/python3.9/site-packages/geopandas/geodataframe.py:1442: UserWarning: Geometry column does not contain geometry.\n",
      "  warnings.warn(\"Geometry column does not contain geometry.\")\n"
     ]
    },
    {
     "name": "stdout",
     "output_type": "stream",
     "text": [
      "updated 24\n",
      "generating isochrones\n"
     ]
    },
    {
     "name": "stderr",
     "output_type": "stream",
     "text": [
      "/var/folders/2s/3b55fy1174l4bfchw66wdl800000gn/T/ipykernel_92403/2605401413.py:47: UserWarning: Geometry is in a geographic CRS. Results from 'area' are likely incorrect. Use 'GeoSeries.to_crs()' to re-project geometries to a projected CRS before this operation.\n",
      "\n",
      "  gdf['area'] = gdf['geometry'].area\n",
      "/Users/nabilersyad/miniconda3/envs/sql/lib/python3.9/site-packages/geopandas/geodataframe.py:1442: UserWarning: Geometry column does not contain geometry.\n",
      "  warnings.warn(\"Geometry column does not contain geometry.\")\n"
     ]
    },
    {
     "name": "stdout",
     "output_type": "stream",
     "text": [
      "updated 25\n",
      "generating isochrones\n"
     ]
    },
    {
     "name": "stderr",
     "output_type": "stream",
     "text": [
      "/var/folders/2s/3b55fy1174l4bfchw66wdl800000gn/T/ipykernel_92403/2605401413.py:47: UserWarning: Geometry is in a geographic CRS. Results from 'area' are likely incorrect. Use 'GeoSeries.to_crs()' to re-project geometries to a projected CRS before this operation.\n",
      "\n",
      "  gdf['area'] = gdf['geometry'].area\n",
      "/Users/nabilersyad/miniconda3/envs/sql/lib/python3.9/site-packages/geopandas/geodataframe.py:1442: UserWarning: Geometry column does not contain geometry.\n",
      "  warnings.warn(\"Geometry column does not contain geometry.\")\n"
     ]
    },
    {
     "name": "stdout",
     "output_type": "stream",
     "text": [
      "updated 26\n",
      "generating isochrones\n"
     ]
    },
    {
     "name": "stderr",
     "output_type": "stream",
     "text": [
      "/var/folders/2s/3b55fy1174l4bfchw66wdl800000gn/T/ipykernel_92403/2605401413.py:47: UserWarning: Geometry is in a geographic CRS. Results from 'area' are likely incorrect. Use 'GeoSeries.to_crs()' to re-project geometries to a projected CRS before this operation.\n",
      "\n",
      "  gdf['area'] = gdf['geometry'].area\n",
      "/Users/nabilersyad/miniconda3/envs/sql/lib/python3.9/site-packages/geopandas/geodataframe.py:1442: UserWarning: Geometry column does not contain geometry.\n",
      "  warnings.warn(\"Geometry column does not contain geometry.\")\n"
     ]
    },
    {
     "name": "stdout",
     "output_type": "stream",
     "text": [
      "updated 27\n",
      "generating isochrones\n"
     ]
    },
    {
     "name": "stderr",
     "output_type": "stream",
     "text": [
      "/var/folders/2s/3b55fy1174l4bfchw66wdl800000gn/T/ipykernel_92403/2605401413.py:47: UserWarning: Geometry is in a geographic CRS. Results from 'area' are likely incorrect. Use 'GeoSeries.to_crs()' to re-project geometries to a projected CRS before this operation.\n",
      "\n",
      "  gdf['area'] = gdf['geometry'].area\n",
      "/Users/nabilersyad/miniconda3/envs/sql/lib/python3.9/site-packages/geopandas/geodataframe.py:1442: UserWarning: Geometry column does not contain geometry.\n",
      "  warnings.warn(\"Geometry column does not contain geometry.\")\n"
     ]
    },
    {
     "name": "stdout",
     "output_type": "stream",
     "text": [
      "updated 28\n",
      "generating isochrones\n"
     ]
    },
    {
     "name": "stderr",
     "output_type": "stream",
     "text": [
      "/var/folders/2s/3b55fy1174l4bfchw66wdl800000gn/T/ipykernel_92403/2605401413.py:47: UserWarning: Geometry is in a geographic CRS. Results from 'area' are likely incorrect. Use 'GeoSeries.to_crs()' to re-project geometries to a projected CRS before this operation.\n",
      "\n",
      "  gdf['area'] = gdf['geometry'].area\n",
      "/Users/nabilersyad/miniconda3/envs/sql/lib/python3.9/site-packages/geopandas/geodataframe.py:1442: UserWarning: Geometry column does not contain geometry.\n",
      "  warnings.warn(\"Geometry column does not contain geometry.\")\n"
     ]
    },
    {
     "name": "stdout",
     "output_type": "stream",
     "text": [
      "updated 29\n",
      "generating isochrones\n"
     ]
    },
    {
     "name": "stderr",
     "output_type": "stream",
     "text": [
      "/var/folders/2s/3b55fy1174l4bfchw66wdl800000gn/T/ipykernel_92403/2605401413.py:47: UserWarning: Geometry is in a geographic CRS. Results from 'area' are likely incorrect. Use 'GeoSeries.to_crs()' to re-project geometries to a projected CRS before this operation.\n",
      "\n",
      "  gdf['area'] = gdf['geometry'].area\n",
      "/Users/nabilersyad/miniconda3/envs/sql/lib/python3.9/site-packages/geopandas/geodataframe.py:1442: UserWarning: Geometry column does not contain geometry.\n",
      "  warnings.warn(\"Geometry column does not contain geometry.\")\n"
     ]
    },
    {
     "name": "stdout",
     "output_type": "stream",
     "text": [
      "updated 30\n",
      "generating isochrones\n"
     ]
    },
    {
     "name": "stderr",
     "output_type": "stream",
     "text": [
      "/var/folders/2s/3b55fy1174l4bfchw66wdl800000gn/T/ipykernel_92403/2605401413.py:47: UserWarning: Geometry is in a geographic CRS. Results from 'area' are likely incorrect. Use 'GeoSeries.to_crs()' to re-project geometries to a projected CRS before this operation.\n",
      "\n",
      "  gdf['area'] = gdf['geometry'].area\n",
      "/Users/nabilersyad/miniconda3/envs/sql/lib/python3.9/site-packages/geopandas/geodataframe.py:1442: UserWarning: Geometry column does not contain geometry.\n",
      "  warnings.warn(\"Geometry column does not contain geometry.\")\n"
     ]
    },
    {
     "name": "stdout",
     "output_type": "stream",
     "text": [
      "updated 31\n",
      "generating isochrones\n"
     ]
    },
    {
     "name": "stderr",
     "output_type": "stream",
     "text": [
      "/var/folders/2s/3b55fy1174l4bfchw66wdl800000gn/T/ipykernel_92403/2605401413.py:47: UserWarning: Geometry is in a geographic CRS. Results from 'area' are likely incorrect. Use 'GeoSeries.to_crs()' to re-project geometries to a projected CRS before this operation.\n",
      "\n",
      "  gdf['area'] = gdf['geometry'].area\n",
      "/Users/nabilersyad/miniconda3/envs/sql/lib/python3.9/site-packages/geopandas/geodataframe.py:1442: UserWarning: Geometry column does not contain geometry.\n",
      "  warnings.warn(\"Geometry column does not contain geometry.\")\n"
     ]
    },
    {
     "name": "stdout",
     "output_type": "stream",
     "text": [
      "updated 32\n",
      "generating isochrones\n"
     ]
    },
    {
     "name": "stderr",
     "output_type": "stream",
     "text": [
      "/var/folders/2s/3b55fy1174l4bfchw66wdl800000gn/T/ipykernel_92403/2605401413.py:47: UserWarning: Geometry is in a geographic CRS. Results from 'area' are likely incorrect. Use 'GeoSeries.to_crs()' to re-project geometries to a projected CRS before this operation.\n",
      "\n",
      "  gdf['area'] = gdf['geometry'].area\n",
      "/Users/nabilersyad/miniconda3/envs/sql/lib/python3.9/site-packages/geopandas/geodataframe.py:1442: UserWarning: Geometry column does not contain geometry.\n",
      "  warnings.warn(\"Geometry column does not contain geometry.\")\n"
     ]
    },
    {
     "name": "stdout",
     "output_type": "stream",
     "text": [
      "updated 33\n",
      "generating isochrones\n"
     ]
    },
    {
     "name": "stderr",
     "output_type": "stream",
     "text": [
      "/var/folders/2s/3b55fy1174l4bfchw66wdl800000gn/T/ipykernel_92403/2605401413.py:47: UserWarning: Geometry is in a geographic CRS. Results from 'area' are likely incorrect. Use 'GeoSeries.to_crs()' to re-project geometries to a projected CRS before this operation.\n",
      "\n",
      "  gdf['area'] = gdf['geometry'].area\n",
      "/Users/nabilersyad/miniconda3/envs/sql/lib/python3.9/site-packages/geopandas/geodataframe.py:1442: UserWarning: Geometry column does not contain geometry.\n",
      "  warnings.warn(\"Geometry column does not contain geometry.\")\n"
     ]
    },
    {
     "name": "stdout",
     "output_type": "stream",
     "text": [
      "updated 34\n",
      "generating isochrones\n"
     ]
    },
    {
     "name": "stderr",
     "output_type": "stream",
     "text": [
      "/var/folders/2s/3b55fy1174l4bfchw66wdl800000gn/T/ipykernel_92403/2605401413.py:47: UserWarning: Geometry is in a geographic CRS. Results from 'area' are likely incorrect. Use 'GeoSeries.to_crs()' to re-project geometries to a projected CRS before this operation.\n",
      "\n",
      "  gdf['area'] = gdf['geometry'].area\n",
      "/Users/nabilersyad/miniconda3/envs/sql/lib/python3.9/site-packages/geopandas/geodataframe.py:1442: UserWarning: Geometry column does not contain geometry.\n",
      "  warnings.warn(\"Geometry column does not contain geometry.\")\n"
     ]
    },
    {
     "name": "stdout",
     "output_type": "stream",
     "text": [
      "updated 35\n",
      "generating isochrones\n"
     ]
    },
    {
     "name": "stderr",
     "output_type": "stream",
     "text": [
      "/var/folders/2s/3b55fy1174l4bfchw66wdl800000gn/T/ipykernel_92403/2605401413.py:47: UserWarning: Geometry is in a geographic CRS. Results from 'area' are likely incorrect. Use 'GeoSeries.to_crs()' to re-project geometries to a projected CRS before this operation.\n",
      "\n",
      "  gdf['area'] = gdf['geometry'].area\n",
      "/Users/nabilersyad/miniconda3/envs/sql/lib/python3.9/site-packages/geopandas/geodataframe.py:1442: UserWarning: Geometry column does not contain geometry.\n",
      "  warnings.warn(\"Geometry column does not contain geometry.\")\n"
     ]
    },
    {
     "name": "stdout",
     "output_type": "stream",
     "text": [
      "updated 36\n",
      "generating isochrones\n"
     ]
    },
    {
     "name": "stderr",
     "output_type": "stream",
     "text": [
      "/var/folders/2s/3b55fy1174l4bfchw66wdl800000gn/T/ipykernel_92403/2605401413.py:47: UserWarning: Geometry is in a geographic CRS. Results from 'area' are likely incorrect. Use 'GeoSeries.to_crs()' to re-project geometries to a projected CRS before this operation.\n",
      "\n",
      "  gdf['area'] = gdf['geometry'].area\n",
      "/Users/nabilersyad/miniconda3/envs/sql/lib/python3.9/site-packages/geopandas/geodataframe.py:1442: UserWarning: Geometry column does not contain geometry.\n",
      "  warnings.warn(\"Geometry column does not contain geometry.\")\n"
     ]
    },
    {
     "name": "stdout",
     "output_type": "stream",
     "text": [
      "updated 37\n",
      "generating isochrones\n"
     ]
    },
    {
     "name": "stderr",
     "output_type": "stream",
     "text": [
      "/Users/nabilersyad/miniconda3/envs/sql/lib/python3.9/site-packages/openrouteservice/client.py:211: UserWarning: Rate limit exceeded. Retrying for the 1st time.\n",
      "  warnings.warn('Rate limit exceeded. Retrying for the {0}{1} time.'.format(retry_counter + 1,\n",
      "/Users/nabilersyad/miniconda3/envs/sql/lib/python3.9/site-packages/openrouteservice/client.py:211: UserWarning: Rate limit exceeded. Retrying for the 2nd time.\n",
      "  warnings.warn('Rate limit exceeded. Retrying for the {0}{1} time.'.format(retry_counter + 1,\n",
      "/Users/nabilersyad/miniconda3/envs/sql/lib/python3.9/site-packages/openrouteservice/client.py:211: UserWarning: Rate limit exceeded. Retrying for the 3rd time.\n",
      "  warnings.warn('Rate limit exceeded. Retrying for the {0}{1} time.'.format(retry_counter + 1,\n",
      "/Users/nabilersyad/miniconda3/envs/sql/lib/python3.9/site-packages/openrouteservice/client.py:211: UserWarning: Rate limit exceeded. Retrying for the 4th time.\n",
      "  warnings.warn('Rate limit exceeded. Retrying for the {0}{1} time.'.format(retry_counter + 1,\n",
      "/Users/nabilersyad/miniconda3/envs/sql/lib/python3.9/site-packages/openrouteservice/client.py:211: UserWarning: Rate limit exceeded. Retrying for the 5th time.\n",
      "  warnings.warn('Rate limit exceeded. Retrying for the {0}{1} time.'.format(retry_counter + 1,\n",
      "/Users/nabilersyad/miniconda3/envs/sql/lib/python3.9/site-packages/openrouteservice/client.py:211: UserWarning: Rate limit exceeded. Retrying for the 6th time.\n",
      "  warnings.warn('Rate limit exceeded. Retrying for the {0}{1} time.'.format(retry_counter + 1,\n",
      "/Users/nabilersyad/miniconda3/envs/sql/lib/python3.9/site-packages/openrouteservice/client.py:211: UserWarning: Rate limit exceeded. Retrying for the 7th time.\n",
      "  warnings.warn('Rate limit exceeded. Retrying for the {0}{1} time.'.format(retry_counter + 1,\n",
      "/Users/nabilersyad/miniconda3/envs/sql/lib/python3.9/site-packages/openrouteservice/client.py:211: UserWarning: Rate limit exceeded. Retrying for the 8th time.\n",
      "  warnings.warn('Rate limit exceeded. Retrying for the {0}{1} time.'.format(retry_counter + 1,\n",
      "/Users/nabilersyad/miniconda3/envs/sql/lib/python3.9/site-packages/openrouteservice/client.py:211: UserWarning: Rate limit exceeded. Retrying for the 9th time.\n",
      "  warnings.warn('Rate limit exceeded. Retrying for the {0}{1} time.'.format(retry_counter + 1,\n",
      "/var/folders/2s/3b55fy1174l4bfchw66wdl800000gn/T/ipykernel_92403/2605401413.py:47: UserWarning: Geometry is in a geographic CRS. Results from 'area' are likely incorrect. Use 'GeoSeries.to_crs()' to re-project geometries to a projected CRS before this operation.\n",
      "\n",
      "  gdf['area'] = gdf['geometry'].area\n",
      "/Users/nabilersyad/miniconda3/envs/sql/lib/python3.9/site-packages/geopandas/geodataframe.py:1442: UserWarning: Geometry column does not contain geometry.\n",
      "  warnings.warn(\"Geometry column does not contain geometry.\")\n"
     ]
    },
    {
     "name": "stdout",
     "output_type": "stream",
     "text": [
      "updated 38\n",
      "generating isochrones\n"
     ]
    },
    {
     "name": "stderr",
     "output_type": "stream",
     "text": [
      "/var/folders/2s/3b55fy1174l4bfchw66wdl800000gn/T/ipykernel_92403/2605401413.py:47: UserWarning: Geometry is in a geographic CRS. Results from 'area' are likely incorrect. Use 'GeoSeries.to_crs()' to re-project geometries to a projected CRS before this operation.\n",
      "\n",
      "  gdf['area'] = gdf['geometry'].area\n",
      "/Users/nabilersyad/miniconda3/envs/sql/lib/python3.9/site-packages/geopandas/geodataframe.py:1442: UserWarning: Geometry column does not contain geometry.\n",
      "  warnings.warn(\"Geometry column does not contain geometry.\")\n"
     ]
    },
    {
     "name": "stdout",
     "output_type": "stream",
     "text": [
      "updated 39\n",
      "generating isochrones\n"
     ]
    },
    {
     "name": "stderr",
     "output_type": "stream",
     "text": [
      "/var/folders/2s/3b55fy1174l4bfchw66wdl800000gn/T/ipykernel_92403/2605401413.py:47: UserWarning: Geometry is in a geographic CRS. Results from 'area' are likely incorrect. Use 'GeoSeries.to_crs()' to re-project geometries to a projected CRS before this operation.\n",
      "\n",
      "  gdf['area'] = gdf['geometry'].area\n",
      "/Users/nabilersyad/miniconda3/envs/sql/lib/python3.9/site-packages/geopandas/geodataframe.py:1442: UserWarning: Geometry column does not contain geometry.\n",
      "  warnings.warn(\"Geometry column does not contain geometry.\")\n"
     ]
    },
    {
     "name": "stdout",
     "output_type": "stream",
     "text": [
      "updated 40\n",
      "generating isochrones\n"
     ]
    },
    {
     "name": "stderr",
     "output_type": "stream",
     "text": [
      "/var/folders/2s/3b55fy1174l4bfchw66wdl800000gn/T/ipykernel_92403/2605401413.py:47: UserWarning: Geometry is in a geographic CRS. Results from 'area' are likely incorrect. Use 'GeoSeries.to_crs()' to re-project geometries to a projected CRS before this operation.\n",
      "\n",
      "  gdf['area'] = gdf['geometry'].area\n",
      "/Users/nabilersyad/miniconda3/envs/sql/lib/python3.9/site-packages/geopandas/geodataframe.py:1442: UserWarning: Geometry column does not contain geometry.\n",
      "  warnings.warn(\"Geometry column does not contain geometry.\")\n"
     ]
    },
    {
     "name": "stdout",
     "output_type": "stream",
     "text": [
      "updated 41\n",
      "generating isochrones\n"
     ]
    },
    {
     "name": "stderr",
     "output_type": "stream",
     "text": [
      "/var/folders/2s/3b55fy1174l4bfchw66wdl800000gn/T/ipykernel_92403/2605401413.py:47: UserWarning: Geometry is in a geographic CRS. Results from 'area' are likely incorrect. Use 'GeoSeries.to_crs()' to re-project geometries to a projected CRS before this operation.\n",
      "\n",
      "  gdf['area'] = gdf['geometry'].area\n",
      "/Users/nabilersyad/miniconda3/envs/sql/lib/python3.9/site-packages/geopandas/geodataframe.py:1442: UserWarning: Geometry column does not contain geometry.\n",
      "  warnings.warn(\"Geometry column does not contain geometry.\")\n"
     ]
    },
    {
     "name": "stdout",
     "output_type": "stream",
     "text": [
      "updated 42\n",
      "generating isochrones\n"
     ]
    },
    {
     "name": "stderr",
     "output_type": "stream",
     "text": [
      "/var/folders/2s/3b55fy1174l4bfchw66wdl800000gn/T/ipykernel_92403/2605401413.py:47: UserWarning: Geometry is in a geographic CRS. Results from 'area' are likely incorrect. Use 'GeoSeries.to_crs()' to re-project geometries to a projected CRS before this operation.\n",
      "\n",
      "  gdf['area'] = gdf['geometry'].area\n",
      "/Users/nabilersyad/miniconda3/envs/sql/lib/python3.9/site-packages/geopandas/geodataframe.py:1442: UserWarning: Geometry column does not contain geometry.\n",
      "  warnings.warn(\"Geometry column does not contain geometry.\")\n"
     ]
    },
    {
     "name": "stdout",
     "output_type": "stream",
     "text": [
      "updated 43\n",
      "generating isochrones\n"
     ]
    },
    {
     "name": "stderr",
     "output_type": "stream",
     "text": [
      "/var/folders/2s/3b55fy1174l4bfchw66wdl800000gn/T/ipykernel_92403/2605401413.py:47: UserWarning: Geometry is in a geographic CRS. Results from 'area' are likely incorrect. Use 'GeoSeries.to_crs()' to re-project geometries to a projected CRS before this operation.\n",
      "\n",
      "  gdf['area'] = gdf['geometry'].area\n",
      "/Users/nabilersyad/miniconda3/envs/sql/lib/python3.9/site-packages/geopandas/geodataframe.py:1442: UserWarning: Geometry column does not contain geometry.\n",
      "  warnings.warn(\"Geometry column does not contain geometry.\")\n"
     ]
    },
    {
     "name": "stdout",
     "output_type": "stream",
     "text": [
      "updated 44\n",
      "generating isochrones\n"
     ]
    },
    {
     "name": "stderr",
     "output_type": "stream",
     "text": [
      "/var/folders/2s/3b55fy1174l4bfchw66wdl800000gn/T/ipykernel_92403/2605401413.py:47: UserWarning: Geometry is in a geographic CRS. Results from 'area' are likely incorrect. Use 'GeoSeries.to_crs()' to re-project geometries to a projected CRS before this operation.\n",
      "\n",
      "  gdf['area'] = gdf['geometry'].area\n",
      "/Users/nabilersyad/miniconda3/envs/sql/lib/python3.9/site-packages/geopandas/geodataframe.py:1442: UserWarning: Geometry column does not contain geometry.\n",
      "  warnings.warn(\"Geometry column does not contain geometry.\")\n"
     ]
    },
    {
     "name": "stdout",
     "output_type": "stream",
     "text": [
      "updated 45\n",
      "generating isochrones\n"
     ]
    },
    {
     "name": "stderr",
     "output_type": "stream",
     "text": [
      "/var/folders/2s/3b55fy1174l4bfchw66wdl800000gn/T/ipykernel_92403/2605401413.py:47: UserWarning: Geometry is in a geographic CRS. Results from 'area' are likely incorrect. Use 'GeoSeries.to_crs()' to re-project geometries to a projected CRS before this operation.\n",
      "\n",
      "  gdf['area'] = gdf['geometry'].area\n",
      "/Users/nabilersyad/miniconda3/envs/sql/lib/python3.9/site-packages/geopandas/geodataframe.py:1442: UserWarning: Geometry column does not contain geometry.\n",
      "  warnings.warn(\"Geometry column does not contain geometry.\")\n"
     ]
    },
    {
     "name": "stdout",
     "output_type": "stream",
     "text": [
      "updated 46\n",
      "generating isochrones\n"
     ]
    },
    {
     "name": "stderr",
     "output_type": "stream",
     "text": [
      "/var/folders/2s/3b55fy1174l4bfchw66wdl800000gn/T/ipykernel_92403/2605401413.py:47: UserWarning: Geometry is in a geographic CRS. Results from 'area' are likely incorrect. Use 'GeoSeries.to_crs()' to re-project geometries to a projected CRS before this operation.\n",
      "\n",
      "  gdf['area'] = gdf['geometry'].area\n",
      "/Users/nabilersyad/miniconda3/envs/sql/lib/python3.9/site-packages/geopandas/geodataframe.py:1442: UserWarning: Geometry column does not contain geometry.\n",
      "  warnings.warn(\"Geometry column does not contain geometry.\")\n"
     ]
    },
    {
     "name": "stdout",
     "output_type": "stream",
     "text": [
      "updated 47\n",
      "generating isochrones\n"
     ]
    },
    {
     "name": "stderr",
     "output_type": "stream",
     "text": [
      "/var/folders/2s/3b55fy1174l4bfchw66wdl800000gn/T/ipykernel_92403/2605401413.py:47: UserWarning: Geometry is in a geographic CRS. Results from 'area' are likely incorrect. Use 'GeoSeries.to_crs()' to re-project geometries to a projected CRS before this operation.\n",
      "\n",
      "  gdf['area'] = gdf['geometry'].area\n",
      "/Users/nabilersyad/miniconda3/envs/sql/lib/python3.9/site-packages/geopandas/geodataframe.py:1442: UserWarning: Geometry column does not contain geometry.\n",
      "  warnings.warn(\"Geometry column does not contain geometry.\")\n"
     ]
    },
    {
     "name": "stdout",
     "output_type": "stream",
     "text": [
      "updated 48\n",
      "generating isochrones\n"
     ]
    },
    {
     "name": "stderr",
     "output_type": "stream",
     "text": [
      "/var/folders/2s/3b55fy1174l4bfchw66wdl800000gn/T/ipykernel_92403/2605401413.py:47: UserWarning: Geometry is in a geographic CRS. Results from 'area' are likely incorrect. Use 'GeoSeries.to_crs()' to re-project geometries to a projected CRS before this operation.\n",
      "\n",
      "  gdf['area'] = gdf['geometry'].area\n",
      "/Users/nabilersyad/miniconda3/envs/sql/lib/python3.9/site-packages/geopandas/geodataframe.py:1442: UserWarning: Geometry column does not contain geometry.\n",
      "  warnings.warn(\"Geometry column does not contain geometry.\")\n"
     ]
    },
    {
     "name": "stdout",
     "output_type": "stream",
     "text": [
      "updated 49\n",
      "generating isochrones\n"
     ]
    },
    {
     "name": "stderr",
     "output_type": "stream",
     "text": [
      "/var/folders/2s/3b55fy1174l4bfchw66wdl800000gn/T/ipykernel_92403/2605401413.py:47: UserWarning: Geometry is in a geographic CRS. Results from 'area' are likely incorrect. Use 'GeoSeries.to_crs()' to re-project geometries to a projected CRS before this operation.\n",
      "\n",
      "  gdf['area'] = gdf['geometry'].area\n",
      "/Users/nabilersyad/miniconda3/envs/sql/lib/python3.9/site-packages/geopandas/geodataframe.py:1442: UserWarning: Geometry column does not contain geometry.\n",
      "  warnings.warn(\"Geometry column does not contain geometry.\")\n"
     ]
    },
    {
     "name": "stdout",
     "output_type": "stream",
     "text": [
      "updated 50\n",
      "generating isochrones\n"
     ]
    },
    {
     "name": "stderr",
     "output_type": "stream",
     "text": [
      "/var/folders/2s/3b55fy1174l4bfchw66wdl800000gn/T/ipykernel_92403/2605401413.py:47: UserWarning: Geometry is in a geographic CRS. Results from 'area' are likely incorrect. Use 'GeoSeries.to_crs()' to re-project geometries to a projected CRS before this operation.\n",
      "\n",
      "  gdf['area'] = gdf['geometry'].area\n",
      "/Users/nabilersyad/miniconda3/envs/sql/lib/python3.9/site-packages/geopandas/geodataframe.py:1442: UserWarning: Geometry column does not contain geometry.\n",
      "  warnings.warn(\"Geometry column does not contain geometry.\")\n"
     ]
    },
    {
     "name": "stdout",
     "output_type": "stream",
     "text": [
      "updated 51\n",
      "generating isochrones\n"
     ]
    },
    {
     "name": "stderr",
     "output_type": "stream",
     "text": [
      "/var/folders/2s/3b55fy1174l4bfchw66wdl800000gn/T/ipykernel_92403/2605401413.py:47: UserWarning: Geometry is in a geographic CRS. Results from 'area' are likely incorrect. Use 'GeoSeries.to_crs()' to re-project geometries to a projected CRS before this operation.\n",
      "\n",
      "  gdf['area'] = gdf['geometry'].area\n",
      "/Users/nabilersyad/miniconda3/envs/sql/lib/python3.9/site-packages/geopandas/geodataframe.py:1442: UserWarning: Geometry column does not contain geometry.\n",
      "  warnings.warn(\"Geometry column does not contain geometry.\")\n"
     ]
    },
    {
     "name": "stdout",
     "output_type": "stream",
     "text": [
      "updated 52\n",
      "generating isochrones\n"
     ]
    },
    {
     "name": "stderr",
     "output_type": "stream",
     "text": [
      "/var/folders/2s/3b55fy1174l4bfchw66wdl800000gn/T/ipykernel_92403/2605401413.py:47: UserWarning: Geometry is in a geographic CRS. Results from 'area' are likely incorrect. Use 'GeoSeries.to_crs()' to re-project geometries to a projected CRS before this operation.\n",
      "\n",
      "  gdf['area'] = gdf['geometry'].area\n",
      "/Users/nabilersyad/miniconda3/envs/sql/lib/python3.9/site-packages/geopandas/geodataframe.py:1442: UserWarning: Geometry column does not contain geometry.\n",
      "  warnings.warn(\"Geometry column does not contain geometry.\")\n"
     ]
    },
    {
     "name": "stdout",
     "output_type": "stream",
     "text": [
      "updated 53\n",
      "generating isochrones\n"
     ]
    },
    {
     "name": "stderr",
     "output_type": "stream",
     "text": [
      "/var/folders/2s/3b55fy1174l4bfchw66wdl800000gn/T/ipykernel_92403/2605401413.py:47: UserWarning: Geometry is in a geographic CRS. Results from 'area' are likely incorrect. Use 'GeoSeries.to_crs()' to re-project geometries to a projected CRS before this operation.\n",
      "\n",
      "  gdf['area'] = gdf['geometry'].area\n",
      "/Users/nabilersyad/miniconda3/envs/sql/lib/python3.9/site-packages/geopandas/geodataframe.py:1442: UserWarning: Geometry column does not contain geometry.\n",
      "  warnings.warn(\"Geometry column does not contain geometry.\")\n"
     ]
    },
    {
     "name": "stdout",
     "output_type": "stream",
     "text": [
      "updated 54\n",
      "generating isochrones\n"
     ]
    },
    {
     "name": "stderr",
     "output_type": "stream",
     "text": [
      "/var/folders/2s/3b55fy1174l4bfchw66wdl800000gn/T/ipykernel_92403/2605401413.py:47: UserWarning: Geometry is in a geographic CRS. Results from 'area' are likely incorrect. Use 'GeoSeries.to_crs()' to re-project geometries to a projected CRS before this operation.\n",
      "\n",
      "  gdf['area'] = gdf['geometry'].area\n",
      "/Users/nabilersyad/miniconda3/envs/sql/lib/python3.9/site-packages/geopandas/geodataframe.py:1442: UserWarning: Geometry column does not contain geometry.\n",
      "  warnings.warn(\"Geometry column does not contain geometry.\")\n"
     ]
    },
    {
     "name": "stdout",
     "output_type": "stream",
     "text": [
      "updated 55\n",
      "generating isochrones\n"
     ]
    },
    {
     "name": "stderr",
     "output_type": "stream",
     "text": [
      "/var/folders/2s/3b55fy1174l4bfchw66wdl800000gn/T/ipykernel_92403/2605401413.py:47: UserWarning: Geometry is in a geographic CRS. Results from 'area' are likely incorrect. Use 'GeoSeries.to_crs()' to re-project geometries to a projected CRS before this operation.\n",
      "\n",
      "  gdf['area'] = gdf['geometry'].area\n",
      "/Users/nabilersyad/miniconda3/envs/sql/lib/python3.9/site-packages/geopandas/geodataframe.py:1442: UserWarning: Geometry column does not contain geometry.\n",
      "  warnings.warn(\"Geometry column does not contain geometry.\")\n"
     ]
    },
    {
     "name": "stdout",
     "output_type": "stream",
     "text": [
      "updated 56\n",
      "generating isochrones\n"
     ]
    },
    {
     "name": "stderr",
     "output_type": "stream",
     "text": [
      "/Users/nabilersyad/miniconda3/envs/sql/lib/python3.9/site-packages/openrouteservice/client.py:211: UserWarning: Rate limit exceeded. Retrying for the 1st time.\n",
      "  warnings.warn('Rate limit exceeded. Retrying for the {0}{1} time.'.format(retry_counter + 1,\n",
      "/Users/nabilersyad/miniconda3/envs/sql/lib/python3.9/site-packages/openrouteservice/client.py:211: UserWarning: Rate limit exceeded. Retrying for the 2nd time.\n",
      "  warnings.warn('Rate limit exceeded. Retrying for the {0}{1} time.'.format(retry_counter + 1,\n",
      "/Users/nabilersyad/miniconda3/envs/sql/lib/python3.9/site-packages/openrouteservice/client.py:211: UserWarning: Rate limit exceeded. Retrying for the 3rd time.\n",
      "  warnings.warn('Rate limit exceeded. Retrying for the {0}{1} time.'.format(retry_counter + 1,\n",
      "/Users/nabilersyad/miniconda3/envs/sql/lib/python3.9/site-packages/openrouteservice/client.py:211: UserWarning: Rate limit exceeded. Retrying for the 4th time.\n",
      "  warnings.warn('Rate limit exceeded. Retrying for the {0}{1} time.'.format(retry_counter + 1,\n",
      "/Users/nabilersyad/miniconda3/envs/sql/lib/python3.9/site-packages/openrouteservice/client.py:211: UserWarning: Rate limit exceeded. Retrying for the 5th time.\n",
      "  warnings.warn('Rate limit exceeded. Retrying for the {0}{1} time.'.format(retry_counter + 1,\n",
      "/Users/nabilersyad/miniconda3/envs/sql/lib/python3.9/site-packages/openrouteservice/client.py:211: UserWarning: Rate limit exceeded. Retrying for the 6th time.\n",
      "  warnings.warn('Rate limit exceeded. Retrying for the {0}{1} time.'.format(retry_counter + 1,\n",
      "/Users/nabilersyad/miniconda3/envs/sql/lib/python3.9/site-packages/openrouteservice/client.py:211: UserWarning: Rate limit exceeded. Retrying for the 7th time.\n",
      "  warnings.warn('Rate limit exceeded. Retrying for the {0}{1} time.'.format(retry_counter + 1,\n",
      "/Users/nabilersyad/miniconda3/envs/sql/lib/python3.9/site-packages/openrouteservice/client.py:211: UserWarning: Rate limit exceeded. Retrying for the 8th time.\n",
      "  warnings.warn('Rate limit exceeded. Retrying for the {0}{1} time.'.format(retry_counter + 1,\n",
      "/var/folders/2s/3b55fy1174l4bfchw66wdl800000gn/T/ipykernel_92403/2605401413.py:47: UserWarning: Geometry is in a geographic CRS. Results from 'area' are likely incorrect. Use 'GeoSeries.to_crs()' to re-project geometries to a projected CRS before this operation.\n",
      "\n",
      "  gdf['area'] = gdf['geometry'].area\n",
      "/Users/nabilersyad/miniconda3/envs/sql/lib/python3.9/site-packages/geopandas/geodataframe.py:1442: UserWarning: Geometry column does not contain geometry.\n",
      "  warnings.warn(\"Geometry column does not contain geometry.\")\n"
     ]
    },
    {
     "name": "stdout",
     "output_type": "stream",
     "text": [
      "updated 57\n",
      "generating isochrones\n"
     ]
    },
    {
     "name": "stderr",
     "output_type": "stream",
     "text": [
      "/var/folders/2s/3b55fy1174l4bfchw66wdl800000gn/T/ipykernel_92403/2605401413.py:47: UserWarning: Geometry is in a geographic CRS. Results from 'area' are likely incorrect. Use 'GeoSeries.to_crs()' to re-project geometries to a projected CRS before this operation.\n",
      "\n",
      "  gdf['area'] = gdf['geometry'].area\n",
      "/Users/nabilersyad/miniconda3/envs/sql/lib/python3.9/site-packages/geopandas/geodataframe.py:1442: UserWarning: Geometry column does not contain geometry.\n",
      "  warnings.warn(\"Geometry column does not contain geometry.\")\n"
     ]
    },
    {
     "name": "stdout",
     "output_type": "stream",
     "text": [
      "updated 58\n",
      "generating isochrones\n"
     ]
    },
    {
     "name": "stderr",
     "output_type": "stream",
     "text": [
      "/var/folders/2s/3b55fy1174l4bfchw66wdl800000gn/T/ipykernel_92403/2605401413.py:47: UserWarning: Geometry is in a geographic CRS. Results from 'area' are likely incorrect. Use 'GeoSeries.to_crs()' to re-project geometries to a projected CRS before this operation.\n",
      "\n",
      "  gdf['area'] = gdf['geometry'].area\n",
      "/Users/nabilersyad/miniconda3/envs/sql/lib/python3.9/site-packages/geopandas/geodataframe.py:1442: UserWarning: Geometry column does not contain geometry.\n",
      "  warnings.warn(\"Geometry column does not contain geometry.\")\n",
      "/var/folders/2s/3b55fy1174l4bfchw66wdl800000gn/T/ipykernel_92403/2605401413.py:80: UserWarning: Geometry is in a geographic CRS. Results from 'area' are likely incorrect. Use 'GeoSeries.to_crs()' to re-project geometries to a projected CRS before this operation.\n",
      "\n",
      "  combined_isochrones['area'] = combined_isochrones['geometry'].area\n",
      "/Users/nabilersyad/miniconda3/envs/sql/lib/python3.9/site-packages/geopandas/geodataframe.py:1442: UserWarning: Geometry column does not contain geometry.\n",
      "  warnings.warn(\"Geometry column does not contain geometry.\")\n",
      "/var/folders/2s/3b55fy1174l4bfchw66wdl800000gn/T/ipykernel_92403/2605401413.py:80: UserWarning: Geometry is in a geographic CRS. Results from 'area' are likely incorrect. Use 'GeoSeries.to_crs()' to re-project geometries to a projected CRS before this operation.\n",
      "\n",
      "  combined_isochrones['area'] = combined_isochrones['geometry'].area\n",
      "/Users/nabilersyad/miniconda3/envs/sql/lib/python3.9/site-packages/geopandas/geodataframe.py:1442: UserWarning: Geometry column does not contain geometry.\n",
      "  warnings.warn(\"Geometry column does not contain geometry.\")\n"
     ]
    },
    {
     "name": "stdout",
     "output_type": "stream",
     "text": [
      "updated 59\n",
      "combining isochrones\n",
      "updated 60\n",
      "combining isochrones\n",
      "updated 61\n",
      "generating isochrones\n"
     ]
    },
    {
     "name": "stderr",
     "output_type": "stream",
     "text": [
      "/var/folders/2s/3b55fy1174l4bfchw66wdl800000gn/T/ipykernel_92403/2605401413.py:47: UserWarning: Geometry is in a geographic CRS. Results from 'area' are likely incorrect. Use 'GeoSeries.to_crs()' to re-project geometries to a projected CRS before this operation.\n",
      "\n",
      "  gdf['area'] = gdf['geometry'].area\n",
      "/Users/nabilersyad/miniconda3/envs/sql/lib/python3.9/site-packages/geopandas/geodataframe.py:1442: UserWarning: Geometry column does not contain geometry.\n",
      "  warnings.warn(\"Geometry column does not contain geometry.\")\n"
     ]
    },
    {
     "name": "stdout",
     "output_type": "stream",
     "text": [
      "updated 62\n",
      "generating isochrones\n"
     ]
    },
    {
     "name": "stderr",
     "output_type": "stream",
     "text": [
      "/var/folders/2s/3b55fy1174l4bfchw66wdl800000gn/T/ipykernel_92403/2605401413.py:47: UserWarning: Geometry is in a geographic CRS. Results from 'area' are likely incorrect. Use 'GeoSeries.to_crs()' to re-project geometries to a projected CRS before this operation.\n",
      "\n",
      "  gdf['area'] = gdf['geometry'].area\n",
      "/Users/nabilersyad/miniconda3/envs/sql/lib/python3.9/site-packages/geopandas/geodataframe.py:1442: UserWarning: Geometry column does not contain geometry.\n",
      "  warnings.warn(\"Geometry column does not contain geometry.\")\n"
     ]
    },
    {
     "name": "stdout",
     "output_type": "stream",
     "text": [
      "updated 63\n",
      "generating isochrones\n"
     ]
    },
    {
     "name": "stderr",
     "output_type": "stream",
     "text": [
      "/var/folders/2s/3b55fy1174l4bfchw66wdl800000gn/T/ipykernel_92403/2605401413.py:47: UserWarning: Geometry is in a geographic CRS. Results from 'area' are likely incorrect. Use 'GeoSeries.to_crs()' to re-project geometries to a projected CRS before this operation.\n",
      "\n",
      "  gdf['area'] = gdf['geometry'].area\n",
      "/Users/nabilersyad/miniconda3/envs/sql/lib/python3.9/site-packages/geopandas/geodataframe.py:1442: UserWarning: Geometry column does not contain geometry.\n",
      "  warnings.warn(\"Geometry column does not contain geometry.\")\n"
     ]
    },
    {
     "name": "stdout",
     "output_type": "stream",
     "text": [
      "updated 64\n",
      "generating isochrones\n"
     ]
    },
    {
     "name": "stderr",
     "output_type": "stream",
     "text": [
      "/var/folders/2s/3b55fy1174l4bfchw66wdl800000gn/T/ipykernel_92403/2605401413.py:47: UserWarning: Geometry is in a geographic CRS. Results from 'area' are likely incorrect. Use 'GeoSeries.to_crs()' to re-project geometries to a projected CRS before this operation.\n",
      "\n",
      "  gdf['area'] = gdf['geometry'].area\n",
      "/Users/nabilersyad/miniconda3/envs/sql/lib/python3.9/site-packages/geopandas/geodataframe.py:1442: UserWarning: Geometry column does not contain geometry.\n",
      "  warnings.warn(\"Geometry column does not contain geometry.\")\n"
     ]
    },
    {
     "name": "stdout",
     "output_type": "stream",
     "text": [
      "updated 65\n",
      "generating isochrones\n"
     ]
    },
    {
     "name": "stderr",
     "output_type": "stream",
     "text": [
      "/var/folders/2s/3b55fy1174l4bfchw66wdl800000gn/T/ipykernel_92403/2605401413.py:47: UserWarning: Geometry is in a geographic CRS. Results from 'area' are likely incorrect. Use 'GeoSeries.to_crs()' to re-project geometries to a projected CRS before this operation.\n",
      "\n",
      "  gdf['area'] = gdf['geometry'].area\n",
      "/Users/nabilersyad/miniconda3/envs/sql/lib/python3.9/site-packages/geopandas/geodataframe.py:1442: UserWarning: Geometry column does not contain geometry.\n",
      "  warnings.warn(\"Geometry column does not contain geometry.\")\n",
      "/var/folders/2s/3b55fy1174l4bfchw66wdl800000gn/T/ipykernel_92403/2605401413.py:80: UserWarning: Geometry is in a geographic CRS. Results from 'area' are likely incorrect. Use 'GeoSeries.to_crs()' to re-project geometries to a projected CRS before this operation.\n",
      "\n",
      "  combined_isochrones['area'] = combined_isochrones['geometry'].area\n",
      "/Users/nabilersyad/miniconda3/envs/sql/lib/python3.9/site-packages/geopandas/geodataframe.py:1442: UserWarning: Geometry column does not contain geometry.\n",
      "  warnings.warn(\"Geometry column does not contain geometry.\")\n",
      "/var/folders/2s/3b55fy1174l4bfchw66wdl800000gn/T/ipykernel_92403/2605401413.py:80: UserWarning: Geometry is in a geographic CRS. Results from 'area' are likely incorrect. Use 'GeoSeries.to_crs()' to re-project geometries to a projected CRS before this operation.\n",
      "\n",
      "  combined_isochrones['area'] = combined_isochrones['geometry'].area\n",
      "/Users/nabilersyad/miniconda3/envs/sql/lib/python3.9/site-packages/geopandas/geodataframe.py:1442: UserWarning: Geometry column does not contain geometry.\n",
      "  warnings.warn(\"Geometry column does not contain geometry.\")\n"
     ]
    },
    {
     "name": "stdout",
     "output_type": "stream",
     "text": [
      "updated 66\n",
      "combining isochrones\n",
      "updated 67\n",
      "combining isochrones\n",
      "updated 68\n",
      "generating isochrones\n"
     ]
    },
    {
     "name": "stderr",
     "output_type": "stream",
     "text": [
      "/var/folders/2s/3b55fy1174l4bfchw66wdl800000gn/T/ipykernel_92403/2605401413.py:47: UserWarning: Geometry is in a geographic CRS. Results from 'area' are likely incorrect. Use 'GeoSeries.to_crs()' to re-project geometries to a projected CRS before this operation.\n",
      "\n",
      "  gdf['area'] = gdf['geometry'].area\n",
      "/Users/nabilersyad/miniconda3/envs/sql/lib/python3.9/site-packages/geopandas/geodataframe.py:1442: UserWarning: Geometry column does not contain geometry.\n",
      "  warnings.warn(\"Geometry column does not contain geometry.\")\n"
     ]
    },
    {
     "name": "stdout",
     "output_type": "stream",
     "text": [
      "updated 69\n",
      "generating isochrones\n"
     ]
    },
    {
     "name": "stderr",
     "output_type": "stream",
     "text": [
      "/var/folders/2s/3b55fy1174l4bfchw66wdl800000gn/T/ipykernel_92403/2605401413.py:47: UserWarning: Geometry is in a geographic CRS. Results from 'area' are likely incorrect. Use 'GeoSeries.to_crs()' to re-project geometries to a projected CRS before this operation.\n",
      "\n",
      "  gdf['area'] = gdf['geometry'].area\n",
      "/Users/nabilersyad/miniconda3/envs/sql/lib/python3.9/site-packages/geopandas/geodataframe.py:1442: UserWarning: Geometry column does not contain geometry.\n",
      "  warnings.warn(\"Geometry column does not contain geometry.\")\n",
      "/var/folders/2s/3b55fy1174l4bfchw66wdl800000gn/T/ipykernel_92403/2605401413.py:80: UserWarning: Geometry is in a geographic CRS. Results from 'area' are likely incorrect. Use 'GeoSeries.to_crs()' to re-project geometries to a projected CRS before this operation.\n",
      "\n",
      "  combined_isochrones['area'] = combined_isochrones['geometry'].area\n",
      "/Users/nabilersyad/miniconda3/envs/sql/lib/python3.9/site-packages/geopandas/geodataframe.py:1442: UserWarning: Geometry column does not contain geometry.\n",
      "  warnings.warn(\"Geometry column does not contain geometry.\")\n",
      "/var/folders/2s/3b55fy1174l4bfchw66wdl800000gn/T/ipykernel_92403/2605401413.py:80: UserWarning: Geometry is in a geographic CRS. Results from 'area' are likely incorrect. Use 'GeoSeries.to_crs()' to re-project geometries to a projected CRS before this operation.\n",
      "\n",
      "  combined_isochrones['area'] = combined_isochrones['geometry'].area\n",
      "/Users/nabilersyad/miniconda3/envs/sql/lib/python3.9/site-packages/geopandas/geodataframe.py:1442: UserWarning: Geometry column does not contain geometry.\n",
      "  warnings.warn(\"Geometry column does not contain geometry.\")\n"
     ]
    },
    {
     "name": "stdout",
     "output_type": "stream",
     "text": [
      "updated 70\n",
      "combining isochrones\n",
      "updated 71\n",
      "combining isochrones\n",
      "updated 72\n",
      "generating isochrones\n"
     ]
    },
    {
     "name": "stderr",
     "output_type": "stream",
     "text": [
      "/var/folders/2s/3b55fy1174l4bfchw66wdl800000gn/T/ipykernel_92403/2605401413.py:47: UserWarning: Geometry is in a geographic CRS. Results from 'area' are likely incorrect. Use 'GeoSeries.to_crs()' to re-project geometries to a projected CRS before this operation.\n",
      "\n",
      "  gdf['area'] = gdf['geometry'].area\n",
      "/Users/nabilersyad/miniconda3/envs/sql/lib/python3.9/site-packages/geopandas/geodataframe.py:1442: UserWarning: Geometry column does not contain geometry.\n",
      "  warnings.warn(\"Geometry column does not contain geometry.\")\n"
     ]
    },
    {
     "name": "stdout",
     "output_type": "stream",
     "text": [
      "updated 73\n",
      "generating isochrones\n"
     ]
    },
    {
     "name": "stderr",
     "output_type": "stream",
     "text": [
      "/var/folders/2s/3b55fy1174l4bfchw66wdl800000gn/T/ipykernel_92403/2605401413.py:47: UserWarning: Geometry is in a geographic CRS. Results from 'area' are likely incorrect. Use 'GeoSeries.to_crs()' to re-project geometries to a projected CRS before this operation.\n",
      "\n",
      "  gdf['area'] = gdf['geometry'].area\n",
      "/Users/nabilersyad/miniconda3/envs/sql/lib/python3.9/site-packages/geopandas/geodataframe.py:1442: UserWarning: Geometry column does not contain geometry.\n",
      "  warnings.warn(\"Geometry column does not contain geometry.\")\n",
      "/var/folders/2s/3b55fy1174l4bfchw66wdl800000gn/T/ipykernel_92403/2605401413.py:80: UserWarning: Geometry is in a geographic CRS. Results from 'area' are likely incorrect. Use 'GeoSeries.to_crs()' to re-project geometries to a projected CRS before this operation.\n",
      "\n",
      "  combined_isochrones['area'] = combined_isochrones['geometry'].area\n",
      "/Users/nabilersyad/miniconda3/envs/sql/lib/python3.9/site-packages/geopandas/geodataframe.py:1442: UserWarning: Geometry column does not contain geometry.\n",
      "  warnings.warn(\"Geometry column does not contain geometry.\")\n"
     ]
    },
    {
     "name": "stdout",
     "output_type": "stream",
     "text": [
      "updated 74\n",
      "combining isochrones\n",
      "updated 75\n",
      "generating isochrones\n"
     ]
    },
    {
     "name": "stderr",
     "output_type": "stream",
     "text": [
      "/var/folders/2s/3b55fy1174l4bfchw66wdl800000gn/T/ipykernel_92403/2605401413.py:47: UserWarning: Geometry is in a geographic CRS. Results from 'area' are likely incorrect. Use 'GeoSeries.to_crs()' to re-project geometries to a projected CRS before this operation.\n",
      "\n",
      "  gdf['area'] = gdf['geometry'].area\n",
      "/Users/nabilersyad/miniconda3/envs/sql/lib/python3.9/site-packages/geopandas/geodataframe.py:1442: UserWarning: Geometry column does not contain geometry.\n",
      "  warnings.warn(\"Geometry column does not contain geometry.\")\n"
     ]
    },
    {
     "name": "stdout",
     "output_type": "stream",
     "text": [
      "updated 76\n",
      "generating isochrones\n"
     ]
    },
    {
     "name": "stderr",
     "output_type": "stream",
     "text": [
      "/var/folders/2s/3b55fy1174l4bfchw66wdl800000gn/T/ipykernel_92403/2605401413.py:47: UserWarning: Geometry is in a geographic CRS. Results from 'area' are likely incorrect. Use 'GeoSeries.to_crs()' to re-project geometries to a projected CRS before this operation.\n",
      "\n",
      "  gdf['area'] = gdf['geometry'].area\n",
      "/Users/nabilersyad/miniconda3/envs/sql/lib/python3.9/site-packages/geopandas/geodataframe.py:1442: UserWarning: Geometry column does not contain geometry.\n",
      "  warnings.warn(\"Geometry column does not contain geometry.\")\n",
      "/var/folders/2s/3b55fy1174l4bfchw66wdl800000gn/T/ipykernel_92403/2605401413.py:80: UserWarning: Geometry is in a geographic CRS. Results from 'area' are likely incorrect. Use 'GeoSeries.to_crs()' to re-project geometries to a projected CRS before this operation.\n",
      "\n",
      "  combined_isochrones['area'] = combined_isochrones['geometry'].area\n",
      "/Users/nabilersyad/miniconda3/envs/sql/lib/python3.9/site-packages/geopandas/geodataframe.py:1442: UserWarning: Geometry column does not contain geometry.\n",
      "  warnings.warn(\"Geometry column does not contain geometry.\")\n",
      "/var/folders/2s/3b55fy1174l4bfchw66wdl800000gn/T/ipykernel_92403/2605401413.py:80: UserWarning: Geometry is in a geographic CRS. Results from 'area' are likely incorrect. Use 'GeoSeries.to_crs()' to re-project geometries to a projected CRS before this operation.\n",
      "\n",
      "  combined_isochrones['area'] = combined_isochrones['geometry'].area\n",
      "/Users/nabilersyad/miniconda3/envs/sql/lib/python3.9/site-packages/geopandas/geodataframe.py:1442: UserWarning: Geometry column does not contain geometry.\n",
      "  warnings.warn(\"Geometry column does not contain geometry.\")\n"
     ]
    },
    {
     "name": "stdout",
     "output_type": "stream",
     "text": [
      "updated 77\n",
      "combining isochrones\n",
      "updated 78\n",
      "combining isochrones\n",
      "updated 79\n",
      "generating isochrones\n"
     ]
    },
    {
     "name": "stderr",
     "output_type": "stream",
     "text": [
      "/var/folders/2s/3b55fy1174l4bfchw66wdl800000gn/T/ipykernel_92403/2605401413.py:47: UserWarning: Geometry is in a geographic CRS. Results from 'area' are likely incorrect. Use 'GeoSeries.to_crs()' to re-project geometries to a projected CRS before this operation.\n",
      "\n",
      "  gdf['area'] = gdf['geometry'].area\n",
      "/Users/nabilersyad/miniconda3/envs/sql/lib/python3.9/site-packages/geopandas/geodataframe.py:1442: UserWarning: Geometry column does not contain geometry.\n",
      "  warnings.warn(\"Geometry column does not contain geometry.\")\n"
     ]
    },
    {
     "name": "stdout",
     "output_type": "stream",
     "text": [
      "updated 80\n",
      "generating isochrones\n"
     ]
    },
    {
     "name": "stderr",
     "output_type": "stream",
     "text": [
      "/var/folders/2s/3b55fy1174l4bfchw66wdl800000gn/T/ipykernel_92403/2605401413.py:47: UserWarning: Geometry is in a geographic CRS. Results from 'area' are likely incorrect. Use 'GeoSeries.to_crs()' to re-project geometries to a projected CRS before this operation.\n",
      "\n",
      "  gdf['area'] = gdf['geometry'].area\n",
      "/Users/nabilersyad/miniconda3/envs/sql/lib/python3.9/site-packages/geopandas/geodataframe.py:1442: UserWarning: Geometry column does not contain geometry.\n",
      "  warnings.warn(\"Geometry column does not contain geometry.\")\n"
     ]
    },
    {
     "name": "stdout",
     "output_type": "stream",
     "text": [
      "updated 81\n",
      "generating isochrones\n"
     ]
    },
    {
     "name": "stderr",
     "output_type": "stream",
     "text": [
      "/Users/nabilersyad/miniconda3/envs/sql/lib/python3.9/site-packages/openrouteservice/client.py:211: UserWarning: Rate limit exceeded. Retrying for the 1st time.\n",
      "  warnings.warn('Rate limit exceeded. Retrying for the {0}{1} time.'.format(retry_counter + 1,\n",
      "/Users/nabilersyad/miniconda3/envs/sql/lib/python3.9/site-packages/openrouteservice/client.py:211: UserWarning: Rate limit exceeded. Retrying for the 2nd time.\n",
      "  warnings.warn('Rate limit exceeded. Retrying for the {0}{1} time.'.format(retry_counter + 1,\n",
      "/Users/nabilersyad/miniconda3/envs/sql/lib/python3.9/site-packages/openrouteservice/client.py:211: UserWarning: Rate limit exceeded. Retrying for the 3rd time.\n",
      "  warnings.warn('Rate limit exceeded. Retrying for the {0}{1} time.'.format(retry_counter + 1,\n",
      "/Users/nabilersyad/miniconda3/envs/sql/lib/python3.9/site-packages/openrouteservice/client.py:211: UserWarning: Rate limit exceeded. Retrying for the 4th time.\n",
      "  warnings.warn('Rate limit exceeded. Retrying for the {0}{1} time.'.format(retry_counter + 1,\n",
      "/Users/nabilersyad/miniconda3/envs/sql/lib/python3.9/site-packages/openrouteservice/client.py:211: UserWarning: Rate limit exceeded. Retrying for the 5th time.\n",
      "  warnings.warn('Rate limit exceeded. Retrying for the {0}{1} time.'.format(retry_counter + 1,\n",
      "/Users/nabilersyad/miniconda3/envs/sql/lib/python3.9/site-packages/openrouteservice/client.py:211: UserWarning: Rate limit exceeded. Retrying for the 6th time.\n",
      "  warnings.warn('Rate limit exceeded. Retrying for the {0}{1} time.'.format(retry_counter + 1,\n",
      "/Users/nabilersyad/miniconda3/envs/sql/lib/python3.9/site-packages/openrouteservice/client.py:211: UserWarning: Rate limit exceeded. Retrying for the 7th time.\n",
      "  warnings.warn('Rate limit exceeded. Retrying for the {0}{1} time.'.format(retry_counter + 1,\n",
      "/Users/nabilersyad/miniconda3/envs/sql/lib/python3.9/site-packages/openrouteservice/client.py:211: UserWarning: Rate limit exceeded. Retrying for the 8th time.\n",
      "  warnings.warn('Rate limit exceeded. Retrying for the {0}{1} time.'.format(retry_counter + 1,\n",
      "/var/folders/2s/3b55fy1174l4bfchw66wdl800000gn/T/ipykernel_92403/2605401413.py:47: UserWarning: Geometry is in a geographic CRS. Results from 'area' are likely incorrect. Use 'GeoSeries.to_crs()' to re-project geometries to a projected CRS before this operation.\n",
      "\n",
      "  gdf['area'] = gdf['geometry'].area\n",
      "/Users/nabilersyad/miniconda3/envs/sql/lib/python3.9/site-packages/geopandas/geodataframe.py:1442: UserWarning: Geometry column does not contain geometry.\n",
      "  warnings.warn(\"Geometry column does not contain geometry.\")\n"
     ]
    },
    {
     "name": "stdout",
     "output_type": "stream",
     "text": [
      "updated 82\n",
      "generating isochrones\n"
     ]
    },
    {
     "name": "stderr",
     "output_type": "stream",
     "text": [
      "/var/folders/2s/3b55fy1174l4bfchw66wdl800000gn/T/ipykernel_92403/2605401413.py:47: UserWarning: Geometry is in a geographic CRS. Results from 'area' are likely incorrect. Use 'GeoSeries.to_crs()' to re-project geometries to a projected CRS before this operation.\n",
      "\n",
      "  gdf['area'] = gdf['geometry'].area\n",
      "/Users/nabilersyad/miniconda3/envs/sql/lib/python3.9/site-packages/geopandas/geodataframe.py:1442: UserWarning: Geometry column does not contain geometry.\n",
      "  warnings.warn(\"Geometry column does not contain geometry.\")\n"
     ]
    },
    {
     "name": "stdout",
     "output_type": "stream",
     "text": [
      "updated 83\n",
      "generating isochrones\n"
     ]
    },
    {
     "name": "stderr",
     "output_type": "stream",
     "text": [
      "/var/folders/2s/3b55fy1174l4bfchw66wdl800000gn/T/ipykernel_92403/2605401413.py:47: UserWarning: Geometry is in a geographic CRS. Results from 'area' are likely incorrect. Use 'GeoSeries.to_crs()' to re-project geometries to a projected CRS before this operation.\n",
      "\n",
      "  gdf['area'] = gdf['geometry'].area\n",
      "/Users/nabilersyad/miniconda3/envs/sql/lib/python3.9/site-packages/geopandas/geodataframe.py:1442: UserWarning: Geometry column does not contain geometry.\n",
      "  warnings.warn(\"Geometry column does not contain geometry.\")\n",
      "/var/folders/2s/3b55fy1174l4bfchw66wdl800000gn/T/ipykernel_92403/2605401413.py:80: UserWarning: Geometry is in a geographic CRS. Results from 'area' are likely incorrect. Use 'GeoSeries.to_crs()' to re-project geometries to a projected CRS before this operation.\n",
      "\n",
      "  combined_isochrones['area'] = combined_isochrones['geometry'].area\n",
      "/Users/nabilersyad/miniconda3/envs/sql/lib/python3.9/site-packages/geopandas/geodataframe.py:1442: UserWarning: Geometry column does not contain geometry.\n",
      "  warnings.warn(\"Geometry column does not contain geometry.\")\n"
     ]
    },
    {
     "name": "stdout",
     "output_type": "stream",
     "text": [
      "updated 84\n",
      "combining isochrones\n",
      "updated 85\n",
      "generating isochrones\n"
     ]
    },
    {
     "name": "stderr",
     "output_type": "stream",
     "text": [
      "/var/folders/2s/3b55fy1174l4bfchw66wdl800000gn/T/ipykernel_92403/2605401413.py:47: UserWarning: Geometry is in a geographic CRS. Results from 'area' are likely incorrect. Use 'GeoSeries.to_crs()' to re-project geometries to a projected CRS before this operation.\n",
      "\n",
      "  gdf['area'] = gdf['geometry'].area\n",
      "/Users/nabilersyad/miniconda3/envs/sql/lib/python3.9/site-packages/geopandas/geodataframe.py:1442: UserWarning: Geometry column does not contain geometry.\n",
      "  warnings.warn(\"Geometry column does not contain geometry.\")\n",
      "/var/folders/2s/3b55fy1174l4bfchw66wdl800000gn/T/ipykernel_92403/2605401413.py:80: UserWarning: Geometry is in a geographic CRS. Results from 'area' are likely incorrect. Use 'GeoSeries.to_crs()' to re-project geometries to a projected CRS before this operation.\n",
      "\n",
      "  combined_isochrones['area'] = combined_isochrones['geometry'].area\n",
      "/Users/nabilersyad/miniconda3/envs/sql/lib/python3.9/site-packages/geopandas/geodataframe.py:1442: UserWarning: Geometry column does not contain geometry.\n",
      "  warnings.warn(\"Geometry column does not contain geometry.\")\n"
     ]
    },
    {
     "name": "stdout",
     "output_type": "stream",
     "text": [
      "updated 86\n",
      "combining isochrones\n",
      "updated 87\n",
      "generating isochrones\n"
     ]
    },
    {
     "name": "stderr",
     "output_type": "stream",
     "text": [
      "/var/folders/2s/3b55fy1174l4bfchw66wdl800000gn/T/ipykernel_92403/2605401413.py:47: UserWarning: Geometry is in a geographic CRS. Results from 'area' are likely incorrect. Use 'GeoSeries.to_crs()' to re-project geometries to a projected CRS before this operation.\n",
      "\n",
      "  gdf['area'] = gdf['geometry'].area\n",
      "/Users/nabilersyad/miniconda3/envs/sql/lib/python3.9/site-packages/geopandas/geodataframe.py:1442: UserWarning: Geometry column does not contain geometry.\n",
      "  warnings.warn(\"Geometry column does not contain geometry.\")\n"
     ]
    },
    {
     "name": "stdout",
     "output_type": "stream",
     "text": [
      "updated 88\n",
      "generating isochrones\n"
     ]
    },
    {
     "name": "stderr",
     "output_type": "stream",
     "text": [
      "/var/folders/2s/3b55fy1174l4bfchw66wdl800000gn/T/ipykernel_92403/2605401413.py:47: UserWarning: Geometry is in a geographic CRS. Results from 'area' are likely incorrect. Use 'GeoSeries.to_crs()' to re-project geometries to a projected CRS before this operation.\n",
      "\n",
      "  gdf['area'] = gdf['geometry'].area\n",
      "/Users/nabilersyad/miniconda3/envs/sql/lib/python3.9/site-packages/geopandas/geodataframe.py:1442: UserWarning: Geometry column does not contain geometry.\n",
      "  warnings.warn(\"Geometry column does not contain geometry.\")\n"
     ]
    },
    {
     "name": "stdout",
     "output_type": "stream",
     "text": [
      "updated 89\n",
      "generating isochrones\n"
     ]
    },
    {
     "name": "stderr",
     "output_type": "stream",
     "text": [
      "/var/folders/2s/3b55fy1174l4bfchw66wdl800000gn/T/ipykernel_92403/2605401413.py:47: UserWarning: Geometry is in a geographic CRS. Results from 'area' are likely incorrect. Use 'GeoSeries.to_crs()' to re-project geometries to a projected CRS before this operation.\n",
      "\n",
      "  gdf['area'] = gdf['geometry'].area\n",
      "/Users/nabilersyad/miniconda3/envs/sql/lib/python3.9/site-packages/geopandas/geodataframe.py:1442: UserWarning: Geometry column does not contain geometry.\n",
      "  warnings.warn(\"Geometry column does not contain geometry.\")\n"
     ]
    },
    {
     "name": "stdout",
     "output_type": "stream",
     "text": [
      "updated 90\n",
      "generating isochrones\n"
     ]
    },
    {
     "name": "stderr",
     "output_type": "stream",
     "text": [
      "/var/folders/2s/3b55fy1174l4bfchw66wdl800000gn/T/ipykernel_92403/2605401413.py:47: UserWarning: Geometry is in a geographic CRS. Results from 'area' are likely incorrect. Use 'GeoSeries.to_crs()' to re-project geometries to a projected CRS before this operation.\n",
      "\n",
      "  gdf['area'] = gdf['geometry'].area\n",
      "/Users/nabilersyad/miniconda3/envs/sql/lib/python3.9/site-packages/geopandas/geodataframe.py:1442: UserWarning: Geometry column does not contain geometry.\n",
      "  warnings.warn(\"Geometry column does not contain geometry.\")\n",
      "/var/folders/2s/3b55fy1174l4bfchw66wdl800000gn/T/ipykernel_92403/2605401413.py:80: UserWarning: Geometry is in a geographic CRS. Results from 'area' are likely incorrect. Use 'GeoSeries.to_crs()' to re-project geometries to a projected CRS before this operation.\n",
      "\n",
      "  combined_isochrones['area'] = combined_isochrones['geometry'].area\n",
      "/Users/nabilersyad/miniconda3/envs/sql/lib/python3.9/site-packages/geopandas/geodataframe.py:1442: UserWarning: Geometry column does not contain geometry.\n",
      "  warnings.warn(\"Geometry column does not contain geometry.\")\n"
     ]
    },
    {
     "name": "stdout",
     "output_type": "stream",
     "text": [
      "updated 91\n",
      "combining isochrones\n",
      "updated 92\n",
      "generating isochrones\n"
     ]
    },
    {
     "name": "stderr",
     "output_type": "stream",
     "text": [
      "/var/folders/2s/3b55fy1174l4bfchw66wdl800000gn/T/ipykernel_92403/2605401413.py:47: UserWarning: Geometry is in a geographic CRS. Results from 'area' are likely incorrect. Use 'GeoSeries.to_crs()' to re-project geometries to a projected CRS before this operation.\n",
      "\n",
      "  gdf['area'] = gdf['geometry'].area\n",
      "/Users/nabilersyad/miniconda3/envs/sql/lib/python3.9/site-packages/geopandas/geodataframe.py:1442: UserWarning: Geometry column does not contain geometry.\n",
      "  warnings.warn(\"Geometry column does not contain geometry.\")\n"
     ]
    },
    {
     "name": "stdout",
     "output_type": "stream",
     "text": [
      "updated 93\n",
      "generating isochrones\n"
     ]
    },
    {
     "name": "stderr",
     "output_type": "stream",
     "text": [
      "/var/folders/2s/3b55fy1174l4bfchw66wdl800000gn/T/ipykernel_92403/2605401413.py:47: UserWarning: Geometry is in a geographic CRS. Results from 'area' are likely incorrect. Use 'GeoSeries.to_crs()' to re-project geometries to a projected CRS before this operation.\n",
      "\n",
      "  gdf['area'] = gdf['geometry'].area\n",
      "/Users/nabilersyad/miniconda3/envs/sql/lib/python3.9/site-packages/geopandas/geodataframe.py:1442: UserWarning: Geometry column does not contain geometry.\n",
      "  warnings.warn(\"Geometry column does not contain geometry.\")\n",
      "/var/folders/2s/3b55fy1174l4bfchw66wdl800000gn/T/ipykernel_92403/2605401413.py:80: UserWarning: Geometry is in a geographic CRS. Results from 'area' are likely incorrect. Use 'GeoSeries.to_crs()' to re-project geometries to a projected CRS before this operation.\n",
      "\n",
      "  combined_isochrones['area'] = combined_isochrones['geometry'].area\n",
      "/Users/nabilersyad/miniconda3/envs/sql/lib/python3.9/site-packages/geopandas/geodataframe.py:1442: UserWarning: Geometry column does not contain geometry.\n",
      "  warnings.warn(\"Geometry column does not contain geometry.\")\n",
      "/var/folders/2s/3b55fy1174l4bfchw66wdl800000gn/T/ipykernel_92403/2605401413.py:80: UserWarning: Geometry is in a geographic CRS. Results from 'area' are likely incorrect. Use 'GeoSeries.to_crs()' to re-project geometries to a projected CRS before this operation.\n",
      "\n",
      "  combined_isochrones['area'] = combined_isochrones['geometry'].area\n",
      "/Users/nabilersyad/miniconda3/envs/sql/lib/python3.9/site-packages/geopandas/geodataframe.py:1442: UserWarning: Geometry column does not contain geometry.\n",
      "  warnings.warn(\"Geometry column does not contain geometry.\")\n"
     ]
    },
    {
     "name": "stdout",
     "output_type": "stream",
     "text": [
      "updated 94\n",
      "combining isochrones\n",
      "updated 95\n",
      "combining isochrones\n",
      "updated 96\n",
      "generating isochrones\n"
     ]
    },
    {
     "name": "stderr",
     "output_type": "stream",
     "text": [
      "/var/folders/2s/3b55fy1174l4bfchw66wdl800000gn/T/ipykernel_92403/2605401413.py:47: UserWarning: Geometry is in a geographic CRS. Results from 'area' are likely incorrect. Use 'GeoSeries.to_crs()' to re-project geometries to a projected CRS before this operation.\n",
      "\n",
      "  gdf['area'] = gdf['geometry'].area\n",
      "/Users/nabilersyad/miniconda3/envs/sql/lib/python3.9/site-packages/geopandas/geodataframe.py:1442: UserWarning: Geometry column does not contain geometry.\n",
      "  warnings.warn(\"Geometry column does not contain geometry.\")\n"
     ]
    },
    {
     "name": "stdout",
     "output_type": "stream",
     "text": [
      "updated 97\n",
      "generating isochrones\n"
     ]
    },
    {
     "name": "stderr",
     "output_type": "stream",
     "text": [
      "/var/folders/2s/3b55fy1174l4bfchw66wdl800000gn/T/ipykernel_92403/2605401413.py:47: UserWarning: Geometry is in a geographic CRS. Results from 'area' are likely incorrect. Use 'GeoSeries.to_crs()' to re-project geometries to a projected CRS before this operation.\n",
      "\n",
      "  gdf['area'] = gdf['geometry'].area\n",
      "/Users/nabilersyad/miniconda3/envs/sql/lib/python3.9/site-packages/geopandas/geodataframe.py:1442: UserWarning: Geometry column does not contain geometry.\n",
      "  warnings.warn(\"Geometry column does not contain geometry.\")\n",
      "/var/folders/2s/3b55fy1174l4bfchw66wdl800000gn/T/ipykernel_92403/2605401413.py:80: UserWarning: Geometry is in a geographic CRS. Results from 'area' are likely incorrect. Use 'GeoSeries.to_crs()' to re-project geometries to a projected CRS before this operation.\n",
      "\n",
      "  combined_isochrones['area'] = combined_isochrones['geometry'].area\n",
      "/Users/nabilersyad/miniconda3/envs/sql/lib/python3.9/site-packages/geopandas/geodataframe.py:1442: UserWarning: Geometry column does not contain geometry.\n",
      "  warnings.warn(\"Geometry column does not contain geometry.\")\n"
     ]
    },
    {
     "name": "stdout",
     "output_type": "stream",
     "text": [
      "updated 98\n",
      "combining isochrones\n",
      "updated 99\n",
      "generating isochrones\n"
     ]
    },
    {
     "name": "stderr",
     "output_type": "stream",
     "text": [
      "/var/folders/2s/3b55fy1174l4bfchw66wdl800000gn/T/ipykernel_92403/2605401413.py:47: UserWarning: Geometry is in a geographic CRS. Results from 'area' are likely incorrect. Use 'GeoSeries.to_crs()' to re-project geometries to a projected CRS before this operation.\n",
      "\n",
      "  gdf['area'] = gdf['geometry'].area\n",
      "/Users/nabilersyad/miniconda3/envs/sql/lib/python3.9/site-packages/geopandas/geodataframe.py:1442: UserWarning: Geometry column does not contain geometry.\n",
      "  warnings.warn(\"Geometry column does not contain geometry.\")\n",
      "/var/folders/2s/3b55fy1174l4bfchw66wdl800000gn/T/ipykernel_92403/2605401413.py:80: UserWarning: Geometry is in a geographic CRS. Results from 'area' are likely incorrect. Use 'GeoSeries.to_crs()' to re-project geometries to a projected CRS before this operation.\n",
      "\n",
      "  combined_isochrones['area'] = combined_isochrones['geometry'].area\n",
      "/Users/nabilersyad/miniconda3/envs/sql/lib/python3.9/site-packages/geopandas/geodataframe.py:1442: UserWarning: Geometry column does not contain geometry.\n",
      "  warnings.warn(\"Geometry column does not contain geometry.\")\n"
     ]
    },
    {
     "name": "stdout",
     "output_type": "stream",
     "text": [
      "updated 100\n",
      "combining isochrones\n",
      "updated 101\n",
      "generating isochrones\n"
     ]
    },
    {
     "name": "stderr",
     "output_type": "stream",
     "text": [
      "/var/folders/2s/3b55fy1174l4bfchw66wdl800000gn/T/ipykernel_92403/2605401413.py:47: UserWarning: Geometry is in a geographic CRS. Results from 'area' are likely incorrect. Use 'GeoSeries.to_crs()' to re-project geometries to a projected CRS before this operation.\n",
      "\n",
      "  gdf['area'] = gdf['geometry'].area\n",
      "/Users/nabilersyad/miniconda3/envs/sql/lib/python3.9/site-packages/geopandas/geodataframe.py:1442: UserWarning: Geometry column does not contain geometry.\n",
      "  warnings.warn(\"Geometry column does not contain geometry.\")\n"
     ]
    },
    {
     "name": "stdout",
     "output_type": "stream",
     "text": [
      "updated 102\n",
      "generating isochrones\n"
     ]
    },
    {
     "name": "stderr",
     "output_type": "stream",
     "text": [
      "/var/folders/2s/3b55fy1174l4bfchw66wdl800000gn/T/ipykernel_92403/2605401413.py:47: UserWarning: Geometry is in a geographic CRS. Results from 'area' are likely incorrect. Use 'GeoSeries.to_crs()' to re-project geometries to a projected CRS before this operation.\n",
      "\n",
      "  gdf['area'] = gdf['geometry'].area\n",
      "/Users/nabilersyad/miniconda3/envs/sql/lib/python3.9/site-packages/geopandas/geodataframe.py:1442: UserWarning: Geometry column does not contain geometry.\n",
      "  warnings.warn(\"Geometry column does not contain geometry.\")\n",
      "/var/folders/2s/3b55fy1174l4bfchw66wdl800000gn/T/ipykernel_92403/2605401413.py:80: UserWarning: Geometry is in a geographic CRS. Results from 'area' are likely incorrect. Use 'GeoSeries.to_crs()' to re-project geometries to a projected CRS before this operation.\n",
      "\n",
      "  combined_isochrones['area'] = combined_isochrones['geometry'].area\n",
      "/Users/nabilersyad/miniconda3/envs/sql/lib/python3.9/site-packages/geopandas/geodataframe.py:1442: UserWarning: Geometry column does not contain geometry.\n",
      "  warnings.warn(\"Geometry column does not contain geometry.\")\n"
     ]
    },
    {
     "name": "stdout",
     "output_type": "stream",
     "text": [
      "updated 103\n",
      "combining isochrones\n",
      "updated 104\n",
      "generating isochrones\n"
     ]
    },
    {
     "name": "stderr",
     "output_type": "stream",
     "text": [
      "/var/folders/2s/3b55fy1174l4bfchw66wdl800000gn/T/ipykernel_92403/2605401413.py:47: UserWarning: Geometry is in a geographic CRS. Results from 'area' are likely incorrect. Use 'GeoSeries.to_crs()' to re-project geometries to a projected CRS before this operation.\n",
      "\n",
      "  gdf['area'] = gdf['geometry'].area\n",
      "/Users/nabilersyad/miniconda3/envs/sql/lib/python3.9/site-packages/geopandas/geodataframe.py:1442: UserWarning: Geometry column does not contain geometry.\n",
      "  warnings.warn(\"Geometry column does not contain geometry.\")\n"
     ]
    },
    {
     "name": "stdout",
     "output_type": "stream",
     "text": [
      "updated 105\n",
      "generating isochrones\n"
     ]
    },
    {
     "name": "stderr",
     "output_type": "stream",
     "text": [
      "/Users/nabilersyad/miniconda3/envs/sql/lib/python3.9/site-packages/openrouteservice/client.py:211: UserWarning: Rate limit exceeded. Retrying for the 1st time.\n",
      "  warnings.warn('Rate limit exceeded. Retrying for the {0}{1} time.'.format(retry_counter + 1,\n",
      "/Users/nabilersyad/miniconda3/envs/sql/lib/python3.9/site-packages/openrouteservice/client.py:211: UserWarning: Rate limit exceeded. Retrying for the 2nd time.\n",
      "  warnings.warn('Rate limit exceeded. Retrying for the {0}{1} time.'.format(retry_counter + 1,\n",
      "/Users/nabilersyad/miniconda3/envs/sql/lib/python3.9/site-packages/openrouteservice/client.py:211: UserWarning: Rate limit exceeded. Retrying for the 3rd time.\n",
      "  warnings.warn('Rate limit exceeded. Retrying for the {0}{1} time.'.format(retry_counter + 1,\n",
      "/Users/nabilersyad/miniconda3/envs/sql/lib/python3.9/site-packages/openrouteservice/client.py:211: UserWarning: Rate limit exceeded. Retrying for the 4th time.\n",
      "  warnings.warn('Rate limit exceeded. Retrying for the {0}{1} time.'.format(retry_counter + 1,\n",
      "/Users/nabilersyad/miniconda3/envs/sql/lib/python3.9/site-packages/openrouteservice/client.py:211: UserWarning: Rate limit exceeded. Retrying for the 5th time.\n",
      "  warnings.warn('Rate limit exceeded. Retrying for the {0}{1} time.'.format(retry_counter + 1,\n",
      "/Users/nabilersyad/miniconda3/envs/sql/lib/python3.9/site-packages/openrouteservice/client.py:211: UserWarning: Rate limit exceeded. Retrying for the 6th time.\n",
      "  warnings.warn('Rate limit exceeded. Retrying for the {0}{1} time.'.format(retry_counter + 1,\n",
      "/Users/nabilersyad/miniconda3/envs/sql/lib/python3.9/site-packages/openrouteservice/client.py:211: UserWarning: Rate limit exceeded. Retrying for the 7th time.\n",
      "  warnings.warn('Rate limit exceeded. Retrying for the {0}{1} time.'.format(retry_counter + 1,\n",
      "/Users/nabilersyad/miniconda3/envs/sql/lib/python3.9/site-packages/openrouteservice/client.py:211: UserWarning: Rate limit exceeded. Retrying for the 8th time.\n",
      "  warnings.warn('Rate limit exceeded. Retrying for the {0}{1} time.'.format(retry_counter + 1,\n",
      "/Users/nabilersyad/miniconda3/envs/sql/lib/python3.9/site-packages/openrouteservice/client.py:211: UserWarning: Rate limit exceeded. Retrying for the 9th time.\n",
      "  warnings.warn('Rate limit exceeded. Retrying for the {0}{1} time.'.format(retry_counter + 1,\n",
      "/var/folders/2s/3b55fy1174l4bfchw66wdl800000gn/T/ipykernel_92403/2605401413.py:47: UserWarning: Geometry is in a geographic CRS. Results from 'area' are likely incorrect. Use 'GeoSeries.to_crs()' to re-project geometries to a projected CRS before this operation.\n",
      "\n",
      "  gdf['area'] = gdf['geometry'].area\n",
      "/Users/nabilersyad/miniconda3/envs/sql/lib/python3.9/site-packages/geopandas/geodataframe.py:1442: UserWarning: Geometry column does not contain geometry.\n",
      "  warnings.warn(\"Geometry column does not contain geometry.\")\n"
     ]
    },
    {
     "name": "stdout",
     "output_type": "stream",
     "text": [
      "updated 106\n",
      "generating isochrones\n"
     ]
    },
    {
     "name": "stderr",
     "output_type": "stream",
     "text": [
      "/var/folders/2s/3b55fy1174l4bfchw66wdl800000gn/T/ipykernel_92403/2605401413.py:47: UserWarning: Geometry is in a geographic CRS. Results from 'area' are likely incorrect. Use 'GeoSeries.to_crs()' to re-project geometries to a projected CRS before this operation.\n",
      "\n",
      "  gdf['area'] = gdf['geometry'].area\n",
      "/Users/nabilersyad/miniconda3/envs/sql/lib/python3.9/site-packages/geopandas/geodataframe.py:1442: UserWarning: Geometry column does not contain geometry.\n",
      "  warnings.warn(\"Geometry column does not contain geometry.\")\n",
      "/var/folders/2s/3b55fy1174l4bfchw66wdl800000gn/T/ipykernel_92403/2605401413.py:80: UserWarning: Geometry is in a geographic CRS. Results from 'area' are likely incorrect. Use 'GeoSeries.to_crs()' to re-project geometries to a projected CRS before this operation.\n",
      "\n",
      "  combined_isochrones['area'] = combined_isochrones['geometry'].area\n",
      "/Users/nabilersyad/miniconda3/envs/sql/lib/python3.9/site-packages/geopandas/geodataframe.py:1442: UserWarning: Geometry column does not contain geometry.\n",
      "  warnings.warn(\"Geometry column does not contain geometry.\")\n",
      "/var/folders/2s/3b55fy1174l4bfchw66wdl800000gn/T/ipykernel_92403/2605401413.py:80: UserWarning: Geometry is in a geographic CRS. Results from 'area' are likely incorrect. Use 'GeoSeries.to_crs()' to re-project geometries to a projected CRS before this operation.\n",
      "\n",
      "  combined_isochrones['area'] = combined_isochrones['geometry'].area\n",
      "/Users/nabilersyad/miniconda3/envs/sql/lib/python3.9/site-packages/geopandas/geodataframe.py:1442: UserWarning: Geometry column does not contain geometry.\n",
      "  warnings.warn(\"Geometry column does not contain geometry.\")\n"
     ]
    },
    {
     "name": "stdout",
     "output_type": "stream",
     "text": [
      "updated 107\n",
      "combining isochrones\n",
      "updated 108\n",
      "combining isochrones\n",
      "updated 109\n",
      "generating isochrones\n"
     ]
    },
    {
     "name": "stderr",
     "output_type": "stream",
     "text": [
      "/var/folders/2s/3b55fy1174l4bfchw66wdl800000gn/T/ipykernel_92403/2605401413.py:47: UserWarning: Geometry is in a geographic CRS. Results from 'area' are likely incorrect. Use 'GeoSeries.to_crs()' to re-project geometries to a projected CRS before this operation.\n",
      "\n",
      "  gdf['area'] = gdf['geometry'].area\n",
      "/Users/nabilersyad/miniconda3/envs/sql/lib/python3.9/site-packages/geopandas/geodataframe.py:1442: UserWarning: Geometry column does not contain geometry.\n",
      "  warnings.warn(\"Geometry column does not contain geometry.\")\n",
      "/var/folders/2s/3b55fy1174l4bfchw66wdl800000gn/T/ipykernel_92403/2605401413.py:80: UserWarning: Geometry is in a geographic CRS. Results from 'area' are likely incorrect. Use 'GeoSeries.to_crs()' to re-project geometries to a projected CRS before this operation.\n",
      "\n",
      "  combined_isochrones['area'] = combined_isochrones['geometry'].area\n",
      "/Users/nabilersyad/miniconda3/envs/sql/lib/python3.9/site-packages/geopandas/geodataframe.py:1442: UserWarning: Geometry column does not contain geometry.\n",
      "  warnings.warn(\"Geometry column does not contain geometry.\")\n"
     ]
    },
    {
     "name": "stdout",
     "output_type": "stream",
     "text": [
      "updated 110\n",
      "combining isochrones\n",
      "updated 111\n",
      "generating isochrones\n"
     ]
    },
    {
     "name": "stderr",
     "output_type": "stream",
     "text": [
      "/var/folders/2s/3b55fy1174l4bfchw66wdl800000gn/T/ipykernel_92403/2605401413.py:47: UserWarning: Geometry is in a geographic CRS. Results from 'area' are likely incorrect. Use 'GeoSeries.to_crs()' to re-project geometries to a projected CRS before this operation.\n",
      "\n",
      "  gdf['area'] = gdf['geometry'].area\n",
      "/Users/nabilersyad/miniconda3/envs/sql/lib/python3.9/site-packages/geopandas/geodataframe.py:1442: UserWarning: Geometry column does not contain geometry.\n",
      "  warnings.warn(\"Geometry column does not contain geometry.\")\n"
     ]
    },
    {
     "name": "stdout",
     "output_type": "stream",
     "text": [
      "updated 112\n",
      "generating isochrones\n"
     ]
    },
    {
     "name": "stderr",
     "output_type": "stream",
     "text": [
      "/var/folders/2s/3b55fy1174l4bfchw66wdl800000gn/T/ipykernel_92403/2605401413.py:47: UserWarning: Geometry is in a geographic CRS. Results from 'area' are likely incorrect. Use 'GeoSeries.to_crs()' to re-project geometries to a projected CRS before this operation.\n",
      "\n",
      "  gdf['area'] = gdf['geometry'].area\n",
      "/Users/nabilersyad/miniconda3/envs/sql/lib/python3.9/site-packages/geopandas/geodataframe.py:1442: UserWarning: Geometry column does not contain geometry.\n",
      "  warnings.warn(\"Geometry column does not contain geometry.\")\n"
     ]
    },
    {
     "name": "stdout",
     "output_type": "stream",
     "text": [
      "updated 113\n",
      "generating isochrones\n"
     ]
    },
    {
     "name": "stderr",
     "output_type": "stream",
     "text": [
      "/var/folders/2s/3b55fy1174l4bfchw66wdl800000gn/T/ipykernel_92403/2605401413.py:47: UserWarning: Geometry is in a geographic CRS. Results from 'area' are likely incorrect. Use 'GeoSeries.to_crs()' to re-project geometries to a projected CRS before this operation.\n",
      "\n",
      "  gdf['area'] = gdf['geometry'].area\n",
      "/Users/nabilersyad/miniconda3/envs/sql/lib/python3.9/site-packages/geopandas/geodataframe.py:1442: UserWarning: Geometry column does not contain geometry.\n",
      "  warnings.warn(\"Geometry column does not contain geometry.\")\n"
     ]
    },
    {
     "name": "stdout",
     "output_type": "stream",
     "text": [
      "updated 114\n",
      "generating isochrones\n"
     ]
    },
    {
     "name": "stderr",
     "output_type": "stream",
     "text": [
      "/var/folders/2s/3b55fy1174l4bfchw66wdl800000gn/T/ipykernel_92403/2605401413.py:47: UserWarning: Geometry is in a geographic CRS. Results from 'area' are likely incorrect. Use 'GeoSeries.to_crs()' to re-project geometries to a projected CRS before this operation.\n",
      "\n",
      "  gdf['area'] = gdf['geometry'].area\n",
      "/Users/nabilersyad/miniconda3/envs/sql/lib/python3.9/site-packages/geopandas/geodataframe.py:1442: UserWarning: Geometry column does not contain geometry.\n",
      "  warnings.warn(\"Geometry column does not contain geometry.\")\n"
     ]
    },
    {
     "name": "stdout",
     "output_type": "stream",
     "text": [
      "updated 115\n",
      "generating isochrones\n"
     ]
    },
    {
     "name": "stderr",
     "output_type": "stream",
     "text": [
      "/var/folders/2s/3b55fy1174l4bfchw66wdl800000gn/T/ipykernel_92403/2605401413.py:47: UserWarning: Geometry is in a geographic CRS. Results from 'area' are likely incorrect. Use 'GeoSeries.to_crs()' to re-project geometries to a projected CRS before this operation.\n",
      "\n",
      "  gdf['area'] = gdf['geometry'].area\n",
      "/Users/nabilersyad/miniconda3/envs/sql/lib/python3.9/site-packages/geopandas/geodataframe.py:1442: UserWarning: Geometry column does not contain geometry.\n",
      "  warnings.warn(\"Geometry column does not contain geometry.\")\n",
      "/var/folders/2s/3b55fy1174l4bfchw66wdl800000gn/T/ipykernel_92403/2605401413.py:80: UserWarning: Geometry is in a geographic CRS. Results from 'area' are likely incorrect. Use 'GeoSeries.to_crs()' to re-project geometries to a projected CRS before this operation.\n",
      "\n",
      "  combined_isochrones['area'] = combined_isochrones['geometry'].area\n",
      "/Users/nabilersyad/miniconda3/envs/sql/lib/python3.9/site-packages/geopandas/geodataframe.py:1442: UserWarning: Geometry column does not contain geometry.\n",
      "  warnings.warn(\"Geometry column does not contain geometry.\")\n"
     ]
    },
    {
     "name": "stdout",
     "output_type": "stream",
     "text": [
      "updated 116\n",
      "combining isochrones\n",
      "updated 117\n",
      "generating isochrones\n"
     ]
    },
    {
     "name": "stderr",
     "output_type": "stream",
     "text": [
      "/var/folders/2s/3b55fy1174l4bfchw66wdl800000gn/T/ipykernel_92403/2605401413.py:47: UserWarning: Geometry is in a geographic CRS. Results from 'area' are likely incorrect. Use 'GeoSeries.to_crs()' to re-project geometries to a projected CRS before this operation.\n",
      "\n",
      "  gdf['area'] = gdf['geometry'].area\n",
      "/Users/nabilersyad/miniconda3/envs/sql/lib/python3.9/site-packages/geopandas/geodataframe.py:1442: UserWarning: Geometry column does not contain geometry.\n",
      "  warnings.warn(\"Geometry column does not contain geometry.\")\n",
      "/var/folders/2s/3b55fy1174l4bfchw66wdl800000gn/T/ipykernel_92403/2605401413.py:80: UserWarning: Geometry is in a geographic CRS. Results from 'area' are likely incorrect. Use 'GeoSeries.to_crs()' to re-project geometries to a projected CRS before this operation.\n",
      "\n",
      "  combined_isochrones['area'] = combined_isochrones['geometry'].area\n",
      "/Users/nabilersyad/miniconda3/envs/sql/lib/python3.9/site-packages/geopandas/geodataframe.py:1442: UserWarning: Geometry column does not contain geometry.\n",
      "  warnings.warn(\"Geometry column does not contain geometry.\")\n",
      "/var/folders/2s/3b55fy1174l4bfchw66wdl800000gn/T/ipykernel_92403/2605401413.py:80: UserWarning: Geometry is in a geographic CRS. Results from 'area' are likely incorrect. Use 'GeoSeries.to_crs()' to re-project geometries to a projected CRS before this operation.\n",
      "\n",
      "  combined_isochrones['area'] = combined_isochrones['geometry'].area\n",
      "/Users/nabilersyad/miniconda3/envs/sql/lib/python3.9/site-packages/geopandas/geodataframe.py:1442: UserWarning: Geometry column does not contain geometry.\n",
      "  warnings.warn(\"Geometry column does not contain geometry.\")\n"
     ]
    },
    {
     "name": "stdout",
     "output_type": "stream",
     "text": [
      "updated 118\n",
      "combining isochrones\n",
      "updated 119\n",
      "combining isochrones\n",
      "updated 120\n",
      "combining isochrones\n"
     ]
    },
    {
     "name": "stderr",
     "output_type": "stream",
     "text": [
      "/var/folders/2s/3b55fy1174l4bfchw66wdl800000gn/T/ipykernel_92403/2605401413.py:80: UserWarning: Geometry is in a geographic CRS. Results from 'area' are likely incorrect. Use 'GeoSeries.to_crs()' to re-project geometries to a projected CRS before this operation.\n",
      "\n",
      "  combined_isochrones['area'] = combined_isochrones['geometry'].area\n",
      "/Users/nabilersyad/miniconda3/envs/sql/lib/python3.9/site-packages/geopandas/geodataframe.py:1442: UserWarning: Geometry column does not contain geometry.\n",
      "  warnings.warn(\"Geometry column does not contain geometry.\")\n",
      "/var/folders/2s/3b55fy1174l4bfchw66wdl800000gn/T/ipykernel_92403/2605401413.py:80: UserWarning: Geometry is in a geographic CRS. Results from 'area' are likely incorrect. Use 'GeoSeries.to_crs()' to re-project geometries to a projected CRS before this operation.\n",
      "\n",
      "  combined_isochrones['area'] = combined_isochrones['geometry'].area\n",
      "/Users/nabilersyad/miniconda3/envs/sql/lib/python3.9/site-packages/geopandas/geodataframe.py:1442: UserWarning: Geometry column does not contain geometry.\n",
      "  warnings.warn(\"Geometry column does not contain geometry.\")\n",
      "/var/folders/2s/3b55fy1174l4bfchw66wdl800000gn/T/ipykernel_92403/2605401413.py:80: UserWarning: Geometry is in a geographic CRS. Results from 'area' are likely incorrect. Use 'GeoSeries.to_crs()' to re-project geometries to a projected CRS before this operation.\n",
      "\n",
      "  combined_isochrones['area'] = combined_isochrones['geometry'].area\n",
      "/Users/nabilersyad/miniconda3/envs/sql/lib/python3.9/site-packages/geopandas/geodataframe.py:1442: UserWarning: Geometry column does not contain geometry.\n",
      "  warnings.warn(\"Geometry column does not contain geometry.\")\n"
     ]
    },
    {
     "name": "stdout",
     "output_type": "stream",
     "text": [
      "updated 121\n",
      "combining isochrones\n",
      "updated 122\n",
      "combining isochrones\n",
      "updated 123\n",
      "generating isochrones\n"
     ]
    },
    {
     "name": "stderr",
     "output_type": "stream",
     "text": [
      "/var/folders/2s/3b55fy1174l4bfchw66wdl800000gn/T/ipykernel_92403/2605401413.py:47: UserWarning: Geometry is in a geographic CRS. Results from 'area' are likely incorrect. Use 'GeoSeries.to_crs()' to re-project geometries to a projected CRS before this operation.\n",
      "\n",
      "  gdf['area'] = gdf['geometry'].area\n",
      "/Users/nabilersyad/miniconda3/envs/sql/lib/python3.9/site-packages/geopandas/geodataframe.py:1442: UserWarning: Geometry column does not contain geometry.\n",
      "  warnings.warn(\"Geometry column does not contain geometry.\")\n"
     ]
    },
    {
     "name": "stdout",
     "output_type": "stream",
     "text": [
      "updated 124\n",
      "generating isochrones\n"
     ]
    },
    {
     "name": "stderr",
     "output_type": "stream",
     "text": [
      "/var/folders/2s/3b55fy1174l4bfchw66wdl800000gn/T/ipykernel_92403/2605401413.py:47: UserWarning: Geometry is in a geographic CRS. Results from 'area' are likely incorrect. Use 'GeoSeries.to_crs()' to re-project geometries to a projected CRS before this operation.\n",
      "\n",
      "  gdf['area'] = gdf['geometry'].area\n",
      "/Users/nabilersyad/miniconda3/envs/sql/lib/python3.9/site-packages/geopandas/geodataframe.py:1442: UserWarning: Geometry column does not contain geometry.\n",
      "  warnings.warn(\"Geometry column does not contain geometry.\")\n",
      "/var/folders/2s/3b55fy1174l4bfchw66wdl800000gn/T/ipykernel_92403/2605401413.py:80: UserWarning: Geometry is in a geographic CRS. Results from 'area' are likely incorrect. Use 'GeoSeries.to_crs()' to re-project geometries to a projected CRS before this operation.\n",
      "\n",
      "  combined_isochrones['area'] = combined_isochrones['geometry'].area\n",
      "/Users/nabilersyad/miniconda3/envs/sql/lib/python3.9/site-packages/geopandas/geodataframe.py:1442: UserWarning: Geometry column does not contain geometry.\n",
      "  warnings.warn(\"Geometry column does not contain geometry.\")\n"
     ]
    },
    {
     "name": "stdout",
     "output_type": "stream",
     "text": [
      "updated 125\n",
      "combining isochrones\n",
      "updated 126\n",
      "generating isochrones\n"
     ]
    },
    {
     "name": "stderr",
     "output_type": "stream",
     "text": [
      "/var/folders/2s/3b55fy1174l4bfchw66wdl800000gn/T/ipykernel_92403/2605401413.py:47: UserWarning: Geometry is in a geographic CRS. Results from 'area' are likely incorrect. Use 'GeoSeries.to_crs()' to re-project geometries to a projected CRS before this operation.\n",
      "\n",
      "  gdf['area'] = gdf['geometry'].area\n",
      "/Users/nabilersyad/miniconda3/envs/sql/lib/python3.9/site-packages/geopandas/geodataframe.py:1442: UserWarning: Geometry column does not contain geometry.\n",
      "  warnings.warn(\"Geometry column does not contain geometry.\")\n",
      "/var/folders/2s/3b55fy1174l4bfchw66wdl800000gn/T/ipykernel_92403/2605401413.py:80: UserWarning: Geometry is in a geographic CRS. Results from 'area' are likely incorrect. Use 'GeoSeries.to_crs()' to re-project geometries to a projected CRS before this operation.\n",
      "\n",
      "  combined_isochrones['area'] = combined_isochrones['geometry'].area\n",
      "/Users/nabilersyad/miniconda3/envs/sql/lib/python3.9/site-packages/geopandas/geodataframe.py:1442: UserWarning: Geometry column does not contain geometry.\n",
      "  warnings.warn(\"Geometry column does not contain geometry.\")\n"
     ]
    },
    {
     "name": "stdout",
     "output_type": "stream",
     "text": [
      "updated 127\n",
      "combining isochrones\n",
      "updated 128\n",
      "generating isochrones\n"
     ]
    },
    {
     "name": "stderr",
     "output_type": "stream",
     "text": [
      "/var/folders/2s/3b55fy1174l4bfchw66wdl800000gn/T/ipykernel_92403/2605401413.py:47: UserWarning: Geometry is in a geographic CRS. Results from 'area' are likely incorrect. Use 'GeoSeries.to_crs()' to re-project geometries to a projected CRS before this operation.\n",
      "\n",
      "  gdf['area'] = gdf['geometry'].area\n",
      "/Users/nabilersyad/miniconda3/envs/sql/lib/python3.9/site-packages/geopandas/geodataframe.py:1442: UserWarning: Geometry column does not contain geometry.\n",
      "  warnings.warn(\"Geometry column does not contain geometry.\")\n",
      "/var/folders/2s/3b55fy1174l4bfchw66wdl800000gn/T/ipykernel_92403/2605401413.py:80: UserWarning: Geometry is in a geographic CRS. Results from 'area' are likely incorrect. Use 'GeoSeries.to_crs()' to re-project geometries to a projected CRS before this operation.\n",
      "\n",
      "  combined_isochrones['area'] = combined_isochrones['geometry'].area\n",
      "/Users/nabilersyad/miniconda3/envs/sql/lib/python3.9/site-packages/geopandas/geodataframe.py:1442: UserWarning: Geometry column does not contain geometry.\n",
      "  warnings.warn(\"Geometry column does not contain geometry.\")\n"
     ]
    },
    {
     "name": "stdout",
     "output_type": "stream",
     "text": [
      "updated 129\n",
      "combining isochrones\n",
      "updated 130\n",
      "generating isochrones\n"
     ]
    },
    {
     "name": "stderr",
     "output_type": "stream",
     "text": [
      "/var/folders/2s/3b55fy1174l4bfchw66wdl800000gn/T/ipykernel_92403/2605401413.py:47: UserWarning: Geometry is in a geographic CRS. Results from 'area' are likely incorrect. Use 'GeoSeries.to_crs()' to re-project geometries to a projected CRS before this operation.\n",
      "\n",
      "  gdf['area'] = gdf['geometry'].area\n",
      "/Users/nabilersyad/miniconda3/envs/sql/lib/python3.9/site-packages/geopandas/geodataframe.py:1442: UserWarning: Geometry column does not contain geometry.\n",
      "  warnings.warn(\"Geometry column does not contain geometry.\")\n"
     ]
    },
    {
     "name": "stdout",
     "output_type": "stream",
     "text": [
      "updated 131\n",
      "generating isochrones\n"
     ]
    },
    {
     "name": "stderr",
     "output_type": "stream",
     "text": [
      "/var/folders/2s/3b55fy1174l4bfchw66wdl800000gn/T/ipykernel_92403/2605401413.py:47: UserWarning: Geometry is in a geographic CRS. Results from 'area' are likely incorrect. Use 'GeoSeries.to_crs()' to re-project geometries to a projected CRS before this operation.\n",
      "\n",
      "  gdf['area'] = gdf['geometry'].area\n",
      "/Users/nabilersyad/miniconda3/envs/sql/lib/python3.9/site-packages/geopandas/geodataframe.py:1442: UserWarning: Geometry column does not contain geometry.\n",
      "  warnings.warn(\"Geometry column does not contain geometry.\")\n"
     ]
    },
    {
     "name": "stdout",
     "output_type": "stream",
     "text": [
      "updated 132\n",
      "generating isochrones\n"
     ]
    },
    {
     "name": "stderr",
     "output_type": "stream",
     "text": [
      "/var/folders/2s/3b55fy1174l4bfchw66wdl800000gn/T/ipykernel_92403/2605401413.py:47: UserWarning: Geometry is in a geographic CRS. Results from 'area' are likely incorrect. Use 'GeoSeries.to_crs()' to re-project geometries to a projected CRS before this operation.\n",
      "\n",
      "  gdf['area'] = gdf['geometry'].area\n",
      "/Users/nabilersyad/miniconda3/envs/sql/lib/python3.9/site-packages/geopandas/geodataframe.py:1442: UserWarning: Geometry column does not contain geometry.\n",
      "  warnings.warn(\"Geometry column does not contain geometry.\")\n",
      "/var/folders/2s/3b55fy1174l4bfchw66wdl800000gn/T/ipykernel_92403/2605401413.py:80: UserWarning: Geometry is in a geographic CRS. Results from 'area' are likely incorrect. Use 'GeoSeries.to_crs()' to re-project geometries to a projected CRS before this operation.\n",
      "\n",
      "  combined_isochrones['area'] = combined_isochrones['geometry'].area\n",
      "/Users/nabilersyad/miniconda3/envs/sql/lib/python3.9/site-packages/geopandas/geodataframe.py:1442: UserWarning: Geometry column does not contain geometry.\n",
      "  warnings.warn(\"Geometry column does not contain geometry.\")\n"
     ]
    },
    {
     "name": "stdout",
     "output_type": "stream",
     "text": [
      "updated 133\n",
      "combining isochrones\n",
      "updated 134\n",
      "generating isochrones\n"
     ]
    },
    {
     "name": "stderr",
     "output_type": "stream",
     "text": [
      "/var/folders/2s/3b55fy1174l4bfchw66wdl800000gn/T/ipykernel_92403/2605401413.py:47: UserWarning: Geometry is in a geographic CRS. Results from 'area' are likely incorrect. Use 'GeoSeries.to_crs()' to re-project geometries to a projected CRS before this operation.\n",
      "\n",
      "  gdf['area'] = gdf['geometry'].area\n",
      "/Users/nabilersyad/miniconda3/envs/sql/lib/python3.9/site-packages/geopandas/geodataframe.py:1442: UserWarning: Geometry column does not contain geometry.\n",
      "  warnings.warn(\"Geometry column does not contain geometry.\")\n"
     ]
    },
    {
     "name": "stdout",
     "output_type": "stream",
     "text": [
      "updated 135\n",
      "generating isochrones\n"
     ]
    },
    {
     "name": "stderr",
     "output_type": "stream",
     "text": [
      "/Users/nabilersyad/miniconda3/envs/sql/lib/python3.9/site-packages/openrouteservice/client.py:211: UserWarning: Rate limit exceeded. Retrying for the 1st time.\n",
      "  warnings.warn('Rate limit exceeded. Retrying for the {0}{1} time.'.format(retry_counter + 1,\n",
      "/Users/nabilersyad/miniconda3/envs/sql/lib/python3.9/site-packages/openrouteservice/client.py:211: UserWarning: Rate limit exceeded. Retrying for the 2nd time.\n",
      "  warnings.warn('Rate limit exceeded. Retrying for the {0}{1} time.'.format(retry_counter + 1,\n",
      "/Users/nabilersyad/miniconda3/envs/sql/lib/python3.9/site-packages/openrouteservice/client.py:211: UserWarning: Rate limit exceeded. Retrying for the 3rd time.\n",
      "  warnings.warn('Rate limit exceeded. Retrying for the {0}{1} time.'.format(retry_counter + 1,\n",
      "/Users/nabilersyad/miniconda3/envs/sql/lib/python3.9/site-packages/openrouteservice/client.py:211: UserWarning: Rate limit exceeded. Retrying for the 4th time.\n",
      "  warnings.warn('Rate limit exceeded. Retrying for the {0}{1} time.'.format(retry_counter + 1,\n",
      "/Users/nabilersyad/miniconda3/envs/sql/lib/python3.9/site-packages/openrouteservice/client.py:211: UserWarning: Rate limit exceeded. Retrying for the 5th time.\n",
      "  warnings.warn('Rate limit exceeded. Retrying for the {0}{1} time.'.format(retry_counter + 1,\n",
      "/Users/nabilersyad/miniconda3/envs/sql/lib/python3.9/site-packages/openrouteservice/client.py:211: UserWarning: Rate limit exceeded. Retrying for the 6th time.\n",
      "  warnings.warn('Rate limit exceeded. Retrying for the {0}{1} time.'.format(retry_counter + 1,\n",
      "/Users/nabilersyad/miniconda3/envs/sql/lib/python3.9/site-packages/openrouteservice/client.py:211: UserWarning: Rate limit exceeded. Retrying for the 7th time.\n",
      "  warnings.warn('Rate limit exceeded. Retrying for the {0}{1} time.'.format(retry_counter + 1,\n",
      "/Users/nabilersyad/miniconda3/envs/sql/lib/python3.9/site-packages/openrouteservice/client.py:211: UserWarning: Rate limit exceeded. Retrying for the 8th time.\n",
      "  warnings.warn('Rate limit exceeded. Retrying for the {0}{1} time.'.format(retry_counter + 1,\n",
      "/Users/nabilersyad/miniconda3/envs/sql/lib/python3.9/site-packages/openrouteservice/client.py:211: UserWarning: Rate limit exceeded. Retrying for the 9th time.\n",
      "  warnings.warn('Rate limit exceeded. Retrying for the {0}{1} time.'.format(retry_counter + 1,\n",
      "/var/folders/2s/3b55fy1174l4bfchw66wdl800000gn/T/ipykernel_92403/2605401413.py:47: UserWarning: Geometry is in a geographic CRS. Results from 'area' are likely incorrect. Use 'GeoSeries.to_crs()' to re-project geometries to a projected CRS before this operation.\n",
      "\n",
      "  gdf['area'] = gdf['geometry'].area\n",
      "/Users/nabilersyad/miniconda3/envs/sql/lib/python3.9/site-packages/geopandas/geodataframe.py:1442: UserWarning: Geometry column does not contain geometry.\n",
      "  warnings.warn(\"Geometry column does not contain geometry.\")\n"
     ]
    },
    {
     "name": "stdout",
     "output_type": "stream",
     "text": [
      "updated 136\n",
      "generating isochrones\n"
     ]
    },
    {
     "name": "stderr",
     "output_type": "stream",
     "text": [
      "/var/folders/2s/3b55fy1174l4bfchw66wdl800000gn/T/ipykernel_92403/2605401413.py:47: UserWarning: Geometry is in a geographic CRS. Results from 'area' are likely incorrect. Use 'GeoSeries.to_crs()' to re-project geometries to a projected CRS before this operation.\n",
      "\n",
      "  gdf['area'] = gdf['geometry'].area\n",
      "/Users/nabilersyad/miniconda3/envs/sql/lib/python3.9/site-packages/geopandas/geodataframe.py:1442: UserWarning: Geometry column does not contain geometry.\n",
      "  warnings.warn(\"Geometry column does not contain geometry.\")\n"
     ]
    },
    {
     "name": "stdout",
     "output_type": "stream",
     "text": [
      "updated 137\n",
      "generating isochrones\n"
     ]
    },
    {
     "name": "stderr",
     "output_type": "stream",
     "text": [
      "/var/folders/2s/3b55fy1174l4bfchw66wdl800000gn/T/ipykernel_92403/2605401413.py:47: UserWarning: Geometry is in a geographic CRS. Results from 'area' are likely incorrect. Use 'GeoSeries.to_crs()' to re-project geometries to a projected CRS before this operation.\n",
      "\n",
      "  gdf['area'] = gdf['geometry'].area\n",
      "/Users/nabilersyad/miniconda3/envs/sql/lib/python3.9/site-packages/geopandas/geodataframe.py:1442: UserWarning: Geometry column does not contain geometry.\n",
      "  warnings.warn(\"Geometry column does not contain geometry.\")\n",
      "/var/folders/2s/3b55fy1174l4bfchw66wdl800000gn/T/ipykernel_92403/2605401413.py:80: UserWarning: Geometry is in a geographic CRS. Results from 'area' are likely incorrect. Use 'GeoSeries.to_crs()' to re-project geometries to a projected CRS before this operation.\n",
      "\n",
      "  combined_isochrones['area'] = combined_isochrones['geometry'].area\n",
      "/Users/nabilersyad/miniconda3/envs/sql/lib/python3.9/site-packages/geopandas/geodataframe.py:1442: UserWarning: Geometry column does not contain geometry.\n",
      "  warnings.warn(\"Geometry column does not contain geometry.\")\n"
     ]
    },
    {
     "name": "stdout",
     "output_type": "stream",
     "text": [
      "updated 138\n",
      "combining isochrones\n",
      "updated 139\n",
      "generating isochrones\n"
     ]
    },
    {
     "name": "stderr",
     "output_type": "stream",
     "text": [
      "/var/folders/2s/3b55fy1174l4bfchw66wdl800000gn/T/ipykernel_92403/2605401413.py:47: UserWarning: Geometry is in a geographic CRS. Results from 'area' are likely incorrect. Use 'GeoSeries.to_crs()' to re-project geometries to a projected CRS before this operation.\n",
      "\n",
      "  gdf['area'] = gdf['geometry'].area\n",
      "/Users/nabilersyad/miniconda3/envs/sql/lib/python3.9/site-packages/geopandas/geodataframe.py:1442: UserWarning: Geometry column does not contain geometry.\n",
      "  warnings.warn(\"Geometry column does not contain geometry.\")\n",
      "/var/folders/2s/3b55fy1174l4bfchw66wdl800000gn/T/ipykernel_92403/2605401413.py:80: UserWarning: Geometry is in a geographic CRS. Results from 'area' are likely incorrect. Use 'GeoSeries.to_crs()' to re-project geometries to a projected CRS before this operation.\n",
      "\n",
      "  combined_isochrones['area'] = combined_isochrones['geometry'].area\n",
      "/Users/nabilersyad/miniconda3/envs/sql/lib/python3.9/site-packages/geopandas/geodataframe.py:1442: UserWarning: Geometry column does not contain geometry.\n",
      "  warnings.warn(\"Geometry column does not contain geometry.\")\n"
     ]
    },
    {
     "name": "stdout",
     "output_type": "stream",
     "text": [
      "updated 140\n",
      "combining isochrones\n",
      "updated 141\n",
      "generating isochrones\n"
     ]
    },
    {
     "name": "stderr",
     "output_type": "stream",
     "text": [
      "/var/folders/2s/3b55fy1174l4bfchw66wdl800000gn/T/ipykernel_92403/2605401413.py:47: UserWarning: Geometry is in a geographic CRS. Results from 'area' are likely incorrect. Use 'GeoSeries.to_crs()' to re-project geometries to a projected CRS before this operation.\n",
      "\n",
      "  gdf['area'] = gdf['geometry'].area\n",
      "/Users/nabilersyad/miniconda3/envs/sql/lib/python3.9/site-packages/geopandas/geodataframe.py:1442: UserWarning: Geometry column does not contain geometry.\n",
      "  warnings.warn(\"Geometry column does not contain geometry.\")\n",
      "/var/folders/2s/3b55fy1174l4bfchw66wdl800000gn/T/ipykernel_92403/2605401413.py:80: UserWarning: Geometry is in a geographic CRS. Results from 'area' are likely incorrect. Use 'GeoSeries.to_crs()' to re-project geometries to a projected CRS before this operation.\n",
      "\n",
      "  combined_isochrones['area'] = combined_isochrones['geometry'].area\n",
      "/Users/nabilersyad/miniconda3/envs/sql/lib/python3.9/site-packages/geopandas/geodataframe.py:1442: UserWarning: Geometry column does not contain geometry.\n",
      "  warnings.warn(\"Geometry column does not contain geometry.\")\n"
     ]
    },
    {
     "name": "stdout",
     "output_type": "stream",
     "text": [
      "updated 142\n",
      "combining isochrones\n",
      "updated 143\n",
      "generating isochrones\n"
     ]
    },
    {
     "name": "stderr",
     "output_type": "stream",
     "text": [
      "/var/folders/2s/3b55fy1174l4bfchw66wdl800000gn/T/ipykernel_92403/2605401413.py:47: UserWarning: Geometry is in a geographic CRS. Results from 'area' are likely incorrect. Use 'GeoSeries.to_crs()' to re-project geometries to a projected CRS before this operation.\n",
      "\n",
      "  gdf['area'] = gdf['geometry'].area\n",
      "/Users/nabilersyad/miniconda3/envs/sql/lib/python3.9/site-packages/geopandas/geodataframe.py:1442: UserWarning: Geometry column does not contain geometry.\n",
      "  warnings.warn(\"Geometry column does not contain geometry.\")\n"
     ]
    },
    {
     "name": "stdout",
     "output_type": "stream",
     "text": [
      "updated 144\n",
      "generating isochrones\n"
     ]
    },
    {
     "name": "stderr",
     "output_type": "stream",
     "text": [
      "/var/folders/2s/3b55fy1174l4bfchw66wdl800000gn/T/ipykernel_92403/2605401413.py:47: UserWarning: Geometry is in a geographic CRS. Results from 'area' are likely incorrect. Use 'GeoSeries.to_crs()' to re-project geometries to a projected CRS before this operation.\n",
      "\n",
      "  gdf['area'] = gdf['geometry'].area\n",
      "/Users/nabilersyad/miniconda3/envs/sql/lib/python3.9/site-packages/geopandas/geodataframe.py:1442: UserWarning: Geometry column does not contain geometry.\n",
      "  warnings.warn(\"Geometry column does not contain geometry.\")\n"
     ]
    },
    {
     "name": "stdout",
     "output_type": "stream",
     "text": [
      "updated 145\n",
      "generating isochrones\n"
     ]
    },
    {
     "name": "stderr",
     "output_type": "stream",
     "text": [
      "/var/folders/2s/3b55fy1174l4bfchw66wdl800000gn/T/ipykernel_92403/2605401413.py:47: UserWarning: Geometry is in a geographic CRS. Results from 'area' are likely incorrect. Use 'GeoSeries.to_crs()' to re-project geometries to a projected CRS before this operation.\n",
      "\n",
      "  gdf['area'] = gdf['geometry'].area\n",
      "/Users/nabilersyad/miniconda3/envs/sql/lib/python3.9/site-packages/geopandas/geodataframe.py:1442: UserWarning: Geometry column does not contain geometry.\n",
      "  warnings.warn(\"Geometry column does not contain geometry.\")\n"
     ]
    },
    {
     "name": "stdout",
     "output_type": "stream",
     "text": [
      "updated 146\n",
      "generating isochrones\n"
     ]
    },
    {
     "name": "stderr",
     "output_type": "stream",
     "text": [
      "/var/folders/2s/3b55fy1174l4bfchw66wdl800000gn/T/ipykernel_92403/2605401413.py:47: UserWarning: Geometry is in a geographic CRS. Results from 'area' are likely incorrect. Use 'GeoSeries.to_crs()' to re-project geometries to a projected CRS before this operation.\n",
      "\n",
      "  gdf['area'] = gdf['geometry'].area\n",
      "/Users/nabilersyad/miniconda3/envs/sql/lib/python3.9/site-packages/geopandas/geodataframe.py:1442: UserWarning: Geometry column does not contain geometry.\n",
      "  warnings.warn(\"Geometry column does not contain geometry.\")\n"
     ]
    },
    {
     "name": "stdout",
     "output_type": "stream",
     "text": [
      "updated 147\n",
      "generating isochrones\n"
     ]
    },
    {
     "name": "stderr",
     "output_type": "stream",
     "text": [
      "/var/folders/2s/3b55fy1174l4bfchw66wdl800000gn/T/ipykernel_92403/2605401413.py:47: UserWarning: Geometry is in a geographic CRS. Results from 'area' are likely incorrect. Use 'GeoSeries.to_crs()' to re-project geometries to a projected CRS before this operation.\n",
      "\n",
      "  gdf['area'] = gdf['geometry'].area\n",
      "/Users/nabilersyad/miniconda3/envs/sql/lib/python3.9/site-packages/geopandas/geodataframe.py:1442: UserWarning: Geometry column does not contain geometry.\n",
      "  warnings.warn(\"Geometry column does not contain geometry.\")\n"
     ]
    },
    {
     "name": "stdout",
     "output_type": "stream",
     "text": [
      "updated 148\n",
      "generating isochrones\n"
     ]
    },
    {
     "name": "stderr",
     "output_type": "stream",
     "text": [
      "/var/folders/2s/3b55fy1174l4bfchw66wdl800000gn/T/ipykernel_92403/2605401413.py:47: UserWarning: Geometry is in a geographic CRS. Results from 'area' are likely incorrect. Use 'GeoSeries.to_crs()' to re-project geometries to a projected CRS before this operation.\n",
      "\n",
      "  gdf['area'] = gdf['geometry'].area\n",
      "/Users/nabilersyad/miniconda3/envs/sql/lib/python3.9/site-packages/geopandas/geodataframe.py:1442: UserWarning: Geometry column does not contain geometry.\n",
      "  warnings.warn(\"Geometry column does not contain geometry.\")\n"
     ]
    },
    {
     "name": "stdout",
     "output_type": "stream",
     "text": [
      "updated 149\n",
      "generating isochrones\n"
     ]
    },
    {
     "name": "stderr",
     "output_type": "stream",
     "text": [
      "/var/folders/2s/3b55fy1174l4bfchw66wdl800000gn/T/ipykernel_92403/2605401413.py:47: UserWarning: Geometry is in a geographic CRS. Results from 'area' are likely incorrect. Use 'GeoSeries.to_crs()' to re-project geometries to a projected CRS before this operation.\n",
      "\n",
      "  gdf['area'] = gdf['geometry'].area\n",
      "/Users/nabilersyad/miniconda3/envs/sql/lib/python3.9/site-packages/geopandas/geodataframe.py:1442: UserWarning: Geometry column does not contain geometry.\n",
      "  warnings.warn(\"Geometry column does not contain geometry.\")\n"
     ]
    },
    {
     "name": "stdout",
     "output_type": "stream",
     "text": [
      "updated 150\n",
      "generating isochrones\n"
     ]
    },
    {
     "name": "stderr",
     "output_type": "stream",
     "text": [
      "/var/folders/2s/3b55fy1174l4bfchw66wdl800000gn/T/ipykernel_92403/2605401413.py:47: UserWarning: Geometry is in a geographic CRS. Results from 'area' are likely incorrect. Use 'GeoSeries.to_crs()' to re-project geometries to a projected CRS before this operation.\n",
      "\n",
      "  gdf['area'] = gdf['geometry'].area\n",
      "/Users/nabilersyad/miniconda3/envs/sql/lib/python3.9/site-packages/geopandas/geodataframe.py:1442: UserWarning: Geometry column does not contain geometry.\n",
      "  warnings.warn(\"Geometry column does not contain geometry.\")\n"
     ]
    },
    {
     "name": "stdout",
     "output_type": "stream",
     "text": [
      "updated 151\n",
      "generating isochrones\n"
     ]
    },
    {
     "name": "stderr",
     "output_type": "stream",
     "text": [
      "/var/folders/2s/3b55fy1174l4bfchw66wdl800000gn/T/ipykernel_92403/2605401413.py:47: UserWarning: Geometry is in a geographic CRS. Results from 'area' are likely incorrect. Use 'GeoSeries.to_crs()' to re-project geometries to a projected CRS before this operation.\n",
      "\n",
      "  gdf['area'] = gdf['geometry'].area\n",
      "/Users/nabilersyad/miniconda3/envs/sql/lib/python3.9/site-packages/geopandas/geodataframe.py:1442: UserWarning: Geometry column does not contain geometry.\n",
      "  warnings.warn(\"Geometry column does not contain geometry.\")\n",
      "/var/folders/2s/3b55fy1174l4bfchw66wdl800000gn/T/ipykernel_92403/2605401413.py:80: UserWarning: Geometry is in a geographic CRS. Results from 'area' are likely incorrect. Use 'GeoSeries.to_crs()' to re-project geometries to a projected CRS before this operation.\n",
      "\n",
      "  combined_isochrones['area'] = combined_isochrones['geometry'].area\n",
      "/Users/nabilersyad/miniconda3/envs/sql/lib/python3.9/site-packages/geopandas/geodataframe.py:1442: UserWarning: Geometry column does not contain geometry.\n",
      "  warnings.warn(\"Geometry column does not contain geometry.\")\n",
      "/var/folders/2s/3b55fy1174l4bfchw66wdl800000gn/T/ipykernel_92403/2605401413.py:80: UserWarning: Geometry is in a geographic CRS. Results from 'area' are likely incorrect. Use 'GeoSeries.to_crs()' to re-project geometries to a projected CRS before this operation.\n",
      "\n",
      "  combined_isochrones['area'] = combined_isochrones['geometry'].area\n",
      "/Users/nabilersyad/miniconda3/envs/sql/lib/python3.9/site-packages/geopandas/geodataframe.py:1442: UserWarning: Geometry column does not contain geometry.\n",
      "  warnings.warn(\"Geometry column does not contain geometry.\")\n"
     ]
    },
    {
     "name": "stdout",
     "output_type": "stream",
     "text": [
      "updated 152\n",
      "combining isochrones\n",
      "updated 153\n",
      "combining isochrones\n",
      "updated 154\n",
      "combining isochrones\n"
     ]
    },
    {
     "name": "stderr",
     "output_type": "stream",
     "text": [
      "/var/folders/2s/3b55fy1174l4bfchw66wdl800000gn/T/ipykernel_92403/2605401413.py:80: UserWarning: Geometry is in a geographic CRS. Results from 'area' are likely incorrect. Use 'GeoSeries.to_crs()' to re-project geometries to a projected CRS before this operation.\n",
      "\n",
      "  combined_isochrones['area'] = combined_isochrones['geometry'].area\n",
      "/Users/nabilersyad/miniconda3/envs/sql/lib/python3.9/site-packages/geopandas/geodataframe.py:1442: UserWarning: Geometry column does not contain geometry.\n",
      "  warnings.warn(\"Geometry column does not contain geometry.\")\n",
      "/var/folders/2s/3b55fy1174l4bfchw66wdl800000gn/T/ipykernel_92403/2605401413.py:80: UserWarning: Geometry is in a geographic CRS. Results from 'area' are likely incorrect. Use 'GeoSeries.to_crs()' to re-project geometries to a projected CRS before this operation.\n",
      "\n",
      "  combined_isochrones['area'] = combined_isochrones['geometry'].area\n",
      "/Users/nabilersyad/miniconda3/envs/sql/lib/python3.9/site-packages/geopandas/geodataframe.py:1442: UserWarning: Geometry column does not contain geometry.\n",
      "  warnings.warn(\"Geometry column does not contain geometry.\")\n",
      "/var/folders/2s/3b55fy1174l4bfchw66wdl800000gn/T/ipykernel_92403/2605401413.py:80: UserWarning: Geometry is in a geographic CRS. Results from 'area' are likely incorrect. Use 'GeoSeries.to_crs()' to re-project geometries to a projected CRS before this operation.\n",
      "\n",
      "  combined_isochrones['area'] = combined_isochrones['geometry'].area\n",
      "/Users/nabilersyad/miniconda3/envs/sql/lib/python3.9/site-packages/geopandas/geodataframe.py:1442: UserWarning: Geometry column does not contain geometry.\n",
      "  warnings.warn(\"Geometry column does not contain geometry.\")\n"
     ]
    },
    {
     "name": "stdout",
     "output_type": "stream",
     "text": [
      "updated 155\n",
      "combining isochrones\n",
      "updated 156\n",
      "combining isochrones\n",
      "updated 157\n",
      "combining isochrones\n"
     ]
    },
    {
     "name": "stderr",
     "output_type": "stream",
     "text": [
      "/var/folders/2s/3b55fy1174l4bfchw66wdl800000gn/T/ipykernel_92403/2605401413.py:80: UserWarning: Geometry is in a geographic CRS. Results from 'area' are likely incorrect. Use 'GeoSeries.to_crs()' to re-project geometries to a projected CRS before this operation.\n",
      "\n",
      "  combined_isochrones['area'] = combined_isochrones['geometry'].area\n",
      "/Users/nabilersyad/miniconda3/envs/sql/lib/python3.9/site-packages/geopandas/geodataframe.py:1442: UserWarning: Geometry column does not contain geometry.\n",
      "  warnings.warn(\"Geometry column does not contain geometry.\")\n",
      "/var/folders/2s/3b55fy1174l4bfchw66wdl800000gn/T/ipykernel_92403/2605401413.py:80: UserWarning: Geometry is in a geographic CRS. Results from 'area' are likely incorrect. Use 'GeoSeries.to_crs()' to re-project geometries to a projected CRS before this operation.\n",
      "\n",
      "  combined_isochrones['area'] = combined_isochrones['geometry'].area\n",
      "/Users/nabilersyad/miniconda3/envs/sql/lib/python3.9/site-packages/geopandas/geodataframe.py:1442: UserWarning: Geometry column does not contain geometry.\n",
      "  warnings.warn(\"Geometry column does not contain geometry.\")\n",
      "/var/folders/2s/3b55fy1174l4bfchw66wdl800000gn/T/ipykernel_92403/2605401413.py:80: UserWarning: Geometry is in a geographic CRS. Results from 'area' are likely incorrect. Use 'GeoSeries.to_crs()' to re-project geometries to a projected CRS before this operation.\n",
      "\n",
      "  combined_isochrones['area'] = combined_isochrones['geometry'].area\n",
      "/Users/nabilersyad/miniconda3/envs/sql/lib/python3.9/site-packages/geopandas/geodataframe.py:1442: UserWarning: Geometry column does not contain geometry.\n",
      "  warnings.warn(\"Geometry column does not contain geometry.\")\n"
     ]
    },
    {
     "name": "stdout",
     "output_type": "stream",
     "text": [
      "updated 158\n",
      "combining isochrones\n",
      "updated 159\n",
      "combining isochrones\n",
      "updated 160\n",
      "combining isochrones\n"
     ]
    },
    {
     "name": "stderr",
     "output_type": "stream",
     "text": [
      "/var/folders/2s/3b55fy1174l4bfchw66wdl800000gn/T/ipykernel_92403/2605401413.py:80: UserWarning: Geometry is in a geographic CRS. Results from 'area' are likely incorrect. Use 'GeoSeries.to_crs()' to re-project geometries to a projected CRS before this operation.\n",
      "\n",
      "  combined_isochrones['area'] = combined_isochrones['geometry'].area\n",
      "/Users/nabilersyad/miniconda3/envs/sql/lib/python3.9/site-packages/geopandas/geodataframe.py:1442: UserWarning: Geometry column does not contain geometry.\n",
      "  warnings.warn(\"Geometry column does not contain geometry.\")\n",
      "/var/folders/2s/3b55fy1174l4bfchw66wdl800000gn/T/ipykernel_92403/2605401413.py:80: UserWarning: Geometry is in a geographic CRS. Results from 'area' are likely incorrect. Use 'GeoSeries.to_crs()' to re-project geometries to a projected CRS before this operation.\n",
      "\n",
      "  combined_isochrones['area'] = combined_isochrones['geometry'].area\n",
      "/Users/nabilersyad/miniconda3/envs/sql/lib/python3.9/site-packages/geopandas/geodataframe.py:1442: UserWarning: Geometry column does not contain geometry.\n",
      "  warnings.warn(\"Geometry column does not contain geometry.\")\n",
      "/var/folders/2s/3b55fy1174l4bfchw66wdl800000gn/T/ipykernel_92403/2605401413.py:80: UserWarning: Geometry is in a geographic CRS. Results from 'area' are likely incorrect. Use 'GeoSeries.to_crs()' to re-project geometries to a projected CRS before this operation.\n",
      "\n",
      "  combined_isochrones['area'] = combined_isochrones['geometry'].area\n",
      "/Users/nabilersyad/miniconda3/envs/sql/lib/python3.9/site-packages/geopandas/geodataframe.py:1442: UserWarning: Geometry column does not contain geometry.\n",
      "  warnings.warn(\"Geometry column does not contain geometry.\")\n"
     ]
    },
    {
     "name": "stdout",
     "output_type": "stream",
     "text": [
      "updated 161\n",
      "combining isochrones\n",
      "updated 162\n",
      "combining isochrones\n",
      "updated 163\n",
      "combining isochrones\n"
     ]
    },
    {
     "name": "stderr",
     "output_type": "stream",
     "text": [
      "/var/folders/2s/3b55fy1174l4bfchw66wdl800000gn/T/ipykernel_92403/2605401413.py:80: UserWarning: Geometry is in a geographic CRS. Results from 'area' are likely incorrect. Use 'GeoSeries.to_crs()' to re-project geometries to a projected CRS before this operation.\n",
      "\n",
      "  combined_isochrones['area'] = combined_isochrones['geometry'].area\n",
      "/Users/nabilersyad/miniconda3/envs/sql/lib/python3.9/site-packages/geopandas/geodataframe.py:1442: UserWarning: Geometry column does not contain geometry.\n",
      "  warnings.warn(\"Geometry column does not contain geometry.\")\n",
      "/var/folders/2s/3b55fy1174l4bfchw66wdl800000gn/T/ipykernel_92403/2605401413.py:80: UserWarning: Geometry is in a geographic CRS. Results from 'area' are likely incorrect. Use 'GeoSeries.to_crs()' to re-project geometries to a projected CRS before this operation.\n",
      "\n",
      "  combined_isochrones['area'] = combined_isochrones['geometry'].area\n",
      "/Users/nabilersyad/miniconda3/envs/sql/lib/python3.9/site-packages/geopandas/geodataframe.py:1442: UserWarning: Geometry column does not contain geometry.\n",
      "  warnings.warn(\"Geometry column does not contain geometry.\")\n",
      "/var/folders/2s/3b55fy1174l4bfchw66wdl800000gn/T/ipykernel_92403/2605401413.py:80: UserWarning: Geometry is in a geographic CRS. Results from 'area' are likely incorrect. Use 'GeoSeries.to_crs()' to re-project geometries to a projected CRS before this operation.\n",
      "\n",
      "  combined_isochrones['area'] = combined_isochrones['geometry'].area\n",
      "/Users/nabilersyad/miniconda3/envs/sql/lib/python3.9/site-packages/geopandas/geodataframe.py:1442: UserWarning: Geometry column does not contain geometry.\n",
      "  warnings.warn(\"Geometry column does not contain geometry.\")\n"
     ]
    },
    {
     "name": "stdout",
     "output_type": "stream",
     "text": [
      "updated 164\n",
      "combining isochrones\n",
      "updated 165\n",
      "combining isochrones\n",
      "updated 166\n",
      "combining isochrones\n"
     ]
    },
    {
     "name": "stderr",
     "output_type": "stream",
     "text": [
      "/var/folders/2s/3b55fy1174l4bfchw66wdl800000gn/T/ipykernel_92403/2605401413.py:80: UserWarning: Geometry is in a geographic CRS. Results from 'area' are likely incorrect. Use 'GeoSeries.to_crs()' to re-project geometries to a projected CRS before this operation.\n",
      "\n",
      "  combined_isochrones['area'] = combined_isochrones['geometry'].area\n",
      "/Users/nabilersyad/miniconda3/envs/sql/lib/python3.9/site-packages/geopandas/geodataframe.py:1442: UserWarning: Geometry column does not contain geometry.\n",
      "  warnings.warn(\"Geometry column does not contain geometry.\")\n",
      "/var/folders/2s/3b55fy1174l4bfchw66wdl800000gn/T/ipykernel_92403/2605401413.py:80: UserWarning: Geometry is in a geographic CRS. Results from 'area' are likely incorrect. Use 'GeoSeries.to_crs()' to re-project geometries to a projected CRS before this operation.\n",
      "\n",
      "  combined_isochrones['area'] = combined_isochrones['geometry'].area\n",
      "/Users/nabilersyad/miniconda3/envs/sql/lib/python3.9/site-packages/geopandas/geodataframe.py:1442: UserWarning: Geometry column does not contain geometry.\n",
      "  warnings.warn(\"Geometry column does not contain geometry.\")\n",
      "/var/folders/2s/3b55fy1174l4bfchw66wdl800000gn/T/ipykernel_92403/2605401413.py:80: UserWarning: Geometry is in a geographic CRS. Results from 'area' are likely incorrect. Use 'GeoSeries.to_crs()' to re-project geometries to a projected CRS before this operation.\n",
      "\n",
      "  combined_isochrones['area'] = combined_isochrones['geometry'].area\n",
      "/Users/nabilersyad/miniconda3/envs/sql/lib/python3.9/site-packages/geopandas/geodataframe.py:1442: UserWarning: Geometry column does not contain geometry.\n",
      "  warnings.warn(\"Geometry column does not contain geometry.\")\n"
     ]
    },
    {
     "name": "stdout",
     "output_type": "stream",
     "text": [
      "updated 167\n",
      "combining isochrones\n",
      "updated 168\n",
      "combining isochrones\n",
      "updated 169\n",
      "combining isochrones\n"
     ]
    },
    {
     "name": "stderr",
     "output_type": "stream",
     "text": [
      "/var/folders/2s/3b55fy1174l4bfchw66wdl800000gn/T/ipykernel_92403/2605401413.py:80: UserWarning: Geometry is in a geographic CRS. Results from 'area' are likely incorrect. Use 'GeoSeries.to_crs()' to re-project geometries to a projected CRS before this operation.\n",
      "\n",
      "  combined_isochrones['area'] = combined_isochrones['geometry'].area\n",
      "/Users/nabilersyad/miniconda3/envs/sql/lib/python3.9/site-packages/geopandas/geodataframe.py:1442: UserWarning: Geometry column does not contain geometry.\n",
      "  warnings.warn(\"Geometry column does not contain geometry.\")\n",
      "/var/folders/2s/3b55fy1174l4bfchw66wdl800000gn/T/ipykernel_92403/2605401413.py:80: UserWarning: Geometry is in a geographic CRS. Results from 'area' are likely incorrect. Use 'GeoSeries.to_crs()' to re-project geometries to a projected CRS before this operation.\n",
      "\n",
      "  combined_isochrones['area'] = combined_isochrones['geometry'].area\n",
      "/Users/nabilersyad/miniconda3/envs/sql/lib/python3.9/site-packages/geopandas/geodataframe.py:1442: UserWarning: Geometry column does not contain geometry.\n",
      "  warnings.warn(\"Geometry column does not contain geometry.\")\n"
     ]
    },
    {
     "name": "stdout",
     "output_type": "stream",
     "text": [
      "updated 170\n",
      "combining isochrones\n",
      "updated 171\n",
      "combining isochrones\n"
     ]
    },
    {
     "name": "stderr",
     "output_type": "stream",
     "text": [
      "/var/folders/2s/3b55fy1174l4bfchw66wdl800000gn/T/ipykernel_92403/2605401413.py:80: UserWarning: Geometry is in a geographic CRS. Results from 'area' are likely incorrect. Use 'GeoSeries.to_crs()' to re-project geometries to a projected CRS before this operation.\n",
      "\n",
      "  combined_isochrones['area'] = combined_isochrones['geometry'].area\n",
      "/Users/nabilersyad/miniconda3/envs/sql/lib/python3.9/site-packages/geopandas/geodataframe.py:1442: UserWarning: Geometry column does not contain geometry.\n",
      "  warnings.warn(\"Geometry column does not contain geometry.\")\n",
      "/var/folders/2s/3b55fy1174l4bfchw66wdl800000gn/T/ipykernel_92403/2605401413.py:80: UserWarning: Geometry is in a geographic CRS. Results from 'area' are likely incorrect. Use 'GeoSeries.to_crs()' to re-project geometries to a projected CRS before this operation.\n",
      "\n",
      "  combined_isochrones['area'] = combined_isochrones['geometry'].area\n",
      "/Users/nabilersyad/miniconda3/envs/sql/lib/python3.9/site-packages/geopandas/geodataframe.py:1442: UserWarning: Geometry column does not contain geometry.\n",
      "  warnings.warn(\"Geometry column does not contain geometry.\")\n",
      "/var/folders/2s/3b55fy1174l4bfchw66wdl800000gn/T/ipykernel_92403/2605401413.py:80: UserWarning: Geometry is in a geographic CRS. Results from 'area' are likely incorrect. Use 'GeoSeries.to_crs()' to re-project geometries to a projected CRS before this operation.\n",
      "\n",
      "  combined_isochrones['area'] = combined_isochrones['geometry'].area\n",
      "/Users/nabilersyad/miniconda3/envs/sql/lib/python3.9/site-packages/geopandas/geodataframe.py:1442: UserWarning: Geometry column does not contain geometry.\n",
      "  warnings.warn(\"Geometry column does not contain geometry.\")\n"
     ]
    },
    {
     "name": "stdout",
     "output_type": "stream",
     "text": [
      "updated 172\n",
      "combining isochrones\n",
      "updated 173\n",
      "combining isochrones\n",
      "updated 174\n",
      "combining isochrones\n"
     ]
    },
    {
     "name": "stderr",
     "output_type": "stream",
     "text": [
      "/var/folders/2s/3b55fy1174l4bfchw66wdl800000gn/T/ipykernel_92403/2605401413.py:80: UserWarning: Geometry is in a geographic CRS. Results from 'area' are likely incorrect. Use 'GeoSeries.to_crs()' to re-project geometries to a projected CRS before this operation.\n",
      "\n",
      "  combined_isochrones['area'] = combined_isochrones['geometry'].area\n",
      "/Users/nabilersyad/miniconda3/envs/sql/lib/python3.9/site-packages/geopandas/geodataframe.py:1442: UserWarning: Geometry column does not contain geometry.\n",
      "  warnings.warn(\"Geometry column does not contain geometry.\")\n",
      "/var/folders/2s/3b55fy1174l4bfchw66wdl800000gn/T/ipykernel_92403/2605401413.py:80: UserWarning: Geometry is in a geographic CRS. Results from 'area' are likely incorrect. Use 'GeoSeries.to_crs()' to re-project geometries to a projected CRS before this operation.\n",
      "\n",
      "  combined_isochrones['area'] = combined_isochrones['geometry'].area\n",
      "/Users/nabilersyad/miniconda3/envs/sql/lib/python3.9/site-packages/geopandas/geodataframe.py:1442: UserWarning: Geometry column does not contain geometry.\n",
      "  warnings.warn(\"Geometry column does not contain geometry.\")\n",
      "/var/folders/2s/3b55fy1174l4bfchw66wdl800000gn/T/ipykernel_92403/2605401413.py:80: UserWarning: Geometry is in a geographic CRS. Results from 'area' are likely incorrect. Use 'GeoSeries.to_crs()' to re-project geometries to a projected CRS before this operation.\n",
      "\n",
      "  combined_isochrones['area'] = combined_isochrones['geometry'].area\n",
      "/Users/nabilersyad/miniconda3/envs/sql/lib/python3.9/site-packages/geopandas/geodataframe.py:1442: UserWarning: Geometry column does not contain geometry.\n",
      "  warnings.warn(\"Geometry column does not contain geometry.\")\n"
     ]
    },
    {
     "name": "stdout",
     "output_type": "stream",
     "text": [
      "updated 175\n",
      "combining isochrones\n",
      "updated 176\n",
      "combining isochrones\n",
      "updated 177\n",
      "combining isochrones\n"
     ]
    },
    {
     "name": "stderr",
     "output_type": "stream",
     "text": [
      "/var/folders/2s/3b55fy1174l4bfchw66wdl800000gn/T/ipykernel_92403/2605401413.py:80: UserWarning: Geometry is in a geographic CRS. Results from 'area' are likely incorrect. Use 'GeoSeries.to_crs()' to re-project geometries to a projected CRS before this operation.\n",
      "\n",
      "  combined_isochrones['area'] = combined_isochrones['geometry'].area\n",
      "/Users/nabilersyad/miniconda3/envs/sql/lib/python3.9/site-packages/geopandas/geodataframe.py:1442: UserWarning: Geometry column does not contain geometry.\n",
      "  warnings.warn(\"Geometry column does not contain geometry.\")\n",
      "/var/folders/2s/3b55fy1174l4bfchw66wdl800000gn/T/ipykernel_92403/2605401413.py:80: UserWarning: Geometry is in a geographic CRS. Results from 'area' are likely incorrect. Use 'GeoSeries.to_crs()' to re-project geometries to a projected CRS before this operation.\n",
      "\n",
      "  combined_isochrones['area'] = combined_isochrones['geometry'].area\n",
      "/Users/nabilersyad/miniconda3/envs/sql/lib/python3.9/site-packages/geopandas/geodataframe.py:1442: UserWarning: Geometry column does not contain geometry.\n",
      "  warnings.warn(\"Geometry column does not contain geometry.\")\n",
      "/var/folders/2s/3b55fy1174l4bfchw66wdl800000gn/T/ipykernel_92403/2605401413.py:80: UserWarning: Geometry is in a geographic CRS. Results from 'area' are likely incorrect. Use 'GeoSeries.to_crs()' to re-project geometries to a projected CRS before this operation.\n",
      "\n",
      "  combined_isochrones['area'] = combined_isochrones['geometry'].area\n",
      "/Users/nabilersyad/miniconda3/envs/sql/lib/python3.9/site-packages/geopandas/geodataframe.py:1442: UserWarning: Geometry column does not contain geometry.\n",
      "  warnings.warn(\"Geometry column does not contain geometry.\")\n"
     ]
    },
    {
     "name": "stdout",
     "output_type": "stream",
     "text": [
      "updated 178\n",
      "combining isochrones\n",
      "updated 179\n",
      "combining isochrones\n",
      "updated 180\n",
      "combining isochrones\n"
     ]
    },
    {
     "name": "stderr",
     "output_type": "stream",
     "text": [
      "/var/folders/2s/3b55fy1174l4bfchw66wdl800000gn/T/ipykernel_92403/2605401413.py:80: UserWarning: Geometry is in a geographic CRS. Results from 'area' are likely incorrect. Use 'GeoSeries.to_crs()' to re-project geometries to a projected CRS before this operation.\n",
      "\n",
      "  combined_isochrones['area'] = combined_isochrones['geometry'].area\n",
      "/Users/nabilersyad/miniconda3/envs/sql/lib/python3.9/site-packages/geopandas/geodataframe.py:1442: UserWarning: Geometry column does not contain geometry.\n",
      "  warnings.warn(\"Geometry column does not contain geometry.\")\n",
      "/var/folders/2s/3b55fy1174l4bfchw66wdl800000gn/T/ipykernel_92403/2605401413.py:80: UserWarning: Geometry is in a geographic CRS. Results from 'area' are likely incorrect. Use 'GeoSeries.to_crs()' to re-project geometries to a projected CRS before this operation.\n",
      "\n",
      "  combined_isochrones['area'] = combined_isochrones['geometry'].area\n",
      "/Users/nabilersyad/miniconda3/envs/sql/lib/python3.9/site-packages/geopandas/geodataframe.py:1442: UserWarning: Geometry column does not contain geometry.\n",
      "  warnings.warn(\"Geometry column does not contain geometry.\")\n",
      "/var/folders/2s/3b55fy1174l4bfchw66wdl800000gn/T/ipykernel_92403/2605401413.py:80: UserWarning: Geometry is in a geographic CRS. Results from 'area' are likely incorrect. Use 'GeoSeries.to_crs()' to re-project geometries to a projected CRS before this operation.\n",
      "\n",
      "  combined_isochrones['area'] = combined_isochrones['geometry'].area\n",
      "/Users/nabilersyad/miniconda3/envs/sql/lib/python3.9/site-packages/geopandas/geodataframe.py:1442: UserWarning: Geometry column does not contain geometry.\n",
      "  warnings.warn(\"Geometry column does not contain geometry.\")\n"
     ]
    },
    {
     "name": "stdout",
     "output_type": "stream",
     "text": [
      "updated 181\n",
      "combining isochrones\n",
      "updated 182\n",
      "combining isochrones\n",
      "updated 183\n",
      "combining isochrones\n"
     ]
    },
    {
     "name": "stderr",
     "output_type": "stream",
     "text": [
      "/var/folders/2s/3b55fy1174l4bfchw66wdl800000gn/T/ipykernel_92403/2605401413.py:80: UserWarning: Geometry is in a geographic CRS. Results from 'area' are likely incorrect. Use 'GeoSeries.to_crs()' to re-project geometries to a projected CRS before this operation.\n",
      "\n",
      "  combined_isochrones['area'] = combined_isochrones['geometry'].area\n",
      "/Users/nabilersyad/miniconda3/envs/sql/lib/python3.9/site-packages/geopandas/geodataframe.py:1442: UserWarning: Geometry column does not contain geometry.\n",
      "  warnings.warn(\"Geometry column does not contain geometry.\")\n",
      "/var/folders/2s/3b55fy1174l4bfchw66wdl800000gn/T/ipykernel_92403/2605401413.py:80: UserWarning: Geometry is in a geographic CRS. Results from 'area' are likely incorrect. Use 'GeoSeries.to_crs()' to re-project geometries to a projected CRS before this operation.\n",
      "\n",
      "  combined_isochrones['area'] = combined_isochrones['geometry'].area\n",
      "/Users/nabilersyad/miniconda3/envs/sql/lib/python3.9/site-packages/geopandas/geodataframe.py:1442: UserWarning: Geometry column does not contain geometry.\n",
      "  warnings.warn(\"Geometry column does not contain geometry.\")\n",
      "/var/folders/2s/3b55fy1174l4bfchw66wdl800000gn/T/ipykernel_92403/2605401413.py:80: UserWarning: Geometry is in a geographic CRS. Results from 'area' are likely incorrect. Use 'GeoSeries.to_crs()' to re-project geometries to a projected CRS before this operation.\n",
      "\n",
      "  combined_isochrones['area'] = combined_isochrones['geometry'].area\n",
      "/Users/nabilersyad/miniconda3/envs/sql/lib/python3.9/site-packages/geopandas/geodataframe.py:1442: UserWarning: Geometry column does not contain geometry.\n",
      "  warnings.warn(\"Geometry column does not contain geometry.\")\n"
     ]
    },
    {
     "name": "stdout",
     "output_type": "stream",
     "text": [
      "updated 184\n",
      "combining isochrones\n",
      "updated 185\n",
      "combining isochrones\n",
      "updated 186\n",
      "combining isochrones\n"
     ]
    },
    {
     "name": "stderr",
     "output_type": "stream",
     "text": [
      "/var/folders/2s/3b55fy1174l4bfchw66wdl800000gn/T/ipykernel_92403/2605401413.py:80: UserWarning: Geometry is in a geographic CRS. Results from 'area' are likely incorrect. Use 'GeoSeries.to_crs()' to re-project geometries to a projected CRS before this operation.\n",
      "\n",
      "  combined_isochrones['area'] = combined_isochrones['geometry'].area\n",
      "/Users/nabilersyad/miniconda3/envs/sql/lib/python3.9/site-packages/geopandas/geodataframe.py:1442: UserWarning: Geometry column does not contain geometry.\n",
      "  warnings.warn(\"Geometry column does not contain geometry.\")\n",
      "/var/folders/2s/3b55fy1174l4bfchw66wdl800000gn/T/ipykernel_92403/2605401413.py:80: UserWarning: Geometry is in a geographic CRS. Results from 'area' are likely incorrect. Use 'GeoSeries.to_crs()' to re-project geometries to a projected CRS before this operation.\n",
      "\n",
      "  combined_isochrones['area'] = combined_isochrones['geometry'].area\n",
      "/Users/nabilersyad/miniconda3/envs/sql/lib/python3.9/site-packages/geopandas/geodataframe.py:1442: UserWarning: Geometry column does not contain geometry.\n",
      "  warnings.warn(\"Geometry column does not contain geometry.\")\n",
      "/var/folders/2s/3b55fy1174l4bfchw66wdl800000gn/T/ipykernel_92403/2605401413.py:80: UserWarning: Geometry is in a geographic CRS. Results from 'area' are likely incorrect. Use 'GeoSeries.to_crs()' to re-project geometries to a projected CRS before this operation.\n",
      "\n",
      "  combined_isochrones['area'] = combined_isochrones['geometry'].area\n",
      "/Users/nabilersyad/miniconda3/envs/sql/lib/python3.9/site-packages/geopandas/geodataframe.py:1442: UserWarning: Geometry column does not contain geometry.\n",
      "  warnings.warn(\"Geometry column does not contain geometry.\")\n"
     ]
    },
    {
     "name": "stdout",
     "output_type": "stream",
     "text": [
      "updated 187\n",
      "combining isochrones\n",
      "updated 188\n",
      "combining isochrones\n",
      "updated 189\n",
      "combining isochrones\n"
     ]
    },
    {
     "name": "stderr",
     "output_type": "stream",
     "text": [
      "/var/folders/2s/3b55fy1174l4bfchw66wdl800000gn/T/ipykernel_92403/2605401413.py:80: UserWarning: Geometry is in a geographic CRS. Results from 'area' are likely incorrect. Use 'GeoSeries.to_crs()' to re-project geometries to a projected CRS before this operation.\n",
      "\n",
      "  combined_isochrones['area'] = combined_isochrones['geometry'].area\n",
      "/Users/nabilersyad/miniconda3/envs/sql/lib/python3.9/site-packages/geopandas/geodataframe.py:1442: UserWarning: Geometry column does not contain geometry.\n",
      "  warnings.warn(\"Geometry column does not contain geometry.\")\n",
      "/var/folders/2s/3b55fy1174l4bfchw66wdl800000gn/T/ipykernel_92403/2605401413.py:80: UserWarning: Geometry is in a geographic CRS. Results from 'area' are likely incorrect. Use 'GeoSeries.to_crs()' to re-project geometries to a projected CRS before this operation.\n",
      "\n",
      "  combined_isochrones['area'] = combined_isochrones['geometry'].area\n",
      "/Users/nabilersyad/miniconda3/envs/sql/lib/python3.9/site-packages/geopandas/geodataframe.py:1442: UserWarning: Geometry column does not contain geometry.\n",
      "  warnings.warn(\"Geometry column does not contain geometry.\")\n",
      "/var/folders/2s/3b55fy1174l4bfchw66wdl800000gn/T/ipykernel_92403/2605401413.py:80: UserWarning: Geometry is in a geographic CRS. Results from 'area' are likely incorrect. Use 'GeoSeries.to_crs()' to re-project geometries to a projected CRS before this operation.\n",
      "\n",
      "  combined_isochrones['area'] = combined_isochrones['geometry'].area\n",
      "/Users/nabilersyad/miniconda3/envs/sql/lib/python3.9/site-packages/geopandas/geodataframe.py:1442: UserWarning: Geometry column does not contain geometry.\n",
      "  warnings.warn(\"Geometry column does not contain geometry.\")\n"
     ]
    },
    {
     "name": "stdout",
     "output_type": "stream",
     "text": [
      "updated 190\n",
      "combining isochrones\n",
      "updated 191\n",
      "combining isochrones\n",
      "updated 192\n",
      "generating isochrones\n"
     ]
    },
    {
     "name": "stderr",
     "output_type": "stream",
     "text": [
      "/var/folders/2s/3b55fy1174l4bfchw66wdl800000gn/T/ipykernel_92403/2605401413.py:47: UserWarning: Geometry is in a geographic CRS. Results from 'area' are likely incorrect. Use 'GeoSeries.to_crs()' to re-project geometries to a projected CRS before this operation.\n",
      "\n",
      "  gdf['area'] = gdf['geometry'].area\n",
      "/Users/nabilersyad/miniconda3/envs/sql/lib/python3.9/site-packages/geopandas/geodataframe.py:1442: UserWarning: Geometry column does not contain geometry.\n",
      "  warnings.warn(\"Geometry column does not contain geometry.\")\n"
     ]
    },
    {
     "name": "stdout",
     "output_type": "stream",
     "text": [
      "updated 193\n",
      "generating isochrones\n"
     ]
    },
    {
     "name": "stderr",
     "output_type": "stream",
     "text": [
      "/var/folders/2s/3b55fy1174l4bfchw66wdl800000gn/T/ipykernel_92403/2605401413.py:47: UserWarning: Geometry is in a geographic CRS. Results from 'area' are likely incorrect. Use 'GeoSeries.to_crs()' to re-project geometries to a projected CRS before this operation.\n",
      "\n",
      "  gdf['area'] = gdf['geometry'].area\n",
      "/Users/nabilersyad/miniconda3/envs/sql/lib/python3.9/site-packages/geopandas/geodataframe.py:1442: UserWarning: Geometry column does not contain geometry.\n",
      "  warnings.warn(\"Geometry column does not contain geometry.\")\n"
     ]
    },
    {
     "name": "stdout",
     "output_type": "stream",
     "text": [
      "updated 194\n",
      "generating isochrones\n"
     ]
    },
    {
     "name": "stderr",
     "output_type": "stream",
     "text": [
      "/var/folders/2s/3b55fy1174l4bfchw66wdl800000gn/T/ipykernel_92403/2605401413.py:47: UserWarning: Geometry is in a geographic CRS. Results from 'area' are likely incorrect. Use 'GeoSeries.to_crs()' to re-project geometries to a projected CRS before this operation.\n",
      "\n",
      "  gdf['area'] = gdf['geometry'].area\n",
      "/Users/nabilersyad/miniconda3/envs/sql/lib/python3.9/site-packages/geopandas/geodataframe.py:1442: UserWarning: Geometry column does not contain geometry.\n",
      "  warnings.warn(\"Geometry column does not contain geometry.\")\n"
     ]
    },
    {
     "name": "stdout",
     "output_type": "stream",
     "text": [
      "updated 195\n",
      "generating isochrones\n"
     ]
    },
    {
     "name": "stderr",
     "output_type": "stream",
     "text": [
      "/var/folders/2s/3b55fy1174l4bfchw66wdl800000gn/T/ipykernel_92403/2605401413.py:47: UserWarning: Geometry is in a geographic CRS. Results from 'area' are likely incorrect. Use 'GeoSeries.to_crs()' to re-project geometries to a projected CRS before this operation.\n",
      "\n",
      "  gdf['area'] = gdf['geometry'].area\n",
      "/Users/nabilersyad/miniconda3/envs/sql/lib/python3.9/site-packages/geopandas/geodataframe.py:1442: UserWarning: Geometry column does not contain geometry.\n",
      "  warnings.warn(\"Geometry column does not contain geometry.\")\n"
     ]
    },
    {
     "name": "stdout",
     "output_type": "stream",
     "text": [
      "updated 196\n",
      "generating isochrones\n"
     ]
    },
    {
     "name": "stderr",
     "output_type": "stream",
     "text": [
      "/var/folders/2s/3b55fy1174l4bfchw66wdl800000gn/T/ipykernel_92403/2605401413.py:47: UserWarning: Geometry is in a geographic CRS. Results from 'area' are likely incorrect. Use 'GeoSeries.to_crs()' to re-project geometries to a projected CRS before this operation.\n",
      "\n",
      "  gdf['area'] = gdf['geometry'].area\n",
      "/Users/nabilersyad/miniconda3/envs/sql/lib/python3.9/site-packages/geopandas/geodataframe.py:1442: UserWarning: Geometry column does not contain geometry.\n",
      "  warnings.warn(\"Geometry column does not contain geometry.\")\n"
     ]
    },
    {
     "name": "stdout",
     "output_type": "stream",
     "text": [
      "updated 197\n",
      "generating isochrones\n"
     ]
    },
    {
     "name": "stderr",
     "output_type": "stream",
     "text": [
      "/Users/nabilersyad/miniconda3/envs/sql/lib/python3.9/site-packages/openrouteservice/client.py:211: UserWarning: Rate limit exceeded. Retrying for the 1st time.\n",
      "  warnings.warn('Rate limit exceeded. Retrying for the {0}{1} time.'.format(retry_counter + 1,\n",
      "/Users/nabilersyad/miniconda3/envs/sql/lib/python3.9/site-packages/openrouteservice/client.py:211: UserWarning: Rate limit exceeded. Retrying for the 2nd time.\n",
      "  warnings.warn('Rate limit exceeded. Retrying for the {0}{1} time.'.format(retry_counter + 1,\n",
      "/Users/nabilersyad/miniconda3/envs/sql/lib/python3.9/site-packages/openrouteservice/client.py:211: UserWarning: Rate limit exceeded. Retrying for the 3rd time.\n",
      "  warnings.warn('Rate limit exceeded. Retrying for the {0}{1} time.'.format(retry_counter + 1,\n",
      "/Users/nabilersyad/miniconda3/envs/sql/lib/python3.9/site-packages/openrouteservice/client.py:211: UserWarning: Rate limit exceeded. Retrying for the 4th time.\n",
      "  warnings.warn('Rate limit exceeded. Retrying for the {0}{1} time.'.format(retry_counter + 1,\n",
      "/Users/nabilersyad/miniconda3/envs/sql/lib/python3.9/site-packages/openrouteservice/client.py:211: UserWarning: Rate limit exceeded. Retrying for the 5th time.\n",
      "  warnings.warn('Rate limit exceeded. Retrying for the {0}{1} time.'.format(retry_counter + 1,\n",
      "/Users/nabilersyad/miniconda3/envs/sql/lib/python3.9/site-packages/openrouteservice/client.py:211: UserWarning: Rate limit exceeded. Retrying for the 6th time.\n",
      "  warnings.warn('Rate limit exceeded. Retrying for the {0}{1} time.'.format(retry_counter + 1,\n",
      "/Users/nabilersyad/miniconda3/envs/sql/lib/python3.9/site-packages/openrouteservice/client.py:211: UserWarning: Rate limit exceeded. Retrying for the 7th time.\n",
      "  warnings.warn('Rate limit exceeded. Retrying for the {0}{1} time.'.format(retry_counter + 1,\n",
      "/Users/nabilersyad/miniconda3/envs/sql/lib/python3.9/site-packages/openrouteservice/client.py:211: UserWarning: Rate limit exceeded. Retrying for the 8th time.\n",
      "  warnings.warn('Rate limit exceeded. Retrying for the {0}{1} time.'.format(retry_counter + 1,\n",
      "/var/folders/2s/3b55fy1174l4bfchw66wdl800000gn/T/ipykernel_92403/2605401413.py:47: UserWarning: Geometry is in a geographic CRS. Results from 'area' are likely incorrect. Use 'GeoSeries.to_crs()' to re-project geometries to a projected CRS before this operation.\n",
      "\n",
      "  gdf['area'] = gdf['geometry'].area\n",
      "/Users/nabilersyad/miniconda3/envs/sql/lib/python3.9/site-packages/geopandas/geodataframe.py:1442: UserWarning: Geometry column does not contain geometry.\n",
      "  warnings.warn(\"Geometry column does not contain geometry.\")\n"
     ]
    },
    {
     "name": "stdout",
     "output_type": "stream",
     "text": [
      "updated 198\n",
      "generating isochrones\n"
     ]
    },
    {
     "name": "stderr",
     "output_type": "stream",
     "text": [
      "/var/folders/2s/3b55fy1174l4bfchw66wdl800000gn/T/ipykernel_92403/2605401413.py:47: UserWarning: Geometry is in a geographic CRS. Results from 'area' are likely incorrect. Use 'GeoSeries.to_crs()' to re-project geometries to a projected CRS before this operation.\n",
      "\n",
      "  gdf['area'] = gdf['geometry'].area\n",
      "/Users/nabilersyad/miniconda3/envs/sql/lib/python3.9/site-packages/geopandas/geodataframe.py:1442: UserWarning: Geometry column does not contain geometry.\n",
      "  warnings.warn(\"Geometry column does not contain geometry.\")\n"
     ]
    },
    {
     "name": "stdout",
     "output_type": "stream",
     "text": [
      "updated 199\n",
      "generating isochrones\n"
     ]
    },
    {
     "name": "stderr",
     "output_type": "stream",
     "text": [
      "/var/folders/2s/3b55fy1174l4bfchw66wdl800000gn/T/ipykernel_92403/2605401413.py:47: UserWarning: Geometry is in a geographic CRS. Results from 'area' are likely incorrect. Use 'GeoSeries.to_crs()' to re-project geometries to a projected CRS before this operation.\n",
      "\n",
      "  gdf['area'] = gdf['geometry'].area\n",
      "/Users/nabilersyad/miniconda3/envs/sql/lib/python3.9/site-packages/geopandas/geodataframe.py:1442: UserWarning: Geometry column does not contain geometry.\n",
      "  warnings.warn(\"Geometry column does not contain geometry.\")\n"
     ]
    },
    {
     "name": "stdout",
     "output_type": "stream",
     "text": [
      "updated 200\n",
      "generating isochrones\n"
     ]
    },
    {
     "name": "stderr",
     "output_type": "stream",
     "text": [
      "/var/folders/2s/3b55fy1174l4bfchw66wdl800000gn/T/ipykernel_92403/2605401413.py:47: UserWarning: Geometry is in a geographic CRS. Results from 'area' are likely incorrect. Use 'GeoSeries.to_crs()' to re-project geometries to a projected CRS before this operation.\n",
      "\n",
      "  gdf['area'] = gdf['geometry'].area\n",
      "/Users/nabilersyad/miniconda3/envs/sql/lib/python3.9/site-packages/geopandas/geodataframe.py:1442: UserWarning: Geometry column does not contain geometry.\n",
      "  warnings.warn(\"Geometry column does not contain geometry.\")\n"
     ]
    },
    {
     "name": "stdout",
     "output_type": "stream",
     "text": [
      "updated 201\n",
      "generating isochrones\n"
     ]
    },
    {
     "name": "stderr",
     "output_type": "stream",
     "text": [
      "/var/folders/2s/3b55fy1174l4bfchw66wdl800000gn/T/ipykernel_92403/2605401413.py:47: UserWarning: Geometry is in a geographic CRS. Results from 'area' are likely incorrect. Use 'GeoSeries.to_crs()' to re-project geometries to a projected CRS before this operation.\n",
      "\n",
      "  gdf['area'] = gdf['geometry'].area\n",
      "/Users/nabilersyad/miniconda3/envs/sql/lib/python3.9/site-packages/geopandas/geodataframe.py:1442: UserWarning: Geometry column does not contain geometry.\n",
      "  warnings.warn(\"Geometry column does not contain geometry.\")\n",
      "/var/folders/2s/3b55fy1174l4bfchw66wdl800000gn/T/ipykernel_92403/2605401413.py:80: UserWarning: Geometry is in a geographic CRS. Results from 'area' are likely incorrect. Use 'GeoSeries.to_crs()' to re-project geometries to a projected CRS before this operation.\n",
      "\n",
      "  combined_isochrones['area'] = combined_isochrones['geometry'].area\n",
      "/Users/nabilersyad/miniconda3/envs/sql/lib/python3.9/site-packages/geopandas/geodataframe.py:1442: UserWarning: Geometry column does not contain geometry.\n",
      "  warnings.warn(\"Geometry column does not contain geometry.\")\n",
      "/var/folders/2s/3b55fy1174l4bfchw66wdl800000gn/T/ipykernel_92403/2605401413.py:80: UserWarning: Geometry is in a geographic CRS. Results from 'area' are likely incorrect. Use 'GeoSeries.to_crs()' to re-project geometries to a projected CRS before this operation.\n",
      "\n",
      "  combined_isochrones['area'] = combined_isochrones['geometry'].area\n",
      "/Users/nabilersyad/miniconda3/envs/sql/lib/python3.9/site-packages/geopandas/geodataframe.py:1442: UserWarning: Geometry column does not contain geometry.\n",
      "  warnings.warn(\"Geometry column does not contain geometry.\")\n"
     ]
    },
    {
     "name": "stdout",
     "output_type": "stream",
     "text": [
      "updated 202\n",
      "combining isochrones\n",
      "updated 203\n",
      "combining isochrones\n",
      "updated 204\n",
      "combining isochrones\n",
      "updated 205\n",
      "combining isochrones\n",
      "updated 206\n",
      "combining isochrones\n"
     ]
    },
    {
     "name": "stderr",
     "output_type": "stream",
     "text": [
      "/var/folders/2s/3b55fy1174l4bfchw66wdl800000gn/T/ipykernel_92403/2605401413.py:80: UserWarning: Geometry is in a geographic CRS. Results from 'area' are likely incorrect. Use 'GeoSeries.to_crs()' to re-project geometries to a projected CRS before this operation.\n",
      "\n",
      "  combined_isochrones['area'] = combined_isochrones['geometry'].area\n",
      "/Users/nabilersyad/miniconda3/envs/sql/lib/python3.9/site-packages/geopandas/geodataframe.py:1442: UserWarning: Geometry column does not contain geometry.\n",
      "  warnings.warn(\"Geometry column does not contain geometry.\")\n",
      "/var/folders/2s/3b55fy1174l4bfchw66wdl800000gn/T/ipykernel_92403/2605401413.py:80: UserWarning: Geometry is in a geographic CRS. Results from 'area' are likely incorrect. Use 'GeoSeries.to_crs()' to re-project geometries to a projected CRS before this operation.\n",
      "\n",
      "  combined_isochrones['area'] = combined_isochrones['geometry'].area\n",
      "/Users/nabilersyad/miniconda3/envs/sql/lib/python3.9/site-packages/geopandas/geodataframe.py:1442: UserWarning: Geometry column does not contain geometry.\n",
      "  warnings.warn(\"Geometry column does not contain geometry.\")\n",
      "/var/folders/2s/3b55fy1174l4bfchw66wdl800000gn/T/ipykernel_92403/2605401413.py:80: UserWarning: Geometry is in a geographic CRS. Results from 'area' are likely incorrect. Use 'GeoSeries.to_crs()' to re-project geometries to a projected CRS before this operation.\n",
      "\n",
      "  combined_isochrones['area'] = combined_isochrones['geometry'].area\n",
      "/Users/nabilersyad/miniconda3/envs/sql/lib/python3.9/site-packages/geopandas/geodataframe.py:1442: UserWarning: Geometry column does not contain geometry.\n",
      "  warnings.warn(\"Geometry column does not contain geometry.\")\n"
     ]
    },
    {
     "name": "stdout",
     "output_type": "stream",
     "text": [
      "updated 207\n",
      "combining isochrones\n",
      "updated 208\n",
      "combining isochrones\n",
      "updated 209\n",
      "combining isochrones\n"
     ]
    },
    {
     "name": "stderr",
     "output_type": "stream",
     "text": [
      "/var/folders/2s/3b55fy1174l4bfchw66wdl800000gn/T/ipykernel_92403/2605401413.py:80: UserWarning: Geometry is in a geographic CRS. Results from 'area' are likely incorrect. Use 'GeoSeries.to_crs()' to re-project geometries to a projected CRS before this operation.\n",
      "\n",
      "  combined_isochrones['area'] = combined_isochrones['geometry'].area\n",
      "/Users/nabilersyad/miniconda3/envs/sql/lib/python3.9/site-packages/geopandas/geodataframe.py:1442: UserWarning: Geometry column does not contain geometry.\n",
      "  warnings.warn(\"Geometry column does not contain geometry.\")\n",
      "/var/folders/2s/3b55fy1174l4bfchw66wdl800000gn/T/ipykernel_92403/2605401413.py:80: UserWarning: Geometry is in a geographic CRS. Results from 'area' are likely incorrect. Use 'GeoSeries.to_crs()' to re-project geometries to a projected CRS before this operation.\n",
      "\n",
      "  combined_isochrones['area'] = combined_isochrones['geometry'].area\n",
      "/Users/nabilersyad/miniconda3/envs/sql/lib/python3.9/site-packages/geopandas/geodataframe.py:1442: UserWarning: Geometry column does not contain geometry.\n",
      "  warnings.warn(\"Geometry column does not contain geometry.\")\n",
      "/var/folders/2s/3b55fy1174l4bfchw66wdl800000gn/T/ipykernel_92403/2605401413.py:80: UserWarning: Geometry is in a geographic CRS. Results from 'area' are likely incorrect. Use 'GeoSeries.to_crs()' to re-project geometries to a projected CRS before this operation.\n",
      "\n",
      "  combined_isochrones['area'] = combined_isochrones['geometry'].area\n",
      "/Users/nabilersyad/miniconda3/envs/sql/lib/python3.9/site-packages/geopandas/geodataframe.py:1442: UserWarning: Geometry column does not contain geometry.\n",
      "  warnings.warn(\"Geometry column does not contain geometry.\")\n"
     ]
    },
    {
     "name": "stdout",
     "output_type": "stream",
     "text": [
      "updated 210\n",
      "combining isochrones\n",
      "updated 211\n",
      "combining isochrones\n",
      "updated 212\n",
      "combining isochrones\n"
     ]
    },
    {
     "name": "stderr",
     "output_type": "stream",
     "text": [
      "/var/folders/2s/3b55fy1174l4bfchw66wdl800000gn/T/ipykernel_92403/2605401413.py:80: UserWarning: Geometry is in a geographic CRS. Results from 'area' are likely incorrect. Use 'GeoSeries.to_crs()' to re-project geometries to a projected CRS before this operation.\n",
      "\n",
      "  combined_isochrones['area'] = combined_isochrones['geometry'].area\n",
      "/Users/nabilersyad/miniconda3/envs/sql/lib/python3.9/site-packages/geopandas/geodataframe.py:1442: UserWarning: Geometry column does not contain geometry.\n",
      "  warnings.warn(\"Geometry column does not contain geometry.\")\n",
      "/var/folders/2s/3b55fy1174l4bfchw66wdl800000gn/T/ipykernel_92403/2605401413.py:80: UserWarning: Geometry is in a geographic CRS. Results from 'area' are likely incorrect. Use 'GeoSeries.to_crs()' to re-project geometries to a projected CRS before this operation.\n",
      "\n",
      "  combined_isochrones['area'] = combined_isochrones['geometry'].area\n",
      "/Users/nabilersyad/miniconda3/envs/sql/lib/python3.9/site-packages/geopandas/geodataframe.py:1442: UserWarning: Geometry column does not contain geometry.\n",
      "  warnings.warn(\"Geometry column does not contain geometry.\")\n",
      "/var/folders/2s/3b55fy1174l4bfchw66wdl800000gn/T/ipykernel_92403/2605401413.py:80: UserWarning: Geometry is in a geographic CRS. Results from 'area' are likely incorrect. Use 'GeoSeries.to_crs()' to re-project geometries to a projected CRS before this operation.\n",
      "\n",
      "  combined_isochrones['area'] = combined_isochrones['geometry'].area\n",
      "/Users/nabilersyad/miniconda3/envs/sql/lib/python3.9/site-packages/geopandas/geodataframe.py:1442: UserWarning: Geometry column does not contain geometry.\n",
      "  warnings.warn(\"Geometry column does not contain geometry.\")\n"
     ]
    },
    {
     "name": "stdout",
     "output_type": "stream",
     "text": [
      "updated 213\n",
      "combining isochrones\n",
      "updated 214\n",
      "combining isochrones\n",
      "updated 215\n",
      "combining isochrones\n"
     ]
    },
    {
     "name": "stderr",
     "output_type": "stream",
     "text": [
      "/var/folders/2s/3b55fy1174l4bfchw66wdl800000gn/T/ipykernel_92403/2605401413.py:80: UserWarning: Geometry is in a geographic CRS. Results from 'area' are likely incorrect. Use 'GeoSeries.to_crs()' to re-project geometries to a projected CRS before this operation.\n",
      "\n",
      "  combined_isochrones['area'] = combined_isochrones['geometry'].area\n",
      "/Users/nabilersyad/miniconda3/envs/sql/lib/python3.9/site-packages/geopandas/geodataframe.py:1442: UserWarning: Geometry column does not contain geometry.\n",
      "  warnings.warn(\"Geometry column does not contain geometry.\")\n",
      "/var/folders/2s/3b55fy1174l4bfchw66wdl800000gn/T/ipykernel_92403/2605401413.py:80: UserWarning: Geometry is in a geographic CRS. Results from 'area' are likely incorrect. Use 'GeoSeries.to_crs()' to re-project geometries to a projected CRS before this operation.\n",
      "\n",
      "  combined_isochrones['area'] = combined_isochrones['geometry'].area\n",
      "/Users/nabilersyad/miniconda3/envs/sql/lib/python3.9/site-packages/geopandas/geodataframe.py:1442: UserWarning: Geometry column does not contain geometry.\n",
      "  warnings.warn(\"Geometry column does not contain geometry.\")\n",
      "/var/folders/2s/3b55fy1174l4bfchw66wdl800000gn/T/ipykernel_92403/2605401413.py:80: UserWarning: Geometry is in a geographic CRS. Results from 'area' are likely incorrect. Use 'GeoSeries.to_crs()' to re-project geometries to a projected CRS before this operation.\n",
      "\n",
      "  combined_isochrones['area'] = combined_isochrones['geometry'].area\n",
      "/Users/nabilersyad/miniconda3/envs/sql/lib/python3.9/site-packages/geopandas/geodataframe.py:1442: UserWarning: Geometry column does not contain geometry.\n",
      "  warnings.warn(\"Geometry column does not contain geometry.\")\n"
     ]
    },
    {
     "name": "stdout",
     "output_type": "stream",
     "text": [
      "updated 216\n",
      "combining isochrones\n",
      "updated 217\n",
      "combining isochrones\n",
      "updated 218\n",
      "combining isochrones\n"
     ]
    },
    {
     "name": "stderr",
     "output_type": "stream",
     "text": [
      "/var/folders/2s/3b55fy1174l4bfchw66wdl800000gn/T/ipykernel_92403/2605401413.py:80: UserWarning: Geometry is in a geographic CRS. Results from 'area' are likely incorrect. Use 'GeoSeries.to_crs()' to re-project geometries to a projected CRS before this operation.\n",
      "\n",
      "  combined_isochrones['area'] = combined_isochrones['geometry'].area\n",
      "/Users/nabilersyad/miniconda3/envs/sql/lib/python3.9/site-packages/geopandas/geodataframe.py:1442: UserWarning: Geometry column does not contain geometry.\n",
      "  warnings.warn(\"Geometry column does not contain geometry.\")\n",
      "/var/folders/2s/3b55fy1174l4bfchw66wdl800000gn/T/ipykernel_92403/2605401413.py:80: UserWarning: Geometry is in a geographic CRS. Results from 'area' are likely incorrect. Use 'GeoSeries.to_crs()' to re-project geometries to a projected CRS before this operation.\n",
      "\n",
      "  combined_isochrones['area'] = combined_isochrones['geometry'].area\n",
      "/Users/nabilersyad/miniconda3/envs/sql/lib/python3.9/site-packages/geopandas/geodataframe.py:1442: UserWarning: Geometry column does not contain geometry.\n",
      "  warnings.warn(\"Geometry column does not contain geometry.\")\n",
      "/var/folders/2s/3b55fy1174l4bfchw66wdl800000gn/T/ipykernel_92403/2605401413.py:80: UserWarning: Geometry is in a geographic CRS. Results from 'area' are likely incorrect. Use 'GeoSeries.to_crs()' to re-project geometries to a projected CRS before this operation.\n",
      "\n",
      "  combined_isochrones['area'] = combined_isochrones['geometry'].area\n",
      "/Users/nabilersyad/miniconda3/envs/sql/lib/python3.9/site-packages/geopandas/geodataframe.py:1442: UserWarning: Geometry column does not contain geometry.\n",
      "  warnings.warn(\"Geometry column does not contain geometry.\")\n"
     ]
    },
    {
     "name": "stdout",
     "output_type": "stream",
     "text": [
      "updated 219\n",
      "combining isochrones\n",
      "updated 220\n",
      "combining isochrones\n",
      "updated 221\n",
      "combining isochrones\n"
     ]
    },
    {
     "name": "stderr",
     "output_type": "stream",
     "text": [
      "/var/folders/2s/3b55fy1174l4bfchw66wdl800000gn/T/ipykernel_92403/2605401413.py:80: UserWarning: Geometry is in a geographic CRS. Results from 'area' are likely incorrect. Use 'GeoSeries.to_crs()' to re-project geometries to a projected CRS before this operation.\n",
      "\n",
      "  combined_isochrones['area'] = combined_isochrones['geometry'].area\n",
      "/Users/nabilersyad/miniconda3/envs/sql/lib/python3.9/site-packages/geopandas/geodataframe.py:1442: UserWarning: Geometry column does not contain geometry.\n",
      "  warnings.warn(\"Geometry column does not contain geometry.\")\n",
      "/var/folders/2s/3b55fy1174l4bfchw66wdl800000gn/T/ipykernel_92403/2605401413.py:80: UserWarning: Geometry is in a geographic CRS. Results from 'area' are likely incorrect. Use 'GeoSeries.to_crs()' to re-project geometries to a projected CRS before this operation.\n",
      "\n",
      "  combined_isochrones['area'] = combined_isochrones['geometry'].area\n",
      "/Users/nabilersyad/miniconda3/envs/sql/lib/python3.9/site-packages/geopandas/geodataframe.py:1442: UserWarning: Geometry column does not contain geometry.\n",
      "  warnings.warn(\"Geometry column does not contain geometry.\")\n",
      "/var/folders/2s/3b55fy1174l4bfchw66wdl800000gn/T/ipykernel_92403/2605401413.py:80: UserWarning: Geometry is in a geographic CRS. Results from 'area' are likely incorrect. Use 'GeoSeries.to_crs()' to re-project geometries to a projected CRS before this operation.\n",
      "\n",
      "  combined_isochrones['area'] = combined_isochrones['geometry'].area\n",
      "/Users/nabilersyad/miniconda3/envs/sql/lib/python3.9/site-packages/geopandas/geodataframe.py:1442: UserWarning: Geometry column does not contain geometry.\n",
      "  warnings.warn(\"Geometry column does not contain geometry.\")\n"
     ]
    },
    {
     "name": "stdout",
     "output_type": "stream",
     "text": [
      "updated 222\n",
      "combining isochrones\n",
      "updated 223\n",
      "combining isochrones\n",
      "updated 224\n",
      "combining isochrones\n"
     ]
    },
    {
     "name": "stderr",
     "output_type": "stream",
     "text": [
      "/var/folders/2s/3b55fy1174l4bfchw66wdl800000gn/T/ipykernel_92403/2605401413.py:80: UserWarning: Geometry is in a geographic CRS. Results from 'area' are likely incorrect. Use 'GeoSeries.to_crs()' to re-project geometries to a projected CRS before this operation.\n",
      "\n",
      "  combined_isochrones['area'] = combined_isochrones['geometry'].area\n",
      "/Users/nabilersyad/miniconda3/envs/sql/lib/python3.9/site-packages/geopandas/geodataframe.py:1442: UserWarning: Geometry column does not contain geometry.\n",
      "  warnings.warn(\"Geometry column does not contain geometry.\")\n",
      "/var/folders/2s/3b55fy1174l4bfchw66wdl800000gn/T/ipykernel_92403/2605401413.py:80: UserWarning: Geometry is in a geographic CRS. Results from 'area' are likely incorrect. Use 'GeoSeries.to_crs()' to re-project geometries to a projected CRS before this operation.\n",
      "\n",
      "  combined_isochrones['area'] = combined_isochrones['geometry'].area\n",
      "/Users/nabilersyad/miniconda3/envs/sql/lib/python3.9/site-packages/geopandas/geodataframe.py:1442: UserWarning: Geometry column does not contain geometry.\n",
      "  warnings.warn(\"Geometry column does not contain geometry.\")\n",
      "/var/folders/2s/3b55fy1174l4bfchw66wdl800000gn/T/ipykernel_92403/2605401413.py:80: UserWarning: Geometry is in a geographic CRS. Results from 'area' are likely incorrect. Use 'GeoSeries.to_crs()' to re-project geometries to a projected CRS before this operation.\n",
      "\n",
      "  combined_isochrones['area'] = combined_isochrones['geometry'].area\n",
      "/Users/nabilersyad/miniconda3/envs/sql/lib/python3.9/site-packages/geopandas/geodataframe.py:1442: UserWarning: Geometry column does not contain geometry.\n",
      "  warnings.warn(\"Geometry column does not contain geometry.\")\n",
      "/var/folders/2s/3b55fy1174l4bfchw66wdl800000gn/T/ipykernel_92403/2605401413.py:80: UserWarning: Geometry is in a geographic CRS. Results from 'area' are likely incorrect. Use 'GeoSeries.to_crs()' to re-project geometries to a projected CRS before this operation.\n",
      "\n",
      "  combined_isochrones['area'] = combined_isochrones['geometry'].area\n",
      "/Users/nabilersyad/miniconda3/envs/sql/lib/python3.9/site-packages/geopandas/geodataframe.py:1442: UserWarning: Geometry column does not contain geometry.\n",
      "  warnings.warn(\"Geometry column does not contain geometry.\")\n",
      "/var/folders/2s/3b55fy1174l4bfchw66wdl800000gn/T/ipykernel_92403/2605401413.py:80: UserWarning: Geometry is in a geographic CRS. Results from 'area' are likely incorrect. Use 'GeoSeries.to_crs()' to re-project geometries to a projected CRS before this operation.\n",
      "\n",
      "  combined_isochrones['area'] = combined_isochrones['geometry'].area\n",
      "/Users/nabilersyad/miniconda3/envs/sql/lib/python3.9/site-packages/geopandas/geodataframe.py:1442: UserWarning: Geometry column does not contain geometry.\n",
      "  warnings.warn(\"Geometry column does not contain geometry.\")\n"
     ]
    },
    {
     "name": "stdout",
     "output_type": "stream",
     "text": [
      "updated 225\n",
      "combining isochrones\n",
      "updated 226\n",
      "combining isochrones\n",
      "updated 227\n",
      "combining isochrones\n"
     ]
    },
    {
     "name": "stderr",
     "output_type": "stream",
     "text": [
      "/var/folders/2s/3b55fy1174l4bfchw66wdl800000gn/T/ipykernel_92403/2605401413.py:80: UserWarning: Geometry is in a geographic CRS. Results from 'area' are likely incorrect. Use 'GeoSeries.to_crs()' to re-project geometries to a projected CRS before this operation.\n",
      "\n",
      "  combined_isochrones['area'] = combined_isochrones['geometry'].area\n",
      "/Users/nabilersyad/miniconda3/envs/sql/lib/python3.9/site-packages/geopandas/geodataframe.py:1442: UserWarning: Geometry column does not contain geometry.\n",
      "  warnings.warn(\"Geometry column does not contain geometry.\")\n",
      "/var/folders/2s/3b55fy1174l4bfchw66wdl800000gn/T/ipykernel_92403/2605401413.py:80: UserWarning: Geometry is in a geographic CRS. Results from 'area' are likely incorrect. Use 'GeoSeries.to_crs()' to re-project geometries to a projected CRS before this operation.\n",
      "\n",
      "  combined_isochrones['area'] = combined_isochrones['geometry'].area\n",
      "/Users/nabilersyad/miniconda3/envs/sql/lib/python3.9/site-packages/geopandas/geodataframe.py:1442: UserWarning: Geometry column does not contain geometry.\n",
      "  warnings.warn(\"Geometry column does not contain geometry.\")\n",
      "/var/folders/2s/3b55fy1174l4bfchw66wdl800000gn/T/ipykernel_92403/2605401413.py:80: UserWarning: Geometry is in a geographic CRS. Results from 'area' are likely incorrect. Use 'GeoSeries.to_crs()' to re-project geometries to a projected CRS before this operation.\n",
      "\n",
      "  combined_isochrones['area'] = combined_isochrones['geometry'].area\n",
      "/Users/nabilersyad/miniconda3/envs/sql/lib/python3.9/site-packages/geopandas/geodataframe.py:1442: UserWarning: Geometry column does not contain geometry.\n",
      "  warnings.warn(\"Geometry column does not contain geometry.\")\n"
     ]
    },
    {
     "name": "stdout",
     "output_type": "stream",
     "text": [
      "updated 228\n",
      "combining isochrones\n",
      "updated 229\n",
      "combining isochrones\n",
      "updated 230\n",
      "combining isochrones\n"
     ]
    },
    {
     "name": "stderr",
     "output_type": "stream",
     "text": [
      "/var/folders/2s/3b55fy1174l4bfchw66wdl800000gn/T/ipykernel_92403/2605401413.py:80: UserWarning: Geometry is in a geographic CRS. Results from 'area' are likely incorrect. Use 'GeoSeries.to_crs()' to re-project geometries to a projected CRS before this operation.\n",
      "\n",
      "  combined_isochrones['area'] = combined_isochrones['geometry'].area\n",
      "/Users/nabilersyad/miniconda3/envs/sql/lib/python3.9/site-packages/geopandas/geodataframe.py:1442: UserWarning: Geometry column does not contain geometry.\n",
      "  warnings.warn(\"Geometry column does not contain geometry.\")\n",
      "/var/folders/2s/3b55fy1174l4bfchw66wdl800000gn/T/ipykernel_92403/2605401413.py:80: UserWarning: Geometry is in a geographic CRS. Results from 'area' are likely incorrect. Use 'GeoSeries.to_crs()' to re-project geometries to a projected CRS before this operation.\n",
      "\n",
      "  combined_isochrones['area'] = combined_isochrones['geometry'].area\n",
      "/Users/nabilersyad/miniconda3/envs/sql/lib/python3.9/site-packages/geopandas/geodataframe.py:1442: UserWarning: Geometry column does not contain geometry.\n",
      "  warnings.warn(\"Geometry column does not contain geometry.\")\n",
      "/var/folders/2s/3b55fy1174l4bfchw66wdl800000gn/T/ipykernel_92403/2605401413.py:80: UserWarning: Geometry is in a geographic CRS. Results from 'area' are likely incorrect. Use 'GeoSeries.to_crs()' to re-project geometries to a projected CRS before this operation.\n",
      "\n",
      "  combined_isochrones['area'] = combined_isochrones['geometry'].area\n",
      "/Users/nabilersyad/miniconda3/envs/sql/lib/python3.9/site-packages/geopandas/geodataframe.py:1442: UserWarning: Geometry column does not contain geometry.\n",
      "  warnings.warn(\"Geometry column does not contain geometry.\")\n"
     ]
    },
    {
     "name": "stdout",
     "output_type": "stream",
     "text": [
      "updated 231\n",
      "combining isochrones\n",
      "updated 232\n",
      "combining isochrones\n",
      "updated 233\n",
      "combining isochrones\n"
     ]
    },
    {
     "name": "stderr",
     "output_type": "stream",
     "text": [
      "/var/folders/2s/3b55fy1174l4bfchw66wdl800000gn/T/ipykernel_92403/2605401413.py:80: UserWarning: Geometry is in a geographic CRS. Results from 'area' are likely incorrect. Use 'GeoSeries.to_crs()' to re-project geometries to a projected CRS before this operation.\n",
      "\n",
      "  combined_isochrones['area'] = combined_isochrones['geometry'].area\n",
      "/Users/nabilersyad/miniconda3/envs/sql/lib/python3.9/site-packages/geopandas/geodataframe.py:1442: UserWarning: Geometry column does not contain geometry.\n",
      "  warnings.warn(\"Geometry column does not contain geometry.\")\n",
      "/var/folders/2s/3b55fy1174l4bfchw66wdl800000gn/T/ipykernel_92403/2605401413.py:80: UserWarning: Geometry is in a geographic CRS. Results from 'area' are likely incorrect. Use 'GeoSeries.to_crs()' to re-project geometries to a projected CRS before this operation.\n",
      "\n",
      "  combined_isochrones['area'] = combined_isochrones['geometry'].area\n",
      "/Users/nabilersyad/miniconda3/envs/sql/lib/python3.9/site-packages/geopandas/geodataframe.py:1442: UserWarning: Geometry column does not contain geometry.\n",
      "  warnings.warn(\"Geometry column does not contain geometry.\")\n",
      "/var/folders/2s/3b55fy1174l4bfchw66wdl800000gn/T/ipykernel_92403/2605401413.py:80: UserWarning: Geometry is in a geographic CRS. Results from 'area' are likely incorrect. Use 'GeoSeries.to_crs()' to re-project geometries to a projected CRS before this operation.\n",
      "\n",
      "  combined_isochrones['area'] = combined_isochrones['geometry'].area\n",
      "/Users/nabilersyad/miniconda3/envs/sql/lib/python3.9/site-packages/geopandas/geodataframe.py:1442: UserWarning: Geometry column does not contain geometry.\n",
      "  warnings.warn(\"Geometry column does not contain geometry.\")\n"
     ]
    },
    {
     "name": "stdout",
     "output_type": "stream",
     "text": [
      "updated 234\n",
      "combining isochrones\n",
      "updated 235\n",
      "combining isochrones\n",
      "updated 236\n",
      "generating isochrones\n"
     ]
    },
    {
     "name": "stderr",
     "output_type": "stream",
     "text": [
      "/var/folders/2s/3b55fy1174l4bfchw66wdl800000gn/T/ipykernel_92403/2605401413.py:47: UserWarning: Geometry is in a geographic CRS. Results from 'area' are likely incorrect. Use 'GeoSeries.to_crs()' to re-project geometries to a projected CRS before this operation.\n",
      "\n",
      "  gdf['area'] = gdf['geometry'].area\n",
      "/Users/nabilersyad/miniconda3/envs/sql/lib/python3.9/site-packages/geopandas/geodataframe.py:1442: UserWarning: Geometry column does not contain geometry.\n",
      "  warnings.warn(\"Geometry column does not contain geometry.\")\n",
      "/var/folders/2s/3b55fy1174l4bfchw66wdl800000gn/T/ipykernel_92403/2605401413.py:80: UserWarning: Geometry is in a geographic CRS. Results from 'area' are likely incorrect. Use 'GeoSeries.to_crs()' to re-project geometries to a projected CRS before this operation.\n",
      "\n",
      "  combined_isochrones['area'] = combined_isochrones['geometry'].area\n",
      "/Users/nabilersyad/miniconda3/envs/sql/lib/python3.9/site-packages/geopandas/geodataframe.py:1442: UserWarning: Geometry column does not contain geometry.\n",
      "  warnings.warn(\"Geometry column does not contain geometry.\")\n"
     ]
    },
    {
     "name": "stdout",
     "output_type": "stream",
     "text": [
      "updated 237\n",
      "combining isochrones\n",
      "updated 238\n",
      "generating isochrones\n"
     ]
    },
    {
     "name": "stderr",
     "output_type": "stream",
     "text": [
      "/var/folders/2s/3b55fy1174l4bfchw66wdl800000gn/T/ipykernel_92403/2605401413.py:47: UserWarning: Geometry is in a geographic CRS. Results from 'area' are likely incorrect. Use 'GeoSeries.to_crs()' to re-project geometries to a projected CRS before this operation.\n",
      "\n",
      "  gdf['area'] = gdf['geometry'].area\n",
      "/Users/nabilersyad/miniconda3/envs/sql/lib/python3.9/site-packages/geopandas/geodataframe.py:1442: UserWarning: Geometry column does not contain geometry.\n",
      "  warnings.warn(\"Geometry column does not contain geometry.\")\n"
     ]
    },
    {
     "name": "stdout",
     "output_type": "stream",
     "text": [
      "updated 239\n",
      "generating isochrones\n"
     ]
    },
    {
     "name": "stderr",
     "output_type": "stream",
     "text": [
      "/var/folders/2s/3b55fy1174l4bfchw66wdl800000gn/T/ipykernel_92403/2605401413.py:47: UserWarning: Geometry is in a geographic CRS. Results from 'area' are likely incorrect. Use 'GeoSeries.to_crs()' to re-project geometries to a projected CRS before this operation.\n",
      "\n",
      "  gdf['area'] = gdf['geometry'].area\n",
      "/Users/nabilersyad/miniconda3/envs/sql/lib/python3.9/site-packages/geopandas/geodataframe.py:1442: UserWarning: Geometry column does not contain geometry.\n",
      "  warnings.warn(\"Geometry column does not contain geometry.\")\n"
     ]
    },
    {
     "name": "stdout",
     "output_type": "stream",
     "text": [
      "updated 240\n",
      "generating isochrones\n"
     ]
    },
    {
     "name": "stderr",
     "output_type": "stream",
     "text": [
      "/var/folders/2s/3b55fy1174l4bfchw66wdl800000gn/T/ipykernel_92403/2605401413.py:47: UserWarning: Geometry is in a geographic CRS. Results from 'area' are likely incorrect. Use 'GeoSeries.to_crs()' to re-project geometries to a projected CRS before this operation.\n",
      "\n",
      "  gdf['area'] = gdf['geometry'].area\n",
      "/Users/nabilersyad/miniconda3/envs/sql/lib/python3.9/site-packages/geopandas/geodataframe.py:1442: UserWarning: Geometry column does not contain geometry.\n",
      "  warnings.warn(\"Geometry column does not contain geometry.\")\n"
     ]
    },
    {
     "name": "stdout",
     "output_type": "stream",
     "text": [
      "updated 241\n",
      "generating isochrones\n"
     ]
    },
    {
     "name": "stderr",
     "output_type": "stream",
     "text": [
      "/var/folders/2s/3b55fy1174l4bfchw66wdl800000gn/T/ipykernel_92403/2605401413.py:47: UserWarning: Geometry is in a geographic CRS. Results from 'area' are likely incorrect. Use 'GeoSeries.to_crs()' to re-project geometries to a projected CRS before this operation.\n",
      "\n",
      "  gdf['area'] = gdf['geometry'].area\n",
      "/Users/nabilersyad/miniconda3/envs/sql/lib/python3.9/site-packages/geopandas/geodataframe.py:1442: UserWarning: Geometry column does not contain geometry.\n",
      "  warnings.warn(\"Geometry column does not contain geometry.\")\n"
     ]
    },
    {
     "name": "stdout",
     "output_type": "stream",
     "text": [
      "updated 242\n",
      "generating isochrones\n"
     ]
    },
    {
     "name": "stderr",
     "output_type": "stream",
     "text": [
      "/var/folders/2s/3b55fy1174l4bfchw66wdl800000gn/T/ipykernel_92403/2605401413.py:47: UserWarning: Geometry is in a geographic CRS. Results from 'area' are likely incorrect. Use 'GeoSeries.to_crs()' to re-project geometries to a projected CRS before this operation.\n",
      "\n",
      "  gdf['area'] = gdf['geometry'].area\n",
      "/Users/nabilersyad/miniconda3/envs/sql/lib/python3.9/site-packages/geopandas/geodataframe.py:1442: UserWarning: Geometry column does not contain geometry.\n",
      "  warnings.warn(\"Geometry column does not contain geometry.\")\n"
     ]
    },
    {
     "name": "stdout",
     "output_type": "stream",
     "text": [
      "updated 243\n",
      "generating isochrones\n"
     ]
    },
    {
     "name": "stderr",
     "output_type": "stream",
     "text": [
      "/var/folders/2s/3b55fy1174l4bfchw66wdl800000gn/T/ipykernel_92403/2605401413.py:47: UserWarning: Geometry is in a geographic CRS. Results from 'area' are likely incorrect. Use 'GeoSeries.to_crs()' to re-project geometries to a projected CRS before this operation.\n",
      "\n",
      "  gdf['area'] = gdf['geometry'].area\n",
      "/Users/nabilersyad/miniconda3/envs/sql/lib/python3.9/site-packages/geopandas/geodataframe.py:1442: UserWarning: Geometry column does not contain geometry.\n",
      "  warnings.warn(\"Geometry column does not contain geometry.\")\n"
     ]
    },
    {
     "name": "stdout",
     "output_type": "stream",
     "text": [
      "updated 244\n",
      "generating isochrones\n"
     ]
    },
    {
     "name": "stderr",
     "output_type": "stream",
     "text": [
      "/var/folders/2s/3b55fy1174l4bfchw66wdl800000gn/T/ipykernel_92403/2605401413.py:47: UserWarning: Geometry is in a geographic CRS. Results from 'area' are likely incorrect. Use 'GeoSeries.to_crs()' to re-project geometries to a projected CRS before this operation.\n",
      "\n",
      "  gdf['area'] = gdf['geometry'].area\n",
      "/Users/nabilersyad/miniconda3/envs/sql/lib/python3.9/site-packages/geopandas/geodataframe.py:1442: UserWarning: Geometry column does not contain geometry.\n",
      "  warnings.warn(\"Geometry column does not contain geometry.\")\n"
     ]
    },
    {
     "name": "stdout",
     "output_type": "stream",
     "text": [
      "updated 245\n",
      "generating isochrones\n"
     ]
    },
    {
     "name": "stderr",
     "output_type": "stream",
     "text": [
      "/Users/nabilersyad/miniconda3/envs/sql/lib/python3.9/site-packages/openrouteservice/client.py:211: UserWarning: Rate limit exceeded. Retrying for the 1st time.\n",
      "  warnings.warn('Rate limit exceeded. Retrying for the {0}{1} time.'.format(retry_counter + 1,\n",
      "/Users/nabilersyad/miniconda3/envs/sql/lib/python3.9/site-packages/openrouteservice/client.py:211: UserWarning: Rate limit exceeded. Retrying for the 2nd time.\n",
      "  warnings.warn('Rate limit exceeded. Retrying for the {0}{1} time.'.format(retry_counter + 1,\n",
      "/Users/nabilersyad/miniconda3/envs/sql/lib/python3.9/site-packages/openrouteservice/client.py:211: UserWarning: Rate limit exceeded. Retrying for the 3rd time.\n",
      "  warnings.warn('Rate limit exceeded. Retrying for the {0}{1} time.'.format(retry_counter + 1,\n",
      "/Users/nabilersyad/miniconda3/envs/sql/lib/python3.9/site-packages/openrouteservice/client.py:211: UserWarning: Rate limit exceeded. Retrying for the 4th time.\n",
      "  warnings.warn('Rate limit exceeded. Retrying for the {0}{1} time.'.format(retry_counter + 1,\n",
      "/Users/nabilersyad/miniconda3/envs/sql/lib/python3.9/site-packages/openrouteservice/client.py:211: UserWarning: Rate limit exceeded. Retrying for the 5th time.\n",
      "  warnings.warn('Rate limit exceeded. Retrying for the {0}{1} time.'.format(retry_counter + 1,\n",
      "/Users/nabilersyad/miniconda3/envs/sql/lib/python3.9/site-packages/openrouteservice/client.py:211: UserWarning: Rate limit exceeded. Retrying for the 6th time.\n",
      "  warnings.warn('Rate limit exceeded. Retrying for the {0}{1} time.'.format(retry_counter + 1,\n",
      "/Users/nabilersyad/miniconda3/envs/sql/lib/python3.9/site-packages/openrouteservice/client.py:211: UserWarning: Rate limit exceeded. Retrying for the 7th time.\n",
      "  warnings.warn('Rate limit exceeded. Retrying for the {0}{1} time.'.format(retry_counter + 1,\n",
      "/Users/nabilersyad/miniconda3/envs/sql/lib/python3.9/site-packages/openrouteservice/client.py:211: UserWarning: Rate limit exceeded. Retrying for the 8th time.\n",
      "  warnings.warn('Rate limit exceeded. Retrying for the {0}{1} time.'.format(retry_counter + 1,\n",
      "/Users/nabilersyad/miniconda3/envs/sql/lib/python3.9/site-packages/openrouteservice/client.py:211: UserWarning: Rate limit exceeded. Retrying for the 9th time.\n",
      "  warnings.warn('Rate limit exceeded. Retrying for the {0}{1} time.'.format(retry_counter + 1,\n",
      "/var/folders/2s/3b55fy1174l4bfchw66wdl800000gn/T/ipykernel_92403/2605401413.py:47: UserWarning: Geometry is in a geographic CRS. Results from 'area' are likely incorrect. Use 'GeoSeries.to_crs()' to re-project geometries to a projected CRS before this operation.\n",
      "\n",
      "  gdf['area'] = gdf['geometry'].area\n",
      "/Users/nabilersyad/miniconda3/envs/sql/lib/python3.9/site-packages/geopandas/geodataframe.py:1442: UserWarning: Geometry column does not contain geometry.\n",
      "  warnings.warn(\"Geometry column does not contain geometry.\")\n"
     ]
    },
    {
     "name": "stdout",
     "output_type": "stream",
     "text": [
      "updated 246\n",
      "generating isochrones\n"
     ]
    },
    {
     "name": "stderr",
     "output_type": "stream",
     "text": [
      "/var/folders/2s/3b55fy1174l4bfchw66wdl800000gn/T/ipykernel_92403/2605401413.py:47: UserWarning: Geometry is in a geographic CRS. Results from 'area' are likely incorrect. Use 'GeoSeries.to_crs()' to re-project geometries to a projected CRS before this operation.\n",
      "\n",
      "  gdf['area'] = gdf['geometry'].area\n",
      "/Users/nabilersyad/miniconda3/envs/sql/lib/python3.9/site-packages/geopandas/geodataframe.py:1442: UserWarning: Geometry column does not contain geometry.\n",
      "  warnings.warn(\"Geometry column does not contain geometry.\")\n"
     ]
    },
    {
     "name": "stdout",
     "output_type": "stream",
     "text": [
      "updated 247\n",
      "generating isochrones\n"
     ]
    },
    {
     "name": "stderr",
     "output_type": "stream",
     "text": [
      "/var/folders/2s/3b55fy1174l4bfchw66wdl800000gn/T/ipykernel_92403/2605401413.py:47: UserWarning: Geometry is in a geographic CRS. Results from 'area' are likely incorrect. Use 'GeoSeries.to_crs()' to re-project geometries to a projected CRS before this operation.\n",
      "\n",
      "  gdf['area'] = gdf['geometry'].area\n",
      "/Users/nabilersyad/miniconda3/envs/sql/lib/python3.9/site-packages/geopandas/geodataframe.py:1442: UserWarning: Geometry column does not contain geometry.\n",
      "  warnings.warn(\"Geometry column does not contain geometry.\")\n"
     ]
    },
    {
     "name": "stdout",
     "output_type": "stream",
     "text": [
      "updated 248\n",
      "generating isochrones\n"
     ]
    },
    {
     "name": "stderr",
     "output_type": "stream",
     "text": [
      "/var/folders/2s/3b55fy1174l4bfchw66wdl800000gn/T/ipykernel_92403/2605401413.py:47: UserWarning: Geometry is in a geographic CRS. Results from 'area' are likely incorrect. Use 'GeoSeries.to_crs()' to re-project geometries to a projected CRS before this operation.\n",
      "\n",
      "  gdf['area'] = gdf['geometry'].area\n",
      "/Users/nabilersyad/miniconda3/envs/sql/lib/python3.9/site-packages/geopandas/geodataframe.py:1442: UserWarning: Geometry column does not contain geometry.\n",
      "  warnings.warn(\"Geometry column does not contain geometry.\")\n"
     ]
    },
    {
     "name": "stdout",
     "output_type": "stream",
     "text": [
      "updated 249\n",
      "generating isochrones\n"
     ]
    },
    {
     "name": "stderr",
     "output_type": "stream",
     "text": [
      "/var/folders/2s/3b55fy1174l4bfchw66wdl800000gn/T/ipykernel_92403/2605401413.py:47: UserWarning: Geometry is in a geographic CRS. Results from 'area' are likely incorrect. Use 'GeoSeries.to_crs()' to re-project geometries to a projected CRS before this operation.\n",
      "\n",
      "  gdf['area'] = gdf['geometry'].area\n",
      "/Users/nabilersyad/miniconda3/envs/sql/lib/python3.9/site-packages/geopandas/geodataframe.py:1442: UserWarning: Geometry column does not contain geometry.\n",
      "  warnings.warn(\"Geometry column does not contain geometry.\")\n"
     ]
    },
    {
     "name": "stdout",
     "output_type": "stream",
     "text": [
      "updated 250\n",
      "generating isochrones\n"
     ]
    },
    {
     "name": "stderr",
     "output_type": "stream",
     "text": [
      "/var/folders/2s/3b55fy1174l4bfchw66wdl800000gn/T/ipykernel_92403/2605401413.py:47: UserWarning: Geometry is in a geographic CRS. Results from 'area' are likely incorrect. Use 'GeoSeries.to_crs()' to re-project geometries to a projected CRS before this operation.\n",
      "\n",
      "  gdf['area'] = gdf['geometry'].area\n",
      "/Users/nabilersyad/miniconda3/envs/sql/lib/python3.9/site-packages/geopandas/geodataframe.py:1442: UserWarning: Geometry column does not contain geometry.\n",
      "  warnings.warn(\"Geometry column does not contain geometry.\")\n"
     ]
    },
    {
     "name": "stdout",
     "output_type": "stream",
     "text": [
      "updated 251\n",
      "generating isochrones\n"
     ]
    },
    {
     "name": "stderr",
     "output_type": "stream",
     "text": [
      "/var/folders/2s/3b55fy1174l4bfchw66wdl800000gn/T/ipykernel_92403/2605401413.py:47: UserWarning: Geometry is in a geographic CRS. Results from 'area' are likely incorrect. Use 'GeoSeries.to_crs()' to re-project geometries to a projected CRS before this operation.\n",
      "\n",
      "  gdf['area'] = gdf['geometry'].area\n",
      "/Users/nabilersyad/miniconda3/envs/sql/lib/python3.9/site-packages/geopandas/geodataframe.py:1442: UserWarning: Geometry column does not contain geometry.\n",
      "  warnings.warn(\"Geometry column does not contain geometry.\")\n"
     ]
    },
    {
     "name": "stdout",
     "output_type": "stream",
     "text": [
      "updated 252\n",
      "generating isochrones\n"
     ]
    },
    {
     "name": "stderr",
     "output_type": "stream",
     "text": [
      "/var/folders/2s/3b55fy1174l4bfchw66wdl800000gn/T/ipykernel_92403/2605401413.py:47: UserWarning: Geometry is in a geographic CRS. Results from 'area' are likely incorrect. Use 'GeoSeries.to_crs()' to re-project geometries to a projected CRS before this operation.\n",
      "\n",
      "  gdf['area'] = gdf['geometry'].area\n",
      "/Users/nabilersyad/miniconda3/envs/sql/lib/python3.9/site-packages/geopandas/geodataframe.py:1442: UserWarning: Geometry column does not contain geometry.\n",
      "  warnings.warn(\"Geometry column does not contain geometry.\")\n"
     ]
    },
    {
     "name": "stdout",
     "output_type": "stream",
     "text": [
      "updated 253\n",
      "generating isochrones\n"
     ]
    },
    {
     "name": "stderr",
     "output_type": "stream",
     "text": [
      "/var/folders/2s/3b55fy1174l4bfchw66wdl800000gn/T/ipykernel_92403/2605401413.py:47: UserWarning: Geometry is in a geographic CRS. Results from 'area' are likely incorrect. Use 'GeoSeries.to_crs()' to re-project geometries to a projected CRS before this operation.\n",
      "\n",
      "  gdf['area'] = gdf['geometry'].area\n",
      "/Users/nabilersyad/miniconda3/envs/sql/lib/python3.9/site-packages/geopandas/geodataframe.py:1442: UserWarning: Geometry column does not contain geometry.\n",
      "  warnings.warn(\"Geometry column does not contain geometry.\")\n"
     ]
    },
    {
     "name": "stdout",
     "output_type": "stream",
     "text": [
      "updated 254\n",
      "generating isochrones\n"
     ]
    },
    {
     "name": "stderr",
     "output_type": "stream",
     "text": [
      "/var/folders/2s/3b55fy1174l4bfchw66wdl800000gn/T/ipykernel_92403/2605401413.py:47: UserWarning: Geometry is in a geographic CRS. Results from 'area' are likely incorrect. Use 'GeoSeries.to_crs()' to re-project geometries to a projected CRS before this operation.\n",
      "\n",
      "  gdf['area'] = gdf['geometry'].area\n",
      "/Users/nabilersyad/miniconda3/envs/sql/lib/python3.9/site-packages/geopandas/geodataframe.py:1442: UserWarning: Geometry column does not contain geometry.\n",
      "  warnings.warn(\"Geometry column does not contain geometry.\")\n"
     ]
    },
    {
     "name": "stdout",
     "output_type": "stream",
     "text": [
      "updated 255\n",
      "generating isochrones\n"
     ]
    },
    {
     "name": "stderr",
     "output_type": "stream",
     "text": [
      "/var/folders/2s/3b55fy1174l4bfchw66wdl800000gn/T/ipykernel_92403/2605401413.py:47: UserWarning: Geometry is in a geographic CRS. Results from 'area' are likely incorrect. Use 'GeoSeries.to_crs()' to re-project geometries to a projected CRS before this operation.\n",
      "\n",
      "  gdf['area'] = gdf['geometry'].area\n",
      "/Users/nabilersyad/miniconda3/envs/sql/lib/python3.9/site-packages/geopandas/geodataframe.py:1442: UserWarning: Geometry column does not contain geometry.\n",
      "  warnings.warn(\"Geometry column does not contain geometry.\")\n"
     ]
    },
    {
     "name": "stdout",
     "output_type": "stream",
     "text": [
      "updated 256\n",
      "generating isochrones\n"
     ]
    },
    {
     "name": "stderr",
     "output_type": "stream",
     "text": [
      "/var/folders/2s/3b55fy1174l4bfchw66wdl800000gn/T/ipykernel_92403/2605401413.py:47: UserWarning: Geometry is in a geographic CRS. Results from 'area' are likely incorrect. Use 'GeoSeries.to_crs()' to re-project geometries to a projected CRS before this operation.\n",
      "\n",
      "  gdf['area'] = gdf['geometry'].area\n",
      "/Users/nabilersyad/miniconda3/envs/sql/lib/python3.9/site-packages/geopandas/geodataframe.py:1442: UserWarning: Geometry column does not contain geometry.\n",
      "  warnings.warn(\"Geometry column does not contain geometry.\")\n"
     ]
    },
    {
     "name": "stdout",
     "output_type": "stream",
     "text": [
      "updated 257\n",
      "generating isochrones\n"
     ]
    },
    {
     "name": "stderr",
     "output_type": "stream",
     "text": [
      "/var/folders/2s/3b55fy1174l4bfchw66wdl800000gn/T/ipykernel_92403/2605401413.py:47: UserWarning: Geometry is in a geographic CRS. Results from 'area' are likely incorrect. Use 'GeoSeries.to_crs()' to re-project geometries to a projected CRS before this operation.\n",
      "\n",
      "  gdf['area'] = gdf['geometry'].area\n",
      "/Users/nabilersyad/miniconda3/envs/sql/lib/python3.9/site-packages/geopandas/geodataframe.py:1442: UserWarning: Geometry column does not contain geometry.\n",
      "  warnings.warn(\"Geometry column does not contain geometry.\")\n"
     ]
    },
    {
     "name": "stdout",
     "output_type": "stream",
     "text": [
      "updated 258\n",
      "generating isochrones\n",
      "updated 0\n"
     ]
    },
    {
     "name": "stderr",
     "output_type": "stream",
     "text": [
      "/var/folders/2s/3b55fy1174l4bfchw66wdl800000gn/T/ipykernel_92403/2605401413.py:47: UserWarning: Geometry is in a geographic CRS. Results from 'area' are likely incorrect. Use 'GeoSeries.to_crs()' to re-project geometries to a projected CRS before this operation.\n",
      "\n",
      "  gdf['area'] = gdf['geometry'].area\n",
      "/Users/nabilersyad/miniconda3/envs/sql/lib/python3.9/site-packages/geopandas/geodataframe.py:1442: UserWarning: Geometry column does not contain geometry.\n",
      "  warnings.warn(\"Geometry column does not contain geometry.\")\n"
     ]
    }
   ],
   "source": [
    "process_stations(stations_gdf,merged_gdf,ors_client,supabase)"
   ]
  },
  {
   "cell_type": "code",
   "execution_count": 138,
   "metadata": {},
   "outputs": [
    {
     "name": "stderr",
     "output_type": "stream",
     "text": [
      "/var/folders/2s/3b55fy1174l4bfchw66wdl800000gn/T/ipykernel_92403/1021231826.py:23: UserWarning: Geometry is in a geographic CRS. Results from 'centroid' are likely incorrect. Use 'GeoSeries.to_crs()' to re-project geometries to a projected CRS before this operation.\n",
      "\n",
      "  map_center = entrances_isochrones_gdf.geometry.centroid.iloc[0].coords[0][::-1]\n"
     ]
    },
    {
     "data": {
      "text/html": [
       "<div style=\"width:100%;\"><div style=\"position:relative;width:100%;height:0;padding-bottom:60%;\"><span style=\"color:#565656\">Make this Notebook Trusted to load map: File -> Trust Notebook</span><iframe srcdoc=\"&lt;!DOCTYPE html&gt;\n",
       "&lt;html&gt;\n",
       "&lt;head&gt;\n",
       "    \n",
       "    &lt;meta http-equiv=&quot;content-type&quot; content=&quot;text/html; charset=UTF-8&quot; /&gt;\n",
       "    \n",
       "        &lt;script&gt;\n",
       "            L_NO_TOUCH = false;\n",
       "            L_DISABLE_3D = false;\n",
       "        &lt;/script&gt;\n",
       "    \n",
       "    &lt;style&gt;html, body {width: 100%;height: 100%;margin: 0;padding: 0;}&lt;/style&gt;\n",
       "    &lt;style&gt;#map {position:absolute;top:0;bottom:0;right:0;left:0;}&lt;/style&gt;\n",
       "    &lt;script src=&quot;https://cdn.jsdelivr.net/npm/leaflet@1.9.3/dist/leaflet.js&quot;&gt;&lt;/script&gt;\n",
       "    &lt;script src=&quot;https://code.jquery.com/jquery-1.12.4.min.js&quot;&gt;&lt;/script&gt;\n",
       "    &lt;script src=&quot;https://cdn.jsdelivr.net/npm/bootstrap@5.2.2/dist/js/bootstrap.bundle.min.js&quot;&gt;&lt;/script&gt;\n",
       "    &lt;script src=&quot;https://cdnjs.cloudflare.com/ajax/libs/Leaflet.awesome-markers/2.0.2/leaflet.awesome-markers.js&quot;&gt;&lt;/script&gt;\n",
       "    &lt;link rel=&quot;stylesheet&quot; href=&quot;https://cdn.jsdelivr.net/npm/leaflet@1.9.3/dist/leaflet.css&quot;/&gt;\n",
       "    &lt;link rel=&quot;stylesheet&quot; href=&quot;https://cdn.jsdelivr.net/npm/bootstrap@5.2.2/dist/css/bootstrap.min.css&quot;/&gt;\n",
       "    &lt;link rel=&quot;stylesheet&quot; href=&quot;https://netdna.bootstrapcdn.com/bootstrap/3.0.0/css/bootstrap.min.css&quot;/&gt;\n",
       "    &lt;link rel=&quot;stylesheet&quot; href=&quot;https://cdn.jsdelivr.net/npm/@fortawesome/fontawesome-free@6.2.0/css/all.min.css&quot;/&gt;\n",
       "    &lt;link rel=&quot;stylesheet&quot; href=&quot;https://cdnjs.cloudflare.com/ajax/libs/Leaflet.awesome-markers/2.0.2/leaflet.awesome-markers.css&quot;/&gt;\n",
       "    &lt;link rel=&quot;stylesheet&quot; href=&quot;https://cdn.jsdelivr.net/gh/python-visualization/folium/folium/templates/leaflet.awesome.rotate.min.css&quot;/&gt;\n",
       "    \n",
       "            &lt;meta name=&quot;viewport&quot; content=&quot;width=device-width,\n",
       "                initial-scale=1.0, maximum-scale=1.0, user-scalable=no&quot; /&gt;\n",
       "            &lt;style&gt;\n",
       "                #map_6f37fa7fa21af89d74bbee2bcd236249 {\n",
       "                    position: relative;\n",
       "                    width: 100.0%;\n",
       "                    height: 100.0%;\n",
       "                    left: 0.0%;\n",
       "                    top: 0.0%;\n",
       "                }\n",
       "                .leaflet-container { font-size: 1rem; }\n",
       "            &lt;/style&gt;\n",
       "        \n",
       "&lt;/head&gt;\n",
       "&lt;body&gt;\n",
       "    \n",
       "    \n",
       "            &lt;div class=&quot;folium-map&quot; id=&quot;map_6f37fa7fa21af89d74bbee2bcd236249&quot; &gt;&lt;/div&gt;\n",
       "        \n",
       "&lt;/body&gt;\n",
       "&lt;script&gt;\n",
       "    \n",
       "    \n",
       "            var map_6f37fa7fa21af89d74bbee2bcd236249 = L.map(\n",
       "                &quot;map_6f37fa7fa21af89d74bbee2bcd236249&quot;,\n",
       "                {\n",
       "                    center: [3.139022403595065, 101.69359036598281],\n",
       "                    crs: L.CRS.EPSG3857,\n",
       "                    zoom: 12,\n",
       "                    zoomControl: true,\n",
       "                    preferCanvas: false,\n",
       "                }\n",
       "            );\n",
       "\n",
       "            \n",
       "\n",
       "        \n",
       "    \n",
       "            var tile_layer_4219b820080f7ae9726da8028eecfcba = L.tileLayer(\n",
       "                &quot;https://{s}.tile.openstreetmap.org/{z}/{x}/{y}.png&quot;,\n",
       "                {&quot;attribution&quot;: &quot;Data by \\u0026copy; \\u003ca target=\\&quot;_blank\\&quot; href=\\&quot;http://openstreetmap.org\\&quot;\\u003eOpenStreetMap\\u003c/a\\u003e, under \\u003ca target=\\&quot;_blank\\&quot; href=\\&quot;http://www.openstreetmap.org/copyright\\&quot;\\u003eODbL\\u003c/a\\u003e.&quot;, &quot;detectRetina&quot;: false, &quot;maxNativeZoom&quot;: 18, &quot;maxZoom&quot;: 18, &quot;minZoom&quot;: 0, &quot;noWrap&quot;: false, &quot;opacity&quot;: 1, &quot;subdomains&quot;: &quot;abc&quot;, &quot;tms&quot;: false}\n",
       "            ).addTo(map_6f37fa7fa21af89d74bbee2bcd236249);\n",
       "        \n",
       "    \n",
       "        function geo_json_8f75dfa2ee86e0257fa9e005a56fdacb_styler(feature) {\n",
       "            switch(feature.id) {\n",
       "                default:\n",
       "                    return {&quot;color&quot;: &quot;black&quot;, &quot;fillColor&quot;: &quot;cyan&quot;, &quot;fillOpacity&quot;: 0.6, &quot;weight&quot;: 1};\n",
       "            }\n",
       "        }\n",
       "\n",
       "        function geo_json_8f75dfa2ee86e0257fa9e005a56fdacb_onEachFeature(feature, layer) {\n",
       "            layer.on({\n",
       "            });\n",
       "        };\n",
       "        var geo_json_8f75dfa2ee86e0257fa9e005a56fdacb = L.geoJson(null, {\n",
       "                onEachFeature: geo_json_8f75dfa2ee86e0257fa9e005a56fdacb_onEachFeature,\n",
       "            \n",
       "                style: geo_json_8f75dfa2ee86e0257fa9e005a56fdacb_styler,\n",
       "        });\n",
       "\n",
       "        function geo_json_8f75dfa2ee86e0257fa9e005a56fdacb_add (data) {\n",
       "            geo_json_8f75dfa2ee86e0257fa9e005a56fdacb\n",
       "                .addData(data)\n",
       "                .addTo(map_6f37fa7fa21af89d74bbee2bcd236249);\n",
       "        }\n",
       "            geo_json_8f75dfa2ee86e0257fa9e005a56fdacb_add({&quot;bbox&quot;: [101.386344, 2.461433, 102.229398, 3.6872], &quot;features&quot;: [{&quot;bbox&quot;: [101.690954, 3.136288, 101.695419, 3.143129], &quot;geometry&quot;: {&quot;coordinates&quot;: [[[101.691022, 3.137619], [101.691633, 3.13658], [101.694146, 3.136324], [101.694504, 3.136288], [101.695378, 3.137247], [101.695398, 3.137432], [101.695419, 3.137616], [101.695299, 3.138986], [101.6949, 3.142327], [101.694725, 3.143124], [101.69434, 3.143129], [101.694204, 3.143099], [101.691467, 3.138416], [101.690954, 3.137972], [101.691022, 3.137619]]], &quot;type&quot;: &quot;Polygon&quot;}, &quot;id&quot;: &quot;0&quot;, &quot;properties&quot;: {&quot;area&quot;: 1.8400130500016453e-05, &quot;center&quot;: &quot;[101.69396136409445, 3.1394620891138714]&quot;, &quot;isochrone_id&quot;: 1300, &quot;reachfactor&quot;: 0.6523, &quot;station_id&quot;: &quot;1&quot;, &quot;total_pop&quot;: 1318.0, &quot;type&quot;: &quot;Polygon&quot;, &quot;value&quot;: 300}, &quot;type&quot;: &quot;Feature&quot;}, {&quot;bbox&quot;: [101.690127, 3.151269, 101.695707, 3.158233], &quot;geometry&quot;: {&quot;coordinates&quot;: [[[101.691538, 3.151706], [101.691762, 3.151425], [101.692286, 3.151269], [101.69246, 3.151292], [101.694766, 3.153206], [101.694883, 3.153344], [101.695348, 3.15414], [101.695707, 3.155532], [101.695639, 3.155885], [101.695551, 3.156015], [101.69472, 3.156908], [101.692893, 3.158103], [101.692803, 3.158158], [101.692674, 3.158217], [101.692596, 3.158233], [101.690127, 3.154343], [101.691538, 3.151706]]], &quot;type&quot;: &quot;Polygon&quot;}, &quot;id&quot;: &quot;3&quot;, &quot;properties&quot;: {&quot;area&quot;: 2.335598800000113e-05, &quot;center&quot;: &quot;[101.69293232544325, 3.1545974065434557]&quot;, &quot;isochrone_id&quot;: 2300, &quot;reachfactor&quot;: 0.8278, &quot;station_id&quot;: &quot;2&quot;, &quot;total_pop&quot;: 3527.0, &quot;type&quot;: &quot;Polygon&quot;, &quot;value&quot;: 300}, &quot;type&quot;: &quot;Feature&quot;}, {&quot;bbox&quot;: [101.688218, 3.161883, 101.693187, 3.167842], &quot;geometry&quot;: {&quot;coordinates&quot;: [[[101.688637, 3.163439], [101.688728, 3.163357], [101.690599, 3.161883], [101.690946, 3.16198], [101.692634, 3.16331], [101.693177, 3.164588], [101.693187, 3.164842], [101.692926, 3.166125], [101.692177, 3.166912], [101.691021, 3.167842], [101.690676, 3.167739], [101.689168, 3.165926], [101.688218, 3.164437], [101.688637, 3.163439]]], &quot;type&quot;: &quot;Polygon&quot;}, &quot;id&quot;: &quot;6&quot;, &quot;properties&quot;: {&quot;area&quot;: 1.856721200000047e-05, &quot;center&quot;: &quot;[101.69119879753202, 3.1649780654673743]&quot;, &quot;isochrone_id&quot;: 3300, &quot;reachfactor&quot;: 0.6582, &quot;station_id&quot;: &quot;3&quot;, &quot;total_pop&quot;: 1406.0, &quot;type&quot;: &quot;Polygon&quot;, &quot;value&quot;: 300}, &quot;type&quot;: &quot;Feature&quot;}, {&quot;bbox&quot;: [101.785066, 2.937137, 101.790743, 2.942351], &quot;geometry&quot;: {&quot;coordinates&quot;: [[[101.785208, 2.941171], [101.785066, 2.9385], [101.785355, 2.938285], [101.790528, 2.937137], [101.790743, 2.937427], [101.789241, 2.941385], [101.789164, 2.941425], [101.788069, 2.941955], [101.785724, 2.942351], [101.785367, 2.942303], [101.78529, 2.942088], [101.785208, 2.941171]]], &quot;type&quot;: &quot;Polygon&quot;}, &quot;id&quot;: &quot;8&quot;, &quot;properties&quot;: {&quot;area&quot;: 2.0115319000027023e-05, &quot;center&quot;: &quot;[101.78770801629291, 2.9395100221711816]&quot;, &quot;isochrone_id&quot;: 10300, &quot;reachfactor&quot;: 0.7131, &quot;station_id&quot;: &quot;10&quot;, &quot;total_pop&quot;: 839.0, &quot;type&quot;: &quot;Polygon&quot;, &quot;value&quot;: 300}, &quot;type&quot;: &quot;Feature&quot;}, {&quot;bbox&quot;: [101.676646, 3.115116, 101.681528, 3.12243], &quot;geometry&quot;: {&quot;coordinates&quot;: [[[101.676646, 3.119904], [101.676674, 3.119479], [101.677034, 3.115789], [101.677104, 3.115436], [101.678626, 3.115116], [101.681333, 3.11886], [101.681528, 3.119746], [101.680521, 3.121009], [101.679574, 3.121768], [101.678769, 3.12243], [101.678671, 3.122328], [101.676712, 3.120352], [101.676646, 3.119904]]], &quot;type&quot;: &quot;Polygon&quot;}, &quot;id&quot;: &quot;11&quot;, &quot;properties&quot;: {&quot;area&quot;: 2.289824699996586e-05, &quot;center&quot;: &quot;[101.67916869413706, 3.1185761177070312]&quot;, &quot;isochrone_id&quot;: 4300, &quot;reachfactor&quot;: 0.8115, &quot;station_id&quot;: &quot;4&quot;, &quot;total_pop&quot;: 2721.0, &quot;type&quot;: &quot;Polygon&quot;, &quot;value&quot;: 300}, &quot;type&quot;: &quot;Feature&quot;}, {&quot;bbox&quot;: [101.678762, 3.111858, 101.684661, 3.116527], &quot;geometry&quot;: {&quot;coordinates&quot;: [[[101.67878, 3.114787], [101.678762, 3.114166], [101.678808, 3.113684], [101.679867, 3.111858], [101.679983, 3.11187], [101.684661, 3.112953], [101.684656, 3.113313], [101.684285, 3.114427], [101.683047, 3.116302], [101.682766, 3.116527], [101.682582, 3.116505], [101.678968, 3.115365], [101.678798, 3.115054], [101.67878, 3.114787]]], &quot;type&quot;: &quot;Polygon&quot;}, &quot;id&quot;: &quot;12&quot;, &quot;properties&quot;: {&quot;area&quot;: 1.8985695500002658e-05, &quot;center&quot;: &quot;[101.68132060277134, 3.1137254405689823]&quot;, &quot;isochrone_id&quot;: 5300, &quot;reachfactor&quot;: 0.6729, &quot;station_id&quot;: &quot;5&quot;, &quot;total_pop&quot;: 1680.0, &quot;type&quot;: &quot;Polygon&quot;, &quot;value&quot;: 300}, &quot;type&quot;: &quot;Feature&quot;}, {&quot;bbox&quot;: [101.702929, 3.095638, 101.707892, 3.100219], &quot;geometry&quot;: {&quot;coordinates&quot;: [[[101.703123, 3.099104], [101.703343, 3.098534], [101.703537, 3.098207], [101.70368, 3.098091], [101.707669, 3.095638], [101.707892, 3.09592], [101.705185, 3.099758], [101.704705, 3.100156], [101.704443, 3.100219], [101.703616, 3.10021], [101.703194, 3.099902], [101.702929, 3.099658], [101.703123, 3.099104]]], &quot;type&quot;: &quot;Polygon&quot;}, &quot;id&quot;: &quot;15&quot;, &quot;properties&quot;: {&quot;area&quot;: 8.73089599999927e-06, &quot;center&quot;: &quot;[101.7052056, 3.0979583]&quot;, &quot;isochrone_id&quot;: 6300, &quot;reachfactor&quot;: 0.3096, &quot;station_id&quot;: &quot;6&quot;, &quot;total_pop&quot;: 437.0, &quot;type&quot;: &quot;Polygon&quot;, &quot;value&quot;: 300}, &quot;type&quot;: &quot;Feature&quot;}, {&quot;bbox&quot;: [101.709087, 3.073887, 101.714107, 3.077806], &quot;geometry&quot;: {&quot;coordinates&quot;: [[[101.709087, 3.075215], [101.710075, 3.074152], [101.71032, 3.073888], [101.710527, 3.073887], [101.713237, 3.075847], [101.713874, 3.076517], [101.714107, 3.077008], [101.71398, 3.077345], [101.712399, 3.077806], [101.710836, 3.077395], [101.709623, 3.076055], [101.70942, 3.075834], [101.709176, 3.075538], [101.709087, 3.075215]]], &quot;type&quot;: &quot;Polygon&quot;}, &quot;id&quot;: &quot;18&quot;, &quot;properties&quot;: {&quot;area&quot;: 1.0877836500019058e-05, &quot;center&quot;: &quot;[101.7111191278877, 3.076309029775572]&quot;, &quot;isochrone_id&quot;: 7300, &quot;reachfactor&quot;: 0.3856, &quot;station_id&quot;: &quot;7&quot;, &quot;total_pop&quot;: 637.0, &quot;type&quot;: &quot;Polygon&quot;, &quot;value&quot;: 300}, &quot;type&quot;: &quot;Feature&quot;}, {&quot;bbox&quot;: [101.713225, 3.021714, 101.717542, 3.025939], &quot;geometry&quot;: {&quot;coordinates&quot;: [[[101.715136, 3.022174], [101.715569, 3.021851], [101.716036, 3.021714], [101.716353, 3.021884], [101.717102, 3.022835], [101.717159, 3.023021], [101.717242, 3.023307], [101.717493, 3.024812], [101.717542, 3.025354], [101.717537, 3.025375], [101.716817, 3.025775], [101.715476, 3.025939], [101.714227, 3.025763], [101.713899, 3.025614], [101.713225, 3.0241], [101.715136, 3.022174]]], &quot;type&quot;: &quot;Polygon&quot;}, &quot;id&quot;: &quot;21&quot;, &quot;properties&quot;: {&quot;area&quot;: 1.2608699500009606e-05, &quot;center&quot;: &quot;[101.7159968, 3.0233759]&quot;, &quot;isochrone_id&quot;: 8300, &quot;reachfactor&quot;: 0.4471, &quot;station_id&quot;: &quot;8&quot;, &quot;total_pop&quot;: 1458.0, &quot;type&quot;: &quot;Polygon&quot;, &quot;value&quot;: 300}, &quot;type&quot;: &quot;Feature&quot;}, {&quot;bbox&quot;: [101.868262, 2.739059, 101.873784, 2.742388], &quot;geometry&quot;: {&quot;coordinates&quot;: [[[101.868262, 2.742041], [101.868559, 2.741492], [101.869538, 2.740166], [101.871571, 2.739202], [101.871901, 2.739059], [101.872013, 2.739061], [101.87369, 2.740544], [101.873784, 2.740891], [101.873529, 2.74096], [101.873274, 2.741029], [101.873038, 2.74108], [101.872811, 2.741129], [101.868914, 2.742234], [101.868636, 2.742311], [101.868358, 2.742388], [101.868262, 2.742041]]], &quot;type&quot;: &quot;Polygon&quot;}, &quot;id&quot;: &quot;24&quot;, &quot;properties&quot;: {&quot;area&quot;: 9.00166099998092e-06, &quot;center&quot;: &quot;[101.87190680803893, 2.741156552219802]&quot;, &quot;isochrone_id&quot;: 15300, &quot;reachfactor&quot;: 0.3192, &quot;station_id&quot;: &quot;15&quot;, &quot;total_pop&quot;: 105.0, &quot;type&quot;: &quot;Polygon&quot;, &quot;value&quot;: 300}, &quot;type&quot;: &quot;Feature&quot;}, {&quot;bbox&quot;: [101.783101, 2.900798, 101.78815, 2.907033], &quot;geometry&quot;: {&quot;coordinates&quot;: [[[101.783418, 2.902772], [101.783602, 2.901933], [101.783802, 2.901068], [101.783855, 2.900981], [101.784019, 2.900867], [101.78484, 2.900798], [101.787928, 2.905827], [101.787974, 2.905898], [101.787997, 2.905963], [101.78815, 2.906697], [101.788019, 2.907033], [101.784037, 2.906284], [101.783101, 2.905404], [101.783418, 2.902772]]], &quot;type&quot;: &quot;Polygon&quot;}, &quot;id&quot;: &quot;25&quot;, &quot;properties&quot;: {&quot;area&quot;: 1.8361706499995875e-05, &quot;center&quot;: &quot;[101.7858945, 2.9040742]&quot;, &quot;isochrone_id&quot;: 11300, &quot;reachfactor&quot;: 0.651, &quot;station_id&quot;: &quot;11&quot;, &quot;total_pop&quot;: 811.0, &quot;type&quot;: &quot;Polygon&quot;, &quot;value&quot;: 300}, &quot;type&quot;: &quot;Feature&quot;}, {&quot;bbox&quot;: [101.825992, 2.826378, 101.829581, 2.834163], &quot;geometry&quot;: {&quot;coordinates&quot;: [[[101.82763, 2.833902], [101.827575, 2.83364], [101.827487, 2.83316], [101.827399, 2.832684], [101.826882, 2.829701], [101.825992, 2.826547], [101.826309, 2.826378], [101.826651, 2.826615], [101.829121, 2.829728], [101.829581, 2.831138], [101.828038, 2.834089], [101.827685, 2.834163], [101.82763, 2.833902]]], &quot;type&quot;: &quot;Polygon&quot;}, &quot;id&quot;: &quot;28&quot;, &quot;properties&quot;: {&quot;area&quot;: 1.20583190000265e-05, &quot;center&quot;: &quot;[101.8269512, 2.8301052]&quot;, &quot;isochrone_id&quot;: 12300, &quot;reachfactor&quot;: 0.4275, &quot;station_id&quot;: &quot;12&quot;, &quot;total_pop&quot;: 368.0, &quot;type&quot;: &quot;Polygon&quot;, &quot;value&quot;: 300}, &quot;type&quot;: &quot;Feature&quot;}, {&quot;bbox&quot;: [101.798212, 2.799584, 101.802658, 2.804774], &quot;geometry&quot;: {&quot;coordinates&quot;: [[[101.798212, 2.801483], [101.798215, 2.801462], [101.799817, 2.799775], [101.800122, 2.799584], [101.801077, 2.800661], [101.802658, 2.804473], [101.802526, 2.804605], [101.802161, 2.804774], [101.801996, 2.804748], [101.80189, 2.804691], [101.798386, 2.802722], [101.798223, 2.80255], [101.798212, 2.801483]]], &quot;type&quot;: &quot;Polygon&quot;}, &quot;id&quot;: &quot;31&quot;, &quot;properties&quot;: {&quot;area&quot;: 1.1963156500009123e-05, &quot;center&quot;: &quot;[101.79992256326283, 2.8022209713328348]&quot;, &quot;isochrone_id&quot;: 13300, &quot;reachfactor&quot;: 0.4241, &quot;station_id&quot;: &quot;13&quot;, &quot;total_pop&quot;: 405.0, &quot;type&quot;: &quot;Polygon&quot;, &quot;value&quot;: 300}, &quot;type&quot;: &quot;Feature&quot;}, {&quot;bbox&quot;: [101.823011, 2.751742, 101.83036, 2.754962], &quot;geometry&quot;: {&quot;coordinates&quot;: [[[101.823011, 2.753916], [101.824411, 2.751813], [101.82442, 2.751809], [101.828874, 2.751742], [101.830268, 2.75264], [101.83036, 2.752988], [101.829212, 2.753335], [101.82427, 2.754962], [101.823743, 2.754961], [101.823498, 2.75473], [101.823033, 2.754075], [101.823011, 2.753916]]], &quot;type&quot;: &quot;Polygon&quot;}, &quot;id&quot;: &quot;34&quot;, &quot;properties&quot;: {&quot;area&quot;: 1.482039250000906e-05, &quot;center&quot;: &quot;[101.82658421383195, 2.7538698413573086]&quot;, &quot;isochrone_id&quot;: 14300, &quot;reachfactor&quot;: 0.5256, &quot;station_id&quot;: &quot;14&quot;, &quot;total_pop&quot;: 517.0, &quot;type&quot;: &quot;Polygon&quot;, &quot;value&quot;: 300}, &quot;type&quot;: &quot;Feature&quot;}, {&quot;bbox&quot;: [101.937392, 2.717344, 101.943411, 2.722274], &quot;geometry&quot;: {&quot;coordinates&quot;: [[[101.937392, 2.720636], [101.937548, 2.720406], [101.937717, 2.720211], [101.937985, 2.720051], [101.941035, 2.718395], [101.942606, 2.717537], [101.942781, 2.717468], [101.943206, 2.717344], [101.943411, 2.717639], [101.94239, 2.72016], [101.941807, 2.721204], [101.93977, 2.722274], [101.939424, 2.722176], [101.937436, 2.720795], [101.937392, 2.720636]]], &quot;type&quot;: &quot;Polygon&quot;}, &quot;id&quot;: &quot;37&quot;, &quot;properties&quot;: {&quot;area&quot;: 1.402134299999227e-05, &quot;center&quot;: &quot;[101.94052899886414, 2.718895489957214]&quot;, &quot;isochrone_id&quot;: 16300, &quot;reachfactor&quot;: 0.4972, &quot;station_id&quot;: &quot;16&quot;, &quot;total_pop&quot;: 1389.0, &quot;type&quot;: &quot;Polygon&quot;, &quot;value&quot;: 300}, &quot;type&quot;: &quot;Feature&quot;}, {&quot;bbox&quot;: [101.96991, 2.687265, 101.974015, 2.691287], &quot;geometry&quot;: {&quot;coordinates&quot;: [[[101.970042, 2.689917], [101.970174, 2.689307], [101.970176, 2.689302], [101.970324, 2.688696], [101.970472, 2.68809], [101.971565, 2.687529], [101.972631, 2.687265], [101.972964, 2.687401], [101.973526, 2.687621], [101.97394, 2.687945], [101.974015, 2.688297], [101.973664, 2.68884], [101.972157, 2.690631], [101.971269, 2.691287], [101.97008, 2.690817], [101.96991, 2.690526], [101.970042, 2.689917]]], &quot;type&quot;: &quot;Polygon&quot;}, &quot;id&quot;: &quot;39&quot;, &quot;properties&quot;: {&quot;area&quot;: 1.0239576499990974e-05, &quot;center&quot;: &quot;[101.97184151056248, 2.6904387732523465]&quot;, &quot;isochrone_id&quot;: 17300, &quot;reachfactor&quot;: 0.3631, &quot;station_id&quot;: &quot;17&quot;, &quot;total_pop&quot;: 792.0, &quot;type&quot;: &quot;Polygon&quot;, &quot;value&quot;: 300}, &quot;type&quot;: &quot;Feature&quot;}, {&quot;bbox&quot;: [101.994254, 2.659084, 101.997712, 2.663916], &quot;geometry&quot;: {&quot;coordinates&quot;: [[[101.994933, 2.660444], [101.995703, 2.659692], [101.996501, 2.659084], [101.997712, 2.659638], [101.997596, 2.659978], [101.995316, 2.663916], [101.994956, 2.663901], [101.994394, 2.662912], [101.994288, 2.662679], [101.994254, 2.66258], [101.994933, 2.660444]]], &quot;type&quot;: &quot;Polygon&quot;}, &quot;id&quot;: &quot;42&quot;, &quot;properties&quot;: {&quot;area&quot;: 8.30732400000445e-06, &quot;center&quot;: &quot;[101.99607133897402, 2.660442213374619]&quot;, &quot;isochrone_id&quot;: 18300, &quot;reachfactor&quot;: 0.2947, &quot;station_id&quot;: &quot;18&quot;, &quot;total_pop&quot;: 89.0, &quot;type&quot;: &quot;Polygon&quot;, &quot;value&quot;: 300}, &quot;type&quot;: &quot;Feature&quot;}, {&quot;bbox&quot;: [101.994254, 2.659084, 101.997712, 2.663916], &quot;geometry&quot;: {&quot;coordinates&quot;: [[[101.994933, 2.660444], [101.995703, 2.659692], [101.996501, 2.659084], [101.997712, 2.659638], [101.997596, 2.659978], [101.995316, 2.663916], [101.994956, 2.663901], [101.994394, 2.662912], [101.994288, 2.662679], [101.994254, 2.66258], [101.994933, 2.660444]]], &quot;type&quot;: &quot;Polygon&quot;}, &quot;id&quot;: &quot;45&quot;, &quot;properties&quot;: {&quot;area&quot;: 8.30732400000445e-06, &quot;center&quot;: &quot;[101.99607133897402, 2.660442213374619]&quot;, &quot;isochrone_id&quot;: 19300, &quot;reachfactor&quot;: 0.2947, &quot;station_id&quot;: &quot;19&quot;, &quot;total_pop&quot;: 89.0, &quot;type&quot;: &quot;Polygon&quot;, &quot;value&quot;: 300}, &quot;type&quot;: &quot;Feature&quot;}, {&quot;bbox&quot;: [102.22583, 2.461433, 102.229398, 2.463318], &quot;geometry&quot;: {&quot;coordinates&quot;: [[[102.227119, 2.462352], [102.227273, 2.462277], [102.229228, 2.461433], [102.229398, 2.46175], [102.22893, 2.462002], [102.228462, 2.462254], [102.228231, 2.462351], [102.225876, 2.463318], [102.22583, 2.463256], [102.227119, 2.462352]]], &quot;type&quot;: &quot;Polygon&quot;}, &quot;id&quot;: &quot;48&quot;, &quot;properties&quot;: {&quot;area&quot;: 1.3643299999959988e-06, &quot;center&quot;: &quot;[102.2258577, 2.463407]&quot;, &quot;isochrone_id&quot;: 20300, &quot;reachfactor&quot;: 0.0484, &quot;station_id&quot;: &quot;20&quot;, &quot;total_pop&quot;: 60.0, &quot;type&quot;: &quot;Polygon&quot;, &quot;value&quot;: 300}, &quot;type&quot;: &quot;Feature&quot;}, {&quot;bbox&quot;: [101.78857, 2.979548, 101.792628, 2.987626], &quot;geometry&quot;: {&quot;coordinates&quot;: [[[101.7905179785115, 2.980257089366412], [101.790009, 2.979649], [101.78991, 2.979548], [101.789551, 2.979573], [101.78857, 2.980451], [101.788579, 2.98081], [101.788673, 2.981838], [101.789473, 2.98599], [101.789547, 2.986335], [101.789907, 2.986339], [101.7905476881708, 2.986127049623668], [101.791138, 2.987377], [101.791213, 2.987506], [101.791302, 2.987626], [101.791662, 2.987618], [101.792628, 2.986064], [101.792517, 2.985244], [101.7923468886017, 2.984126063883693], [101.792384, 2.984058], [101.792399, 2.983857], [101.792413, 2.983656], [101.79212, 2.982635], [101.791938, 2.981608], [101.790942, 2.980355], [101.790837, 2.98025], [101.7905179785115, 2.980257089366412]]], &quot;type&quot;: &quot;Polygon&quot;}, &quot;id&quot;: &quot;53&quot;, &quot;properties&quot;: {&quot;area&quot;: 2.1212645620263078e-05, &quot;center&quot;: &quot;[101.79089, 2.9838212]&quot;, &quot;isochrone_id&quot;: 9300, &quot;reachfactor&quot;: 0.5703499999999999, &quot;station_id&quot;: &quot;9&quot;, &quot;total_pop&quot;: 1331.5, &quot;type&quot;: &quot;Polygon&quot;, &quot;value&quot;: 300}, &quot;type&quot;: &quot;Feature&quot;}, {&quot;bbox&quot;: [101.686212, 3.17834, 101.691722, 3.18621], &quot;geometry&quot;: {&quot;coordinates&quot;: [[[101.687057, 3.178494], [101.687382, 3.17834], [101.690615, 3.180927], [101.690921, 3.181312], [101.690997, 3.181408], [101.691722, 3.18285], [101.691667, 3.183206], [101.691579, 3.183357], [101.69085, 3.1846], [101.689032, 3.186169], [101.688674, 3.18621], [101.686912, 3.183818], [101.686364, 3.183096], [101.686212, 3.18277], [101.687057, 3.178494]]], &quot;type&quot;: &quot;Polygon&quot;}, &quot;id&quot;: &quot;60&quot;, &quot;properties&quot;: {&quot;area&quot;: 2.571129799998182e-05, &quot;center&quot;: &quot;[101.6888573, 3.1823043]&quot;, &quot;isochrone_id&quot;: 21300, &quot;reachfactor&quot;: 0.9114, &quot;station_id&quot;: &quot;21&quot;, &quot;total_pop&quot;: 1367.0, &quot;type&quot;: &quot;Polygon&quot;, &quot;value&quot;: 300}, &quot;type&quot;: &quot;Feature&quot;}, {&quot;bbox&quot;: [101.678489, 3.195872, 101.682173, 3.199495], &quot;geometry&quot;: {&quot;coordinates&quot;: [[[101.67862, 3.198935], [101.678489, 3.198471], [101.679311, 3.196024], [101.679485, 3.195872], [101.679561, 3.195875], [101.679844, 3.195896], [101.680292, 3.195931], [101.680664, 3.195975], [101.682173, 3.196553], [101.682049, 3.19704], [101.681797, 3.19743], [101.681167, 3.19814], [101.680437, 3.198865], [101.679392, 3.199375], [101.679106, 3.199475], [101.679025, 3.199495], [101.678721, 3.199302], [101.67862, 3.198935]]], &quot;type&quot;: &quot;Polygon&quot;}, &quot;id&quot;: &quot;63&quot;, &quot;properties&quot;: {&quot;area&quot;: 8.269282000015182e-06, &quot;center&quot;: &quot;[101.6811889, 3.1981577]&quot;, &quot;isochrone_id&quot;: 22300, &quot;reachfactor&quot;: 0.2931, &quot;station_id&quot;: &quot;22&quot;, &quot;total_pop&quot;: 1478.0, &quot;type&quot;: &quot;Polygon&quot;, &quot;value&quot;: 300}, &quot;type&quot;: &quot;Feature&quot;}, {&quot;bbox&quot;: [101.673262, 3.202013, 101.677384, 3.207682], &quot;geometry&quot;: {&quot;coordinates&quot;: [[[101.673262, 3.204956], [101.673788, 3.203041], [101.674032, 3.202681], [101.674271, 3.202528], [101.674844, 3.202276], [101.675648, 3.202076], [101.675933, 3.202013], [101.676077, 3.202107], [101.676215, 3.202248], [101.677351, 3.203811], [101.677384, 3.204682], [101.676901, 3.205915], [101.67665, 3.206173], [101.675344, 3.207519], [101.675192, 3.207682], [101.674995, 3.207617], [101.674863, 3.207564], [101.673852, 3.206898], [101.673575, 3.206667], [101.67354, 3.206571], [101.673262, 3.204956]]], &quot;type&quot;: &quot;Polygon&quot;}, &quot;id&quot;: &quot;66&quot;, &quot;properties&quot;: {&quot;area&quot;: 1.6393396000008386e-05, &quot;center&quot;: &quot;[101.6756362078567, 3.204807719599387]&quot;, &quot;isochrone_id&quot;: 23300, &quot;reachfactor&quot;: 0.581, &quot;station_id&quot;: &quot;23&quot;, &quot;total_pop&quot;: 3398.0, &quot;type&quot;: &quot;Polygon&quot;, &quot;value&quot;: 300}, &quot;type&quot;: &quot;Feature&quot;}, {&quot;bbox&quot;: [101.669305, 3.210843, 101.675278, 3.217948], &quot;geometry&quot;: {&quot;coordinates&quot;: [[[101.669305, 3.21528], [101.669424, 3.213896], [101.669518, 3.213632], [101.670229, 3.212832], [101.671255, 3.211792], [101.672271, 3.21086], [101.672631, 3.210843], [101.672712, 3.21089], [101.674393, 3.212538], [101.675278, 3.213615], [101.675274, 3.213975], [101.673447, 3.216929], [101.672943, 3.217797], [101.671968, 3.217948], [101.671873, 3.217918], [101.671631, 3.217819], [101.669344, 3.215638], [101.669305, 3.21528]]], &quot;type&quot;: &quot;Polygon&quot;}, &quot;id&quot;: &quot;69&quot;, &quot;properties&quot;: {&quot;area&quot;: 2.672368499999436e-05, &quot;center&quot;: &quot;[101.67217514370128, 3.2144348288832902]&quot;, &quot;isochrone_id&quot;: 24300, &quot;reachfactor&quot;: 0.9472, &quot;station_id&quot;: &quot;24&quot;, &quot;total_pop&quot;: 2214.0, &quot;type&quot;: &quot;Polygon&quot;, &quot;value&quot;: 300}, &quot;type&quot;: &quot;Feature&quot;}, {&quot;bbox&quot;: [101.679201, 3.235145, 101.684001, 3.240832], &quot;geometry&quot;: {&quot;coordinates&quot;: [[[101.679201, 3.236123], [101.67927, 3.23577], [101.680094, 3.235145], [101.681321, 3.235413], [101.681612, 3.235484], [101.682083, 3.235709], [101.684001, 3.236607], [101.683953, 3.237281], [101.681469, 3.240817], [101.681109, 3.240832], [101.680565, 3.240397], [101.680246, 3.239924], [101.679201, 3.236123]]], &quot;type&quot;: &quot;Polygon&quot;}, &quot;id&quot;: &quot;72&quot;, &quot;properties&quot;: {&quot;area&quot;: 1.669076250000778e-05, &quot;center&quot;: &quot;[101.68123684133255, 3.237889337975346]&quot;, &quot;isochrone_id&quot;: 25300, &quot;reachfactor&quot;: 0.5916, &quot;station_id&quot;: &quot;25&quot;, &quot;total_pop&quot;: 1072.0, &quot;type&quot;: &quot;Polygon&quot;, &quot;value&quot;: 300}, &quot;type&quot;: &quot;Feature&quot;}, {&quot;bbox&quot;: [101.683995, 3.131648, 101.689254, 3.137452], &quot;geometry&quot;: {&quot;coordinates&quot;: [[[101.68414, 3.134146], [101.683995, 3.133657], [101.68409, 3.133054], [101.684363, 3.13282], [101.686589, 3.131685], [101.686784, 3.131671], [101.68776, 3.131648], [101.688355, 3.131885], [101.688619, 3.13213], [101.689117, 3.1336], [101.689254, 3.135946], [101.689079, 3.13626], [101.68818, 3.13669], [101.68543, 3.137452], [101.685109, 3.137289], [101.68414, 3.134146]]], &quot;type&quot;: &quot;Polygon&quot;}, &quot;id&quot;: &quot;75&quot;, &quot;properties&quot;: {&quot;area&quot;: 2.3062966500012313e-05, &quot;center&quot;: &quot;[101.68630396418591, 3.134461275989355]&quot;, &quot;isochrone_id&quot;: 26300, &quot;reachfactor&quot;: 0.8175, &quot;station_id&quot;: &quot;26&quot;, &quot;total_pop&quot;: 2795.0, &quot;type&quot;: &quot;Polygon&quot;, &quot;value&quot;: 300}, &quot;type&quot;: &quot;Feature&quot;}, {&quot;bbox&quot;: [101.666708, 3.06038, 101.672248, 3.063919], &quot;geometry&quot;: {&quot;coordinates&quot;: [[[101.666708, 3.06166], [101.667231, 3.06066], [101.667457, 3.06038], [101.669838, 3.060599], [101.672099, 3.061405], [101.672248, 3.061599], [101.672176, 3.061952], [101.671975, 3.062396], [101.669513, 3.063771], [101.669185, 3.063919], [101.668941, 3.063808], [101.668578, 3.063607], [101.666856, 3.062148], [101.666713, 3.06202], [101.666708, 3.06166]]], &quot;type&quot;: &quot;Polygon&quot;}, &quot;id&quot;: &quot;77&quot;, &quot;properties&quot;: {&quot;area&quot;: 1.2589311000001672e-05, &quot;center&quot;: &quot;[101.67065267882002, 3.061897095030726]&quot;, &quot;isochrone_id&quot;: 88300, &quot;reachfactor&quot;: 0.4463, &quot;station_id&quot;: &quot;88&quot;, &quot;total_pop&quot;: 1249.0, &quot;type&quot;: &quot;Polygon&quot;, &quot;value&quot;: 300}, &quot;type&quot;: &quot;Feature&quot;}, {&quot;bbox&quot;: [101.690971, 3.136295, 101.695419, 3.143131], &quot;geometry&quot;: {&quot;coordinates&quot;: [[[101.691039, 3.137622], [101.691636, 3.136581], [101.694147, 3.136332], [101.694505, 3.136295], [101.69538, 3.137267], [101.695419, 3.137616], [101.695299, 3.138986], [101.694908, 3.142329], [101.694725, 3.14313], [101.694334, 3.143131], [101.694204, 3.143107], [101.691473, 3.138418], [101.690971, 3.137975], [101.691039, 3.137622]]], &quot;type&quot;: &quot;Polygon&quot;}, &quot;id&quot;: &quot;79&quot;, &quot;properties&quot;: {&quot;area&quot;: 1.8373235500006898e-05, &quot;center&quot;: &quot;[101.69396703590424, 3.1394813968241753]&quot;, &quot;isochrone_id&quot;: 27300, &quot;reachfactor&quot;: 0.6512, &quot;station_id&quot;: &quot;27&quot;, &quot;total_pop&quot;: 1318.0, &quot;type&quot;: &quot;Polygon&quot;, &quot;value&quot;: 300}, &quot;type&quot;: &quot;Feature&quot;}, {&quot;bbox&quot;: [101.690128, 3.151272, 101.695721, 3.158234], &quot;geometry&quot;: {&quot;coordinates&quot;: [[[101.691541, 3.151709], [101.691766, 3.151428], [101.692285, 3.151272], [101.692459, 3.151292], [101.694767, 3.153191], [101.694883, 3.153329], [101.695361, 3.15414], [101.695721, 3.155534], [101.695653, 3.155888], [101.695566, 3.156018], [101.69472, 3.156917], [101.692893, 3.158103], [101.692803, 3.158158], [101.692674, 3.158217], [101.692592, 3.158234], [101.690128, 3.154342], [101.691541, 3.151709]]], &quot;type&quot;: &quot;Polygon&quot;}, &quot;id&quot;: &quot;82&quot;, &quot;properties&quot;: {&quot;area&quot;: 2.34249744999971e-05, &quot;center&quot;: &quot;[101.6929348, 3.1546009]&quot;, &quot;isochrone_id&quot;: 28300, &quot;reachfactor&quot;: 0.8303, &quot;station_id&quot;: &quot;28&quot;, &quot;total_pop&quot;: 3527.0, &quot;type&quot;: &quot;Polygon&quot;, &quot;value&quot;: 300}, &quot;type&quot;: &quot;Feature&quot;}, {&quot;bbox&quot;: [101.688218, 3.161883, 101.693187, 3.167842], &quot;geometry&quot;: {&quot;coordinates&quot;: [[[101.688637, 3.163439], [101.688728, 3.163357], [101.690599, 3.161883], [101.690946, 3.16198], [101.692634, 3.16331], [101.693177, 3.164588], [101.693187, 3.164842], [101.692926, 3.166125], [101.692177, 3.166912], [101.691021, 3.167842], [101.690676, 3.167739], [101.689168, 3.165926], [101.688218, 3.164437], [101.688637, 3.163439]]], &quot;type&quot;: &quot;Polygon&quot;}, &quot;id&quot;: &quot;85&quot;, &quot;properties&quot;: {&quot;area&quot;: 1.856721200000047e-05, &quot;center&quot;: &quot;[101.69119879753202, 3.1649780654673743]&quot;, &quot;isochrone_id&quot;: 29300, &quot;reachfactor&quot;: 0.6582, &quot;station_id&quot;: &quot;29&quot;, &quot;total_pop&quot;: 1406.0, &quot;type&quot;: &quot;Polygon&quot;, &quot;value&quot;: 300}, &quot;type&quot;: &quot;Feature&quot;}, {&quot;bbox&quot;: [101.660628, 3.185297, 101.666244, 3.189063], &quot;geometry&quot;: {&quot;coordinates&quot;: [[[101.660716, 3.186119], [101.660978, 3.185872], [101.664982, 3.185297], [101.666244, 3.187009], [101.66616, 3.187359], [101.666144, 3.187387], [101.663763, 3.18905], [101.663665, 3.189063], [101.663345, 3.188899], [101.660628, 3.186727], [101.660716, 3.186119]]], &quot;type&quot;: &quot;Polygon&quot;}, &quot;id&quot;: &quot;88&quot;, &quot;properties&quot;: {&quot;area&quot;: 1.3017581500001521e-05, &quot;center&quot;: &quot;[101.66411760145601, 3.186299331178106]&quot;, &quot;isochrone_id&quot;: 30300, &quot;reachfactor&quot;: 0.4614, &quot;station_id&quot;: &quot;30&quot;, &quot;total_pop&quot;: 690.0, &quot;type&quot;: &quot;Polygon&quot;, &quot;value&quot;: 300}, &quot;type&quot;: &quot;Feature&quot;}, {&quot;bbox&quot;: [101.635572, 3.200749, 101.640533, 3.205762], &quot;geometry&quot;: {&quot;coordinates&quot;: [[[101.637707, 3.202515], [101.638968, 3.201128], [101.639152, 3.200939], [101.639335, 3.200749], [101.63978, 3.200925], [101.639813, 3.20096], [101.640366, 3.202094], [101.640533, 3.202619], [101.640102, 3.203065], [101.636841, 3.205638], [101.635829, 3.205762], [101.635572, 3.20551], [101.637707, 3.202515]]], &quot;type&quot;: &quot;Polygon&quot;}, &quot;id&quot;: &quot;91&quot;, &quot;properties&quot;: {&quot;area&quot;: 9.78224649999787e-06, &quot;center&quot;: &quot;[101.63752424938214, 3.202931066341391]&quot;, &quot;isochrone_id&quot;: 31300, &quot;reachfactor&quot;: 0.3467, &quot;station_id&quot;: &quot;31&quot;, &quot;total_pop&quot;: 994.0, &quot;type&quot;: &quot;Polygon&quot;, &quot;value&quot;: 300}, &quot;type&quot;: &quot;Feature&quot;}, {&quot;bbox&quot;: [101.62554, 3.205736, 101.63197, 3.211815], &quot;geometry&quot;: {&quot;coordinates&quot;: [[[101.62636, 3.207133], [101.627505, 3.206081], [101.627837, 3.205942], [101.628751, 3.205736], [101.631811, 3.207884], [101.63197, 3.208208], [101.631626, 3.209326], [101.630212, 3.211688], [101.629874, 3.211815], [101.62913, 3.211742], [101.625573, 3.208344], [101.62554, 3.208308], [101.62636, 3.207133]]], &quot;type&quot;: &quot;Polygon&quot;}, &quot;id&quot;: &quot;95&quot;, &quot;properties&quot;: {&quot;area&quot;: 2.3259262999968448e-05, &quot;center&quot;: &quot;[101.62852315915332, 3.208784993357646]&quot;, &quot;isochrone_id&quot;: 32300, &quot;reachfactor&quot;: 0.8244, &quot;station_id&quot;: &quot;32&quot;, &quot;total_pop&quot;: 2061.0, &quot;type&quot;: &quot;Polygon&quot;, &quot;value&quot;: 300}, &quot;type&quot;: &quot;Feature&quot;}, {&quot;bbox&quot;: [101.576852, 3.205158, 101.583039, 3.208151], &quot;geometry&quot;: {&quot;coordinates&quot;: [[[101.577101, 3.207205], [101.577351, 3.207029], [101.58054, 3.205261], [101.580666, 3.205233], [101.58286, 3.205158], [101.583039, 3.20547], [101.582385, 3.206106], [101.581429, 3.206624], [101.578963, 3.208131], [101.578817, 3.208151], [101.577058, 3.207675], [101.576852, 3.20738], [101.577101, 3.207205]]], &quot;type&quot;: &quot;Polygon&quot;}, &quot;id&quot;: &quot;98&quot;, &quot;properties&quot;: {&quot;area&quot;: 8.51868250001132e-06, &quot;center&quot;: &quot;[101.58080444844524, 3.2062806995214523]&quot;, &quot;isochrone_id&quot;: 33300, &quot;reachfactor&quot;: 0.3019, &quot;station_id&quot;: &quot;33&quot;, &quot;total_pop&quot;: 392.0, &quot;type&quot;: &quot;Polygon&quot;, &quot;value&quot;: 300}, &quot;type&quot;: &quot;Feature&quot;}, {&quot;bbox&quot;: [101.551983, 3.254579, 101.555778, 3.262036], &quot;geometry&quot;: {&quot;coordinates&quot;: [[[101.551983, 3.258823], [101.551984, 3.258529], [101.552015, 3.258424], [101.553759, 3.254879], [101.553778, 3.254858], [101.554055, 3.254586], [101.554415, 3.254579], [101.555693, 3.260439], [101.555763, 3.260649], [101.555778, 3.260824], [101.555763, 3.26105], [101.555743, 3.261309], [101.555642, 3.261663], [101.555517, 3.26185], [101.555392, 3.262036], [101.555093, 3.261837], [101.551986, 3.258864], [101.551983, 3.258823]]], &quot;type&quot;: &quot;Polygon&quot;}, &quot;id&quot;: &quot;101&quot;, &quot;properties&quot;: {&quot;area&quot;: 1.484722750004118e-05, &quot;center&quot;: &quot;[101.55455675198353, 3.258307764863513]&quot;, &quot;isochrone_id&quot;: 34300, &quot;reachfactor&quot;: 0.5262, &quot;station_id&quot;: &quot;34&quot;, &quot;total_pop&quot;: 324.0, &quot;type&quot;: &quot;Polygon&quot;, &quot;value&quot;: 300}, &quot;type&quot;: &quot;Feature&quot;}, {&quot;bbox&quot;: [101.573907, 3.317085, 101.577408, 3.322474], &quot;geometry&quot;: {&quot;coordinates&quot;: [[[101.57467, 3.319443], [101.574961, 3.318276], [101.575289, 3.317421], [101.575582, 3.317212], [101.576095, 3.317085], [101.576403, 3.317271], [101.577408, 3.3203], [101.577362, 3.320434], [101.577234, 3.320776], [101.57624, 3.321544], [101.574249, 3.322474], [101.573907, 3.322364], [101.57467, 3.319443]]], &quot;type&quot;: &quot;Polygon&quot;}, &quot;id&quot;: &quot;104&quot;, &quot;properties&quot;: {&quot;area&quot;: 1.0761619500000768e-05, &quot;center&quot;: &quot;[101.57497918824737, 3.3188748847075935]&quot;, &quot;isochrone_id&quot;: 35300, &quot;reachfactor&quot;: 0.3815, &quot;station_id&quot;: &quot;35&quot;, &quot;total_pop&quot;: 500.0, &quot;type&quot;: &quot;Polygon&quot;, &quot;value&quot;: 300}, &quot;type&quot;: &quot;Feature&quot;}, {&quot;bbox&quot;: [101.61341, 3.374449, 101.617627, 3.378869], &quot;geometry&quot;: {&quot;coordinates&quot;: [[[101.617316, 3.377289], [101.617522, 3.377483], [101.617627, 3.378567], [101.617431, 3.378869], [101.617246, 3.378748], [101.61706, 3.378628], [101.61692, 3.378513], [101.616865, 3.378447], [101.613753, 3.374878], [101.613533, 3.374657], [101.61341, 3.374449], [101.617316, 3.377289]]], &quot;type&quot;: &quot;Polygon&quot;}, &quot;id&quot;: &quot;107&quot;, &quot;properties&quot;: {&quot;area&quot;: 3.6746524999888766e-06, &quot;center&quot;: &quot;[101.61469462404041, 3.3758218240859215]&quot;, &quot;isochrone_id&quot;: 36300, &quot;reachfactor&quot;: 0.1302, &quot;station_id&quot;: &quot;36&quot;, &quot;total_pop&quot;: 25.0, &quot;type&quot;: &quot;Polygon&quot;, &quot;value&quot;: 300}, &quot;type&quot;: &quot;Feature&quot;}, {&quot;bbox&quot;: [101.634093, 3.464388, 101.639373, 3.470796], &quot;geometry&quot;: {&quot;coordinates&quot;: [[[101.634753, 3.46692], [101.637035, 3.464388], [101.637395, 3.464406], [101.639325, 3.468625], [101.639373, 3.46891], [101.639265, 3.469352], [101.636417, 3.470471], [101.635987, 3.470634], [101.635557, 3.470796], [101.634093, 3.468556], [101.634753, 3.46692]]], &quot;type&quot;: &quot;Polygon&quot;}, &quot;id&quot;: &quot;109&quot;, &quot;properties&quot;: {&quot;area&quot;: 1.9936605999993252e-05, &quot;center&quot;: &quot;[101.6375061770401, 3.4684209132430617]&quot;, &quot;isochrone_id&quot;: 37300, &quot;reachfactor&quot;: 0.7065, &quot;station_id&quot;: &quot;37&quot;, &quot;total_pop&quot;: 302.0, &quot;type&quot;: &quot;Polygon&quot;, &quot;value&quot;: 300}, &quot;type&quot;: &quot;Feature&quot;}, {&quot;bbox&quot;: [101.632246, 3.497656, 101.637553, 3.503016], &quot;geometry&quot;: {&quot;coordinates&quot;: [[[101.632272, 3.500399], [101.632376, 3.499802], [101.63354, 3.497858], [101.633809, 3.497656], [101.634165, 3.497708], [101.636798, 3.498918], [101.637553, 3.499972], [101.63744, 3.500314], [101.633877, 3.503016], [101.63359, 3.502977], [101.632246, 3.500758], [101.632272, 3.500399]]], &quot;type&quot;: &quot;Polygon&quot;}, &quot;id&quot;: &quot;112&quot;, &quot;properties&quot;: {&quot;area&quot;: 1.6944327500009068e-05, &quot;center&quot;: &quot;[101.63443311281418, 3.500346834920422]&quot;, &quot;isochrone_id&quot;: 38300, &quot;reachfactor&quot;: 0.6004, &quot;station_id&quot;: &quot;38&quot;, &quot;total_pop&quot;: 395.0, &quot;type&quot;: &quot;Polygon&quot;, &quot;value&quot;: 300}, &quot;type&quot;: &quot;Feature&quot;}, {&quot;bbox&quot;: [101.639486, 3.551452, 101.641596, 3.556217], &quot;geometry&quot;: {&quot;coordinates&quot;: [[[101.639495, 3.554713], [101.639486, 3.554448], [101.639581, 3.553833], [101.639917, 3.551452], [101.64001, 3.551585], [101.641596, 3.555902], [101.641422, 3.556217], [101.640453, 3.555736], [101.639692, 3.555031], [101.639605, 3.554948], [101.639534, 3.554831], [101.639495, 3.554713]]], &quot;type&quot;: &quot;Polygon&quot;}, &quot;id&quot;: &quot;115&quot;, &quot;properties&quot;: {&quot;area&quot;: 4.5913595000204514e-06, &quot;center&quot;: &quot;[101.6397037, 3.5534897]&quot;, &quot;isochrone_id&quot;: 39300, &quot;reachfactor&quot;: 0.1627, &quot;station_id&quot;: &quot;39&quot;, &quot;total_pop&quot;: 52.0, &quot;type&quot;: &quot;Polygon&quot;, &quot;value&quot;: 300}, &quot;type&quot;: &quot;Feature&quot;}, {&quot;bbox&quot;: [101.515144, 3.681876, 101.521112, 3.6872], &quot;geometry&quot;: {&quot;coordinates&quot;: [[[101.515185, 3.686389], [101.515785, 3.685456], [101.516036, 3.685183], [101.52085, 3.681876], [101.521112, 3.682122], [101.521097, 3.682138], [101.52097, 3.682274], [101.520962, 3.682282], [101.520827, 3.682425], [101.520809, 3.682442], [101.519414, 3.683715], [101.516711, 3.686908], [101.516557, 3.687069], [101.516434, 3.687152], [101.516293, 3.687177], [101.515425, 3.6872], [101.515144, 3.686974], [101.515185, 3.686389]]], &quot;type&quot;: &quot;Polygon&quot;}, &quot;id&quot;: &quot;118&quot;, &quot;properties&quot;: {&quot;area&quot;: 7.858046500003761e-06, &quot;center&quot;: &quot;[101.51801527570316, 3.6845635778561596]&quot;, &quot;isochrone_id&quot;: 40300, &quot;reachfactor&quot;: 0.2784, &quot;station_id&quot;: &quot;40&quot;, &quot;total_pop&quot;: 410.0, &quot;type&quot;: &quot;Polygon&quot;, &quot;value&quot;: 300}, &quot;type&quot;: &quot;Feature&quot;}, {&quot;bbox&quot;: [101.670394, 3.115564, 101.675442, 3.122059], &quot;geometry&quot;: {&quot;coordinates&quot;: [[[101.670428, 3.116738], [101.672495, 3.115564], [101.672852, 3.115607], [101.675255, 3.118165], [101.675442, 3.121813], [101.67518, 3.122059], [101.67497, 3.121913], [101.671161, 3.119207], [101.670394, 3.117096], [101.670428, 3.116738]]], &quot;type&quot;: &quot;Polygon&quot;}, &quot;id&quot;: &quot;121&quot;, &quot;properties&quot;: {&quot;area&quot;: 1.876121300003846e-05, &quot;center&quot;: &quot;[101.67279765153405, 3.1187694025946326]&quot;, &quot;isochrone_id&quot;: 41300, &quot;reachfactor&quot;: 0.6651, &quot;station_id&quot;: &quot;41&quot;, &quot;total_pop&quot;: 1015.0, &quot;type&quot;: &quot;Polygon&quot;, &quot;value&quot;: 300}, &quot;type&quot;: &quot;Feature&quot;}, {&quot;bbox&quot;: [101.673079, 3.109759, 101.674839, 3.114292], &quot;geometry&quot;: {&quot;coordinates&quot;: [[[101.673082, 3.113851], [101.673089, 3.113808], [101.673173, 3.113517], [101.673179, 3.113501], [101.673271, 3.113263], [101.673364, 3.113025], [101.674483, 3.109759], [101.674839, 3.109813], [101.674804, 3.110046], [101.674769, 3.110279], [101.674157, 3.113747], [101.673783, 3.114292], [101.673522, 3.114224], [101.673261, 3.114155], [101.673169, 3.114098], [101.673122, 3.114042], [101.673079, 3.113918], [101.673082, 3.113851]]], &quot;type&quot;: &quot;Polygon&quot;}, &quot;id&quot;: &quot;124&quot;, &quot;properties&quot;: {&quot;area&quot;: 3.2331704999769793e-06, &quot;center&quot;: &quot;[101.6733509574372, 3.113554872785846]&quot;, &quot;isochrone_id&quot;: 42300, &quot;reachfactor&quot;: 0.1145, &quot;station_id&quot;: &quot;42&quot;, &quot;total_pop&quot;: 90.0, &quot;type&quot;: &quot;Polygon&quot;, &quot;value&quot;: 300}, &quot;type&quot;: &quot;Feature&quot;}, {&quot;bbox&quot;: [101.667486, 3.092257, 101.671941, 3.100497], &quot;geometry&quot;: {&quot;coordinates&quot;: [[[101.667985, 3.093844], [101.669015, 3.092286], [101.669374, 3.092257], [101.671941, 3.093949], [101.67194, 3.094163], [101.671831, 3.098002], [101.671742, 3.100397], [101.671397, 3.100497], [101.668651, 3.096158], [101.667737, 3.095386], [101.667629, 3.095281], [101.667486, 3.094951], [101.667985, 3.093844]]], &quot;type&quot;: &quot;Polygon&quot;}, &quot;id&quot;: &quot;127&quot;, &quot;properties&quot;: {&quot;area&quot;: 2.0408376000012655e-05, &quot;center&quot;: &quot;[101.67000479458999, 3.0955662168057447]&quot;, &quot;isochrone_id&quot;: 43300, &quot;reachfactor&quot;: 0.7234, &quot;station_id&quot;: &quot;43&quot;, &quot;total_pop&quot;: 1592.0, &quot;type&quot;: &quot;Polygon&quot;, &quot;value&quot;: 300}, &quot;type&quot;: &quot;Feature&quot;}, {&quot;bbox&quot;: [101.661022, 3.083334, 101.666938, 3.088629], &quot;geometry&quot;: {&quot;coordinates&quot;: [[[101.661218, 3.086007], [101.662734, 3.083943], [101.662867, 3.083803], [101.663076, 3.083683], [101.66308, 3.083681], [101.663894, 3.083334], [101.664209, 3.083509], [101.666802, 3.085709], [101.666938, 3.085922], [101.666777, 3.086244], [101.665588, 3.088021], [101.662578, 3.088629], [101.662327, 3.088372], [101.661176, 3.086683], [101.661022, 3.086309], [101.661218, 3.086007]]], &quot;type&quot;: &quot;Polygon&quot;}, &quot;id&quot;: &quot;130&quot;, &quot;properties&quot;: {&quot;area&quot;: 1.9580202999990846e-05, &quot;center&quot;: &quot;[101.6639791, 3.0862086]&quot;, &quot;isochrone_id&quot;: 44300, &quot;reachfactor&quot;: 0.6941, &quot;station_id&quot;: &quot;44&quot;, &quot;total_pop&quot;: 2453.0, &quot;type&quot;: &quot;Polygon&quot;, &quot;value&quot;: 300}, &quot;type&quot;: &quot;Feature&quot;}, {&quot;bbox&quot;: [101.652418, 3.081678, 101.657894, 3.084639], &quot;geometry&quot;: {&quot;coordinates&quot;: [[[101.652502, 3.082524], [101.656954, 3.081678], [101.657148, 3.081744], [101.657357, 3.082095], [101.657894, 3.083968], [101.657776, 3.084307], [101.65415, 3.084639], [101.653841, 3.084454], [101.652418, 3.082874], [101.652502, 3.082524]]], &quot;type&quot;: &quot;Polygon&quot;}, &quot;id&quot;: &quot;133&quot;, &quot;properties&quot;: {&quot;area&quot;: 1.1384670500009106e-05, &quot;center&quot;: &quot;[101.65658161542454, 3.083699430078563]&quot;, &quot;isochrone_id&quot;: 45300, &quot;reachfactor&quot;: 0.4036, &quot;station_id&quot;: &quot;45&quot;, &quot;total_pop&quot;: 1088.0, &quot;type&quot;: &quot;Polygon&quot;, &quot;value&quot;: 300}, &quot;type&quot;: &quot;Feature&quot;}, {&quot;bbox&quot;: [101.629932, 3.082253, 101.635567, 3.087457], &quot;geometry&quot;: {&quot;coordinates&quot;: [[[101.62995, 3.085422], [101.632827, 3.082521], [101.633222, 3.082253], [101.633677, 3.082282], [101.634482, 3.082589], [101.634928, 3.082913], [101.63508, 3.083025], [101.635513, 3.083355], [101.635567, 3.083711], [101.631008, 3.087224], [101.630854, 3.087363], [101.630733, 3.087457], [101.630598, 3.087353], [101.629932, 3.085781], [101.62995, 3.085422]]], &quot;type&quot;: &quot;Polygon&quot;}, &quot;id&quot;: &quot;136&quot;, &quot;properties&quot;: {&quot;area&quot;: 1.360716499998218e-05, &quot;center&quot;: &quot;[101.632264, 3.0844076]&quot;, &quot;isochrone_id&quot;: 46300, &quot;reachfactor&quot;: 0.4824, &quot;station_id&quot;: &quot;46&quot;, &quot;total_pop&quot;: 2771.0, &quot;type&quot;: &quot;Polygon&quot;, &quot;value&quot;: 300}, &quot;type&quot;: &quot;Feature&quot;}, {&quot;bbox&quot;: [101.618964, 3.083087, 101.625922, 3.08614], &quot;geometry&quot;: {&quot;coordinates&quot;: [[[101.61901, 3.084142], [101.622686, 3.083087], [101.623045, 3.083104], [101.624589, 3.083273], [101.624884, 3.083512], [101.625787, 3.084265], [101.625922, 3.084598], [101.625656, 3.084795], [101.62548, 3.084845], [101.62082, 3.086136], [101.62046, 3.08614], [101.620127, 3.085812], [101.618964, 3.084499], [101.61901, 3.084142]]], &quot;type&quot;: &quot;Polygon&quot;}, &quot;id&quot;: &quot;139&quot;, &quot;properties&quot;: {&quot;area&quot;: 1.324852449999218e-05, &quot;center&quot;: &quot;[101.62192425152345, 3.084337979516632]&quot;, &quot;isochrone_id&quot;: 47300, &quot;reachfactor&quot;: 0.4696, &quot;station_id&quot;: &quot;47&quot;, &quot;total_pop&quot;: 2121.0, &quot;type&quot;: &quot;Polygon&quot;, &quot;value&quot;: 300}, &quot;type&quot;: &quot;Feature&quot;}, {&quot;bbox&quot;: [101.609256, 3.080227, 101.615288, 3.084274], &quot;geometry&quot;: {&quot;coordinates&quot;: [[[101.609293, 3.082968], [101.611064, 3.080727], [101.611352, 3.080388], [101.61143, 3.080327], [101.611618, 3.080227], [101.612912, 3.080671], [101.61301, 3.080778], [101.615288, 3.083642], [101.615241, 3.083999], [101.613203, 3.084274], [101.612992, 3.084241], [101.612781, 3.084207], [101.609256, 3.083326], [101.609293, 3.082968]]], &quot;type&quot;: &quot;Polygon&quot;}, &quot;id&quot;: &quot;142&quot;, &quot;properties&quot;: {&quot;area&quot;: 1.4360990000023088e-05, &quot;center&quot;: &quot;[101.61145269954186, 3.0831135375502265]&quot;, &quot;isochrone_id&quot;: 48300, &quot;reachfactor&quot;: 0.5091, &quot;station_id&quot;: &quot;48&quot;, &quot;total_pop&quot;: 1750.0, &quot;type&quot;: &quot;Polygon&quot;, &quot;value&quot;: 300}, &quot;type&quot;: &quot;Feature&quot;}, {&quot;bbox&quot;: [101.585967, 3.082707, 101.589957, 3.08653], &quot;geometry&quot;: {&quot;coordinates&quot;: [[[101.585967, 3.084531], [101.586064, 3.084184], [101.587281, 3.082788], [101.587632, 3.082707], [101.588696, 3.082914], [101.589957, 3.084053], [101.589933, 3.084412], [101.588696, 3.086385], [101.58866, 3.08641], [101.587084, 3.086529], [101.587047, 3.08653], [101.586182, 3.085901], [101.585967, 3.084531]]], &quot;type&quot;: &quot;Polygon&quot;}, &quot;id&quot;: &quot;145&quot;, &quot;properties&quot;: {&quot;area&quot;: 1.0932628000011676e-05, &quot;center&quot;: &quot;[101.58812449137929, 3.0846280727435196]&quot;, &quot;isochrone_id&quot;: 49300, &quot;reachfactor&quot;: 0.3875, &quot;station_id&quot;: &quot;49&quot;, &quot;total_pop&quot;: 677.0, &quot;type&quot;: &quot;Polygon&quot;, &quot;value&quot;: 300}, &quot;type&quot;: &quot;Feature&quot;}, {&quot;bbox&quot;: [101.55678, 3.074693, 101.559933, 3.075881], &quot;geometry&quot;: {&quot;coordinates&quot;: [[[101.556792, 3.074955], [101.557424, 3.074693], [101.558121, 3.074777], [101.559647, 3.075439], [101.559933, 3.075562], [101.559766, 3.075881], [101.559511, 3.075832], [101.557128, 3.075094], [101.55678, 3.075003], [101.556792, 3.074955]]], &quot;type&quot;: &quot;Polygon&quot;}, &quot;id&quot;: &quot;148&quot;, &quot;properties&quot;: {&quot;area&quot;: 1.44734299999631e-06, &quot;center&quot;: &quot;[101.5598496, 3.0757214]&quot;, &quot;isochrone_id&quot;: 50300, &quot;reachfactor&quot;: 0.0513, &quot;station_id&quot;: &quot;50&quot;, &quot;total_pop&quot;: 76.0, &quot;type&quot;: &quot;Polygon&quot;, &quot;value&quot;: 300}, &quot;type&quot;: &quot;Feature&quot;}, {&quot;bbox&quot;: [101.521826, 3.053152, 101.528508, 3.057321], &quot;geometry&quot;: {&quot;coordinates&quot;: [[[101.521826, 3.05495], [101.521827, 3.054831], [101.521874, 3.054605], [101.522989, 3.054148], [101.525762, 3.053238], [101.526259, 3.053152], [101.527106, 3.053392], [101.528472, 3.056819], [101.528508, 3.05717], [101.528487, 3.057248], [101.528469, 3.057311], [101.528449, 3.057321], [101.52761, 3.057058], [101.526771, 3.056791], [101.524539, 3.056077], [101.523699, 3.055831], [101.522679, 3.055518], [101.522409, 3.05544], [101.522092, 3.05534], [101.521959, 3.055238], [101.521879, 3.055114], [101.521826, 3.05495]]], &quot;type&quot;: &quot;Polygon&quot;}, &quot;id&quot;: &quot;151&quot;, &quot;properties&quot;: {&quot;area&quot;: 1.5060260000002735e-05, &quot;center&quot;: &quot;[101.52508000220529, 3.0561780569404493]&quot;, &quot;isochrone_id&quot;: 51300, &quot;reachfactor&quot;: 0.5339, &quot;station_id&quot;: &quot;51&quot;, &quot;total_pop&quot;: 1261.0, &quot;type&quot;: &quot;Polygon&quot;, &quot;value&quot;: 300}, &quot;type&quot;: &quot;Feature&quot;}, {&quot;bbox&quot;: [101.489317, 3.051108, 101.495052, 3.054215], &quot;geometry&quot;: {&quot;coordinates&quot;: [[[101.489317, 3.052433], [101.489517, 3.052021], [101.49059, 3.051154], [101.490947, 3.051108], [101.495041, 3.052183], [101.495052, 3.052543], [101.491042, 3.054212], [101.490682, 3.054215], [101.489453, 3.052956], [101.489324, 3.052793], [101.489317, 3.052433]]], &quot;type&quot;: &quot;Polygon&quot;}, &quot;id&quot;: &quot;154&quot;, &quot;properties&quot;: {&quot;area&quot;: 1.0541091499994806e-05, &quot;center&quot;: &quot;[101.49270354103727, 3.052426763781548]&quot;, &quot;isochrone_id&quot;: 52300, &quot;reachfactor&quot;: 0.3737, &quot;station_id&quot;: &quot;52&quot;, &quot;total_pop&quot;: 692.0, &quot;type&quot;: &quot;Polygon&quot;, &quot;value&quot;: 300}, &quot;type&quot;: &quot;Feature&quot;}, {&quot;bbox&quot;: [101.703215, 3.13676, 101.709122, 3.142225], &quot;geometry&quot;: {&quot;coordinates&quot;: [[[101.703215, 3.141255], [101.704056, 3.137534], [101.704351, 3.137328], [101.705529, 3.13676], [101.70805, 3.137087], [101.708982, 3.137215], [101.709074, 3.137267], [101.709104, 3.137311], [101.709122, 3.137472], [101.708273, 3.141985], [101.708125, 3.142081], [101.707883, 3.142225], [101.706217, 3.142099], [101.703446, 3.141744], [101.703248, 3.141443], [101.703215, 3.141255]]], &quot;type&quot;: &quot;Polygon&quot;}, &quot;id&quot;: &quot;156&quot;, &quot;properties&quot;: {&quot;area&quot;: 2.542028900000737e-05, &quot;center&quot;: &quot;[101.7061513, 3.1397467]&quot;, &quot;isochrone_id&quot;: 77300, &quot;reachfactor&quot;: 0.9011, &quot;station_id&quot;: &quot;77&quot;, &quot;total_pop&quot;: 3367.0, &quot;type&quot;: &quot;Polygon&quot;, &quot;value&quot;: 300}, &quot;type&quot;: &quot;Feature&quot;}, {&quot;bbox&quot;: [101.467022, 3.034809, 101.471589, 3.039775], &quot;geometry&quot;: {&quot;coordinates&quot;: [[[101.467022, 3.035423], [101.467251, 3.035211], [101.468142, 3.034809], [101.46973, 3.035424], [101.470799, 3.037184], [101.471589, 3.03944], [101.471258, 3.039583], [101.470799, 3.039775], [101.469379, 3.039392], [101.469095, 3.039171], [101.468438, 3.038252], [101.467025, 3.035783], [101.467022, 3.035423]]], &quot;type&quot;: &quot;Polygon&quot;}, &quot;id&quot;: &quot;158&quot;, &quot;properties&quot;: {&quot;area&quot;: 1.2379514499971782e-05, &quot;center&quot;: &quot;[101.47011751876626, 3.036041964833819]&quot;, &quot;isochrone_id&quot;: 53300, &quot;reachfactor&quot;: 0.4389, &quot;station_id&quot;: &quot;53&quot;, &quot;total_pop&quot;: 130.0, &quot;type&quot;: &quot;Polygon&quot;, &quot;value&quot;: 300}, &quot;type&quot;: &quot;Feature&quot;}, {&quot;bbox&quot;: [101.446676, 3.039573, 101.452218, 3.045669], &quot;geometry&quot;: {&quot;coordinates&quot;: [[[101.446742, 3.042498], [101.448112, 3.039669], [101.448459, 3.039573], [101.452203, 3.040436], [101.452218, 3.040788], [101.451571, 3.041851], [101.448964, 3.045567], [101.448619, 3.045669], [101.446676, 3.044365], [101.446742, 3.042498]]], &quot;type&quot;: &quot;Polygon&quot;}, &quot;id&quot;: &quot;161&quot;, &quot;properties&quot;: {&quot;area&quot;: 2.0603931500025937e-05, &quot;center&quot;: &quot;[101.44962132078167, 3.0429038367682124]&quot;, &quot;isochrone_id&quot;: 54300, &quot;reachfactor&quot;: 0.7304, &quot;station_id&quot;: &quot;54&quot;, &quot;total_pop&quot;: 698.0, &quot;type&quot;: &quot;Polygon&quot;, &quot;value&quot;: 300}, &quot;type&quot;: &quot;Feature&quot;}, {&quot;bbox&quot;: [101.428562, 3.039586, 101.436026, 3.043639], &quot;geometry&quot;: {&quot;coordinates&quot;: [[[101.428562, 3.04186], [101.429008, 3.040938], [101.429502, 3.040131], [101.429791, 3.039666], [101.430144, 3.039592], [101.435276, 3.039586], [101.435911, 3.039995], [101.436026, 3.040336], [101.434402, 3.041834], [101.431337, 3.043583], [101.431173, 3.043639], [101.430274, 3.043167], [101.429026, 3.042459], [101.428637, 3.042212], [101.428562, 3.04186]]], &quot;type&quot;: &quot;Polygon&quot;}, &quot;id&quot;: &quot;164&quot;, &quot;properties&quot;: {&quot;area&quot;: 1.9782478500021874e-05, &quot;center&quot;: &quot;[101.4322074029396, 3.041038057550087]&quot;, &quot;isochrone_id&quot;: 55300, &quot;reachfactor&quot;: 0.7013, &quot;station_id&quot;: &quot;55&quot;, &quot;total_pop&quot;: 1574.0, &quot;type&quot;: &quot;Polygon&quot;, &quot;value&quot;: 300}, &quot;type&quot;: &quot;Feature&quot;}, {&quot;bbox&quot;: [101.422547, 3.030397, 101.427916, 3.036162], &quot;geometry&quot;: {&quot;coordinates&quot;: [[[101.423242, 3.031126], [101.423629, 3.030863], [101.423769, 3.03077], [101.426333, 3.030397], [101.426669, 3.030526], [101.426937, 3.031298], [101.427096, 3.031742], [101.427386, 3.032584], [101.427916, 3.035441], [101.427878, 3.035878], [101.42787, 3.035907], [101.427616, 3.036162], [101.424014, 3.033269], [101.423177, 3.032507], [101.422547, 3.031954], [101.423242, 3.031126]]], &quot;type&quot;: &quot;Polygon&quot;}, &quot;id&quot;: &quot;167&quot;, &quot;properties&quot;: {&quot;area&quot;: 1.6142035500002303e-05, &quot;center&quot;: &quot;[101.4250999, 3.0339365]&quot;, &quot;isochrone_id&quot;: 56300, &quot;reachfactor&quot;: 0.5723, &quot;station_id&quot;: &quot;56&quot;, &quot;total_pop&quot;: 1074.0, &quot;type&quot;: &quot;Polygon&quot;, &quot;value&quot;: 300}, &quot;type&quot;: &quot;Feature&quot;}, {&quot;bbox&quot;: [101.409962, 3.018202, 101.413721, 3.022319], &quot;geometry&quot;: {&quot;coordinates&quot;: [[[101.409962, 3.019704], [101.410766, 3.018444], [101.411033, 3.018202], [101.412694, 3.018749], [101.413638, 3.019452], [101.413718, 3.019631], [101.413721, 3.019817], [101.413549, 3.020786], [101.413457, 3.021069], [101.41276, 3.022061], [101.412509, 3.022319], [101.41236, 3.022174], [101.412212, 3.022029], [101.410167, 3.020008], [101.409982, 3.019768], [101.409962, 3.019704]]], &quot;type&quot;: &quot;Polygon&quot;}, &quot;id&quot;: &quot;170&quot;, &quot;properties&quot;: {&quot;area&quot;: 9.091359500012736e-06, &quot;center&quot;: &quot;[101.41032762147691, 3.020109367383416]&quot;, &quot;isochrone_id&quot;: 57300, &quot;reachfactor&quot;: 0.3223, &quot;station_id&quot;: &quot;57&quot;, &quot;total_pop&quot;: 604.0, &quot;type&quot;: &quot;Polygon&quot;, &quot;value&quot;: 300}, &quot;type&quot;: &quot;Feature&quot;}, {&quot;bbox&quot;: [101.401209, 3.010072, 101.405778, 3.013563], &quot;geometry&quot;: {&quot;coordinates&quot;: [[[101.401325, 3.011002], [101.402889, 3.010079], [101.403249, 3.010072], [101.405543, 3.012131], [101.405778, 3.012403], [101.405741, 3.013317], [101.405479, 3.013563], [101.404642, 3.01349], [101.403179, 3.013264], [101.402776, 3.01296], [101.402433, 3.012698], [101.401209, 3.011499], [101.401325, 3.011002]]], &quot;type&quot;: &quot;Polygon&quot;}, &quot;id&quot;: &quot;174&quot;, &quot;properties&quot;: {&quot;area&quot;: 9.61521250000168e-06, &quot;center&quot;: &quot;[101.40267146282692, 3.012925017880188]&quot;, &quot;isochrone_id&quot;: 58300, &quot;reachfactor&quot;: 0.3409, &quot;station_id&quot;: &quot;58&quot;, &quot;total_pop&quot;: 483.0, &quot;type&quot;: &quot;Polygon&quot;, &quot;value&quot;: 300}, &quot;type&quot;: &quot;Feature&quot;}, {&quot;bbox&quot;: [101.386344, 2.99659, 101.394327, 3.003136], &quot;geometry&quot;: {&quot;coordinates&quot;: [[[101.386441, 2.99659], [101.387984, 2.997023], [101.393534, 2.998065], [101.393846, 2.998243], [101.394327, 3.000277], [101.394279, 3.000365], [101.39414, 3.000585], [101.394083, 3.000666], [101.391177, 3.003136], [101.391005, 3.003019], [101.39017, 3.002364], [101.389068, 2.999501], [101.386344, 2.996937], [101.386441, 2.99659]]], &quot;type&quot;: &quot;Polygon&quot;}, &quot;id&quot;: &quot;177&quot;, &quot;properties&quot;: {&quot;area&quot;: 2.4398499000019666e-05, &quot;center&quot;: &quot;[101.3912787289839, 2.999395605996668]&quot;, &quot;isochrone_id&quot;: 59300, &quot;reachfactor&quot;: 0.865, &quot;station_id&quot;: &quot;59&quot;, &quot;total_pop&quot;: 1086.0, &quot;type&quot;: &quot;Polygon&quot;, &quot;value&quot;: 300}, &quot;type&quot;: &quot;Feature&quot;}, {&quot;bbox&quot;: [101.694311, 3.181946, 101.697854, 3.189221], &quot;geometry&quot;: {&quot;coordinates&quot;: [[[101.694388, 3.188509], [101.694542, 3.182854], [101.694311, 3.182302], [101.694367, 3.181946], [101.694503, 3.181968], [101.69475, 3.182024], [101.694825, 3.182063], [101.694865, 3.182096], [101.695474, 3.18261], [101.697045, 3.184035], [101.697158, 3.184153], [101.697854, 3.185994], [101.697838, 3.186354], [101.697741, 3.187068], [101.696326, 3.188442], [101.696208, 3.188539], [101.694786, 3.189221], [101.69475, 3.189189], [101.694392, 3.188869], [101.694388, 3.188509]]], &quot;type&quot;: &quot;Polygon&quot;}, &quot;id&quot;: &quot;180&quot;, &quot;properties&quot;: {&quot;area&quot;: 1.6910447000002455e-05, &quot;center&quot;: &quot;[101.69538500593573, 3.1854635657719412]&quot;, &quot;isochrone_id&quot;: 60300, &quot;reachfactor&quot;: 0.5994, &quot;station_id&quot;: &quot;60&quot;, &quot;total_pop&quot;: 1766.0, &quot;type&quot;: &quot;Polygon&quot;, &quot;value&quot;: 300}, &quot;type&quot;: &quot;Feature&quot;}, {&quot;bbox&quot;: [101.709652, 3.13139, 101.715289, 3.137578], &quot;geometry&quot;: {&quot;coordinates&quot;: [[[101.709652, 3.13579], [101.709706, 3.135624], [101.710089, 3.134739], [101.712322, 3.131582], [101.712627, 3.13139], [101.712726, 3.13139], [101.714969, 3.132848], [101.715181, 3.133139], [101.715289, 3.13507], [101.715288, 3.13543], [101.712347, 3.137032], [101.71161, 3.137479], [101.710488, 3.137578], [101.710023, 3.137494], [101.709723, 3.137295], [101.709652, 3.13579]]], &quot;type&quot;: &quot;Polygon&quot;}, &quot;id&quot;: &quot;183&quot;, &quot;properties&quot;: {&quot;area&quot;: 2.2540254999997258e-05, &quot;center&quot;: &quot;[101.7121408, 3.1347568]&quot;, &quot;isochrone_id&quot;: 61300, &quot;reachfactor&quot;: 0.799, &quot;station_id&quot;: &quot;61&quot;, &quot;total_pop&quot;: 2478.0, &quot;type&quot;: &quot;Polygon&quot;, &quot;value&quot;: 300}, &quot;type&quot;: &quot;Feature&quot;}, {&quot;bbox&quot;: [101.713754, 3.126675, 101.717399, 3.130709], &quot;geometry&quot;: {&quot;coordinates&quot;: [[[101.715361, 3.12692], [101.715668, 3.126731], [101.715841, 3.126675], [101.71594, 3.126852], [101.717038, 3.128876], [101.717374, 3.129989], [101.717399, 3.130326], [101.717317, 3.130483], [101.717037, 3.130709], [101.714102, 3.129537], [101.714057, 3.129488], [101.713928, 3.129348], [101.713754, 3.129158], [101.715361, 3.12692]]], &quot;type&quot;: &quot;Polygon&quot;}, &quot;id&quot;: &quot;186&quot;, &quot;properties&quot;: {&quot;area&quot;: 7.882824000017102e-06, &quot;center&quot;: &quot;[101.71576086194644, 3.1279810758616358]&quot;, &quot;isochrone_id&quot;: 62300, &quot;reachfactor&quot;: 0.2795, &quot;station_id&quot;: &quot;62&quot;, &quot;total_pop&quot;: 738.0, &quot;type&quot;: &quot;Polygon&quot;, &quot;value&quot;: 300}, &quot;type&quot;: &quot;Feature&quot;}, {&quot;bbox&quot;: [101.71681, 3.120339, 101.721023, 3.123839], &quot;geometry&quot;: {&quot;coordinates&quot;: [[[101.716858, 3.122819], [101.717202, 3.121617], [101.71741, 3.121358], [101.718161, 3.12091], [101.720092, 3.120339], [101.721023, 3.122224], [101.720769, 3.122479], [101.718412, 3.123296], [101.717129, 3.123839], [101.71681, 3.123672], [101.716858, 3.122819]]], &quot;type&quot;: &quot;Polygon&quot;}, &quot;id&quot;: &quot;189&quot;, &quot;properties&quot;: {&quot;area&quot;: 8.699429500003255e-06, &quot;center&quot;: &quot;[101.7179504, 3.1210289]&quot;, &quot;isochrone_id&quot;: 63300, &quot;reachfactor&quot;: 0.3085, &quot;station_id&quot;: &quot;63&quot;, &quot;total_pop&quot;: 989.0, &quot;type&quot;: &quot;Polygon&quot;, &quot;value&quot;: 300}, &quot;type&quot;: &quot;Feature&quot;}, {&quot;bbox&quot;: [101.724568, 3.120792, 101.72983, 3.126074], &quot;geometry&quot;: {&quot;coordinates&quot;: [[[101.724568, 3.124243], [101.72461, 3.123282], [101.724909, 3.122808], [101.725103, 3.122505], [101.728195, 3.120831], [101.728435, 3.120792], [101.728554, 3.120803], [101.729755, 3.121582], [101.72983, 3.124428], [101.72965, 3.12474], [101.728316, 3.125356], [101.726139, 3.126006], [101.725691, 3.126074], [101.724814, 3.125861], [101.724662, 3.125535], [101.724568, 3.124243]]], &quot;type&quot;: &quot;Polygon&quot;}, &quot;id&quot;: &quot;192&quot;, &quot;properties&quot;: {&quot;area&quot;: 2.0503241500014133e-05, &quot;center&quot;: &quot;[101.72694105317808, 3.1232730479621926]&quot;, &quot;isochrone_id&quot;: 64300, &quot;reachfactor&quot;: 0.7268, &quot;station_id&quot;: &quot;64&quot;, &quot;total_pop&quot;: 1791.0, &quot;type&quot;: &quot;Polygon&quot;, &quot;value&quot;: 300}, &quot;type&quot;: &quot;Feature&quot;}, {&quot;bbox&quot;: [101.736968, 3.130159, 101.741874, 3.133091], &quot;geometry&quot;: {&quot;coordinates&quot;: [[[101.737109, 3.132004], [101.737398, 3.131307], [101.737506, 3.131058], [101.738244, 3.130295], [101.738524, 3.130159], [101.740511, 3.131123], [101.740878, 3.131324], [101.741259, 3.131533], [101.741566, 3.131737], [101.741874, 3.131941], [101.741848, 3.132156], [101.741679, 3.132474], [101.739502, 3.133091], [101.738251, 3.132719], [101.737299, 3.132476], [101.736968, 3.132335], [101.737109, 3.132004]]], &quot;type&quot;: &quot;Polygon&quot;}, &quot;id&quot;: &quot;195&quot;, &quot;properties&quot;: {&quot;area&quot;: 8.595021000002232e-06, &quot;center&quot;: &quot;[101.73888, 3.1303391]&quot;, &quot;isochrone_id&quot;: 65300, &quot;reachfactor&quot;: 0.3046, &quot;station_id&quot;: &quot;65&quot;, &quot;total_pop&quot;: 1406.0, &quot;type&quot;: &quot;Polygon&quot;, &quot;value&quot;: 300}, &quot;type&quot;: &quot;Feature&quot;}, {&quot;bbox&quot;: [101.744261, 3.131653, 101.749761, 3.137465], &quot;geometry&quot;: {&quot;coordinates&quot;: [[[101.74431, 3.135205], [101.744261, 3.132609], [101.744277, 3.132541], [101.744467, 3.132461], [101.744843, 3.13231], [101.74656, 3.131653], [101.7467, 3.131702], [101.748665, 3.132654], [101.748749, 3.132798], [101.749011, 3.133246], [101.749191, 3.13355], [101.749357, 3.133831], [101.749761, 3.13528], [101.74909, 3.136778], [101.748907, 3.137088], [101.747647, 3.137419], [101.747587, 3.137432], [101.747447, 3.137465], [101.744357, 3.13569], [101.74431, 3.135205]]], &quot;type&quot;: &quot;Polygon&quot;}, &quot;id&quot;: &quot;198&quot;, &quot;properties&quot;: {&quot;area&quot;: 2.3298252000030794e-05, &quot;center&quot;: &quot;[101.74666782831245, 3.1347806505749407]&quot;, &quot;isochrone_id&quot;: 66300, &quot;reachfactor&quot;: 0.8259, &quot;station_id&quot;: &quot;66&quot;, &quot;total_pop&quot;: 4050.0, &quot;type&quot;: &quot;Polygon&quot;, &quot;value&quot;: 300}, &quot;type&quot;: &quot;Feature&quot;}, {&quot;bbox&quot;: [101.748825, 3.135166, 101.754792, 3.140813], &quot;geometry&quot;: {&quot;coordinates&quot;: [[[101.7526969484313, 3.135222672106714], [101.749009, 3.135673], [101.748825, 3.135983], [101.7491790181824, 3.136474502411636], [101.750447, 3.13979], [101.750643, 3.139923], [101.752379, 3.140813], [101.752641, 3.140696], [101.752821, 3.140385], [101.753834704464, 3.13825113253373], [101.754108, 3.137967], [101.754713, 3.136813], [101.754791, 3.136613], [101.754792, 3.13661], [101.754783, 3.136589], [101.754642, 3.136286], [101.754042, 3.135579], [101.753377, 3.135166], [101.752899, 3.135198], [101.7527265086221, 3.135219062571851], [101.752719, 3.135219], [101.7526969484313, 3.135222672106714]]], &quot;type&quot;: &quot;Polygon&quot;}, &quot;id&quot;: &quot;201&quot;, &quot;properties&quot;: {&quot;area&quot;: 2.103271730413112e-05, &quot;center&quot;: &quot;[101.7529452, 3.1382756]&quot;, &quot;isochrone_id&quot;: 67300, &quot;reachfactor&quot;: 0.6541, &quot;station_id&quot;: &quot;67&quot;, &quot;total_pop&quot;: 4701.0, &quot;type&quot;: &quot;Polygon&quot;, &quot;value&quot;: 300}, &quot;type&quot;: &quot;Feature&quot;}, {&quot;bbox&quot;: [101.712533, 3.087514, 101.71627, 3.092088], &quot;geometry&quot;: {&quot;coordinates&quot;: [[[101.712535, 3.09191], [101.712574, 3.089854], [101.712743, 3.088972], [101.713282, 3.088181], [101.713648, 3.087702], [101.71384, 3.087514], [101.71526, 3.087543], [101.715285, 3.087556], [101.715372, 3.08777], [101.71627, 3.089965], [101.716096, 3.090281], [101.712893, 3.092088], [101.712533, 3.092084], [101.712535, 3.09191]]], &quot;type&quot;: &quot;Polygon&quot;}, &quot;id&quot;: &quot;203&quot;, &quot;properties&quot;: {&quot;area&quot;: 1.139816449996511e-05, &quot;center&quot;: &quot;[101.71268808398888, 3.089577952078855]&quot;, &quot;isochrone_id&quot;: 83300, &quot;reachfactor&quot;: 0.404, &quot;station_id&quot;: &quot;83&quot;, &quot;total_pop&quot;: 3182.0, &quot;type&quot;: &quot;Polygon&quot;, &quot;value&quot;: 300}, &quot;type&quot;: &quot;Feature&quot;}, {&quot;bbox&quot;: [101.754236, 3.139932, 101.758211, 3.143511], &quot;geometry&quot;: {&quot;coordinates&quot;: [[[101.754244, 3.142], [101.754236, 3.141104], [101.754265, 3.140847], [101.754361, 3.140704], [101.754456, 3.140608], [101.755329, 3.140004], [101.755484, 3.139932], [101.757803, 3.140347], [101.758025, 3.140631], [101.758211, 3.141038], [101.757104, 3.143284], [101.756824, 3.143511], [101.754959, 3.143247], [101.754572, 3.143159], [101.754482, 3.143025], [101.754244, 3.142]]], &quot;type&quot;: &quot;Polygon&quot;}, &quot;id&quot;: &quot;205&quot;, &quot;properties&quot;: {&quot;area&quot;: 1.0759082999996614e-05, &quot;center&quot;: &quot;[101.75643637635682, 3.1407303786281133]&quot;, &quot;isochrone_id&quot;: 68300, &quot;reachfactor&quot;: 0.3814, &quot;station_id&quot;: &quot;68&quot;, &quot;total_pop&quot;: 1919.0, &quot;type&quot;: &quot;Polygon&quot;, &quot;value&quot;: 300}, &quot;type&quot;: &quot;Feature&quot;}, {&quot;bbox&quot;: [101.758815, 3.149231, 101.762426, 3.152651], &quot;geometry&quot;: {&quot;coordinates&quot;: [[[101.760443, 3.149694], [101.762095, 3.149231], [101.762426, 3.149372], [101.762406, 3.149603], [101.760871, 3.152422], [101.760593, 3.152651], [101.760395, 3.15263], [101.759392, 3.152463], [101.759195, 3.152391], [101.759105, 3.152343], [101.758978, 3.152166], [101.758815, 3.151845], [101.760443, 3.149694]]], &quot;type&quot;: &quot;Polygon&quot;}, &quot;id&quot;: &quot;208&quot;, &quot;properties&quot;: {&quot;area&quot;: 6.4968174999966455e-06, &quot;center&quot;: &quot;[101.7603983, 3.1504751]&quot;, &quot;isochrone_id&quot;: 69300, &quot;reachfactor&quot;: 0.2302, &quot;station_id&quot;: &quot;69&quot;, &quot;total_pop&quot;: 1381.0, &quot;type&quot;: &quot;Polygon&quot;, &quot;value&quot;: 300}, &quot;type&quot;: &quot;Feature&quot;}, {&quot;bbox&quot;: [101.692638, 3.175781, 101.698237, 3.182452], &quot;geometry&quot;: {&quot;coordinates&quot;: [[[101.692638, 3.177368], [101.692647, 3.177287], [101.692652, 3.177257], [101.692818, 3.177061], [101.694248, 3.175781], [101.694385, 3.175841], [101.697761, 3.177976], [101.698034, 3.178188], [101.698116, 3.178305], [101.698215, 3.17854], [101.698226, 3.178764], [101.698237, 3.178989], [101.696785, 3.180676], [101.696589, 3.180861], [101.69481, 3.18238], [101.694458, 3.182452], [101.694166, 3.182091], [101.692638, 3.177368]]], &quot;type&quot;: &quot;Polygon&quot;}, &quot;id&quot;: &quot;211&quot;, &quot;properties&quot;: {&quot;area&quot;: 2.1379497000019657e-05, &quot;center&quot;: &quot;[101.69558487421544, 3.1786149079838713]&quot;, &quot;isochrone_id&quot;: 70300, &quot;reachfactor&quot;: 0.7578, &quot;station_id&quot;: &quot;70&quot;, &quot;total_pop&quot;: 1918.0, &quot;type&quot;: &quot;Polygon&quot;, &quot;value&quot;: 300}, &quot;type&quot;: &quot;Feature&quot;}, {&quot;bbox&quot;: [101.691819, 3.169373, 101.698693, 3.176528], &quot;geometry&quot;: {&quot;coordinates&quot;: [[[101.6985902470979, 3.17431967045705], [101.698627, 3.174298], [101.698693, 3.173944], [101.698517, 3.171496], [101.69849, 3.171408], [101.697432, 3.169903], [101.697068, 3.169596], [101.696802, 3.16945], [101.696475, 3.169401], [101.696241, 3.169373], [101.695403, 3.169687], [101.6948119722682, 3.170044997608723], [101.694648, 3.170026], [101.692519, 3.171226], [101.69233, 3.171398], [101.692255, 3.171471], [101.692078, 3.171655], [101.691819, 3.172555], [101.691868, 3.172712], [101.692683, 3.174502], [101.692945, 3.174997], [101.693836, 3.175915], [101.694063, 3.176093], [101.694221, 3.176162], [101.696125, 3.176528], [101.698474, 3.174631], [101.698527, 3.174532], [101.6985902470979, 3.17431967045705]]], &quot;type&quot;: &quot;Polygon&quot;}, &quot;id&quot;: &quot;214&quot;, &quot;properties&quot;: {&quot;area&quot;: 3.494068553656986e-05, &quot;center&quot;: &quot;[101.6954278, 3.1725154]&quot;, &quot;isochrone_id&quot;: 71300, &quot;reachfactor&quot;: 1.0, &quot;station_id&quot;: &quot;71&quot;, &quot;total_pop&quot;: 4072.5, &quot;type&quot;: &quot;Polygon&quot;, &quot;value&quot;: 300}, &quot;type&quot;: &quot;Feature&quot;}, {&quot;bbox&quot;: [101.690564, 3.16362, 101.697391, 3.170017], &quot;geometry&quot;: {&quot;coordinates&quot;: [[[101.6906891230313, 3.16782210383714], [101.690734, 3.168175], [101.691128, 3.169353], [101.69133, 3.169651], [101.6919331583942, 3.169671618944746], [101.691951, 3.169674], [101.694343, 3.170015], [101.694366, 3.170017], [101.694646, 3.16979], [101.696091, 3.168293], [101.696597, 3.167692], [101.697094, 3.167016], [101.697391, 3.166554], [101.697321, 3.166201], [101.697046, 3.165895], [101.696953, 3.165817], [101.696382, 3.165331], [101.695636, 3.164838], [101.694805, 3.164271], [101.693616, 3.16362], [101.6929896905698, 3.163707836078626], [101.692942, 3.163682], [101.69263, 3.163861], [101.691107, 3.165733], [101.690817, 3.166213], [101.690564, 3.166702], [101.690669, 3.167764], [101.6906891230313, 3.16782210383714]]], &quot;type&quot;: &quot;Polygon&quot;}, &quot;id&quot;: &quot;217&quot;, &quot;properties&quot;: {&quot;area&quot;: 2.9552752786420565e-05, &quot;center&quot;: &quot;[101.69373096126859, 3.1670089963140877]&quot;, &quot;isochrone_id&quot;: 72300, &quot;reachfactor&quot;: 0.95355, &quot;station_id&quot;: &quot;72&quot;, &quot;total_pop&quot;: 4235.0, &quot;type&quot;: &quot;Polygon&quot;, &quot;value&quot;: 300}, &quot;type&quot;: &quot;Feature&quot;}, {&quot;bbox&quot;: [101.722987, 3.227795, 101.725525, 3.232572], &quot;geometry&quot;: {&quot;coordinates&quot;: [[[101.723934, 3.227801], [101.724294, 3.227795], [101.725068, 3.227872], [101.725461, 3.228032], [101.725495, 3.228285], [101.725525, 3.228867], [101.723986, 3.232572], [101.723886, 3.232554], [101.723011, 3.230386], [101.722987, 3.230327], [101.723934, 3.227801]]], &quot;type&quot;: &quot;Polygon&quot;}, &quot;id&quot;: &quot;218&quot;, &quot;properties&quot;: {&quot;area&quot;: 6.9245945000035115e-06, &quot;center&quot;: &quot;[101.72429898319118, 3.231206193824145]&quot;, &quot;isochrone_id&quot;: 107300, &quot;reachfactor&quot;: 0.2454, &quot;station_id&quot;: &quot;107&quot;, &quot;total_pop&quot;: 605.0, &quot;type&quot;: &quot;Polygon&quot;, &quot;value&quot;: 300}, &quot;type&quot;: &quot;Feature&quot;}, {&quot;bbox&quot;: [101.692694, 3.157982, 101.696902, 3.162908], &quot;geometry&quot;: {&quot;coordinates&quot;: [[[101.692695, 3.161223], [101.69274, 3.161028], [101.694315, 3.157982], [101.694675, 3.157985], [101.695194, 3.158349], [101.696871, 3.159842], [101.696902, 3.159925], [101.696731, 3.161047], [101.6967, 3.16114], [101.696636, 3.161314], [101.696215, 3.162305], [101.696181, 3.162372], [101.696057, 3.162618], [101.695919, 3.162879], [101.69583, 3.162905], [101.695612, 3.162908], [101.694391, 3.162408], [101.692822, 3.16181], [101.692694, 3.161707], [101.692695, 3.161223]]], &quot;type&quot;: &quot;Polygon&quot;}, &quot;id&quot;: &quot;221&quot;, &quot;properties&quot;: {&quot;area&quot;: 1.3321283499989292e-05, &quot;center&quot;: &quot;[101.6940522, 3.1611555]&quot;, &quot;isochrone_id&quot;: 73300, &quot;reachfactor&quot;: 0.4723, &quot;station_id&quot;: &quot;73&quot;, &quot;total_pop&quot;: 1511.0, &quot;type&quot;: &quot;Polygon&quot;, &quot;value&quot;: 300}, &quot;type&quot;: &quot;Feature&quot;}, {&quot;bbox&quot;: [101.691929, 3.151728, 101.697425, 3.159264], &quot;geometry&quot;: {&quot;coordinates&quot;: [[[101.691929, 3.153522], [101.69357, 3.151989], [101.694554, 3.151728], [101.694561, 3.151728], [101.694607, 3.151729], [101.694651, 3.15173], [101.694934, 3.151916], [101.696271, 3.153165], [101.697315, 3.154529], [101.697425, 3.154684], [101.697221, 3.156951], [101.697135, 3.157235], [101.696155, 3.158072], [101.694992, 3.159108], [101.69496, 3.159137], [101.694826, 3.159186], [101.694475, 3.159264], [101.693804, 3.158646], [101.692651, 3.156562], [101.691929, 3.153522]]], &quot;type&quot;: &quot;Polygon&quot;}, &quot;id&quot;: &quot;224&quot;, &quot;properties&quot;: {&quot;area&quot;: 2.7507660000005792e-05, &quot;center&quot;: &quot;[101.69453289220279, 3.1555503765897095]&quot;, &quot;isochrone_id&quot;: 74300, &quot;reachfactor&quot;: 0.975, &quot;station_id&quot;: &quot;74&quot;, &quot;total_pop&quot;: 4457.0, &quot;type&quot;: &quot;Polygon&quot;, &quot;value&quot;: 300}, &quot;type&quot;: &quot;Feature&quot;}, {&quot;bbox&quot;: [101.693195, 3.145773, 101.699463, 3.152677], &quot;geometry&quot;: {&quot;coordinates&quot;: [[[101.6992738732619, 3.147684916404202], [101.699269, 3.14705], [101.699248, 3.14669], [101.69919, 3.146624], [101.698933, 3.146372], [101.696136, 3.145773], [101.694883, 3.145847], [101.694532, 3.145925], [101.694059, 3.147093], [101.6937939679587, 3.148332819889073], [101.693231, 3.149571], [101.693195, 3.149729], [101.693346, 3.151336], [101.694153, 3.152079], [101.694495, 3.152355], [101.694523, 3.152373], [101.694601, 3.152394], [101.69496, 3.152409], [101.695897, 3.152444], [101.695972, 3.152448], [101.6959833095557, 3.152446272366086], [101.696974, 3.15266], [101.698576, 3.152677], [101.698728, 3.152624], [101.698975, 3.152411], [101.698978, 3.152399], [101.699058, 3.15207], [101.699463, 3.148735], [101.699429, 3.14846], [101.6992738732619, 3.147684916404202]]], &quot;type&quot;: &quot;Polygon&quot;}, &quot;id&quot;: &quot;227&quot;, &quot;properties&quot;: {&quot;area&quot;: 3.605206774482164e-05, &quot;center&quot;: &quot;[101.6966656, 3.1495984]&quot;, &quot;isochrone_id&quot;: 75300, &quot;reachfactor&quot;: 1.0, &quot;station_id&quot;: &quot;75&quot;, &quot;total_pop&quot;: 4042.0, &quot;type&quot;: &quot;Polygon&quot;, &quot;value&quot;: 300}, &quot;type&quot;: &quot;Feature&quot;}, {&quot;bbox&quot;: [101.698022, 3.144297, 101.703219, 3.147301], &quot;geometry&quot;: {&quot;coordinates&quot;: [[[101.698048, 3.145074], [101.698856, 3.144297], [101.699216, 3.144299], [101.703149, 3.14519], [101.703219, 3.145543], [101.703206, 3.145748], [101.702522, 3.146411], [101.700873, 3.147301], [101.698907, 3.146912], [101.69865, 3.14666], [101.698055, 3.14551], [101.698022, 3.145433], [101.698048, 3.145074]]], &quot;type&quot;: &quot;Polygon&quot;}, &quot;id&quot;: &quot;230&quot;, &quot;properties&quot;: {&quot;area&quot;: 1.0548300499999875e-05, &quot;center&quot;: &quot;[101.7014318, 3.1447304]&quot;, &quot;isochrone_id&quot;: 76300, &quot;reachfactor&quot;: 0.3739, &quot;station_id&quot;: &quot;76&quot;, &quot;total_pop&quot;: 1017.0, &quot;type&quot;: &quot;Polygon&quot;, &quot;value&quot;: 300}, &quot;type&quot;: &quot;Feature&quot;}, {&quot;bbox&quot;: [101.694311, 3.181946, 101.697854, 3.189221], &quot;geometry&quot;: {&quot;coordinates&quot;: [[[101.694388, 3.188509], [101.694542, 3.182854], [101.694311, 3.182302], [101.694367, 3.181946], [101.694503, 3.181968], [101.69475, 3.182024], [101.694825, 3.182063], [101.694865, 3.182096], [101.695474, 3.18261], [101.697045, 3.184035], [101.697158, 3.184153], [101.697854, 3.185994], [101.697838, 3.186354], [101.697741, 3.187068], [101.696326, 3.188442], [101.696208, 3.188539], [101.694786, 3.189221], [101.69475, 3.189189], [101.694392, 3.188869], [101.694388, 3.188509]]], &quot;type&quot;: &quot;Polygon&quot;}, &quot;id&quot;: &quot;234&quot;, &quot;properties&quot;: {&quot;area&quot;: 1.6910447000002455e-05, &quot;center&quot;: &quot;[101.69538500593573, 3.1854635657719412]&quot;, &quot;isochrone_id&quot;: 78300, &quot;reachfactor&quot;: 0.5994, &quot;station_id&quot;: &quot;78&quot;, &quot;total_pop&quot;: 1766.0, &quot;type&quot;: &quot;Polygon&quot;, &quot;value&quot;: 300}, &quot;type&quot;: &quot;Feature&quot;}, {&quot;bbox&quot;: [101.709652, 3.13139, 101.715289, 3.137578], &quot;geometry&quot;: {&quot;coordinates&quot;: [[[101.709652, 3.13579], [101.709706, 3.135624], [101.710089, 3.134739], [101.712322, 3.131582], [101.712627, 3.13139], [101.712726, 3.13139], [101.714969, 3.132848], [101.715181, 3.133139], [101.715289, 3.13507], [101.715288, 3.13543], [101.712347, 3.137032], [101.71161, 3.137479], [101.710488, 3.137578], [101.710023, 3.137494], [101.709723, 3.137295], [101.709652, 3.13579]]], &quot;type&quot;: &quot;Polygon&quot;}, &quot;id&quot;: &quot;237&quot;, &quot;properties&quot;: {&quot;area&quot;: 2.2540254999997258e-05, &quot;center&quot;: &quot;[101.7121408, 3.1347568]&quot;, &quot;isochrone_id&quot;: 79300, &quot;reachfactor&quot;: 0.799, &quot;station_id&quot;: &quot;79&quot;, &quot;total_pop&quot;: 2478.0, &quot;type&quot;: &quot;Polygon&quot;, &quot;value&quot;: 300}, &quot;type&quot;: &quot;Feature&quot;}, {&quot;bbox&quot;: [101.713754, 3.126675, 101.717399, 3.130709], &quot;geometry&quot;: {&quot;coordinates&quot;: [[[101.715361, 3.12692], [101.715668, 3.126731], [101.715841, 3.126675], [101.71594, 3.126852], [101.717038, 3.128876], [101.717374, 3.129989], [101.717399, 3.130326], [101.717317, 3.130483], [101.717037, 3.130709], [101.714102, 3.129537], [101.714057, 3.129488], [101.713928, 3.129348], [101.713754, 3.129158], [101.715361, 3.12692]]], &quot;type&quot;: &quot;Polygon&quot;}, &quot;id&quot;: &quot;240&quot;, &quot;properties&quot;: {&quot;area&quot;: 7.882824000017102e-06, &quot;center&quot;: &quot;[101.71576086194644, 3.1279810758616358]&quot;, &quot;isochrone_id&quot;: 80300, &quot;reachfactor&quot;: 0.2795, &quot;station_id&quot;: &quot;80&quot;, &quot;total_pop&quot;: 738.0, &quot;type&quot;: &quot;Polygon&quot;, &quot;value&quot;: 300}, &quot;type&quot;: &quot;Feature&quot;}, {&quot;bbox&quot;: [101.712058, 3.11051, 101.717482, 3.115637], &quot;geometry&quot;: {&quot;coordinates&quot;: [[[101.713297, 3.110928], [101.713795, 3.110616], [101.714582, 3.110548], [101.715403, 3.11051], [101.716321, 3.110846], [101.717476, 3.11176], [101.717482, 3.11212], [101.715663, 3.115386], [101.715404, 3.115637], [101.713375, 3.114438], [101.712557, 3.11338], [101.712058, 3.112485], [101.713297, 3.110928]]], &quot;type&quot;: &quot;Polygon&quot;}, &quot;id&quot;: &quot;243&quot;, &quot;properties&quot;: {&quot;area&quot;: 1.7605991000013786e-05, &quot;center&quot;: &quot;[101.7141760507036, 3.1127061367725033]&quot;, &quot;isochrone_id&quot;: 81300, &quot;reachfactor&quot;: 0.624, &quot;station_id&quot;: &quot;81&quot;, &quot;total_pop&quot;: 1299.0, &quot;type&quot;: &quot;Polygon&quot;, &quot;value&quot;: 300}, &quot;type&quot;: &quot;Feature&quot;}, {&quot;bbox&quot;: [101.704149, 3.099371, 101.708614, 3.105045], &quot;geometry&quot;: {&quot;coordinates&quot;: [[[101.704169, 3.099712], [101.704193, 3.099637], [101.704435, 3.099371], [101.705436, 3.099378], [101.706388, 3.09961], [101.708195, 3.100038], [101.708504, 3.100222], [101.708539, 3.100298], [101.708576, 3.10039], [101.708614, 3.101467], [101.708472, 3.103155], [101.706434, 3.105045], [101.705774, 3.104423], [101.704782, 3.10165], [101.704149, 3.100005], [101.704169, 3.099712]]], &quot;type&quot;: &quot;Polygon&quot;}, &quot;id&quot;: &quot;246&quot;, &quot;properties&quot;: {&quot;area&quot;: 1.6803680000000097e-05, &quot;center&quot;: &quot;[101.70617418314254, 3.102030693820194]&quot;, &quot;isochrone_id&quot;: 82300, &quot;reachfactor&quot;: 0.5957, &quot;station_id&quot;: &quot;82&quot;, &quot;total_pop&quot;: 1610.0, &quot;type&quot;: &quot;Polygon&quot;, &quot;value&quot;: 300}, &quot;type&quot;: &quot;Feature&quot;}, {&quot;bbox&quot;: [101.709002, 3.073321, 101.714581, 3.077833], &quot;geometry&quot;: {&quot;coordinates&quot;: [[[101.7097, 3.07356], [101.709969, 3.073321], [101.71356, 3.075547], [101.714317, 3.076456], [101.714566, 3.076874], [101.714581, 3.076905], [101.714514, 3.07723], [101.714336, 3.077833], [101.712399, 3.077806], [101.710836, 3.077395], [101.709623, 3.076055], [101.70942, 3.075834], [101.709176, 3.075538], [101.709002, 3.07506], [101.7097, 3.07356]]], &quot;type&quot;: &quot;Polygon&quot;}, &quot;id&quot;: &quot;251&quot;, &quot;properties&quot;: {&quot;area&quot;: 1.4351219500006525e-05, &quot;center&quot;: &quot;[101.71134654275657, 3.0760317933119916]&quot;, &quot;isochrone_id&quot;: 84300, &quot;reachfactor&quot;: 0.5088, &quot;station_id&quot;: &quot;84&quot;, &quot;total_pop&quot;: 888.0, &quot;type&quot;: &quot;Polygon&quot;, &quot;value&quot;: 300}, &quot;type&quot;: &quot;Feature&quot;}, {&quot;bbox&quot;: [101.705195, 3.060582, 101.711502, 3.067058], &quot;geometry&quot;: {&quot;coordinates&quot;: [[[101.7079445400079, 3.062774990539994], [101.707927, 3.062633], [101.706133, 3.061789], [101.705195, 3.062612], [101.70521, 3.062971], [101.706267, 3.063795], [101.707363, 3.063829], [101.707963519169, 3.062980741899946], [101.708234, 3.065913], [101.708381, 3.067058], [101.709328, 3.067027], [101.711497, 3.064651], [101.711502, 3.064644], [101.711411, 3.062609], [101.711083, 3.061954], [101.710486, 3.060865], [101.710241, 3.060602], [101.709769, 3.060582], [101.709358, 3.060821], [101.708683, 3.061422], [101.707926, 3.062574], [101.7079445400079, 3.062774990539994]]], &quot;type&quot;: &quot;Polygon&quot;}, &quot;id&quot;: &quot;254&quot;, &quot;properties&quot;: {&quot;area&quot;: 2.0388576188385583e-05, &quot;center&quot;: &quot;[101.7080119, 3.0634977]&quot;, &quot;isochrone_id&quot;: 85300, &quot;reachfactor&quot;: 0.36145000000000005, &quot;station_id&quot;: &quot;85&quot;, &quot;total_pop&quot;: 996.5, &quot;type&quot;: &quot;Polygon&quot;, &quot;value&quot;: 300}, &quot;type&quot;: &quot;Feature&quot;}, {&quot;bbox&quot;: [101.688554, 3.054531, 101.695302, 3.060627], &quot;geometry&quot;: {&quot;coordinates&quot;: [[[101.688554, 3.057494], [101.688601, 3.05737], [101.689723, 3.055019], [101.689933, 3.054726], [101.692498, 3.054535], [101.692858, 3.054531], [101.694647, 3.054956], [101.694914, 3.055197], [101.695302, 3.058055], [101.69527, 3.058413], [101.69364, 3.060406], [101.693557, 3.060455], [101.693241, 3.060627], [101.6921, 3.060455], [101.69032, 3.059694], [101.688747, 3.058098], [101.688617, 3.057762], [101.688554, 3.057494]]], &quot;type&quot;: &quot;Polygon&quot;}, &quot;id&quot;: &quot;257&quot;, &quot;properties&quot;: {&quot;area&quot;: 3.101811799997979e-05, &quot;center&quot;: &quot;[101.6920688, 3.0578092]&quot;, &quot;isochrone_id&quot;: 86300, &quot;reachfactor&quot;: 1.0, &quot;station_id&quot;: &quot;86&quot;, &quot;total_pop&quot;: 1559.0, &quot;type&quot;: &quot;Polygon&quot;, &quot;value&quot;: 300}, &quot;type&quot;: &quot;Feature&quot;}, {&quot;bbox&quot;: [101.683609, 3.057891, 101.690342, 3.062269], &quot;geometry&quot;: {&quot;coordinates&quot;: [[[101.683609, 3.06182], [101.683671, 3.061674], [101.685763, 3.058666], [101.685943, 3.058547], [101.688208, 3.057891], [101.688565, 3.057937], [101.688693, 3.058114], [101.690342, 3.060539], [101.690233, 3.060619], [101.68976, 3.060895], [101.68871, 3.061245], [101.684006, 3.062269], [101.683651, 3.062209], [101.683609, 3.06182]]], &quot;type&quot;: &quot;Polygon&quot;}, &quot;id&quot;: &quot;260&quot;, &quot;properties&quot;: {&quot;area&quot;: 1.661793450000704e-05, &quot;center&quot;: &quot;[101.6871114210793, 3.0610687605532427]&quot;, &quot;isochrone_id&quot;: 87300, &quot;reachfactor&quot;: 0.5891, &quot;station_id&quot;: &quot;87&quot;, &quot;total_pop&quot;: 2142.0, &quot;type&quot;: &quot;Polygon&quot;, &quot;value&quot;: 300}, &quot;type&quot;: &quot;Feature&quot;}, {&quot;bbox&quot;: [101.692638, 3.175781, 101.698237, 3.182452], &quot;geometry&quot;: {&quot;coordinates&quot;: [[[101.692638, 3.177368], [101.692647, 3.177287], [101.692652, 3.177257], [101.692818, 3.177061], [101.694248, 3.175781], [101.694385, 3.175841], [101.697761, 3.177976], [101.698034, 3.178188], [101.698116, 3.178305], [101.698215, 3.17854], [101.698226, 3.178764], [101.698237, 3.178989], [101.696785, 3.180676], [101.696589, 3.180861], [101.69481, 3.18238], [101.694458, 3.182452], [101.694166, 3.182091], [101.692638, 3.177368]]], &quot;type&quot;: &quot;Polygon&quot;}, &quot;id&quot;: &quot;265&quot;, &quot;properties&quot;: {&quot;area&quot;: 2.1379497000019657e-05, &quot;center&quot;: &quot;[101.69558487421544, 3.1786149079838713]&quot;, &quot;isochrone_id&quot;: 89300, &quot;reachfactor&quot;: 0.7578, &quot;station_id&quot;: &quot;89&quot;, &quot;total_pop&quot;: 1918.0, &quot;type&quot;: &quot;Polygon&quot;, &quot;value&quot;: 300}, &quot;type&quot;: &quot;Feature&quot;}, {&quot;bbox&quot;: [101.659326, 3.058932, 101.666942, 3.063749], &quot;geometry&quot;: {&quot;coordinates&quot;: [[[101.659326, 3.06055], [101.659613, 3.060334], [101.662792, 3.059025], [101.663089, 3.058989], [101.663396, 3.058951], [101.663694, 3.058932], [101.666936, 3.061656], [101.666942, 3.062016], [101.665159, 3.063749], [101.664799, 3.063747], [101.660851, 3.063143], [101.659849, 3.063009], [101.659632, 3.062872], [101.659326, 3.06055]]], &quot;type&quot;: &quot;Polygon&quot;}, &quot;id&quot;: &quot;268&quot;, &quot;properties&quot;: {&quot;area&quot;: 2.518785950004509e-05, &quot;center&quot;: &quot;[101.662790704004, 3.0618739788352456]&quot;, &quot;isochrone_id&quot;: 90300, &quot;reachfactor&quot;: 0.893, &quot;station_id&quot;: &quot;90&quot;, &quot;total_pop&quot;: 4452.0, &quot;type&quot;: &quot;Polygon&quot;, &quot;value&quot;: 300}, &quot;type&quot;: &quot;Feature&quot;}, {&quot;bbox&quot;: [101.653192, 3.053148, 101.660261, 3.056536], &quot;geometry&quot;: {&quot;coordinates&quot;: [[[101.653341, 3.053148], [101.657031, 3.054374], [101.660261, 3.055666], [101.660249, 3.056026], [101.659431, 3.056286], [101.655586, 3.056536], [101.655078, 3.056502], [101.654749, 3.056358], [101.654669, 3.056219], [101.653192, 3.053476], [101.653341, 3.053148]]], &quot;type&quot;: &quot;Polygon&quot;}, &quot;id&quot;: &quot;271&quot;, &quot;properties&quot;: {&quot;area&quot;: 1.2259836500000431e-05, &quot;center&quot;: &quot;[101.6566818079202, 3.0548633252267803]&quot;, &quot;isochrone_id&quot;: 91300, &quot;reachfactor&quot;: 0.4345, &quot;station_id&quot;: &quot;91&quot;, &quot;total_pop&quot;: 806.0, &quot;type&quot;: &quot;Polygon&quot;, &quot;value&quot;: 300}, &quot;type&quot;: &quot;Feature&quot;}, {&quot;bbox&quot;: [101.640388, 3.047156, 101.648703, 3.052907], &quot;geometry&quot;: {&quot;coordinates&quot;: [[[101.6473292497442, 3.049638405006082], [101.647348, 3.048966], [101.647207, 3.048635], [101.646896, 3.048446], [101.64451, 3.047156], [101.64415, 3.047164], [101.64391, 3.047247], [101.643214, 3.047864], [101.6425510502516, 3.04865641175688], [101.641885, 3.048442], [101.641532, 3.048371], [101.640418, 3.049022], [101.640388, 3.04938], [101.6408370412386, 3.049522124796676], [101.640802, 3.049666], [101.641614, 3.051743], [101.641727, 3.051927], [101.641881, 3.052072], [101.642769, 3.052907], [101.645181, 3.052905], [101.6475673383154, 3.052011148191134], [101.647668, 3.052054], [101.647983, 3.05188], [101.6481234855955, 3.051802831855965], [101.648673, 3.051597], [101.648703, 3.051238], [101.6486742246902, 3.051231259294693], [101.648679, 3.051088], [101.647681, 3.049697], [101.6473292497442, 3.049638405006082]]], &quot;type&quot;: &quot;Polygon&quot;}, &quot;id&quot;: &quot;274&quot;, &quot;properties&quot;: {&quot;area&quot;: 3.110502831980028e-05, &quot;center&quot;: &quot;[101.64435202836891, 3.0503027157083342]&quot;, &quot;isochrone_id&quot;: 92300, &quot;reachfactor&quot;: 0.43316, &quot;station_id&quot;: &quot;92&quot;, &quot;total_pop&quot;: 873.4, &quot;type&quot;: &quot;Polygon&quot;, &quot;value&quot;: 300}, &quot;type&quot;: &quot;Feature&quot;}, {&quot;bbox&quot;: [101.58862, 3.051007, 101.593822, 3.058865], &quot;geometry&quot;: {&quot;coordinates&quot;: [[[101.58862, 3.05438], [101.58894, 3.05405], [101.591713, 3.051007], [101.592073, 3.051007], [101.592072, 3.051834], [101.59207, 3.052662], [101.593822, 3.057629], [101.593613, 3.057922], [101.593528, 3.057976], [101.592267, 3.058765], [101.592131, 3.058822], [101.591774, 3.058865], [101.589623, 3.056861], [101.588622, 3.05474], [101.58862, 3.05438]]], &quot;type&quot;: &quot;Polygon&quot;}, &quot;id&quot;: &quot;277&quot;, &quot;properties&quot;: {&quot;area&quot;: 2.2205874000036723e-05, &quot;center&quot;: &quot;[101.59189172724199, 3.055025234545483]&quot;, &quot;isochrone_id&quot;: 131300, &quot;reachfactor&quot;: 0.7873, &quot;station_id&quot;: &quot;131&quot;, &quot;total_pop&quot;: 2562.0, &quot;type&quot;: &quot;Polygon&quot;, &quot;value&quot;: 300}, &quot;type&quot;: &quot;Feature&quot;}, {&quot;bbox&quot;: [101.617933, 3.044945, 101.622058, 3.049789], &quot;geometry&quot;: {&quot;coordinates&quot;: [[[101.617933, 3.047109], [101.618001, 3.046756], [101.61848, 3.045812], [101.619246, 3.044996], [101.619495, 3.044945], [101.619547, 3.044952], [101.620438, 3.046449], [101.620708, 3.04703], [101.622058, 3.049789], [101.61834, 3.048898], [101.618009, 3.048755], [101.617952, 3.048673], [101.617933, 3.047109]]], &quot;type&quot;: &quot;Polygon&quot;}, &quot;id&quot;: &quot;279&quot;, &quot;properties&quot;: {&quot;area&quot;: 1.0939809499966916e-05, &quot;center&quot;: &quot;[101.62087393320175, 3.048133231741604]&quot;, &quot;isochrone_id&quot;: 93300, &quot;reachfactor&quot;: 0.3878, &quot;station_id&quot;: &quot;93&quot;, &quot;total_pop&quot;: 620.0, &quot;type&quot;: &quot;Polygon&quot;, &quot;value&quot;: 300}, &quot;type&quot;: &quot;Feature&quot;}, {&quot;bbox&quot;: [101.613246, 3.03147, 101.617019, 3.036827], &quot;geometry&quot;: {&quot;coordinates&quot;: [[[101.613617, 3.034662], [101.613487, 3.034251], [101.613246, 3.033214], [101.613303, 3.033023], [101.613864, 3.032208], [101.614462, 3.031849], [101.614645, 3.031757], [101.614954, 3.031598], [101.615217, 3.03147], [101.615362, 3.031471], [101.616825, 3.033291], [101.617019, 3.03365], [101.61701, 3.036827], [101.616459, 3.036745], [101.616032, 3.036565], [101.615872, 3.036464], [101.615373, 3.036126], [101.613748, 3.035072], [101.613617, 3.034662]]], &quot;type&quot;: &quot;Polygon&quot;}, &quot;id&quot;: &quot;282&quot;, &quot;properties&quot;: {&quot;area&quot;: 1.3546537999980075e-05, &quot;center&quot;: &quot;[101.61606836018456, 3.0333071327636474]&quot;, &quot;isochrone_id&quot;: 94300, &quot;reachfactor&quot;: 0.4803, &quot;station_id&quot;: &quot;94&quot;, &quot;total_pop&quot;: 328.0, &quot;type&quot;: &quot;Polygon&quot;, &quot;value&quot;: 300}, &quot;type&quot;: &quot;Feature&quot;}, {&quot;bbox&quot;: [101.610329, 3.020492, 101.616664, 3.026173], &quot;geometry&quot;: {&quot;coordinates&quot;: [[[101.6147742612142, 3.025378768427438], [101.615244, 3.025566], [101.615475, 3.025506], [101.616664, 3.023475], [101.616633, 3.023289], [101.616602, 3.023104], [101.616571, 3.022918], [101.61654, 3.022733], [101.616296, 3.022148], [101.614862, 3.021034], [101.613056, 3.020613], [101.612937087963, 3.020638674189815], [101.612866, 3.020588], [101.612702, 3.020517], [101.612515, 3.020492], [101.612378, 3.020502], [101.611052, 3.021114], [101.610865, 3.021328], [101.610782, 3.021522], [101.610329, 3.023501], [101.610369, 3.023859], [101.611527, 3.024788], [101.612009, 3.025169], [101.614034, 3.026129], [101.614391, 3.026173], [101.6147742612142, 3.025378768427438]]], &quot;type&quot;: &quot;Polygon&quot;}, &quot;id&quot;: &quot;285&quot;, &quot;properties&quot;: {&quot;area&quot;: 2.491500356433145e-05, &quot;center&quot;: &quot;[101.6141298, 3.0222312]&quot;, &quot;isochrone_id&quot;: 95300, &quot;reachfactor&quot;: 0.6697, &quot;station_id&quot;: &quot;95&quot;, &quot;total_pop&quot;: 1583.0, &quot;type&quot;: &quot;Polygon&quot;, &quot;value&quot;: 300}, &quot;type&quot;: &quot;Feature&quot;}, {&quot;bbox&quot;: [101.612143, 3.012353, 101.615074, 3.018785], &quot;geometry&quot;: {&quot;coordinates&quot;: [[[101.612149, 3.014117], [101.612498, 3.017045], [101.612621, 3.017706], [101.612883, 3.018762], [101.613021, 3.018785], [101.613375, 3.018718], [101.614363, 3.017564], [101.614557, 3.017279], [101.61502, 3.016549], [101.615074, 3.016359], [101.614986, 3.014219], [101.614985, 3.014214], [101.614394, 3.013522], [101.613256, 3.012508], [101.612931, 3.012353], [101.612217, 3.013695], [101.6122096437315, 3.013710308991138], [101.612209, 3.01371], [101.61218, 3.013772], [101.612143, 3.013913], [101.612149, 3.014117]]], &quot;type&quot;: &quot;Polygon&quot;}, &quot;id&quot;: &quot;288&quot;, &quot;properties&quot;: {&quot;area&quot;: 1.2961861936060569e-05, &quot;center&quot;: &quot;[101.6125364, 3.0162107]&quot;, &quot;isochrone_id&quot;: 96300, &quot;reachfactor&quot;: 0.3173, &quot;station_id&quot;: &quot;96&quot;, &quot;total_pop&quot;: 497.0, &quot;type&quot;: &quot;Polygon&quot;, &quot;value&quot;: 300}, &quot;type&quot;: &quot;Feature&quot;}, {&quot;bbox&quot;: [101.601145, 3.004923, 101.608638, 3.011096], &quot;geometry&quot;: {&quot;coordinates&quot;: [[[101.601145, 3.00769], [101.604235, 3.004923], [101.604595, 3.004927], [101.606738, 3.006098], [101.608377, 3.007461], [101.608638, 3.007709], [101.608535, 3.009526], [101.608286, 3.009786], [101.606026, 3.011095], [101.605666, 3.011096], [101.604217, 3.010923], [101.603571, 3.010284], [101.601151, 3.00805], [101.601145, 3.00769]]], &quot;type&quot;: &quot;Polygon&quot;}, &quot;id&quot;: &quot;291&quot;, &quot;properties&quot;: {&quot;area&quot;: 2.975118500000713e-05, &quot;center&quot;: &quot;[101.6052521920149, 3.007877902677629]&quot;, &quot;isochrone_id&quot;: 97300, &quot;reachfactor&quot;: 1.0, &quot;station_id&quot;: &quot;97&quot;, &quot;total_pop&quot;: 4577.0, &quot;type&quot;: &quot;Polygon&quot;, &quot;value&quot;: 300}, &quot;type&quot;: &quot;Feature&quot;}, {&quot;bbox&quot;: [101.593763, 2.99623, 101.599207, 3.003477], &quot;geometry&quot;: {&quot;coordinates&quot;: [[[101.59511, 2.996362], [101.595246, 2.996296], [101.595309, 2.996273], [101.595445, 2.99623], [101.595786, 2.996261], [101.597943, 2.997186], [101.599187, 2.999125], [101.599207, 2.999464], [101.598194, 3.003348], [101.597858, 3.003477], [101.597689, 3.003392], [101.595743, 3.00242], [101.594329, 3.000216], [101.593763, 2.998753], [101.59511, 2.996362]]], &quot;type&quot;: &quot;Polygon&quot;}, &quot;id&quot;: &quot;293&quot;, &quot;properties&quot;: {&quot;area&quot;: 2.556780250002986e-05, &quot;center&quot;: &quot;[101.59667566253636, 2.9999163681054823]&quot;, &quot;isochrone_id&quot;: 98300, &quot;reachfactor&quot;: 0.9064, &quot;station_id&quot;: &quot;98&quot;, &quot;total_pop&quot;: 2727.0, &quot;type&quot;: &quot;Polygon&quot;, &quot;value&quot;: 300}, &quot;type&quot;: &quot;Feature&quot;}, {&quot;bbox&quot;: [101.691819, 3.169373, 101.698693, 3.176528], &quot;geometry&quot;: {&quot;coordinates&quot;: [[[101.6985902470979, 3.17431967045705], [101.698627, 3.174298], [101.698693, 3.173944], [101.698517, 3.171496], [101.69849, 3.171408], [101.697432, 3.169903], [101.697068, 3.169596], [101.696802, 3.16945], [101.696475, 3.169401], [101.696241, 3.169373], [101.695403, 3.169687], [101.6948119722682, 3.170044997608723], [101.694648, 3.170026], [101.692519, 3.171226], [101.69233, 3.171398], [101.692255, 3.171471], [101.692078, 3.171655], [101.691819, 3.172555], [101.691868, 3.172712], [101.692683, 3.174502], [101.692945, 3.174997], [101.693836, 3.175915], [101.694063, 3.176093], [101.694221, 3.176162], [101.696125, 3.176528], [101.698474, 3.174631], [101.698527, 3.174532], [101.6985902470979, 3.17431967045705]]], &quot;type&quot;: &quot;Polygon&quot;}, &quot;id&quot;: &quot;296&quot;, &quot;properties&quot;: {&quot;area&quot;: 3.494068553656986e-05, &quot;center&quot;: &quot;[101.6954278, 3.1725154]&quot;, &quot;isochrone_id&quot;: 99300, &quot;reachfactor&quot;: 1.0, &quot;station_id&quot;: &quot;99&quot;, &quot;total_pop&quot;: 4072.5, &quot;type&quot;: &quot;Polygon&quot;, &quot;value&quot;: 300}, &quot;type&quot;: &quot;Feature&quot;}, {&quot;bbox&quot;: [101.572365, 2.992874, 101.576711, 2.996977], &quot;geometry&quot;: {&quot;coordinates&quot;: [[[101.57237, 2.996611], [101.572376, 2.995621], [101.572686, 2.994892], [101.574122, 2.993034], [101.574444, 2.992874], [101.575116, 2.992878], [101.576056, 2.994462], [101.576224, 2.994784], [101.576396, 2.995115], [101.57649, 2.99532], [101.576584, 2.995525], [101.576711, 2.996348], [101.5764, 2.996506], [101.576195, 2.996593], [101.576003, 2.996673], [101.575751, 2.996742], [101.575522, 2.996802], [101.575009, 2.9969], [101.574644, 2.996947], [101.574295, 2.99697], [101.573828, 2.996974], [101.57336, 2.996977], [101.572411, 2.996972], [101.572365, 2.996971], [101.57237, 2.996611]]], &quot;type&quot;: &quot;Polygon&quot;}, &quot;id&quot;: &quot;299&quot;, &quot;properties&quot;: {&quot;area&quot;: 1.2679395499972406e-05, &quot;center&quot;: &quot;[101.57548924114543, 2.9958655024106937]&quot;, &quot;isochrone_id&quot;: 100300, &quot;reachfactor&quot;: 0.4495, &quot;station_id&quot;: &quot;100&quot;, &quot;total_pop&quot;: 136.0, &quot;type&quot;: &quot;Polygon&quot;, &quot;value&quot;: 300}, &quot;type&quot;: &quot;Feature&quot;}, {&quot;bbox&quot;: [101.690564, 3.16362, 101.697391, 3.170017], &quot;geometry&quot;: {&quot;coordinates&quot;: [[[101.6906891230313, 3.16782210383714], [101.690734, 3.168175], [101.691128, 3.169353], [101.69133, 3.169651], [101.6919331583942, 3.169671618944746], [101.691951, 3.169674], [101.694343, 3.170015], [101.694366, 3.170017], [101.694646, 3.16979], [101.696091, 3.168293], [101.696597, 3.167692], [101.697094, 3.167016], [101.697391, 3.166554], [101.697321, 3.166201], [101.697046, 3.165895], [101.696953, 3.165817], [101.696382, 3.165331], [101.695636, 3.164838], [101.694805, 3.164271], [101.693616, 3.16362], [101.6929896905698, 3.163707836078626], [101.692942, 3.163682], [101.69263, 3.163861], [101.691107, 3.165733], [101.690817, 3.166213], [101.690564, 3.166702], [101.690669, 3.167764], [101.6906891230313, 3.16782210383714]]], &quot;type&quot;: &quot;Polygon&quot;}, &quot;id&quot;: &quot;302&quot;, &quot;properties&quot;: {&quot;area&quot;: 2.9552752786420565e-05, &quot;center&quot;: &quot;[101.69373096126859, 3.1670089963140877]&quot;, &quot;isochrone_id&quot;: 101300, &quot;reachfactor&quot;: 0.95355, &quot;station_id&quot;: &quot;101&quot;, &quot;total_pop&quot;: 4235.0, &quot;type&quot;: &quot;Polygon&quot;, &quot;value&quot;: 300}, &quot;type&quot;: &quot;Feature&quot;}, {&quot;bbox&quot;: [101.692694, 3.157982, 101.696902, 3.162908], &quot;geometry&quot;: {&quot;coordinates&quot;: [[[101.692695, 3.161223], [101.69274, 3.161028], [101.694315, 3.157982], [101.694675, 3.157985], [101.695194, 3.158349], [101.696871, 3.159842], [101.696902, 3.159925], [101.696731, 3.161047], [101.6967, 3.16114], [101.696636, 3.161314], [101.696215, 3.162305], [101.696181, 3.162372], [101.696057, 3.162618], [101.695919, 3.162879], [101.69583, 3.162905], [101.695612, 3.162908], [101.694391, 3.162408], [101.692822, 3.16181], [101.692694, 3.161707], [101.692695, 3.161223]]], &quot;type&quot;: &quot;Polygon&quot;}, &quot;id&quot;: &quot;305&quot;, &quot;properties&quot;: {&quot;area&quot;: 1.3321283499989292e-05, &quot;center&quot;: &quot;[101.6940522, 3.1611555]&quot;, &quot;isochrone_id&quot;: 102300, &quot;reachfactor&quot;: 0.4723, &quot;station_id&quot;: &quot;102&quot;, &quot;total_pop&quot;: 1511.0, &quot;type&quot;: &quot;Polygon&quot;, &quot;value&quot;: 300}, &quot;type&quot;: &quot;Feature&quot;}, {&quot;bbox&quot;: [101.691929, 3.151728, 101.697425, 3.159264], &quot;geometry&quot;: {&quot;coordinates&quot;: [[[101.691929, 3.153522], [101.69357, 3.151989], [101.694554, 3.151728], [101.694561, 3.151728], [101.694607, 3.151729], [101.694651, 3.15173], [101.694934, 3.151916], [101.696271, 3.153165], [101.697315, 3.154529], [101.697425, 3.154684], [101.697221, 3.156951], [101.697135, 3.157235], [101.696155, 3.158072], [101.694992, 3.159108], [101.69496, 3.159137], [101.694826, 3.159186], [101.694475, 3.159264], [101.693804, 3.158646], [101.692651, 3.156562], [101.691929, 3.153522]]], &quot;type&quot;: &quot;Polygon&quot;}, &quot;id&quot;: &quot;308&quot;, &quot;properties&quot;: {&quot;area&quot;: 2.7507660000005792e-05, &quot;center&quot;: &quot;[101.69453289220279, 3.1555503765897095]&quot;, &quot;isochrone_id&quot;: 103300, &quot;reachfactor&quot;: 0.975, &quot;station_id&quot;: &quot;103&quot;, &quot;total_pop&quot;: 4457.0, &quot;type&quot;: &quot;Polygon&quot;, &quot;value&quot;: 300}, &quot;type&quot;: &quot;Feature&quot;}, {&quot;bbox&quot;: [101.693195, 3.145773, 101.699463, 3.152677], &quot;geometry&quot;: {&quot;coordinates&quot;: [[[101.6992738732619, 3.147684916404202], [101.699269, 3.14705], [101.699248, 3.14669], [101.69919, 3.146624], [101.698933, 3.146372], [101.696136, 3.145773], [101.694883, 3.145847], [101.694532, 3.145925], [101.694059, 3.147093], [101.6937939679587, 3.148332819889073], [101.693231, 3.149571], [101.693195, 3.149729], [101.693346, 3.151336], [101.694153, 3.152079], [101.694495, 3.152355], [101.694523, 3.152373], [101.694601, 3.152394], [101.69496, 3.152409], [101.695897, 3.152444], [101.695972, 3.152448], [101.6959833095557, 3.152446272366086], [101.696974, 3.15266], [101.698576, 3.152677], [101.698728, 3.152624], [101.698975, 3.152411], [101.698978, 3.152399], [101.699058, 3.15207], [101.699463, 3.148735], [101.699429, 3.14846], [101.6992738732619, 3.147684916404202]]], &quot;type&quot;: &quot;Polygon&quot;}, &quot;id&quot;: &quot;311&quot;, &quot;properties&quot;: {&quot;area&quot;: 3.605206774482164e-05, &quot;center&quot;: &quot;[101.6966656, 3.1495984]&quot;, &quot;isochrone_id&quot;: 104300, &quot;reachfactor&quot;: 1.0, &quot;station_id&quot;: &quot;104&quot;, &quot;total_pop&quot;: 4042.0, &quot;type&quot;: &quot;Polygon&quot;, &quot;value&quot;: 300}, &quot;type&quot;: &quot;Feature&quot;}, {&quot;bbox&quot;: [101.698022, 3.144297, 101.703219, 3.147301], &quot;geometry&quot;: {&quot;coordinates&quot;: [[[101.698048, 3.145074], [101.698856, 3.144297], [101.699216, 3.144299], [101.703149, 3.14519], [101.703219, 3.145543], [101.703206, 3.145748], [101.702522, 3.146411], [101.700873, 3.147301], [101.698907, 3.146912], [101.69865, 3.14666], [101.698055, 3.14551], [101.698022, 3.145433], [101.698048, 3.145074]]], &quot;type&quot;: &quot;Polygon&quot;}, &quot;id&quot;: &quot;314&quot;, &quot;properties&quot;: {&quot;area&quot;: 1.0548300499999875e-05, &quot;center&quot;: &quot;[101.7014318, 3.1447304]&quot;, &quot;isochrone_id&quot;: 105300, &quot;reachfactor&quot;: 0.3739, &quot;station_id&quot;: &quot;105&quot;, &quot;total_pop&quot;: 1017.0, &quot;type&quot;: &quot;Polygon&quot;, &quot;value&quot;: 300}, &quot;type&quot;: &quot;Feature&quot;}, {&quot;bbox&quot;: [101.703215, 3.13676, 101.709122, 3.142225], &quot;geometry&quot;: {&quot;coordinates&quot;: [[[101.703215, 3.141255], [101.704056, 3.137534], [101.704351, 3.137328], [101.705529, 3.13676], [101.70805, 3.137087], [101.708982, 3.137215], [101.709074, 3.137267], [101.709104, 3.137311], [101.709122, 3.137472], [101.708273, 3.141985], [101.708125, 3.142081], [101.707883, 3.142225], [101.706217, 3.142099], [101.703446, 3.141744], [101.703248, 3.141443], [101.703215, 3.141255]]], &quot;type&quot;: &quot;Polygon&quot;}, &quot;id&quot;: &quot;317&quot;, &quot;properties&quot;: {&quot;area&quot;: 2.542028900000737e-05, &quot;center&quot;: &quot;[101.7061513, 3.1397467]&quot;, &quot;isochrone_id&quot;: 106300, &quot;reachfactor&quot;: 0.9011, &quot;station_id&quot;: &quot;106&quot;, &quot;total_pop&quot;: 3367.0, &quot;type&quot;: &quot;Polygon&quot;, &quot;value&quot;: 300}, &quot;type&quot;: &quot;Feature&quot;}, {&quot;bbox&quot;: [101.709052, 3.155866, 101.716205, 3.161438], &quot;geometry&quot;: {&quot;coordinates&quot;: [[[101.7105321846154, 3.160503461538462], [101.711496, 3.161273], [101.713075, 3.161438], [101.715197, 3.160736], [101.715889, 3.160497], [101.716187, 3.159983], [101.716205, 3.159934], [101.715935, 3.158057], [101.715413, 3.156659], [101.715245, 3.156341], [101.714179, 3.15594], [101.713712, 3.155866], [101.711587, 3.156052], [101.710819, 3.156716], [101.7107333956671, 3.156821986316975], [101.710444, 3.157116], [101.709248, 3.158607], [101.709216, 3.158653], [101.709056, 3.158918], [101.709052, 3.158925], [101.709074, 3.158984], [101.709194, 3.15931], [101.70944, 3.159853], [101.709481, 3.159935], [101.709794, 3.160112], [101.7105321846154, 3.160503461538462]]], &quot;type&quot;: &quot;Polygon&quot;}, &quot;id&quot;: &quot;322&quot;, &quot;properties&quot;: {&quot;area&quot;: 2.9386236032166847e-05, &quot;center&quot;: &quot;[101.7125217751169, 3.1588555818871913]&quot;, &quot;isochrone_id&quot;: 108300, &quot;reachfactor&quot;: 0.98395, &quot;station_id&quot;: &quot;108&quot;, &quot;total_pop&quot;: 4891.5, &quot;type&quot;: &quot;Polygon&quot;, &quot;value&quot;: 300}, &quot;type&quot;: &quot;Feature&quot;}, {&quot;bbox&quot;: [101.703544, 3.159691, 101.710538, 3.164144], &quot;geometry&quot;: {&quot;coordinates&quot;: [[[101.7049508377948, 3.163849810867441], [101.704962, 3.163877], [101.705036, 3.163951], [101.706151, 3.164144], [101.708032, 3.164055], [101.710344, 3.162793], [101.710538, 3.16249], [101.70988, 3.15996], [101.709844, 3.159864], [101.709529, 3.159691], [101.709039, 3.159843], [101.705799, 3.16098], [101.704403, 3.161356], [101.704058, 3.16146], [101.703544, 3.162188], [101.70357, 3.162335], [101.703608, 3.162504], [101.7049508377948, 3.163849810867441]]], &quot;type&quot;: &quot;Polygon&quot;}, &quot;id&quot;: &quot;325&quot;, &quot;properties&quot;: {&quot;area&quot;: 2.0396721311101356e-05, &quot;center&quot;: &quot;[101.70730140101605, 3.1615280987426115]&quot;, &quot;isochrone_id&quot;: 109300, &quot;reachfactor&quot;: 0.62435, &quot;station_id&quot;: &quot;109&quot;, &quot;total_pop&quot;: 1993.0, &quot;type&quot;: &quot;Polygon&quot;, &quot;value&quot;: 300}, &quot;type&quot;: &quot;Feature&quot;}, {&quot;bbox&quot;: [101.699158, 3.153658, 101.705197, 3.159822], &quot;geometry&quot;: {&quot;coordinates&quot;: [[[101.69917, 3.157397], [101.699845, 3.154564], [101.700815, 3.153839], [101.701126, 3.153658], [101.70493, 3.156133], [101.705197, 3.156449], [101.705018, 3.15688], [101.702207, 3.159706], [101.701866, 3.159822], [101.7013, 3.159725], [101.700604, 3.159398], [101.699616, 3.158479], [101.699549, 3.158417], [101.699158, 3.157451], [101.69917, 3.157397]]], &quot;type&quot;: &quot;Polygon&quot;}, &quot;id&quot;: &quot;328&quot;, &quot;properties&quot;: {&quot;area&quot;: 2.285080250000951e-05, &quot;center&quot;: &quot;[101.70192674065594, 3.156964849023468]&quot;, &quot;isochrone_id&quot;: 110300, &quot;reachfactor&quot;: 0.81, &quot;station_id&quot;: &quot;110&quot;, &quot;total_pop&quot;: 3682.0, &quot;type&quot;: &quot;Polygon&quot;, &quot;value&quot;: 300}, &quot;type&quot;: &quot;Feature&quot;}, {&quot;bbox&quot;: [101.693195, 3.145773, 101.699463, 3.152677], &quot;geometry&quot;: {&quot;coordinates&quot;: [[[101.6992738732619, 3.147684916404202], [101.699269, 3.14705], [101.699248, 3.14669], [101.69919, 3.146624], [101.698933, 3.146372], [101.696136, 3.145773], [101.694883, 3.145847], [101.694532, 3.145925], [101.694059, 3.147093], [101.6937939679587, 3.148332819889073], [101.693231, 3.149571], [101.693195, 3.149729], [101.693346, 3.151336], [101.694153, 3.152079], [101.694495, 3.152355], [101.694523, 3.152373], [101.694601, 3.152394], [101.69496, 3.152409], [101.695897, 3.152444], [101.695972, 3.152448], [101.6959833095557, 3.152446272366086], [101.696974, 3.15266], [101.698576, 3.152677], [101.698728, 3.152624], [101.698975, 3.152411], [101.698978, 3.152399], [101.699058, 3.15207], [101.699463, 3.148735], [101.699429, 3.14846], [101.6992738732619, 3.147684916404202]]], &quot;type&quot;: &quot;Polygon&quot;}, &quot;id&quot;: &quot;331&quot;, &quot;properties&quot;: {&quot;area&quot;: 3.605206774482164e-05, &quot;center&quot;: &quot;[101.6966656, 3.1495984]&quot;, &quot;isochrone_id&quot;: 111300, &quot;reachfactor&quot;: 1.0, &quot;station_id&quot;: &quot;111&quot;, &quot;total_pop&quot;: 4042.0, &quot;type&quot;: &quot;Polygon&quot;, &quot;value&quot;: 300}, &quot;type&quot;: &quot;Feature&quot;}, {&quot;bbox&quot;: [101.727869, 3.163244, 101.735129, 3.168347], &quot;geometry&quot;: {&quot;coordinates&quot;: [[[101.727914, 3.165161], [101.728251, 3.16418], [101.729094, 3.163802], [101.731487, 3.163244], [101.733022, 3.164055], [101.734892, 3.165484], [101.735102, 3.165759], [101.735129, 3.165882], [101.735129, 3.165909], [101.734977, 3.166065], [101.734032, 3.166928], [101.733849, 3.167024], [101.731182, 3.168309], [101.730628, 3.168347], [101.730277, 3.168263], [101.728694, 3.167436], [101.727869, 3.165519], [101.727914, 3.165161]]], &quot;type&quot;: &quot;Polygon&quot;}, &quot;id&quot;: &quot;333&quot;, &quot;properties&quot;: {&quot;area&quot;: 2.460301650000905e-05, &quot;center&quot;: &quot;[101.7314751, 3.1651901]&quot;, &quot;isochrone_id&quot;: 141300, &quot;reachfactor&quot;: 0.8721, &quot;station_id&quot;: &quot;141&quot;, &quot;total_pop&quot;: 2032.0, &quot;type&quot;: &quot;Polygon&quot;, &quot;value&quot;: 300}, &quot;type&quot;: &quot;Feature&quot;}, {&quot;bbox&quot;: [101.693254, 3.138625, 101.698129, 3.145375], &quot;geometry&quot;: {&quot;coordinates&quot;: [[[101.693254, 3.141124], [101.693513, 3.140718], [101.694836, 3.138867], [101.695092, 3.138625], [101.695445, 3.138695], [101.697293, 3.140024], [101.6979, 3.141148], [101.698129, 3.142344], [101.698078, 3.1427], [101.697167, 3.144075], [101.696378, 3.145138], [101.69622, 3.145294], [101.695934, 3.145369], [101.695574, 3.145375], [101.694958, 3.145343], [101.694827, 3.145284], [101.694357, 3.144841], [101.694127, 3.14461], [101.693254, 3.141124]]], &quot;type&quot;: &quot;Polygon&quot;}, &quot;id&quot;: &quot;335&quot;, &quot;properties&quot;: {&quot;area&quot;: 2.2356499000020162e-05, &quot;center&quot;: &quot;[101.69531014062251, 3.1424390028966136]&quot;, &quot;isochrone_id&quot;: 112300, &quot;reachfactor&quot;: 0.7925, &quot;station_id&quot;: &quot;112&quot;, &quot;total_pop&quot;: 1796.0, &quot;type&quot;: &quot;Polygon&quot;, &quot;value&quot;: 300}, &quot;type&quot;: &quot;Feature&quot;}, {&quot;bbox&quot;: [101.684292, 3.131338, 101.689421, 3.137046], &quot;geometry&quot;: {&quot;coordinates&quot;: [[[101.684387, 3.133401], [101.684442, 3.133186], [101.686289, 3.131381], [101.686887, 3.131338], [101.687311, 3.131348], [101.68867, 3.131577], [101.688916, 3.13184], [101.689403, 3.133379], [101.689421, 3.133497], [101.689296, 3.134405], [101.688633, 3.135991], [101.687763, 3.136527], [101.687685, 3.136573], [101.68756, 3.136597], [101.685638, 3.137046], [101.685317, 3.136882], [101.684292, 3.134016], [101.684387, 3.133401]]], &quot;type&quot;: &quot;Polygon&quot;}, &quot;id&quot;: &quot;338&quot;, &quot;properties&quot;: {&quot;area&quot;: 2.1777069499996028e-05, &quot;center&quot;: &quot;[101.68652108831382, 3.13405950436688]&quot;, &quot;isochrone_id&quot;: 113300, &quot;reachfactor&quot;: 0.7719, &quot;station_id&quot;: &quot;113&quot;, &quot;total_pop&quot;: 2404.0, &quot;type&quot;: &quot;Polygon&quot;, &quot;value&quot;: 300}, &quot;type&quot;: &quot;Feature&quot;}, {&quot;bbox&quot;: [101.676452, 3.124228, 101.681785, 3.131149], &quot;geometry&quot;: {&quot;coordinates&quot;: [[[101.676452, 3.126526], [101.67711, 3.124427], [101.677409, 3.124228], [101.680072, 3.125613], [101.680254, 3.125923], [101.681785, 3.130547], [101.681705, 3.130941], [101.681412, 3.131149], [101.677826, 3.130676], [101.676872, 3.130123], [101.676625, 3.12986], [101.676452, 3.126526]]], &quot;type&quot;: &quot;Polygon&quot;}, &quot;id&quot;: &quot;341&quot;, &quot;properties&quot;: {&quot;area&quot;: 2.537603050002457e-05, &quot;center&quot;: &quot;[101.67901934079306, 3.127618311022056]&quot;, &quot;isochrone_id&quot;: 114300, &quot;reachfactor&quot;: 0.8995, &quot;station_id&quot;: &quot;114&quot;, &quot;total_pop&quot;: 3455.0, &quot;type&quot;: &quot;Polygon&quot;, &quot;value&quot;: 300}, &quot;type&quot;: &quot;Feature&quot;}, {&quot;bbox&quot;: [101.670394, 3.115564, 101.675442, 3.122059], &quot;geometry&quot;: {&quot;coordinates&quot;: [[[101.670428, 3.116738], [101.672495, 3.115564], [101.672852, 3.115607], [101.675255, 3.118165], [101.675442, 3.121813], [101.67518, 3.122059], [101.67497, 3.121913], [101.671161, 3.119207], [101.670394, 3.117096], [101.670428, 3.116738]]], &quot;type&quot;: &quot;Polygon&quot;}, &quot;id&quot;: &quot;344&quot;, &quot;properties&quot;: {&quot;area&quot;: 1.876121300003846e-05, &quot;center&quot;: &quot;[101.67279765153405, 3.1187694025946326]&quot;, &quot;isochrone_id&quot;: 115300, &quot;reachfactor&quot;: 0.6651, &quot;station_id&quot;: &quot;115&quot;, &quot;total_pop&quot;: 1015.0, &quot;type&quot;: &quot;Polygon&quot;, &quot;value&quot;: 300}, &quot;type&quot;: &quot;Feature&quot;}, {&quot;bbox&quot;: [101.665065, 3.113401, 101.671452, 3.118757], &quot;geometry&quot;: {&quot;coordinates&quot;: [[[101.665065, 3.116596], [101.665181, 3.115867], [101.66528, 3.115654], [101.66539, 3.115426], [101.667457, 3.113401], [101.667817, 3.113404], [101.671367, 3.116727], [101.671452, 3.116891], [101.671438, 3.117251], [101.668276, 3.118757], [101.667844, 3.118611], [101.66615, 3.118018], [101.66519, 3.117205], [101.665085, 3.116955], [101.665065, 3.116596]]], &quot;type&quot;: &quot;Polygon&quot;}, &quot;id&quot;: &quot;347&quot;, &quot;properties&quot;: {&quot;area&quot;: 2.0618405000002608e-05, &quot;center&quot;: &quot;[101.6685528, 3.115614]&quot;, &quot;isochrone_id&quot;: 116300, &quot;reachfactor&quot;: 0.7309, &quot;station_id&quot;: &quot;116&quot;, &quot;total_pop&quot;: 1862.0, &quot;type&quot;: &quot;Polygon&quot;, &quot;value&quot;: 300}, &quot;type&quot;: &quot;Feature&quot;}, {&quot;bbox&quot;: [101.62063, 3.101783, 101.626466, 3.10845], &quot;geometry&quot;: {&quot;coordinates&quot;: [[[101.6207, 3.105281], [101.62063, 3.104219], [101.620756, 3.103847], [101.621496, 3.101865], [101.621847, 3.101783], [101.625141, 3.102111], [101.626304, 3.103333], [101.626452, 3.103764], [101.626466, 3.105332], [101.62621, 3.105585], [101.624267, 3.107541], [101.623039, 3.108411], [101.622756, 3.10845], [101.622635, 3.10839], [101.6218, 3.107559], [101.621778, 3.107537], [101.621214, 3.106979], [101.621006, 3.106778], [101.620788, 3.106491], [101.6207, 3.105281]]], &quot;type&quot;: &quot;Polygon&quot;}, &quot;id&quot;: &quot;348&quot;, &quot;properties&quot;: {&quot;area&quot;: 2.8564481000008896e-05, &quot;center&quot;: &quot;[101.62319633018465, 3.1048904055113793]&quot;, &quot;isochrone_id&quot;: 121300, &quot;reachfactor&quot;: 1.0, &quot;station_id&quot;: &quot;121&quot;, &quot;total_pop&quot;: 2757.0, &quot;type&quot;: &quot;Polygon&quot;, &quot;value&quot;: 300}, &quot;type&quot;: &quot;Feature&quot;}, {&quot;bbox&quot;: [101.658999, 3.111026, 101.665638, 3.117908], &quot;geometry&quot;: {&quot;coordinates&quot;: [[[101.659183, 3.113551], [101.658999, 3.11386], [101.659851, 3.114808], [101.663103, 3.117908], [101.663267, 3.117864], [101.663292, 3.117844], [101.665638, 3.115081], [101.665617, 3.114722], [101.664563, 3.113119], [101.664342, 3.112835], [101.662956, 3.111329], [101.662635, 3.11117], [101.662238, 3.111026], [101.661609, 3.111396], [101.659183, 3.113551]]], &quot;type&quot;: &quot;Polygon&quot;}, &quot;id&quot;: &quot;351&quot;, &quot;properties&quot;: {&quot;area&quot;: 2.495951799998627e-05, &quot;center&quot;: &quot;[101.6620724, 3.1146593]&quot;, &quot;isochrone_id&quot;: 117300, &quot;reachfactor&quot;: 0.8609, &quot;station_id&quot;: &quot;117&quot;, &quot;total_pop&quot;: 1952.0, &quot;type&quot;: &quot;Polygon&quot;, &quot;value&quot;: 300}, &quot;type&quot;: &quot;Feature&quot;}, {&quot;bbox&quot;: [101.719342, 3.216665, 101.725138, 3.222455], &quot;geometry&quot;: {&quot;coordinates&quot;: [[[101.719394, 3.222157], [101.71935, 3.22079], [101.719342, 3.219256], [101.719352, 3.219001], [101.719416, 3.218462], [101.719547, 3.218336], [101.719675, 3.218234], [101.724369, 3.216665], [101.724623, 3.216923], [101.724653, 3.217134], [101.724931, 3.21926], [101.725138, 3.221049], [101.724934, 3.221345], [101.722481, 3.222273], [101.720567, 3.222445], [101.719487, 3.222455], [101.719394, 3.222157]]], &quot;type&quot;: &quot;Polygon&quot;}, &quot;id&quot;: &quot;354&quot;, &quot;properties&quot;: {&quot;area&quot;: 2.598618550001088e-05, &quot;center&quot;: &quot;[101.72199698542184, 3.2195830788466053]&quot;, &quot;isochrone_id&quot;: 118300, &quot;reachfactor&quot;: 0.9211, &quot;station_id&quot;: &quot;118&quot;, &quot;total_pop&quot;: 6899.0, &quot;type&quot;: &quot;Polygon&quot;, &quot;value&quot;: 300}, &quot;type&quot;: &quot;Feature&quot;}, {&quot;bbox&quot;: [101.642635, 3.100218, 101.648659, 3.105688], &quot;geometry&quot;: {&quot;coordinates&quot;: [[[101.6467986464044, 3.101249995058589], [101.646379, 3.100713], [101.645936, 3.100251], [101.645878, 3.100218], [101.645815, 3.10022], [101.645321, 3.100279], [101.645189, 3.100371], [101.643992, 3.101554], [101.643793, 3.101854], [101.6436572381776, 3.10207415430661], [101.642928, 3.102762], [101.642635, 3.103428], [101.642918, 3.103951], [101.643256, 3.104292], [101.643332, 3.104367], [101.643414, 3.104408], [101.644582, 3.105006], [101.646627, 3.105676], [101.646747, 3.105688], [101.646991, 3.105667], [101.6472301199999, 3.105645440000005], [101.647292, 3.10564], [101.648416, 3.104103], [101.648659, 3.103124], [101.648562, 3.102777], [101.6467986464044, 3.101249995058589]]], &quot;type&quot;: &quot;Polygon&quot;}, &quot;id&quot;: &quot;357&quot;, &quot;properties&quot;: {&quot;area&quot;: 2.058490695262258e-05, &quot;center&quot;: &quot;[101.6454638, 3.1038598]&quot;, &quot;isochrone_id&quot;: 119300, &quot;reachfactor&quot;: 0.6938500000000001, &quot;station_id&quot;: &quot;119&quot;, &quot;total_pop&quot;: 1948.5, &quot;type&quot;: &quot;Polygon&quot;, &quot;value&quot;: 300}, &quot;type&quot;: &quot;Feature&quot;}, {&quot;bbox&quot;: [101.635184, 3.101981, 101.641225, 3.107454], &quot;geometry&quot;: {&quot;coordinates&quot;: [[[101.635223, 3.104498], [101.635749, 3.102402], [101.636089, 3.102284], [101.636405, 3.102245], [101.640046, 3.101981], [101.640354, 3.102167], [101.641207, 3.103588], [101.641225, 3.104502], [101.641171, 3.104857], [101.640701, 3.10616], [101.63978, 3.107239], [101.639659, 3.107324], [101.639324, 3.107454], [101.635184, 3.104856], [101.635223, 3.104498]]], &quot;type&quot;: &quot;Polygon&quot;}, &quot;id&quot;: &quot;360&quot;, &quot;properties&quot;: {&quot;area&quot;: 2.3481156500013064e-05, &quot;center&quot;: &quot;[101.63819343060233, 3.1044106602584773]&quot;, &quot;isochrone_id&quot;: 120300, &quot;reachfactor&quot;: 0.8324, &quot;station_id&quot;: &quot;120&quot;, &quot;total_pop&quot;: 2177.0, &quot;type&quot;: &quot;Polygon&quot;, &quot;value&quot;: 300}, &quot;type&quot;: &quot;Feature&quot;}, {&quot;bbox&quot;: [101.609288, 3.108392, 101.616326, 3.113833], &quot;geometry&quot;: {&quot;coordinates&quot;: [[[101.609288, 3.111284], [101.609348, 3.111108], [101.609407, 3.110947], [101.610507, 3.109233], [101.611052, 3.10855], [101.611118, 3.10847], [101.611469, 3.108392], [101.61611, 3.110004], [101.616326, 3.110293], [101.61496, 3.112731], [101.614665, 3.112885], [101.614374, 3.112951], [101.610866, 3.113833], [101.610735, 3.113776], [101.610584, 3.113669], [101.609362, 3.111636], [101.609288, 3.111284]]], &quot;type&quot;: &quot;Polygon&quot;}, &quot;id&quot;: &quot;365&quot;, &quot;properties&quot;: {&quot;area&quot;: 2.4763722999988888e-05, &quot;center&quot;: &quot;[101.612643, 3.1108192]&quot;, &quot;isochrone_id&quot;: 122300, &quot;reachfactor&quot;: 0.8778, &quot;station_id&quot;: &quot;122&quot;, &quot;total_pop&quot;: 2589.0, &quot;type&quot;: &quot;Polygon&quot;, &quot;value&quot;: 300}, &quot;type&quot;: &quot;Feature&quot;}, {&quot;bbox&quot;: [101.601253, 3.110565, 101.607947, 3.116664], &quot;geometry&quot;: {&quot;coordinates&quot;: [[[101.6075982229582, 3.11261521921596], [101.607679, 3.112006], [101.607604, 3.111654], [101.606294, 3.110681], [101.606084, 3.110565], [101.606015, 3.110565], [101.605951, 3.110571], [101.603031, 3.112129], [101.601253, 3.11352], [101.601294, 3.113877], [101.601994, 3.114508], [101.602177, 3.114668], [101.603229, 3.115521], [101.603307, 3.115586], [101.603692, 3.115907], [101.603993, 3.116149], [101.60507, 3.116664], [101.60543, 3.116646], [101.606553, 3.115564], [101.606969, 3.115109], [101.607028, 3.115045], [101.607703, 3.114278], [101.607947, 3.113885], [101.607921, 3.113683], [101.607895, 3.11348], [101.6075982229582, 3.11261521921596]]], &quot;type&quot;: &quot;Polygon&quot;}, &quot;id&quot;: &quot;368&quot;, &quot;properties&quot;: {&quot;area&quot;: 2.481272864487437e-05, &quot;center&quot;: &quot;[101.60451320852754, 3.1127643477236737]&quot;, &quot;isochrone_id&quot;: 123300, &quot;reachfactor&quot;: 0.7121, &quot;station_id&quot;: &quot;123&quot;, &quot;total_pop&quot;: 2932.0, &quot;type&quot;: &quot;Polygon&quot;, &quot;value&quot;: 300}, &quot;type&quot;: &quot;Feature&quot;}, {&quot;bbox&quot;: [101.588887, 3.110989, 101.593826, 3.115615], &quot;geometry&quot;: {&quot;coordinates&quot;: [[[101.589691, 3.112408], [101.590545, 3.111397], [101.591049, 3.111239], [101.591554, 3.111081], [101.591692, 3.111068], [101.593101, 3.110994], [101.593462, 3.110991], [101.593823, 3.110989], [101.593826, 3.111349], [101.593773, 3.111927], [101.59254, 3.114436], [101.592417, 3.114545], [101.59132, 3.115512], [101.591189, 3.115615], [101.590829, 3.115608], [101.589488, 3.114218], [101.589065, 3.113658], [101.588887, 3.113345], [101.589691, 3.112408]]], &quot;type&quot;: &quot;Polygon&quot;}, &quot;id&quot;: &quot;371&quot;, &quot;properties&quot;: {&quot;area&quot;: 1.4196869499988497e-05, &quot;center&quot;: &quot;[101.59103031076002, 3.11209650476182]&quot;, &quot;isochrone_id&quot;: 124300, &quot;reachfactor&quot;: 0.5033, &quot;station_id&quot;: &quot;124&quot;, &quot;total_pop&quot;: 1645.0, &quot;type&quot;: &quot;Polygon&quot;, &quot;value&quot;: 300}, &quot;type&quot;: &quot;Feature&quot;}, {&quot;bbox&quot;: [101.583839, 3.105177, 101.588295, 3.111301], &quot;geometry&quot;: {&quot;coordinates&quot;: [[[101.584024, 3.108153], [101.584384, 3.107725], [101.586545, 3.105177], [101.586879, 3.105313], [101.588073, 3.109441], [101.588289, 3.110851], [101.588295, 3.111211], [101.587487, 3.111301], [101.583981, 3.108991], [101.583839, 3.10866], [101.584024, 3.108153]]], &quot;type&quot;: &quot;Polygon&quot;}, &quot;id&quot;: &quot;374&quot;, &quot;properties&quot;: {&quot;area&quot;: 1.4748401499992036e-05, &quot;center&quot;: &quot;[101.58656076352584, 3.108485000003698]&quot;, &quot;isochrone_id&quot;: 125300, &quot;reachfactor&quot;: 0.5228, &quot;station_id&quot;: &quot;125&quot;, &quot;total_pop&quot;: 729.0, &quot;type&quot;: &quot;Polygon&quot;, &quot;value&quot;: 300}, &quot;type&quot;: &quot;Feature&quot;}, {&quot;bbox&quot;: [101.587365, 3.091797, 101.593727, 3.097578], &quot;geometry&quot;: {&quot;coordinates&quot;: [[[101.5912351149371, 3.093355585580934], [101.590638, 3.092326], [101.590479, 3.092219], [101.589658, 3.091799], [101.589298, 3.091797], [101.587476, 3.093988], [101.587365, 3.094265], [101.587413, 3.094342], [101.588421, 3.095554], [101.5896483876881, 3.096369720239408], [101.589796, 3.097381], [101.589887, 3.097443], [101.590221, 3.097578], [101.591, 3.097268], [101.593111, 3.096232], [101.593399, 3.096015], [101.593466, 3.095623], [101.593495, 3.095456], [101.593727, 3.09415], [101.593535, 3.093846], [101.591307, 3.093339], [101.5912351149371, 3.093355585580934]]], &quot;type&quot;: &quot;Polygon&quot;}, &quot;id&quot;: &quot;377&quot;, &quot;properties&quot;: {&quot;area&quot;: 2.1074922850342848e-05, &quot;center&quot;: &quot;[101.5901459, 3.0954324]&quot;, &quot;isochrone_id&quot;: 126300, &quot;reachfactor&quot;: 0.506, &quot;station_id&quot;: &quot;126&quot;, &quot;total_pop&quot;: 854.0, &quot;type&quot;: &quot;Polygon&quot;, &quot;value&quot;: 300}, &quot;type&quot;: &quot;Feature&quot;}, {&quot;bbox&quot;: [101.585485, 3.081942, 101.590365, 3.086412], &quot;geometry&quot;: {&quot;coordinates&quot;: [[[101.585485, 3.084014], [101.586189, 3.083214], [101.587248, 3.081966], [101.587282, 3.081942], [101.588662, 3.082167], [101.590346, 3.083788], [101.590365, 3.084147], [101.589183, 3.086283], [101.589087, 3.086373], [101.58899, 3.086412], [101.588854, 3.086409], [101.586805, 3.086354], [101.586457, 3.086336], [101.586048, 3.086283], [101.585699, 3.086192], [101.585485, 3.084014]]], &quot;type&quot;: &quot;Polygon&quot;}, &quot;id&quot;: &quot;380&quot;, &quot;properties&quot;: {&quot;area&quot;: 1.6118582499989264e-05, &quot;center&quot;: &quot;[101.58727306162761, 3.084861093474182]&quot;, &quot;isochrone_id&quot;: 127300, &quot;reachfactor&quot;: 0.5714, &quot;station_id&quot;: &quot;127&quot;, &quot;total_pop&quot;: 893.0, &quot;type&quot;: &quot;Polygon&quot;, &quot;value&quot;: 300}, &quot;type&quot;: &quot;Feature&quot;}, {&quot;bbox&quot;: [101.582827, 3.072132, 101.589389, 3.079846], &quot;geometry&quot;: {&quot;coordinates&quot;: [[[101.5868844529535, 3.073263458726801], [101.586922, 3.073087], [101.586922, 3.072727], [101.586453, 3.072284], [101.586246, 3.072137], [101.585886, 3.072132], [101.584099, 3.07342], [101.583145, 3.07424], [101.582827, 3.074722], [101.584197, 3.077775], [101.584981, 3.079], [101.585126, 3.079111], [101.5852262327177, 3.079170851191161], [101.585223, 3.079209], [101.584951, 3.07966], [101.585259, 3.079846], [101.585529, 3.079783], [101.587922, 3.07881], [101.588612, 3.078451], [101.588958, 3.078102], [101.5893, 3.07742], [101.589389, 3.076334], [101.589221, 3.075958], [101.588814, 3.075134], [101.588133, 3.074341], [101.587221, 3.073398], [101.5868844529535, 3.073263458726801]]], &quot;type&quot;: &quot;Polygon&quot;}, &quot;id&quot;: &quot;383&quot;, &quot;properties&quot;: {&quot;area&quot;: 3.126775123421349e-05, &quot;center&quot;: &quot;[101.5859436, 3.0756213]&quot;, &quot;isochrone_id&quot;: 128300, &quot;reachfactor&quot;: 0.6335500000000001, &quot;station_id&quot;: &quot;128&quot;, &quot;total_pop&quot;: 3279.0, &quot;type&quot;: &quot;Polygon&quot;, &quot;value&quot;: 300}, &quot;type&quot;: &quot;Feature&quot;}, {&quot;bbox&quot;: [101.728685, 3.203019, 101.735067, 3.208116], &quot;geometry&quot;: {&quot;coordinates&quot;: [[[101.728685, 3.207854], [101.730528, 3.204756], [101.730807, 3.204481], [101.731122, 3.204307], [101.733378, 3.203515], [101.734681, 3.203046], [101.734825, 3.203019], [101.735067, 3.203286], [101.734591, 3.207064], [101.734459, 3.207191], [101.728939, 3.208109], [101.728801, 3.208116], [101.728747, 3.208071], [101.728685, 3.207854]]], &quot;type&quot;: &quot;Polygon&quot;}, &quot;id&quot;: &quot;386&quot;, &quot;properties&quot;: {&quot;area&quot;: 1.9092299999981342e-05, &quot;center&quot;: &quot;[101.73179027405824, 3.205743676302279]&quot;, &quot;isochrone_id&quot;: 129300, &quot;reachfactor&quot;: 0.6767, &quot;station_id&quot;: &quot;129&quot;, &quot;total_pop&quot;: 4099.0, &quot;type&quot;: &quot;Polygon&quot;, &quot;value&quot;: 300}, &quot;type&quot;: &quot;Feature&quot;}, {&quot;bbox&quot;: [101.583717, 3.063324, 101.587771, 3.070737], &quot;geometry&quot;: {&quot;coordinates&quot;: [[[101.583718, 3.065901], [101.583717, 3.065541], [101.584234, 3.065021], [101.585155, 3.064094], [101.585388, 3.063861], [101.585722, 3.063537], [101.586087, 3.063324], [101.586098, 3.063324], [101.586323, 3.063496], [101.586341, 3.063527], [101.587771, 3.06862], [101.587771, 3.06898], [101.58636, 3.070567], [101.586247, 3.070683], [101.586058, 3.070737], [101.585698, 3.070737], [101.584505, 3.069557], [101.58418, 3.06922], [101.583718, 3.065901]]], &quot;type&quot;: &quot;Polygon&quot;}, &quot;id&quot;: &quot;389&quot;, &quot;properties&quot;: {&quot;area&quot;: 1.964163250002356e-05, &quot;center&quot;: &quot;[101.5859593, 3.0670669]&quot;, &quot;isochrone_id&quot;: 130300, &quot;reachfactor&quot;: 0.6962, &quot;station_id&quot;: &quot;130&quot;, &quot;total_pop&quot;: 1919.0, &quot;type&quot;: &quot;Polygon&quot;, &quot;value&quot;: 300}, &quot;type&quot;: &quot;Feature&quot;}, {&quot;bbox&quot;: [101.587129, 3.044692, 101.593055, 3.051894], &quot;geometry&quot;: {&quot;coordinates&quot;: [[[101.587129, 3.048301], [101.587509, 3.045484], [101.587917, 3.044754], [101.588131, 3.04471], [101.588408, 3.044692], [101.588491, 3.044708], [101.592809, 3.047145], [101.592981, 3.047529], [101.593043, 3.047887], [101.593055, 3.048072], [101.593053, 3.048242], [101.592072, 3.051894], [101.591712, 3.051893], [101.587491, 3.049828], [101.587254, 3.049557], [101.587129, 3.048301]]], &quot;type&quot;: &quot;Polygon&quot;}, &quot;id&quot;: &quot;394&quot;, &quot;properties&quot;: {&quot;area&quot;: 2.85912319999985e-05, &quot;center&quot;: &quot;[101.5901643597106, 3.047857112475514]&quot;, &quot;isochrone_id&quot;: 132300, &quot;reachfactor&quot;: 1.0, &quot;station_id&quot;: &quot;132&quot;, &quot;total_pop&quot;: 2839.0, &quot;type&quot;: &quot;Polygon&quot;, &quot;value&quot;: 300}, &quot;type&quot;: &quot;Feature&quot;}, {&quot;bbox&quot;: [101.585246, 3.031341, 101.590971, 3.038863], &quot;geometry&quot;: {&quot;coordinates&quot;: [[[101.585246, 3.035802], [101.587211, 3.031613], [101.587446, 3.031341], [101.58796, 3.031357], [101.588289, 3.031402], [101.58943, 3.032077], [101.589536, 3.032162], [101.590956, 3.033297], [101.590971, 3.03339], [101.590962, 3.03375], [101.589662, 3.0372], [101.58912, 3.037978], [101.588392, 3.038842], [101.588032, 3.038863], [101.585309, 3.036157], [101.585246, 3.035802]]], &quot;type&quot;: &quot;Polygon&quot;}, &quot;id&quot;: &quot;397&quot;, &quot;properties&quot;: {&quot;area&quot;: 2.648363350003281e-05, &quot;center&quot;: &quot;[101.58820039014311, 3.0349690159985667]&quot;, &quot;isochrone_id&quot;: 133300, &quot;reachfactor&quot;: 0.9389, &quot;station_id&quot;: &quot;133&quot;, &quot;total_pop&quot;: 4808.0, &quot;type&quot;: &quot;Polygon&quot;, &quot;value&quot;: 300}, &quot;type&quot;: &quot;Feature&quot;}, {&quot;bbox&quot;: [101.579694, 3.026083, 101.58482, 3.0311], &quot;geometry&quot;: {&quot;coordinates&quot;: [[[101.58269852449, 3.030178172366217], [101.582746, 3.030106], [101.582427, 3.026493], [101.581945, 3.026127], [101.581678, 3.026085], [101.581629, 3.026083], [101.58149, 3.026174], [101.580735, 3.026868], [101.5806874733312, 3.027070377905407], [101.580291, 3.026421], [101.579934, 3.026379], [101.579701, 3.027362], [101.579694, 3.027796], [101.580113, 3.028746], [101.581237, 3.029592], [101.58236, 3.030437], [101.582376, 3.030447], [101.582571, 3.030565], [101.582766, 3.030682], [101.582789, 3.030694], [101.582974, 3.030772], [101.583159, 3.030849], [101.583183, 3.030857], [101.583361, 3.030905], [101.583539, 3.030952], [101.583558, 3.030956], [101.583907, 3.031011], [101.583922, 3.031012], [101.584639, 3.0311], [101.584714, 3.031062], [101.58482, 3.030789], [101.584724, 3.030702], [101.58452, 3.030697], [101.58269852449, 3.030178172366217]]], &quot;type&quot;: &quot;Polygon&quot;}, &quot;id&quot;: &quot;400&quot;, &quot;properties&quot;: {&quot;area&quot;: 9.720361992469096e-06, &quot;center&quot;: &quot;[101.5820341, 3.0296234]&quot;, &quot;isochrone_id&quot;: 134300, &quot;reachfactor&quot;: 0.2142, &quot;station_id&quot;: &quot;134&quot;, &quot;total_pop&quot;: 287.0, &quot;type&quot;: &quot;Polygon&quot;, &quot;value&quot;: 300}, &quot;type&quot;: &quot;Feature&quot;}, {&quot;bbox&quot;: [101.571589, 3.022538, 101.573194, 3.025103], &quot;geometry&quot;: {&quot;coordinates&quot;: [[[101.571677, 3.024743], [101.571675, 3.024541], [101.571589, 3.022538], [101.57256, 3.022585], [101.573194, 3.023308], [101.573039, 3.023579], [101.573039, 3.023579], [101.572819, 3.023961], [101.5726, 3.024343], [101.572018, 3.02496], [101.571799, 3.025097], [101.571698, 3.025103], [101.571677, 3.024743]]], &quot;type&quot;: &quot;Polygon&quot;}, &quot;id&quot;: &quot;403&quot;, &quot;properties&quot;: {&quot;area&quot;: 2.6577114999925154e-06, &quot;center&quot;: &quot;[101.57188575242697, 3.0231543031071437]&quot;, &quot;isochrone_id&quot;: 135300, &quot;reachfactor&quot;: 0.0942, &quot;station_id&quot;: &quot;135&quot;, &quot;total_pop&quot;: 264.0, &quot;type&quot;: &quot;Polygon&quot;, &quot;value&quot;: 300}, &quot;type&quot;: &quot;Feature&quot;}, {&quot;bbox&quot;: [101.569264, 3.005362, 101.574261, 3.012596], &quot;geometry&quot;: {&quot;coordinates&quot;: [[[101.569264, 3.008762], [101.569301, 3.008496], [101.571991, 3.005362], [101.572351, 3.005363], [101.574241, 3.007926], [101.574261, 3.008285], [101.573946, 3.012479], [101.573605, 3.012596], [101.569815, 3.010473], [101.569697, 3.010375], [101.569264, 3.008762]]], &quot;type&quot;: &quot;Polygon&quot;}, &quot;id&quot;: &quot;406&quot;, &quot;properties&quot;: {&quot;area&quot;: 2.3025567000025013e-05, &quot;center&quot;: &quot;[101.57201349315338, 3.010070220751253]&quot;, &quot;isochrone_id&quot;: 136300, &quot;reachfactor&quot;: 0.8162, &quot;station_id&quot;: &quot;136&quot;, &quot;total_pop&quot;: 1775.0, &quot;type&quot;: &quot;Polygon&quot;, &quot;value&quot;: 300}, &quot;type&quot;: &quot;Feature&quot;}, {&quot;bbox&quot;: [101.572172, 2.992997, 101.576769, 2.996978], &quot;geometry&quot;: {&quot;coordinates&quot;: [[[101.572176, 2.996609], [101.572376, 2.995621], [101.572511, 2.994892], [101.573884, 2.99334], [101.574207, 2.993182], [101.57453, 2.993046], [101.575175, 2.992997], [101.575547, 2.9937], [101.575787, 2.994147], [101.575865, 2.994295], [101.576703, 2.996053], [101.576769, 2.996318], [101.576584, 2.996412], [101.5764, 2.996506], [101.576195, 2.996593], [101.576003, 2.996673], [101.575751, 2.996742], [101.575522, 2.996802], [101.575009, 2.9969], [101.574644, 2.996947], [101.574295, 2.99697], [101.57377, 2.996974], [101.573244, 2.996978], [101.572411, 2.996972], [101.572172, 2.996969], [101.572176, 2.996609]]], &quot;type&quot;: &quot;Polygon&quot;}, &quot;id&quot;: &quot;409&quot;, &quot;properties&quot;: {&quot;area&quot;: 1.2619580999975472e-05, &quot;center&quot;: &quot;[101.57531842379109, 2.995955632170521]&quot;, &quot;isochrone_id&quot;: 137300, &quot;reachfactor&quot;: 0.4474, &quot;station_id&quot;: &quot;137&quot;, &quot;total_pop&quot;: 136.0, &quot;type&quot;: &quot;Polygon&quot;, &quot;value&quot;: 300}, &quot;type&quot;: &quot;Feature&quot;}, {&quot;bbox&quot;: [101.73685, 3.196588, 101.74044, 3.199792], &quot;geometry&quot;: {&quot;coordinates&quot;: [[[101.736859, 3.198269], [101.737056, 3.197346], [101.737127, 3.197091], [101.737197, 3.196836], [101.73747, 3.196588], [101.73781, 3.196706], [101.740386, 3.198341], [101.740434, 3.198575], [101.74044, 3.198677], [101.74035, 3.199026], [101.738358, 3.199555], [101.737339, 3.199792], [101.73685, 3.198939], [101.736859, 3.198269]]], &quot;type&quot;: &quot;Polygon&quot;}, &quot;id&quot;: &quot;412&quot;, &quot;properties&quot;: {&quot;area&quot;: 7.194233000005277e-06, &quot;center&quot;: &quot;[101.73747821973654, 3.1991779849900244]&quot;, &quot;isochrone_id&quot;: 138300, &quot;reachfactor&quot;: 0.255, &quot;station_id&quot;: &quot;138&quot;, &quot;total_pop&quot;: 1188.0, &quot;type&quot;: &quot;Polygon&quot;, &quot;value&quot;: 300}, &quot;type&quot;: &quot;Feature&quot;}, {&quot;bbox&quot;: [101.733069, 3.171998, 101.738777, 3.179793], &quot;geometry&quot;: {&quot;coordinates&quot;: [[[101.7351452092816, 3.172199308839506], [101.735048, 3.172074], [101.734986, 3.172034], [101.734878, 3.171998], [101.734662, 3.172039], [101.733069, 3.174604], [101.733394, 3.177115], [101.733615, 3.177253], [101.733837, 3.177391], [101.73534244983, 3.178305752142475], [101.7355805867207, 3.178519674067556], [101.735701, 3.178814], [101.73598, 3.179043], [101.73748, 3.179793], [101.737812, 3.179654], [101.738692, 3.177775], [101.738777, 3.177591], [101.73874, 3.177233], [101.7378554706767, 3.175064668732981], [101.737775, 3.174612], [101.737517, 3.17436], [101.73655, 3.173419], [101.735972, 3.17289], [101.735151, 3.172197], [101.7351452092816, 3.172199308839506]]], &quot;type&quot;: &quot;Polygon&quot;}, &quot;id&quot;: &quot;415&quot;, &quot;properties&quot;: {&quot;area&quot;: 2.6922755655525225e-05, &quot;center&quot;: &quot;[101.735265, 3.1756716]&quot;, &quot;isochrone_id&quot;: 139300, &quot;reachfactor&quot;: 0.7359333333333332, &quot;station_id&quot;: &quot;139&quot;, &quot;total_pop&quot;: 3722.0, &quot;type&quot;: &quot;Polygon&quot;, &quot;value&quot;: 300}, &quot;type&quot;: &quot;Feature&quot;}, {&quot;bbox&quot;: [101.732869, 3.163664, 101.73846, 3.171281], &quot;geometry&quot;: {&quot;coordinates&quot;: [[[101.733178, 3.167518], [101.732869, 3.165712], [101.732979, 3.165369], [101.734898, 3.163664], [101.735258, 3.163672], [101.738171, 3.166151], [101.738421, 3.166424], [101.73846, 3.166782], [101.73803, 3.168308], [101.73743, 3.169114], [101.735241, 3.171281], [101.734881, 3.171266], [101.733494, 3.169254], [101.733178, 3.167518]]], &quot;type&quot;: &quot;Polygon&quot;}, &quot;id&quot;: &quot;418&quot;, &quot;properties&quot;: {&quot;area&quot;: 2.7042678500024387e-05, &quot;center&quot;: &quot;[101.73548286327376, 3.167203402121835]&quot;, &quot;isochrone_id&quot;: 140300, &quot;reachfactor&quot;: 0.9586, &quot;station_id&quot;: &quot;140&quot;, &quot;total_pop&quot;: 2509.0, &quot;type&quot;: &quot;Polygon&quot;, &quot;value&quot;: 300}, &quot;type&quot;: &quot;Feature&quot;}, {&quot;bbox&quot;: [101.721033, 3.162841, 101.728036, 3.16762], &quot;geometry&quot;: {&quot;coordinates&quot;: [[[101.721033, 3.165899], [101.721821, 3.164024], [101.722109, 3.163809], [101.72392, 3.162861], [101.724282, 3.162858], [101.724944, 3.162849], [101.725155, 3.162845], [101.725365, 3.162841], [101.727129, 3.163939], [101.728031, 3.165176], [101.728036, 3.165186], [101.728034, 3.165215], [101.727987, 3.165533], [101.72768, 3.165766], [101.726832, 3.166412], [101.726736, 3.166482], [101.726167, 3.166864], [101.725532, 3.167244], [101.724848, 3.16762], [101.724498, 3.167534], [101.722609, 3.166772], [101.721125, 3.166247], [101.721061, 3.166079], [101.721033, 3.165899]]], &quot;type&quot;: &quot;Polygon&quot;}, &quot;id&quot;: &quot;423&quot;, &quot;properties&quot;: {&quot;area&quot;: 2.2209731499987838e-05, &quot;center&quot;: &quot;[101.72458562735314, 3.164562466142046]&quot;, &quot;isochrone_id&quot;: 142300, &quot;reachfactor&quot;: 0.7872, &quot;station_id&quot;: &quot;142&quot;, &quot;total_pop&quot;: 2348.0, &quot;type&quot;: &quot;Polygon&quot;, &quot;value&quot;: 300}, &quot;type&quot;: &quot;Feature&quot;}, {&quot;bbox&quot;: [101.714841, 3.156617, 101.72263, 3.16323], &quot;geometry&quot;: {&quot;coordinates&quot;: [[[101.7190565320335, 3.162566290543392], [101.719377, 3.162495], [101.721809, 3.161621], [101.722627, 3.160455], [101.72263, 3.160095], [101.721292, 3.157787], [101.721028, 3.157356], [101.720972, 3.15728], [101.720636, 3.157148], [101.718435, 3.156617], [101.718075, 3.156618], [101.717346, 3.157511], [101.716187500042, 3.158990463680084], [101.715099, 3.159523], [101.715056, 3.159568], [101.714874, 3.159804], [101.714841, 3.159857], [101.714948, 3.16031], [101.715775, 3.16185], [101.716489, 3.162446], [101.717706, 3.16323], [101.717883, 3.163172], [101.718775, 3.162716], [101.7190565320335, 3.162566290543392]]], &quot;type&quot;: &quot;Polygon&quot;}, &quot;id&quot;: &quot;426&quot;, &quot;properties&quot;: {&quot;area&quot;: 3.2773270756470175e-05, &quot;center&quot;: &quot;[101.719112, 3.1598932]&quot;, &quot;isochrone_id&quot;: 143300, &quot;reachfactor&quot;: 0.9298500000000001, &quot;station_id&quot;: &quot;143&quot;, &quot;total_pop&quot;: 4502.0, &quot;type&quot;: &quot;Polygon&quot;, &quot;value&quot;: 300}, &quot;type&quot;: &quot;Feature&quot;}, {&quot;bbox&quot;: [101.684934, 3.12998, 101.690428, 3.135674], &quot;geometry&quot;: {&quot;coordinates&quot;: [[[101.685035, 3.132159], [101.684934, 3.130557], [101.685033, 3.130382], [101.685065, 3.130351], [101.68517, 3.130285], [101.687408, 3.12998], [101.689947, 3.130336], [101.690055, 3.130679], [101.690423, 3.132252], [101.690424, 3.132287], [101.690422, 3.132656], [101.690428, 3.133651], [101.690051, 3.135465], [101.689757, 3.135674], [101.689636, 3.135674], [101.6863, 3.135545], [101.686111, 3.135437], [101.685297, 3.134707], [101.685035, 3.132159]]], &quot;type&quot;: &quot;Polygon&quot;}, &quot;id&quot;: &quot;429&quot;, &quot;properties&quot;: {&quot;area&quot;: 2.7558998999983668e-05, &quot;center&quot;: &quot;[101.6878981, 3.132682]&quot;, &quot;isochrone_id&quot;: 144300, &quot;reachfactor&quot;: 0.9769, &quot;station_id&quot;: &quot;144&quot;, &quot;total_pop&quot;: 2483.0, &quot;type&quot;: &quot;Polygon&quot;, &quot;value&quot;: 300}, &quot;type&quot;: &quot;Feature&quot;}, {&quot;bbox&quot;: [101.701356, 2.75306, 101.707784, 2.757712], &quot;geometry&quot;: {&quot;coordinates&quot;: [[[101.70156, 2.75306], [101.701591, 2.753081], [101.702822, 2.753916], [101.706385, 2.756164], [101.706558, 2.756281], [101.706749, 2.756412], [101.706933, 2.756572], [101.70713, 2.756745], [101.707336, 2.756965], [101.707553, 2.757197], [101.707669, 2.757343], [101.707784, 2.757489], [101.707502, 2.757712], [101.705234, 2.755989], [101.703927, 2.755101], [101.70262, 2.754214], [101.701387, 2.753378], [101.701356, 2.753356], [101.70156, 2.75306]]], &quot;type&quot;: &quot;Polygon&quot;}, &quot;id&quot;: &quot;432&quot;, &quot;properties&quot;: {&quot;area&quot;: 3.3462029999948353e-06, &quot;center&quot;: &quot;[101.70456062418378, 2.7553140684980124]&quot;, &quot;isochrone_id&quot;: 145300, &quot;reachfactor&quot;: 0.1187, &quot;station_id&quot;: &quot;145&quot;, &quot;total_pop&quot;: 145.0, &quot;type&quot;: &quot;Polygon&quot;, &quot;value&quot;: 300}, &quot;type&quot;: &quot;Feature&quot;}, {&quot;bbox&quot;: [101.681917, 2.743164, 101.688286, 2.747183], &quot;geometry&quot;: {&quot;coordinates&quot;: [[[101.68212, 2.743336], [101.682921, 2.743164], [101.683758, 2.743636], [101.68443, 2.744088], [101.688022, 2.746557], [101.688286, 2.746733], [101.688086, 2.747032], [101.687057, 2.747183], [101.686757, 2.747045], [101.686413, 2.74682], [101.682284, 2.744473], [101.681917, 2.743633], [101.68212, 2.743336]]], &quot;type&quot;: &quot;Polygon&quot;}, &quot;id&quot;: &quot;436&quot;, &quot;properties&quot;: {&quot;area&quot;: 8.38657950001828e-06, &quot;center&quot;: &quot;[101.68499466614408, 2.744694698112463]&quot;, &quot;isochrone_id&quot;: 146300, &quot;reachfactor&quot;: 0.2974, &quot;station_id&quot;: &quot;146&quot;, &quot;total_pop&quot;: 135.0, &quot;type&quot;: &quot;Polygon&quot;, &quot;value&quot;: 300}, &quot;type&quot;: &quot;Feature&quot;}, {&quot;bbox&quot;: [101.684934, 3.12998, 101.690428, 3.135674], &quot;geometry&quot;: {&quot;coordinates&quot;: [[[101.685035, 3.132159], [101.684934, 3.130557], [101.685033, 3.130382], [101.685065, 3.130351], [101.68517, 3.130285], [101.687408, 3.12998], [101.689947, 3.130336], [101.690055, 3.130679], [101.690423, 3.132252], [101.690424, 3.132287], [101.690422, 3.132656], [101.690428, 3.133651], [101.690051, 3.135465], [101.689757, 3.135674], [101.689636, 3.135674], [101.6863, 3.135545], [101.686111, 3.135437], [101.685297, 3.134707], [101.685035, 3.132159]]], &quot;type&quot;: &quot;Polygon&quot;}, &quot;id&quot;: &quot;439&quot;, &quot;properties&quot;: {&quot;area&quot;: 2.7558998999983668e-05, &quot;center&quot;: &quot;[101.6878981, 3.132682]&quot;, &quot;isochrone_id&quot;: 147300, &quot;reachfactor&quot;: 0.9769, &quot;station_id&quot;: &quot;147&quot;, &quot;total_pop&quot;: 2483.0, &quot;type&quot;: &quot;Polygon&quot;, &quot;value&quot;: 300}, &quot;type&quot;: &quot;Feature&quot;}, {&quot;bbox&quot;: [101.709002, 3.073321, 101.714581, 3.077833], &quot;geometry&quot;: {&quot;coordinates&quot;: [[[101.7097, 3.07356], [101.709969, 3.073321], [101.71356, 3.075547], [101.714317, 3.076456], [101.714566, 3.076874], [101.714581, 3.076905], [101.714514, 3.07723], [101.714336, 3.077833], [101.712399, 3.077806], [101.710836, 3.077395], [101.709623, 3.076055], [101.70942, 3.075834], [101.709176, 3.075538], [101.709002, 3.07506], [101.7097, 3.07356]]], &quot;type&quot;: &quot;Polygon&quot;}, &quot;id&quot;: &quot;442&quot;, &quot;properties&quot;: {&quot;area&quot;: 1.4351219500006525e-05, &quot;center&quot;: &quot;[101.71134654275657, 3.0760317933119916]&quot;, &quot;isochrone_id&quot;: 148300, &quot;reachfactor&quot;: 0.5088, &quot;station_id&quot;: &quot;148&quot;, &quot;total_pop&quot;: 888.0, &quot;type&quot;: &quot;Polygon&quot;, &quot;value&quot;: 300}, &quot;type&quot;: &quot;Feature&quot;}, {&quot;bbox&quot;: [101.670212, 2.931216, 101.67295, 2.933943], &quot;geometry&quot;: {&quot;coordinates&quot;: [[[101.670592, 2.931421], [101.671268, 2.931291], [101.671511, 2.93124], [101.671625, 2.931216], [101.672907, 2.933146], [101.67295, 2.933301], [101.672916, 2.933555], [101.672909, 2.933607], [101.672398, 2.933888], [101.672069, 2.933943], [101.671967, 2.933933], [101.671925, 2.933886], [101.670212, 2.931816], [101.670592, 2.931421]]], &quot;type&quot;: &quot;Polygon&quot;}, &quot;id&quot;: &quot;445&quot;, &quot;properties&quot;: {&quot;area&quot;: 3.880581999992833e-06, &quot;center&quot;: &quot;[101.67082837225065, 2.9313750389614417]&quot;, &quot;isochrone_id&quot;: 149300, &quot;reachfactor&quot;: 0.1376, &quot;station_id&quot;: &quot;149&quot;, &quot;total_pop&quot;: 64.0, &quot;type&quot;: &quot;Polygon&quot;, &quot;value&quot;: 300}, &quot;type&quot;: &quot;Feature&quot;}, {&quot;bbox&quot;: [101.710272, 2.821837, 101.713788, 2.829403], &quot;geometry&quot;: {&quot;coordinates&quot;: [[[101.710279, 2.824706], [101.710272, 2.824346], [101.713429, 2.821837], [101.713788, 2.821863], [101.713768, 2.82213], [101.713741, 2.822423], [101.713715, 2.822713], [101.712984, 2.827063], [101.712667, 2.829403], [101.712309, 2.829369], [101.710388, 2.826643], [101.710279, 2.824706]]], &quot;type&quot;: &quot;Polygon&quot;}, &quot;id&quot;: &quot;448&quot;, &quot;properties&quot;: {&quot;area&quot;: 1.5317053499994022e-05, &quot;center&quot;: &quot;[101.7129701, 2.8256427]&quot;, &quot;isochrone_id&quot;: 150300, &quot;reachfactor&quot;: 0.5432, &quot;station_id&quot;: &quot;150&quot;, &quot;total_pop&quot;: 93.0, &quot;type&quot;: &quot;Polygon&quot;, &quot;value&quot;: 300}, &quot;type&quot;: &quot;Feature&quot;}, {&quot;bbox&quot;: [101.701356, 2.75306, 101.707784, 2.757712], &quot;geometry&quot;: {&quot;coordinates&quot;: [[[101.70156, 2.75306], [101.701591, 2.753081], [101.702822, 2.753916], [101.706385, 2.756164], [101.706558, 2.756281], [101.706749, 2.756412], [101.706933, 2.756572], [101.70713, 2.756745], [101.707336, 2.756965], [101.707553, 2.757197], [101.707669, 2.757343], [101.707784, 2.757489], [101.707502, 2.757712], [101.705234, 2.755989], [101.703927, 2.755101], [101.70262, 2.754214], [101.701387, 2.753378], [101.701356, 2.753356], [101.70156, 2.75306]]], &quot;type&quot;: &quot;Polygon&quot;}, &quot;id&quot;: &quot;450&quot;, &quot;properties&quot;: {&quot;area&quot;: 3.3462029999948353e-06, &quot;center&quot;: &quot;[101.70456062418378, 2.7553140684980124]&quot;, &quot;isochrone_id&quot;: 151300, &quot;reachfactor&quot;: 0.1187, &quot;station_id&quot;: &quot;151&quot;, &quot;total_pop&quot;: 145.0, &quot;type&quot;: &quot;Polygon&quot;, &quot;value&quot;: 300}, &quot;type&quot;: &quot;Feature&quot;}, {&quot;bbox&quot;: [101.681917, 2.743164, 101.688286, 2.747183], &quot;geometry&quot;: {&quot;coordinates&quot;: [[[101.68212, 2.743336], [101.682921, 2.743164], [101.683758, 2.743636], [101.68443, 2.744088], [101.688022, 2.746557], [101.688286, 2.746733], [101.688086, 2.747032], [101.687057, 2.747183], [101.686757, 2.747045], [101.686413, 2.74682], [101.682284, 2.744473], [101.681917, 2.743633], [101.68212, 2.743336]]], &quot;type&quot;: &quot;Polygon&quot;}, &quot;id&quot;: &quot;453&quot;, &quot;properties&quot;: {&quot;area&quot;: 8.38657950001828e-06, &quot;center&quot;: &quot;[101.68499466614408, 2.744694698112463]&quot;, &quot;isochrone_id&quot;: 152300, &quot;reachfactor&quot;: 0.2974, &quot;station_id&quot;: &quot;152&quot;, &quot;total_pop&quot;: 135.0, &quot;type&quot;: &quot;Polygon&quot;, &quot;value&quot;: 300}, &quot;type&quot;: &quot;Feature&quot;}, {&quot;bbox&quot;: [101.6848, 3.129849, 101.690665, 3.135856], &quot;geometry&quot;: {&quot;coordinates&quot;: [[[101.6875622248721, 3.129928190645507], [101.687257, 3.129849], [101.685258, 3.130128], [101.685036, 3.130169], [101.6848, 3.130441], [101.684966, 3.132435], [101.685122, 3.134613], [101.686046, 3.135504], [101.686362, 3.135676], [101.6877473126448, 3.135660659718483], [101.689758, 3.135856], [101.689863, 3.135822], [101.690156, 3.135613], [101.69059, 3.133798], [101.690665, 3.132136], [101.690048, 3.130304], [101.6875622248721, 3.129928190645507]]], &quot;type&quot;: &quot;Polygon&quot;}, &quot;id&quot;: &quot;456&quot;, &quot;properties&quot;: {&quot;area&quot;: 3.0123308676530577e-05, &quot;center&quot;: &quot;[101.6878032, 3.1328157]&quot;, &quot;isochrone_id&quot;: 153300, &quot;reachfactor&quot;: 0.99775, &quot;station_id&quot;: &quot;153&quot;, &quot;total_pop&quot;: 2724.5, &quot;type&quot;: &quot;Polygon&quot;, &quot;value&quot;: 300}, &quot;type&quot;: &quot;Feature&quot;}, {&quot;bbox&quot;: [101.695004, 3.163116, 101.702595, 3.17105], &quot;geometry&quot;: {&quot;coordinates&quot;: [[[101.7011156019243, 3.166576625058092], [101.700962, 3.166189], [101.700337, 3.165092], [101.69864, 3.163577], [101.698369, 3.163366], [101.698003, 3.163116], [101.697946, 3.163127], [101.697792, 3.163267], [101.697497, 3.163647], [101.697147, 3.164089], [101.69712, 3.164123], [101.696657, 3.164707], [101.696466, 3.164947], [101.695792, 3.165816], [101.695238, 3.166616], [101.695187, 3.166691], [101.695004, 3.167755], [101.695504, 3.169263], [101.69572, 3.16955], [101.695798, 3.16963], [101.6977558390029, 3.170338367733728], [101.69827, 3.170801], [101.69855, 3.17105], [101.698896, 3.170949], [101.700706, 3.169927], [101.701784, 3.169083], [101.702577, 3.168228], [101.702595, 3.168207], [101.702585, 3.167847], [101.702308, 3.16757], [101.7011156019243, 3.166576625058092]]], &quot;type&quot;: &quot;Polygon&quot;}, &quot;id&quot;: &quot;459&quot;, &quot;properties&quot;: {&quot;area&quot;: 3.554127374732654e-05, &quot;center&quot;: &quot;[101.69893151686784, 3.167559358719969]&quot;, &quot;isochrone_id&quot;: 154300, &quot;reachfactor&quot;: 0.9409000000000001, &quot;station_id&quot;: &quot;154&quot;, &quot;total_pop&quot;: 6861.0, &quot;type&quot;: &quot;Polygon&quot;, &quot;value&quot;: 300}, &quot;type&quot;: &quot;Feature&quot;}, {&quot;bbox&quot;: [101.692348, 3.169825, 101.699532, 3.176533], &quot;geometry&quot;: {&quot;coordinates&quot;: [[[101.695280373038, 3.16998363819379], [101.694652, 3.170069], [101.694641, 3.170077], [101.6941649536992, 3.17049296028338], [101.692622, 3.171337], [101.692348, 3.171535], [101.692351, 3.171954], [101.692361, 3.171986], [101.692528, 3.172305], [101.6930572737822, 3.173192234172287], [101.693945, 3.175897], [101.694063, 3.176093], [101.694197, 3.176151], [101.696134, 3.176533], [101.699083, 3.174752], [101.699154678745, 3.17453506078949], [101.699355, 3.1744], [101.699532, 3.17395], [101.699516, 3.173778], [101.699491, 3.173676], [101.699262, 3.172842], [101.698821, 3.171411], [101.69691, 3.170061], [101.696854, 3.170049], [101.696726, 3.170027], [101.6966637560497, 3.170017172007848], [101.696223, 3.169894], [101.695729, 3.169825], [101.695280373038, 3.16998363819379]]], &quot;type&quot;: &quot;Polygon&quot;}, &quot;id&quot;: &quot;463&quot;, &quot;properties&quot;: {&quot;area&quot;: 3.320983752754672e-05, &quot;center&quot;: &quot;[101.6956284, 3.1733467]&quot;, &quot;isochrone_id&quot;: 155300, &quot;reachfactor&quot;: 0.9803666666666667, &quot;station_id&quot;: &quot;155&quot;, &quot;total_pop&quot;: 3463.0, &quot;type&quot;: &quot;Polygon&quot;, &quot;value&quot;: 300}, &quot;type&quot;: &quot;Feature&quot;}, {&quot;bbox&quot;: [101.688102, 3.129496, 101.693669, 3.13456], &quot;geometry&quot;: {&quot;coordinates&quot;: [[[101.68812, 3.132455], [101.688116, 3.132341], [101.688102, 3.130953], [101.688333, 3.130677], [101.69063, 3.12963], [101.690965, 3.129496], [101.693209, 3.131346], [101.693669, 3.132445], [101.693531, 3.132777], [101.69306, 3.133548], [101.692818, 3.133814], [101.692045, 3.134318], [101.688968, 3.13456], [101.688794, 3.134447], [101.688245, 3.13387], [101.68812, 3.132455]]], &quot;type&quot;: &quot;Polygon&quot;}, &quot;id&quot;: &quot;466&quot;, &quot;properties&quot;: {&quot;area&quot;: 2.082595300000549e-05, &quot;center&quot;: &quot;[101.6909066, 3.1315206]&quot;, &quot;isochrone_id&quot;: 156300, &quot;reachfactor&quot;: 0.7381, &quot;station_id&quot;: &quot;156&quot;, &quot;total_pop&quot;: 1902.0, &quot;type&quot;: &quot;Polygon&quot;, &quot;value&quot;: 300}, &quot;type&quot;: &quot;Feature&quot;}, {&quot;bbox&quot;: [101.696186, 3.136548, 101.702633, 3.141229], &quot;geometry&quot;: {&quot;coordinates&quot;: [[[101.6970173448817, 3.137578309566178], [101.69656, 3.138083], [101.696352, 3.138346], [101.696186, 3.139056], [101.696676, 3.140189], [101.700016, 3.141229], [101.700706, 3.140905], [101.7008370749839, 3.140550447584786], [101.702633, 3.137316], [101.70252, 3.136974], [101.7002218134985, 3.136972217077966], [101.69831, 3.136575], [101.697951, 3.136548], [101.6972205280886, 3.137354092296207], [101.69709, 3.137389], [101.697036, 3.137465], [101.6970173448817, 3.137578309566178]]], &quot;type&quot;: &quot;Polygon&quot;}, &quot;id&quot;: &quot;469&quot;, &quot;properties&quot;: {&quot;area&quot;: 2.011510261046451e-05, &quot;center&quot;: &quot;[101.6991821, 3.1385646]&quot;, &quot;isochrone_id&quot;: 157300, &quot;reachfactor&quot;: 0.6487, &quot;station_id&quot;: &quot;157&quot;, &quot;total_pop&quot;: 1136.5, &quot;type&quot;: &quot;Polygon&quot;, &quot;value&quot;: 300}, &quot;type&quot;: &quot;Feature&quot;}, {&quot;bbox&quot;: [101.702693, 3.137152, 101.709865, 3.144109], &quot;geometry&quot;: {&quot;coordinates&quot;: [[[101.7043181966634, 3.137173312792477], [101.704242, 3.137172], [101.704142, 3.137209], [101.703845, 3.137412], [101.703785, 3.137541], [101.7037477727606, 3.137774311555953], [101.703068, 3.140137], [101.702758, 3.141504], [101.702693, 3.141786], [101.702699, 3.141826], [101.702878, 3.142139], [101.7038979266315, 3.142765492035741], [101.704168, 3.143193], [101.705122, 3.14385], [101.705755, 3.144045], [101.706129, 3.144109], [101.708637, 3.1428], [101.7086740705507, 3.142711457389714], [101.709144, 3.142849], [101.709212, 3.14287], [101.709365, 3.142664], [101.709375, 3.14263], [101.709865, 3.140313], [101.709815, 3.13983], [101.709644, 3.139077], [101.708967, 3.138849], [101.7087297689206, 3.138761747910319], [101.708424, 3.138179], [101.708201, 3.137896], [101.706074, 3.137296], [101.705635, 3.137196], [101.7044155060685, 3.137174989336428], [101.704353, 3.137152], [101.7043181966634, 3.137173312792477]]], &quot;type&quot;: &quot;Polygon&quot;}, &quot;id&quot;: &quot;472&quot;, &quot;properties&quot;: {&quot;area&quot;: 3.638608468496444e-05, &quot;center&quot;: &quot;[101.7062195542146, 3.140976299841089]&quot;, &quot;isochrone_id&quot;: 158300, &quot;reachfactor&quot;: 0.8679749999999999, &quot;station_id&quot;: &quot;158&quot;, &quot;total_pop&quot;: 3215.25, &quot;type&quot;: &quot;Polygon&quot;, &quot;value&quot;: 300}, &quot;type&quot;: &quot;Feature&quot;}, {&quot;bbox&quot;: [101.706413, 3.13998, 101.713256, 3.146022], &quot;geometry&quot;: {&quot;coordinates&quot;: [[[101.7127410629321, 3.144305235478587], [101.712821, 3.144281], [101.713013, 3.144176], [101.713242, 3.143899], [101.713256, 3.142586], [101.712608, 3.141238], [101.71256, 3.141206], [101.710314, 3.140331], [101.709442, 3.13998], [101.707805, 3.140533], [101.706871, 3.140895], [101.706778, 3.140973], [101.706564, 3.141262], [101.7065673128415, 3.141269316636353], [101.706453, 3.141364], [101.706413, 3.1414], [101.706833, 3.143735], [101.707666, 3.145905], [101.707812, 3.146022], [101.710212, 3.145904], [101.711814, 3.145314], [101.7127410629321, 3.144305235478587]]], &quot;type&quot;: &quot;Polygon&quot;}, &quot;id&quot;: &quot;475&quot;, &quot;properties&quot;: {&quot;area&quot;: 3.107110053964077e-05, &quot;center&quot;: &quot;[101.7097169, 3.1430868]&quot;, &quot;isochrone_id&quot;: 159300, &quot;reachfactor&quot;: 0.82836, &quot;station_id&quot;: &quot;159&quot;, &quot;total_pop&quot;: 3554.0, &quot;type&quot;: &quot;Polygon&quot;, &quot;value&quot;: 300}, &quot;type&quot;: &quot;Feature&quot;}, {&quot;bbox&quot;: [101.708296, 3.142679, 101.714291, 3.149873], &quot;geometry&quot;: {&quot;coordinates&quot;: [[[101.7141855363461, 3.147483617725978], [101.714154, 3.146324], [101.713794, 3.144362], [101.713199, 3.143003], [101.712954, 3.142738], [101.71286, 3.142679], [101.712472, 3.142736], [101.711635, 3.143078], [101.711381, 3.143209], [101.7106642036058, 3.143700526332202], [101.709428, 3.144009], [101.708508, 3.144335], [101.708296, 3.144626], [101.708305, 3.144747], [101.708536, 3.147209], [101.708627, 3.147695], [101.709127, 3.148543], [101.710718, 3.149663], [101.710982, 3.149816], [101.711133, 3.149873], [101.711194, 3.149862], [101.7112620845905, 3.149838411637928], [101.711321, 3.149825], [101.712828, 3.149116], [101.71412, 3.148329], [101.71418, 3.148287], [101.714291, 3.147993], [101.7141855363461, 3.147483617725978]]], &quot;type&quot;: &quot;Polygon&quot;}, &quot;id&quot;: &quot;478&quot;, &quot;properties&quot;: {&quot;area&quot;: 3.1078558064780256e-05, &quot;center&quot;: &quot;[101.7113169, 3.1461311]&quot;, &quot;isochrone_id&quot;: 160300, &quot;reachfactor&quot;: 0.84666, &quot;station_id&quot;: &quot;160&quot;, &quot;total_pop&quot;: 3810.0, &quot;type&quot;: &quot;Polygon&quot;, &quot;value&quot;: 300}, &quot;type&quot;: &quot;Feature&quot;}, {&quot;bbox&quot;: [101.706597, 3.147213, 101.713824, 3.153782], &quot;geometry&quot;: {&quot;coordinates&quot;: [[[101.708616, 3.148003], [101.708479, 3.148097], [101.707831, 3.148683], [101.707591, 3.148952], [101.707005, 3.150557], [101.706597, 3.151959], [101.7075226851883, 3.152701964294705], [101.707799, 3.153729], [101.707957, 3.15372], [101.708033, 3.153708], [101.7082127002974, 3.153639265438693], [101.708269, 3.153706], [101.708336, 3.15376], [101.708403, 3.153782], [101.711868, 3.152373], [101.712358, 3.152167], [101.71244, 3.152121], [101.713173, 3.151411], [101.713816, 3.149996], [101.713824, 3.149966], [101.71381, 3.149636], [101.711359, 3.147396], [101.711222875675, 3.147354054713817], [101.711214, 3.147346], [101.7111034573803, 3.147287894264021], [101.711047, 3.147236], [101.710998, 3.147226], [101.7109904105922, 3.147228472234384], [101.71098, 3.147223], [101.710935, 3.147213], [101.708743, 3.147936], [101.708616, 3.148003]]], &quot;type&quot;: &quot;Polygon&quot;}, &quot;id&quot;: &quot;481&quot;, &quot;properties&quot;: {&quot;area&quot;: 3.05668069472911e-05, &quot;center&quot;: &quot;[101.71034003016264, 3.150933952796049]&quot;, &quot;isochrone_id&quot;: 161300, &quot;reachfactor&quot;: 0.9552666666666667, &quot;station_id&quot;: &quot;161&quot;, &quot;total_pop&quot;: 7817.66666666667, &quot;type&quot;: &quot;Polygon&quot;, &quot;value&quot;: 300}, &quot;type&quot;: &quot;Feature&quot;}, {&quot;bbox&quot;: [101.701182, 3.153588, 101.708148, 3.159829], &quot;geometry&quot;: {&quot;coordinates&quot;: [[[101.707938977961, 3.155866371108853], [101.708099, 3.154305], [101.708112, 3.154123], [101.708113, 3.153946], [101.707848, 3.153702], [101.707775, 3.153662], [101.70748, 3.153588], [101.7054644024485, 3.153905721091949], [101.701498, 3.154155], [101.701182, 3.154328], [101.701602, 3.156959], [101.701845, 3.158384], [101.701961, 3.158724], [101.7022697546984, 3.158785649208324], [101.702321, 3.158869], [101.70529, 3.159829], [101.708127, 3.158293], [101.708148, 3.158254], [101.707938977961, 3.155866371108853]]], &quot;type&quot;: &quot;Polygon&quot;}, &quot;id&quot;: &quot;484&quot;, &quot;properties&quot;: {&quot;area&quot;: 3.4186016153550395e-05, &quot;center&quot;: &quot;[101.70453895730762, 3.156272728877709]&quot;, &quot;isochrone_id&quot;: 162300, &quot;reachfactor&quot;: 1.0, &quot;station_id&quot;: &quot;162&quot;, &quot;total_pop&quot;: 5340.66666666667, &quot;type&quot;: &quot;Polygon&quot;, &quot;value&quot;: 300}, &quot;type&quot;: &quot;Feature&quot;}, {&quot;bbox&quot;: [101.695179, 3.156082, 101.702789, 3.162203], &quot;geometry&quot;: {&quot;coordinates&quot;: [[[101.6980357150976, 3.156328943804487], [101.697895, 3.15635], [101.697653, 3.156408], [101.6975208382078, 3.156462723242067], [101.6967, 3.156676], [101.695529, 3.158318], [101.6955209513779, 3.158609360118176], [101.69522, 3.160641], [101.695179, 3.16092], [101.695303, 3.161273], [101.695419, 3.161343], [101.696297, 3.161742], [101.697509, 3.16205], [101.698177, 3.16214], [101.698531, 3.162181], [101.69889, 3.162203], [101.699451215841, 3.161983278703747], [101.700217, 3.162155], [101.700324, 3.162117], [101.70089, 3.161504], [101.702308, 3.16004], [101.702657, 3.159249], [101.702789, 3.158677], [101.7027283404986, 3.158529557562327], [101.702744, 3.158453], [101.702599, 3.158124], [101.699686, 3.156082], [101.6987545298638, 3.156221382465945], [101.698621, 3.156188], [101.698328, 3.156253], [101.6980357150976, 3.156328943804487]]], &quot;type&quot;: &quot;Polygon&quot;}, &quot;id&quot;: &quot;487&quot;, &quot;properties&quot;: {&quot;area&quot;: 3.447116782057832e-05, &quot;center&quot;: &quot;[101.6991072, 3.1590919]&quot;, &quot;isochrone_id&quot;: 163300, &quot;reachfactor&quot;: 0.8064399999999999, &quot;station_id&quot;: &quot;163&quot;, &quot;total_pop&quot;: 2830.2, &quot;type&quot;: &quot;Polygon&quot;, &quot;value&quot;: 300}, &quot;type&quot;: &quot;Feature&quot;}, {&quot;bbox&quot;: [101.570729, 3.173815, 101.575788, 3.179803], &quot;geometry&quot;: {&quot;coordinates&quot;: [[[101.570729, 3.179561], [101.57144, 3.175511], [101.572167, 3.174307], [101.572649, 3.174002], [101.572957, 3.173815], [101.57387, 3.174685], [101.574034, 3.175006], [101.575788, 3.178543], [101.5755, 3.178759], [101.571111, 3.179803], [101.570768, 3.179695], [101.570729, 3.179561]]], &quot;type&quot;: &quot;Polygon&quot;}, &quot;id&quot;: &quot;490&quot;, &quot;properties&quot;: {&quot;area&quot;: 1.8254585000021916e-05, &quot;center&quot;: &quot;[101.5723031, 3.1766755]&quot;, &quot;isochrone_id&quot;: 164300, &quot;reachfactor&quot;: 0.6471, &quot;station_id&quot;: &quot;164&quot;, &quot;total_pop&quot;: 165.0, &quot;type&quot;: &quot;Polygon&quot;, &quot;value&quot;: 300}, &quot;type&quot;: &quot;Feature&quot;}, {&quot;bbox&quot;: [101.562493, 3.167994, 101.566335, 3.171332], &quot;geometry&quot;: {&quot;coordinates&quot;: [[[101.564871, 3.170543], [101.566335, 3.16832], [101.566182, 3.167994], [101.565264, 3.168148], [101.562701, 3.169044], [101.562493, 3.169724], [101.562655, 3.170144], [101.562817, 3.170563], [101.563358, 3.171332], [101.563918, 3.171236], [101.563971, 3.171225], [101.564071, 3.171181], [101.564119750974, 3.171152941885445], [101.564267, 3.171276], [101.564578, 3.171097], [101.564871, 3.170543]]], &quot;type&quot;: &quot;Polygon&quot;}, &quot;id&quot;: &quot;493&quot;, &quot;properties&quot;: {&quot;area&quot;: 7.255808133492385e-06, &quot;center&quot;: &quot;[101.56472529423473, 3.1701364907325735]&quot;, &quot;isochrone_id&quot;: 165300, &quot;reachfactor&quot;: 0.19135000000000002, &quot;station_id&quot;: &quot;165&quot;, &quot;total_pop&quot;: 15.5, &quot;type&quot;: &quot;Polygon&quot;, &quot;value&quot;: 300}, &quot;type&quot;: &quot;Feature&quot;}, {&quot;bbox&quot;: [101.575106, 3.147298, 101.583049, 3.15331], &quot;geometry&quot;: {&quot;coordinates&quot;: [[[101.580410223639, 3.148707688399152], [101.578703, 3.147415], [101.578362, 3.147298], [101.576204, 3.148232], [101.576137, 3.148361], [101.575629, 3.14946], [101.575106, 3.151378], [101.575368, 3.151625], [101.576309759884, 3.15186938456746], [101.57751, 3.152766], [101.578033, 3.153004], [101.578821, 3.15331], [101.578956, 3.153264], [101.579548, 3.153065], [101.583049, 3.150323], [101.583036, 3.149963], [101.580410223639, 3.148707688399152]]], &quot;type&quot;: &quot;Polygon&quot;}, &quot;id&quot;: &quot;496&quot;, &quot;properties&quot;: {&quot;area&quot;: 2.8291134357220656e-05, &quot;center&quot;: &quot;[101.5786349, 3.1499793]&quot;, &quot;isochrone_id&quot;: 166300, &quot;reachfactor&quot;: 0.81745, &quot;station_id&quot;: &quot;166&quot;, &quot;total_pop&quot;: 2439.5, &quot;type&quot;: &quot;Polygon&quot;, &quot;value&quot;: 300}, &quot;type&quot;: &quot;Feature&quot;}, {&quot;bbox&quot;: [101.589913, 3.148002, 101.597251, 3.153035], &quot;geometry&quot;: {&quot;coordinates&quot;: [[[101.5953234756692, 3.148963431561706], [101.593148, 3.14807], [101.59092, 3.148002], [101.590591, 3.148148], [101.590431, 3.148253], [101.590335, 3.148321], [101.589913, 3.149471], [101.589936, 3.14983], [101.5900438216957, 3.149923812380284], [101.590052, 3.150097], [101.590867, 3.151391], [101.592264, 3.152449], [101.594107, 3.153035], [101.594466, 3.153021], [101.595822, 3.151699], [101.596681, 3.150843], [101.597251, 3.149709], [101.597234, 3.14935], [101.597128, 3.14926], [101.596519, 3.149054], [101.595897, 3.149012], [101.5953234756692, 3.148963431561706]]], &quot;type&quot;: &quot;Polygon&quot;}, &quot;id&quot;: &quot;499&quot;, &quot;properties&quot;: {&quot;area&quot;: 2.478852228033016e-05, &quot;center&quot;: &quot;[101.5935975, 3.1494285]&quot;, &quot;isochrone_id&quot;: 167300, &quot;reachfactor&quot;: 0.5355333333333333, &quot;station_id&quot;: &quot;167&quot;, &quot;total_pop&quot;: 653.333333333333, &quot;type&quot;: &quot;Polygon&quot;, &quot;value&quot;: 300}, &quot;type&quot;: &quot;Feature&quot;}, {&quot;bbox&quot;: [101.604735, 3.153874, 101.612876, 3.158699], &quot;geometry&quot;: {&quot;coordinates&quot;: [[[101.6059698475013, 3.154468785036116], [101.605858, 3.154454], [101.605498, 3.154448], [101.6054975974178, 3.154448429906755], [101.605458, 3.154447], [101.604854, 3.154905], [101.604787, 3.154985], [101.604735, 3.155341], [101.606437, 3.158545], [101.60651, 3.158618], [101.606574, 3.158617], [101.610441, 3.158699], [101.6104843375594, 3.158568220285322], [101.6108111340123, 3.157845637017204], [101.611065, 3.15765], [101.611682, 3.15708], [101.61182, 3.156747], [101.6118805230064, 3.156478927366753], [101.612741, 3.155481], [101.612859, 3.155267], [101.612876, 3.154907], [101.61205, 3.153876], [101.612005, 3.153874], [101.6092717435717, 3.154466399601715], [101.6078947000426, 3.154580146098701], [101.6059698475013, 3.154468785036116]]], &quot;type&quot;: &quot;Polygon&quot;}, &quot;id&quot;: &quot;502&quot;, &quot;properties&quot;: {&quot;area&quot;: 2.7422229006402233e-05, &quot;center&quot;: &quot;[101.6091179, 3.1548991]&quot;, &quot;isochrone_id&quot;: 168300, &quot;reachfactor&quot;: 0.71145, &quot;station_id&quot;: &quot;168&quot;, &quot;total_pop&quot;: 3861.75, &quot;type&quot;: &quot;Polygon&quot;, &quot;value&quot;: 300}, &quot;type&quot;: &quot;Feature&quot;}, {&quot;bbox&quot;: [101.61513, 3.14373, 101.619505, 3.148792], &quot;geometry&quot;: {&quot;coordinates&quot;: [[[101.618741, 3.145265], [101.617071, 3.143925], [101.61618, 3.14373], [101.616022, 3.143869], [101.615834, 3.144176], [101.615517, 3.145729], [101.6156496177036, 3.145970668312105], [101.615148, 3.146406], [101.61513, 3.146437], [101.615146, 3.146485], [101.617064, 3.148638], [101.61739, 3.148792], [101.619505, 3.146103], [101.6194558767641, 3.145940515450597], [101.619464, 3.145928], [101.6194475257677, 3.145912892923906], [101.619401, 3.145759], [101.618741, 3.145265]]], &quot;type&quot;: &quot;Polygon&quot;}, &quot;id&quot;: &quot;505&quot;, &quot;properties&quot;: {&quot;area&quot;: 1.2489886554143498e-05, &quot;center&quot;: &quot;[101.6188927, 3.1457012]&quot;, &quot;isochrone_id&quot;: 169300, &quot;reachfactor&quot;: 0.3752, &quot;station_id&quot;: &quot;169&quot;, &quot;total_pop&quot;: 1917.5, &quot;type&quot;: &quot;Polygon&quot;, &quot;value&quot;: 300}, &quot;type&quot;: &quot;Feature&quot;}, {&quot;bbox&quot;: [101.627082, 3.132112, 101.633052, 3.139461], &quot;geometry&quot;: {&quot;coordinates&quot;: [[[101.6319117786512, 3.133946499103007], [101.630319, 3.132112], [101.629959, 3.132114], [101.629417, 3.132288], [101.627082, 3.135171], [101.627082, 3.135531], [101.627293, 3.136398], [101.627853, 3.138065], [101.628088, 3.138338], [101.6290254849727, 3.138539603351501], [101.629143, 3.138738], [101.629512, 3.138904], [101.630563, 3.139347], [101.630904, 3.139461], [101.631868, 3.138579], [101.633052, 3.134374], [101.632813, 3.134104], [101.6319117786512, 3.133946499103007]]], &quot;type&quot;: &quot;Polygon&quot;}, &quot;id&quot;: &quot;508&quot;, &quot;properties&quot;: {&quot;area&quot;: 2.845031992850543e-05, &quot;center&quot;: &quot;[101.6302937, 3.1356637]&quot;, &quot;isochrone_id&quot;: 170300, &quot;reachfactor&quot;: 0.77445, &quot;station_id&quot;: &quot;170&quot;, &quot;total_pop&quot;: 1906.0, &quot;type&quot;: &quot;Polygon&quot;, &quot;value&quot;: 300}, &quot;type&quot;: &quot;Feature&quot;}, {&quot;bbox&quot;: [101.639368, 3.125963, 101.646295, 3.130216], &quot;geometry&quot;: {&quot;coordinates&quot;: [[[101.639615, 3.128941], [101.639638, 3.128854], [101.641437, 3.126557], [101.642808, 3.126083], [101.644431, 3.125963], [101.644531, 3.125989], [101.645207, 3.126347], [101.645745, 3.126869], [101.646284, 3.127608], [101.646295, 3.127673], [101.646244, 3.127966], [101.642995, 3.129535], [101.639536, 3.130216], [101.639509, 3.130171], [101.639368, 3.12984], [101.639615, 3.128941]]], &quot;type&quot;: &quot;Polygon&quot;}, &quot;id&quot;: &quot;511&quot;, &quot;properties&quot;: {&quot;area&quot;: 1.7540314999988944e-05, &quot;center&quot;: &quot;[101.64276309743414, 3.1283555024779015]&quot;, &quot;isochrone_id&quot;: 171300, &quot;reachfactor&quot;: 0.6217, &quot;station_id&quot;: &quot;171&quot;, &quot;total_pop&quot;: 1636.0, &quot;type&quot;: &quot;Polygon&quot;, &quot;value&quot;: 300}, &quot;type&quot;: &quot;Feature&quot;}, {&quot;bbox&quot;: [101.662597, 3.142886, 101.665425, 3.146652], &quot;geometry&quot;: {&quot;coordinates&quot;: [[[101.662752, 3.143123], [101.662597, 3.143736], [101.662598, 3.143755], [101.663261, 3.144897], [101.664209, 3.14617], [101.664659, 3.146444], [101.664988, 3.146548], [101.665316, 3.146652], [101.665425, 3.146309], [101.665166, 3.144779], [101.665106, 3.144717], [101.663036, 3.142886], [101.662821, 3.143065], [101.662752, 3.143123]]], &quot;type&quot;: &quot;Polygon&quot;}, &quot;id&quot;: &quot;514&quot;, &quot;properties&quot;: {&quot;area&quot;: 4.989477999990582e-06, &quot;center&quot;: &quot;[101.6631665, 3.1434524]&quot;, &quot;isochrone_id&quot;: 172300, &quot;reachfactor&quot;: 0.14250000000000002, &quot;station_id&quot;: &quot;172&quot;, &quot;total_pop&quot;: 692.5, &quot;type&quot;: &quot;Polygon&quot;, &quot;value&quot;: 300}, &quot;type&quot;: &quot;Feature&quot;}, {&quot;bbox&quot;: [101.662972, 3.147141, 101.668191, 3.155069], &quot;geometry&quot;: {&quot;coordinates&quot;: [[[101.6665965450279, 3.148872007750716], [101.66624, 3.147352], [101.666179, 3.147205], [101.665902, 3.147141], [101.66396, 3.147935], [101.6636074471796, 3.149921171257388], [101.663025, 3.150671], [101.662972, 3.150903], [101.663132, 3.152055], [101.66389, 3.154638], [101.665017, 3.155038], [101.665346, 3.155069], [101.665587, 3.154801], [101.666929, 3.153308], [101.668191, 3.150494], [101.668075, 3.150153], [101.6665965450279, 3.148872007750716]]], &quot;type&quot;: &quot;Polygon&quot;}, &quot;id&quot;: &quot;516&quot;, &quot;properties&quot;: {&quot;area&quot;: 2.6168256895749774e-05, &quot;center&quot;: &quot;[101.6656456, 3.1506493]&quot;, &quot;isochrone_id&quot;: 173300, &quot;reachfactor&quot;: 0.73115, &quot;station_id&quot;: &quot;173&quot;, &quot;total_pop&quot;: 4560.0, &quot;type&quot;: &quot;Polygon&quot;, &quot;value&quot;: 300}, &quot;type&quot;: &quot;Feature&quot;}, {&quot;bbox&quot;: [101.684782, 3.13507, 101.691357, 3.139684], &quot;geometry&quot;: {&quot;coordinates&quot;: [[[101.6891650907355, 3.136875904264153], [101.687143, 3.135461], [101.687079, 3.135431], [101.686858, 3.135326], [101.685168, 3.13507], [101.684863, 3.135261], [101.685281352036, 3.136368673372397], [101.68522, 3.136403], [101.684927, 3.137009], [101.684787, 3.137387], [101.684782, 3.138326], [101.685575, 3.139291], [101.687649, 3.139684], [101.687655, 3.139682], [101.687989, 3.139603], [101.688333, 3.139504], [101.691003, 3.138604], [101.691272, 3.138247], [101.691357, 3.137897], [101.690641, 3.137493], [101.6891650907355, 3.136875904264153]]], &quot;type&quot;: &quot;Polygon&quot;}, &quot;id&quot;: &quot;519&quot;, &quot;properties&quot;: {&quot;area&quot;: 1.8899396813677308e-05, &quot;center&quot;: &quot;[101.6876953, 3.1373778]&quot;, &quot;isochrone_id&quot;: 174300, &quot;reachfactor&quot;: 0.41285, &quot;station_id&quot;: &quot;174&quot;, &quot;total_pop&quot;: 791.0, &quot;type&quot;: &quot;Polygon&quot;, &quot;value&quot;: 300}, &quot;type&quot;: &quot;Feature&quot;}, {&quot;bbox&quot;: [101.693185, 3.138545, 101.700519, 3.146204], &quot;geometry&quot;: {&quot;coordinates&quot;: [[[101.6967666497006, 3.139567071856287], [101.695454, 3.138653], [101.69535, 3.138618], [101.694998, 3.138545], [101.694868, 3.138711], [101.69332, 3.140925], [101.693185, 3.141215], [101.6935538805673, 3.142472707077023], [101.693471, 3.143161], [101.693537, 3.143588], [101.694098, 3.145476], [101.694941, 3.145994], [101.695625, 3.146204], [101.695983, 3.146171], [101.696234, 3.146053], [101.6963947451922, 3.145939776699973], [101.696568, 3.146056], [101.696624, 3.146065], [101.698746, 3.144503], [101.700519, 3.143032], [101.700493, 3.142673], [101.698538, 3.140084], [101.698319, 3.139798], [101.6967666497006, 3.139567071856287]]], &quot;type&quot;: &quot;Polygon&quot;}, &quot;id&quot;: &quot;522&quot;, &quot;properties&quot;: {&quot;area&quot;: 3.6063974430602054e-05, &quot;center&quot;: &quot;[101.6968069, 3.1424829]&quot;, &quot;isochrone_id&quot;: 175300, &quot;reachfactor&quot;: 0.9439666666666667, &quot;station_id&quot;: &quot;175&quot;, &quot;total_pop&quot;: 2365.66666666667, &quot;type&quot;: &quot;Polygon&quot;, &quot;value&quot;: 300}, &quot;type&quot;: &quot;Feature&quot;}, {&quot;bbox&quot;: [101.698456, 3.13913, 101.705934, 3.144478], &quot;geometry&quot;: {&quot;coordinates&quot;: [[[101.7028773978574, 3.142645308634146], [101.705656, 3.1408], [101.7059, 3.140536], [101.705934, 3.140443], [101.705284, 3.13913], [101.702559, 3.139666], [101.702336, 3.139767], [101.702113, 3.139869], [101.7013221732708, 3.140627193843975], [101.699422, 3.141336], [101.699104, 3.141508], [101.699067, 3.14158], [101.698456, 3.142841], [101.698469, 3.142937], [101.698859, 3.14349], [101.699215, 3.143768], [101.700684, 3.144478], [101.7028773978574, 3.142645308634146]]], &quot;type&quot;: &quot;Polygon&quot;}, &quot;id&quot;: &quot;525&quot;, &quot;properties&quot;: {&quot;area&quot;: 1.937945001309946e-05, &quot;center&quot;: &quot;[101.702138, 3.142434]&quot;, &quot;isochrone_id&quot;: 176300, &quot;reachfactor&quot;: 0.5583, &quot;station_id&quot;: &quot;176&quot;, &quot;total_pop&quot;: 1967.5, &quot;type&quot;: &quot;Polygon&quot;, &quot;value&quot;: 300}, &quot;type&quot;: &quot;Feature&quot;}, {&quot;bbox&quot;: [101.70676, 3.143137, 101.715328, 3.150517], &quot;geometry&quot;: {&quot;coordinates&quot;: [[[101.711824313731, 3.143548541155466], [101.711266, 3.143188], [101.71103, 3.14314], [101.710639, 3.143137], [101.710302, 3.143144], [101.709431, 3.143283], [101.7080342824315, 3.143486434950189], [101.707604, 3.143528], [101.706836, 3.144169], [101.70676, 3.147869], [101.706914, 3.148194], [101.707281, 3.148388], [101.707622, 3.148538], [101.708121, 3.148746], [101.7084203664076, 3.148867377000361], [101.708504, 3.14896], [101.709003, 3.149373], [101.710379, 3.150479], [101.710657, 3.150517], [101.710826, 3.150507], [101.711259, 3.150413], [101.7113782420813, 3.150321630428559], [101.711462, 3.150325], [101.712627, 3.150118], [101.7152692467241, 3.148382203049926], [101.715304, 3.148363], [101.715328, 3.148003], [101.714663, 3.146009], [101.714654, 3.145995], [101.712618, 3.1434], [101.712598, 3.143374], [101.712336, 3.143394], [101.712285, 3.143406], [101.7121538405638, 3.143458614408772], [101.712078, 3.143477], [101.711824313731, 3.143548541155466]]], &quot;type&quot;: &quot;Polygon&quot;}, &quot;id&quot;: &quot;528&quot;, &quot;properties&quot;: {&quot;area&quot;: 4.688297168160931e-05, &quot;center&quot;: &quot;[101.7117293, 3.146919]&quot;, &quot;isochrone_id&quot;: 177300, &quot;reachfactor&quot;: 1.0, &quot;station_id&quot;: &quot;177&quot;, &quot;total_pop&quot;: 5028.8, &quot;type&quot;: &quot;Polygon&quot;, &quot;value&quot;: 300}, &quot;type&quot;: &quot;Feature&quot;}, {&quot;bbox&quot;: [101.609283, 3.07952, 101.615264, 3.084274], &quot;geometry&quot;: {&quot;coordinates&quot;: [[[101.609321, 3.082971], [101.610147, 3.08092], [101.610524, 3.080476], [101.611495, 3.079686], [101.611858, 3.07954], [101.611926, 3.07952], [101.613499, 3.080711], [101.615264, 3.083639], [101.615217, 3.083996], [101.613203, 3.084274], [101.612879, 3.084223], [101.609283, 3.083329], [101.609321, 3.082971]]], &quot;type&quot;: &quot;Polygon&quot;}, &quot;id&quot;: &quot;529&quot;, &quot;properties&quot;: {&quot;area&quot;: 1.754572700000451e-05, &quot;center&quot;: &quot;[101.6121709, 3.0827827]&quot;, &quot;isochrone_id&quot;: 196300, &quot;reachfactor&quot;: 0.622, &quot;station_id&quot;: &quot;196&quot;, &quot;total_pop&quot;: 2405.0, &quot;type&quot;: &quot;Polygon&quot;, &quot;value&quot;: 300}, &quot;type&quot;: &quot;Feature&quot;}, {&quot;bbox&quot;: [101.716478, 3.139785, 101.721811, 3.146452], &quot;geometry&quot;: {&quot;coordinates&quot;: [[[101.7217462313093, 3.14440811127151], [101.721811, 3.144279], [101.721782, 3.144179], [101.72027, 3.139817], [101.719777, 3.139785], [101.717855, 3.140549], [101.717825, 3.140627], [101.717005, 3.142625], [101.7170570643036, 3.143097723154458], [101.716655, 3.143977], [101.716478, 3.144797], [101.716636, 3.14512], [101.717817, 3.145506], [101.720615, 3.146452], [101.720962, 3.146356], [101.721775, 3.1449], [101.721799, 3.144616], [101.7217462313093, 3.14440811127151]]], &quot;type&quot;: &quot;Polygon&quot;}, &quot;id&quot;: &quot;532&quot;, &quot;properties&quot;: {&quot;area&quot;: 2.3975298122005747e-05, &quot;center&quot;: &quot;[101.7197635, 3.1431359]&quot;, &quot;isochrone_id&quot;: 178300, &quot;reachfactor&quot;: 0.76115, &quot;station_id&quot;: &quot;178&quot;, &quot;total_pop&quot;: 2369.0, &quot;type&quot;: &quot;Polygon&quot;, &quot;value&quot;: 300}, &quot;type&quot;: &quot;Feature&quot;}, {&quot;bbox&quot;: [101.719632, 3.128868, 101.726124, 3.135326], &quot;geometry&quot;: {&quot;coordinates&quot;: [[[101.7256806058347, 3.131898415870923], [101.72542, 3.130824], [101.725401, 3.130753], [101.724554, 3.129082], [101.724249, 3.128891], [101.724117, 3.128868], [101.723983, 3.128869], [101.7217, 3.128908], [101.721422, 3.129137], [101.721364, 3.129322], [101.720783, 3.131642], [101.7207346466626, 3.131867193970363], [101.719812, 3.133304], [101.719632, 3.134096], [101.719701, 3.134449], [101.724328, 3.135318], [101.724625, 3.135326], [101.72604, 3.132882], [101.726124, 3.132728], [101.726035, 3.132379], [101.7256806058347, 3.131898415870923]]], &quot;type&quot;: &quot;Polygon&quot;}, &quot;id&quot;: &quot;535&quot;, &quot;properties&quot;: {&quot;area&quot;: 2.9275279106910533e-05, &quot;center&quot;: &quot;[101.7229314, 3.1329233]&quot;, &quot;isochrone_id&quot;: 179300, &quot;reachfactor&quot;: 0.9045000000000001, &quot;station_id&quot;: &quot;179&quot;, &quot;total_pop&quot;: 1726.5, &quot;type&quot;: &quot;Polygon&quot;, &quot;value&quot;: 300}, &quot;type&quot;: &quot;Feature&quot;}, {&quot;bbox&quot;: [101.723644, 3.120586, 101.730868, 3.128425], &quot;geometry&quot;: {&quot;coordinates&quot;: [[[101.725150358465, 3.122475876469177], [101.725103, 3.122505], [101.724909, 3.122808], [101.724598, 3.123485], [101.7246303449324, 3.124480415293909], [101.7245786106138, 3.124711489623881], [101.724396, 3.124814], [101.724147, 3.125074], [101.723644, 3.126693], [101.723679, 3.126908], [101.724673, 3.128219], [101.724977, 3.128412], [101.724998, 3.128425], [101.72602, 3.128396], [101.727615, 3.128148], [101.7295313504479, 3.126661830303682], [101.730208, 3.126386], [101.730384, 3.126072], [101.7302214815487, 3.125815041692769], [101.730687, 3.12534], [101.730868, 3.125028], [101.730143, 3.121843], [101.729778, 3.121012], [101.72948, 3.12081], [101.7290907216849, 3.120785465652412], [101.728537, 3.120586], [101.728178, 3.120614], [101.725588195652, 3.122206624397397], [101.725217, 3.122362], [101.725150358465, 3.122475876469177]]], &quot;type&quot;: &quot;Polygon&quot;}, &quot;id&quot;: &quot;538&quot;, &quot;properties&quot;: {&quot;area&quot;: 3.888868224835581e-05, &quot;center&quot;: &quot;[101.72730665349648, 3.123844318200987]&quot;, &quot;isochrone_id&quot;: 180300, &quot;reachfactor&quot;: 0.7841199999999999, &quot;station_id&quot;: &quot;180&quot;, &quot;total_pop&quot;: 1637.0, &quot;type&quot;: &quot;Polygon&quot;, &quot;value&quot;: 300}, &quot;type&quot;: &quot;Feature&quot;}, {&quot;bbox&quot;: [101.726594, 3.107947, 101.732507, 3.115441], &quot;geometry&quot;: {&quot;coordinates&quot;: [[[101.7301826853175, 3.108282257720008], [101.728661, 3.108798], [101.728323, 3.109568], [101.726594, 3.113281], [101.726849, 3.113534], [101.7282550808838, 3.114632705062708], [101.728308, 3.115094], [101.728509, 3.115439], [101.728515, 3.115441], [101.728931, 3.1153], [101.729114, 3.115227], [101.73058, 3.114509], [101.731407, 3.113777], [101.73219, 3.11299], [101.732378, 3.112674], [101.732379, 3.11267], [101.732507, 3.111822], [101.731366, 3.108846], [101.730818, 3.108052], [101.730474, 3.107947], [101.7301826853175, 3.108282257720008]]], &quot;type&quot;: &quot;Polygon&quot;}, &quot;id&quot;: &quot;541&quot;, &quot;properties&quot;: {&quot;area&quot;: 2.6931873528042045e-05, &quot;center&quot;: &quot;[101.7290571, 3.1117149]&quot;, &quot;isochrone_id&quot;: 181300, &quot;reachfactor&quot;: 0.7437499999999999, &quot;station_id&quot;: &quot;181&quot;, &quot;total_pop&quot;: 1894.0, &quot;type&quot;: &quot;Polygon&quot;, &quot;value&quot;: 300}, &quot;type&quot;: &quot;Feature&quot;}, {&quot;bbox&quot;: [101.730446, 3.101649, 101.73506, 3.108143], &quot;geometry&quot;: {&quot;coordinates&quot;: [[[101.7328935968899, 3.102449079443955], [101.732532, 3.102518], [101.731287, 3.102755], [101.730891, 3.102838], [101.730695, 3.103141], [101.730544, 3.10536], [101.730457, 3.106509], [101.7305901182049, 3.106954140494175], [101.730446, 3.108038], [101.73079, 3.108143], [101.73373, 3.106258], [101.734129, 3.105826], [101.734949, 3.103396], [101.73506, 3.101892], [101.734794, 3.101649], [101.73321, 3.102243], [101.732907, 3.102437], [101.7328935968899, 3.102449079443955]]], &quot;type&quot;: &quot;Polygon&quot;}, &quot;id&quot;: &quot;544&quot;, &quot;properties&quot;: {&quot;area&quot;: 1.8926491289832256e-05, &quot;center&quot;: &quot;[101.7327199, 3.1046709]&quot;, &quot;isochrone_id&quot;: 182300, &quot;reachfactor&quot;: 0.49934999999999996, &quot;station_id&quot;: &quot;182&quot;, &quot;total_pop&quot;: 805.0, &quot;type&quot;: &quot;Polygon&quot;, &quot;value&quot;: 300}, &quot;type&quot;: &quot;Feature&quot;}, {&quot;bbox&quot;: [101.737637, 3.087464, 101.743823, 3.095047], &quot;geometry&quot;: {&quot;coordinates&quot;: [[[101.7411307668296, 3.087665127075319], [101.740203, 3.087527], [101.740081, 3.087534], [101.739066, 3.08815], [101.737919, 3.089345], [101.737637, 3.090094], [101.737662, 3.090453], [101.737819, 3.092319], [101.738125, 3.092908], [101.7387967630751, 3.093446700057643], [101.7389201781537, 3.093663728907693], [101.73918, 3.094772], [101.739315, 3.094937], [101.739658, 3.095047], [101.740116, 3.094928], [101.740456, 3.09482], [101.741162, 3.094523], [101.742323, 3.094003], [101.742568, 3.09374], [101.743134, 3.09258], [101.7433889639106, 3.091936191515182], [101.743558, 3.091724], [101.743823, 3.090504], [101.742817, 3.088314], [101.742762, 3.088256], [101.741777, 3.087562], [101.741431, 3.087464], [101.7411307668296, 3.087665127075319]]], &quot;type&quot;: &quot;Polygon&quot;}, &quot;id&quot;: &quot;547&quot;, &quot;properties&quot;: {&quot;area&quot;: 3.374496730624801e-05, &quot;center&quot;: &quot;[101.7406462, 3.0914822]&quot;, &quot;isochrone_id&quot;: 183300, &quot;reachfactor&quot;: 0.9194666666666667, &quot;station_id&quot;: &quot;183&quot;, &quot;total_pop&quot;: 3312.33333333333, &quot;type&quot;: &quot;Polygon&quot;, &quot;value&quot;: 300}, &quot;type&quot;: &quot;Feature&quot;}, {&quot;bbox&quot;: [101.74221, 3.075184, 101.749644, 3.082035], &quot;geometry&quot;: {&quot;coordinates&quot;: [[[101.7472513353012, 3.076389239852679], [101.746427, 3.075403], [101.746042, 3.075209], [101.746013, 3.075195], [101.745983, 3.075184], [101.745874, 3.075239], [101.743344, 3.077042], [101.742531, 3.078055], [101.74221, 3.080317], [101.742506, 3.080522], [101.7443838253665, 3.081039109080954], [101.745716, 3.082035], [101.746051, 3.081901], [101.7476506528987, 3.079994368168272], [101.749644, 3.078485], [101.74956, 3.078135], [101.7472513353012, 3.076389239852679]]], &quot;type&quot;: &quot;Polygon&quot;}, &quot;id&quot;: &quot;550&quot;, &quot;properties&quot;: {&quot;area&quot;: 2.8774486542675072e-05, &quot;center&quot;: &quot;[101.7460092, 3.0785733]&quot;, &quot;isochrone_id&quot;: 184300, &quot;reachfactor&quot;: 0.8205999999999999, &quot;station_id&quot;: &quot;184&quot;, &quot;total_pop&quot;: 1623.0, &quot;type&quot;: &quot;Polygon&quot;, &quot;value&quot;: 300}, &quot;type&quot;: &quot;Feature&quot;}, {&quot;bbox&quot;: [101.762003, 3.071019, 101.767321, 3.074728], &quot;geometry&quot;: {&quot;coordinates&quot;: [[[101.763054, 3.071952], [101.76329, 3.071706], [101.764207, 3.071019], [101.767091, 3.071116], [101.767321, 3.071393], [101.766136, 3.074323], [101.765939, 3.074624], [101.765905, 3.074671], [101.765547, 3.074709], [101.765276, 3.074728], [101.762422, 3.074292], [101.762212, 3.074255], [101.762003, 3.073962], [101.763054, 3.071952]]], &quot;type&quot;: &quot;Polygon&quot;}, &quot;id&quot;: &quot;553&quot;, &quot;properties&quot;: {&quot;area&quot;: 1.3855340999992307e-05, &quot;center&quot;: &quot;[101.7637348, 3.0716741]&quot;, &quot;isochrone_id&quot;: 185300, &quot;reachfactor&quot;: 0.4912, &quot;station_id&quot;: &quot;185&quot;, &quot;total_pop&quot;: 1194.0, &quot;type&quot;: &quot;Polygon&quot;, &quot;value&quot;: 300}, &quot;type&quot;: &quot;Feature&quot;}, {&quot;bbox&quot;: [101.769507, 3.059783, 101.776309, 3.065572], &quot;geometry&quot;: {&quot;coordinates&quot;: [[[101.7726593661867, 3.060008078614587], [101.769789, 3.059783], [101.769507, 3.060151], [101.769552, 3.060508], [101.7711927022444, 3.062610647536486], [101.771185, 3.064269], [101.771234, 3.065415], [101.771558, 3.065572], [101.775647, 3.064205], [101.776062, 3.06382], [101.776175, 3.063479], [101.7760570693981, 3.063147145153212], [101.776309, 3.062568], [101.7763, 3.062208], [101.776239, 3.061089], [101.774521, 3.059829], [101.774421, 3.059829], [101.7726593661867, 3.060008078614587]]], &quot;type&quot;: &quot;Polygon&quot;}, &quot;id&quot;: &quot;556&quot;, &quot;properties&quot;: {&quot;area&quot;: 2.6518863829986955e-05, &quot;center&quot;: &quot;[101.7730057757587, 3.0623536229516795]&quot;, &quot;isochrone_id&quot;: 186300, &quot;reachfactor&quot;: 0.6333000000000001, &quot;station_id&quot;: &quot;186&quot;, &quot;total_pop&quot;: 1255.33333333333, &quot;type&quot;: &quot;Polygon&quot;, &quot;value&quot;: 300}, &quot;type&quot;: &quot;Feature&quot;}, {&quot;bbox&quot;: [101.771288, 3.047773, 101.775143, 3.050765], &quot;geometry&quot;: {&quot;coordinates&quot;: [[[101.77439, 3.047773], [101.773764, 3.04782], [101.771292, 3.049389], [101.771288, 3.049749], [101.771633, 3.049967], [101.773284, 3.050748], [101.773732, 3.050755], [101.774071, 3.050765], [101.774303, 3.05049], [101.77502, 3.049129], [101.775143, 3.048623], [101.77439, 3.047773]]], &quot;type&quot;: &quot;Polygon&quot;}, &quot;id&quot;: &quot;559&quot;, &quot;properties&quot;: {&quot;area&quot;: 7.193990999999503e-06, &quot;center&quot;: &quot;[101.7745994, 3.0483351]&quot;, &quot;isochrone_id&quot;: 187300, &quot;reachfactor&quot;: 0.23145, &quot;station_id&quot;: &quot;187&quot;, &quot;total_pop&quot;: 598.0, &quot;type&quot;: &quot;Polygon&quot;, &quot;value&quot;: 300}, &quot;type&quot;: &quot;Feature&quot;}, {&quot;bbox&quot;: [101.770241, 3.040146, 101.773422, 3.043574], &quot;geometry&quot;: {&quot;coordinates&quot;: [[[101.7715804787573, 3.040218402630429], [101.770694, 3.040322], [101.770413, 3.040547], [101.770241, 3.040799], [101.770338, 3.041145], [101.7704954868907, 3.04173952178101], [101.77049, 3.042058], [101.770522, 3.043115], [101.770533, 3.04313], [101.770595, 3.043212], [101.770657, 3.043292], [101.77202, 3.043498], [101.772576, 3.043574], [101.772776, 3.043571], [101.773214, 3.043506], [101.7732891169052, 3.043294605430584], [101.773422, 3.043225], [101.773312, 3.041941], [101.773094, 3.041281], [101.773019, 3.04106], [101.772999, 3.041001], [101.772942, 3.040838], [101.77272, 3.040629], [101.772046, 3.040164], [101.77174, 3.040146], [101.7715804787573, 3.040218402630429]]], &quot;type&quot;: &quot;Polygon&quot;}, &quot;id&quot;: &quot;562&quot;, &quot;properties&quot;: {&quot;area&quot;: 8.592613073390101e-06, &quot;center&quot;: &quot;[101.7726712, 3.0406991]&quot;, &quot;isochrone_id&quot;: 188300, &quot;reachfactor&quot;: 0.2837, &quot;station_id&quot;: &quot;188&quot;, &quot;total_pop&quot;: 366.0, &quot;type&quot;: &quot;Polygon&quot;, &quot;value&quot;: 300}, &quot;type&quot;: &quot;Feature&quot;}, {&quot;bbox&quot;: [101.770446, 3.024576, 101.775075, 3.029642], &quot;geometry&quot;: {&quot;coordinates&quot;: [[[101.7714754191366, 3.024787850576785], [101.77145, 3.024776], [101.7714426772323, 3.024794640801257], [101.771277, 3.024829], [101.770803, 3.026423], [101.770446, 3.028659], [101.771362, 3.029478], [101.771975, 3.02958], [101.773514, 3.029612], [101.774481, 3.029642], [101.774752, 3.029405], [101.774772, 3.02929], [101.775075, 3.026309], [101.775012, 3.026115], [101.774742, 3.025394], [101.774434, 3.024759], [101.774107, 3.024609], [101.773791, 3.024576], [101.771629, 3.024756], [101.7714754191366, 3.024787850576785]]], &quot;type&quot;: &quot;Polygon&quot;}, &quot;id&quot;: &quot;565&quot;, &quot;properties&quot;: {&quot;area&quot;: 1.973167930604249e-05, &quot;center&quot;: &quot;[101.77099296144883, 3.0272457626409692]&quot;, &quot;isochrone_id&quot;: 189300, &quot;reachfactor&quot;: 0.5347999999999999, &quot;station_id&quot;: &quot;189&quot;, &quot;total_pop&quot;: 1240.5, &quot;type&quot;: &quot;Polygon&quot;, &quot;value&quot;: 300}, &quot;type&quot;: &quot;Feature&quot;}, {&quot;bbox&quot;: [101.780777, 2.998382, 101.786329, 3.004768], &quot;geometry&quot;: {&quot;coordinates&quot;: [[[101.7834131472939, 2.999363159040676], [101.781005, 3.000979], [101.780777, 3.001257], [101.781491, 3.003185], [101.7821640109322, 3.003641836780868], [101.782255, 3.004475], [101.782418, 3.004567], [101.782571, 3.004647], [101.783097, 3.004768], [101.785976, 3.003664], [101.786091, 3.003573], [101.786329, 3.003302], [101.786313, 3.000525], [101.786287, 3.000187], [101.785897, 2.998635], [101.785764, 2.998387], [101.785757, 2.998382], [101.785529, 2.998401], [101.784948, 2.998483], [101.784273, 2.998583], [101.7834131472939, 2.999363159040676]]], &quot;type&quot;: &quot;Polygon&quot;}, &quot;id&quot;: &quot;568&quot;, &quot;properties&quot;: {&quot;area&quot;: 2.441984526846319e-05, &quot;center&quot;: &quot;[101.783749, 3.0004592]&quot;, &quot;isochrone_id&quot;: 190300, &quot;reachfactor&quot;: 0.66745, &quot;station_id&quot;: &quot;190&quot;, &quot;total_pop&quot;: 1430.0, &quot;type&quot;: &quot;Polygon&quot;, &quot;value&quot;: 300}, &quot;type&quot;: &quot;Feature&quot;}, {&quot;bbox&quot;: [101.783262, 2.990296, 101.789691, 2.997489], &quot;geometry&quot;: {&quot;coordinates&quot;: [[[101.7885723530088, 2.991431447363686], [101.78844, 2.990956], [101.788203, 2.990685], [101.787695, 2.990296], [101.783439, 2.991889], [101.783267, 2.992206], [101.783262, 2.992387], [101.783532, 2.993952], [101.783887219611, 2.994449622157176], [101.784114, 2.994982], [101.784288, 2.995298], [101.786943, 2.997489], [101.788363, 2.996793], [101.7886619020826, 2.994791370285491], [101.788992, 2.99431], [101.789691, 2.993283], [101.78965, 2.992925], [101.7885723530088, 2.991431447363686]]], &quot;type&quot;: &quot;Polygon&quot;}, &quot;id&quot;: &quot;571&quot;, &quot;properties&quot;: {&quot;area&quot;: 2.9224394720461364e-05, &quot;center&quot;: &quot;[101.7861107, 2.9944474]&quot;, &quot;isochrone_id&quot;: 191300, &quot;reachfactor&quot;: 0.8283, &quot;station_id&quot;: &quot;191&quot;, &quot;total_pop&quot;: 1775.33333333333, &quot;type&quot;: &quot;Polygon&quot;, &quot;value&quot;: 300}, &quot;type&quot;: &quot;Feature&quot;}, {&quot;bbox&quot;: [101.78857, 2.979548, 101.792628, 2.987626], &quot;geometry&quot;: {&quot;coordinates&quot;: [[[101.7905179785115, 2.980257089366412], [101.790009, 2.979649], [101.78991, 2.979548], [101.789551, 2.979573], [101.78857, 2.980451], [101.788579, 2.98081], [101.788673, 2.981838], [101.789473, 2.98599], [101.789547, 2.986335], [101.789907, 2.986339], [101.7905476881708, 2.986127049623668], [101.791138, 2.987377], [101.791213, 2.987506], [101.791302, 2.987626], [101.791662, 2.987618], [101.792628, 2.986064], [101.792517, 2.985244], [101.7923468886017, 2.984126063883693], [101.792384, 2.984058], [101.792399, 2.983857], [101.792413, 2.983656], [101.79212, 2.982635], [101.791938, 2.981608], [101.790942, 2.980355], [101.790837, 2.98025], [101.7905179785115, 2.980257089366412]]], &quot;type&quot;: &quot;Polygon&quot;}, &quot;id&quot;: &quot;574&quot;, &quot;properties&quot;: {&quot;area&quot;: 2.1212645620263078e-05, &quot;center&quot;: &quot;[101.7900849, 2.9829814]&quot;, &quot;isochrone_id&quot;: 192300, &quot;reachfactor&quot;: 0.5703499999999999, &quot;station_id&quot;: &quot;192&quot;, &quot;total_pop&quot;: 1331.5, &quot;type&quot;: &quot;Polygon&quot;, &quot;value&quot;: 300}, &quot;type&quot;: &quot;Feature&quot;}, {&quot;bbox&quot;: [101.684934, 3.12998, 101.690428, 3.135674], &quot;geometry&quot;: {&quot;coordinates&quot;: [[[101.685035, 3.132159], [101.684934, 3.130557], [101.685033, 3.130382], [101.685065, 3.130351], [101.68517, 3.130285], [101.687408, 3.12998], [101.689947, 3.130336], [101.690055, 3.130679], [101.690423, 3.132252], [101.690424, 3.132287], [101.690422, 3.132656], [101.690428, 3.133651], [101.690051, 3.135465], [101.689757, 3.135674], [101.689636, 3.135674], [101.6863, 3.135545], [101.686111, 3.135437], [101.685297, 3.134707], [101.685035, 3.132159]]], &quot;type&quot;: &quot;Polygon&quot;}, &quot;id&quot;: &quot;577&quot;, &quot;properties&quot;: {&quot;area&quot;: 2.7558998999983668e-05, &quot;center&quot;: &quot;[101.6878981, 3.132682]&quot;, &quot;isochrone_id&quot;: 193300, &quot;reachfactor&quot;: 0.9769, &quot;station_id&quot;: &quot;193&quot;, &quot;total_pop&quot;: 2483.0, &quot;type&quot;: &quot;Polygon&quot;, &quot;value&quot;: 300}, &quot;type&quot;: &quot;Feature&quot;}, {&quot;bbox&quot;: [101.585967, 3.082707, 101.589957, 3.08653], &quot;geometry&quot;: {&quot;coordinates&quot;: [[[101.585967, 3.084531], [101.586064, 3.084184], [101.587281, 3.082788], [101.587632, 3.082707], [101.588696, 3.082914], [101.589957, 3.084053], [101.589933, 3.084412], [101.588696, 3.086385], [101.58866, 3.08641], [101.587084, 3.086529], [101.587047, 3.08653], [101.586182, 3.085901], [101.585967, 3.084531]]], &quot;type&quot;: &quot;Polygon&quot;}, &quot;id&quot;: &quot;580&quot;, &quot;properties&quot;: {&quot;area&quot;: 1.0932628000011676e-05, &quot;center&quot;: &quot;[101.58812449137929, 3.0846280727435196]&quot;, &quot;isochrone_id&quot;: 194300, &quot;reachfactor&quot;: 0.3875, &quot;station_id&quot;: &quot;194&quot;, &quot;total_pop&quot;: 677.0, &quot;type&quot;: &quot;Polygon&quot;, &quot;value&quot;: 300}, &quot;type&quot;: &quot;Feature&quot;}, {&quot;bbox&quot;: [101.553237, 3.131269, 101.555791, 3.135176], &quot;geometry&quot;: {&quot;coordinates&quot;: [[[101.553951, 3.133147], [101.555394, 3.131269], [101.555705, 3.13145], [101.555791, 3.132122], [101.555482, 3.133821], [101.554961, 3.13469], [101.554633, 3.134975], [101.553628, 3.135176], [101.553308, 3.135011], [101.553237, 3.134866], [101.553951, 3.133147]]], &quot;type&quot;: &quot;Polygon&quot;}, &quot;id&quot;: &quot;583&quot;, &quot;properties&quot;: {&quot;area&quot;: 5.178614500001467e-06, &quot;center&quot;: &quot;[101.55530141595109, 3.1342691389458124]&quot;, &quot;isochrone_id&quot;: 195300, &quot;reachfactor&quot;: 0.1836, &quot;station_id&quot;: &quot;195&quot;, &quot;total_pop&quot;: 299.0, &quot;type&quot;: &quot;Polygon&quot;, &quot;value&quot;: 300}, &quot;type&quot;: &quot;Feature&quot;}, {&quot;bbox&quot;: [101.606942, 3.073953, 101.613541, 3.079877], &quot;geometry&quot;: {&quot;coordinates&quot;: [[[101.606947, 3.075477], [101.608445, 3.073953], [101.608805, 3.073954], [101.611943, 3.074394], [101.612206, 3.074435], [101.61247, 3.074475], [101.612987, 3.074979], [101.613179, 3.075175], [101.613541, 3.07606], [101.613538, 3.076221], [101.613524, 3.076677], [101.612657, 3.077721], [101.612617, 3.077761], [101.611334, 3.079026], [101.610983, 3.079379], [101.610478, 3.079877], [101.610118, 3.079873], [101.61, 3.079763], [101.608988, 3.078763], [101.608044, 3.077541], [101.606942, 3.075837], [101.606947, 3.075477]]], &quot;type&quot;: &quot;Polygon&quot;}, &quot;id&quot;: &quot;588&quot;, &quot;properties&quot;: {&quot;area&quot;: 2.527346599998682e-05, &quot;center&quot;: &quot;[101.61027804441044, 3.0761293729574577]&quot;, &quot;isochrone_id&quot;: 197300, &quot;reachfactor&quot;: 0.8959, &quot;station_id&quot;: &quot;197&quot;, &quot;total_pop&quot;: 3478.0, &quot;type&quot;: &quot;Polygon&quot;, &quot;value&quot;: 300}, &quot;type&quot;: &quot;Feature&quot;}, {&quot;bbox&quot;: [101.608524, 3.066903, 101.613443, 3.074382], &quot;geometry&quot;: {&quot;coordinates&quot;: [[[101.608524, 3.071836], [101.610071, 3.067857], [101.610501, 3.066985], [101.610609, 3.066904], [101.610969, 3.066903], [101.61113, 3.067047], [101.611971, 3.067875], [101.613091, 3.068946], [101.613437, 3.069677], [101.613443, 3.070229], [101.613265, 3.071555], [101.613093, 3.072278], [101.611547, 3.074382], [101.611224, 3.074332], [101.610901, 3.074281], [101.610129, 3.074138], [101.60887, 3.073139], [101.608524, 3.071836]]], &quot;type&quot;: &quot;Polygon&quot;}, &quot;id&quot;: &quot;591&quot;, &quot;properties&quot;: {&quot;area&quot;: 2.455842049999653e-05, &quot;center&quot;: &quot;[101.61079751201764, 3.070649995132904]&quot;, &quot;isochrone_id&quot;: 198300, &quot;reachfactor&quot;: 0.8706, &quot;station_id&quot;: &quot;198&quot;, &quot;total_pop&quot;: 2822.0, &quot;type&quot;: &quot;Polygon&quot;, &quot;value&quot;: 300}, &quot;type&quot;: &quot;Feature&quot;}, {&quot;bbox&quot;: [101.604849, 3.062709, 101.612362, 3.068146], &quot;geometry&quot;: {&quot;coordinates&quot;: [[[101.604868, 3.065299], [101.604913, 3.065198], [101.608928, 3.062713], [101.609288, 3.062709], [101.610609, 3.063326], [101.61225, 3.065241], [101.612362, 3.065365], [101.612362, 3.065725], [101.610863, 3.06732], [101.60906, 3.068146], [101.605833, 3.066927], [101.605555, 3.066699], [101.604849, 3.065658], [101.604868, 3.065299]]], &quot;type&quot;: &quot;Polygon&quot;}, &quot;id&quot;: &quot;594&quot;, &quot;properties&quot;: {&quot;area&quot;: 2.548930349999788e-05, &quot;center&quot;: &quot;[101.60860985448382, 3.0655282507679424]&quot;, &quot;isochrone_id&quot;: 199300, &quot;reachfactor&quot;: 0.9037, &quot;station_id&quot;: &quot;199&quot;, &quot;total_pop&quot;: 2805.0, &quot;type&quot;: &quot;Polygon&quot;, &quot;value&quot;: 300}, &quot;type&quot;: &quot;Feature&quot;}, {&quot;bbox&quot;: [101.597778, 3.06196, 101.605368, 3.068106], &quot;geometry&quot;: {&quot;coordinates&quot;: [[[101.597778, 3.065245], [101.598129, 3.064722], [101.600002, 3.062584], [101.600162, 3.062496], [101.601146, 3.061965], [101.601506, 3.06196], [101.605368, 3.065221], [101.60535, 3.065581], [101.605265, 3.06568], [101.603416, 3.06746], [101.602689, 3.068106], [101.602329, 3.068105], [101.600542, 3.06783], [101.597796, 3.065604], [101.597778, 3.065245]]], &quot;type&quot;: &quot;Polygon&quot;}, &quot;id&quot;: &quot;597&quot;, &quot;properties&quot;: {&quot;area&quot;: 2.8314906499980952e-05, &quot;center&quot;: &quot;[101.60161008970644, 3.0652656756187566]&quot;, &quot;isochrone_id&quot;: 200300, &quot;reachfactor&quot;: 1.0, &quot;station_id&quot;: &quot;200&quot;, &quot;total_pop&quot;: 1873.0, &quot;type&quot;: &quot;Polygon&quot;, &quot;value&quot;: 300}, &quot;type&quot;: &quot;Feature&quot;}, {&quot;bbox&quot;: [101.593866, 3.058162, 101.598552, 3.062685], &quot;geometry&quot;: {&quot;coordinates&quot;: [[[101.594003, 3.062302], [101.593869, 3.061142], [101.593866, 3.060786], [101.59393, 3.060323], [101.595854, 3.05844], [101.596893, 3.058162], [101.597253, 3.058166], [101.598552, 3.061297], [101.597558, 3.062037], [101.594942, 3.062685], [101.594679, 3.062673], [101.594415, 3.062662], [101.594259, 3.06263], [101.594134, 3.062564], [101.594035, 3.062441], [101.594003, 3.062302]]], &quot;type&quot;: &quot;Polygon&quot;}, &quot;id&quot;: &quot;600&quot;, &quot;properties&quot;: {&quot;area&quot;: 1.446635599999041e-05, &quot;center&quot;: &quot;[101.59680992805262, 3.0616450277626406]&quot;, &quot;isochrone_id&quot;: 201300, &quot;reachfactor&quot;: 0.5128, &quot;station_id&quot;: &quot;201&quot;, &quot;total_pop&quot;: 1324.0, &quot;type&quot;: &quot;Polygon&quot;, &quot;value&quot;: 300}, &quot;type&quot;: &quot;Feature&quot;}, {&quot;bbox&quot;: [101.589705, 3.051504, 101.594262, 3.059153], &quot;geometry&quot;: {&quot;coordinates&quot;: [[[101.589705, 3.056501], [101.591887, 3.051506], [101.592247, 3.051504], [101.592648, 3.051734], [101.59398, 3.052731], [101.594262, 3.05787], [101.594115, 3.058068], [101.59219, 3.059071], [101.59184, 3.059153], [101.589707, 3.056861], [101.589705, 3.056501]]], &quot;type&quot;: &quot;Polygon&quot;}, &quot;id&quot;: &quot;603&quot;, &quot;properties&quot;: {&quot;area&quot;: 2.355413650001063e-05, &quot;center&quot;: &quot;[101.59204720797565, 3.055251753188616]&quot;, &quot;isochrone_id&quot;: 202300, &quot;reachfactor&quot;: 0.835, &quot;station_id&quot;: &quot;202&quot;, &quot;total_pop&quot;: 1962.0, &quot;type&quot;: &quot;Polygon&quot;, &quot;value&quot;: 300}, &quot;type&quot;: &quot;Feature&quot;}, {&quot;bbox&quot;: [101.576724, 3.20508, 101.583445, 3.208177], &quot;geometry&quot;: {&quot;coordinates&quot;: [[[101.580666, 3.205233], [101.58054, 3.205261], [101.577351, 3.207029], [101.577037, 3.20725], [101.576724, 3.20747], [101.576931, 3.207764], [101.578469, 3.208177], [101.578757, 3.208157], [101.578963, 3.208131], [101.579686, 3.207665], [101.582385, 3.206106], [101.583284, 3.20546], [101.583445, 3.205138], [101.583373, 3.205102], [101.583218, 3.20508], [101.580666, 3.205233]]], &quot;type&quot;: &quot;Polygon&quot;}, &quot;id&quot;: &quot;606&quot;, &quot;properties&quot;: {&quot;area&quot;: 9.091239500006978e-06, &quot;center&quot;: &quot;[101.5803881952098, 3.2064113465814885]&quot;, &quot;isochrone_id&quot;: 203300, &quot;reachfactor&quot;: 0.2563, &quot;station_id&quot;: &quot;203&quot;, &quot;total_pop&quot;: 304.5, &quot;type&quot;: &quot;Polygon&quot;, &quot;value&quot;: 300}, &quot;type&quot;: &quot;Feature&quot;}, {&quot;bbox&quot;: [101.573997, 3.195629, 101.579251, 3.203496], &quot;geometry&quot;: {&quot;coordinates&quot;: [[[101.5786553963591, 3.196521709448279], [101.578003, 3.195629], [101.577644, 3.195666], [101.574567, 3.19738], [101.573997, 3.197985], [101.573998, 3.198345], [101.574072, 3.198447], [101.5757193631134, 3.200059033131368], [101.575759, 3.200402], [101.57883, 3.203496], [101.579185, 3.203433], [101.579251, 3.203185], [101.578949, 3.197453], [101.57876, 3.196533], [101.5786553963591, 3.196521709448279]]], &quot;type&quot;: &quot;Polygon&quot;}, &quot;id&quot;: &quot;609&quot;, &quot;properties&quot;: {&quot;area&quot;: 2.306963563108939e-05, &quot;center&quot;: &quot;[101.578194, 3.199222]&quot;, &quot;isochrone_id&quot;: 204300, &quot;reachfactor&quot;: 0.4994, &quot;station_id&quot;: &quot;204&quot;, &quot;total_pop&quot;: 771.0, &quot;type&quot;: &quot;Polygon&quot;, &quot;value&quot;: 300}, &quot;type&quot;: &quot;Feature&quot;}, {&quot;bbox&quot;: [101.570729, 3.173815, 101.575788, 3.179803], &quot;geometry&quot;: {&quot;coordinates&quot;: [[[101.570729, 3.179561], [101.57144, 3.175511], [101.572167, 3.174307], [101.572649, 3.174002], [101.572957, 3.173815], [101.57387, 3.174685], [101.574034, 3.175006], [101.575788, 3.178543], [101.5755, 3.178759], [101.571111, 3.179803], [101.570768, 3.179695], [101.570729, 3.179561]]], &quot;type&quot;: &quot;Polygon&quot;}, &quot;id&quot;: &quot;612&quot;, &quot;properties&quot;: {&quot;area&quot;: 1.8254585000021916e-05, &quot;center&quot;: &quot;[101.5723031, 3.1766755]&quot;, &quot;isochrone_id&quot;: 205300, &quot;reachfactor&quot;: 0.6471, &quot;station_id&quot;: &quot;205&quot;, &quot;total_pop&quot;: 165.0, &quot;type&quot;: &quot;Polygon&quot;, &quot;value&quot;: 300}, &quot;type&quot;: &quot;Feature&quot;}, {&quot;bbox&quot;: [101.589328, 3.196496, 101.594964, 3.200829], &quot;geometry&quot;: {&quot;coordinates&quot;: [[[101.5936512972413, 3.199586687797744], [101.594547, 3.199459], [101.594862, 3.199391], [101.594897, 3.199375], [101.594961, 3.199165], [101.594964, 3.199103], [101.594897, 3.198913], [101.594398, 3.197538], [101.593404, 3.196981], [101.592443, 3.196496], [101.592084, 3.196531], [101.590389, 3.197938], [101.590239, 3.198125], [101.589395, 3.199469], [101.5893939234998, 3.199571267516669], [101.589328, 3.199572], [101.5893284921448, 3.199634994531725], [101.589328, 3.199635], [101.58932918125, 3.199723200000501], [101.58933, 3.199828], [101.589333, 3.200084], [101.589362, 3.200291], [101.589461, 3.200446], [101.589555, 3.200515], [101.589679, 3.200563], [101.589821, 3.200581], [101.59168, 3.200815], [101.591808, 3.200829], [101.593437, 3.20008], [101.59375, 3.199917], [101.5936512972413, 3.199586687797744]]], &quot;type&quot;: &quot;Polygon&quot;}, &quot;id&quot;: &quot;615&quot;, &quot;properties&quot;: {&quot;area&quot;: 1.5811047340441258e-05, &quot;center&quot;: &quot;[101.5925125, 3.1997353]&quot;, &quot;isochrone_id&quot;: 206300, &quot;reachfactor&quot;: 0.25033333333333335, &quot;station_id&quot;: &quot;206&quot;, &quot;total_pop&quot;: 654.333333333333, &quot;type&quot;: &quot;Polygon&quot;, &quot;value&quot;: 300}, &quot;type&quot;: &quot;Feature&quot;}, {&quot;bbox&quot;: [101.605328, 3.195396, 101.611135, 3.200529], &quot;geometry&quot;: {&quot;coordinates&quot;: [[[101.61072014512, 3.19868518506022], [101.611098, 3.197354], [101.610947, 3.196598], [101.610301, 3.195589], [101.609984, 3.195418], [101.60992, 3.195396], [101.609099, 3.195469], [101.606547, 3.19568], [101.60542, 3.197619], [101.6057395410558, 3.198016177203928], [101.605384, 3.198587], [101.605328, 3.198758], [101.605451, 3.198941], [101.605716, 3.199269], [101.610943, 3.200529], [101.611135, 3.200225], [101.61072014512, 3.19868518506022]]], &quot;type&quot;: &quot;Polygon&quot;}, &quot;id&quot;: &quot;618&quot;, &quot;properties&quot;: {&quot;area&quot;: 2.2143718835504783e-05, &quot;center&quot;: &quot;[101.60800016369531, 3.1985308655612594]&quot;, &quot;isochrone_id&quot;: 207300, &quot;reachfactor&quot;: 0.6211500000000001, &quot;station_id&quot;: &quot;207&quot;, &quot;total_pop&quot;: 1009.5, &quot;type&quot;: &quot;Polygon&quot;, &quot;value&quot;: 300}, &quot;type&quot;: &quot;Feature&quot;}, {&quot;bbox&quot;: [101.61944, 3.198072, 101.624321, 3.201145], &quot;geometry&quot;: {&quot;coordinates&quot;: [[[101.6194444178708, 3.198414460056474], [101.61944, 3.198454], [101.6194718944844, 3.198603904076775], [101.619573, 3.199301], [101.619709, 3.199611], [101.619846, 3.199922], [101.620663, 3.201105], [101.620666, 3.201108], [101.620913, 3.201145], [101.624064, 3.20001], [101.624321, 3.199759], [101.624043, 3.199254], [101.623811, 3.199069], [101.622542, 3.198595], [101.62084, 3.19817], [101.619909, 3.198075], [101.6198981315822, 3.198074822797536], [101.619885, 3.198073], [101.6198720696576, 3.198074397874852], [101.619725, 3.198072], [101.6196725543524, 3.198095967097042], [101.619626, 3.198101], [101.6195985273365, 3.198129796647315], [101.619539, 3.198157], [101.6195107267305, 3.198221828607744], [101.61946, 3.198275], [101.6194505151354, 3.198359889537963], [101.61944, 3.198384], [101.6194444178708, 3.198414460056474]]], &quot;type&quot;: &quot;Polygon&quot;}, &quot;id&quot;: &quot;621&quot;, &quot;properties&quot;: {&quot;area&quot;: 9.42593123797575e-06, &quot;center&quot;: &quot;[101.62081612098679, 3.198728623743231]&quot;, &quot;isochrone_id&quot;: 208300, &quot;reachfactor&quot;: 0.27890000000000004, &quot;station_id&quot;: &quot;208&quot;, &quot;total_pop&quot;: 1205.5, &quot;type&quot;: &quot;Polygon&quot;, &quot;value&quot;: 300}, &quot;type&quot;: &quot;Feature&quot;}, {&quot;bbox&quot;: [101.625416, 3.204978, 101.631362, 3.211012], &quot;geometry&quot;: {&quot;coordinates&quot;: [[[101.625416, 3.207437], [101.625438, 3.207078], [101.627131, 3.205243], [101.627462, 3.205099], [101.627701, 3.205023], [101.628059, 3.204978], [101.631212, 3.208163], [101.631362, 3.208491], [101.63093, 3.209813], [101.630672, 3.210064], [101.629894, 3.210828], [101.629705, 3.21101], [101.629502, 3.211012], [101.625688, 3.208403], [101.625416, 3.207437]]], &quot;type&quot;: &quot;Polygon&quot;}, &quot;id&quot;: &quot;624&quot;, &quot;properties&quot;: {&quot;area&quot;: 2.085576699999346e-05, &quot;center&quot;: &quot;[101.6285774, 3.2080513]&quot;, &quot;isochrone_id&quot;: 209300, &quot;reachfactor&quot;: 0.7392, &quot;station_id&quot;: &quot;209&quot;, &quot;total_pop&quot;: 1991.0, &quot;type&quot;: &quot;Polygon&quot;, &quot;value&quot;: 300}, &quot;type&quot;: &quot;Feature&quot;}, {&quot;bbox&quot;: [101.636134, 3.210894, 101.643287, 3.217901], &quot;geometry&quot;: {&quot;coordinates&quot;: [[[101.6432402486015, 3.214051305066458], [101.64325, 3.214028], [101.643247, 3.213901], [101.643128, 3.213561], [101.642572, 3.212962], [101.640403, 3.210902], [101.640043, 3.210894], [101.636871, 3.21303], [101.636481, 3.213342], [101.636209, 3.213574], [101.636134, 3.213926], [101.63625, 3.214095], [101.6371736550409, 3.21527345643154], [101.637298, 3.215651], [101.638495, 3.21728], [101.639288, 3.21777], [101.639511, 3.217901], [101.639511, 3.2179], [101.640412, 3.217603], [101.641047, 3.217371], [101.642649, 3.215883], [101.642718, 3.215764], [101.643245, 3.214692], [101.643287, 3.214507], [101.643279, 3.214384], [101.6432402486015, 3.214051305066458]]], &quot;type&quot;: &quot;Polygon&quot;}, &quot;id&quot;: &quot;627&quot;, &quot;properties&quot;: {&quot;area&quot;: 3.0999325375877736e-05, &quot;center&quot;: &quot;[101.6396741, 3.2140816]&quot;, &quot;isochrone_id&quot;: 210300, &quot;reachfactor&quot;: 0.8984, &quot;station_id&quot;: &quot;210&quot;, &quot;total_pop&quot;: 4079.5, &quot;type&quot;: &quot;Polygon&quot;, &quot;value&quot;: 300}, &quot;type&quot;: &quot;Feature&quot;}, {&quot;bbox&quot;: [101.645376, 3.207181, 101.652181, 3.214299], &quot;geometry&quot;: {&quot;coordinates&quot;: [[[101.6503518443275, 3.209763974771507], [101.649749, 3.208783], [101.649114, 3.208157], [101.648525, 3.207648], [101.647678, 3.207183], [101.647318, 3.207181], [101.64571, 3.208092], [101.645461, 3.208352], [101.645389, 3.209052], [101.645376, 3.209866], [101.645743, 3.210801], [101.6460665226062, 3.211578337592962], [101.646062534202, 3.211604596091183], [101.645844, 3.212588], [101.646029, 3.212897], [101.646262, 3.213163], [101.6468, 3.213756], [101.647316, 3.213934], [101.64876, 3.214299], [101.64912, 3.214292], [101.6499774981804, 3.213268135256483], [101.65084, 3.212329], [101.6509175009503, 3.212145758886678], [101.650991, 3.212058], [101.652181, 3.210683], [101.652132, 3.210549], [101.651848, 3.210259], [101.6503518443275, 3.209763974771507]]], &quot;type&quot;: &quot;Polygon&quot;}, &quot;id&quot;: &quot;630&quot;, &quot;properties&quot;: {&quot;area&quot;: 3.0236074566393024e-05, &quot;center&quot;: &quot;[101.6489876562168, 3.2113975506490746]&quot;, &quot;isochrone_id&quot;: 211300, &quot;reachfactor&quot;: 0.7985666666666665, &quot;station_id&quot;: &quot;211&quot;, &quot;total_pop&quot;: 1963.33333333333, &quot;type&quot;: &quot;Polygon&quot;, &quot;value&quot;: 300}, &quot;type&quot;: &quot;Feature&quot;}, {&quot;bbox&quot;: [101.652286, 3.20531, 101.659491, 3.212515], &quot;geometry&quot;: {&quot;coordinates&quot;: [[[101.6584525432198, 3.208184417620959], [101.657104, 3.205468], [101.657019, 3.205349], [101.656942, 3.205336], [101.656657, 3.20531], [101.6526974222544, 3.208173694611966], [101.652601, 3.208199], [101.652505, 3.208295], [101.652286, 3.208721], [101.652875, 3.210872], [101.653856, 3.211667], [101.656973, 3.212515], [101.656982, 3.212515], [101.6577, 3.2118], [101.65859, 3.210871], [101.659066, 3.210327], [101.659491, 3.208648], [101.659271, 3.208363], [101.6584525432198, 3.208184417620959]]], &quot;type&quot;: &quot;Polygon&quot;}, &quot;id&quot;: &quot;633&quot;, &quot;properties&quot;: {&quot;area&quot;: 3.214514219874489e-05, &quot;center&quot;: &quot;[101.65590444196977, 3.209315536206359]&quot;, &quot;isochrone_id&quot;: 212300, &quot;reachfactor&quot;: 0.8002333333333334, &quot;station_id&quot;: &quot;212&quot;, &quot;total_pop&quot;: 2936.0, &quot;type&quot;: &quot;Polygon&quot;, &quot;value&quot;: 300}, &quot;type&quot;: &quot;Feature&quot;}, {&quot;bbox&quot;: [101.662259, 3.204109, 101.669645, 3.209339], &quot;geometry&quot;: {&quot;coordinates&quot;: [[[101.6669238871, 3.207276370682193], [101.668834, 3.206349], [101.669558, 3.206041], [101.669645, 3.205691], [101.668871, 3.204328], [101.668643, 3.204115], [101.668585, 3.204109], [101.666301, 3.20521], [101.662487, 3.207398], [101.662455, 3.207428], [101.662392, 3.207538], [101.662259, 3.207802], [101.662282, 3.208161], [101.663698, 3.209339], [101.664058, 3.209327], [101.665166, 3.208793], [101.6669238871, 3.207276370682193]]], &quot;type&quot;: &quot;Polygon&quot;}, &quot;id&quot;: &quot;636&quot;, &quot;properties&quot;: {&quot;area&quot;: 1.661166436729795e-05, &quot;center&quot;: &quot;[101.666548, 3.2054264]&quot;, &quot;isochrone_id&quot;: 213300, &quot;reachfactor&quot;: 0.39483333333333337, &quot;station_id&quot;: &quot;213&quot;, &quot;total_pop&quot;: 1593.0, &quot;type&quot;: &quot;Polygon&quot;, &quot;value&quot;: 300}, &quot;type&quot;: &quot;Feature&quot;}, {&quot;bbox&quot;: [101.673296, 3.20251, 101.678023, 3.208442], &quot;geometry&quot;: {&quot;coordinates&quot;: [[[101.673319, 3.205097], [101.673951, 3.204005], [101.674326, 3.203391], [101.67491, 3.202657], [101.675024, 3.202577], [101.675204, 3.20251], [101.677457, 3.202679], [101.677731, 3.202912], [101.678021, 3.204417], [101.678023, 3.204662], [101.677879, 3.205182], [101.677553, 3.206305], [101.67745, 3.206432], [101.677211, 3.206701], [101.675816, 3.20782], [101.675111, 3.208296], [101.674897, 3.208442], [101.674539, 3.208408], [101.673296, 3.206942], [101.673319, 3.205097]]], &quot;type&quot;: &quot;Polygon&quot;}, &quot;id&quot;: &quot;639&quot;, &quot;properties&quot;: {&quot;area&quot;: 2.035615250000589e-05, &quot;center&quot;: &quot;[101.6755411, 3.2051788]&quot;, &quot;isochrone_id&quot;: 214300, &quot;reachfactor&quot;: 0.7215, &quot;station_id&quot;: &quot;214&quot;, &quot;total_pop&quot;: 4064.0, &quot;type&quot;: &quot;Polygon&quot;, &quot;value&quot;: 300}, &quot;type&quot;: &quot;Feature&quot;}, {&quot;bbox&quot;: [101.676622, 3.190425, 101.682315, 3.199747], &quot;geometry&quot;: {&quot;coordinates&quot;: [[[101.6810796149109, 3.193802785564586], [101.680523, 3.190602], [101.680196, 3.19045], [101.679792, 3.190425], [101.679515, 3.190443], [101.6782102988067, 3.193818330453384], [101.676815, 3.194853], [101.676622, 3.195157], [101.676691, 3.195478], [101.67679, 3.195933], [101.677284, 3.198099], [101.67775, 3.199382], [101.67787, 3.199536], [101.678182, 3.199716], [101.678255, 3.199747], [101.678771, 3.199623], [101.678976, 3.199573], [101.679439, 3.199394], [101.680437, 3.198865], [101.681189, 3.198158], [101.681797, 3.19743], [101.682049, 3.19704], [101.682173, 3.196553], [101.682315, 3.195532], [101.6823, 3.195477], [101.68223, 3.195367], [101.681082, 3.193805], [101.6810796149109, 3.193802785564586]]], &quot;type&quot;: &quot;Polygon&quot;}, &quot;id&quot;: &quot;643&quot;, &quot;properties&quot;: {&quot;area&quot;: 3.122393523353634e-05, &quot;center&quot;: &quot;[101.6792866, 3.1939803]&quot;, &quot;isochrone_id&quot;: 215300, &quot;reachfactor&quot;: 0.74885, &quot;station_id&quot;: &quot;215&quot;, &quot;total_pop&quot;: 2961.5, &quot;type&quot;: &quot;Polygon&quot;, &quot;value&quot;: 300}, &quot;type&quot;: &quot;Feature&quot;}, {&quot;bbox&quot;: [101.679169, 3.185494, 101.684373, 3.193315], &quot;geometry&quot;: {&quot;coordinates&quot;: [[[101.680361, 3.188595], [101.680345, 3.188654], [101.679409, 3.191962], [101.679386, 3.192066], [101.679388, 3.1921], [101.6793986220341, 3.192198722434383], [101.679217, 3.192879], [101.67918, 3.193094], [101.679169, 3.193238], [101.679307, 3.193315], [101.679667, 3.193302], [101.6815531918346, 3.19138294421052], [101.684308, 3.189738], [101.684373, 3.189384], [101.683445, 3.187478], [101.681934, 3.185494], [101.68159, 3.185599], [101.680409, 3.188436], [101.680361, 3.188595]]], &quot;type&quot;: &quot;Polygon&quot;}, &quot;id&quot;: &quot;646&quot;, &quot;properties&quot;: {&quot;area&quot;: 1.857626033933447e-05, &quot;center&quot;: &quot;[101.6806186, 3.1897855]&quot;, &quot;isochrone_id&quot;: 216300, &quot;reachfactor&quot;: 0.4503333333333333, &quot;station_id&quot;: &quot;216&quot;, &quot;total_pop&quot;: 1439.66666666667, &quot;type&quot;: &quot;Polygon&quot;, &quot;value&quot;: 300}, &quot;type&quot;: &quot;Feature&quot;}, {&quot;bbox&quot;: [101.681262, 3.175882, 101.688195, 3.18249], &quot;geometry&quot;: {&quot;coordinates&quot;: [[[101.6870823901941, 3.1794275856828], [101.687375, 3.179313], [101.687694, 3.179147], [101.687909, 3.178641], [101.688012, 3.178186], [101.688126, 3.177585], [101.688195, 3.176445], [101.687959, 3.176173], [101.685366, 3.175882], [101.684161, 3.176043], [101.682497, 3.178107], [101.6822695761276, 3.179340302580535], [101.681408, 3.18003], [101.681262, 3.180649], [101.681283, 3.181168], [101.681606, 3.182368], [101.681945, 3.18249], [101.683945, 3.182353], [101.684911, 3.18174], [101.68697, 3.179992], [101.6870823901941, 3.1794275856828]]], &quot;type&quot;: &quot;Polygon&quot;}, &quot;id&quot;: &quot;649&quot;, &quot;properties&quot;: {&quot;area&quot;: 3.012199136983049e-05, &quot;center&quot;: &quot;[101.68522913001877, 3.178580551885652]&quot;, &quot;isochrone_id&quot;: 217300, &quot;reachfactor&quot;: 0.7436499999999999, &quot;station_id&quot;: &quot;217&quot;, &quot;total_pop&quot;: 2423.0, &quot;type&quot;: &quot;Polygon&quot;, &quot;value&quot;: 300}, &quot;type&quot;: &quot;Feature&quot;}, {&quot;bbox&quot;: [101.692726, 3.170437, 101.700653, 3.17654], &quot;geometry&quot;: {&quot;coordinates&quot;: [[[101.6977670289185, 3.17236808032195], [101.697505, 3.17205], [101.696054, 3.170718], [101.695493, 3.170437], [101.695147, 3.170483], [101.692805, 3.171868], [101.692779, 3.171914], [101.69273, 3.172132], [101.692726, 3.172172], [101.692744, 3.172279], [101.693739, 3.175727], [101.694063, 3.176093], [101.694211, 3.176157], [101.696146, 3.17654], [101.6976599595069, 3.175762714488993], [101.699788, 3.17606], [101.700138, 3.175976], [101.700246, 3.175608], [101.700653, 3.174126], [101.700568, 3.173915], [101.700423, 3.173586], [101.699215, 3.172705], [101.6977670289185, 3.17236808032195]]], &quot;type&quot;: &quot;Polygon&quot;}, &quot;id&quot;: &quot;652&quot;, &quot;properties&quot;: {&quot;area&quot;: 3.13957081616645e-05, &quot;center&quot;: &quot;[101.6958928, 3.1737287]&quot;, &quot;isochrone_id&quot;: 218300, &quot;reachfactor&quot;: 0.8298, &quot;station_id&quot;: &quot;218&quot;, &quot;total_pop&quot;: 2774.0, &quot;type&quot;: &quot;Polygon&quot;, &quot;value&quot;: 300}, &quot;type&quot;: &quot;Feature&quot;}, {&quot;bbox&quot;: [101.698422, 3.170628, 101.705798, 3.177642], &quot;geometry&quot;: {&quot;coordinates&quot;: [[[101.703886113325, 3.17234832948758], [101.703928, 3.17175], [101.703927, 3.171731], [101.703756, 3.171493], [101.702905, 3.170667], [101.702744, 3.170628], [101.698827, 3.170712], [101.698481, 3.170813], [101.698422, 3.170848], [101.698523, 3.172378], [101.698713, 3.172818], [101.69893, 3.173105], [101.699302, 3.173532], [101.6995050734038, 3.173651251942173], [101.699577, 3.174878], [101.700503, 3.176389], [101.702651, 3.177642], [101.702781, 3.177636], [101.703428, 3.177415], [101.705002, 3.175685], [101.705798, 3.172946], [101.705715, 3.172596], [101.703886113325, 3.17234832948758]]], &quot;type&quot;: &quot;Polygon&quot;}, &quot;id&quot;: &quot;656&quot;, &quot;properties&quot;: {&quot;area&quot;: 3.455918178059922e-05, &quot;center&quot;: &quot;[101.70066779193307, 3.173111720746867]&quot;, &quot;isochrone_id&quot;: 219300, &quot;reachfactor&quot;: 0.79355, &quot;station_id&quot;: &quot;219&quot;, &quot;total_pop&quot;: 2009.0, &quot;type&quot;: &quot;Polygon&quot;, &quot;value&quot;: 300}, &quot;type&quot;: &quot;Feature&quot;}, {&quot;bbox&quot;: [101.705931, 3.164872, 101.715595, 3.170287], &quot;geometry&quot;: {&quot;coordinates&quot;: [[[101.7107636867235, 3.165413157429905], [101.710266, 3.165278], [101.709091, 3.165076], [101.708732, 3.165107], [101.707632, 3.166238], [101.7071920044697, 3.166688971897762], [101.70611, 3.167766], [101.706064, 3.16781], [101.705942, 3.167938], [101.705931, 3.16801], [101.7061, 3.168176], [101.706653, 3.168528], [101.709337, 3.170265], [101.7102274880575, 3.170226875129036], [101.710262, 3.170269], [101.7103, 3.170287], [101.712194, 3.170131], [101.714484, 3.169636], [101.715454, 3.169066], [101.715483, 3.169046], [101.715595, 3.16882], [101.715535, 3.167239], [101.715273, 3.16589], [101.715185, 3.165639], [101.715152, 3.165579], [101.714839, 3.1654], [101.713976, 3.16501], [101.713902, 3.164991], [101.712599, 3.164872], [101.7107636867235, 3.165413157429905]]], &quot;type&quot;: &quot;Polygon&quot;}, &quot;id&quot;: &quot;659&quot;, &quot;properties&quot;: {&quot;area&quot;: 3.915749619514783e-05, &quot;center&quot;: &quot;[101.7099028, 3.1677539]&quot;, &quot;isochrone_id&quot;: 220300, &quot;reachfactor&quot;: 0.9071199999999999, &quot;station_id&quot;: &quot;220&quot;, &quot;total_pop&quot;: 2418.0, &quot;type&quot;: &quot;Polygon&quot;, &quot;value&quot;: 300}, &quot;type&quot;: &quot;Feature&quot;}, {&quot;bbox&quot;: [101.715093, 3.15947, 101.720501, 3.164866], &quot;geometry&quot;: {&quot;coordinates&quot;: [[[101.716211, 3.160234], [101.716098, 3.160576], [101.7160876705827, 3.16148262771098], [101.716039, 3.161535], [101.715239, 3.163125], [101.715093, 3.163454], [101.715318, 3.164646], [101.715331, 3.164677], [101.715649, 3.164848], [101.715882, 3.164866], [101.716633, 3.164466], [101.718784, 3.163061], [101.718828, 3.163034], [101.719316, 3.162592], [101.71953, 3.162302], [101.720277, 3.161038], [101.7202863130044, 3.160867520281124], [101.720468, 3.160527], [101.720501, 3.160168], [101.720453, 3.160068], [101.720362, 3.159899], [101.720286, 3.159793], [101.719946, 3.159675], [101.718498, 3.15947], [101.718495, 3.15947], [101.716258, 3.160167], [101.716211, 3.160234]]], &quot;type&quot;: &quot;Polygon&quot;}, &quot;id&quot;: &quot;662&quot;, &quot;properties&quot;: {&quot;area&quot;: 1.7283550097584906e-05, &quot;center&quot;: &quot;[101.7181623209893, 3.1625901429900667]&quot;, &quot;isochrone_id&quot;: 221300, &quot;reachfactor&quot;: 0.5036999999999999, &quot;station_id&quot;: &quot;221&quot;, &quot;total_pop&quot;: 2593.0, &quot;type&quot;: &quot;Polygon&quot;, &quot;value&quot;: 300}, &quot;type&quot;: &quot;Feature&quot;}, {&quot;bbox&quot;: [101.71503, 3.153772, 101.721155, 3.16049], &quot;geometry&quot;: {&quot;coordinates&quot;: [[[101.7155283055604, 3.157411161697365], [101.71524, 3.157871], [101.71503, 3.158313], [101.716025, 3.15973], [101.717486, 3.16049], [101.71957, 3.160228], [101.719801, 3.160056], [101.719906, 3.159961], [101.720516, 3.159309], [101.721155, 3.157135], [101.72079, 3.15599], [101.720009, 3.155247], [101.71838, 3.153772], [101.71802, 3.15379], [101.717625, 3.154067], [101.7160956233191, 3.156506307712338], [101.715616, 3.157039], [101.715584, 3.157151], [101.7155283055604, 3.157411161697365]]], &quot;type&quot;: &quot;Polygon&quot;}, &quot;id&quot;: &quot;665&quot;, &quot;properties&quot;: {&quot;area&quot;: 2.694945733701176e-05, &quot;center&quot;: &quot;[101.71836428709463, 3.1574125016889565]&quot;, &quot;isochrone_id&quot;: 222300, &quot;reachfactor&quot;: 0.9054, &quot;station_id&quot;: &quot;222&quot;, &quot;total_pop&quot;: 4666.0, &quot;type&quot;: &quot;Polygon&quot;, &quot;value&quot;: 300}, &quot;type&quot;: &quot;Feature&quot;}, {&quot;bbox&quot;: [101.71462, 3.147968, 101.721819, 3.154909], &quot;geometry&quot;: {&quot;coordinates&quot;: [[[101.714683, 3.14993], [101.714623, 3.150205], [101.71462, 3.150256], [101.714647, 3.150288], [101.714747, 3.150392], [101.7156759378551, 3.151123623317992], [101.715227, 3.152735], [101.715243, 3.153094], [101.718012, 3.154906], [101.718372, 3.154909], [101.718458, 3.154905], [101.718562, 3.154829], [101.720409, 3.153033], [101.721723, 3.151784], [101.721726, 3.151766], [101.721819, 3.150316], [101.721782, 3.150128], [101.721722, 3.150019], [101.721652, 3.149998], [101.721089, 3.149825], [101.7201923376846, 3.14966707606972], [101.719658, 3.148968], [101.719065, 3.148563], [101.718271, 3.148312], [101.716869, 3.147968], [101.716525, 3.148075], [101.71636, 3.148128], [101.716343, 3.148135], [101.71631, 3.148157], [101.716298, 3.148171], [101.714683, 3.14993]]], &quot;type&quot;: &quot;Polygon&quot;}, &quot;id&quot;: &quot;667&quot;, &quot;properties&quot;: {&quot;area&quot;: 3.207105816906136e-05, &quot;center&quot;: &quot;[101.7184289, 3.1517688]&quot;, &quot;isochrone_id&quot;: 223300, &quot;reachfactor&quot;: 0.7835, &quot;station_id&quot;: &quot;223&quot;, &quot;total_pop&quot;: 3619.0, &quot;type&quot;: &quot;Polygon&quot;, &quot;value&quot;: 300}, &quot;type&quot;: &quot;Feature&quot;}, {&quot;bbox&quot;: [101.716478, 3.139785, 101.721811, 3.146452], &quot;geometry&quot;: {&quot;coordinates&quot;: [[[101.717825, 3.140627], [101.717005, 3.142625], [101.7170570643036, 3.143097723154458], [101.716655, 3.143977], [101.716478, 3.144797], [101.716636, 3.14512], [101.717817, 3.145506], [101.720615, 3.146452], [101.720962, 3.146356], [101.721775, 3.1449], [101.721799, 3.144616], [101.7217462313093, 3.144408111271514], [101.721811, 3.144279], [101.721782, 3.144179], [101.72027, 3.139817], [101.719777, 3.139785], [101.717855, 3.140549], [101.717825, 3.140627]]], &quot;type&quot;: &quot;Polygon&quot;}, &quot;id&quot;: &quot;670&quot;, &quot;properties&quot;: {&quot;area&quot;: 2.3975298122005767e-05, &quot;center&quot;: &quot;[101.7197635, 3.1431359]&quot;, &quot;isochrone_id&quot;: 224300, &quot;reachfactor&quot;: 0.7588888888888888, &quot;station_id&quot;: &quot;224&quot;, &quot;total_pop&quot;: 2352.88888888889, &quot;type&quot;: &quot;Polygon&quot;, &quot;value&quot;: 300}, &quot;type&quot;: &quot;Feature&quot;}, {&quot;bbox&quot;: [101.711828, 3.124452, 101.718627, 3.13121], &quot;geometry&quot;: {&quot;coordinates&quot;: [[[101.714093, 3.124452], [101.713793, 3.12465], [101.711828, 3.127875], [101.711978, 3.12808], [101.712127, 3.128284], [101.713049, 3.129498], [101.7133542565977, 3.12959406987102], [101.713762, 3.130077], [101.713915, 3.130225], [101.714062, 3.130276], [101.7166635937083, 3.130874067519159], [101.717325, 3.13121], [101.7175507587569, 3.131077737293957], [101.717657, 3.131102], [101.717812, 3.130974], [101.7178966219893, 3.1308751103497], [101.718018, 3.130804], [101.718135, 3.130712], [101.718627, 3.130268], [101.718431, 3.129966], [101.715773, 3.126639], [101.715543, 3.12643], [101.7154989315986, 3.126398531182562], [101.714703, 3.125327], [101.714093, 3.124452]]], &quot;type&quot;: &quot;Polygon&quot;}, &quot;id&quot;: &quot;673&quot;, &quot;properties&quot;: {&quot;area&quot;: 2.2320926298416534e-05, &quot;center&quot;: &quot;[101.715929, 3.1288204]&quot;, &quot;isochrone_id&quot;: 225300, &quot;reachfactor&quot;: 0.43192499999999995, &quot;station_id&quot;: &quot;225&quot;, &quot;total_pop&quot;: 924.75, &quot;type&quot;: &quot;Polygon&quot;, &quot;value&quot;: 300}, &quot;type&quot;: &quot;Feature&quot;}, {&quot;bbox&quot;: [101.69137, 3.086793, 101.695449, 3.091773], &quot;geometry&quot;: {&quot;coordinates&quot;: [[[101.691674, 3.088231], [101.691861, 3.087984], [101.693829, 3.086796], [101.693924, 3.086793], [101.694068, 3.086839], [101.694181, 3.086952], [101.695441, 3.089823], [101.695443, 3.089898], [101.695449, 3.090109], [101.695033, 3.090753], [101.691595, 3.091773], [101.69137, 3.091492], [101.691674, 3.088231]]], &quot;type&quot;: &quot;Polygon&quot;}, &quot;id&quot;: &quot;676&quot;, &quot;properties&quot;: {&quot;area&quot;: 1.3567118999979672e-05, &quot;center&quot;: &quot;[101.6938877, 3.0896471]&quot;, &quot;isochrone_id&quot;: 226300, &quot;reachfactor&quot;: 0.481, &quot;station_id&quot;: &quot;226&quot;, &quot;total_pop&quot;: 971.0, &quot;type&quot;: &quot;Polygon&quot;, &quot;value&quot;: 300}, &quot;type&quot;: &quot;Feature&quot;}, {&quot;bbox&quot;: [101.696648, 3.074257, 101.702058, 3.080636], &quot;geometry&quot;: {&quot;coordinates&quot;: [[[101.696648, 3.077026], [101.701746, 3.074257], [101.702058, 3.074437], [101.701962, 3.074604], [101.701865, 3.074771], [101.701719, 3.07494], [101.701595, 3.07508], [101.699019, 3.080316], [101.698855, 3.080636], [101.698702, 3.0806], [101.698368, 3.080466], [101.697371, 3.07882], [101.696692, 3.077384], [101.696648, 3.077026]]], &quot;type&quot;: &quot;Polygon&quot;}, &quot;id&quot;: &quot;679&quot;, &quot;properties&quot;: {&quot;area&quot;: 1.4225204500008323e-05, &quot;center&quot;: &quot;[101.6996604, 3.0771713]&quot;, &quot;isochrone_id&quot;: 227300, &quot;reachfactor&quot;: 0.5042, &quot;station_id&quot;: &quot;227&quot;, &quot;total_pop&quot;: 1308.0, &quot;type&quot;: &quot;Polygon&quot;, &quot;value&quot;: 300}, &quot;type&quot;: &quot;Feature&quot;}, {&quot;bbox&quot;: [101.705195, 3.060582, 101.711502, 3.067058], &quot;geometry&quot;: {&quot;coordinates&quot;: [[[101.706133, 3.061789], [101.705195, 3.062612], [101.70521, 3.062971], [101.706267, 3.063795], [101.707363, 3.063829], [101.707963519169, 3.062980741899946], [101.708234, 3.065913], [101.708381, 3.067058], [101.709328, 3.067027], [101.711497, 3.064651], [101.711502, 3.064644], [101.711411, 3.062609], [101.711083, 3.061954], [101.710486, 3.060865], [101.710241, 3.060602], [101.709769, 3.060582], [101.709358, 3.060821], [101.708683, 3.061422], [101.707926, 3.062574], [101.7079445400079, 3.062774990539994], [101.707927, 3.062633], [101.706133, 3.061789]]], &quot;type&quot;: &quot;Polygon&quot;}, &quot;id&quot;: &quot;682&quot;, &quot;properties&quot;: {&quot;area&quot;: 2.038857618838558e-05, &quot;center&quot;: &quot;[101.70876110625909, 3.0636527536050218]&quot;, &quot;isochrone_id&quot;: 228300, &quot;reachfactor&quot;: 0.36145000000000005, &quot;station_id&quot;: &quot;228&quot;, &quot;total_pop&quot;: 996.5, &quot;type&quot;: &quot;Polygon&quot;, &quot;value&quot;: 300}, &quot;type&quot;: &quot;Feature&quot;}, {&quot;bbox&quot;: [101.703017, 3.037722, 101.707697, 3.046788], &quot;geometry&quot;: {&quot;coordinates&quot;: [[[101.7056602324812, 3.040806481943683], [101.705128, 3.037799], [101.704776, 3.037722], [101.703469, 3.038878], [101.703363, 3.040061], [101.703017, 3.043312], [101.703089, 3.043436], [101.703519, 3.044056], [101.704275, 3.045125], [101.704469, 3.045349], [101.704829, 3.045364], [101.704921, 3.045323], [101.7050891231444, 3.04521121599442], [101.705411, 3.046779], [101.705771, 3.046788], [101.706677, 3.046074], [101.706832, 3.045908], [101.707677, 3.042575], [101.707697, 3.042475], [101.707635, 3.042268], [101.7056602324812, 3.040806481943683]]], &quot;type&quot;: &quot;Polygon&quot;}, &quot;id&quot;: &quot;685&quot;, &quot;properties&quot;: {&quot;area&quot;: 2.4078259132330975e-05, &quot;center&quot;: &quot;[101.7047318, 3.0416764]&quot;, &quot;isochrone_id&quot;: 229300, &quot;reachfactor&quot;: 0.52945, &quot;station_id&quot;: &quot;229&quot;, &quot;total_pop&quot;: 3339.0, &quot;type&quot;: &quot;Polygon&quot;, &quot;value&quot;: 300}, &quot;type&quot;: &quot;Feature&quot;}, {&quot;bbox&quot;: [101.705266, 3.025688, 101.71048, 3.032619], &quot;geometry&quot;: {&quot;coordinates&quot;: [[[101.7058360296433, 3.028563605836221], [101.705455, 3.029641], [101.705266, 3.030436], [101.705377, 3.031654], [101.705533, 3.032337], [101.705891, 3.03238], [101.7069730215944, 3.031931501736579], [101.70767, 3.03255], [101.707787, 3.032619], [101.708605, 3.032215], [101.709985, 3.030063], [101.710145, 3.029768], [101.71048, 3.028947], [101.710341, 3.027416], [101.710129, 3.027243], [101.709917, 3.02707], [101.709802, 3.027025], [101.7097736459088, 3.027018308769049], [101.70979, 3.026652], [101.709617, 3.026449], [101.708718, 3.025688], [101.708401, 3.025729], [101.708344, 3.025739], [101.707154, 3.026406], [101.706876, 3.026635], [101.7063722210644, 3.027475287521493], [101.706233, 3.027527], [101.706196, 3.027566], [101.705986, 3.028082], [101.7058360296433, 3.028563605836221]]], &quot;type&quot;: &quot;Polygon&quot;}, &quot;id&quot;: &quot;688&quot;, &quot;properties&quot;: {&quot;area&quot;: 2.4923749579222865e-05, &quot;center&quot;: &quot;[101.7072341, 3.0285907]&quot;, &quot;isochrone_id&quot;: 230300, &quot;reachfactor&quot;: 0.7363999999999999, &quot;station_id&quot;: &quot;230&quot;, &quot;total_pop&quot;: 2764.5, &quot;type&quot;: &quot;Polygon&quot;, &quot;value&quot;: 300}, &quot;type&quot;: &quot;Feature&quot;}, {&quot;bbox&quot;: [101.705819, 3.018043, 101.711021, 3.025112], &quot;geometry&quot;: {&quot;coordinates&quot;: [[[101.7083833678816, 3.025079762528484], [101.708387, 3.025084], [101.708517, 3.025112], [101.709094, 3.024705], [101.709596, 3.023645], [101.711021, 3.019961], [101.710688, 3.018347], [101.710599, 3.018144], [101.710437, 3.01809], [101.710105, 3.018043], [101.709775, 3.018186], [101.7094893859611, 3.01838775858968], [101.709035, 3.018508], [101.708616, 3.018619], [101.706762, 3.019563], [101.706049, 3.020422], [101.705834, 3.02071], [101.705819, 3.02234], [101.706064, 3.022958], [101.7083833678816, 3.025079762528484]]], &quot;type&quot;: &quot;Polygon&quot;}, &quot;id&quot;: &quot;691&quot;, &quot;properties&quot;: {&quot;area&quot;: 2.349836330083126e-05, &quot;center&quot;: &quot;[101.7090959, 3.0213387]&quot;, &quot;isochrone_id&quot;: 231300, &quot;reachfactor&quot;: 0.7188500000000001, &quot;station_id&quot;: &quot;231&quot;, &quot;total_pop&quot;: 2665.0, &quot;type&quot;: &quot;Polygon&quot;, &quot;value&quot;: 300}, &quot;type&quot;: &quot;Feature&quot;}, {&quot;bbox&quot;: [101.7025, 3.006184, 101.709796, 3.010031], &quot;geometry&quot;: {&quot;coordinates&quot;: [[[101.706806, 3.0062], [101.7025, 3.008461], [101.702521, 3.009204], [101.702526, 3.009209], [101.703531, 3.010031], [101.704106, 3.010003], [101.70468, 3.009974], [101.707738, 3.009828], [101.708469, 3.009595], [101.709696, 3.009086], [101.709796, 3.00874], [101.707771, 3.006762], [101.707166, 3.006184], [101.706806, 3.0062]]], &quot;type&quot;: &quot;Polygon&quot;}, &quot;id&quot;: &quot;694&quot;, &quot;properties&quot;: {&quot;area&quot;: 1.7715053999980342e-05, &quot;center&quot;: &quot;[101.706199, 3.0086059]&quot;, &quot;isochrone_id&quot;: 232300, &quot;reachfactor&quot;: 0.628, &quot;station_id&quot;: &quot;232&quot;, &quot;total_pop&quot;: 1026.0, &quot;type&quot;: &quot;Polygon&quot;, &quot;value&quot;: 300}, &quot;type&quot;: &quot;Feature&quot;}, {&quot;bbox&quot;: [101.669729, 2.986567, 101.675047, 2.992787], &quot;geometry&quot;: {&quot;coordinates&quot;: [[[101.670421, 2.986626], [101.670131, 2.986839], [101.6702468377104, 2.987330343058521], [101.669729, 2.988014], [101.669845, 2.988355], [101.671964, 2.990295], [101.674564, 2.992768], [101.674923, 2.992787], [101.675035, 2.992519], [101.6746711330626, 2.991158933982707], [101.674787, 2.990881], [101.674923, 2.989702], [101.674996, 2.989082], [101.675047, 2.988288], [101.674129, 2.986854], [101.672005, 2.986567], [101.670421, 2.986626]]], &quot;type&quot;: &quot;Polygon&quot;}, &quot;id&quot;: &quot;697&quot;, &quot;properties&quot;: {&quot;area&quot;: 1.943564305478819e-05, &quot;center&quot;: &quot;[101.67240783331845, 2.9898652489717246]&quot;, &quot;isochrone_id&quot;: 233300, &quot;reachfactor&quot;: 0.5478, &quot;station_id&quot;: &quot;233&quot;, &quot;total_pop&quot;: 2393.5, &quot;type&quot;: &quot;Polygon&quot;, &quot;value&quot;: 300}, &quot;type&quot;: &quot;Feature&quot;}, {&quot;bbox&quot;: [101.658097, 2.980251, 101.664153, 2.986967], &quot;geometry&quot;: {&quot;coordinates&quot;: [[[101.661775, 2.980251], [101.658406, 2.98131], [101.658097, 2.981493], [101.6590511583693, 2.983720066248493], [101.659803, 2.986931], [101.660161, 2.986967], [101.660953, 2.986092], [101.6616184147325, 2.985346560101945], [101.663297, 2.98479], [101.66415, 2.983446], [101.664153, 2.983198], [101.664117, 2.982085], [101.663506, 2.981518], [101.662461, 2.980593], [101.661881, 2.980253], [101.661775, 2.980251]]], &quot;type&quot;: &quot;Polygon&quot;}, &quot;id&quot;: &quot;700&quot;, &quot;properties&quot;: {&quot;area&quot;: 2.435253433433804e-05, &quot;center&quot;: &quot;[101.66123100649843, 2.983313904974272]&quot;, &quot;isochrone_id&quot;: 234300, &quot;reachfactor&quot;: 0.7087499999999999, &quot;station_id&quot;: &quot;234&quot;, &quot;total_pop&quot;: 1343.5, &quot;type&quot;: &quot;Polygon&quot;, &quot;value&quot;: 300}, &quot;type&quot;: &quot;Feature&quot;}, {&quot;bbox&quot;: [101.652568, 2.961444, 101.655134, 2.968692], &quot;geometry&quot;: {&quot;coordinates&quot;: [[[101.653815, 2.961618], [101.652571, 2.966535], [101.652568, 2.966895], [101.654692, 2.968692], [101.655046, 2.968628], [101.655134, 2.965981], [101.65512, 2.965216], [101.655105, 2.964452], [101.655044, 2.964178], [101.65437, 2.961978], [101.654245, 2.961651], [101.65413, 2.961444], [101.653815, 2.961618]]], &quot;type&quot;: &quot;Polygon&quot;}, &quot;id&quot;: &quot;703&quot;, &quot;properties&quot;: {&quot;area&quot;: 1.1794803000038742e-05, &quot;center&quot;: &quot;[101.6545593, 2.9650184]&quot;, &quot;isochrone_id&quot;: 235300, &quot;reachfactor&quot;: 0.4181, &quot;station_id&quot;: &quot;235&quot;, &quot;total_pop&quot;: 52.0, &quot;type&quot;: &quot;Polygon&quot;, &quot;value&quot;: 300}, &quot;type&quot;: &quot;Feature&quot;}, {&quot;bbox&quot;: [101.654746, 2.948367, 101.658129, 2.953105], &quot;geometry&quot;: {&quot;coordinates&quot;: [[[101.657558, 2.948367], [101.655749, 2.948787], [101.654746, 2.951503], [101.654862, 2.951694], [101.655989, 2.953093], [101.656349, 2.953105], [101.656536, 2.953048], [101.657596, 2.95026], [101.65776, 2.949786], [101.657923, 2.949312], [101.658028, 2.948906], [101.658129, 2.948515], [101.657954, 2.94847], [101.657558, 2.948367]]], &quot;type&quot;: &quot;Polygon&quot;}, &quot;id&quot;: &quot;706&quot;, &quot;properties&quot;: {&quot;area&quot;: 9.352408999995953e-06, &quot;center&quot;: &quot;[101.657207, 2.9497119]&quot;, &quot;isochrone_id&quot;: 236300, &quot;reachfactor&quot;: 0.3315, &quot;station_id&quot;: &quot;236&quot;, &quot;total_pop&quot;: 43.0, &quot;type&quot;: &quot;Polygon&quot;, &quot;value&quot;: 300}, &quot;type&quot;: &quot;Feature&quot;}, {&quot;bbox&quot;: [101.663812, 2.937261, 101.666156, 2.941217], &quot;geometry&quot;: {&quot;coordinates&quot;: [[[101.663812, 2.93752], [101.664062, 2.937261], [101.665297, 2.937756], [101.665635, 2.938064], [101.665889, 2.938324], [101.66606, 2.938687], [101.666156, 2.939842], [101.665662, 2.940529], [101.665167, 2.941217], [101.665076, 2.941159], [101.664786, 2.940946], [101.664236, 2.940349], [101.663812, 2.93752]]], &quot;type&quot;: &quot;Polygon&quot;}, &quot;id&quot;: &quot;709&quot;, &quot;properties&quot;: {&quot;area&quot;: 6.062147000002575e-06, &quot;center&quot;: &quot;[101.66547822186097, 2.9388407574841526]&quot;, &quot;isochrone_id&quot;: 237300, &quot;reachfactor&quot;: 0.2149, &quot;station_id&quot;: &quot;237&quot;, &quot;total_pop&quot;: 6.0, &quot;type&quot;: &quot;Polygon&quot;, &quot;value&quot;: 300}, &quot;type&quot;: &quot;Feature&quot;}, {&quot;bbox&quot;: [101.670212, 2.931216, 101.674194, 2.935095], &quot;geometry&quot;: {&quot;coordinates&quot;: [[[101.671625, 2.931216], [101.670592, 2.931421], [101.670212, 2.931816], [101.672429, 2.935078], [101.672789, 2.935095], [101.672971, 2.934973], [101.674139, 2.933656], [101.674171, 2.933549], [101.674194, 2.93319], [101.672888, 2.931532], [101.672672, 2.9314], [101.672471, 2.931337], [101.671625, 2.931216]]], &quot;type&quot;: &quot;Polygon&quot;}, &quot;id&quot;: &quot;712&quot;, &quot;properties&quot;: {&quot;area&quot;: 8.889291499999373e-06, &quot;center&quot;: &quot;[101.67171880976431, 2.9317396772321502]&quot;, &quot;isochrone_id&quot;: 238300, &quot;reachfactor&quot;: 0.3152, &quot;station_id&quot;: &quot;238&quot;, &quot;total_pop&quot;: 189.0, &quot;type&quot;: &quot;Polygon&quot;, &quot;value&quot;: 300}, &quot;type&quot;: &quot;Feature&quot;}, {&quot;bbox&quot;: [101.614945, 3.143097, 101.619464, 3.147468], &quot;geometry&quot;: {&quot;coordinates&quot;: [[[101.614945, 3.143725], [101.615038, 3.143377], [101.615404, 3.143097], [101.6176, 3.143808], [101.617679, 3.14384], [101.617951, 3.144035], [101.618223, 3.14423], [101.61823, 3.144235], [101.618591, 3.144521], [101.618953, 3.144807], [101.618997, 3.144858], [101.619028, 3.144912], [101.619464, 3.145928], [101.618948, 3.146723], [101.618287, 3.147271], [101.618024, 3.147468], [101.615724, 3.145303], [101.614975, 3.143849], [101.614945, 3.143725]]], &quot;type&quot;: &quot;Polygon&quot;}, &quot;id&quot;: &quot;715&quot;, &quot;properties&quot;: {&quot;area&quot;: 1.0435387999984336e-05, &quot;center&quot;: &quot;[101.61815636164052, 3.1444064445440905]&quot;, &quot;isochrone_id&quot;: 239300, &quot;reachfactor&quot;: 0.37, &quot;station_id&quot;: &quot;239&quot;, &quot;total_pop&quot;: 2319.0, &quot;type&quot;: &quot;Polygon&quot;, &quot;value&quot;: 300}, &quot;type&quot;: &quot;Feature&quot;}, {&quot;bbox&quot;: [101.616108, 3.132639, 101.617788, 3.139253], &quot;geometry&quot;: {&quot;coordinates&quot;: [[[101.616596, 3.13453], [101.616108, 3.132944], [101.616379, 3.132696], [101.616765, 3.132668], [101.617152, 3.132639], [101.61773, 3.137184], [101.617764, 3.13825], [101.617776, 3.138747], [101.617788, 3.139245], [101.617428, 3.139253], [101.616596, 3.13453]]], &quot;type&quot;: &quot;Polygon&quot;}, &quot;id&quot;: &quot;718&quot;, &quot;properties&quot;: {&quot;area&quot;: 4.749488499984404e-06, &quot;center&quot;: &quot;[101.61713194319523, 3.1353978373278286]&quot;, &quot;isochrone_id&quot;: 240300, &quot;reachfactor&quot;: 0.1684, &quot;station_id&quot;: &quot;240&quot;, &quot;total_pop&quot;: 801.0, &quot;type&quot;: &quot;Polygon&quot;, &quot;value&quot;: 300}, &quot;type&quot;: &quot;Feature&quot;}, {&quot;bbox&quot;: [101.601165, 3.133363, 101.606281, 3.134209], &quot;geometry&quot;: {&quot;coordinates&quot;: [[[101.601339, 3.133822], [101.603755, 3.133451], [101.603768, 3.133449], [101.604014, 3.13342], [101.604261, 3.13339], [101.604278, 3.133389], [101.604803, 3.133376], [101.605327, 3.133363], [101.606281, 3.133684], [101.605459, 3.133768], [101.602386, 3.134083], [101.602373, 3.134085], [101.602062, 3.134123], [101.601752, 3.13416], [101.601746, 3.134161], [101.601471, 3.134185], [101.601197, 3.134209], [101.601165, 3.13385], [101.601339, 3.133822]]], &quot;type&quot;: &quot;Polygon&quot;}, &quot;id&quot;: &quot;721&quot;, &quot;properties&quot;: {&quot;area&quot;: 2.0461034999987406e-06, &quot;center&quot;: &quot;[101.60491891426364, 3.1335532928059573]&quot;, &quot;isochrone_id&quot;: 241300, &quot;reachfactor&quot;: 0.0725, &quot;station_id&quot;: &quot;241&quot;, &quot;total_pop&quot;: 0.0, &quot;type&quot;: &quot;Polygon&quot;, &quot;value&quot;: 300}, &quot;type&quot;: &quot;Feature&quot;}, {&quot;bbox&quot;: [101.591176, 3.1187, 101.594662, 3.124766], &quot;geometry&quot;: {&quot;coordinates&quot;: [[[101.591281, 3.121655], [101.591433, 3.120809], [101.593037, 3.118709], [101.593397, 3.1187], [101.593862, 3.120593], [101.594662, 3.123581], [101.593373, 3.124766], [101.593016, 3.124718], [101.591176, 3.122226], [101.591281, 3.121655]]], &quot;type&quot;: &quot;Polygon&quot;}, &quot;id&quot;: &quot;724&quot;, &quot;properties&quot;: {&quot;area&quot;: 1.2417720500000772e-05, &quot;center&quot;: &quot;[101.59386122054842, 3.122615744371899]&quot;, &quot;isochrone_id&quot;: 242300, &quot;reachfactor&quot;: 0.4401, &quot;station_id&quot;: &quot;242&quot;, &quot;total_pop&quot;: 1487.0, &quot;type&quot;: &quot;Polygon&quot;, &quot;value&quot;: 300}, &quot;type&quot;: &quot;Feature&quot;}, {&quot;bbox&quot;: [101.589139, 3.102549, 101.594026, 3.108339], &quot;geometry&quot;: {&quot;coordinates&quot;: [[[101.589223, 3.104298], [101.589449, 3.104009], [101.591353, 3.102549], [101.591664, 3.102731], [101.593579, 3.104025], [101.593651, 3.104118], [101.594026, 3.104696], [101.594026, 3.105056], [101.593724, 3.10823], [101.593576, 3.108339], [101.593497, 3.108335], [101.593002, 3.108089], [101.589139, 3.105085], [101.589223, 3.104298]]], &quot;type&quot;: &quot;Polygon&quot;}, &quot;id&quot;: &quot;726&quot;, &quot;properties&quot;: {&quot;area&quot;: 1.6589759999982093e-05, &quot;center&quot;: &quot;[101.5916379, 3.1062451]&quot;, &quot;isochrone_id&quot;: 243300, &quot;reachfactor&quot;: 0.5881, &quot;station_id&quot;: &quot;243&quot;, &quot;total_pop&quot;: 2548.0, &quot;type&quot;: &quot;Polygon&quot;, &quot;value&quot;: 300}, &quot;type&quot;: &quot;Feature&quot;}, {&quot;bbox&quot;: [101.586209, 3.09345, 101.59122, 3.096698], &quot;geometry&quot;: {&quot;coordinates&quot;: [[[101.586242, 3.093783], [101.586377, 3.09345], [101.590884, 3.093979], [101.59122, 3.094109], [101.591075, 3.094484], [101.59093, 3.094859], [101.590406, 3.096153], [101.590318, 3.096374], [101.59023, 3.096596], [101.589803, 3.096686], [101.589734, 3.096696], [101.589686, 3.096698], [101.589521, 3.096679], [101.589468, 3.096665], [101.589344, 3.09661], [101.589323, 3.096599], [101.589177, 3.096509], [101.589161, 3.096498], [101.588995, 3.096369], [101.588971, 3.096348], [101.586209, 3.09392], [101.586242, 3.093783]]], &quot;type&quot;: &quot;Polygon&quot;}, &quot;id&quot;: &quot;729&quot;, &quot;properties&quot;: {&quot;area&quot;: 9.09142750000904e-06, &quot;center&quot;: &quot;[101.58895442406303, 3.0960595364587657]&quot;, &quot;isochrone_id&quot;: 244300, &quot;reachfactor&quot;: 0.3223, &quot;station_id&quot;: &quot;244&quot;, &quot;total_pop&quot;: 365.0, &quot;type&quot;: &quot;Polygon&quot;, &quot;value&quot;: 300}, &quot;type&quot;: &quot;Feature&quot;}, {&quot;bbox&quot;: [101.558666, 3.08002, 101.566304, 3.084232], &quot;geometry&quot;: {&quot;coordinates&quot;: [[[101.558667, 3.082075], [101.558881, 3.081792], [101.559616, 3.08107], [101.559892, 3.080794], [101.560183, 3.080501], [101.560488, 3.080196], [101.560497, 3.080187], [101.560672, 3.08002], [101.560683, 3.08002], [101.563251, 3.08077], [101.566142, 3.081971], [101.566248, 3.082066], [101.566304, 3.082421], [101.56474, 3.083943], [101.564395, 3.084232], [101.564035, 3.084232], [101.559885, 3.083682], [101.558666, 3.082435], [101.558667, 3.082075]]], &quot;type&quot;: &quot;Polygon&quot;}, &quot;id&quot;: &quot;732&quot;, &quot;properties&quot;: {&quot;area&quot;: 2.070433249999657e-05, &quot;center&quot;: &quot;[101.5624193534721, 3.082255548464464]&quot;, &quot;isochrone_id&quot;: 245300, &quot;reachfactor&quot;: 0.7339, &quot;station_id&quot;: &quot;245&quot;, &quot;total_pop&quot;: 1547.0, &quot;type&quot;: &quot;Polygon&quot;, &quot;value&quot;: 300}, &quot;type&quot;: &quot;Feature&quot;}, {&quot;bbox&quot;: [101.54377, 3.076042, 101.551451, 3.080011], &quot;geometry&quot;: {&quot;coordinates&quot;: [[[101.543818, 3.078378], [101.546338, 3.076661], [101.54922, 3.076103], [101.549575, 3.076042], [101.551451, 3.078513], [101.551396, 3.079587], [101.551316, 3.079872], [101.550795, 3.079953], [101.55044, 3.080011], [101.544561, 3.078954], [101.544257, 3.078912], [101.543953, 3.078871], [101.54377, 3.078735], [101.543818, 3.078378]]], &quot;type&quot;: &quot;Polygon&quot;}, &quot;id&quot;: &quot;735&quot;, &quot;properties&quot;: {&quot;area&quot;: 1.920024349999513e-05, &quot;center&quot;: &quot;[101.5480280694809, 3.078918269455164]&quot;, &quot;isochrone_id&quot;: 246300, &quot;reachfactor&quot;: 0.6805, &quot;station_id&quot;: &quot;246&quot;, &quot;total_pop&quot;: 990.0, &quot;type&quot;: &quot;Polygon&quot;, &quot;value&quot;: 300}, &quot;type&quot;: &quot;Feature&quot;}, {&quot;bbox&quot;: [101.517584, 3.067865, 101.524986, 3.072504], &quot;geometry&quot;: {&quot;coordinates&quot;: [[[101.517674, 3.069027], [101.518099, 3.068419], [101.518452, 3.068347], [101.52324, 3.067865], [101.524845, 3.068899], [101.524986, 3.069075], [101.524976, 3.069235], [101.524959, 3.069434], [101.524855, 3.070104], [101.524442, 3.070752], [101.524371, 3.070811], [101.522963, 3.071872], [101.522168, 3.072504], [101.521821, 3.072488], [101.517956, 3.070071], [101.517642, 3.069492], [101.517584, 3.069376], [101.517674, 3.069027]]], &quot;type&quot;: &quot;Polygon&quot;}, &quot;id&quot;: &quot;738&quot;, &quot;properties&quot;: {&quot;area&quot;: 2.2520283499998807e-05, &quot;center&quot;: &quot;[101.52131034432519, 3.069854711052831]&quot;, &quot;isochrone_id&quot;: 247300, &quot;reachfactor&quot;: 0.7983, &quot;station_id&quot;: &quot;247&quot;, &quot;total_pop&quot;: 1142.0, &quot;type&quot;: &quot;Polygon&quot;, &quot;value&quot;: 300}, &quot;type&quot;: &quot;Feature&quot;}, {&quot;bbox&quot;: [101.497724, 3.061933, 101.506079, 3.062731], &quot;geometry&quot;: {&quot;coordinates&quot;: [[[101.497724, 3.062371], [101.498407, 3.062333], [101.503247, 3.061933], [101.503508, 3.061968], [101.503769, 3.062002], [101.506079, 3.062327], [101.506038, 3.062685], [101.501125, 3.062563], [101.499111, 3.062655], [101.499109, 3.062655], [101.498427, 3.062693], [101.497744, 3.062731], [101.497724, 3.062371]]], &quot;type&quot;: &quot;Polygon&quot;}, &quot;id&quot;: &quot;741&quot;, &quot;properties&quot;: {&quot;area&quot;: 4.02398150000031e-06, &quot;center&quot;: &quot;[101.50148164251122, 3.0623661890667275]&quot;, &quot;isochrone_id&quot;: 248300, &quot;reachfactor&quot;: 0.1425, &quot;station_id&quot;: &quot;248&quot;, &quot;total_pop&quot;: 67.0, &quot;type&quot;: &quot;Polygon&quot;, &quot;value&quot;: 300}, &quot;type&quot;: &quot;Feature&quot;}, {&quot;bbox&quot;: [101.483207, 3.064365, 101.490926, 3.069123], &quot;geometry&quot;: {&quot;coordinates&quot;: [[[101.483207, 3.067486], [101.483213, 3.067126], [101.485242, 3.064755], [101.485792, 3.064365], [101.486152, 3.064372], [101.488436, 3.064739], [101.488642, 3.06493], [101.489418, 3.065695], [101.489523, 3.065797], [101.489756, 3.066026], [101.490113, 3.066382], [101.490926, 3.067291], [101.49091, 3.06765], [101.485369, 3.069123], [101.484878, 3.069119], [101.483219, 3.067601], [101.483207, 3.067486]]], &quot;type&quot;: &quot;Polygon&quot;}, &quot;id&quot;: &quot;744&quot;, &quot;properties&quot;: {&quot;area&quot;: 2.3572745999992544e-05, &quot;center&quot;: &quot;[101.48716785809789, 3.0673349764776545]&quot;, &quot;isochrone_id&quot;: 249300, &quot;reachfactor&quot;: 0.8357, &quot;station_id&quot;: &quot;249&quot;, &quot;total_pop&quot;: 1617.0, &quot;type&quot;: &quot;Polygon&quot;, &quot;value&quot;: 300}, &quot;type&quot;: &quot;Feature&quot;}, {&quot;bbox&quot;: [101.46201, 3.061085, 101.469388, 3.064316], &quot;geometry&quot;: {&quot;coordinates&quot;: [[[101.462541, 3.062207], [101.462599, 3.062138], [101.467775, 3.061085], [101.468135, 3.061086], [101.469349, 3.062174], [101.469388, 3.062532], [101.469132, 3.062871], [101.468872, 3.063196], [101.46873, 3.063214], [101.466884, 3.063019], [101.46257, 3.064253], [101.462234, 3.064316], [101.46201, 3.064034], [101.462541, 3.062207]]], &quot;type&quot;: &quot;Polygon&quot;}, &quot;id&quot;: &quot;747&quot;, &quot;properties&quot;: {&quot;area&quot;: 1.3163477499986477e-05, &quot;center&quot;: &quot;[101.4656258650208, 3.062542723128989]&quot;, &quot;isochrone_id&quot;: 250300, &quot;reachfactor&quot;: 0.4667, &quot;station_id&quot;: &quot;250&quot;, &quot;total_pop&quot;: 1896.0, &quot;type&quot;: &quot;Polygon&quot;, &quot;value&quot;: 300}, &quot;type&quot;: &quot;Feature&quot;}, {&quot;bbox&quot;: [101.447409, 3.064796, 101.452593, 3.072218], &quot;geometry&quot;: {&quot;coordinates&quot;: [[[101.447441, 3.068109], [101.447511, 3.067878], [101.449923, 3.065476], [101.450665, 3.06507], [101.450755, 3.06502], [101.451494, 3.064796], [101.45184, 3.064895], [101.452527, 3.065901], [101.452593, 3.066025], [101.452584, 3.066384], [101.452385, 3.070222], [101.45228, 3.070566], [101.452198, 3.070793], [101.450839, 3.071614], [101.44979, 3.072218], [101.449449, 3.072101], [101.449341, 3.071925], [101.448396, 3.070203], [101.448189, 3.069828], [101.447409, 3.068292], [101.447441, 3.068109]]], &quot;type&quot;: &quot;Polygon&quot;}, &quot;id&quot;: &quot;750&quot;, &quot;properties&quot;: {&quot;area&quot;: 2.5740909000012974e-05, &quot;center&quot;: &quot;[101.45063475347169, 3.0684476533224605]&quot;, &quot;isochrone_id&quot;: 251300, &quot;reachfactor&quot;: 0.9125, &quot;station_id&quot;: &quot;251&quot;, &quot;total_pop&quot;: 2529.0, &quot;type&quot;: &quot;Polygon&quot;, &quot;value&quot;: 300}, &quot;type&quot;: &quot;Feature&quot;}, {&quot;bbox&quot;: [101.449012, 3.055316, 101.45328, 3.062693], &quot;geometry&quot;: {&quot;coordinates&quot;: [[[101.449084, 3.060187], [101.449012, 3.058655], [101.450814, 3.055408], [101.451162, 3.055316], [101.451231, 3.055338], [101.451877, 3.05564], [101.453021, 3.056356], [101.45328, 3.056606], [101.453268, 3.061851], [101.453156, 3.062193], [101.452466, 3.062693], [101.452119, 3.062597], [101.451999, 3.062534], [101.450793, 3.061869], [101.449132, 3.060543], [101.449084, 3.060187]]], &quot;type&quot;: &quot;Polygon&quot;}, &quot;id&quot;: &quot;753&quot;, &quot;properties&quot;: {&quot;area&quot;: 2.3452071000018583e-05, &quot;center&quot;: &quot;[101.45193069336494, 3.0589882929187797]&quot;, &quot;isochrone_id&quot;: 252300, &quot;reachfactor&quot;: 0.8314, &quot;station_id&quot;: &quot;252&quot;, &quot;total_pop&quot;: 1666.0, &quot;type&quot;: &quot;Polygon&quot;, &quot;value&quot;: 300}, &quot;type&quot;: &quot;Feature&quot;}, {&quot;bbox&quot;: [101.44453, 3.044018, 101.450519, 3.049508], &quot;geometry&quot;: {&quot;coordinates&quot;: [[[101.44453, 3.044351], [101.444667, 3.044018], [101.448516, 3.044527], [101.450386, 3.046252], [101.450519, 3.046973], [101.450333, 3.047271], [101.449256, 3.048434], [101.447618, 3.049499], [101.447294, 3.049502], [101.446313, 3.049508], [101.444857, 3.049319], [101.444625, 3.049044], [101.44453, 3.044351]]], &quot;type&quot;: &quot;Polygon&quot;}, &quot;id&quot;: &quot;756&quot;, &quot;properties&quot;: {&quot;area&quot;: 2.5367998499994014e-05, &quot;center&quot;: &quot;[101.44718280495016, 3.046755046776562]&quot;, &quot;isochrone_id&quot;: 253300, &quot;reachfactor&quot;: 0.8993, &quot;station_id&quot;: &quot;253&quot;, &quot;total_pop&quot;: 991.0, &quot;type&quot;: &quot;Polygon&quot;, &quot;value&quot;: 300}, &quot;type&quot;: &quot;Feature&quot;}, {&quot;bbox&quot;: [101.441094, 3.022695, 101.442908, 3.031346], &quot;geometry&quot;: {&quot;coordinates&quot;: [[[101.44113, 3.029701], [101.441094, 3.029571], [101.442181, 3.026525], [101.442318, 3.022936], [101.442334, 3.022749], [101.442681, 3.022695], [101.442687, 3.022716], [101.442693, 3.02278], [101.442908, 3.024893], [101.44246, 3.029473], [101.441973, 3.031346], [101.441614, 3.03132], [101.44113, 3.029701]]], &quot;type&quot;: &quot;Polygon&quot;}, &quot;id&quot;: &quot;759&quot;, &quot;properties&quot;: {&quot;area&quot;: 6.5460984999798355e-06, &quot;center&quot;: &quot;[101.44238932971533, 3.0264307076057597]&quot;, &quot;isochrone_id&quot;: 254300, &quot;reachfactor&quot;: 0.2321, &quot;station_id&quot;: &quot;254&quot;, &quot;total_pop&quot;: 210.0, &quot;type&quot;: &quot;Polygon&quot;, &quot;value&quot;: 300}, &quot;type&quot;: &quot;Feature&quot;}, {&quot;bbox&quot;: [101.437619, 3.011285, 101.443422, 3.018892], &quot;geometry&quot;: {&quot;coordinates&quot;: [[[101.437619, 3.014015], [101.437769, 3.013836], [101.439847, 3.011285], [101.440206, 3.01131], [101.440404, 3.011414], [101.443339, 3.016478], [101.443422, 3.016829], [101.443351, 3.016994], [101.441795, 3.018766], [101.441448, 3.018861], [101.441247, 3.018892], [101.441162, 3.018876], [101.437711, 3.014363], [101.437619, 3.014015]]], &quot;type&quot;: &quot;Polygon&quot;}, &quot;id&quot;: &quot;762&quot;, &quot;properties&quot;: {&quot;area&quot;: 2.2800106999993022e-05, &quot;center&quot;: &quot;[101.44040022272867, 3.0152361963077845]&quot;, &quot;isochrone_id&quot;: 255300, &quot;reachfactor&quot;: 0.8084, &quot;station_id&quot;: &quot;255&quot;, &quot;total_pop&quot;: 1457.0, &quot;type&quot;: &quot;Polygon&quot;, &quot;value&quot;: 300}, &quot;type&quot;: &quot;Feature&quot;}, {&quot;bbox&quot;: [101.439685, 3.001105, 101.442845, 3.008674], &quot;geometry&quot;: {&quot;coordinates&quot;: [[[101.440057, 3.007461], [101.439712, 3.006242], [101.439685, 3.006145], [101.439746, 3.005687], [101.43997, 3.004039], [101.442508, 3.001105], [101.442845, 3.001231], [101.442253, 3.006617], [101.442228, 3.00687], [101.442102, 3.007218], [101.442012, 3.007377], [101.441907, 3.007558], [101.441154, 3.008672], [101.441083, 3.008674], [101.440927, 3.008599], [101.44044, 3.00834], [101.440295, 3.008235], [101.440057, 3.007461]]], &quot;type&quot;: &quot;Polygon&quot;}, &quot;id&quot;: &quot;765&quot;, &quot;properties&quot;: {&quot;area&quot;: 1.4247283999990796e-05, &quot;center&quot;: &quot;[101.44207201633256, 3.0050719016357084]&quot;, &quot;isochrone_id&quot;: 256300, &quot;reachfactor&quot;: 0.5051, &quot;station_id&quot;: &quot;256&quot;, &quot;total_pop&quot;: 918.0, &quot;type&quot;: &quot;Polygon&quot;, &quot;value&quot;: 300}, &quot;type&quot;: &quot;Feature&quot;}, {&quot;bbox&quot;: [101.444536, 2.989364, 101.449307, 2.99711], &quot;geometry&quot;: {&quot;coordinates&quot;: [[[101.444547, 2.99695], [101.444555, 2.996906], [101.444563, 2.99689], [101.44544, 2.994898], [101.446319, 2.992904], [101.4466, 2.992238], [101.446921, 2.991475], [101.447245, 2.990706], [101.447389, 2.990393], [101.447541, 2.990063], [101.447748, 2.989713], [101.447956, 2.989364], [101.448265, 2.989547], [101.449307, 2.993272], [101.449159, 2.9936], [101.449009, 2.993761], [101.444895, 2.99711], [101.444536, 2.99708], [101.444547, 2.99695]]], &quot;type&quot;: &quot;Polygon&quot;}, &quot;id&quot;: &quot;768&quot;, &quot;properties&quot;: {&quot;area&quot;: 1.4216799000011184e-05, &quot;center&quot;: &quot;[101.44623064694758, 2.9935506867011368]&quot;, &quot;isochrone_id&quot;: 257300, &quot;reachfactor&quot;: 0.5041, &quot;station_id&quot;: &quot;257&quot;, &quot;total_pop&quot;: 564.0, &quot;type&quot;: &quot;Polygon&quot;, &quot;value&quot;: 300}, &quot;type&quot;: &quot;Feature&quot;}, {&quot;bbox&quot;: [101.457522, 2.971663, 101.46261, 2.978326], &quot;geometry&quot;: {&quot;coordinates&quot;: [[[101.459345, 2.974621], [101.459463, 2.974501], [101.462313, 2.971663], [101.46261, 2.971867], [101.4612, 2.973998], [101.4612, 2.973998], [101.461006, 2.9743], [101.460813, 2.974603], [101.460805, 2.974615], [101.460563, 2.974934], [101.460322, 2.975253], [101.460317, 2.975259], [101.459869, 2.975801], [101.45942, 2.976343], [101.45942, 2.976343], [101.45887, 2.977007], [101.458064, 2.977997], [101.457805, 2.978326], [101.457522, 2.978103], [101.459345, 2.974621]]], &quot;type&quot;: &quot;Polygon&quot;}, &quot;id&quot;: &quot;771&quot;, &quot;properties&quot;: {&quot;area&quot;: 6.161118000010719e-06, &quot;center&quot;: &quot;[101.46023413222642, 2.9750704431772843]&quot;, &quot;isochrone_id&quot;: 258300, &quot;reachfactor&quot;: 0.2184, &quot;station_id&quot;: &quot;258&quot;, &quot;total_pop&quot;: 29.0, &quot;type&quot;: &quot;Polygon&quot;, &quot;value&quot;: 300}, &quot;type&quot;: &quot;Feature&quot;}, {&quot;bbox&quot;: [101.683995, 3.131648, 101.689254, 3.137452], &quot;geometry&quot;: {&quot;coordinates&quot;: [[[101.68414, 3.134146], [101.683995, 3.133657], [101.68409, 3.133054], [101.684363, 3.13282], [101.686589, 3.131685], [101.686784, 3.131671], [101.68776, 3.131648], [101.688355, 3.131885], [101.688619, 3.13213], [101.689117, 3.1336], [101.689254, 3.135946], [101.689079, 3.13626], [101.68818, 3.13669], [101.68543, 3.137452], [101.685109, 3.137289], [101.68414, 3.134146]]], &quot;type&quot;: &quot;Polygon&quot;}, &quot;id&quot;: &quot;774&quot;, &quot;properties&quot;: {&quot;area&quot;: 2.3062966500012313e-05, &quot;center&quot;: &quot;[101.68630396418591, 3.134461275989355]&quot;, &quot;isochrone_id&quot;: 300, &quot;reachfactor&quot;: 0.8175, &quot;station_id&quot;: &quot;0&quot;, &quot;total_pop&quot;: 2795.0, &quot;type&quot;: &quot;Polygon&quot;, &quot;value&quot;: 300}, &quot;type&quot;: &quot;Feature&quot;}], &quot;type&quot;: &quot;FeatureCollection&quot;});\n",
       "\n",
       "        \n",
       "    \n",
       "            var layer_control_0c61bc073e6e48768ce5565280699850 = {\n",
       "                base_layers : {\n",
       "                    &quot;openstreetmap&quot; : tile_layer_4219b820080f7ae9726da8028eecfcba,\n",
       "                },\n",
       "                overlays :  {\n",
       "                    &quot;Entrances Isochrones&quot; : geo_json_8f75dfa2ee86e0257fa9e005a56fdacb,\n",
       "                },\n",
       "            };\n",
       "            L.control.layers(\n",
       "                layer_control_0c61bc073e6e48768ce5565280699850.base_layers,\n",
       "                layer_control_0c61bc073e6e48768ce5565280699850.overlays,\n",
       "                {&quot;autoZIndex&quot;: true, &quot;collapsed&quot;: true, &quot;position&quot;: &quot;topright&quot;}\n",
       "            ).addTo(map_6f37fa7fa21af89d74bbee2bcd236249);\n",
       "        \n",
       "&lt;/script&gt;\n",
       "&lt;/html&gt;\" style=\"position:absolute;width:100%;height:100%;left:0;top:0;border:none !important;\" allowfullscreen webkitallowfullscreen mozallowfullscreen></iframe></div></div>"
      ],
      "text/plain": [
       "<folium.folium.Map at 0x7fdaa1e49790>"
      ]
     },
     "execution_count": 138,
     "metadata": {},
     "output_type": "execute_result"
    }
   ],
   "source": [
    "#testing to display some isochrones\n",
    "\n",
    "#Querying table with entrance isochrones\n",
    "from shapely.geometry import shape\n",
    "\n",
    "#query to supabase using the previous supabase client that was declared\n",
    "response_station_isochrones = supabase.table('station_isochrones').select(\"*\").execute()\n",
    "\n",
    "data,_ = response_station_isochrones\n",
    "station_isochrones_df = pd.DataFrame(data[1])\n",
    "\n",
    "# Convert the geometry column from dictionaries to shapely Polygons\n",
    "station_isochrones_df['geometry'] = station_isochrones_df['geometry'].apply(lambda geom: shape(geom))\n",
    "\n",
    "# Convert the DataFrame to a GeoDataFrame\n",
    "entrances_isochrones_gdf = gpd.GeoDataFrame(station_isochrones_df, geometry='geometry', crs='EPSG:4326')\n",
    "\n",
    "\n",
    "import folium\n",
    "import geopandas as gpd\n",
    "\n",
    "# Define the center of the map based on the GeoDataFrame's centroid\n",
    "map_center = entrances_isochrones_gdf.geometry.centroid.iloc[0].coords[0][::-1]\n",
    "\n",
    "# Create a folium map centered on the geometries\n",
    "m = folium.Map(location=map_center, zoom_start=12)\n",
    "\n",
    "# Add GeoDataFrame geometries to the map\n",
    "folium.GeoJson(\n",
    "    entrances_isochrones_gdf[entrances_isochrones_gdf['value']==300],\n",
    "    name=\"Entrances Isochrones\",\n",
    "    style_function=lambda feature: {\n",
    "        'fillColor': 'cyan',\n",
    "        'color': 'black',\n",
    "        'weight': 1,\n",
    "        'fillOpacity': 0.6,\n",
    "    }\n",
    ").add_to(m)\n",
    "\n",
    "# Add a layer control panel\n",
    "folium.LayerControl().add_to(m)\n",
    "\n",
    "# Display the map\n",
    "m.save(\"entrances_isochrones_map.html\")\n",
    "m"
   ]
  },
  {
   "cell_type": "code",
   "execution_count": null,
   "metadata": {},
   "outputs": [],
   "source": []
  }
 ],
 "metadata": {
  "kernelspec": {
   "display_name": "sql",
   "language": "python",
   "name": "python3"
  },
  "language_info": {
   "codemirror_mode": {
    "name": "ipython",
    "version": 3
   },
   "file_extension": ".py",
   "mimetype": "text/x-python",
   "name": "python",
   "nbconvert_exporter": "python",
   "pygments_lexer": "ipython3",
   "version": "3.9.16"
  }
 },
 "nbformat": 4,
 "nbformat_minor": 2
}
