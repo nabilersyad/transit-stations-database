{
 "cells": [
  {
   "cell_type": "markdown",
   "metadata": {},
   "source": [
    "# Station isochrone Generation\n",
    "\n",
    "This notebook aims to try and generate isochrones of train stations\n",
    "\n",
    "It will first attempt to merge isochrones of station entrances where available\n",
    "\n",
    "Otherwise it will be a simple isochrone generation of the approximate centre of the station\n",
    "\n"
   ]
  },
  {
   "cell_type": "code",
   "execution_count": 12,
   "metadata": {},
   "outputs": [],
   "source": [
    "#setting up supabase client\n",
    "import os\n",
    "import pandas as pd\n",
    "from supabase import create_client, Client\n",
    "\n",
    "import geopandas as gpd\n",
    "from shapely.geometry import Point\n",
    "from shapely.geometry import shape\n",
    "from geopandas import GeoSeries\n",
    "from shapely.geometry import Polygon\n",
    "\n",
    "\n",
    "#in the py webapp, keys will be stored in github secrets\n",
    "url: str = os.environ.get(\"SUPABASE_URL\")\n",
    "key: str = os.environ.get(\"SUPABASE_SERVICE_KEY\")\n",
    "supabase: Client = create_client(url, key)"
   ]
  },
  {
   "cell_type": "code",
   "execution_count": 13,
   "metadata": {},
   "outputs": [],
   "source": [
    "#library to call Open Route Service(ORS)'s client and requests\n",
    "from openrouteservice import client\n",
    "import os\n",
    "\n",
    "import sys\n",
    "\n",
    "# Get the path of the parent directory (the root of the project)\n",
    "module_path = os.path.abspath(os.path.join('..'))\n",
    "\n",
    "# Add the parent directory to sys.path\n",
    "sys.path.append(module_path)\n",
    "\n",
    "# Now you can import key.py, this is only done for testing purposes. actual live version should be stored in secret github\n",
    "from key import ORS_KEY\n",
    "\n",
    "#Personal api_key stored in a key.py file that is in gitignore. Uncomment the following and provide your own ORS api for your own use\n",
    "## api_key = \"you api key \" #Provide your personal API key\n",
    "ors_key: str = ORS_KEY\n",
    "\n",
    "\n",
    "ors_client = client.Client(key=ors_key) "
   ]
  },
  {
   "cell_type": "markdown",
   "metadata": {},
   "source": [
    "# Querying station entrances from Supabase\n",
    "\n",
    "\n",
    "The following blocks will load the various relevant tables from Supabase"
   ]
  },
  {
   "cell_type": "code",
   "execution_count": 14,
   "metadata": {},
   "outputs": [
    {
     "data": {
      "text/html": [
       "<div>\n",
       "<style scoped>\n",
       "    .dataframe tbody tr th:only-of-type {\n",
       "        vertical-align: middle;\n",
       "    }\n",
       "\n",
       "    .dataframe tbody tr th {\n",
       "        vertical-align: top;\n",
       "    }\n",
       "\n",
       "    .dataframe thead th {\n",
       "        text-align: right;\n",
       "    }\n",
       "</style>\n",
       "<table border=\"1\" class=\"dataframe\">\n",
       "  <thead>\n",
       "    <tr style=\"text-align: right;\">\n",
       "      <th></th>\n",
       "      <th>isochrone_id</th>\n",
       "      <th>value</th>\n",
       "      <th>center</th>\n",
       "      <th>area</th>\n",
       "      <th>reachfactor</th>\n",
       "      <th>total_pop</th>\n",
       "      <th>type</th>\n",
       "      <th>entrance_id</th>\n",
       "      <th>geometry</th>\n",
       "    </tr>\n",
       "  </thead>\n",
       "  <tbody>\n",
       "    <tr>\n",
       "      <th>0</th>\n",
       "      <td>10270868726300</td>\n",
       "      <td>300</td>\n",
       "      <td>[101.70066779193307, 3.173111720746867]</td>\n",
       "      <td>246614.95</td>\n",
       "      <td>0.7065</td>\n",
       "      <td>2224</td>\n",
       "      <td>Polygon</td>\n",
       "      <td>10270868726</td>\n",
       "      <td>POLYGON ((101.69844 3.17075, 101.69851 3.17071...</td>\n",
       "    </tr>\n",
       "    <tr>\n",
       "      <th>1</th>\n",
       "      <td>7259253706300</td>\n",
       "      <td>300</td>\n",
       "      <td>[101.6991072, 3.1590919]</td>\n",
       "      <td>283390.75</td>\n",
       "      <td>0.8119</td>\n",
       "      <td>2842</td>\n",
       "      <td>Polygon</td>\n",
       "      <td>7259253706</td>\n",
       "      <td>POLYGON ((101.69596 3.15864, 101.69716 3.15671...</td>\n",
       "    </tr>\n",
       "    <tr>\n",
       "      <th>2</th>\n",
       "      <td>10270868726600</td>\n",
       "      <td>600</td>\n",
       "      <td>[101.70066779193307, 3.173111720746867]</td>\n",
       "      <td>1250275.76</td>\n",
       "      <td>0.8954</td>\n",
       "      <td>11087</td>\n",
       "      <td>Polygon</td>\n",
       "      <td>10270868726</td>\n",
       "      <td>POLYGON ((101.69592 3.16916, 101.69598 3.16906...</td>\n",
       "    </tr>\n",
       "    <tr>\n",
       "      <th>3</th>\n",
       "      <td>7259253706600</td>\n",
       "      <td>600</td>\n",
       "      <td>[101.6991072, 3.1590919]</td>\n",
       "      <td>1373238.47</td>\n",
       "      <td>0.9835</td>\n",
       "      <td>16064</td>\n",
       "      <td>Polygon</td>\n",
       "      <td>7259253706</td>\n",
       "      <td>POLYGON ((101.69293 3.16107, 101.69409 3.15612...</td>\n",
       "    </tr>\n",
       "    <tr>\n",
       "      <th>4</th>\n",
       "      <td>3308608988300</td>\n",
       "      <td>300</td>\n",
       "      <td>[101.71272677986722, 3.158791494667739]</td>\n",
       "      <td>356103.44</td>\n",
       "      <td>1.0000</td>\n",
       "      <td>4842</td>\n",
       "      <td>Polygon</td>\n",
       "      <td>3308608988</td>\n",
       "      <td>POLYGON ((101.70924 3.15907, 101.70929 3.15881...</td>\n",
       "    </tr>\n",
       "    <tr>\n",
       "      <th>...</th>\n",
       "      <td>...</td>\n",
       "      <td>...</td>\n",
       "      <td>...</td>\n",
       "      <td>...</td>\n",
       "      <td>...</td>\n",
       "      <td>...</td>\n",
       "      <td>...</td>\n",
       "      <td>...</td>\n",
       "      <td>...</td>\n",
       "    </tr>\n",
       "    <tr>\n",
       "      <th>919</th>\n",
       "      <td>12746041840900</td>\n",
       "      <td>900</td>\n",
       "      <td>[101.7215581, 3.2196763]</td>\n",
       "      <td>3064081.82</td>\n",
       "      <td>0.9753</td>\n",
       "      <td>50281</td>\n",
       "      <td>Polygon</td>\n",
       "      <td>12746041840</td>\n",
       "      <td>POLYGON ((101.71285 3.21789, 101.71286 3.21766...</td>\n",
       "    </tr>\n",
       "    <tr>\n",
       "      <th>920</th>\n",
       "      <td>7285589457900</td>\n",
       "      <td>900</td>\n",
       "      <td>[101.6572002, 3.0546459]</td>\n",
       "      <td>2380058.74</td>\n",
       "      <td>0.7576</td>\n",
       "      <td>23003</td>\n",
       "      <td>Polygon</td>\n",
       "      <td>7285589457</td>\n",
       "      <td>POLYGON ((101.64686 3.05133, 101.64690 3.05097...</td>\n",
       "    </tr>\n",
       "    <tr>\n",
       "      <th>921</th>\n",
       "      <td>7285603937300</td>\n",
       "      <td>300</td>\n",
       "      <td>[101.6564162, 3.0549576]</td>\n",
       "      <td>193093.38</td>\n",
       "      <td>0.5532</td>\n",
       "      <td>1088</td>\n",
       "      <td>Polygon</td>\n",
       "      <td>7285603937</td>\n",
       "      <td>POLYGON ((101.65293 3.05297, 101.65608 3.05337...</td>\n",
       "    </tr>\n",
       "    <tr>\n",
       "      <th>922</th>\n",
       "      <td>7285603937600</td>\n",
       "      <td>600</td>\n",
       "      <td>[101.6564162, 3.0549576]</td>\n",
       "      <td>990766.61</td>\n",
       "      <td>0.7096</td>\n",
       "      <td>9487</td>\n",
       "      <td>Polygon</td>\n",
       "      <td>7285603937</td>\n",
       "      <td>POLYGON ((101.64980 3.05177, 101.64990 3.05142...</td>\n",
       "    </tr>\n",
       "    <tr>\n",
       "      <th>923</th>\n",
       "      <td>7285603937900</td>\n",
       "      <td>900</td>\n",
       "      <td>[101.6564162, 3.0549576]</td>\n",
       "      <td>2377001.15</td>\n",
       "      <td>0.7566</td>\n",
       "      <td>23619</td>\n",
       "      <td>Polygon</td>\n",
       "      <td>7285603937</td>\n",
       "      <td>POLYGON ((101.64594 3.05099, 101.65019 3.04827...</td>\n",
       "    </tr>\n",
       "  </tbody>\n",
       "</table>\n",
       "<p>924 rows × 9 columns</p>\n",
       "</div>"
      ],
      "text/plain": [
       "       isochrone_id  value                                   center  \\\n",
       "0    10270868726300    300  [101.70066779193307, 3.173111720746867]   \n",
       "1     7259253706300    300                 [101.6991072, 3.1590919]   \n",
       "2    10270868726600    600  [101.70066779193307, 3.173111720746867]   \n",
       "3     7259253706600    600                 [101.6991072, 3.1590919]   \n",
       "4     3308608988300    300  [101.71272677986722, 3.158791494667739]   \n",
       "..              ...    ...                                      ...   \n",
       "919  12746041840900    900                 [101.7215581, 3.2196763]   \n",
       "920   7285589457900    900                 [101.6572002, 3.0546459]   \n",
       "921   7285603937300    300                 [101.6564162, 3.0549576]   \n",
       "922   7285603937600    600                 [101.6564162, 3.0549576]   \n",
       "923   7285603937900    900                 [101.6564162, 3.0549576]   \n",
       "\n",
       "           area  reachfactor  total_pop     type  entrance_id  \\\n",
       "0     246614.95       0.7065       2224  Polygon  10270868726   \n",
       "1     283390.75       0.8119       2842  Polygon   7259253706   \n",
       "2    1250275.76       0.8954      11087  Polygon  10270868726   \n",
       "3    1373238.47       0.9835      16064  Polygon   7259253706   \n",
       "4     356103.44       1.0000       4842  Polygon   3308608988   \n",
       "..          ...          ...        ...      ...          ...   \n",
       "919  3064081.82       0.9753      50281  Polygon  12746041840   \n",
       "920  2380058.74       0.7576      23003  Polygon   7285589457   \n",
       "921   193093.38       0.5532       1088  Polygon   7285603937   \n",
       "922   990766.61       0.7096       9487  Polygon   7285603937   \n",
       "923  2377001.15       0.7566      23619  Polygon   7285603937   \n",
       "\n",
       "                                              geometry  \n",
       "0    POLYGON ((101.69844 3.17075, 101.69851 3.17071...  \n",
       "1    POLYGON ((101.69596 3.15864, 101.69716 3.15671...  \n",
       "2    POLYGON ((101.69592 3.16916, 101.69598 3.16906...  \n",
       "3    POLYGON ((101.69293 3.16107, 101.69409 3.15612...  \n",
       "4    POLYGON ((101.70924 3.15907, 101.70929 3.15881...  \n",
       "..                                                 ...  \n",
       "919  POLYGON ((101.71285 3.21789, 101.71286 3.21766...  \n",
       "920  POLYGON ((101.64686 3.05133, 101.64690 3.05097...  \n",
       "921  POLYGON ((101.65293 3.05297, 101.65608 3.05337...  \n",
       "922  POLYGON ((101.64980 3.05177, 101.64990 3.05142...  \n",
       "923  POLYGON ((101.64594 3.05099, 101.65019 3.04827...  \n",
       "\n",
       "[924 rows x 9 columns]"
      ]
     },
     "execution_count": 14,
     "metadata": {},
     "output_type": "execute_result"
    }
   ],
   "source": [
    "#Querying table with entrance isochrones\n",
    "\n",
    "#query to supabase using the previous supabase client that was declared\n",
    "response_entrances_isochrones = supabase.table('entrances_isochrones').select(\"*\").execute()\n",
    "\n",
    "data,_ = response_entrances_isochrones\n",
    "entrances_isochrones_df = pd.DataFrame(data[1])\n",
    "\n",
    "# Convert the geometry column from dictionaries to shapely Polygons\n",
    "entrances_isochrones_df['geometry'] = entrances_isochrones_df['geometry'].apply(lambda geom: shape(geom))\n",
    "\n",
    "# Convert the DataFrame to a GeoDataFrame\n",
    "entrances_isochrones_gdf = gpd.GeoDataFrame(entrances_isochrones_df, geometry='geometry', crs='EPSG:4326')\n",
    "\n",
    "\n",
    "entrances_isochrones_gdf"
   ]
  },
  {
   "cell_type": "code",
   "execution_count": 15,
   "metadata": {},
   "outputs": [
    {
     "data": {
      "text/html": [
       "<div>\n",
       "<style scoped>\n",
       "    .dataframe tbody tr th:only-of-type {\n",
       "        vertical-align: middle;\n",
       "    }\n",
       "\n",
       "    .dataframe tbody tr th {\n",
       "        vertical-align: top;\n",
       "    }\n",
       "\n",
       "    .dataframe thead th {\n",
       "        text-align: right;\n",
       "    }\n",
       "</style>\n",
       "<table border=\"1\" class=\"dataframe\">\n",
       "  <thead>\n",
       "    <tr style=\"text-align: right;\">\n",
       "      <th></th>\n",
       "      <th>name</th>\n",
       "      <th>station_code</th>\n",
       "      <th>service_provider_name</th>\n",
       "      <th>latitude</th>\n",
       "      <th>longitude</th>\n",
       "      <th>route_id</th>\n",
       "      <th>route_name</th>\n",
       "      <th>line_number</th>\n",
       "      <th>line_colour</th>\n",
       "      <th>colour_hex_code</th>\n",
       "      <th>region</th>\n",
       "      <th>odonym</th>\n",
       "      <th>namesake</th>\n",
       "      <th>opened</th>\n",
       "      <th>station_id</th>\n",
       "      <th>geometry</th>\n",
       "    </tr>\n",
       "  </thead>\n",
       "  <tbody>\n",
       "    <tr>\n",
       "      <th>0</th>\n",
       "      <td>Kuala Lumpur</td>\n",
       "      <td>KA02</td>\n",
       "      <td>Keretapi Tanah Melayu</td>\n",
       "      <td>3.139513</td>\n",
       "      <td>101.693789</td>\n",
       "      <td>KA</td>\n",
       "      <td>Seremban Line</td>\n",
       "      <td>1</td>\n",
       "      <td>Blue</td>\n",
       "      <td>#0000FF</td>\n",
       "      <td>Klang Valley</td>\n",
       "      <td>None</td>\n",
       "      <td>None</td>\n",
       "      <td>None</td>\n",
       "      <td>1</td>\n",
       "      <td>POINT (101.69379 3.13951)</td>\n",
       "    </tr>\n",
       "    <tr>\n",
       "      <th>1</th>\n",
       "      <td>Bank Negara</td>\n",
       "      <td>KA03</td>\n",
       "      <td>Keretapi Tanah Melayu</td>\n",
       "      <td>3.154542</td>\n",
       "      <td>101.693010</td>\n",
       "      <td>KA</td>\n",
       "      <td>Seremban Line</td>\n",
       "      <td>1</td>\n",
       "      <td>Blue</td>\n",
       "      <td>#0000FF</td>\n",
       "      <td>Klang Valley</td>\n",
       "      <td>None</td>\n",
       "      <td>None</td>\n",
       "      <td>None</td>\n",
       "      <td>2</td>\n",
       "      <td>POINT (101.69301 3.15454)</td>\n",
       "    </tr>\n",
       "    <tr>\n",
       "      <th>2</th>\n",
       "      <td>Putra</td>\n",
       "      <td>KA04</td>\n",
       "      <td>Keretapi Tanah Melayu</td>\n",
       "      <td>3.165005</td>\n",
       "      <td>101.691234</td>\n",
       "      <td>KA</td>\n",
       "      <td>Seremban Line</td>\n",
       "      <td>1</td>\n",
       "      <td>Blue</td>\n",
       "      <td>#0000FF</td>\n",
       "      <td>Klang Valley</td>\n",
       "      <td>None</td>\n",
       "      <td>None</td>\n",
       "      <td>None</td>\n",
       "      <td>3</td>\n",
       "      <td>POINT (101.69123 3.16500)</td>\n",
       "    </tr>\n",
       "    <tr>\n",
       "      <th>3</th>\n",
       "      <td>Mid Valley</td>\n",
       "      <td>KB01</td>\n",
       "      <td>Keretapi Tanah Melayu</td>\n",
       "      <td>3.118528</td>\n",
       "      <td>101.678985</td>\n",
       "      <td>KB</td>\n",
       "      <td>Seremban Line</td>\n",
       "      <td>1</td>\n",
       "      <td>Blue</td>\n",
       "      <td>#0000FF</td>\n",
       "      <td>Klang Valley</td>\n",
       "      <td>None</td>\n",
       "      <td>None</td>\n",
       "      <td>None</td>\n",
       "      <td>4</td>\n",
       "      <td>POINT (101.67899 3.11853)</td>\n",
       "    </tr>\n",
       "    <tr>\n",
       "      <th>4</th>\n",
       "      <td>Seputeh</td>\n",
       "      <td>KB02</td>\n",
       "      <td>Keretapi Tanah Melayu</td>\n",
       "      <td>3.113697</td>\n",
       "      <td>101.681299</td>\n",
       "      <td>KB</td>\n",
       "      <td>Seremban Line</td>\n",
       "      <td>1</td>\n",
       "      <td>Blue</td>\n",
       "      <td>#0000FF</td>\n",
       "      <td>Klang Valley</td>\n",
       "      <td>None</td>\n",
       "      <td>None</td>\n",
       "      <td>None</td>\n",
       "      <td>5</td>\n",
       "      <td>POINT (101.68130 3.11370)</td>\n",
       "    </tr>\n",
       "    <tr>\n",
       "      <th>...</th>\n",
       "      <td>...</td>\n",
       "      <td>...</td>\n",
       "      <td>...</td>\n",
       "      <td>...</td>\n",
       "      <td>...</td>\n",
       "      <td>...</td>\n",
       "      <td>...</td>\n",
       "      <td>...</td>\n",
       "      <td>...</td>\n",
       "      <td>...</td>\n",
       "      <td>...</td>\n",
       "      <td>...</td>\n",
       "      <td>...</td>\n",
       "      <td>...</td>\n",
       "      <td>...</td>\n",
       "      <td>...</td>\n",
       "    </tr>\n",
       "    <tr>\n",
       "      <th>254</th>\n",
       "      <td>Sri Andalas</td>\n",
       "      <td>JS22</td>\n",
       "      <td>Rapid KL</td>\n",
       "      <td>3.015225</td>\n",
       "      <td>101.440441</td>\n",
       "      <td>JS</td>\n",
       "      <td>LRT3</td>\n",
       "      <td>11</td>\n",
       "      <td>Sky Blue</td>\n",
       "      <td>#88cffa</td>\n",
       "      <td>Klang Valley</td>\n",
       "      <td>None</td>\n",
       "      <td>None</td>\n",
       "      <td>None</td>\n",
       "      <td>255</td>\n",
       "      <td>POINT (101.44044 3.01522)</td>\n",
       "    </tr>\n",
       "    <tr>\n",
       "      <th>255</th>\n",
       "      <td>Klang Jaya</td>\n",
       "      <td>JS23</td>\n",
       "      <td>Rapid KL</td>\n",
       "      <td>3.005072</td>\n",
       "      <td>101.442081</td>\n",
       "      <td>JS</td>\n",
       "      <td>LRT3</td>\n",
       "      <td>11</td>\n",
       "      <td>Sky Blue</td>\n",
       "      <td>#88cffa</td>\n",
       "      <td>Klang Valley</td>\n",
       "      <td>None</td>\n",
       "      <td>None</td>\n",
       "      <td>None</td>\n",
       "      <td>256</td>\n",
       "      <td>POINT (101.44208 3.00507)</td>\n",
       "    </tr>\n",
       "    <tr>\n",
       "      <th>256</th>\n",
       "      <td>Bandar Bukit Tinggi</td>\n",
       "      <td>JS24</td>\n",
       "      <td>Rapid KL</td>\n",
       "      <td>2.993526</td>\n",
       "      <td>101.446175</td>\n",
       "      <td>JS</td>\n",
       "      <td>LRT3</td>\n",
       "      <td>11</td>\n",
       "      <td>Sky Blue</td>\n",
       "      <td>#88cffa</td>\n",
       "      <td>Klang Valley</td>\n",
       "      <td>None</td>\n",
       "      <td>None</td>\n",
       "      <td>None</td>\n",
       "      <td>257</td>\n",
       "      <td>POINT (101.44617 2.99353)</td>\n",
       "    </tr>\n",
       "    <tr>\n",
       "      <th>257</th>\n",
       "      <td>Johan Setia</td>\n",
       "      <td>JS26</td>\n",
       "      <td>Rapid KL</td>\n",
       "      <td>2.975436</td>\n",
       "      <td>101.460718</td>\n",
       "      <td>JS</td>\n",
       "      <td>LRT3</td>\n",
       "      <td>11</td>\n",
       "      <td>Sky Blue</td>\n",
       "      <td>#88cffa</td>\n",
       "      <td>Klang Valley</td>\n",
       "      <td>None</td>\n",
       "      <td>None</td>\n",
       "      <td>None</td>\n",
       "      <td>258</td>\n",
       "      <td>POINT (101.46072 2.97544)</td>\n",
       "    </tr>\n",
       "    <tr>\n",
       "      <th>258</th>\n",
       "      <td>KL Sentral</td>\n",
       "      <td>KA01</td>\n",
       "      <td>Keretapi Tanah Melayu</td>\n",
       "      <td>3.134603</td>\n",
       "      <td>101.686567</td>\n",
       "      <td>KA</td>\n",
       "      <td>Seremban Line</td>\n",
       "      <td>1</td>\n",
       "      <td>Blue</td>\n",
       "      <td>#0000FF</td>\n",
       "      <td>Klang Valley</td>\n",
       "      <td>None</td>\n",
       "      <td>None</td>\n",
       "      <td>None</td>\n",
       "      <td>0</td>\n",
       "      <td>POINT (101.68657 3.13460)</td>\n",
       "    </tr>\n",
       "  </tbody>\n",
       "</table>\n",
       "<p>259 rows × 16 columns</p>\n",
       "</div>"
      ],
      "text/plain": [
       "                    name station_code  service_provider_name  latitude  \\\n",
       "0           Kuala Lumpur         KA02  Keretapi Tanah Melayu  3.139513   \n",
       "1            Bank Negara         KA03  Keretapi Tanah Melayu  3.154542   \n",
       "2                  Putra         KA04  Keretapi Tanah Melayu  3.165005   \n",
       "3             Mid Valley         KB01  Keretapi Tanah Melayu  3.118528   \n",
       "4                Seputeh         KB02  Keretapi Tanah Melayu  3.113697   \n",
       "..                   ...          ...                    ...       ...   \n",
       "254          Sri Andalas         JS22               Rapid KL  3.015225   \n",
       "255           Klang Jaya         JS23               Rapid KL  3.005072   \n",
       "256  Bandar Bukit Tinggi         JS24               Rapid KL  2.993526   \n",
       "257          Johan Setia         JS26               Rapid KL  2.975436   \n",
       "258           KL Sentral         KA01  Keretapi Tanah Melayu  3.134603   \n",
       "\n",
       "      longitude route_id     route_name line_number line_colour  \\\n",
       "0    101.693789       KA  Seremban Line           1        Blue   \n",
       "1    101.693010       KA  Seremban Line           1        Blue   \n",
       "2    101.691234       KA  Seremban Line           1        Blue   \n",
       "3    101.678985       KB  Seremban Line           1        Blue   \n",
       "4    101.681299       KB  Seremban Line           1        Blue   \n",
       "..          ...      ...            ...         ...         ...   \n",
       "254  101.440441       JS           LRT3          11    Sky Blue   \n",
       "255  101.442081       JS           LRT3          11    Sky Blue   \n",
       "256  101.446175       JS           LRT3          11    Sky Blue   \n",
       "257  101.460718       JS           LRT3          11    Sky Blue   \n",
       "258  101.686567       KA  Seremban Line           1        Blue   \n",
       "\n",
       "    colour_hex_code        region odonym namesake opened  station_id  \\\n",
       "0           #0000FF  Klang Valley   None     None   None           1   \n",
       "1           #0000FF  Klang Valley   None     None   None           2   \n",
       "2           #0000FF  Klang Valley   None     None   None           3   \n",
       "3           #0000FF  Klang Valley   None     None   None           4   \n",
       "4           #0000FF  Klang Valley   None     None   None           5   \n",
       "..              ...           ...    ...      ...    ...         ...   \n",
       "254         #88cffa  Klang Valley   None     None   None         255   \n",
       "255         #88cffa  Klang Valley   None     None   None         256   \n",
       "256         #88cffa  Klang Valley   None     None   None         257   \n",
       "257         #88cffa  Klang Valley   None     None   None         258   \n",
       "258         #0000FF  Klang Valley   None     None   None           0   \n",
       "\n",
       "                      geometry  \n",
       "0    POINT (101.69379 3.13951)  \n",
       "1    POINT (101.69301 3.15454)  \n",
       "2    POINT (101.69123 3.16500)  \n",
       "3    POINT (101.67899 3.11853)  \n",
       "4    POINT (101.68130 3.11370)  \n",
       "..                         ...  \n",
       "254  POINT (101.44044 3.01522)  \n",
       "255  POINT (101.44208 3.00507)  \n",
       "256  POINT (101.44617 2.99353)  \n",
       "257  POINT (101.46072 2.97544)  \n",
       "258  POINT (101.68657 3.13460)  \n",
       "\n",
       "[259 rows x 16 columns]"
      ]
     },
     "execution_count": 15,
     "metadata": {},
     "output_type": "execute_result"
    }
   ],
   "source": [
    "#query to supabase using the previous supabase client that was declared\n",
    "response_stations = supabase.table('stations').select(\"*\").eq('region','Klang Valley').execute()\n",
    "\n",
    "data,_ = response_stations\n",
    "\n",
    "stations_df = pd.DataFrame(data[1])\n",
    "# Create a new column in your DataFrame for the geographic data\n",
    "stations_df['geometry'] = [Point(xy) for xy in zip(stations_df['longitude'], stations_df['latitude'])]\n",
    "\n",
    "# Convert the DataFrame to a GeoDataFrame\n",
    "stations_gdf = gpd.GeoDataFrame(stations_df, geometry='geometry')\n",
    "# Set the coordinate reference system (CRS) to EPSG:4326 (WGS84)\n",
    "stations_gdf.crs = \"EPSG:4326\"\n",
    "\n",
    "stations_gdf"
   ]
  },
  {
   "cell_type": "code",
   "execution_count": 16,
   "metadata": {},
   "outputs": [
    {
     "data": {
      "text/html": [
       "<div>\n",
       "<style scoped>\n",
       "    .dataframe tbody tr th:only-of-type {\n",
       "        vertical-align: middle;\n",
       "    }\n",
       "\n",
       "    .dataframe tbody tr th {\n",
       "        vertical-align: top;\n",
       "    }\n",
       "\n",
       "    .dataframe thead th {\n",
       "        text-align: right;\n",
       "    }\n",
       "</style>\n",
       "<table border=\"1\" class=\"dataframe\">\n",
       "  <thead>\n",
       "    <tr style=\"text-align: right;\">\n",
       "      <th></th>\n",
       "      <th>relationship_id</th>\n",
       "      <th>entrance_id</th>\n",
       "      <th>station_name</th>\n",
       "      <th>station_code</th>\n",
       "    </tr>\n",
       "  </thead>\n",
       "  <tbody>\n",
       "    <tr>\n",
       "      <th>0</th>\n",
       "      <td>0</td>\n",
       "      <td>10796851698</td>\n",
       "      <td>Pudu</td>\n",
       "      <td>AG10</td>\n",
       "    </tr>\n",
       "    <tr>\n",
       "      <th>1</th>\n",
       "      <td>1</td>\n",
       "      <td>10796851698</td>\n",
       "      <td>Pudu</td>\n",
       "      <td>SP10</td>\n",
       "    </tr>\n",
       "    <tr>\n",
       "      <th>2</th>\n",
       "      <td>2</td>\n",
       "      <td>5485710279</td>\n",
       "      <td>Kampung Baru</td>\n",
       "      <td>KJ11</td>\n",
       "    </tr>\n",
       "    <tr>\n",
       "      <th>3</th>\n",
       "      <td>3</td>\n",
       "      <td>5485710278</td>\n",
       "      <td>Kampung Baru</td>\n",
       "      <td>KJ11</td>\n",
       "    </tr>\n",
       "    <tr>\n",
       "      <th>4</th>\n",
       "      <td>4</td>\n",
       "      <td>9740843587</td>\n",
       "      <td>Masjid Jamek (KJ)</td>\n",
       "      <td>KJ13</td>\n",
       "    </tr>\n",
       "    <tr>\n",
       "      <th>...</th>\n",
       "      <td>...</td>\n",
       "      <td>...</td>\n",
       "      <td>...</td>\n",
       "      <td>...</td>\n",
       "    </tr>\n",
       "    <tr>\n",
       "      <th>333</th>\n",
       "      <td>333</td>\n",
       "      <td>12155642296</td>\n",
       "      <td>Kajang 2</td>\n",
       "      <td>KB06A</td>\n",
       "    </tr>\n",
       "    <tr>\n",
       "      <th>334</th>\n",
       "      <td>334</td>\n",
       "      <td>12155642293</td>\n",
       "      <td>Kajang 2</td>\n",
       "      <td>KB06A</td>\n",
       "    </tr>\n",
       "    <tr>\n",
       "      <th>335</th>\n",
       "      <td>335</td>\n",
       "      <td>12155642294</td>\n",
       "      <td>Kajang 2</td>\n",
       "      <td>KB06A</td>\n",
       "    </tr>\n",
       "    <tr>\n",
       "      <th>336</th>\n",
       "      <td>336</td>\n",
       "      <td>12155642293</td>\n",
       "      <td>Kajang 2</td>\n",
       "      <td>KB06A</td>\n",
       "    </tr>\n",
       "    <tr>\n",
       "      <th>337</th>\n",
       "      <td>337</td>\n",
       "      <td>12155642294</td>\n",
       "      <td>Kajang 2</td>\n",
       "      <td>KB06A</td>\n",
       "    </tr>\n",
       "  </tbody>\n",
       "</table>\n",
       "<p>338 rows × 4 columns</p>\n",
       "</div>"
      ],
      "text/plain": [
       "     relationship_id  entrance_id       station_name station_code\n",
       "0                  0  10796851698               Pudu         AG10\n",
       "1                  1  10796851698               Pudu         SP10\n",
       "2                  2   5485710279       Kampung Baru         KJ11\n",
       "3                  3   5485710278       Kampung Baru         KJ11\n",
       "4                  4   9740843587  Masjid Jamek (KJ)         KJ13\n",
       "..               ...          ...                ...          ...\n",
       "333              333  12155642296           Kajang 2        KB06A\n",
       "334              334  12155642293           Kajang 2        KB06A\n",
       "335              335  12155642294           Kajang 2        KB06A\n",
       "336              336  12155642293           Kajang 2        KB06A\n",
       "337              337  12155642294           Kajang 2        KB06A\n",
       "\n",
       "[338 rows x 4 columns]"
      ]
     },
     "execution_count": 16,
     "metadata": {},
     "output_type": "execute_result"
    }
   ],
   "source": [
    "#query to supabase using the previous supabase client that was declared\n",
    "response_stations = supabase.table('station_entrances').select(\"*\").execute()\n",
    "\n",
    "data,_ = response_stations\n",
    "\n",
    "stations_entrances_df = pd.DataFrame(data[1])\n",
    "stations_entrances_df"
   ]
  },
  {
   "cell_type": "markdown",
   "metadata": {},
   "source": [
    "## Task TODO\n",
    "\n",
    "1. Left join station_entrances with entrances_isochrones_gdf on entrance_id\n",
    "2. This will create a table with isochrones mapped to station_name\n",
    "3. Iterate stations table to look up joined table for entrance isochrones.\n",
    "4. If isochrones are found, store all of them and use a unity function to combine them all\n",
    "5. save in a new isochrones polygon column just for stations\n",
    "6. If no isochrones found, just query on station coordinates"
   ]
  },
  {
   "cell_type": "code",
   "execution_count": 17,
   "metadata": {},
   "outputs": [],
   "source": [
    "#correcting the column data type to prep for merging\n",
    "entrances_isochrones_gdf['entrance_id']= entrances_isochrones_gdf['entrance_id'].astype(int)  "
   ]
  },
  {
   "cell_type": "code",
   "execution_count": 18,
   "metadata": {},
   "outputs": [
    {
     "data": {
      "text/html": [
       "<div>\n",
       "<style scoped>\n",
       "    .dataframe tbody tr th:only-of-type {\n",
       "        vertical-align: middle;\n",
       "    }\n",
       "\n",
       "    .dataframe tbody tr th {\n",
       "        vertical-align: top;\n",
       "    }\n",
       "\n",
       "    .dataframe thead th {\n",
       "        text-align: right;\n",
       "    }\n",
       "</style>\n",
       "<table border=\"1\" class=\"dataframe\">\n",
       "  <thead>\n",
       "    <tr style=\"text-align: right;\">\n",
       "      <th></th>\n",
       "      <th>relationship_id</th>\n",
       "      <th>entrance_id</th>\n",
       "      <th>station_name</th>\n",
       "      <th>station_code</th>\n",
       "      <th>isochrone_id</th>\n",
       "      <th>value</th>\n",
       "      <th>center</th>\n",
       "      <th>area</th>\n",
       "      <th>reachfactor</th>\n",
       "      <th>total_pop</th>\n",
       "      <th>type</th>\n",
       "      <th>geometry</th>\n",
       "    </tr>\n",
       "  </thead>\n",
       "  <tbody>\n",
       "    <tr>\n",
       "      <th>0</th>\n",
       "      <td>0</td>\n",
       "      <td>10796851698</td>\n",
       "      <td>Pudu</td>\n",
       "      <td>AG10</td>\n",
       "      <td>10796851698600</td>\n",
       "      <td>600.0</td>\n",
       "      <td>[101.7121408, 3.1347568]</td>\n",
       "      <td>1363556.43</td>\n",
       "      <td>0.9766</td>\n",
       "      <td>13013.0</td>\n",
       "      <td>Polygon</td>\n",
       "      <td>POLYGON ((101.70670 3.13675, 101.70668 3.13654...</td>\n",
       "    </tr>\n",
       "    <tr>\n",
       "      <th>1</th>\n",
       "      <td>0</td>\n",
       "      <td>10796851698</td>\n",
       "      <td>Pudu</td>\n",
       "      <td>AG10</td>\n",
       "      <td>10796851698900</td>\n",
       "      <td>900.0</td>\n",
       "      <td>[101.7121408, 3.1347568]</td>\n",
       "      <td>2942783.33</td>\n",
       "      <td>0.9367</td>\n",
       "      <td>26301.0</td>\n",
       "      <td>Polygon</td>\n",
       "      <td>POLYGON ((101.70388 3.13690, 101.70406 3.13641...</td>\n",
       "    </tr>\n",
       "    <tr>\n",
       "      <th>2</th>\n",
       "      <td>0</td>\n",
       "      <td>10796851698</td>\n",
       "      <td>Pudu</td>\n",
       "      <td>AG10</td>\n",
       "      <td>10796851698300</td>\n",
       "      <td>300.0</td>\n",
       "      <td>[101.7121408, 3.1347568]</td>\n",
       "      <td>278905.63</td>\n",
       "      <td>0.7990</td>\n",
       "      <td>2478.0</td>\n",
       "      <td>Polygon</td>\n",
       "      <td>POLYGON ((101.70965 3.13579, 101.70971 3.13562...</td>\n",
       "    </tr>\n",
       "    <tr>\n",
       "      <th>3</th>\n",
       "      <td>1</td>\n",
       "      <td>10796851698</td>\n",
       "      <td>Pudu</td>\n",
       "      <td>SP10</td>\n",
       "      <td>10796851698600</td>\n",
       "      <td>600.0</td>\n",
       "      <td>[101.7121408, 3.1347568]</td>\n",
       "      <td>1363556.43</td>\n",
       "      <td>0.9766</td>\n",
       "      <td>13013.0</td>\n",
       "      <td>Polygon</td>\n",
       "      <td>POLYGON ((101.70670 3.13675, 101.70668 3.13654...</td>\n",
       "    </tr>\n",
       "    <tr>\n",
       "      <th>4</th>\n",
       "      <td>1</td>\n",
       "      <td>10796851698</td>\n",
       "      <td>Pudu</td>\n",
       "      <td>SP10</td>\n",
       "      <td>10796851698900</td>\n",
       "      <td>900.0</td>\n",
       "      <td>[101.7121408, 3.1347568]</td>\n",
       "      <td>2942783.33</td>\n",
       "      <td>0.9367</td>\n",
       "      <td>26301.0</td>\n",
       "      <td>Polygon</td>\n",
       "      <td>POLYGON ((101.70388 3.13690, 101.70406 3.13641...</td>\n",
       "    </tr>\n",
       "    <tr>\n",
       "      <th>...</th>\n",
       "      <td>...</td>\n",
       "      <td>...</td>\n",
       "      <td>...</td>\n",
       "      <td>...</td>\n",
       "      <td>...</td>\n",
       "      <td>...</td>\n",
       "      <td>...</td>\n",
       "      <td>...</td>\n",
       "      <td>...</td>\n",
       "      <td>...</td>\n",
       "      <td>...</td>\n",
       "      <td>...</td>\n",
       "    </tr>\n",
       "    <tr>\n",
       "      <th>1007</th>\n",
       "      <td>336</td>\n",
       "      <td>12155642293</td>\n",
       "      <td>Kajang 2</td>\n",
       "      <td>KB06A</td>\n",
       "      <td>12155642293600</td>\n",
       "      <td>600.0</td>\n",
       "      <td>[101.7924757365604, 2.962197483109656]</td>\n",
       "      <td>1132246.72</td>\n",
       "      <td>0.8109</td>\n",
       "      <td>5671.0</td>\n",
       "      <td>Polygon</td>\n",
       "      <td>POLYGON ((101.78562 2.96171, 101.78582 2.96056...</td>\n",
       "    </tr>\n",
       "    <tr>\n",
       "      <th>1008</th>\n",
       "      <td>336</td>\n",
       "      <td>12155642293</td>\n",
       "      <td>Kajang 2</td>\n",
       "      <td>KB06A</td>\n",
       "      <td>12155642293900</td>\n",
       "      <td>900.0</td>\n",
       "      <td>[101.7924757365604, 2.962197483109656]</td>\n",
       "      <td>2651370.81</td>\n",
       "      <td>0.8440</td>\n",
       "      <td>13338.0</td>\n",
       "      <td>Polygon</td>\n",
       "      <td>POLYGON ((101.78315 2.96410, 101.78342 2.96268...</td>\n",
       "    </tr>\n",
       "    <tr>\n",
       "      <th>1009</th>\n",
       "      <td>337</td>\n",
       "      <td>12155642294</td>\n",
       "      <td>Kajang 2</td>\n",
       "      <td>KB06A</td>\n",
       "      <td>12155642294300</td>\n",
       "      <td>300.0</td>\n",
       "      <td>[101.7920585756707, 2.962773292823094]</td>\n",
       "      <td>275086.65</td>\n",
       "      <td>0.7881</td>\n",
       "      <td>1118.0</td>\n",
       "      <td>Polygon</td>\n",
       "      <td>POLYGON ((101.78944 2.96378, 101.78966 2.96172...</td>\n",
       "    </tr>\n",
       "    <tr>\n",
       "      <th>1010</th>\n",
       "      <td>337</td>\n",
       "      <td>12155642294</td>\n",
       "      <td>Kajang 2</td>\n",
       "      <td>KB06A</td>\n",
       "      <td>12155642294600</td>\n",
       "      <td>600.0</td>\n",
       "      <td>[101.7920585756707, 2.962773292823094]</td>\n",
       "      <td>1279822.14</td>\n",
       "      <td>0.9166</td>\n",
       "      <td>5476.0</td>\n",
       "      <td>Polygon</td>\n",
       "      <td>POLYGON ((101.78577 2.96369, 101.78622 2.96092...</td>\n",
       "    </tr>\n",
       "    <tr>\n",
       "      <th>1011</th>\n",
       "      <td>337</td>\n",
       "      <td>12155642294</td>\n",
       "      <td>Kajang 2</td>\n",
       "      <td>KB06A</td>\n",
       "      <td>12155642294900</td>\n",
       "      <td>900.0</td>\n",
       "      <td>[101.7920585756707, 2.962773292823094]</td>\n",
       "      <td>2826131.63</td>\n",
       "      <td>0.8996</td>\n",
       "      <td>14115.0</td>\n",
       "      <td>Polygon</td>\n",
       "      <td>POLYGON ((101.78248 2.96367, 101.78248 2.96361...</td>\n",
       "    </tr>\n",
       "  </tbody>\n",
       "</table>\n",
       "<p>1012 rows × 12 columns</p>\n",
       "</div>"
      ],
      "text/plain": [
       "      relationship_id  entrance_id station_name station_code    isochrone_id  \\\n",
       "0                   0  10796851698         Pudu         AG10  10796851698600   \n",
       "1                   0  10796851698         Pudu         AG10  10796851698900   \n",
       "2                   0  10796851698         Pudu         AG10  10796851698300   \n",
       "3                   1  10796851698         Pudu         SP10  10796851698600   \n",
       "4                   1  10796851698         Pudu         SP10  10796851698900   \n",
       "...               ...          ...          ...          ...             ...   \n",
       "1007              336  12155642293     Kajang 2        KB06A  12155642293600   \n",
       "1008              336  12155642293     Kajang 2        KB06A  12155642293900   \n",
       "1009              337  12155642294     Kajang 2        KB06A  12155642294300   \n",
       "1010              337  12155642294     Kajang 2        KB06A  12155642294600   \n",
       "1011              337  12155642294     Kajang 2        KB06A  12155642294900   \n",
       "\n",
       "      value                                  center        area  reachfactor  \\\n",
       "0     600.0                [101.7121408, 3.1347568]  1363556.43       0.9766   \n",
       "1     900.0                [101.7121408, 3.1347568]  2942783.33       0.9367   \n",
       "2     300.0                [101.7121408, 3.1347568]   278905.63       0.7990   \n",
       "3     600.0                [101.7121408, 3.1347568]  1363556.43       0.9766   \n",
       "4     900.0                [101.7121408, 3.1347568]  2942783.33       0.9367   \n",
       "...     ...                                     ...         ...          ...   \n",
       "1007  600.0  [101.7924757365604, 2.962197483109656]  1132246.72       0.8109   \n",
       "1008  900.0  [101.7924757365604, 2.962197483109656]  2651370.81       0.8440   \n",
       "1009  300.0  [101.7920585756707, 2.962773292823094]   275086.65       0.7881   \n",
       "1010  600.0  [101.7920585756707, 2.962773292823094]  1279822.14       0.9166   \n",
       "1011  900.0  [101.7920585756707, 2.962773292823094]  2826131.63       0.8996   \n",
       "\n",
       "      total_pop     type                                           geometry  \n",
       "0       13013.0  Polygon  POLYGON ((101.70670 3.13675, 101.70668 3.13654...  \n",
       "1       26301.0  Polygon  POLYGON ((101.70388 3.13690, 101.70406 3.13641...  \n",
       "2        2478.0  Polygon  POLYGON ((101.70965 3.13579, 101.70971 3.13562...  \n",
       "3       13013.0  Polygon  POLYGON ((101.70670 3.13675, 101.70668 3.13654...  \n",
       "4       26301.0  Polygon  POLYGON ((101.70388 3.13690, 101.70406 3.13641...  \n",
       "...         ...      ...                                                ...  \n",
       "1007     5671.0  Polygon  POLYGON ((101.78562 2.96171, 101.78582 2.96056...  \n",
       "1008    13338.0  Polygon  POLYGON ((101.78315 2.96410, 101.78342 2.96268...  \n",
       "1009     1118.0  Polygon  POLYGON ((101.78944 2.96378, 101.78966 2.96172...  \n",
       "1010     5476.0  Polygon  POLYGON ((101.78577 2.96369, 101.78622 2.96092...  \n",
       "1011    14115.0  Polygon  POLYGON ((101.78248 2.96367, 101.78248 2.96361...  \n",
       "\n",
       "[1012 rows x 12 columns]"
      ]
     },
     "execution_count": 18,
     "metadata": {},
     "output_type": "execute_result"
    }
   ],
   "source": [
    "# Step 1: Left join station_entrances with entrances_isochrones_gdf on entrance_id\n",
    "# This will create a table where each station entrance has corresponding isochrones mapped\n",
    "merged_gdf = stations_entrances_df.merge(entrances_isochrones_gdf, on='entrance_id', how='left')\n",
    "merged_gdf"
   ]
  },
  {
   "cell_type": "code",
   "execution_count": 19,
   "metadata": {},
   "outputs": [],
   "source": [
    "#Iterate stations_gdf table to look up merged_gdf table for entrance isochrones.\n",
    "#If isochrones are found in merged_gdf, \n",
    "\n",
    "from shapely.ops import unary_union\n",
    "from geopandas import GeoDataFrame\n",
    "\n",
    "\n",
    "def generate_station_isochrone(client,station_id,reach_centre,range=900,interval=300):\n",
    "    isochrone_parameters = {\n",
    "              'profile': 'foot-walking', \n",
    "              'range': [range], # 900/60 = 15 mins\n",
    "              'interval': interval,\n",
    "              'attributes': ['area', 'reachfactor', 'total_pop'] # Get population count for isochrones\n",
    "             }\n",
    "\n",
    "    #reach_centre is in the format: [101.7127175, 3.1587619], ie [longitude,latitude]\n",
    "    isochrone_parameters['locations'] = [reach_centre]\n",
    "    isochrones_output = client.isochrones(**isochrone_parameters)\n",
    "\n",
    "    df = pd.json_normalize(isochrones_output['features'])\n",
    "    df = df.drop(columns=['type','properties.group_index'])\n",
    "\n",
    "    #reformate coordinates column\n",
    "    df['geometry.coordinates']=df['geometry.coordinates'].apply(lambda row:row[0])\n",
    "\n",
    "    # Remove 'properties.' and 'geometry.' from the column names\n",
    "    df.columns = df.columns.str.replace('properties.', '', regex=False)\n",
    "    df.columns = df.columns.str.replace('geometry.', '', regex=False)\n",
    "    \n",
    "\n",
    "    #creating a new id key for isochrones. to be inserted in supabase table\n",
    "    df['station_id']=station_id\n",
    "    df['isochrone_id'] = df['station_id'].astype(str) + df['value'].astype(int).astype(str)\n",
    "\n",
    "\n",
    "    # Convert list of coordinates to Polygon objects\n",
    "    df['geometry'] = df['coordinates'].apply(Polygon)\n",
    "    df.drop(columns=['coordinates'],inplace=True)\n",
    "    \n",
    "    # Convert to GeoDataFrame\n",
    "    gdf = gpd.GeoDataFrame(df, geometry='geometry', crs=\"EPSG:4326\")\n",
    "    #gdf['geometry'] = gdf['geometry'].apply(lambda geom: geom.wkt)\n",
    "    gdf['area'] = gdf['area'].astype(float)\n",
    "    gdf['reachfactor'] = gdf['reachfactor'].astype(float)\n",
    "    gdf['total_pop'] = gdf['total_pop'].astype(float)\n",
    "    #area calculation likely wrong. just trying to standardize method\n",
    "    gdf['area'] = gdf['geometry'].area\n",
    "\n",
    "    return gdf   \n",
    "\n",
    "def get_station_isochrone(station_row, merged_gdf,ors_client):\n",
    "    station_code = station_row['station_code']\n",
    "    \n",
    "    # Find all entrances for this station\n",
    "    station_entrances = merged_gdf[merged_gdf['station_code'] == station_code]\n",
    "    \n",
    "    if not station_entrances.empty:\n",
    "        print(\"combining isochrones\")\n",
    "        \n",
    "        average_pop = station_entrances.groupby('value')['total_pop'].mean()\n",
    "        average_reach_factor = station_entrances.groupby('value')['reachfactor'].mean()\n",
    "\n",
    "        reach_centre = station_entrances['center'].iloc[0]\n",
    "\n",
    "        # Group the geometries by 'value' and create unions\n",
    "        grouped_isochrones = station_entrances.groupby('value')['geometry'].apply(unary_union)\n",
    "        # Create a new DataFrame with the combined isochrones\n",
    "        combined_isochrones = gpd.GeoDataFrame(\n",
    "            {'value': grouped_isochrones.index,\n",
    "             'center':reach_centre,\n",
    "             'reachfactor':average_reach_factor,\n",
    "             'total_pop':average_pop},\n",
    "            geometry=grouped_isochrones.values,\n",
    "            crs=\"EPSG:4326\"\n",
    "        )\n",
    "        #creating a new id key for isochrones. to be inserted in supabase table\n",
    "        combined_isochrones['station_id']=station_row['station_id']\n",
    "        combined_isochrones['isochrone_id'] = combined_isochrones['station_id'].astype(str) + combined_isochrones['value'].astype(int).astype(str)        \n",
    "        #area calculation likely wrong. just trying to standardize method\n",
    "        combined_isochrones['area'] = combined_isochrones['geometry'].area\n",
    "        combined_isochrones['type'] = combined_isochrones['geometry'].type\n",
    "        combined_isochrones = combined_isochrones.reset_index(drop=True)\n",
    "        \n",
    "        # If you need to keep other columns from station_row, you can merge them here\n",
    "        # For example:\n",
    "        # result = pd.concat([station_row.drop('geometry', axis=1), combined_isochrones], axis=1)\n",
    "        \n",
    "        return combined_isochrones\n",
    "    \n",
    "    else:\n",
    "        print(\"generating isochrones\")\n",
    "        # If no entrances found, generate new isochrone based on station coordinates\n",
    "        # Extract coordinates (reach_centre) from the geometry\n",
    "        reach_centre = [station_row['geometry'].coords[0][0], station_row['geometry'].coords[0][1]]\n",
    "\n",
    "        return generate_station_isochrone(ors_client,station_row['station_id'],reach_centre)\n",
    "\n",
    "    \n",
    "\n",
    "def update_station_isochrone_supabase(supabase_client,isochrone_geodataframe):\n",
    "    # # Convert list of coordinates to Polygon objects\n",
    "    # isochrone_dataframe['geometry'] = isochrone_dataframe['coordinates'].apply(Polygon)\n",
    "    # isochrone_dataframe.drop(columns=['coordinates'],inplace=True)\n",
    "    \n",
    "    # # Convert to GeoDataFrame\n",
    "    # isochrone_geodataframe = gpd.GeoDataFrame(isochrone_dataframe, geometry='geometry', crs=\"EPSG:4326\")\n",
    "    isochrone_geodataframe['geometry'] = isochrone_geodataframe['geometry'].apply(lambda geom: geom.wkt)\n",
    "    # isochrone_geodataframe['area'] = isochrone_geodataframe['area'].astype(float)\n",
    "    # isochrone_geodataframe['reachfactor'] = isochrone_geodataframe['reachfactor'].astype(float)\n",
    "    # isochrone_geodataframe['total_pop'] = isochrone_geodataframe['total_pop'].astype(float)\n",
    "\n",
    "    isochrone_dict = isochrone_geodataframe.to_dict(('records'))\n",
    "\n",
    "    #upsert will insert the row if it doesn’t exist or update the row if it already exists. \n",
    "    data, error = supabase_client.table('station_isochrones').upsert(isochrone_dict).execute()\n",
    "\n",
    "    return data,error"
   ]
  },
  {
   "cell_type": "code",
   "execution_count": 20,
   "metadata": {},
   "outputs": [
    {
     "data": {
      "text/plain": [
       "name                                       Bank Negara\n",
       "station_code                                      KA03\n",
       "service_provider_name            Keretapi Tanah Melayu\n",
       "latitude                                      3.154542\n",
       "longitude                                    101.69301\n",
       "route_id                                            KA\n",
       "route_name                               Seremban Line\n",
       "line_number                                          1\n",
       "line_colour                                       Blue\n",
       "colour_hex_code                                #0000FF\n",
       "region                                    Klang Valley\n",
       "odonym                                            None\n",
       "namesake                                          None\n",
       "opened                                            None\n",
       "station_id                                           2\n",
       "geometry                 POINT (101.6930105 3.1545422)\n",
       "Name: 1, dtype: object"
      ]
     },
     "execution_count": 20,
     "metadata": {},
     "output_type": "execute_result"
    }
   ],
   "source": [
    "stations_gdf.iloc[1]"
   ]
  },
  {
   "cell_type": "code",
   "execution_count": 21,
   "metadata": {},
   "outputs": [
    {
     "name": "stdout",
     "output_type": "stream",
     "text": [
      "combining isochrones\n"
     ]
    },
    {
     "name": "stderr",
     "output_type": "stream",
     "text": [
      "/var/folders/2s/3b55fy1174l4bfchw66wdl800000gn/T/ipykernel_76809/2605401413.py:80: UserWarning: Geometry is in a geographic CRS. Results from 'area' are likely incorrect. Use 'GeoSeries.to_crs()' to re-project geometries to a projected CRS before this operation.\n",
      "\n",
      "  combined_isochrones['area'] = combined_isochrones['geometry'].area\n"
     ]
    }
   ],
   "source": [
    "sample_combined = get_station_isochrone(stations_gdf.iloc[8],merged_gdf,ors_client)"
   ]
  },
  {
   "cell_type": "code",
   "execution_count": 22,
   "metadata": {},
   "outputs": [
    {
     "name": "stdout",
     "output_type": "stream",
     "text": [
      "generating isochrones\n"
     ]
    },
    {
     "name": "stderr",
     "output_type": "stream",
     "text": [
      "/var/folders/2s/3b55fy1174l4bfchw66wdl800000gn/T/ipykernel_76809/2605401413.py:47: UserWarning: Geometry is in a geographic CRS. Results from 'area' are likely incorrect. Use 'GeoSeries.to_crs()' to re-project geometries to a projected CRS before this operation.\n",
      "\n",
      "  gdf['area'] = gdf['geometry'].area\n"
     ]
    }
   ],
   "source": [
    "sample_generated = get_station_isochrone(stations_gdf.iloc[9],merged_gdf,ors_client)"
   ]
  },
  {
   "cell_type": "code",
   "execution_count": 23,
   "metadata": {},
   "outputs": [
    {
     "data": {
      "text/html": [
       "<div>\n",
       "<style scoped>\n",
       "    .dataframe tbody tr th:only-of-type {\n",
       "        vertical-align: middle;\n",
       "    }\n",
       "\n",
       "    .dataframe tbody tr th {\n",
       "        vertical-align: top;\n",
       "    }\n",
       "\n",
       "    .dataframe thead th {\n",
       "        text-align: right;\n",
       "    }\n",
       "</style>\n",
       "<table border=\"1\" class=\"dataframe\">\n",
       "  <thead>\n",
       "    <tr style=\"text-align: right;\">\n",
       "      <th></th>\n",
       "      <th>value</th>\n",
       "      <th>center</th>\n",
       "      <th>area</th>\n",
       "      <th>reachfactor</th>\n",
       "      <th>total_pop</th>\n",
       "      <th>type</th>\n",
       "      <th>station_id</th>\n",
       "      <th>isochrone_id</th>\n",
       "      <th>geometry</th>\n",
       "    </tr>\n",
       "  </thead>\n",
       "  <tbody>\n",
       "    <tr>\n",
       "      <th>0</th>\n",
       "      <td>300.0</td>\n",
       "      <td>[101.7877487, 2.9395406]</td>\n",
       "      <td>0.000015</td>\n",
       "      <td>0.5254</td>\n",
       "      <td>804.0</td>\n",
       "      <td>Polygon</td>\n",
       "      <td>10</td>\n",
       "      <td>10300</td>\n",
       "      <td>POLYGON ((101.78521 2.94117, 101.78563 2.94001...</td>\n",
       "    </tr>\n",
       "    <tr>\n",
       "      <th>1</th>\n",
       "      <td>600.0</td>\n",
       "      <td>[101.7877487, 2.9395406]</td>\n",
       "      <td>0.000062</td>\n",
       "      <td>0.5488</td>\n",
       "      <td>3559.0</td>\n",
       "      <td>Polygon</td>\n",
       "      <td>10</td>\n",
       "      <td>10600</td>\n",
       "      <td>POLYGON ((101.78476 2.94308, 101.78481 2.94041...</td>\n",
       "    </tr>\n",
       "    <tr>\n",
       "      <th>2</th>\n",
       "      <td>900.0</td>\n",
       "      <td>[101.7877487, 2.9395406]</td>\n",
       "      <td>0.000154</td>\n",
       "      <td>0.6066</td>\n",
       "      <td>7099.0</td>\n",
       "      <td>Polygon</td>\n",
       "      <td>10</td>\n",
       "      <td>10900</td>\n",
       "      <td>POLYGON ((101.78450 2.94634, 101.78459 2.94517...</td>\n",
       "    </tr>\n",
       "  </tbody>\n",
       "</table>\n",
       "</div>"
      ],
      "text/plain": [
       "   value                    center      area  reachfactor  total_pop     type  \\\n",
       "0  300.0  [101.7877487, 2.9395406]  0.000015       0.5254      804.0  Polygon   \n",
       "1  600.0  [101.7877487, 2.9395406]  0.000062       0.5488     3559.0  Polygon   \n",
       "2  900.0  [101.7877487, 2.9395406]  0.000154       0.6066     7099.0  Polygon   \n",
       "\n",
       "   station_id isochrone_id                                           geometry  \n",
       "0          10        10300  POLYGON ((101.78521 2.94117, 101.78563 2.94001...  \n",
       "1          10        10600  POLYGON ((101.78476 2.94308, 101.78481 2.94041...  \n",
       "2          10        10900  POLYGON ((101.78450 2.94634, 101.78459 2.94517...  "
      ]
     },
     "execution_count": 23,
     "metadata": {},
     "output_type": "execute_result"
    }
   ],
   "source": [
    "sample_generated"
   ]
  },
  {
   "cell_type": "code",
   "execution_count": 24,
   "metadata": {},
   "outputs": [
    {
     "data": {
      "text/html": [
       "<div>\n",
       "<style scoped>\n",
       "    .dataframe tbody tr th:only-of-type {\n",
       "        vertical-align: middle;\n",
       "    }\n",
       "\n",
       "    .dataframe tbody tr th {\n",
       "        vertical-align: top;\n",
       "    }\n",
       "\n",
       "    .dataframe thead th {\n",
       "        text-align: right;\n",
       "    }\n",
       "</style>\n",
       "<table border=\"1\" class=\"dataframe\">\n",
       "  <thead>\n",
       "    <tr style=\"text-align: right;\">\n",
       "      <th></th>\n",
       "      <th>value</th>\n",
       "      <th>center</th>\n",
       "      <th>reachfactor</th>\n",
       "      <th>total_pop</th>\n",
       "      <th>geometry</th>\n",
       "      <th>station_id</th>\n",
       "      <th>isochrone_id</th>\n",
       "      <th>area</th>\n",
       "      <th>type</th>\n",
       "    </tr>\n",
       "  </thead>\n",
       "  <tbody>\n",
       "    <tr>\n",
       "      <th>0</th>\n",
       "      <td>300.0</td>\n",
       "      <td>[101.79089, 2.9838212]</td>\n",
       "      <td>0.57045</td>\n",
       "      <td>1331.5</td>\n",
       "      <td>POLYGON ((101.79052 2.98026, 101.79001 2.97965...</td>\n",
       "      <td>9</td>\n",
       "      <td>9300</td>\n",
       "      <td>0.000021</td>\n",
       "      <td>Polygon</td>\n",
       "    </tr>\n",
       "    <tr>\n",
       "      <th>1</th>\n",
       "      <td>600.0</td>\n",
       "      <td>[101.79089, 2.9838212]</td>\n",
       "      <td>0.69155</td>\n",
       "      <td>7168.5</td>\n",
       "      <td>POLYGON ((101.79182 2.97781, 101.79003 2.97581...</td>\n",
       "      <td>9</td>\n",
       "      <td>9600</td>\n",
       "      <td>0.000090</td>\n",
       "      <td>Polygon</td>\n",
       "    </tr>\n",
       "    <tr>\n",
       "      <th>2</th>\n",
       "      <td>900.0</td>\n",
       "      <td>[101.79089, 2.9838212]</td>\n",
       "      <td>0.71800</td>\n",
       "      <td>19265.0</td>\n",
       "      <td>POLYGON ((101.78663 2.98590, 101.78657 2.98624...</td>\n",
       "      <td>9</td>\n",
       "      <td>9900</td>\n",
       "      <td>0.000199</td>\n",
       "      <td>Polygon</td>\n",
       "    </tr>\n",
       "  </tbody>\n",
       "</table>\n",
       "</div>"
      ],
      "text/plain": [
       "   value                  center  reachfactor  total_pop  \\\n",
       "0  300.0  [101.79089, 2.9838212]      0.57045     1331.5   \n",
       "1  600.0  [101.79089, 2.9838212]      0.69155     7168.5   \n",
       "2  900.0  [101.79089, 2.9838212]      0.71800    19265.0   \n",
       "\n",
       "                                            geometry  station_id isochrone_id  \\\n",
       "0  POLYGON ((101.79052 2.98026, 101.79001 2.97965...           9         9300   \n",
       "1  POLYGON ((101.79182 2.97781, 101.79003 2.97581...           9         9600   \n",
       "2  POLYGON ((101.78663 2.98590, 101.78657 2.98624...           9         9900   \n",
       "\n",
       "       area     type  \n",
       "0  0.000021  Polygon  \n",
       "1  0.000090  Polygon  \n",
       "2  0.000199  Polygon  "
      ]
     },
     "execution_count": 24,
     "metadata": {},
     "output_type": "execute_result"
    }
   ],
   "source": [
    "sample_combined"
   ]
  },
  {
   "cell_type": "code",
   "execution_count": 25,
   "metadata": {},
   "outputs": [],
   "source": [
    "# Apply the function to each row in stations_gdf and update in Supabase\n",
    "\n",
    "def process_stations(stations_gdf, merged_gdf,ors_client, supabase_client):\n",
    "    # Iterate over each row in the GeoDataFrame\n",
    "    for index, row in stations_gdf.iterrows():\n",
    "\n",
    "        try:\n",
    "            isochrone_dataframe = get_station_isochrone(\n",
    "                row, \n",
    "                merged_gdf,\n",
    "                ors_client)\n",
    "            \n",
    "            # Update the isochrone data in Supabase using the specified function\n",
    "            update_station_isochrone_supabase(supabase_client, isochrone_dataframe)\n",
    "            print(f'updated {row.station_id}')\n",
    "            \n",
    "        except Exception as e:\n",
    "            # Handle exceptions (e.g., API errors, invalid geometries, etc.)\n",
    "            print(f\"Error processing entrance {row.station_id}: {e}\")"
   ]
  },
  {
   "cell_type": "code",
   "execution_count": 26,
   "metadata": {},
   "outputs": [
    {
     "name": "stdout",
     "output_type": "stream",
     "text": [
      "generating isochrones\n"
     ]
    },
    {
     "name": "stderr",
     "output_type": "stream",
     "text": [
      "/var/folders/2s/3b55fy1174l4bfchw66wdl800000gn/T/ipykernel_76809/2605401413.py:47: UserWarning: Geometry is in a geographic CRS. Results from 'area' are likely incorrect. Use 'GeoSeries.to_crs()' to re-project geometries to a projected CRS before this operation.\n",
      "\n",
      "  gdf['area'] = gdf['geometry'].area\n",
      "/Users/nabilersyad/miniconda3/envs/sql/lib/python3.9/site-packages/geopandas/geodataframe.py:1442: UserWarning: Geometry column does not contain geometry.\n",
      "  warnings.warn(\"Geometry column does not contain geometry.\")\n"
     ]
    },
    {
     "name": "stdout",
     "output_type": "stream",
     "text": [
      "updated 1\n",
      "generating isochrones\n"
     ]
    },
    {
     "name": "stderr",
     "output_type": "stream",
     "text": [
      "/var/folders/2s/3b55fy1174l4bfchw66wdl800000gn/T/ipykernel_76809/2605401413.py:47: UserWarning: Geometry is in a geographic CRS. Results from 'area' are likely incorrect. Use 'GeoSeries.to_crs()' to re-project geometries to a projected CRS before this operation.\n",
      "\n",
      "  gdf['area'] = gdf['geometry'].area\n",
      "/Users/nabilersyad/miniconda3/envs/sql/lib/python3.9/site-packages/geopandas/geodataframe.py:1442: UserWarning: Geometry column does not contain geometry.\n",
      "  warnings.warn(\"Geometry column does not contain geometry.\")\n"
     ]
    },
    {
     "name": "stdout",
     "output_type": "stream",
     "text": [
      "updated 2\n",
      "generating isochrones\n"
     ]
    },
    {
     "name": "stderr",
     "output_type": "stream",
     "text": [
      "/var/folders/2s/3b55fy1174l4bfchw66wdl800000gn/T/ipykernel_76809/2605401413.py:47: UserWarning: Geometry is in a geographic CRS. Results from 'area' are likely incorrect. Use 'GeoSeries.to_crs()' to re-project geometries to a projected CRS before this operation.\n",
      "\n",
      "  gdf['area'] = gdf['geometry'].area\n",
      "/Users/nabilersyad/miniconda3/envs/sql/lib/python3.9/site-packages/geopandas/geodataframe.py:1442: UserWarning: Geometry column does not contain geometry.\n",
      "  warnings.warn(\"Geometry column does not contain geometry.\")\n"
     ]
    },
    {
     "name": "stdout",
     "output_type": "stream",
     "text": [
      "updated 3\n",
      "generating isochrones\n"
     ]
    },
    {
     "name": "stderr",
     "output_type": "stream",
     "text": [
      "/var/folders/2s/3b55fy1174l4bfchw66wdl800000gn/T/ipykernel_76809/2605401413.py:47: UserWarning: Geometry is in a geographic CRS. Results from 'area' are likely incorrect. Use 'GeoSeries.to_crs()' to re-project geometries to a projected CRS before this operation.\n",
      "\n",
      "  gdf['area'] = gdf['geometry'].area\n",
      "/Users/nabilersyad/miniconda3/envs/sql/lib/python3.9/site-packages/geopandas/geodataframe.py:1442: UserWarning: Geometry column does not contain geometry.\n",
      "  warnings.warn(\"Geometry column does not contain geometry.\")\n"
     ]
    },
    {
     "name": "stdout",
     "output_type": "stream",
     "text": [
      "updated 4\n",
      "generating isochrones\n"
     ]
    },
    {
     "name": "stderr",
     "output_type": "stream",
     "text": [
      "/var/folders/2s/3b55fy1174l4bfchw66wdl800000gn/T/ipykernel_76809/2605401413.py:47: UserWarning: Geometry is in a geographic CRS. Results from 'area' are likely incorrect. Use 'GeoSeries.to_crs()' to re-project geometries to a projected CRS before this operation.\n",
      "\n",
      "  gdf['area'] = gdf['geometry'].area\n",
      "/Users/nabilersyad/miniconda3/envs/sql/lib/python3.9/site-packages/geopandas/geodataframe.py:1442: UserWarning: Geometry column does not contain geometry.\n",
      "  warnings.warn(\"Geometry column does not contain geometry.\")\n"
     ]
    },
    {
     "name": "stdout",
     "output_type": "stream",
     "text": [
      "updated 5\n",
      "generating isochrones\n"
     ]
    },
    {
     "name": "stderr",
     "output_type": "stream",
     "text": [
      "/var/folders/2s/3b55fy1174l4bfchw66wdl800000gn/T/ipykernel_76809/2605401413.py:47: UserWarning: Geometry is in a geographic CRS. Results from 'area' are likely incorrect. Use 'GeoSeries.to_crs()' to re-project geometries to a projected CRS before this operation.\n",
      "\n",
      "  gdf['area'] = gdf['geometry'].area\n",
      "/Users/nabilersyad/miniconda3/envs/sql/lib/python3.9/site-packages/geopandas/geodataframe.py:1442: UserWarning: Geometry column does not contain geometry.\n",
      "  warnings.warn(\"Geometry column does not contain geometry.\")\n"
     ]
    },
    {
     "name": "stdout",
     "output_type": "stream",
     "text": [
      "updated 6\n",
      "generating isochrones\n"
     ]
    },
    {
     "name": "stderr",
     "output_type": "stream",
     "text": [
      "/var/folders/2s/3b55fy1174l4bfchw66wdl800000gn/T/ipykernel_76809/2605401413.py:47: UserWarning: Geometry is in a geographic CRS. Results from 'area' are likely incorrect. Use 'GeoSeries.to_crs()' to re-project geometries to a projected CRS before this operation.\n",
      "\n",
      "  gdf['area'] = gdf['geometry'].area\n",
      "/Users/nabilersyad/miniconda3/envs/sql/lib/python3.9/site-packages/geopandas/geodataframe.py:1442: UserWarning: Geometry column does not contain geometry.\n",
      "  warnings.warn(\"Geometry column does not contain geometry.\")\n"
     ]
    },
    {
     "name": "stdout",
     "output_type": "stream",
     "text": [
      "updated 7\n",
      "generating isochrones\n"
     ]
    },
    {
     "name": "stderr",
     "output_type": "stream",
     "text": [
      "/var/folders/2s/3b55fy1174l4bfchw66wdl800000gn/T/ipykernel_76809/2605401413.py:47: UserWarning: Geometry is in a geographic CRS. Results from 'area' are likely incorrect. Use 'GeoSeries.to_crs()' to re-project geometries to a projected CRS before this operation.\n",
      "\n",
      "  gdf['area'] = gdf['geometry'].area\n",
      "/Users/nabilersyad/miniconda3/envs/sql/lib/python3.9/site-packages/geopandas/geodataframe.py:1442: UserWarning: Geometry column does not contain geometry.\n",
      "  warnings.warn(\"Geometry column does not contain geometry.\")\n",
      "/var/folders/2s/3b55fy1174l4bfchw66wdl800000gn/T/ipykernel_76809/2605401413.py:80: UserWarning: Geometry is in a geographic CRS. Results from 'area' are likely incorrect. Use 'GeoSeries.to_crs()' to re-project geometries to a projected CRS before this operation.\n",
      "\n",
      "  combined_isochrones['area'] = combined_isochrones['geometry'].area\n",
      "/Users/nabilersyad/miniconda3/envs/sql/lib/python3.9/site-packages/geopandas/geodataframe.py:1442: UserWarning: Geometry column does not contain geometry.\n",
      "  warnings.warn(\"Geometry column does not contain geometry.\")\n"
     ]
    },
    {
     "name": "stdout",
     "output_type": "stream",
     "text": [
      "updated 8\n",
      "combining isochrones\n",
      "updated 9\n",
      "generating isochrones\n"
     ]
    },
    {
     "name": "stderr",
     "output_type": "stream",
     "text": [
      "/var/folders/2s/3b55fy1174l4bfchw66wdl800000gn/T/ipykernel_76809/2605401413.py:47: UserWarning: Geometry is in a geographic CRS. Results from 'area' are likely incorrect. Use 'GeoSeries.to_crs()' to re-project geometries to a projected CRS before this operation.\n",
      "\n",
      "  gdf['area'] = gdf['geometry'].area\n",
      "/Users/nabilersyad/miniconda3/envs/sql/lib/python3.9/site-packages/geopandas/geodataframe.py:1442: UserWarning: Geometry column does not contain geometry.\n",
      "  warnings.warn(\"Geometry column does not contain geometry.\")\n"
     ]
    },
    {
     "name": "stdout",
     "output_type": "stream",
     "text": [
      "updated 10\n",
      "generating isochrones\n"
     ]
    },
    {
     "name": "stderr",
     "output_type": "stream",
     "text": [
      "/var/folders/2s/3b55fy1174l4bfchw66wdl800000gn/T/ipykernel_76809/2605401413.py:47: UserWarning: Geometry is in a geographic CRS. Results from 'area' are likely incorrect. Use 'GeoSeries.to_crs()' to re-project geometries to a projected CRS before this operation.\n",
      "\n",
      "  gdf['area'] = gdf['geometry'].area\n",
      "/Users/nabilersyad/miniconda3/envs/sql/lib/python3.9/site-packages/geopandas/geodataframe.py:1442: UserWarning: Geometry column does not contain geometry.\n",
      "  warnings.warn(\"Geometry column does not contain geometry.\")\n"
     ]
    },
    {
     "name": "stdout",
     "output_type": "stream",
     "text": [
      "updated 11\n",
      "generating isochrones\n"
     ]
    },
    {
     "name": "stderr",
     "output_type": "stream",
     "text": [
      "/var/folders/2s/3b55fy1174l4bfchw66wdl800000gn/T/ipykernel_76809/2605401413.py:47: UserWarning: Geometry is in a geographic CRS. Results from 'area' are likely incorrect. Use 'GeoSeries.to_crs()' to re-project geometries to a projected CRS before this operation.\n",
      "\n",
      "  gdf['area'] = gdf['geometry'].area\n",
      "/Users/nabilersyad/miniconda3/envs/sql/lib/python3.9/site-packages/geopandas/geodataframe.py:1442: UserWarning: Geometry column does not contain geometry.\n",
      "  warnings.warn(\"Geometry column does not contain geometry.\")\n"
     ]
    },
    {
     "name": "stdout",
     "output_type": "stream",
     "text": [
      "updated 12\n",
      "generating isochrones\n"
     ]
    },
    {
     "name": "stderr",
     "output_type": "stream",
     "text": [
      "/var/folders/2s/3b55fy1174l4bfchw66wdl800000gn/T/ipykernel_76809/2605401413.py:47: UserWarning: Geometry is in a geographic CRS. Results from 'area' are likely incorrect. Use 'GeoSeries.to_crs()' to re-project geometries to a projected CRS before this operation.\n",
      "\n",
      "  gdf['area'] = gdf['geometry'].area\n",
      "/Users/nabilersyad/miniconda3/envs/sql/lib/python3.9/site-packages/geopandas/geodataframe.py:1442: UserWarning: Geometry column does not contain geometry.\n",
      "  warnings.warn(\"Geometry column does not contain geometry.\")\n"
     ]
    },
    {
     "name": "stdout",
     "output_type": "stream",
     "text": [
      "updated 13\n",
      "generating isochrones\n"
     ]
    },
    {
     "name": "stderr",
     "output_type": "stream",
     "text": [
      "/var/folders/2s/3b55fy1174l4bfchw66wdl800000gn/T/ipykernel_76809/2605401413.py:47: UserWarning: Geometry is in a geographic CRS. Results from 'area' are likely incorrect. Use 'GeoSeries.to_crs()' to re-project geometries to a projected CRS before this operation.\n",
      "\n",
      "  gdf['area'] = gdf['geometry'].area\n",
      "/Users/nabilersyad/miniconda3/envs/sql/lib/python3.9/site-packages/geopandas/geodataframe.py:1442: UserWarning: Geometry column does not contain geometry.\n",
      "  warnings.warn(\"Geometry column does not contain geometry.\")\n"
     ]
    },
    {
     "name": "stdout",
     "output_type": "stream",
     "text": [
      "updated 14\n",
      "generating isochrones\n"
     ]
    },
    {
     "name": "stderr",
     "output_type": "stream",
     "text": [
      "/var/folders/2s/3b55fy1174l4bfchw66wdl800000gn/T/ipykernel_76809/2605401413.py:47: UserWarning: Geometry is in a geographic CRS. Results from 'area' are likely incorrect. Use 'GeoSeries.to_crs()' to re-project geometries to a projected CRS before this operation.\n",
      "\n",
      "  gdf['area'] = gdf['geometry'].area\n",
      "/Users/nabilersyad/miniconda3/envs/sql/lib/python3.9/site-packages/geopandas/geodataframe.py:1442: UserWarning: Geometry column does not contain geometry.\n",
      "  warnings.warn(\"Geometry column does not contain geometry.\")\n"
     ]
    },
    {
     "name": "stdout",
     "output_type": "stream",
     "text": [
      "updated 15\n",
      "generating isochrones\n"
     ]
    },
    {
     "name": "stderr",
     "output_type": "stream",
     "text": [
      "/var/folders/2s/3b55fy1174l4bfchw66wdl800000gn/T/ipykernel_76809/2605401413.py:47: UserWarning: Geometry is in a geographic CRS. Results from 'area' are likely incorrect. Use 'GeoSeries.to_crs()' to re-project geometries to a projected CRS before this operation.\n",
      "\n",
      "  gdf['area'] = gdf['geometry'].area\n",
      "/Users/nabilersyad/miniconda3/envs/sql/lib/python3.9/site-packages/geopandas/geodataframe.py:1442: UserWarning: Geometry column does not contain geometry.\n",
      "  warnings.warn(\"Geometry column does not contain geometry.\")\n"
     ]
    },
    {
     "name": "stdout",
     "output_type": "stream",
     "text": [
      "updated 16\n",
      "generating isochrones\n"
     ]
    },
    {
     "name": "stderr",
     "output_type": "stream",
     "text": [
      "/var/folders/2s/3b55fy1174l4bfchw66wdl800000gn/T/ipykernel_76809/2605401413.py:47: UserWarning: Geometry is in a geographic CRS. Results from 'area' are likely incorrect. Use 'GeoSeries.to_crs()' to re-project geometries to a projected CRS before this operation.\n",
      "\n",
      "  gdf['area'] = gdf['geometry'].area\n",
      "/Users/nabilersyad/miniconda3/envs/sql/lib/python3.9/site-packages/geopandas/geodataframe.py:1442: UserWarning: Geometry column does not contain geometry.\n",
      "  warnings.warn(\"Geometry column does not contain geometry.\")\n"
     ]
    },
    {
     "name": "stdout",
     "output_type": "stream",
     "text": [
      "updated 17\n",
      "generating isochrones\n"
     ]
    },
    {
     "name": "stderr",
     "output_type": "stream",
     "text": [
      "/var/folders/2s/3b55fy1174l4bfchw66wdl800000gn/T/ipykernel_76809/2605401413.py:47: UserWarning: Geometry is in a geographic CRS. Results from 'area' are likely incorrect. Use 'GeoSeries.to_crs()' to re-project geometries to a projected CRS before this operation.\n",
      "\n",
      "  gdf['area'] = gdf['geometry'].area\n",
      "/Users/nabilersyad/miniconda3/envs/sql/lib/python3.9/site-packages/geopandas/geodataframe.py:1442: UserWarning: Geometry column does not contain geometry.\n",
      "  warnings.warn(\"Geometry column does not contain geometry.\")\n"
     ]
    },
    {
     "name": "stdout",
     "output_type": "stream",
     "text": [
      "updated 18\n",
      "generating isochrones\n"
     ]
    },
    {
     "name": "stderr",
     "output_type": "stream",
     "text": [
      "/var/folders/2s/3b55fy1174l4bfchw66wdl800000gn/T/ipykernel_76809/2605401413.py:47: UserWarning: Geometry is in a geographic CRS. Results from 'area' are likely incorrect. Use 'GeoSeries.to_crs()' to re-project geometries to a projected CRS before this operation.\n",
      "\n",
      "  gdf['area'] = gdf['geometry'].area\n",
      "/Users/nabilersyad/miniconda3/envs/sql/lib/python3.9/site-packages/geopandas/geodataframe.py:1442: UserWarning: Geometry column does not contain geometry.\n",
      "  warnings.warn(\"Geometry column does not contain geometry.\")\n"
     ]
    },
    {
     "name": "stdout",
     "output_type": "stream",
     "text": [
      "updated 19\n",
      "generating isochrones\n"
     ]
    },
    {
     "name": "stderr",
     "output_type": "stream",
     "text": [
      "/var/folders/2s/3b55fy1174l4bfchw66wdl800000gn/T/ipykernel_76809/2605401413.py:47: UserWarning: Geometry is in a geographic CRS. Results from 'area' are likely incorrect. Use 'GeoSeries.to_crs()' to re-project geometries to a projected CRS before this operation.\n",
      "\n",
      "  gdf['area'] = gdf['geometry'].area\n",
      "/Users/nabilersyad/miniconda3/envs/sql/lib/python3.9/site-packages/geopandas/geodataframe.py:1442: UserWarning: Geometry column does not contain geometry.\n",
      "  warnings.warn(\"Geometry column does not contain geometry.\")\n"
     ]
    },
    {
     "name": "stdout",
     "output_type": "stream",
     "text": [
      "updated 20\n",
      "generating isochrones\n"
     ]
    },
    {
     "name": "stderr",
     "output_type": "stream",
     "text": [
      "/Users/nabilersyad/miniconda3/envs/sql/lib/python3.9/site-packages/openrouteservice/client.py:211: UserWarning: Rate limit exceeded. Retrying for the 1st time.\n",
      "  warnings.warn('Rate limit exceeded. Retrying for the {0}{1} time.'.format(retry_counter + 1,\n",
      "/Users/nabilersyad/miniconda3/envs/sql/lib/python3.9/site-packages/openrouteservice/client.py:211: UserWarning: Rate limit exceeded. Retrying for the 2nd time.\n",
      "  warnings.warn('Rate limit exceeded. Retrying for the {0}{1} time.'.format(retry_counter + 1,\n",
      "/Users/nabilersyad/miniconda3/envs/sql/lib/python3.9/site-packages/openrouteservice/client.py:211: UserWarning: Rate limit exceeded. Retrying for the 3rd time.\n",
      "  warnings.warn('Rate limit exceeded. Retrying for the {0}{1} time.'.format(retry_counter + 1,\n",
      "/Users/nabilersyad/miniconda3/envs/sql/lib/python3.9/site-packages/openrouteservice/client.py:211: UserWarning: Rate limit exceeded. Retrying for the 4th time.\n",
      "  warnings.warn('Rate limit exceeded. Retrying for the {0}{1} time.'.format(retry_counter + 1,\n",
      "/Users/nabilersyad/miniconda3/envs/sql/lib/python3.9/site-packages/openrouteservice/client.py:211: UserWarning: Rate limit exceeded. Retrying for the 5th time.\n",
      "  warnings.warn('Rate limit exceeded. Retrying for the {0}{1} time.'.format(retry_counter + 1,\n",
      "/Users/nabilersyad/miniconda3/envs/sql/lib/python3.9/site-packages/openrouteservice/client.py:211: UserWarning: Rate limit exceeded. Retrying for the 6th time.\n",
      "  warnings.warn('Rate limit exceeded. Retrying for the {0}{1} time.'.format(retry_counter + 1,\n",
      "/Users/nabilersyad/miniconda3/envs/sql/lib/python3.9/site-packages/openrouteservice/client.py:211: UserWarning: Rate limit exceeded. Retrying for the 7th time.\n",
      "  warnings.warn('Rate limit exceeded. Retrying for the {0}{1} time.'.format(retry_counter + 1,\n",
      "/Users/nabilersyad/miniconda3/envs/sql/lib/python3.9/site-packages/openrouteservice/client.py:211: UserWarning: Rate limit exceeded. Retrying for the 8th time.\n",
      "  warnings.warn('Rate limit exceeded. Retrying for the {0}{1} time.'.format(retry_counter + 1,\n",
      "/Users/nabilersyad/miniconda3/envs/sql/lib/python3.9/site-packages/openrouteservice/client.py:211: UserWarning: Rate limit exceeded. Retrying for the 9th time.\n",
      "  warnings.warn('Rate limit exceeded. Retrying for the {0}{1} time.'.format(retry_counter + 1,\n",
      "/var/folders/2s/3b55fy1174l4bfchw66wdl800000gn/T/ipykernel_76809/2605401413.py:47: UserWarning: Geometry is in a geographic CRS. Results from 'area' are likely incorrect. Use 'GeoSeries.to_crs()' to re-project geometries to a projected CRS before this operation.\n",
      "\n",
      "  gdf['area'] = gdf['geometry'].area\n",
      "/Users/nabilersyad/miniconda3/envs/sql/lib/python3.9/site-packages/geopandas/geodataframe.py:1442: UserWarning: Geometry column does not contain geometry.\n",
      "  warnings.warn(\"Geometry column does not contain geometry.\")\n"
     ]
    },
    {
     "name": "stdout",
     "output_type": "stream",
     "text": [
      "updated 21\n",
      "generating isochrones\n"
     ]
    },
    {
     "name": "stderr",
     "output_type": "stream",
     "text": [
      "/var/folders/2s/3b55fy1174l4bfchw66wdl800000gn/T/ipykernel_76809/2605401413.py:47: UserWarning: Geometry is in a geographic CRS. Results from 'area' are likely incorrect. Use 'GeoSeries.to_crs()' to re-project geometries to a projected CRS before this operation.\n",
      "\n",
      "  gdf['area'] = gdf['geometry'].area\n",
      "/Users/nabilersyad/miniconda3/envs/sql/lib/python3.9/site-packages/geopandas/geodataframe.py:1442: UserWarning: Geometry column does not contain geometry.\n",
      "  warnings.warn(\"Geometry column does not contain geometry.\")\n"
     ]
    },
    {
     "name": "stdout",
     "output_type": "stream",
     "text": [
      "updated 22\n",
      "generating isochrones\n"
     ]
    },
    {
     "name": "stderr",
     "output_type": "stream",
     "text": [
      "/var/folders/2s/3b55fy1174l4bfchw66wdl800000gn/T/ipykernel_76809/2605401413.py:47: UserWarning: Geometry is in a geographic CRS. Results from 'area' are likely incorrect. Use 'GeoSeries.to_crs()' to re-project geometries to a projected CRS before this operation.\n",
      "\n",
      "  gdf['area'] = gdf['geometry'].area\n",
      "/Users/nabilersyad/miniconda3/envs/sql/lib/python3.9/site-packages/geopandas/geodataframe.py:1442: UserWarning: Geometry column does not contain geometry.\n",
      "  warnings.warn(\"Geometry column does not contain geometry.\")\n"
     ]
    },
    {
     "name": "stdout",
     "output_type": "stream",
     "text": [
      "updated 23\n",
      "generating isochrones\n"
     ]
    },
    {
     "name": "stderr",
     "output_type": "stream",
     "text": [
      "/var/folders/2s/3b55fy1174l4bfchw66wdl800000gn/T/ipykernel_76809/2605401413.py:47: UserWarning: Geometry is in a geographic CRS. Results from 'area' are likely incorrect. Use 'GeoSeries.to_crs()' to re-project geometries to a projected CRS before this operation.\n",
      "\n",
      "  gdf['area'] = gdf['geometry'].area\n",
      "/Users/nabilersyad/miniconda3/envs/sql/lib/python3.9/site-packages/geopandas/geodataframe.py:1442: UserWarning: Geometry column does not contain geometry.\n",
      "  warnings.warn(\"Geometry column does not contain geometry.\")\n"
     ]
    },
    {
     "name": "stdout",
     "output_type": "stream",
     "text": [
      "updated 24\n",
      "generating isochrones\n"
     ]
    },
    {
     "name": "stderr",
     "output_type": "stream",
     "text": [
      "/var/folders/2s/3b55fy1174l4bfchw66wdl800000gn/T/ipykernel_76809/2605401413.py:47: UserWarning: Geometry is in a geographic CRS. Results from 'area' are likely incorrect. Use 'GeoSeries.to_crs()' to re-project geometries to a projected CRS before this operation.\n",
      "\n",
      "  gdf['area'] = gdf['geometry'].area\n",
      "/Users/nabilersyad/miniconda3/envs/sql/lib/python3.9/site-packages/geopandas/geodataframe.py:1442: UserWarning: Geometry column does not contain geometry.\n",
      "  warnings.warn(\"Geometry column does not contain geometry.\")\n"
     ]
    },
    {
     "name": "stdout",
     "output_type": "stream",
     "text": [
      "updated 25\n",
      "generating isochrones\n"
     ]
    },
    {
     "name": "stderr",
     "output_type": "stream",
     "text": [
      "/var/folders/2s/3b55fy1174l4bfchw66wdl800000gn/T/ipykernel_76809/2605401413.py:47: UserWarning: Geometry is in a geographic CRS. Results from 'area' are likely incorrect. Use 'GeoSeries.to_crs()' to re-project geometries to a projected CRS before this operation.\n",
      "\n",
      "  gdf['area'] = gdf['geometry'].area\n",
      "/Users/nabilersyad/miniconda3/envs/sql/lib/python3.9/site-packages/geopandas/geodataframe.py:1442: UserWarning: Geometry column does not contain geometry.\n",
      "  warnings.warn(\"Geometry column does not contain geometry.\")\n"
     ]
    },
    {
     "name": "stdout",
     "output_type": "stream",
     "text": [
      "updated 26\n",
      "generating isochrones\n"
     ]
    },
    {
     "name": "stderr",
     "output_type": "stream",
     "text": [
      "/var/folders/2s/3b55fy1174l4bfchw66wdl800000gn/T/ipykernel_76809/2605401413.py:47: UserWarning: Geometry is in a geographic CRS. Results from 'area' are likely incorrect. Use 'GeoSeries.to_crs()' to re-project geometries to a projected CRS before this operation.\n",
      "\n",
      "  gdf['area'] = gdf['geometry'].area\n",
      "/Users/nabilersyad/miniconda3/envs/sql/lib/python3.9/site-packages/geopandas/geodataframe.py:1442: UserWarning: Geometry column does not contain geometry.\n",
      "  warnings.warn(\"Geometry column does not contain geometry.\")\n"
     ]
    },
    {
     "name": "stdout",
     "output_type": "stream",
     "text": [
      "updated 27\n",
      "generating isochrones\n"
     ]
    },
    {
     "name": "stderr",
     "output_type": "stream",
     "text": [
      "/var/folders/2s/3b55fy1174l4bfchw66wdl800000gn/T/ipykernel_76809/2605401413.py:47: UserWarning: Geometry is in a geographic CRS. Results from 'area' are likely incorrect. Use 'GeoSeries.to_crs()' to re-project geometries to a projected CRS before this operation.\n",
      "\n",
      "  gdf['area'] = gdf['geometry'].area\n",
      "/Users/nabilersyad/miniconda3/envs/sql/lib/python3.9/site-packages/geopandas/geodataframe.py:1442: UserWarning: Geometry column does not contain geometry.\n",
      "  warnings.warn(\"Geometry column does not contain geometry.\")\n"
     ]
    },
    {
     "name": "stdout",
     "output_type": "stream",
     "text": [
      "updated 28\n",
      "generating isochrones\n"
     ]
    },
    {
     "name": "stderr",
     "output_type": "stream",
     "text": [
      "/var/folders/2s/3b55fy1174l4bfchw66wdl800000gn/T/ipykernel_76809/2605401413.py:47: UserWarning: Geometry is in a geographic CRS. Results from 'area' are likely incorrect. Use 'GeoSeries.to_crs()' to re-project geometries to a projected CRS before this operation.\n",
      "\n",
      "  gdf['area'] = gdf['geometry'].area\n",
      "/Users/nabilersyad/miniconda3/envs/sql/lib/python3.9/site-packages/geopandas/geodataframe.py:1442: UserWarning: Geometry column does not contain geometry.\n",
      "  warnings.warn(\"Geometry column does not contain geometry.\")\n"
     ]
    },
    {
     "name": "stdout",
     "output_type": "stream",
     "text": [
      "updated 29\n",
      "generating isochrones\n"
     ]
    },
    {
     "name": "stderr",
     "output_type": "stream",
     "text": [
      "/var/folders/2s/3b55fy1174l4bfchw66wdl800000gn/T/ipykernel_76809/2605401413.py:47: UserWarning: Geometry is in a geographic CRS. Results from 'area' are likely incorrect. Use 'GeoSeries.to_crs()' to re-project geometries to a projected CRS before this operation.\n",
      "\n",
      "  gdf['area'] = gdf['geometry'].area\n",
      "/Users/nabilersyad/miniconda3/envs/sql/lib/python3.9/site-packages/geopandas/geodataframe.py:1442: UserWarning: Geometry column does not contain geometry.\n",
      "  warnings.warn(\"Geometry column does not contain geometry.\")\n"
     ]
    },
    {
     "name": "stdout",
     "output_type": "stream",
     "text": [
      "updated 30\n",
      "generating isochrones\n"
     ]
    },
    {
     "name": "stderr",
     "output_type": "stream",
     "text": [
      "/var/folders/2s/3b55fy1174l4bfchw66wdl800000gn/T/ipykernel_76809/2605401413.py:47: UserWarning: Geometry is in a geographic CRS. Results from 'area' are likely incorrect. Use 'GeoSeries.to_crs()' to re-project geometries to a projected CRS before this operation.\n",
      "\n",
      "  gdf['area'] = gdf['geometry'].area\n",
      "/Users/nabilersyad/miniconda3/envs/sql/lib/python3.9/site-packages/geopandas/geodataframe.py:1442: UserWarning: Geometry column does not contain geometry.\n",
      "  warnings.warn(\"Geometry column does not contain geometry.\")\n"
     ]
    },
    {
     "name": "stdout",
     "output_type": "stream",
     "text": [
      "updated 31\n",
      "generating isochrones\n"
     ]
    },
    {
     "name": "stderr",
     "output_type": "stream",
     "text": [
      "/var/folders/2s/3b55fy1174l4bfchw66wdl800000gn/T/ipykernel_76809/2605401413.py:47: UserWarning: Geometry is in a geographic CRS. Results from 'area' are likely incorrect. Use 'GeoSeries.to_crs()' to re-project geometries to a projected CRS before this operation.\n",
      "\n",
      "  gdf['area'] = gdf['geometry'].area\n",
      "/Users/nabilersyad/miniconda3/envs/sql/lib/python3.9/site-packages/geopandas/geodataframe.py:1442: UserWarning: Geometry column does not contain geometry.\n",
      "  warnings.warn(\"Geometry column does not contain geometry.\")\n"
     ]
    },
    {
     "name": "stdout",
     "output_type": "stream",
     "text": [
      "updated 32\n",
      "generating isochrones\n"
     ]
    },
    {
     "name": "stderr",
     "output_type": "stream",
     "text": [
      "/var/folders/2s/3b55fy1174l4bfchw66wdl800000gn/T/ipykernel_76809/2605401413.py:47: UserWarning: Geometry is in a geographic CRS. Results from 'area' are likely incorrect. Use 'GeoSeries.to_crs()' to re-project geometries to a projected CRS before this operation.\n",
      "\n",
      "  gdf['area'] = gdf['geometry'].area\n",
      "/Users/nabilersyad/miniconda3/envs/sql/lib/python3.9/site-packages/geopandas/geodataframe.py:1442: UserWarning: Geometry column does not contain geometry.\n",
      "  warnings.warn(\"Geometry column does not contain geometry.\")\n"
     ]
    },
    {
     "name": "stdout",
     "output_type": "stream",
     "text": [
      "updated 33\n",
      "generating isochrones\n"
     ]
    },
    {
     "name": "stderr",
     "output_type": "stream",
     "text": [
      "/var/folders/2s/3b55fy1174l4bfchw66wdl800000gn/T/ipykernel_76809/2605401413.py:47: UserWarning: Geometry is in a geographic CRS. Results from 'area' are likely incorrect. Use 'GeoSeries.to_crs()' to re-project geometries to a projected CRS before this operation.\n",
      "\n",
      "  gdf['area'] = gdf['geometry'].area\n",
      "/Users/nabilersyad/miniconda3/envs/sql/lib/python3.9/site-packages/geopandas/geodataframe.py:1442: UserWarning: Geometry column does not contain geometry.\n",
      "  warnings.warn(\"Geometry column does not contain geometry.\")\n"
     ]
    },
    {
     "name": "stdout",
     "output_type": "stream",
     "text": [
      "updated 34\n",
      "generating isochrones\n"
     ]
    },
    {
     "name": "stderr",
     "output_type": "stream",
     "text": [
      "/var/folders/2s/3b55fy1174l4bfchw66wdl800000gn/T/ipykernel_76809/2605401413.py:47: UserWarning: Geometry is in a geographic CRS. Results from 'area' are likely incorrect. Use 'GeoSeries.to_crs()' to re-project geometries to a projected CRS before this operation.\n",
      "\n",
      "  gdf['area'] = gdf['geometry'].area\n",
      "/Users/nabilersyad/miniconda3/envs/sql/lib/python3.9/site-packages/geopandas/geodataframe.py:1442: UserWarning: Geometry column does not contain geometry.\n",
      "  warnings.warn(\"Geometry column does not contain geometry.\")\n"
     ]
    },
    {
     "name": "stdout",
     "output_type": "stream",
     "text": [
      "updated 35\n",
      "generating isochrones\n"
     ]
    },
    {
     "name": "stderr",
     "output_type": "stream",
     "text": [
      "/var/folders/2s/3b55fy1174l4bfchw66wdl800000gn/T/ipykernel_76809/2605401413.py:47: UserWarning: Geometry is in a geographic CRS. Results from 'area' are likely incorrect. Use 'GeoSeries.to_crs()' to re-project geometries to a projected CRS before this operation.\n",
      "\n",
      "  gdf['area'] = gdf['geometry'].area\n",
      "/Users/nabilersyad/miniconda3/envs/sql/lib/python3.9/site-packages/geopandas/geodataframe.py:1442: UserWarning: Geometry column does not contain geometry.\n",
      "  warnings.warn(\"Geometry column does not contain geometry.\")\n"
     ]
    },
    {
     "name": "stdout",
     "output_type": "stream",
     "text": [
      "updated 36\n",
      "generating isochrones\n"
     ]
    },
    {
     "name": "stderr",
     "output_type": "stream",
     "text": [
      "/Users/nabilersyad/miniconda3/envs/sql/lib/python3.9/site-packages/openrouteservice/client.py:211: UserWarning: Rate limit exceeded. Retrying for the 1st time.\n",
      "  warnings.warn('Rate limit exceeded. Retrying for the {0}{1} time.'.format(retry_counter + 1,\n",
      "/Users/nabilersyad/miniconda3/envs/sql/lib/python3.9/site-packages/openrouteservice/client.py:211: UserWarning: Rate limit exceeded. Retrying for the 2nd time.\n",
      "  warnings.warn('Rate limit exceeded. Retrying for the {0}{1} time.'.format(retry_counter + 1,\n",
      "/Users/nabilersyad/miniconda3/envs/sql/lib/python3.9/site-packages/openrouteservice/client.py:211: UserWarning: Rate limit exceeded. Retrying for the 3rd time.\n",
      "  warnings.warn('Rate limit exceeded. Retrying for the {0}{1} time.'.format(retry_counter + 1,\n",
      "/Users/nabilersyad/miniconda3/envs/sql/lib/python3.9/site-packages/openrouteservice/client.py:211: UserWarning: Rate limit exceeded. Retrying for the 4th time.\n",
      "  warnings.warn('Rate limit exceeded. Retrying for the {0}{1} time.'.format(retry_counter + 1,\n",
      "/Users/nabilersyad/miniconda3/envs/sql/lib/python3.9/site-packages/openrouteservice/client.py:211: UserWarning: Rate limit exceeded. Retrying for the 5th time.\n",
      "  warnings.warn('Rate limit exceeded. Retrying for the {0}{1} time.'.format(retry_counter + 1,\n",
      "/Users/nabilersyad/miniconda3/envs/sql/lib/python3.9/site-packages/openrouteservice/client.py:211: UserWarning: Rate limit exceeded. Retrying for the 6th time.\n",
      "  warnings.warn('Rate limit exceeded. Retrying for the {0}{1} time.'.format(retry_counter + 1,\n",
      "/Users/nabilersyad/miniconda3/envs/sql/lib/python3.9/site-packages/openrouteservice/client.py:211: UserWarning: Rate limit exceeded. Retrying for the 7th time.\n",
      "  warnings.warn('Rate limit exceeded. Retrying for the {0}{1} time.'.format(retry_counter + 1,\n",
      "/Users/nabilersyad/miniconda3/envs/sql/lib/python3.9/site-packages/openrouteservice/client.py:211: UserWarning: Rate limit exceeded. Retrying for the 8th time.\n",
      "  warnings.warn('Rate limit exceeded. Retrying for the {0}{1} time.'.format(retry_counter + 1,\n",
      "/Users/nabilersyad/miniconda3/envs/sql/lib/python3.9/site-packages/openrouteservice/client.py:211: UserWarning: Rate limit exceeded. Retrying for the 9th time.\n",
      "  warnings.warn('Rate limit exceeded. Retrying for the {0}{1} time.'.format(retry_counter + 1,\n",
      "/var/folders/2s/3b55fy1174l4bfchw66wdl800000gn/T/ipykernel_76809/2605401413.py:47: UserWarning: Geometry is in a geographic CRS. Results from 'area' are likely incorrect. Use 'GeoSeries.to_crs()' to re-project geometries to a projected CRS before this operation.\n",
      "\n",
      "  gdf['area'] = gdf['geometry'].area\n",
      "/Users/nabilersyad/miniconda3/envs/sql/lib/python3.9/site-packages/geopandas/geodataframe.py:1442: UserWarning: Geometry column does not contain geometry.\n",
      "  warnings.warn(\"Geometry column does not contain geometry.\")\n"
     ]
    },
    {
     "name": "stdout",
     "output_type": "stream",
     "text": [
      "updated 37\n",
      "generating isochrones\n"
     ]
    },
    {
     "name": "stderr",
     "output_type": "stream",
     "text": [
      "/var/folders/2s/3b55fy1174l4bfchw66wdl800000gn/T/ipykernel_76809/2605401413.py:47: UserWarning: Geometry is in a geographic CRS. Results from 'area' are likely incorrect. Use 'GeoSeries.to_crs()' to re-project geometries to a projected CRS before this operation.\n",
      "\n",
      "  gdf['area'] = gdf['geometry'].area\n",
      "/Users/nabilersyad/miniconda3/envs/sql/lib/python3.9/site-packages/geopandas/geodataframe.py:1442: UserWarning: Geometry column does not contain geometry.\n",
      "  warnings.warn(\"Geometry column does not contain geometry.\")\n"
     ]
    },
    {
     "name": "stdout",
     "output_type": "stream",
     "text": [
      "updated 38\n",
      "generating isochrones\n"
     ]
    },
    {
     "name": "stderr",
     "output_type": "stream",
     "text": [
      "/var/folders/2s/3b55fy1174l4bfchw66wdl800000gn/T/ipykernel_76809/2605401413.py:47: UserWarning: Geometry is in a geographic CRS. Results from 'area' are likely incorrect. Use 'GeoSeries.to_crs()' to re-project geometries to a projected CRS before this operation.\n",
      "\n",
      "  gdf['area'] = gdf['geometry'].area\n",
      "/Users/nabilersyad/miniconda3/envs/sql/lib/python3.9/site-packages/geopandas/geodataframe.py:1442: UserWarning: Geometry column does not contain geometry.\n",
      "  warnings.warn(\"Geometry column does not contain geometry.\")\n"
     ]
    },
    {
     "name": "stdout",
     "output_type": "stream",
     "text": [
      "updated 39\n",
      "generating isochrones\n"
     ]
    },
    {
     "name": "stderr",
     "output_type": "stream",
     "text": [
      "/var/folders/2s/3b55fy1174l4bfchw66wdl800000gn/T/ipykernel_76809/2605401413.py:47: UserWarning: Geometry is in a geographic CRS. Results from 'area' are likely incorrect. Use 'GeoSeries.to_crs()' to re-project geometries to a projected CRS before this operation.\n",
      "\n",
      "  gdf['area'] = gdf['geometry'].area\n",
      "/Users/nabilersyad/miniconda3/envs/sql/lib/python3.9/site-packages/geopandas/geodataframe.py:1442: UserWarning: Geometry column does not contain geometry.\n",
      "  warnings.warn(\"Geometry column does not contain geometry.\")\n"
     ]
    },
    {
     "name": "stdout",
     "output_type": "stream",
     "text": [
      "updated 40\n",
      "generating isochrones\n"
     ]
    },
    {
     "name": "stderr",
     "output_type": "stream",
     "text": [
      "/var/folders/2s/3b55fy1174l4bfchw66wdl800000gn/T/ipykernel_76809/2605401413.py:47: UserWarning: Geometry is in a geographic CRS. Results from 'area' are likely incorrect. Use 'GeoSeries.to_crs()' to re-project geometries to a projected CRS before this operation.\n",
      "\n",
      "  gdf['area'] = gdf['geometry'].area\n",
      "/Users/nabilersyad/miniconda3/envs/sql/lib/python3.9/site-packages/geopandas/geodataframe.py:1442: UserWarning: Geometry column does not contain geometry.\n",
      "  warnings.warn(\"Geometry column does not contain geometry.\")\n"
     ]
    },
    {
     "name": "stdout",
     "output_type": "stream",
     "text": [
      "updated 41\n",
      "generating isochrones\n"
     ]
    },
    {
     "name": "stderr",
     "output_type": "stream",
     "text": [
      "/var/folders/2s/3b55fy1174l4bfchw66wdl800000gn/T/ipykernel_76809/2605401413.py:47: UserWarning: Geometry is in a geographic CRS. Results from 'area' are likely incorrect. Use 'GeoSeries.to_crs()' to re-project geometries to a projected CRS before this operation.\n",
      "\n",
      "  gdf['area'] = gdf['geometry'].area\n",
      "/Users/nabilersyad/miniconda3/envs/sql/lib/python3.9/site-packages/geopandas/geodataframe.py:1442: UserWarning: Geometry column does not contain geometry.\n",
      "  warnings.warn(\"Geometry column does not contain geometry.\")\n"
     ]
    },
    {
     "name": "stdout",
     "output_type": "stream",
     "text": [
      "updated 42\n",
      "generating isochrones\n"
     ]
    },
    {
     "name": "stderr",
     "output_type": "stream",
     "text": [
      "/var/folders/2s/3b55fy1174l4bfchw66wdl800000gn/T/ipykernel_76809/2605401413.py:47: UserWarning: Geometry is in a geographic CRS. Results from 'area' are likely incorrect. Use 'GeoSeries.to_crs()' to re-project geometries to a projected CRS before this operation.\n",
      "\n",
      "  gdf['area'] = gdf['geometry'].area\n",
      "/Users/nabilersyad/miniconda3/envs/sql/lib/python3.9/site-packages/geopandas/geodataframe.py:1442: UserWarning: Geometry column does not contain geometry.\n",
      "  warnings.warn(\"Geometry column does not contain geometry.\")\n"
     ]
    },
    {
     "name": "stdout",
     "output_type": "stream",
     "text": [
      "updated 43\n",
      "generating isochrones\n"
     ]
    },
    {
     "name": "stderr",
     "output_type": "stream",
     "text": [
      "/var/folders/2s/3b55fy1174l4bfchw66wdl800000gn/T/ipykernel_76809/2605401413.py:47: UserWarning: Geometry is in a geographic CRS. Results from 'area' are likely incorrect. Use 'GeoSeries.to_crs()' to re-project geometries to a projected CRS before this operation.\n",
      "\n",
      "  gdf['area'] = gdf['geometry'].area\n",
      "/Users/nabilersyad/miniconda3/envs/sql/lib/python3.9/site-packages/geopandas/geodataframe.py:1442: UserWarning: Geometry column does not contain geometry.\n",
      "  warnings.warn(\"Geometry column does not contain geometry.\")\n"
     ]
    },
    {
     "name": "stdout",
     "output_type": "stream",
     "text": [
      "updated 44\n",
      "generating isochrones\n"
     ]
    },
    {
     "name": "stderr",
     "output_type": "stream",
     "text": [
      "/var/folders/2s/3b55fy1174l4bfchw66wdl800000gn/T/ipykernel_76809/2605401413.py:47: UserWarning: Geometry is in a geographic CRS. Results from 'area' are likely incorrect. Use 'GeoSeries.to_crs()' to re-project geometries to a projected CRS before this operation.\n",
      "\n",
      "  gdf['area'] = gdf['geometry'].area\n",
      "/Users/nabilersyad/miniconda3/envs/sql/lib/python3.9/site-packages/geopandas/geodataframe.py:1442: UserWarning: Geometry column does not contain geometry.\n",
      "  warnings.warn(\"Geometry column does not contain geometry.\")\n"
     ]
    },
    {
     "name": "stdout",
     "output_type": "stream",
     "text": [
      "updated 45\n",
      "generating isochrones\n"
     ]
    },
    {
     "name": "stderr",
     "output_type": "stream",
     "text": [
      "/var/folders/2s/3b55fy1174l4bfchw66wdl800000gn/T/ipykernel_76809/2605401413.py:47: UserWarning: Geometry is in a geographic CRS. Results from 'area' are likely incorrect. Use 'GeoSeries.to_crs()' to re-project geometries to a projected CRS before this operation.\n",
      "\n",
      "  gdf['area'] = gdf['geometry'].area\n",
      "/Users/nabilersyad/miniconda3/envs/sql/lib/python3.9/site-packages/geopandas/geodataframe.py:1442: UserWarning: Geometry column does not contain geometry.\n",
      "  warnings.warn(\"Geometry column does not contain geometry.\")\n"
     ]
    },
    {
     "name": "stdout",
     "output_type": "stream",
     "text": [
      "updated 46\n",
      "generating isochrones\n"
     ]
    },
    {
     "name": "stderr",
     "output_type": "stream",
     "text": [
      "/var/folders/2s/3b55fy1174l4bfchw66wdl800000gn/T/ipykernel_76809/2605401413.py:47: UserWarning: Geometry is in a geographic CRS. Results from 'area' are likely incorrect. Use 'GeoSeries.to_crs()' to re-project geometries to a projected CRS before this operation.\n",
      "\n",
      "  gdf['area'] = gdf['geometry'].area\n",
      "/Users/nabilersyad/miniconda3/envs/sql/lib/python3.9/site-packages/geopandas/geodataframe.py:1442: UserWarning: Geometry column does not contain geometry.\n",
      "  warnings.warn(\"Geometry column does not contain geometry.\")\n"
     ]
    },
    {
     "name": "stdout",
     "output_type": "stream",
     "text": [
      "updated 47\n",
      "generating isochrones\n"
     ]
    },
    {
     "name": "stderr",
     "output_type": "stream",
     "text": [
      "/var/folders/2s/3b55fy1174l4bfchw66wdl800000gn/T/ipykernel_76809/2605401413.py:47: UserWarning: Geometry is in a geographic CRS. Results from 'area' are likely incorrect. Use 'GeoSeries.to_crs()' to re-project geometries to a projected CRS before this operation.\n",
      "\n",
      "  gdf['area'] = gdf['geometry'].area\n",
      "/Users/nabilersyad/miniconda3/envs/sql/lib/python3.9/site-packages/geopandas/geodataframe.py:1442: UserWarning: Geometry column does not contain geometry.\n",
      "  warnings.warn(\"Geometry column does not contain geometry.\")\n"
     ]
    },
    {
     "name": "stdout",
     "output_type": "stream",
     "text": [
      "updated 48\n",
      "generating isochrones\n"
     ]
    },
    {
     "name": "stderr",
     "output_type": "stream",
     "text": [
      "/var/folders/2s/3b55fy1174l4bfchw66wdl800000gn/T/ipykernel_76809/2605401413.py:47: UserWarning: Geometry is in a geographic CRS. Results from 'area' are likely incorrect. Use 'GeoSeries.to_crs()' to re-project geometries to a projected CRS before this operation.\n",
      "\n",
      "  gdf['area'] = gdf['geometry'].area\n",
      "/Users/nabilersyad/miniconda3/envs/sql/lib/python3.9/site-packages/geopandas/geodataframe.py:1442: UserWarning: Geometry column does not contain geometry.\n",
      "  warnings.warn(\"Geometry column does not contain geometry.\")\n"
     ]
    },
    {
     "name": "stdout",
     "output_type": "stream",
     "text": [
      "updated 49\n",
      "generating isochrones\n"
     ]
    },
    {
     "name": "stderr",
     "output_type": "stream",
     "text": [
      "/var/folders/2s/3b55fy1174l4bfchw66wdl800000gn/T/ipykernel_76809/2605401413.py:47: UserWarning: Geometry is in a geographic CRS. Results from 'area' are likely incorrect. Use 'GeoSeries.to_crs()' to re-project geometries to a projected CRS before this operation.\n",
      "\n",
      "  gdf['area'] = gdf['geometry'].area\n",
      "/Users/nabilersyad/miniconda3/envs/sql/lib/python3.9/site-packages/geopandas/geodataframe.py:1442: UserWarning: Geometry column does not contain geometry.\n",
      "  warnings.warn(\"Geometry column does not contain geometry.\")\n"
     ]
    },
    {
     "name": "stdout",
     "output_type": "stream",
     "text": [
      "updated 50\n",
      "generating isochrones\n"
     ]
    },
    {
     "name": "stderr",
     "output_type": "stream",
     "text": [
      "/var/folders/2s/3b55fy1174l4bfchw66wdl800000gn/T/ipykernel_76809/2605401413.py:47: UserWarning: Geometry is in a geographic CRS. Results from 'area' are likely incorrect. Use 'GeoSeries.to_crs()' to re-project geometries to a projected CRS before this operation.\n",
      "\n",
      "  gdf['area'] = gdf['geometry'].area\n",
      "/Users/nabilersyad/miniconda3/envs/sql/lib/python3.9/site-packages/geopandas/geodataframe.py:1442: UserWarning: Geometry column does not contain geometry.\n",
      "  warnings.warn(\"Geometry column does not contain geometry.\")\n"
     ]
    },
    {
     "name": "stdout",
     "output_type": "stream",
     "text": [
      "updated 51\n",
      "generating isochrones\n"
     ]
    },
    {
     "name": "stderr",
     "output_type": "stream",
     "text": [
      "/var/folders/2s/3b55fy1174l4bfchw66wdl800000gn/T/ipykernel_76809/2605401413.py:47: UserWarning: Geometry is in a geographic CRS. Results from 'area' are likely incorrect. Use 'GeoSeries.to_crs()' to re-project geometries to a projected CRS before this operation.\n",
      "\n",
      "  gdf['area'] = gdf['geometry'].area\n",
      "/Users/nabilersyad/miniconda3/envs/sql/lib/python3.9/site-packages/geopandas/geodataframe.py:1442: UserWarning: Geometry column does not contain geometry.\n",
      "  warnings.warn(\"Geometry column does not contain geometry.\")\n"
     ]
    },
    {
     "name": "stdout",
     "output_type": "stream",
     "text": [
      "updated 52\n",
      "generating isochrones\n"
     ]
    },
    {
     "name": "stderr",
     "output_type": "stream",
     "text": [
      "/var/folders/2s/3b55fy1174l4bfchw66wdl800000gn/T/ipykernel_76809/2605401413.py:47: UserWarning: Geometry is in a geographic CRS. Results from 'area' are likely incorrect. Use 'GeoSeries.to_crs()' to re-project geometries to a projected CRS before this operation.\n",
      "\n",
      "  gdf['area'] = gdf['geometry'].area\n",
      "/Users/nabilersyad/miniconda3/envs/sql/lib/python3.9/site-packages/geopandas/geodataframe.py:1442: UserWarning: Geometry column does not contain geometry.\n",
      "  warnings.warn(\"Geometry column does not contain geometry.\")\n"
     ]
    },
    {
     "name": "stdout",
     "output_type": "stream",
     "text": [
      "updated 53\n",
      "generating isochrones\n"
     ]
    },
    {
     "name": "stderr",
     "output_type": "stream",
     "text": [
      "/var/folders/2s/3b55fy1174l4bfchw66wdl800000gn/T/ipykernel_76809/2605401413.py:47: UserWarning: Geometry is in a geographic CRS. Results from 'area' are likely incorrect. Use 'GeoSeries.to_crs()' to re-project geometries to a projected CRS before this operation.\n",
      "\n",
      "  gdf['area'] = gdf['geometry'].area\n",
      "/Users/nabilersyad/miniconda3/envs/sql/lib/python3.9/site-packages/geopandas/geodataframe.py:1442: UserWarning: Geometry column does not contain geometry.\n",
      "  warnings.warn(\"Geometry column does not contain geometry.\")\n"
     ]
    },
    {
     "name": "stdout",
     "output_type": "stream",
     "text": [
      "updated 54\n",
      "generating isochrones\n"
     ]
    },
    {
     "name": "stderr",
     "output_type": "stream",
     "text": [
      "/Users/nabilersyad/miniconda3/envs/sql/lib/python3.9/site-packages/openrouteservice/client.py:211: UserWarning: Rate limit exceeded. Retrying for the 1st time.\n",
      "  warnings.warn('Rate limit exceeded. Retrying for the {0}{1} time.'.format(retry_counter + 1,\n",
      "/Users/nabilersyad/miniconda3/envs/sql/lib/python3.9/site-packages/openrouteservice/client.py:211: UserWarning: Rate limit exceeded. Retrying for the 2nd time.\n",
      "  warnings.warn('Rate limit exceeded. Retrying for the {0}{1} time.'.format(retry_counter + 1,\n",
      "/Users/nabilersyad/miniconda3/envs/sql/lib/python3.9/site-packages/openrouteservice/client.py:211: UserWarning: Rate limit exceeded. Retrying for the 3rd time.\n",
      "  warnings.warn('Rate limit exceeded. Retrying for the {0}{1} time.'.format(retry_counter + 1,\n",
      "/Users/nabilersyad/miniconda3/envs/sql/lib/python3.9/site-packages/openrouteservice/client.py:211: UserWarning: Rate limit exceeded. Retrying for the 4th time.\n",
      "  warnings.warn('Rate limit exceeded. Retrying for the {0}{1} time.'.format(retry_counter + 1,\n",
      "/Users/nabilersyad/miniconda3/envs/sql/lib/python3.9/site-packages/openrouteservice/client.py:211: UserWarning: Rate limit exceeded. Retrying for the 5th time.\n",
      "  warnings.warn('Rate limit exceeded. Retrying for the {0}{1} time.'.format(retry_counter + 1,\n",
      "/Users/nabilersyad/miniconda3/envs/sql/lib/python3.9/site-packages/openrouteservice/client.py:211: UserWarning: Rate limit exceeded. Retrying for the 6th time.\n",
      "  warnings.warn('Rate limit exceeded. Retrying for the {0}{1} time.'.format(retry_counter + 1,\n",
      "/Users/nabilersyad/miniconda3/envs/sql/lib/python3.9/site-packages/openrouteservice/client.py:211: UserWarning: Rate limit exceeded. Retrying for the 7th time.\n",
      "  warnings.warn('Rate limit exceeded. Retrying for the {0}{1} time.'.format(retry_counter + 1,\n",
      "/Users/nabilersyad/miniconda3/envs/sql/lib/python3.9/site-packages/openrouteservice/client.py:211: UserWarning: Rate limit exceeded. Retrying for the 8th time.\n",
      "  warnings.warn('Rate limit exceeded. Retrying for the {0}{1} time.'.format(retry_counter + 1,\n",
      "/Users/nabilersyad/miniconda3/envs/sql/lib/python3.9/site-packages/openrouteservice/client.py:211: UserWarning: Rate limit exceeded. Retrying for the 9th time.\n",
      "  warnings.warn('Rate limit exceeded. Retrying for the {0}{1} time.'.format(retry_counter + 1,\n",
      "/var/folders/2s/3b55fy1174l4bfchw66wdl800000gn/T/ipykernel_76809/2605401413.py:47: UserWarning: Geometry is in a geographic CRS. Results from 'area' are likely incorrect. Use 'GeoSeries.to_crs()' to re-project geometries to a projected CRS before this operation.\n",
      "\n",
      "  gdf['area'] = gdf['geometry'].area\n",
      "/Users/nabilersyad/miniconda3/envs/sql/lib/python3.9/site-packages/geopandas/geodataframe.py:1442: UserWarning: Geometry column does not contain geometry.\n",
      "  warnings.warn(\"Geometry column does not contain geometry.\")\n"
     ]
    },
    {
     "name": "stdout",
     "output_type": "stream",
     "text": [
      "updated 55\n",
      "generating isochrones\n"
     ]
    },
    {
     "name": "stderr",
     "output_type": "stream",
     "text": [
      "/var/folders/2s/3b55fy1174l4bfchw66wdl800000gn/T/ipykernel_76809/2605401413.py:47: UserWarning: Geometry is in a geographic CRS. Results from 'area' are likely incorrect. Use 'GeoSeries.to_crs()' to re-project geometries to a projected CRS before this operation.\n",
      "\n",
      "  gdf['area'] = gdf['geometry'].area\n",
      "/Users/nabilersyad/miniconda3/envs/sql/lib/python3.9/site-packages/geopandas/geodataframe.py:1442: UserWarning: Geometry column does not contain geometry.\n",
      "  warnings.warn(\"Geometry column does not contain geometry.\")\n"
     ]
    },
    {
     "name": "stdout",
     "output_type": "stream",
     "text": [
      "updated 56\n",
      "generating isochrones\n"
     ]
    },
    {
     "name": "stderr",
     "output_type": "stream",
     "text": [
      "/var/folders/2s/3b55fy1174l4bfchw66wdl800000gn/T/ipykernel_76809/2605401413.py:47: UserWarning: Geometry is in a geographic CRS. Results from 'area' are likely incorrect. Use 'GeoSeries.to_crs()' to re-project geometries to a projected CRS before this operation.\n",
      "\n",
      "  gdf['area'] = gdf['geometry'].area\n",
      "/Users/nabilersyad/miniconda3/envs/sql/lib/python3.9/site-packages/geopandas/geodataframe.py:1442: UserWarning: Geometry column does not contain geometry.\n",
      "  warnings.warn(\"Geometry column does not contain geometry.\")\n"
     ]
    },
    {
     "name": "stdout",
     "output_type": "stream",
     "text": [
      "updated 57\n",
      "generating isochrones\n"
     ]
    },
    {
     "name": "stderr",
     "output_type": "stream",
     "text": [
      "/var/folders/2s/3b55fy1174l4bfchw66wdl800000gn/T/ipykernel_76809/2605401413.py:47: UserWarning: Geometry is in a geographic CRS. Results from 'area' are likely incorrect. Use 'GeoSeries.to_crs()' to re-project geometries to a projected CRS before this operation.\n",
      "\n",
      "  gdf['area'] = gdf['geometry'].area\n",
      "/Users/nabilersyad/miniconda3/envs/sql/lib/python3.9/site-packages/geopandas/geodataframe.py:1442: UserWarning: Geometry column does not contain geometry.\n",
      "  warnings.warn(\"Geometry column does not contain geometry.\")\n"
     ]
    },
    {
     "name": "stdout",
     "output_type": "stream",
     "text": [
      "updated 58\n",
      "generating isochrones\n"
     ]
    },
    {
     "name": "stderr",
     "output_type": "stream",
     "text": [
      "/var/folders/2s/3b55fy1174l4bfchw66wdl800000gn/T/ipykernel_76809/2605401413.py:47: UserWarning: Geometry is in a geographic CRS. Results from 'area' are likely incorrect. Use 'GeoSeries.to_crs()' to re-project geometries to a projected CRS before this operation.\n",
      "\n",
      "  gdf['area'] = gdf['geometry'].area\n",
      "/Users/nabilersyad/miniconda3/envs/sql/lib/python3.9/site-packages/geopandas/geodataframe.py:1442: UserWarning: Geometry column does not contain geometry.\n",
      "  warnings.warn(\"Geometry column does not contain geometry.\")\n",
      "/var/folders/2s/3b55fy1174l4bfchw66wdl800000gn/T/ipykernel_76809/2605401413.py:80: UserWarning: Geometry is in a geographic CRS. Results from 'area' are likely incorrect. Use 'GeoSeries.to_crs()' to re-project geometries to a projected CRS before this operation.\n",
      "\n",
      "  combined_isochrones['area'] = combined_isochrones['geometry'].area\n",
      "/Users/nabilersyad/miniconda3/envs/sql/lib/python3.9/site-packages/geopandas/geodataframe.py:1442: UserWarning: Geometry column does not contain geometry.\n",
      "  warnings.warn(\"Geometry column does not contain geometry.\")\n",
      "/var/folders/2s/3b55fy1174l4bfchw66wdl800000gn/T/ipykernel_76809/2605401413.py:80: UserWarning: Geometry is in a geographic CRS. Results from 'area' are likely incorrect. Use 'GeoSeries.to_crs()' to re-project geometries to a projected CRS before this operation.\n",
      "\n",
      "  combined_isochrones['area'] = combined_isochrones['geometry'].area\n",
      "/Users/nabilersyad/miniconda3/envs/sql/lib/python3.9/site-packages/geopandas/geodataframe.py:1442: UserWarning: Geometry column does not contain geometry.\n",
      "  warnings.warn(\"Geometry column does not contain geometry.\")\n"
     ]
    },
    {
     "name": "stdout",
     "output_type": "stream",
     "text": [
      "updated 59\n",
      "combining isochrones\n",
      "updated 60\n",
      "combining isochrones\n",
      "updated 61\n",
      "generating isochrones\n"
     ]
    },
    {
     "name": "stderr",
     "output_type": "stream",
     "text": [
      "/var/folders/2s/3b55fy1174l4bfchw66wdl800000gn/T/ipykernel_76809/2605401413.py:47: UserWarning: Geometry is in a geographic CRS. Results from 'area' are likely incorrect. Use 'GeoSeries.to_crs()' to re-project geometries to a projected CRS before this operation.\n",
      "\n",
      "  gdf['area'] = gdf['geometry'].area\n",
      "/Users/nabilersyad/miniconda3/envs/sql/lib/python3.9/site-packages/geopandas/geodataframe.py:1442: UserWarning: Geometry column does not contain geometry.\n",
      "  warnings.warn(\"Geometry column does not contain geometry.\")\n"
     ]
    },
    {
     "name": "stdout",
     "output_type": "stream",
     "text": [
      "updated 62\n",
      "generating isochrones\n"
     ]
    },
    {
     "name": "stderr",
     "output_type": "stream",
     "text": [
      "/var/folders/2s/3b55fy1174l4bfchw66wdl800000gn/T/ipykernel_76809/2605401413.py:47: UserWarning: Geometry is in a geographic CRS. Results from 'area' are likely incorrect. Use 'GeoSeries.to_crs()' to re-project geometries to a projected CRS before this operation.\n",
      "\n",
      "  gdf['area'] = gdf['geometry'].area\n",
      "/Users/nabilersyad/miniconda3/envs/sql/lib/python3.9/site-packages/geopandas/geodataframe.py:1442: UserWarning: Geometry column does not contain geometry.\n",
      "  warnings.warn(\"Geometry column does not contain geometry.\")\n"
     ]
    },
    {
     "name": "stdout",
     "output_type": "stream",
     "text": [
      "updated 63\n",
      "generating isochrones\n"
     ]
    },
    {
     "name": "stderr",
     "output_type": "stream",
     "text": [
      "/var/folders/2s/3b55fy1174l4bfchw66wdl800000gn/T/ipykernel_76809/2605401413.py:47: UserWarning: Geometry is in a geographic CRS. Results from 'area' are likely incorrect. Use 'GeoSeries.to_crs()' to re-project geometries to a projected CRS before this operation.\n",
      "\n",
      "  gdf['area'] = gdf['geometry'].area\n",
      "/Users/nabilersyad/miniconda3/envs/sql/lib/python3.9/site-packages/geopandas/geodataframe.py:1442: UserWarning: Geometry column does not contain geometry.\n",
      "  warnings.warn(\"Geometry column does not contain geometry.\")\n"
     ]
    },
    {
     "name": "stdout",
     "output_type": "stream",
     "text": [
      "updated 64\n",
      "generating isochrones\n"
     ]
    },
    {
     "name": "stderr",
     "output_type": "stream",
     "text": [
      "/var/folders/2s/3b55fy1174l4bfchw66wdl800000gn/T/ipykernel_76809/2605401413.py:47: UserWarning: Geometry is in a geographic CRS. Results from 'area' are likely incorrect. Use 'GeoSeries.to_crs()' to re-project geometries to a projected CRS before this operation.\n",
      "\n",
      "  gdf['area'] = gdf['geometry'].area\n",
      "/Users/nabilersyad/miniconda3/envs/sql/lib/python3.9/site-packages/geopandas/geodataframe.py:1442: UserWarning: Geometry column does not contain geometry.\n",
      "  warnings.warn(\"Geometry column does not contain geometry.\")\n"
     ]
    },
    {
     "name": "stdout",
     "output_type": "stream",
     "text": [
      "updated 65\n",
      "generating isochrones\n"
     ]
    },
    {
     "name": "stderr",
     "output_type": "stream",
     "text": [
      "/var/folders/2s/3b55fy1174l4bfchw66wdl800000gn/T/ipykernel_76809/2605401413.py:47: UserWarning: Geometry is in a geographic CRS. Results from 'area' are likely incorrect. Use 'GeoSeries.to_crs()' to re-project geometries to a projected CRS before this operation.\n",
      "\n",
      "  gdf['area'] = gdf['geometry'].area\n",
      "/Users/nabilersyad/miniconda3/envs/sql/lib/python3.9/site-packages/geopandas/geodataframe.py:1442: UserWarning: Geometry column does not contain geometry.\n",
      "  warnings.warn(\"Geometry column does not contain geometry.\")\n",
      "/var/folders/2s/3b55fy1174l4bfchw66wdl800000gn/T/ipykernel_76809/2605401413.py:80: UserWarning: Geometry is in a geographic CRS. Results from 'area' are likely incorrect. Use 'GeoSeries.to_crs()' to re-project geometries to a projected CRS before this operation.\n",
      "\n",
      "  combined_isochrones['area'] = combined_isochrones['geometry'].area\n",
      "/Users/nabilersyad/miniconda3/envs/sql/lib/python3.9/site-packages/geopandas/geodataframe.py:1442: UserWarning: Geometry column does not contain geometry.\n",
      "  warnings.warn(\"Geometry column does not contain geometry.\")\n",
      "/var/folders/2s/3b55fy1174l4bfchw66wdl800000gn/T/ipykernel_76809/2605401413.py:80: UserWarning: Geometry is in a geographic CRS. Results from 'area' are likely incorrect. Use 'GeoSeries.to_crs()' to re-project geometries to a projected CRS before this operation.\n",
      "\n",
      "  combined_isochrones['area'] = combined_isochrones['geometry'].area\n",
      "/Users/nabilersyad/miniconda3/envs/sql/lib/python3.9/site-packages/geopandas/geodataframe.py:1442: UserWarning: Geometry column does not contain geometry.\n",
      "  warnings.warn(\"Geometry column does not contain geometry.\")\n"
     ]
    },
    {
     "name": "stdout",
     "output_type": "stream",
     "text": [
      "updated 66\n",
      "combining isochrones\n",
      "updated 67\n",
      "combining isochrones\n",
      "updated 68\n",
      "generating isochrones\n"
     ]
    },
    {
     "name": "stderr",
     "output_type": "stream",
     "text": [
      "/var/folders/2s/3b55fy1174l4bfchw66wdl800000gn/T/ipykernel_76809/2605401413.py:47: UserWarning: Geometry is in a geographic CRS. Results from 'area' are likely incorrect. Use 'GeoSeries.to_crs()' to re-project geometries to a projected CRS before this operation.\n",
      "\n",
      "  gdf['area'] = gdf['geometry'].area\n",
      "/Users/nabilersyad/miniconda3/envs/sql/lib/python3.9/site-packages/geopandas/geodataframe.py:1442: UserWarning: Geometry column does not contain geometry.\n",
      "  warnings.warn(\"Geometry column does not contain geometry.\")\n"
     ]
    },
    {
     "name": "stdout",
     "output_type": "stream",
     "text": [
      "updated 69\n",
      "generating isochrones\n"
     ]
    },
    {
     "name": "stderr",
     "output_type": "stream",
     "text": [
      "/var/folders/2s/3b55fy1174l4bfchw66wdl800000gn/T/ipykernel_76809/2605401413.py:47: UserWarning: Geometry is in a geographic CRS. Results from 'area' are likely incorrect. Use 'GeoSeries.to_crs()' to re-project geometries to a projected CRS before this operation.\n",
      "\n",
      "  gdf['area'] = gdf['geometry'].area\n",
      "/Users/nabilersyad/miniconda3/envs/sql/lib/python3.9/site-packages/geopandas/geodataframe.py:1442: UserWarning: Geometry column does not contain geometry.\n",
      "  warnings.warn(\"Geometry column does not contain geometry.\")\n",
      "/var/folders/2s/3b55fy1174l4bfchw66wdl800000gn/T/ipykernel_76809/2605401413.py:80: UserWarning: Geometry is in a geographic CRS. Results from 'area' are likely incorrect. Use 'GeoSeries.to_crs()' to re-project geometries to a projected CRS before this operation.\n",
      "\n",
      "  combined_isochrones['area'] = combined_isochrones['geometry'].area\n",
      "/Users/nabilersyad/miniconda3/envs/sql/lib/python3.9/site-packages/geopandas/geodataframe.py:1442: UserWarning: Geometry column does not contain geometry.\n",
      "  warnings.warn(\"Geometry column does not contain geometry.\")\n",
      "/var/folders/2s/3b55fy1174l4bfchw66wdl800000gn/T/ipykernel_76809/2605401413.py:80: UserWarning: Geometry is in a geographic CRS. Results from 'area' are likely incorrect. Use 'GeoSeries.to_crs()' to re-project geometries to a projected CRS before this operation.\n",
      "\n",
      "  combined_isochrones['area'] = combined_isochrones['geometry'].area\n",
      "/Users/nabilersyad/miniconda3/envs/sql/lib/python3.9/site-packages/geopandas/geodataframe.py:1442: UserWarning: Geometry column does not contain geometry.\n",
      "  warnings.warn(\"Geometry column does not contain geometry.\")\n"
     ]
    },
    {
     "name": "stdout",
     "output_type": "stream",
     "text": [
      "updated 70\n",
      "combining isochrones\n",
      "updated 71\n",
      "combining isochrones\n",
      "updated 72\n",
      "generating isochrones\n"
     ]
    },
    {
     "name": "stderr",
     "output_type": "stream",
     "text": [
      "/var/folders/2s/3b55fy1174l4bfchw66wdl800000gn/T/ipykernel_76809/2605401413.py:47: UserWarning: Geometry is in a geographic CRS. Results from 'area' are likely incorrect. Use 'GeoSeries.to_crs()' to re-project geometries to a projected CRS before this operation.\n",
      "\n",
      "  gdf['area'] = gdf['geometry'].area\n",
      "/Users/nabilersyad/miniconda3/envs/sql/lib/python3.9/site-packages/geopandas/geodataframe.py:1442: UserWarning: Geometry column does not contain geometry.\n",
      "  warnings.warn(\"Geometry column does not contain geometry.\")\n"
     ]
    },
    {
     "name": "stdout",
     "output_type": "stream",
     "text": [
      "updated 73\n",
      "generating isochrones\n"
     ]
    },
    {
     "name": "stderr",
     "output_type": "stream",
     "text": [
      "/var/folders/2s/3b55fy1174l4bfchw66wdl800000gn/T/ipykernel_76809/2605401413.py:47: UserWarning: Geometry is in a geographic CRS. Results from 'area' are likely incorrect. Use 'GeoSeries.to_crs()' to re-project geometries to a projected CRS before this operation.\n",
      "\n",
      "  gdf['area'] = gdf['geometry'].area\n",
      "/Users/nabilersyad/miniconda3/envs/sql/lib/python3.9/site-packages/geopandas/geodataframe.py:1442: UserWarning: Geometry column does not contain geometry.\n",
      "  warnings.warn(\"Geometry column does not contain geometry.\")\n",
      "/var/folders/2s/3b55fy1174l4bfchw66wdl800000gn/T/ipykernel_76809/2605401413.py:80: UserWarning: Geometry is in a geographic CRS. Results from 'area' are likely incorrect. Use 'GeoSeries.to_crs()' to re-project geometries to a projected CRS before this operation.\n",
      "\n",
      "  combined_isochrones['area'] = combined_isochrones['geometry'].area\n",
      "/Users/nabilersyad/miniconda3/envs/sql/lib/python3.9/site-packages/geopandas/geodataframe.py:1442: UserWarning: Geometry column does not contain geometry.\n",
      "  warnings.warn(\"Geometry column does not contain geometry.\")\n"
     ]
    },
    {
     "name": "stdout",
     "output_type": "stream",
     "text": [
      "updated 74\n",
      "combining isochrones\n",
      "updated 75\n",
      "generating isochrones\n"
     ]
    },
    {
     "name": "stderr",
     "output_type": "stream",
     "text": [
      "/var/folders/2s/3b55fy1174l4bfchw66wdl800000gn/T/ipykernel_76809/2605401413.py:47: UserWarning: Geometry is in a geographic CRS. Results from 'area' are likely incorrect. Use 'GeoSeries.to_crs()' to re-project geometries to a projected CRS before this operation.\n",
      "\n",
      "  gdf['area'] = gdf['geometry'].area\n",
      "/Users/nabilersyad/miniconda3/envs/sql/lib/python3.9/site-packages/geopandas/geodataframe.py:1442: UserWarning: Geometry column does not contain geometry.\n",
      "  warnings.warn(\"Geometry column does not contain geometry.\")\n"
     ]
    },
    {
     "name": "stdout",
     "output_type": "stream",
     "text": [
      "updated 76\n",
      "generating isochrones\n"
     ]
    },
    {
     "name": "stderr",
     "output_type": "stream",
     "text": [
      "/var/folders/2s/3b55fy1174l4bfchw66wdl800000gn/T/ipykernel_76809/2605401413.py:47: UserWarning: Geometry is in a geographic CRS. Results from 'area' are likely incorrect. Use 'GeoSeries.to_crs()' to re-project geometries to a projected CRS before this operation.\n",
      "\n",
      "  gdf['area'] = gdf['geometry'].area\n",
      "/Users/nabilersyad/miniconda3/envs/sql/lib/python3.9/site-packages/geopandas/geodataframe.py:1442: UserWarning: Geometry column does not contain geometry.\n",
      "  warnings.warn(\"Geometry column does not contain geometry.\")\n",
      "/var/folders/2s/3b55fy1174l4bfchw66wdl800000gn/T/ipykernel_76809/2605401413.py:80: UserWarning: Geometry is in a geographic CRS. Results from 'area' are likely incorrect. Use 'GeoSeries.to_crs()' to re-project geometries to a projected CRS before this operation.\n",
      "\n",
      "  combined_isochrones['area'] = combined_isochrones['geometry'].area\n",
      "/Users/nabilersyad/miniconda3/envs/sql/lib/python3.9/site-packages/geopandas/geodataframe.py:1442: UserWarning: Geometry column does not contain geometry.\n",
      "  warnings.warn(\"Geometry column does not contain geometry.\")\n",
      "/var/folders/2s/3b55fy1174l4bfchw66wdl800000gn/T/ipykernel_76809/2605401413.py:80: UserWarning: Geometry is in a geographic CRS. Results from 'area' are likely incorrect. Use 'GeoSeries.to_crs()' to re-project geometries to a projected CRS before this operation.\n",
      "\n",
      "  combined_isochrones['area'] = combined_isochrones['geometry'].area\n",
      "/Users/nabilersyad/miniconda3/envs/sql/lib/python3.9/site-packages/geopandas/geodataframe.py:1442: UserWarning: Geometry column does not contain geometry.\n",
      "  warnings.warn(\"Geometry column does not contain geometry.\")\n"
     ]
    },
    {
     "name": "stdout",
     "output_type": "stream",
     "text": [
      "updated 77\n",
      "combining isochrones\n",
      "updated 78\n",
      "combining isochrones\n",
      "updated 79\n",
      "generating isochrones\n"
     ]
    },
    {
     "name": "stderr",
     "output_type": "stream",
     "text": [
      "/var/folders/2s/3b55fy1174l4bfchw66wdl800000gn/T/ipykernel_76809/2605401413.py:47: UserWarning: Geometry is in a geographic CRS. Results from 'area' are likely incorrect. Use 'GeoSeries.to_crs()' to re-project geometries to a projected CRS before this operation.\n",
      "\n",
      "  gdf['area'] = gdf['geometry'].area\n",
      "/Users/nabilersyad/miniconda3/envs/sql/lib/python3.9/site-packages/geopandas/geodataframe.py:1442: UserWarning: Geometry column does not contain geometry.\n",
      "  warnings.warn(\"Geometry column does not contain geometry.\")\n"
     ]
    },
    {
     "name": "stdout",
     "output_type": "stream",
     "text": [
      "updated 80\n",
      "generating isochrones\n"
     ]
    },
    {
     "name": "stderr",
     "output_type": "stream",
     "text": [
      "/var/folders/2s/3b55fy1174l4bfchw66wdl800000gn/T/ipykernel_76809/2605401413.py:47: UserWarning: Geometry is in a geographic CRS. Results from 'area' are likely incorrect. Use 'GeoSeries.to_crs()' to re-project geometries to a projected CRS before this operation.\n",
      "\n",
      "  gdf['area'] = gdf['geometry'].area\n",
      "/Users/nabilersyad/miniconda3/envs/sql/lib/python3.9/site-packages/geopandas/geodataframe.py:1442: UserWarning: Geometry column does not contain geometry.\n",
      "  warnings.warn(\"Geometry column does not contain geometry.\")\n"
     ]
    },
    {
     "name": "stdout",
     "output_type": "stream",
     "text": [
      "updated 81\n",
      "generating isochrones\n"
     ]
    },
    {
     "name": "stderr",
     "output_type": "stream",
     "text": [
      "/Users/nabilersyad/miniconda3/envs/sql/lib/python3.9/site-packages/openrouteservice/client.py:211: UserWarning: Rate limit exceeded. Retrying for the 1st time.\n",
      "  warnings.warn('Rate limit exceeded. Retrying for the {0}{1} time.'.format(retry_counter + 1,\n",
      "/Users/nabilersyad/miniconda3/envs/sql/lib/python3.9/site-packages/openrouteservice/client.py:211: UserWarning: Rate limit exceeded. Retrying for the 2nd time.\n",
      "  warnings.warn('Rate limit exceeded. Retrying for the {0}{1} time.'.format(retry_counter + 1,\n",
      "/Users/nabilersyad/miniconda3/envs/sql/lib/python3.9/site-packages/openrouteservice/client.py:211: UserWarning: Rate limit exceeded. Retrying for the 3rd time.\n",
      "  warnings.warn('Rate limit exceeded. Retrying for the {0}{1} time.'.format(retry_counter + 1,\n",
      "/Users/nabilersyad/miniconda3/envs/sql/lib/python3.9/site-packages/openrouteservice/client.py:211: UserWarning: Rate limit exceeded. Retrying for the 4th time.\n",
      "  warnings.warn('Rate limit exceeded. Retrying for the {0}{1} time.'.format(retry_counter + 1,\n",
      "/Users/nabilersyad/miniconda3/envs/sql/lib/python3.9/site-packages/openrouteservice/client.py:211: UserWarning: Rate limit exceeded. Retrying for the 5th time.\n",
      "  warnings.warn('Rate limit exceeded. Retrying for the {0}{1} time.'.format(retry_counter + 1,\n",
      "/Users/nabilersyad/miniconda3/envs/sql/lib/python3.9/site-packages/openrouteservice/client.py:211: UserWarning: Rate limit exceeded. Retrying for the 6th time.\n",
      "  warnings.warn('Rate limit exceeded. Retrying for the {0}{1} time.'.format(retry_counter + 1,\n",
      "/Users/nabilersyad/miniconda3/envs/sql/lib/python3.9/site-packages/openrouteservice/client.py:211: UserWarning: Rate limit exceeded. Retrying for the 7th time.\n",
      "  warnings.warn('Rate limit exceeded. Retrying for the {0}{1} time.'.format(retry_counter + 1,\n",
      "/Users/nabilersyad/miniconda3/envs/sql/lib/python3.9/site-packages/openrouteservice/client.py:211: UserWarning: Rate limit exceeded. Retrying for the 8th time.\n",
      "  warnings.warn('Rate limit exceeded. Retrying for the {0}{1} time.'.format(retry_counter + 1,\n",
      "/Users/nabilersyad/miniconda3/envs/sql/lib/python3.9/site-packages/openrouteservice/client.py:211: UserWarning: Rate limit exceeded. Retrying for the 9th time.\n",
      "  warnings.warn('Rate limit exceeded. Retrying for the {0}{1} time.'.format(retry_counter + 1,\n",
      "/var/folders/2s/3b55fy1174l4bfchw66wdl800000gn/T/ipykernel_76809/2605401413.py:47: UserWarning: Geometry is in a geographic CRS. Results from 'area' are likely incorrect. Use 'GeoSeries.to_crs()' to re-project geometries to a projected CRS before this operation.\n",
      "\n",
      "  gdf['area'] = gdf['geometry'].area\n",
      "/Users/nabilersyad/miniconda3/envs/sql/lib/python3.9/site-packages/geopandas/geodataframe.py:1442: UserWarning: Geometry column does not contain geometry.\n",
      "  warnings.warn(\"Geometry column does not contain geometry.\")\n"
     ]
    },
    {
     "name": "stdout",
     "output_type": "stream",
     "text": [
      "updated 82\n",
      "generating isochrones\n"
     ]
    },
    {
     "name": "stderr",
     "output_type": "stream",
     "text": [
      "/var/folders/2s/3b55fy1174l4bfchw66wdl800000gn/T/ipykernel_76809/2605401413.py:47: UserWarning: Geometry is in a geographic CRS. Results from 'area' are likely incorrect. Use 'GeoSeries.to_crs()' to re-project geometries to a projected CRS before this operation.\n",
      "\n",
      "  gdf['area'] = gdf['geometry'].area\n",
      "/Users/nabilersyad/miniconda3/envs/sql/lib/python3.9/site-packages/geopandas/geodataframe.py:1442: UserWarning: Geometry column does not contain geometry.\n",
      "  warnings.warn(\"Geometry column does not contain geometry.\")\n"
     ]
    },
    {
     "name": "stdout",
     "output_type": "stream",
     "text": [
      "updated 83\n",
      "generating isochrones\n"
     ]
    },
    {
     "name": "stderr",
     "output_type": "stream",
     "text": [
      "/var/folders/2s/3b55fy1174l4bfchw66wdl800000gn/T/ipykernel_76809/2605401413.py:47: UserWarning: Geometry is in a geographic CRS. Results from 'area' are likely incorrect. Use 'GeoSeries.to_crs()' to re-project geometries to a projected CRS before this operation.\n",
      "\n",
      "  gdf['area'] = gdf['geometry'].area\n",
      "/Users/nabilersyad/miniconda3/envs/sql/lib/python3.9/site-packages/geopandas/geodataframe.py:1442: UserWarning: Geometry column does not contain geometry.\n",
      "  warnings.warn(\"Geometry column does not contain geometry.\")\n",
      "/var/folders/2s/3b55fy1174l4bfchw66wdl800000gn/T/ipykernel_76809/2605401413.py:80: UserWarning: Geometry is in a geographic CRS. Results from 'area' are likely incorrect. Use 'GeoSeries.to_crs()' to re-project geometries to a projected CRS before this operation.\n",
      "\n",
      "  combined_isochrones['area'] = combined_isochrones['geometry'].area\n",
      "/Users/nabilersyad/miniconda3/envs/sql/lib/python3.9/site-packages/geopandas/geodataframe.py:1442: UserWarning: Geometry column does not contain geometry.\n",
      "  warnings.warn(\"Geometry column does not contain geometry.\")\n"
     ]
    },
    {
     "name": "stdout",
     "output_type": "stream",
     "text": [
      "updated 84\n",
      "combining isochrones\n",
      "updated 85\n",
      "generating isochrones\n"
     ]
    },
    {
     "name": "stderr",
     "output_type": "stream",
     "text": [
      "/var/folders/2s/3b55fy1174l4bfchw66wdl800000gn/T/ipykernel_76809/2605401413.py:47: UserWarning: Geometry is in a geographic CRS. Results from 'area' are likely incorrect. Use 'GeoSeries.to_crs()' to re-project geometries to a projected CRS before this operation.\n",
      "\n",
      "  gdf['area'] = gdf['geometry'].area\n",
      "/Users/nabilersyad/miniconda3/envs/sql/lib/python3.9/site-packages/geopandas/geodataframe.py:1442: UserWarning: Geometry column does not contain geometry.\n",
      "  warnings.warn(\"Geometry column does not contain geometry.\")\n",
      "/var/folders/2s/3b55fy1174l4bfchw66wdl800000gn/T/ipykernel_76809/2605401413.py:80: UserWarning: Geometry is in a geographic CRS. Results from 'area' are likely incorrect. Use 'GeoSeries.to_crs()' to re-project geometries to a projected CRS before this operation.\n",
      "\n",
      "  combined_isochrones['area'] = combined_isochrones['geometry'].area\n",
      "/Users/nabilersyad/miniconda3/envs/sql/lib/python3.9/site-packages/geopandas/geodataframe.py:1442: UserWarning: Geometry column does not contain geometry.\n",
      "  warnings.warn(\"Geometry column does not contain geometry.\")\n"
     ]
    },
    {
     "name": "stdout",
     "output_type": "stream",
     "text": [
      "updated 86\n",
      "combining isochrones\n",
      "updated 87\n",
      "generating isochrones\n"
     ]
    },
    {
     "name": "stderr",
     "output_type": "stream",
     "text": [
      "/var/folders/2s/3b55fy1174l4bfchw66wdl800000gn/T/ipykernel_76809/2605401413.py:47: UserWarning: Geometry is in a geographic CRS. Results from 'area' are likely incorrect. Use 'GeoSeries.to_crs()' to re-project geometries to a projected CRS before this operation.\n",
      "\n",
      "  gdf['area'] = gdf['geometry'].area\n",
      "/Users/nabilersyad/miniconda3/envs/sql/lib/python3.9/site-packages/geopandas/geodataframe.py:1442: UserWarning: Geometry column does not contain geometry.\n",
      "  warnings.warn(\"Geometry column does not contain geometry.\")\n"
     ]
    },
    {
     "name": "stdout",
     "output_type": "stream",
     "text": [
      "updated 88\n",
      "generating isochrones\n"
     ]
    },
    {
     "name": "stderr",
     "output_type": "stream",
     "text": [
      "/var/folders/2s/3b55fy1174l4bfchw66wdl800000gn/T/ipykernel_76809/2605401413.py:47: UserWarning: Geometry is in a geographic CRS. Results from 'area' are likely incorrect. Use 'GeoSeries.to_crs()' to re-project geometries to a projected CRS before this operation.\n",
      "\n",
      "  gdf['area'] = gdf['geometry'].area\n",
      "/Users/nabilersyad/miniconda3/envs/sql/lib/python3.9/site-packages/geopandas/geodataframe.py:1442: UserWarning: Geometry column does not contain geometry.\n",
      "  warnings.warn(\"Geometry column does not contain geometry.\")\n"
     ]
    },
    {
     "name": "stdout",
     "output_type": "stream",
     "text": [
      "updated 89\n",
      "generating isochrones\n"
     ]
    },
    {
     "name": "stderr",
     "output_type": "stream",
     "text": [
      "/var/folders/2s/3b55fy1174l4bfchw66wdl800000gn/T/ipykernel_76809/2605401413.py:47: UserWarning: Geometry is in a geographic CRS. Results from 'area' are likely incorrect. Use 'GeoSeries.to_crs()' to re-project geometries to a projected CRS before this operation.\n",
      "\n",
      "  gdf['area'] = gdf['geometry'].area\n",
      "/Users/nabilersyad/miniconda3/envs/sql/lib/python3.9/site-packages/geopandas/geodataframe.py:1442: UserWarning: Geometry column does not contain geometry.\n",
      "  warnings.warn(\"Geometry column does not contain geometry.\")\n"
     ]
    },
    {
     "name": "stdout",
     "output_type": "stream",
     "text": [
      "updated 90\n",
      "generating isochrones\n"
     ]
    },
    {
     "name": "stderr",
     "output_type": "stream",
     "text": [
      "/var/folders/2s/3b55fy1174l4bfchw66wdl800000gn/T/ipykernel_76809/2605401413.py:47: UserWarning: Geometry is in a geographic CRS. Results from 'area' are likely incorrect. Use 'GeoSeries.to_crs()' to re-project geometries to a projected CRS before this operation.\n",
      "\n",
      "  gdf['area'] = gdf['geometry'].area\n",
      "/Users/nabilersyad/miniconda3/envs/sql/lib/python3.9/site-packages/geopandas/geodataframe.py:1442: UserWarning: Geometry column does not contain geometry.\n",
      "  warnings.warn(\"Geometry column does not contain geometry.\")\n",
      "/var/folders/2s/3b55fy1174l4bfchw66wdl800000gn/T/ipykernel_76809/2605401413.py:80: UserWarning: Geometry is in a geographic CRS. Results from 'area' are likely incorrect. Use 'GeoSeries.to_crs()' to re-project geometries to a projected CRS before this operation.\n",
      "\n",
      "  combined_isochrones['area'] = combined_isochrones['geometry'].area\n",
      "/Users/nabilersyad/miniconda3/envs/sql/lib/python3.9/site-packages/geopandas/geodataframe.py:1442: UserWarning: Geometry column does not contain geometry.\n",
      "  warnings.warn(\"Geometry column does not contain geometry.\")\n"
     ]
    },
    {
     "name": "stdout",
     "output_type": "stream",
     "text": [
      "updated 91\n",
      "combining isochrones\n",
      "updated 92\n",
      "generating isochrones\n"
     ]
    },
    {
     "name": "stderr",
     "output_type": "stream",
     "text": [
      "/var/folders/2s/3b55fy1174l4bfchw66wdl800000gn/T/ipykernel_76809/2605401413.py:47: UserWarning: Geometry is in a geographic CRS. Results from 'area' are likely incorrect. Use 'GeoSeries.to_crs()' to re-project geometries to a projected CRS before this operation.\n",
      "\n",
      "  gdf['area'] = gdf['geometry'].area\n",
      "/Users/nabilersyad/miniconda3/envs/sql/lib/python3.9/site-packages/geopandas/geodataframe.py:1442: UserWarning: Geometry column does not contain geometry.\n",
      "  warnings.warn(\"Geometry column does not contain geometry.\")\n"
     ]
    },
    {
     "name": "stdout",
     "output_type": "stream",
     "text": [
      "updated 93\n",
      "generating isochrones\n"
     ]
    },
    {
     "name": "stderr",
     "output_type": "stream",
     "text": [
      "/var/folders/2s/3b55fy1174l4bfchw66wdl800000gn/T/ipykernel_76809/2605401413.py:47: UserWarning: Geometry is in a geographic CRS. Results from 'area' are likely incorrect. Use 'GeoSeries.to_crs()' to re-project geometries to a projected CRS before this operation.\n",
      "\n",
      "  gdf['area'] = gdf['geometry'].area\n",
      "/Users/nabilersyad/miniconda3/envs/sql/lib/python3.9/site-packages/geopandas/geodataframe.py:1442: UserWarning: Geometry column does not contain geometry.\n",
      "  warnings.warn(\"Geometry column does not contain geometry.\")\n",
      "/var/folders/2s/3b55fy1174l4bfchw66wdl800000gn/T/ipykernel_76809/2605401413.py:80: UserWarning: Geometry is in a geographic CRS. Results from 'area' are likely incorrect. Use 'GeoSeries.to_crs()' to re-project geometries to a projected CRS before this operation.\n",
      "\n",
      "  combined_isochrones['area'] = combined_isochrones['geometry'].area\n",
      "/Users/nabilersyad/miniconda3/envs/sql/lib/python3.9/site-packages/geopandas/geodataframe.py:1442: UserWarning: Geometry column does not contain geometry.\n",
      "  warnings.warn(\"Geometry column does not contain geometry.\")\n",
      "/var/folders/2s/3b55fy1174l4bfchw66wdl800000gn/T/ipykernel_76809/2605401413.py:80: UserWarning: Geometry is in a geographic CRS. Results from 'area' are likely incorrect. Use 'GeoSeries.to_crs()' to re-project geometries to a projected CRS before this operation.\n",
      "\n",
      "  combined_isochrones['area'] = combined_isochrones['geometry'].area\n",
      "/Users/nabilersyad/miniconda3/envs/sql/lib/python3.9/site-packages/geopandas/geodataframe.py:1442: UserWarning: Geometry column does not contain geometry.\n",
      "  warnings.warn(\"Geometry column does not contain geometry.\")\n"
     ]
    },
    {
     "name": "stdout",
     "output_type": "stream",
     "text": [
      "updated 94\n",
      "combining isochrones\n",
      "updated 95\n",
      "combining isochrones\n",
      "updated 96\n",
      "generating isochrones\n"
     ]
    },
    {
     "name": "stderr",
     "output_type": "stream",
     "text": [
      "/var/folders/2s/3b55fy1174l4bfchw66wdl800000gn/T/ipykernel_76809/2605401413.py:47: UserWarning: Geometry is in a geographic CRS. Results from 'area' are likely incorrect. Use 'GeoSeries.to_crs()' to re-project geometries to a projected CRS before this operation.\n",
      "\n",
      "  gdf['area'] = gdf['geometry'].area\n",
      "/Users/nabilersyad/miniconda3/envs/sql/lib/python3.9/site-packages/geopandas/geodataframe.py:1442: UserWarning: Geometry column does not contain geometry.\n",
      "  warnings.warn(\"Geometry column does not contain geometry.\")\n"
     ]
    },
    {
     "name": "stdout",
     "output_type": "stream",
     "text": [
      "updated 97\n",
      "generating isochrones\n"
     ]
    },
    {
     "name": "stderr",
     "output_type": "stream",
     "text": [
      "/var/folders/2s/3b55fy1174l4bfchw66wdl800000gn/T/ipykernel_76809/2605401413.py:47: UserWarning: Geometry is in a geographic CRS. Results from 'area' are likely incorrect. Use 'GeoSeries.to_crs()' to re-project geometries to a projected CRS before this operation.\n",
      "\n",
      "  gdf['area'] = gdf['geometry'].area\n",
      "/Users/nabilersyad/miniconda3/envs/sql/lib/python3.9/site-packages/geopandas/geodataframe.py:1442: UserWarning: Geometry column does not contain geometry.\n",
      "  warnings.warn(\"Geometry column does not contain geometry.\")\n",
      "/var/folders/2s/3b55fy1174l4bfchw66wdl800000gn/T/ipykernel_76809/2605401413.py:80: UserWarning: Geometry is in a geographic CRS. Results from 'area' are likely incorrect. Use 'GeoSeries.to_crs()' to re-project geometries to a projected CRS before this operation.\n",
      "\n",
      "  combined_isochrones['area'] = combined_isochrones['geometry'].area\n",
      "/Users/nabilersyad/miniconda3/envs/sql/lib/python3.9/site-packages/geopandas/geodataframe.py:1442: UserWarning: Geometry column does not contain geometry.\n",
      "  warnings.warn(\"Geometry column does not contain geometry.\")\n"
     ]
    },
    {
     "name": "stdout",
     "output_type": "stream",
     "text": [
      "updated 98\n",
      "combining isochrones\n",
      "updated 99\n",
      "generating isochrones\n"
     ]
    },
    {
     "name": "stderr",
     "output_type": "stream",
     "text": [
      "/var/folders/2s/3b55fy1174l4bfchw66wdl800000gn/T/ipykernel_76809/2605401413.py:47: UserWarning: Geometry is in a geographic CRS. Results from 'area' are likely incorrect. Use 'GeoSeries.to_crs()' to re-project geometries to a projected CRS before this operation.\n",
      "\n",
      "  gdf['area'] = gdf['geometry'].area\n",
      "/Users/nabilersyad/miniconda3/envs/sql/lib/python3.9/site-packages/geopandas/geodataframe.py:1442: UserWarning: Geometry column does not contain geometry.\n",
      "  warnings.warn(\"Geometry column does not contain geometry.\")\n",
      "/var/folders/2s/3b55fy1174l4bfchw66wdl800000gn/T/ipykernel_76809/2605401413.py:80: UserWarning: Geometry is in a geographic CRS. Results from 'area' are likely incorrect. Use 'GeoSeries.to_crs()' to re-project geometries to a projected CRS before this operation.\n",
      "\n",
      "  combined_isochrones['area'] = combined_isochrones['geometry'].area\n",
      "/Users/nabilersyad/miniconda3/envs/sql/lib/python3.9/site-packages/geopandas/geodataframe.py:1442: UserWarning: Geometry column does not contain geometry.\n",
      "  warnings.warn(\"Geometry column does not contain geometry.\")\n"
     ]
    },
    {
     "name": "stdout",
     "output_type": "stream",
     "text": [
      "updated 100\n",
      "combining isochrones\n",
      "updated 101\n",
      "generating isochrones\n"
     ]
    },
    {
     "name": "stderr",
     "output_type": "stream",
     "text": [
      "/var/folders/2s/3b55fy1174l4bfchw66wdl800000gn/T/ipykernel_76809/2605401413.py:47: UserWarning: Geometry is in a geographic CRS. Results from 'area' are likely incorrect. Use 'GeoSeries.to_crs()' to re-project geometries to a projected CRS before this operation.\n",
      "\n",
      "  gdf['area'] = gdf['geometry'].area\n",
      "/Users/nabilersyad/miniconda3/envs/sql/lib/python3.9/site-packages/geopandas/geodataframe.py:1442: UserWarning: Geometry column does not contain geometry.\n",
      "  warnings.warn(\"Geometry column does not contain geometry.\")\n"
     ]
    },
    {
     "name": "stdout",
     "output_type": "stream",
     "text": [
      "updated 102\n",
      "generating isochrones\n"
     ]
    },
    {
     "name": "stderr",
     "output_type": "stream",
     "text": [
      "/var/folders/2s/3b55fy1174l4bfchw66wdl800000gn/T/ipykernel_76809/2605401413.py:47: UserWarning: Geometry is in a geographic CRS. Results from 'area' are likely incorrect. Use 'GeoSeries.to_crs()' to re-project geometries to a projected CRS before this operation.\n",
      "\n",
      "  gdf['area'] = gdf['geometry'].area\n",
      "/Users/nabilersyad/miniconda3/envs/sql/lib/python3.9/site-packages/geopandas/geodataframe.py:1442: UserWarning: Geometry column does not contain geometry.\n",
      "  warnings.warn(\"Geometry column does not contain geometry.\")\n",
      "/var/folders/2s/3b55fy1174l4bfchw66wdl800000gn/T/ipykernel_76809/2605401413.py:80: UserWarning: Geometry is in a geographic CRS. Results from 'area' are likely incorrect. Use 'GeoSeries.to_crs()' to re-project geometries to a projected CRS before this operation.\n",
      "\n",
      "  combined_isochrones['area'] = combined_isochrones['geometry'].area\n",
      "/Users/nabilersyad/miniconda3/envs/sql/lib/python3.9/site-packages/geopandas/geodataframe.py:1442: UserWarning: Geometry column does not contain geometry.\n",
      "  warnings.warn(\"Geometry column does not contain geometry.\")\n"
     ]
    },
    {
     "name": "stdout",
     "output_type": "stream",
     "text": [
      "updated 103\n",
      "combining isochrones\n",
      "updated 104\n",
      "generating isochrones\n"
     ]
    },
    {
     "name": "stderr",
     "output_type": "stream",
     "text": [
      "/var/folders/2s/3b55fy1174l4bfchw66wdl800000gn/T/ipykernel_76809/2605401413.py:47: UserWarning: Geometry is in a geographic CRS. Results from 'area' are likely incorrect. Use 'GeoSeries.to_crs()' to re-project geometries to a projected CRS before this operation.\n",
      "\n",
      "  gdf['area'] = gdf['geometry'].area\n",
      "/Users/nabilersyad/miniconda3/envs/sql/lib/python3.9/site-packages/geopandas/geodataframe.py:1442: UserWarning: Geometry column does not contain geometry.\n",
      "  warnings.warn(\"Geometry column does not contain geometry.\")\n"
     ]
    },
    {
     "name": "stdout",
     "output_type": "stream",
     "text": [
      "updated 105\n",
      "generating isochrones\n"
     ]
    },
    {
     "name": "stderr",
     "output_type": "stream",
     "text": [
      "/var/folders/2s/3b55fy1174l4bfchw66wdl800000gn/T/ipykernel_76809/2605401413.py:47: UserWarning: Geometry is in a geographic CRS. Results from 'area' are likely incorrect. Use 'GeoSeries.to_crs()' to re-project geometries to a projected CRS before this operation.\n",
      "\n",
      "  gdf['area'] = gdf['geometry'].area\n",
      "/Users/nabilersyad/miniconda3/envs/sql/lib/python3.9/site-packages/geopandas/geodataframe.py:1442: UserWarning: Geometry column does not contain geometry.\n",
      "  warnings.warn(\"Geometry column does not contain geometry.\")\n"
     ]
    },
    {
     "name": "stdout",
     "output_type": "stream",
     "text": [
      "updated 106\n",
      "generating isochrones\n"
     ]
    },
    {
     "name": "stderr",
     "output_type": "stream",
     "text": [
      "/var/folders/2s/3b55fy1174l4bfchw66wdl800000gn/T/ipykernel_76809/2605401413.py:47: UserWarning: Geometry is in a geographic CRS. Results from 'area' are likely incorrect. Use 'GeoSeries.to_crs()' to re-project geometries to a projected CRS before this operation.\n",
      "\n",
      "  gdf['area'] = gdf['geometry'].area\n",
      "/Users/nabilersyad/miniconda3/envs/sql/lib/python3.9/site-packages/geopandas/geodataframe.py:1442: UserWarning: Geometry column does not contain geometry.\n",
      "  warnings.warn(\"Geometry column does not contain geometry.\")\n",
      "/var/folders/2s/3b55fy1174l4bfchw66wdl800000gn/T/ipykernel_76809/2605401413.py:80: UserWarning: Geometry is in a geographic CRS. Results from 'area' are likely incorrect. Use 'GeoSeries.to_crs()' to re-project geometries to a projected CRS before this operation.\n",
      "\n",
      "  combined_isochrones['area'] = combined_isochrones['geometry'].area\n",
      "/Users/nabilersyad/miniconda3/envs/sql/lib/python3.9/site-packages/geopandas/geodataframe.py:1442: UserWarning: Geometry column does not contain geometry.\n",
      "  warnings.warn(\"Geometry column does not contain geometry.\")\n",
      "/var/folders/2s/3b55fy1174l4bfchw66wdl800000gn/T/ipykernel_76809/2605401413.py:80: UserWarning: Geometry is in a geographic CRS. Results from 'area' are likely incorrect. Use 'GeoSeries.to_crs()' to re-project geometries to a projected CRS before this operation.\n",
      "\n",
      "  combined_isochrones['area'] = combined_isochrones['geometry'].area\n",
      "/Users/nabilersyad/miniconda3/envs/sql/lib/python3.9/site-packages/geopandas/geodataframe.py:1442: UserWarning: Geometry column does not contain geometry.\n",
      "  warnings.warn(\"Geometry column does not contain geometry.\")\n"
     ]
    },
    {
     "name": "stdout",
     "output_type": "stream",
     "text": [
      "updated 107\n",
      "combining isochrones\n",
      "updated 108\n",
      "combining isochrones\n",
      "updated 109\n",
      "generating isochrones\n"
     ]
    },
    {
     "name": "stderr",
     "output_type": "stream",
     "text": [
      "/Users/nabilersyad/miniconda3/envs/sql/lib/python3.9/site-packages/openrouteservice/client.py:211: UserWarning: Rate limit exceeded. Retrying for the 1st time.\n",
      "  warnings.warn('Rate limit exceeded. Retrying for the {0}{1} time.'.format(retry_counter + 1,\n",
      "/Users/nabilersyad/miniconda3/envs/sql/lib/python3.9/site-packages/openrouteservice/client.py:211: UserWarning: Rate limit exceeded. Retrying for the 2nd time.\n",
      "  warnings.warn('Rate limit exceeded. Retrying for the {0}{1} time.'.format(retry_counter + 1,\n",
      "/Users/nabilersyad/miniconda3/envs/sql/lib/python3.9/site-packages/openrouteservice/client.py:211: UserWarning: Rate limit exceeded. Retrying for the 3rd time.\n",
      "  warnings.warn('Rate limit exceeded. Retrying for the {0}{1} time.'.format(retry_counter + 1,\n",
      "/Users/nabilersyad/miniconda3/envs/sql/lib/python3.9/site-packages/openrouteservice/client.py:211: UserWarning: Rate limit exceeded. Retrying for the 4th time.\n",
      "  warnings.warn('Rate limit exceeded. Retrying for the {0}{1} time.'.format(retry_counter + 1,\n",
      "/Users/nabilersyad/miniconda3/envs/sql/lib/python3.9/site-packages/openrouteservice/client.py:211: UserWarning: Rate limit exceeded. Retrying for the 5th time.\n",
      "  warnings.warn('Rate limit exceeded. Retrying for the {0}{1} time.'.format(retry_counter + 1,\n",
      "/Users/nabilersyad/miniconda3/envs/sql/lib/python3.9/site-packages/openrouteservice/client.py:211: UserWarning: Rate limit exceeded. Retrying for the 6th time.\n",
      "  warnings.warn('Rate limit exceeded. Retrying for the {0}{1} time.'.format(retry_counter + 1,\n",
      "/Users/nabilersyad/miniconda3/envs/sql/lib/python3.9/site-packages/openrouteservice/client.py:211: UserWarning: Rate limit exceeded. Retrying for the 7th time.\n",
      "  warnings.warn('Rate limit exceeded. Retrying for the {0}{1} time.'.format(retry_counter + 1,\n",
      "/Users/nabilersyad/miniconda3/envs/sql/lib/python3.9/site-packages/openrouteservice/client.py:211: UserWarning: Rate limit exceeded. Retrying for the 8th time.\n",
      "  warnings.warn('Rate limit exceeded. Retrying for the {0}{1} time.'.format(retry_counter + 1,\n",
      "/var/folders/2s/3b55fy1174l4bfchw66wdl800000gn/T/ipykernel_76809/2605401413.py:47: UserWarning: Geometry is in a geographic CRS. Results from 'area' are likely incorrect. Use 'GeoSeries.to_crs()' to re-project geometries to a projected CRS before this operation.\n",
      "\n",
      "  gdf['area'] = gdf['geometry'].area\n",
      "/Users/nabilersyad/miniconda3/envs/sql/lib/python3.9/site-packages/geopandas/geodataframe.py:1442: UserWarning: Geometry column does not contain geometry.\n",
      "  warnings.warn(\"Geometry column does not contain geometry.\")\n",
      "/var/folders/2s/3b55fy1174l4bfchw66wdl800000gn/T/ipykernel_76809/2605401413.py:80: UserWarning: Geometry is in a geographic CRS. Results from 'area' are likely incorrect. Use 'GeoSeries.to_crs()' to re-project geometries to a projected CRS before this operation.\n",
      "\n",
      "  combined_isochrones['area'] = combined_isochrones['geometry'].area\n",
      "/Users/nabilersyad/miniconda3/envs/sql/lib/python3.9/site-packages/geopandas/geodataframe.py:1442: UserWarning: Geometry column does not contain geometry.\n",
      "  warnings.warn(\"Geometry column does not contain geometry.\")\n"
     ]
    },
    {
     "name": "stdout",
     "output_type": "stream",
     "text": [
      "updated 110\n",
      "combining isochrones\n",
      "updated 111\n",
      "generating isochrones\n"
     ]
    },
    {
     "name": "stderr",
     "output_type": "stream",
     "text": [
      "/var/folders/2s/3b55fy1174l4bfchw66wdl800000gn/T/ipykernel_76809/2605401413.py:47: UserWarning: Geometry is in a geographic CRS. Results from 'area' are likely incorrect. Use 'GeoSeries.to_crs()' to re-project geometries to a projected CRS before this operation.\n",
      "\n",
      "  gdf['area'] = gdf['geometry'].area\n",
      "/Users/nabilersyad/miniconda3/envs/sql/lib/python3.9/site-packages/geopandas/geodataframe.py:1442: UserWarning: Geometry column does not contain geometry.\n",
      "  warnings.warn(\"Geometry column does not contain geometry.\")\n"
     ]
    },
    {
     "name": "stdout",
     "output_type": "stream",
     "text": [
      "updated 112\n",
      "generating isochrones\n"
     ]
    },
    {
     "name": "stderr",
     "output_type": "stream",
     "text": [
      "/var/folders/2s/3b55fy1174l4bfchw66wdl800000gn/T/ipykernel_76809/2605401413.py:47: UserWarning: Geometry is in a geographic CRS. Results from 'area' are likely incorrect. Use 'GeoSeries.to_crs()' to re-project geometries to a projected CRS before this operation.\n",
      "\n",
      "  gdf['area'] = gdf['geometry'].area\n",
      "/Users/nabilersyad/miniconda3/envs/sql/lib/python3.9/site-packages/geopandas/geodataframe.py:1442: UserWarning: Geometry column does not contain geometry.\n",
      "  warnings.warn(\"Geometry column does not contain geometry.\")\n"
     ]
    },
    {
     "name": "stdout",
     "output_type": "stream",
     "text": [
      "updated 113\n",
      "generating isochrones\n"
     ]
    },
    {
     "name": "stderr",
     "output_type": "stream",
     "text": [
      "/var/folders/2s/3b55fy1174l4bfchw66wdl800000gn/T/ipykernel_76809/2605401413.py:47: UserWarning: Geometry is in a geographic CRS. Results from 'area' are likely incorrect. Use 'GeoSeries.to_crs()' to re-project geometries to a projected CRS before this operation.\n",
      "\n",
      "  gdf['area'] = gdf['geometry'].area\n",
      "/Users/nabilersyad/miniconda3/envs/sql/lib/python3.9/site-packages/geopandas/geodataframe.py:1442: UserWarning: Geometry column does not contain geometry.\n",
      "  warnings.warn(\"Geometry column does not contain geometry.\")\n"
     ]
    },
    {
     "name": "stdout",
     "output_type": "stream",
     "text": [
      "updated 114\n",
      "generating isochrones\n"
     ]
    },
    {
     "name": "stderr",
     "output_type": "stream",
     "text": [
      "/var/folders/2s/3b55fy1174l4bfchw66wdl800000gn/T/ipykernel_76809/2605401413.py:47: UserWarning: Geometry is in a geographic CRS. Results from 'area' are likely incorrect. Use 'GeoSeries.to_crs()' to re-project geometries to a projected CRS before this operation.\n",
      "\n",
      "  gdf['area'] = gdf['geometry'].area\n",
      "/Users/nabilersyad/miniconda3/envs/sql/lib/python3.9/site-packages/geopandas/geodataframe.py:1442: UserWarning: Geometry column does not contain geometry.\n",
      "  warnings.warn(\"Geometry column does not contain geometry.\")\n"
     ]
    },
    {
     "name": "stdout",
     "output_type": "stream",
     "text": [
      "updated 115\n",
      "generating isochrones\n"
     ]
    },
    {
     "name": "stderr",
     "output_type": "stream",
     "text": [
      "/var/folders/2s/3b55fy1174l4bfchw66wdl800000gn/T/ipykernel_76809/2605401413.py:47: UserWarning: Geometry is in a geographic CRS. Results from 'area' are likely incorrect. Use 'GeoSeries.to_crs()' to re-project geometries to a projected CRS before this operation.\n",
      "\n",
      "  gdf['area'] = gdf['geometry'].area\n",
      "/Users/nabilersyad/miniconda3/envs/sql/lib/python3.9/site-packages/geopandas/geodataframe.py:1442: UserWarning: Geometry column does not contain geometry.\n",
      "  warnings.warn(\"Geometry column does not contain geometry.\")\n",
      "/var/folders/2s/3b55fy1174l4bfchw66wdl800000gn/T/ipykernel_76809/2605401413.py:80: UserWarning: Geometry is in a geographic CRS. Results from 'area' are likely incorrect. Use 'GeoSeries.to_crs()' to re-project geometries to a projected CRS before this operation.\n",
      "\n",
      "  combined_isochrones['area'] = combined_isochrones['geometry'].area\n",
      "/Users/nabilersyad/miniconda3/envs/sql/lib/python3.9/site-packages/geopandas/geodataframe.py:1442: UserWarning: Geometry column does not contain geometry.\n",
      "  warnings.warn(\"Geometry column does not contain geometry.\")\n"
     ]
    },
    {
     "name": "stdout",
     "output_type": "stream",
     "text": [
      "updated 116\n",
      "combining isochrones\n",
      "updated 117\n",
      "generating isochrones\n"
     ]
    },
    {
     "name": "stderr",
     "output_type": "stream",
     "text": [
      "/var/folders/2s/3b55fy1174l4bfchw66wdl800000gn/T/ipykernel_76809/2605401413.py:47: UserWarning: Geometry is in a geographic CRS. Results from 'area' are likely incorrect. Use 'GeoSeries.to_crs()' to re-project geometries to a projected CRS before this operation.\n",
      "\n",
      "  gdf['area'] = gdf['geometry'].area\n",
      "/Users/nabilersyad/miniconda3/envs/sql/lib/python3.9/site-packages/geopandas/geodataframe.py:1442: UserWarning: Geometry column does not contain geometry.\n",
      "  warnings.warn(\"Geometry column does not contain geometry.\")\n",
      "/var/folders/2s/3b55fy1174l4bfchw66wdl800000gn/T/ipykernel_76809/2605401413.py:80: UserWarning: Geometry is in a geographic CRS. Results from 'area' are likely incorrect. Use 'GeoSeries.to_crs()' to re-project geometries to a projected CRS before this operation.\n",
      "\n",
      "  combined_isochrones['area'] = combined_isochrones['geometry'].area\n",
      "/Users/nabilersyad/miniconda3/envs/sql/lib/python3.9/site-packages/geopandas/geodataframe.py:1442: UserWarning: Geometry column does not contain geometry.\n",
      "  warnings.warn(\"Geometry column does not contain geometry.\")\n",
      "/var/folders/2s/3b55fy1174l4bfchw66wdl800000gn/T/ipykernel_76809/2605401413.py:80: UserWarning: Geometry is in a geographic CRS. Results from 'area' are likely incorrect. Use 'GeoSeries.to_crs()' to re-project geometries to a projected CRS before this operation.\n",
      "\n",
      "  combined_isochrones['area'] = combined_isochrones['geometry'].area\n",
      "/Users/nabilersyad/miniconda3/envs/sql/lib/python3.9/site-packages/geopandas/geodataframe.py:1442: UserWarning: Geometry column does not contain geometry.\n",
      "  warnings.warn(\"Geometry column does not contain geometry.\")\n"
     ]
    },
    {
     "name": "stdout",
     "output_type": "stream",
     "text": [
      "updated 118\n",
      "combining isochrones\n",
      "updated 119\n",
      "combining isochrones\n",
      "updated 120\n",
      "combining isochrones\n"
     ]
    },
    {
     "name": "stderr",
     "output_type": "stream",
     "text": [
      "/var/folders/2s/3b55fy1174l4bfchw66wdl800000gn/T/ipykernel_76809/2605401413.py:80: UserWarning: Geometry is in a geographic CRS. Results from 'area' are likely incorrect. Use 'GeoSeries.to_crs()' to re-project geometries to a projected CRS before this operation.\n",
      "\n",
      "  combined_isochrones['area'] = combined_isochrones['geometry'].area\n",
      "/Users/nabilersyad/miniconda3/envs/sql/lib/python3.9/site-packages/geopandas/geodataframe.py:1442: UserWarning: Geometry column does not contain geometry.\n",
      "  warnings.warn(\"Geometry column does not contain geometry.\")\n",
      "/var/folders/2s/3b55fy1174l4bfchw66wdl800000gn/T/ipykernel_76809/2605401413.py:80: UserWarning: Geometry is in a geographic CRS. Results from 'area' are likely incorrect. Use 'GeoSeries.to_crs()' to re-project geometries to a projected CRS before this operation.\n",
      "\n",
      "  combined_isochrones['area'] = combined_isochrones['geometry'].area\n",
      "/Users/nabilersyad/miniconda3/envs/sql/lib/python3.9/site-packages/geopandas/geodataframe.py:1442: UserWarning: Geometry column does not contain geometry.\n",
      "  warnings.warn(\"Geometry column does not contain geometry.\")\n",
      "/var/folders/2s/3b55fy1174l4bfchw66wdl800000gn/T/ipykernel_76809/2605401413.py:80: UserWarning: Geometry is in a geographic CRS. Results from 'area' are likely incorrect. Use 'GeoSeries.to_crs()' to re-project geometries to a projected CRS before this operation.\n",
      "\n",
      "  combined_isochrones['area'] = combined_isochrones['geometry'].area\n",
      "/Users/nabilersyad/miniconda3/envs/sql/lib/python3.9/site-packages/geopandas/geodataframe.py:1442: UserWarning: Geometry column does not contain geometry.\n",
      "  warnings.warn(\"Geometry column does not contain geometry.\")\n"
     ]
    },
    {
     "name": "stdout",
     "output_type": "stream",
     "text": [
      "updated 121\n",
      "combining isochrones\n",
      "updated 122\n",
      "combining isochrones\n",
      "updated 123\n",
      "generating isochrones\n"
     ]
    },
    {
     "name": "stderr",
     "output_type": "stream",
     "text": [
      "/var/folders/2s/3b55fy1174l4bfchw66wdl800000gn/T/ipykernel_76809/2605401413.py:47: UserWarning: Geometry is in a geographic CRS. Results from 'area' are likely incorrect. Use 'GeoSeries.to_crs()' to re-project geometries to a projected CRS before this operation.\n",
      "\n",
      "  gdf['area'] = gdf['geometry'].area\n",
      "/Users/nabilersyad/miniconda3/envs/sql/lib/python3.9/site-packages/geopandas/geodataframe.py:1442: UserWarning: Geometry column does not contain geometry.\n",
      "  warnings.warn(\"Geometry column does not contain geometry.\")\n"
     ]
    },
    {
     "name": "stdout",
     "output_type": "stream",
     "text": [
      "updated 124\n",
      "generating isochrones\n"
     ]
    },
    {
     "name": "stderr",
     "output_type": "stream",
     "text": [
      "/var/folders/2s/3b55fy1174l4bfchw66wdl800000gn/T/ipykernel_76809/2605401413.py:47: UserWarning: Geometry is in a geographic CRS. Results from 'area' are likely incorrect. Use 'GeoSeries.to_crs()' to re-project geometries to a projected CRS before this operation.\n",
      "\n",
      "  gdf['area'] = gdf['geometry'].area\n",
      "/Users/nabilersyad/miniconda3/envs/sql/lib/python3.9/site-packages/geopandas/geodataframe.py:1442: UserWarning: Geometry column does not contain geometry.\n",
      "  warnings.warn(\"Geometry column does not contain geometry.\")\n",
      "/var/folders/2s/3b55fy1174l4bfchw66wdl800000gn/T/ipykernel_76809/2605401413.py:80: UserWarning: Geometry is in a geographic CRS. Results from 'area' are likely incorrect. Use 'GeoSeries.to_crs()' to re-project geometries to a projected CRS before this operation.\n",
      "\n",
      "  combined_isochrones['area'] = combined_isochrones['geometry'].area\n",
      "/Users/nabilersyad/miniconda3/envs/sql/lib/python3.9/site-packages/geopandas/geodataframe.py:1442: UserWarning: Geometry column does not contain geometry.\n",
      "  warnings.warn(\"Geometry column does not contain geometry.\")\n"
     ]
    },
    {
     "name": "stdout",
     "output_type": "stream",
     "text": [
      "updated 125\n",
      "combining isochrones\n",
      "updated 126\n",
      "generating isochrones\n"
     ]
    },
    {
     "name": "stderr",
     "output_type": "stream",
     "text": [
      "/var/folders/2s/3b55fy1174l4bfchw66wdl800000gn/T/ipykernel_76809/2605401413.py:47: UserWarning: Geometry is in a geographic CRS. Results from 'area' are likely incorrect. Use 'GeoSeries.to_crs()' to re-project geometries to a projected CRS before this operation.\n",
      "\n",
      "  gdf['area'] = gdf['geometry'].area\n",
      "/Users/nabilersyad/miniconda3/envs/sql/lib/python3.9/site-packages/geopandas/geodataframe.py:1442: UserWarning: Geometry column does not contain geometry.\n",
      "  warnings.warn(\"Geometry column does not contain geometry.\")\n",
      "/var/folders/2s/3b55fy1174l4bfchw66wdl800000gn/T/ipykernel_76809/2605401413.py:80: UserWarning: Geometry is in a geographic CRS. Results from 'area' are likely incorrect. Use 'GeoSeries.to_crs()' to re-project geometries to a projected CRS before this operation.\n",
      "\n",
      "  combined_isochrones['area'] = combined_isochrones['geometry'].area\n",
      "/Users/nabilersyad/miniconda3/envs/sql/lib/python3.9/site-packages/geopandas/geodataframe.py:1442: UserWarning: Geometry column does not contain geometry.\n",
      "  warnings.warn(\"Geometry column does not contain geometry.\")\n"
     ]
    },
    {
     "name": "stdout",
     "output_type": "stream",
     "text": [
      "updated 127\n",
      "combining isochrones\n",
      "updated 128\n",
      "generating isochrones\n"
     ]
    },
    {
     "name": "stderr",
     "output_type": "stream",
     "text": [
      "/var/folders/2s/3b55fy1174l4bfchw66wdl800000gn/T/ipykernel_76809/2605401413.py:47: UserWarning: Geometry is in a geographic CRS. Results from 'area' are likely incorrect. Use 'GeoSeries.to_crs()' to re-project geometries to a projected CRS before this operation.\n",
      "\n",
      "  gdf['area'] = gdf['geometry'].area\n",
      "/Users/nabilersyad/miniconda3/envs/sql/lib/python3.9/site-packages/geopandas/geodataframe.py:1442: UserWarning: Geometry column does not contain geometry.\n",
      "  warnings.warn(\"Geometry column does not contain geometry.\")\n",
      "/var/folders/2s/3b55fy1174l4bfchw66wdl800000gn/T/ipykernel_76809/2605401413.py:80: UserWarning: Geometry is in a geographic CRS. Results from 'area' are likely incorrect. Use 'GeoSeries.to_crs()' to re-project geometries to a projected CRS before this operation.\n",
      "\n",
      "  combined_isochrones['area'] = combined_isochrones['geometry'].area\n",
      "/Users/nabilersyad/miniconda3/envs/sql/lib/python3.9/site-packages/geopandas/geodataframe.py:1442: UserWarning: Geometry column does not contain geometry.\n",
      "  warnings.warn(\"Geometry column does not contain geometry.\")\n"
     ]
    },
    {
     "name": "stdout",
     "output_type": "stream",
     "text": [
      "updated 129\n",
      "combining isochrones\n",
      "updated 130\n",
      "generating isochrones\n"
     ]
    },
    {
     "name": "stderr",
     "output_type": "stream",
     "text": [
      "/var/folders/2s/3b55fy1174l4bfchw66wdl800000gn/T/ipykernel_76809/2605401413.py:47: UserWarning: Geometry is in a geographic CRS. Results from 'area' are likely incorrect. Use 'GeoSeries.to_crs()' to re-project geometries to a projected CRS before this operation.\n",
      "\n",
      "  gdf['area'] = gdf['geometry'].area\n",
      "/Users/nabilersyad/miniconda3/envs/sql/lib/python3.9/site-packages/geopandas/geodataframe.py:1442: UserWarning: Geometry column does not contain geometry.\n",
      "  warnings.warn(\"Geometry column does not contain geometry.\")\n"
     ]
    },
    {
     "name": "stdout",
     "output_type": "stream",
     "text": [
      "updated 131\n",
      "generating isochrones\n"
     ]
    },
    {
     "name": "stderr",
     "output_type": "stream",
     "text": [
      "/var/folders/2s/3b55fy1174l4bfchw66wdl800000gn/T/ipykernel_76809/2605401413.py:47: UserWarning: Geometry is in a geographic CRS. Results from 'area' are likely incorrect. Use 'GeoSeries.to_crs()' to re-project geometries to a projected CRS before this operation.\n",
      "\n",
      "  gdf['area'] = gdf['geometry'].area\n",
      "/Users/nabilersyad/miniconda3/envs/sql/lib/python3.9/site-packages/geopandas/geodataframe.py:1442: UserWarning: Geometry column does not contain geometry.\n",
      "  warnings.warn(\"Geometry column does not contain geometry.\")\n"
     ]
    },
    {
     "name": "stdout",
     "output_type": "stream",
     "text": [
      "updated 132\n",
      "generating isochrones\n"
     ]
    },
    {
     "name": "stderr",
     "output_type": "stream",
     "text": [
      "/Users/nabilersyad/miniconda3/envs/sql/lib/python3.9/site-packages/openrouteservice/client.py:211: UserWarning: Rate limit exceeded. Retrying for the 1st time.\n",
      "  warnings.warn('Rate limit exceeded. Retrying for the {0}{1} time.'.format(retry_counter + 1,\n",
      "/Users/nabilersyad/miniconda3/envs/sql/lib/python3.9/site-packages/openrouteservice/client.py:211: UserWarning: Rate limit exceeded. Retrying for the 2nd time.\n",
      "  warnings.warn('Rate limit exceeded. Retrying for the {0}{1} time.'.format(retry_counter + 1,\n",
      "/Users/nabilersyad/miniconda3/envs/sql/lib/python3.9/site-packages/openrouteservice/client.py:211: UserWarning: Rate limit exceeded. Retrying for the 3rd time.\n",
      "  warnings.warn('Rate limit exceeded. Retrying for the {0}{1} time.'.format(retry_counter + 1,\n",
      "/Users/nabilersyad/miniconda3/envs/sql/lib/python3.9/site-packages/openrouteservice/client.py:211: UserWarning: Rate limit exceeded. Retrying for the 4th time.\n",
      "  warnings.warn('Rate limit exceeded. Retrying for the {0}{1} time.'.format(retry_counter + 1,\n",
      "/Users/nabilersyad/miniconda3/envs/sql/lib/python3.9/site-packages/openrouteservice/client.py:211: UserWarning: Rate limit exceeded. Retrying for the 5th time.\n",
      "  warnings.warn('Rate limit exceeded. Retrying for the {0}{1} time.'.format(retry_counter + 1,\n",
      "/Users/nabilersyad/miniconda3/envs/sql/lib/python3.9/site-packages/openrouteservice/client.py:211: UserWarning: Rate limit exceeded. Retrying for the 6th time.\n",
      "  warnings.warn('Rate limit exceeded. Retrying for the {0}{1} time.'.format(retry_counter + 1,\n",
      "/Users/nabilersyad/miniconda3/envs/sql/lib/python3.9/site-packages/openrouteservice/client.py:211: UserWarning: Rate limit exceeded. Retrying for the 7th time.\n",
      "  warnings.warn('Rate limit exceeded. Retrying for the {0}{1} time.'.format(retry_counter + 1,\n",
      "/Users/nabilersyad/miniconda3/envs/sql/lib/python3.9/site-packages/openrouteservice/client.py:211: UserWarning: Rate limit exceeded. Retrying for the 8th time.\n",
      "  warnings.warn('Rate limit exceeded. Retrying for the {0}{1} time.'.format(retry_counter + 1,\n",
      "/var/folders/2s/3b55fy1174l4bfchw66wdl800000gn/T/ipykernel_76809/2605401413.py:47: UserWarning: Geometry is in a geographic CRS. Results from 'area' are likely incorrect. Use 'GeoSeries.to_crs()' to re-project geometries to a projected CRS before this operation.\n",
      "\n",
      "  gdf['area'] = gdf['geometry'].area\n",
      "/Users/nabilersyad/miniconda3/envs/sql/lib/python3.9/site-packages/geopandas/geodataframe.py:1442: UserWarning: Geometry column does not contain geometry.\n",
      "  warnings.warn(\"Geometry column does not contain geometry.\")\n"
     ]
    },
    {
     "name": "stdout",
     "output_type": "stream",
     "text": [
      "updated 133\n",
      "combining isochrones\n",
      "updated 134\n",
      "generating isochrones\n"
     ]
    },
    {
     "name": "stderr",
     "output_type": "stream",
     "text": [
      "/var/folders/2s/3b55fy1174l4bfchw66wdl800000gn/T/ipykernel_76809/2605401413.py:80: UserWarning: Geometry is in a geographic CRS. Results from 'area' are likely incorrect. Use 'GeoSeries.to_crs()' to re-project geometries to a projected CRS before this operation.\n",
      "\n",
      "  combined_isochrones['area'] = combined_isochrones['geometry'].area\n",
      "/Users/nabilersyad/miniconda3/envs/sql/lib/python3.9/site-packages/geopandas/geodataframe.py:1442: UserWarning: Geometry column does not contain geometry.\n",
      "  warnings.warn(\"Geometry column does not contain geometry.\")\n",
      "/var/folders/2s/3b55fy1174l4bfchw66wdl800000gn/T/ipykernel_76809/2605401413.py:47: UserWarning: Geometry is in a geographic CRS. Results from 'area' are likely incorrect. Use 'GeoSeries.to_crs()' to re-project geometries to a projected CRS before this operation.\n",
      "\n",
      "  gdf['area'] = gdf['geometry'].area\n",
      "/Users/nabilersyad/miniconda3/envs/sql/lib/python3.9/site-packages/geopandas/geodataframe.py:1442: UserWarning: Geometry column does not contain geometry.\n",
      "  warnings.warn(\"Geometry column does not contain geometry.\")\n"
     ]
    },
    {
     "name": "stdout",
     "output_type": "stream",
     "text": [
      "updated 135\n",
      "generating isochrones\n"
     ]
    },
    {
     "name": "stderr",
     "output_type": "stream",
     "text": [
      "/var/folders/2s/3b55fy1174l4bfchw66wdl800000gn/T/ipykernel_76809/2605401413.py:47: UserWarning: Geometry is in a geographic CRS. Results from 'area' are likely incorrect. Use 'GeoSeries.to_crs()' to re-project geometries to a projected CRS before this operation.\n",
      "\n",
      "  gdf['area'] = gdf['geometry'].area\n",
      "/Users/nabilersyad/miniconda3/envs/sql/lib/python3.9/site-packages/geopandas/geodataframe.py:1442: UserWarning: Geometry column does not contain geometry.\n",
      "  warnings.warn(\"Geometry column does not contain geometry.\")\n"
     ]
    },
    {
     "name": "stdout",
     "output_type": "stream",
     "text": [
      "updated 136\n",
      "generating isochrones\n"
     ]
    },
    {
     "name": "stderr",
     "output_type": "stream",
     "text": [
      "/var/folders/2s/3b55fy1174l4bfchw66wdl800000gn/T/ipykernel_76809/2605401413.py:47: UserWarning: Geometry is in a geographic CRS. Results from 'area' are likely incorrect. Use 'GeoSeries.to_crs()' to re-project geometries to a projected CRS before this operation.\n",
      "\n",
      "  gdf['area'] = gdf['geometry'].area\n",
      "/Users/nabilersyad/miniconda3/envs/sql/lib/python3.9/site-packages/geopandas/geodataframe.py:1442: UserWarning: Geometry column does not contain geometry.\n",
      "  warnings.warn(\"Geometry column does not contain geometry.\")\n"
     ]
    },
    {
     "name": "stdout",
     "output_type": "stream",
     "text": [
      "updated 137\n",
      "generating isochrones\n"
     ]
    },
    {
     "name": "stderr",
     "output_type": "stream",
     "text": [
      "/var/folders/2s/3b55fy1174l4bfchw66wdl800000gn/T/ipykernel_76809/2605401413.py:47: UserWarning: Geometry is in a geographic CRS. Results from 'area' are likely incorrect. Use 'GeoSeries.to_crs()' to re-project geometries to a projected CRS before this operation.\n",
      "\n",
      "  gdf['area'] = gdf['geometry'].area\n",
      "/Users/nabilersyad/miniconda3/envs/sql/lib/python3.9/site-packages/geopandas/geodataframe.py:1442: UserWarning: Geometry column does not contain geometry.\n",
      "  warnings.warn(\"Geometry column does not contain geometry.\")\n",
      "/var/folders/2s/3b55fy1174l4bfchw66wdl800000gn/T/ipykernel_76809/2605401413.py:80: UserWarning: Geometry is in a geographic CRS. Results from 'area' are likely incorrect. Use 'GeoSeries.to_crs()' to re-project geometries to a projected CRS before this operation.\n",
      "\n",
      "  combined_isochrones['area'] = combined_isochrones['geometry'].area\n",
      "/Users/nabilersyad/miniconda3/envs/sql/lib/python3.9/site-packages/geopandas/geodataframe.py:1442: UserWarning: Geometry column does not contain geometry.\n",
      "  warnings.warn(\"Geometry column does not contain geometry.\")\n"
     ]
    },
    {
     "name": "stdout",
     "output_type": "stream",
     "text": [
      "updated 138\n",
      "combining isochrones\n",
      "updated 139\n",
      "generating isochrones\n"
     ]
    },
    {
     "name": "stderr",
     "output_type": "stream",
     "text": [
      "/var/folders/2s/3b55fy1174l4bfchw66wdl800000gn/T/ipykernel_76809/2605401413.py:47: UserWarning: Geometry is in a geographic CRS. Results from 'area' are likely incorrect. Use 'GeoSeries.to_crs()' to re-project geometries to a projected CRS before this operation.\n",
      "\n",
      "  gdf['area'] = gdf['geometry'].area\n",
      "/Users/nabilersyad/miniconda3/envs/sql/lib/python3.9/site-packages/geopandas/geodataframe.py:1442: UserWarning: Geometry column does not contain geometry.\n",
      "  warnings.warn(\"Geometry column does not contain geometry.\")\n",
      "/var/folders/2s/3b55fy1174l4bfchw66wdl800000gn/T/ipykernel_76809/2605401413.py:80: UserWarning: Geometry is in a geographic CRS. Results from 'area' are likely incorrect. Use 'GeoSeries.to_crs()' to re-project geometries to a projected CRS before this operation.\n",
      "\n",
      "  combined_isochrones['area'] = combined_isochrones['geometry'].area\n",
      "/Users/nabilersyad/miniconda3/envs/sql/lib/python3.9/site-packages/geopandas/geodataframe.py:1442: UserWarning: Geometry column does not contain geometry.\n",
      "  warnings.warn(\"Geometry column does not contain geometry.\")\n"
     ]
    },
    {
     "name": "stdout",
     "output_type": "stream",
     "text": [
      "updated 140\n",
      "combining isochrones\n",
      "updated 141\n",
      "generating isochrones\n"
     ]
    },
    {
     "name": "stderr",
     "output_type": "stream",
     "text": [
      "/var/folders/2s/3b55fy1174l4bfchw66wdl800000gn/T/ipykernel_76809/2605401413.py:47: UserWarning: Geometry is in a geographic CRS. Results from 'area' are likely incorrect. Use 'GeoSeries.to_crs()' to re-project geometries to a projected CRS before this operation.\n",
      "\n",
      "  gdf['area'] = gdf['geometry'].area\n",
      "/Users/nabilersyad/miniconda3/envs/sql/lib/python3.9/site-packages/geopandas/geodataframe.py:1442: UserWarning: Geometry column does not contain geometry.\n",
      "  warnings.warn(\"Geometry column does not contain geometry.\")\n",
      "/var/folders/2s/3b55fy1174l4bfchw66wdl800000gn/T/ipykernel_76809/2605401413.py:80: UserWarning: Geometry is in a geographic CRS. Results from 'area' are likely incorrect. Use 'GeoSeries.to_crs()' to re-project geometries to a projected CRS before this operation.\n",
      "\n",
      "  combined_isochrones['area'] = combined_isochrones['geometry'].area\n",
      "/Users/nabilersyad/miniconda3/envs/sql/lib/python3.9/site-packages/geopandas/geodataframe.py:1442: UserWarning: Geometry column does not contain geometry.\n",
      "  warnings.warn(\"Geometry column does not contain geometry.\")\n"
     ]
    },
    {
     "name": "stdout",
     "output_type": "stream",
     "text": [
      "updated 142\n",
      "combining isochrones\n",
      "updated 143\n",
      "generating isochrones\n"
     ]
    },
    {
     "name": "stderr",
     "output_type": "stream",
     "text": [
      "/var/folders/2s/3b55fy1174l4bfchw66wdl800000gn/T/ipykernel_76809/2605401413.py:47: UserWarning: Geometry is in a geographic CRS. Results from 'area' are likely incorrect. Use 'GeoSeries.to_crs()' to re-project geometries to a projected CRS before this operation.\n",
      "\n",
      "  gdf['area'] = gdf['geometry'].area\n",
      "/Users/nabilersyad/miniconda3/envs/sql/lib/python3.9/site-packages/geopandas/geodataframe.py:1442: UserWarning: Geometry column does not contain geometry.\n",
      "  warnings.warn(\"Geometry column does not contain geometry.\")\n"
     ]
    },
    {
     "name": "stdout",
     "output_type": "stream",
     "text": [
      "updated 144\n",
      "generating isochrones\n"
     ]
    },
    {
     "name": "stderr",
     "output_type": "stream",
     "text": [
      "/var/folders/2s/3b55fy1174l4bfchw66wdl800000gn/T/ipykernel_76809/2605401413.py:47: UserWarning: Geometry is in a geographic CRS. Results from 'area' are likely incorrect. Use 'GeoSeries.to_crs()' to re-project geometries to a projected CRS before this operation.\n",
      "\n",
      "  gdf['area'] = gdf['geometry'].area\n",
      "/Users/nabilersyad/miniconda3/envs/sql/lib/python3.9/site-packages/geopandas/geodataframe.py:1442: UserWarning: Geometry column does not contain geometry.\n",
      "  warnings.warn(\"Geometry column does not contain geometry.\")\n"
     ]
    },
    {
     "name": "stdout",
     "output_type": "stream",
     "text": [
      "updated 145\n",
      "generating isochrones\n"
     ]
    },
    {
     "name": "stderr",
     "output_type": "stream",
     "text": [
      "/var/folders/2s/3b55fy1174l4bfchw66wdl800000gn/T/ipykernel_76809/2605401413.py:47: UserWarning: Geometry is in a geographic CRS. Results from 'area' are likely incorrect. Use 'GeoSeries.to_crs()' to re-project geometries to a projected CRS before this operation.\n",
      "\n",
      "  gdf['area'] = gdf['geometry'].area\n",
      "/Users/nabilersyad/miniconda3/envs/sql/lib/python3.9/site-packages/geopandas/geodataframe.py:1442: UserWarning: Geometry column does not contain geometry.\n",
      "  warnings.warn(\"Geometry column does not contain geometry.\")\n"
     ]
    },
    {
     "name": "stdout",
     "output_type": "stream",
     "text": [
      "updated 146\n",
      "generating isochrones\n"
     ]
    },
    {
     "name": "stderr",
     "output_type": "stream",
     "text": [
      "/var/folders/2s/3b55fy1174l4bfchw66wdl800000gn/T/ipykernel_76809/2605401413.py:47: UserWarning: Geometry is in a geographic CRS. Results from 'area' are likely incorrect. Use 'GeoSeries.to_crs()' to re-project geometries to a projected CRS before this operation.\n",
      "\n",
      "  gdf['area'] = gdf['geometry'].area\n",
      "/Users/nabilersyad/miniconda3/envs/sql/lib/python3.9/site-packages/geopandas/geodataframe.py:1442: UserWarning: Geometry column does not contain geometry.\n",
      "  warnings.warn(\"Geometry column does not contain geometry.\")\n"
     ]
    },
    {
     "name": "stdout",
     "output_type": "stream",
     "text": [
      "updated 147\n",
      "generating isochrones\n"
     ]
    },
    {
     "name": "stderr",
     "output_type": "stream",
     "text": [
      "/var/folders/2s/3b55fy1174l4bfchw66wdl800000gn/T/ipykernel_76809/2605401413.py:47: UserWarning: Geometry is in a geographic CRS. Results from 'area' are likely incorrect. Use 'GeoSeries.to_crs()' to re-project geometries to a projected CRS before this operation.\n",
      "\n",
      "  gdf['area'] = gdf['geometry'].area\n",
      "/Users/nabilersyad/miniconda3/envs/sql/lib/python3.9/site-packages/geopandas/geodataframe.py:1442: UserWarning: Geometry column does not contain geometry.\n",
      "  warnings.warn(\"Geometry column does not contain geometry.\")\n"
     ]
    },
    {
     "name": "stdout",
     "output_type": "stream",
     "text": [
      "updated 148\n",
      "generating isochrones\n"
     ]
    },
    {
     "name": "stderr",
     "output_type": "stream",
     "text": [
      "/var/folders/2s/3b55fy1174l4bfchw66wdl800000gn/T/ipykernel_76809/2605401413.py:47: UserWarning: Geometry is in a geographic CRS. Results from 'area' are likely incorrect. Use 'GeoSeries.to_crs()' to re-project geometries to a projected CRS before this operation.\n",
      "\n",
      "  gdf['area'] = gdf['geometry'].area\n",
      "/Users/nabilersyad/miniconda3/envs/sql/lib/python3.9/site-packages/geopandas/geodataframe.py:1442: UserWarning: Geometry column does not contain geometry.\n",
      "  warnings.warn(\"Geometry column does not contain geometry.\")\n"
     ]
    },
    {
     "name": "stdout",
     "output_type": "stream",
     "text": [
      "updated 149\n",
      "generating isochrones\n"
     ]
    },
    {
     "name": "stderr",
     "output_type": "stream",
     "text": [
      "/var/folders/2s/3b55fy1174l4bfchw66wdl800000gn/T/ipykernel_76809/2605401413.py:47: UserWarning: Geometry is in a geographic CRS. Results from 'area' are likely incorrect. Use 'GeoSeries.to_crs()' to re-project geometries to a projected CRS before this operation.\n",
      "\n",
      "  gdf['area'] = gdf['geometry'].area\n",
      "/Users/nabilersyad/miniconda3/envs/sql/lib/python3.9/site-packages/geopandas/geodataframe.py:1442: UserWarning: Geometry column does not contain geometry.\n",
      "  warnings.warn(\"Geometry column does not contain geometry.\")\n"
     ]
    },
    {
     "name": "stdout",
     "output_type": "stream",
     "text": [
      "updated 150\n",
      "generating isochrones\n"
     ]
    },
    {
     "name": "stderr",
     "output_type": "stream",
     "text": [
      "/Users/nabilersyad/miniconda3/envs/sql/lib/python3.9/site-packages/openrouteservice/client.py:211: UserWarning: Rate limit exceeded. Retrying for the 1st time.\n",
      "  warnings.warn('Rate limit exceeded. Retrying for the {0}{1} time.'.format(retry_counter + 1,\n",
      "/Users/nabilersyad/miniconda3/envs/sql/lib/python3.9/site-packages/openrouteservice/client.py:211: UserWarning: Rate limit exceeded. Retrying for the 2nd time.\n",
      "  warnings.warn('Rate limit exceeded. Retrying for the {0}{1} time.'.format(retry_counter + 1,\n",
      "/Users/nabilersyad/miniconda3/envs/sql/lib/python3.9/site-packages/openrouteservice/client.py:211: UserWarning: Rate limit exceeded. Retrying for the 3rd time.\n",
      "  warnings.warn('Rate limit exceeded. Retrying for the {0}{1} time.'.format(retry_counter + 1,\n",
      "/Users/nabilersyad/miniconda3/envs/sql/lib/python3.9/site-packages/openrouteservice/client.py:211: UserWarning: Rate limit exceeded. Retrying for the 4th time.\n",
      "  warnings.warn('Rate limit exceeded. Retrying for the {0}{1} time.'.format(retry_counter + 1,\n",
      "/Users/nabilersyad/miniconda3/envs/sql/lib/python3.9/site-packages/openrouteservice/client.py:211: UserWarning: Rate limit exceeded. Retrying for the 5th time.\n",
      "  warnings.warn('Rate limit exceeded. Retrying for the {0}{1} time.'.format(retry_counter + 1,\n",
      "/Users/nabilersyad/miniconda3/envs/sql/lib/python3.9/site-packages/openrouteservice/client.py:211: UserWarning: Rate limit exceeded. Retrying for the 6th time.\n",
      "  warnings.warn('Rate limit exceeded. Retrying for the {0}{1} time.'.format(retry_counter + 1,\n",
      "/Users/nabilersyad/miniconda3/envs/sql/lib/python3.9/site-packages/openrouteservice/client.py:211: UserWarning: Rate limit exceeded. Retrying for the 7th time.\n",
      "  warnings.warn('Rate limit exceeded. Retrying for the {0}{1} time.'.format(retry_counter + 1,\n",
      "/Users/nabilersyad/miniconda3/envs/sql/lib/python3.9/site-packages/openrouteservice/client.py:211: UserWarning: Rate limit exceeded. Retrying for the 8th time.\n",
      "  warnings.warn('Rate limit exceeded. Retrying for the {0}{1} time.'.format(retry_counter + 1,\n",
      "/Users/nabilersyad/miniconda3/envs/sql/lib/python3.9/site-packages/openrouteservice/client.py:211: UserWarning: Rate limit exceeded. Retrying for the 9th time.\n",
      "  warnings.warn('Rate limit exceeded. Retrying for the {0}{1} time.'.format(retry_counter + 1,\n",
      "/var/folders/2s/3b55fy1174l4bfchw66wdl800000gn/T/ipykernel_76809/2605401413.py:47: UserWarning: Geometry is in a geographic CRS. Results from 'area' are likely incorrect. Use 'GeoSeries.to_crs()' to re-project geometries to a projected CRS before this operation.\n",
      "\n",
      "  gdf['area'] = gdf['geometry'].area\n",
      "/Users/nabilersyad/miniconda3/envs/sql/lib/python3.9/site-packages/geopandas/geodataframe.py:1442: UserWarning: Geometry column does not contain geometry.\n",
      "  warnings.warn(\"Geometry column does not contain geometry.\")\n"
     ]
    },
    {
     "name": "stdout",
     "output_type": "stream",
     "text": [
      "updated 151\n",
      "generating isochrones\n"
     ]
    },
    {
     "name": "stderr",
     "output_type": "stream",
     "text": [
      "/var/folders/2s/3b55fy1174l4bfchw66wdl800000gn/T/ipykernel_76809/2605401413.py:47: UserWarning: Geometry is in a geographic CRS. Results from 'area' are likely incorrect. Use 'GeoSeries.to_crs()' to re-project geometries to a projected CRS before this operation.\n",
      "\n",
      "  gdf['area'] = gdf['geometry'].area\n",
      "/Users/nabilersyad/miniconda3/envs/sql/lib/python3.9/site-packages/geopandas/geodataframe.py:1442: UserWarning: Geometry column does not contain geometry.\n",
      "  warnings.warn(\"Geometry column does not contain geometry.\")\n",
      "/var/folders/2s/3b55fy1174l4bfchw66wdl800000gn/T/ipykernel_76809/2605401413.py:80: UserWarning: Geometry is in a geographic CRS. Results from 'area' are likely incorrect. Use 'GeoSeries.to_crs()' to re-project geometries to a projected CRS before this operation.\n",
      "\n",
      "  combined_isochrones['area'] = combined_isochrones['geometry'].area\n",
      "/Users/nabilersyad/miniconda3/envs/sql/lib/python3.9/site-packages/geopandas/geodataframe.py:1442: UserWarning: Geometry column does not contain geometry.\n",
      "  warnings.warn(\"Geometry column does not contain geometry.\")\n",
      "/var/folders/2s/3b55fy1174l4bfchw66wdl800000gn/T/ipykernel_76809/2605401413.py:80: UserWarning: Geometry is in a geographic CRS. Results from 'area' are likely incorrect. Use 'GeoSeries.to_crs()' to re-project geometries to a projected CRS before this operation.\n",
      "\n",
      "  combined_isochrones['area'] = combined_isochrones['geometry'].area\n",
      "/Users/nabilersyad/miniconda3/envs/sql/lib/python3.9/site-packages/geopandas/geodataframe.py:1442: UserWarning: Geometry column does not contain geometry.\n",
      "  warnings.warn(\"Geometry column does not contain geometry.\")\n"
     ]
    },
    {
     "name": "stdout",
     "output_type": "stream",
     "text": [
      "updated 152\n",
      "combining isochrones\n",
      "updated 153\n",
      "combining isochrones\n",
      "updated 154\n",
      "combining isochrones\n"
     ]
    },
    {
     "name": "stderr",
     "output_type": "stream",
     "text": [
      "/var/folders/2s/3b55fy1174l4bfchw66wdl800000gn/T/ipykernel_76809/2605401413.py:80: UserWarning: Geometry is in a geographic CRS. Results from 'area' are likely incorrect. Use 'GeoSeries.to_crs()' to re-project geometries to a projected CRS before this operation.\n",
      "\n",
      "  combined_isochrones['area'] = combined_isochrones['geometry'].area\n",
      "/Users/nabilersyad/miniconda3/envs/sql/lib/python3.9/site-packages/geopandas/geodataframe.py:1442: UserWarning: Geometry column does not contain geometry.\n",
      "  warnings.warn(\"Geometry column does not contain geometry.\")\n",
      "/var/folders/2s/3b55fy1174l4bfchw66wdl800000gn/T/ipykernel_76809/2605401413.py:80: UserWarning: Geometry is in a geographic CRS. Results from 'area' are likely incorrect. Use 'GeoSeries.to_crs()' to re-project geometries to a projected CRS before this operation.\n",
      "\n",
      "  combined_isochrones['area'] = combined_isochrones['geometry'].area\n",
      "/Users/nabilersyad/miniconda3/envs/sql/lib/python3.9/site-packages/geopandas/geodataframe.py:1442: UserWarning: Geometry column does not contain geometry.\n",
      "  warnings.warn(\"Geometry column does not contain geometry.\")\n",
      "/var/folders/2s/3b55fy1174l4bfchw66wdl800000gn/T/ipykernel_76809/2605401413.py:80: UserWarning: Geometry is in a geographic CRS. Results from 'area' are likely incorrect. Use 'GeoSeries.to_crs()' to re-project geometries to a projected CRS before this operation.\n",
      "\n",
      "  combined_isochrones['area'] = combined_isochrones['geometry'].area\n",
      "/Users/nabilersyad/miniconda3/envs/sql/lib/python3.9/site-packages/geopandas/geodataframe.py:1442: UserWarning: Geometry column does not contain geometry.\n",
      "  warnings.warn(\"Geometry column does not contain geometry.\")\n",
      "/var/folders/2s/3b55fy1174l4bfchw66wdl800000gn/T/ipykernel_76809/2605401413.py:80: UserWarning: Geometry is in a geographic CRS. Results from 'area' are likely incorrect. Use 'GeoSeries.to_crs()' to re-project geometries to a projected CRS before this operation.\n",
      "\n",
      "  combined_isochrones['area'] = combined_isochrones['geometry'].area\n",
      "/Users/nabilersyad/miniconda3/envs/sql/lib/python3.9/site-packages/geopandas/geodataframe.py:1442: UserWarning: Geometry column does not contain geometry.\n",
      "  warnings.warn(\"Geometry column does not contain geometry.\")\n"
     ]
    },
    {
     "name": "stdout",
     "output_type": "stream",
     "text": [
      "updated 155\n",
      "combining isochrones\n",
      "updated 156\n",
      "combining isochrones\n",
      "updated 157\n",
      "combining isochrones\n",
      "updated 158\n",
      "combining isochrones\n",
      "updated 159\n",
      "combining isochrones\n",
      "updated 160\n",
      "combining isochrones\n",
      "updated 161\n",
      "combining isochrones\n"
     ]
    },
    {
     "name": "stderr",
     "output_type": "stream",
     "text": [
      "/var/folders/2s/3b55fy1174l4bfchw66wdl800000gn/T/ipykernel_76809/2605401413.py:80: UserWarning: Geometry is in a geographic CRS. Results from 'area' are likely incorrect. Use 'GeoSeries.to_crs()' to re-project geometries to a projected CRS before this operation.\n",
      "\n",
      "  combined_isochrones['area'] = combined_isochrones['geometry'].area\n",
      "/Users/nabilersyad/miniconda3/envs/sql/lib/python3.9/site-packages/geopandas/geodataframe.py:1442: UserWarning: Geometry column does not contain geometry.\n",
      "  warnings.warn(\"Geometry column does not contain geometry.\")\n",
      "/var/folders/2s/3b55fy1174l4bfchw66wdl800000gn/T/ipykernel_76809/2605401413.py:80: UserWarning: Geometry is in a geographic CRS. Results from 'area' are likely incorrect. Use 'GeoSeries.to_crs()' to re-project geometries to a projected CRS before this operation.\n",
      "\n",
      "  combined_isochrones['area'] = combined_isochrones['geometry'].area\n",
      "/Users/nabilersyad/miniconda3/envs/sql/lib/python3.9/site-packages/geopandas/geodataframe.py:1442: UserWarning: Geometry column does not contain geometry.\n",
      "  warnings.warn(\"Geometry column does not contain geometry.\")\n",
      "/var/folders/2s/3b55fy1174l4bfchw66wdl800000gn/T/ipykernel_76809/2605401413.py:80: UserWarning: Geometry is in a geographic CRS. Results from 'area' are likely incorrect. Use 'GeoSeries.to_crs()' to re-project geometries to a projected CRS before this operation.\n",
      "\n",
      "  combined_isochrones['area'] = combined_isochrones['geometry'].area\n",
      "/Users/nabilersyad/miniconda3/envs/sql/lib/python3.9/site-packages/geopandas/geodataframe.py:1442: UserWarning: Geometry column does not contain geometry.\n",
      "  warnings.warn(\"Geometry column does not contain geometry.\")\n",
      "/var/folders/2s/3b55fy1174l4bfchw66wdl800000gn/T/ipykernel_76809/2605401413.py:80: UserWarning: Geometry is in a geographic CRS. Results from 'area' are likely incorrect. Use 'GeoSeries.to_crs()' to re-project geometries to a projected CRS before this operation.\n",
      "\n",
      "  combined_isochrones['area'] = combined_isochrones['geometry'].area\n",
      "/Users/nabilersyad/miniconda3/envs/sql/lib/python3.9/site-packages/geopandas/geodataframe.py:1442: UserWarning: Geometry column does not contain geometry.\n",
      "  warnings.warn(\"Geometry column does not contain geometry.\")\n"
     ]
    },
    {
     "name": "stdout",
     "output_type": "stream",
     "text": [
      "updated 162\n",
      "combining isochrones\n",
      "updated 163\n",
      "combining isochrones\n",
      "updated 164\n",
      "combining isochrones\n",
      "updated 165\n",
      "combining isochrones\n"
     ]
    },
    {
     "name": "stderr",
     "output_type": "stream",
     "text": [
      "/var/folders/2s/3b55fy1174l4bfchw66wdl800000gn/T/ipykernel_76809/2605401413.py:80: UserWarning: Geometry is in a geographic CRS. Results from 'area' are likely incorrect. Use 'GeoSeries.to_crs()' to re-project geometries to a projected CRS before this operation.\n",
      "\n",
      "  combined_isochrones['area'] = combined_isochrones['geometry'].area\n",
      "/Users/nabilersyad/miniconda3/envs/sql/lib/python3.9/site-packages/geopandas/geodataframe.py:1442: UserWarning: Geometry column does not contain geometry.\n",
      "  warnings.warn(\"Geometry column does not contain geometry.\")\n",
      "/var/folders/2s/3b55fy1174l4bfchw66wdl800000gn/T/ipykernel_76809/2605401413.py:80: UserWarning: Geometry is in a geographic CRS. Results from 'area' are likely incorrect. Use 'GeoSeries.to_crs()' to re-project geometries to a projected CRS before this operation.\n",
      "\n",
      "  combined_isochrones['area'] = combined_isochrones['geometry'].area\n",
      "/Users/nabilersyad/miniconda3/envs/sql/lib/python3.9/site-packages/geopandas/geodataframe.py:1442: UserWarning: Geometry column does not contain geometry.\n",
      "  warnings.warn(\"Geometry column does not contain geometry.\")\n",
      "/var/folders/2s/3b55fy1174l4bfchw66wdl800000gn/T/ipykernel_76809/2605401413.py:80: UserWarning: Geometry is in a geographic CRS. Results from 'area' are likely incorrect. Use 'GeoSeries.to_crs()' to re-project geometries to a projected CRS before this operation.\n",
      "\n",
      "  combined_isochrones['area'] = combined_isochrones['geometry'].area\n",
      "/Users/nabilersyad/miniconda3/envs/sql/lib/python3.9/site-packages/geopandas/geodataframe.py:1442: UserWarning: Geometry column does not contain geometry.\n",
      "  warnings.warn(\"Geometry column does not contain geometry.\")\n",
      "/var/folders/2s/3b55fy1174l4bfchw66wdl800000gn/T/ipykernel_76809/2605401413.py:80: UserWarning: Geometry is in a geographic CRS. Results from 'area' are likely incorrect. Use 'GeoSeries.to_crs()' to re-project geometries to a projected CRS before this operation.\n",
      "\n",
      "  combined_isochrones['area'] = combined_isochrones['geometry'].area\n",
      "/Users/nabilersyad/miniconda3/envs/sql/lib/python3.9/site-packages/geopandas/geodataframe.py:1442: UserWarning: Geometry column does not contain geometry.\n",
      "  warnings.warn(\"Geometry column does not contain geometry.\")\n"
     ]
    },
    {
     "name": "stdout",
     "output_type": "stream",
     "text": [
      "updated 166\n",
      "combining isochrones\n",
      "updated 167\n",
      "combining isochrones\n",
      "updated 168\n",
      "combining isochrones\n",
      "updated 169\n",
      "combining isochrones\n"
     ]
    },
    {
     "name": "stderr",
     "output_type": "stream",
     "text": [
      "/var/folders/2s/3b55fy1174l4bfchw66wdl800000gn/T/ipykernel_76809/2605401413.py:80: UserWarning: Geometry is in a geographic CRS. Results from 'area' are likely incorrect. Use 'GeoSeries.to_crs()' to re-project geometries to a projected CRS before this operation.\n",
      "\n",
      "  combined_isochrones['area'] = combined_isochrones['geometry'].area\n",
      "/Users/nabilersyad/miniconda3/envs/sql/lib/python3.9/site-packages/geopandas/geodataframe.py:1442: UserWarning: Geometry column does not contain geometry.\n",
      "  warnings.warn(\"Geometry column does not contain geometry.\")\n",
      "/var/folders/2s/3b55fy1174l4bfchw66wdl800000gn/T/ipykernel_76809/2605401413.py:80: UserWarning: Geometry is in a geographic CRS. Results from 'area' are likely incorrect. Use 'GeoSeries.to_crs()' to re-project geometries to a projected CRS before this operation.\n",
      "\n",
      "  combined_isochrones['area'] = combined_isochrones['geometry'].area\n",
      "/Users/nabilersyad/miniconda3/envs/sql/lib/python3.9/site-packages/geopandas/geodataframe.py:1442: UserWarning: Geometry column does not contain geometry.\n",
      "  warnings.warn(\"Geometry column does not contain geometry.\")\n",
      "/var/folders/2s/3b55fy1174l4bfchw66wdl800000gn/T/ipykernel_76809/2605401413.py:80: UserWarning: Geometry is in a geographic CRS. Results from 'area' are likely incorrect. Use 'GeoSeries.to_crs()' to re-project geometries to a projected CRS before this operation.\n",
      "\n",
      "  combined_isochrones['area'] = combined_isochrones['geometry'].area\n",
      "/Users/nabilersyad/miniconda3/envs/sql/lib/python3.9/site-packages/geopandas/geodataframe.py:1442: UserWarning: Geometry column does not contain geometry.\n",
      "  warnings.warn(\"Geometry column does not contain geometry.\")\n",
      "/var/folders/2s/3b55fy1174l4bfchw66wdl800000gn/T/ipykernel_76809/2605401413.py:80: UserWarning: Geometry is in a geographic CRS. Results from 'area' are likely incorrect. Use 'GeoSeries.to_crs()' to re-project geometries to a projected CRS before this operation.\n",
      "\n",
      "  combined_isochrones['area'] = combined_isochrones['geometry'].area\n",
      "/Users/nabilersyad/miniconda3/envs/sql/lib/python3.9/site-packages/geopandas/geodataframe.py:1442: UserWarning: Geometry column does not contain geometry.\n",
      "  warnings.warn(\"Geometry column does not contain geometry.\")\n"
     ]
    },
    {
     "name": "stdout",
     "output_type": "stream",
     "text": [
      "updated 170\n",
      "combining isochrones\n",
      "updated 171\n",
      "combining isochrones\n",
      "updated 172\n",
      "combining isochrones\n",
      "updated 173\n",
      "combining isochrones\n"
     ]
    },
    {
     "name": "stderr",
     "output_type": "stream",
     "text": [
      "/var/folders/2s/3b55fy1174l4bfchw66wdl800000gn/T/ipykernel_76809/2605401413.py:80: UserWarning: Geometry is in a geographic CRS. Results from 'area' are likely incorrect. Use 'GeoSeries.to_crs()' to re-project geometries to a projected CRS before this operation.\n",
      "\n",
      "  combined_isochrones['area'] = combined_isochrones['geometry'].area\n",
      "/Users/nabilersyad/miniconda3/envs/sql/lib/python3.9/site-packages/geopandas/geodataframe.py:1442: UserWarning: Geometry column does not contain geometry.\n",
      "  warnings.warn(\"Geometry column does not contain geometry.\")\n",
      "/var/folders/2s/3b55fy1174l4bfchw66wdl800000gn/T/ipykernel_76809/2605401413.py:80: UserWarning: Geometry is in a geographic CRS. Results from 'area' are likely incorrect. Use 'GeoSeries.to_crs()' to re-project geometries to a projected CRS before this operation.\n",
      "\n",
      "  combined_isochrones['area'] = combined_isochrones['geometry'].area\n",
      "/Users/nabilersyad/miniconda3/envs/sql/lib/python3.9/site-packages/geopandas/geodataframe.py:1442: UserWarning: Geometry column does not contain geometry.\n",
      "  warnings.warn(\"Geometry column does not contain geometry.\")\n",
      "/var/folders/2s/3b55fy1174l4bfchw66wdl800000gn/T/ipykernel_76809/2605401413.py:80: UserWarning: Geometry is in a geographic CRS. Results from 'area' are likely incorrect. Use 'GeoSeries.to_crs()' to re-project geometries to a projected CRS before this operation.\n",
      "\n",
      "  combined_isochrones['area'] = combined_isochrones['geometry'].area\n",
      "/Users/nabilersyad/miniconda3/envs/sql/lib/python3.9/site-packages/geopandas/geodataframe.py:1442: UserWarning: Geometry column does not contain geometry.\n",
      "  warnings.warn(\"Geometry column does not contain geometry.\")\n",
      "/var/folders/2s/3b55fy1174l4bfchw66wdl800000gn/T/ipykernel_76809/2605401413.py:80: UserWarning: Geometry is in a geographic CRS. Results from 'area' are likely incorrect. Use 'GeoSeries.to_crs()' to re-project geometries to a projected CRS before this operation.\n",
      "\n",
      "  combined_isochrones['area'] = combined_isochrones['geometry'].area\n",
      "/Users/nabilersyad/miniconda3/envs/sql/lib/python3.9/site-packages/geopandas/geodataframe.py:1442: UserWarning: Geometry column does not contain geometry.\n",
      "  warnings.warn(\"Geometry column does not contain geometry.\")\n"
     ]
    },
    {
     "name": "stdout",
     "output_type": "stream",
     "text": [
      "updated 174\n",
      "combining isochrones\n",
      "updated 175\n",
      "combining isochrones\n",
      "updated 176\n",
      "combining isochrones\n"
     ]
    },
    {
     "name": "stderr",
     "output_type": "stream",
     "text": [
      "/var/folders/2s/3b55fy1174l4bfchw66wdl800000gn/T/ipykernel_76809/2605401413.py:80: UserWarning: Geometry is in a geographic CRS. Results from 'area' are likely incorrect. Use 'GeoSeries.to_crs()' to re-project geometries to a projected CRS before this operation.\n",
      "\n",
      "  combined_isochrones['area'] = combined_isochrones['geometry'].area\n",
      "/Users/nabilersyad/miniconda3/envs/sql/lib/python3.9/site-packages/geopandas/geodataframe.py:1442: UserWarning: Geometry column does not contain geometry.\n",
      "  warnings.warn(\"Geometry column does not contain geometry.\")\n",
      "/var/folders/2s/3b55fy1174l4bfchw66wdl800000gn/T/ipykernel_76809/2605401413.py:80: UserWarning: Geometry is in a geographic CRS. Results from 'area' are likely incorrect. Use 'GeoSeries.to_crs()' to re-project geometries to a projected CRS before this operation.\n",
      "\n",
      "  combined_isochrones['area'] = combined_isochrones['geometry'].area\n",
      "/Users/nabilersyad/miniconda3/envs/sql/lib/python3.9/site-packages/geopandas/geodataframe.py:1442: UserWarning: Geometry column does not contain geometry.\n",
      "  warnings.warn(\"Geometry column does not contain geometry.\")\n",
      "/var/folders/2s/3b55fy1174l4bfchw66wdl800000gn/T/ipykernel_76809/2605401413.py:80: UserWarning: Geometry is in a geographic CRS. Results from 'area' are likely incorrect. Use 'GeoSeries.to_crs()' to re-project geometries to a projected CRS before this operation.\n",
      "\n",
      "  combined_isochrones['area'] = combined_isochrones['geometry'].area\n",
      "/Users/nabilersyad/miniconda3/envs/sql/lib/python3.9/site-packages/geopandas/geodataframe.py:1442: UserWarning: Geometry column does not contain geometry.\n",
      "  warnings.warn(\"Geometry column does not contain geometry.\")\n"
     ]
    },
    {
     "name": "stdout",
     "output_type": "stream",
     "text": [
      "updated 177\n",
      "combining isochrones\n",
      "updated 178\n",
      "combining isochrones\n",
      "updated 179\n",
      "combining isochrones\n"
     ]
    },
    {
     "name": "stderr",
     "output_type": "stream",
     "text": [
      "/var/folders/2s/3b55fy1174l4bfchw66wdl800000gn/T/ipykernel_76809/2605401413.py:80: UserWarning: Geometry is in a geographic CRS. Results from 'area' are likely incorrect. Use 'GeoSeries.to_crs()' to re-project geometries to a projected CRS before this operation.\n",
      "\n",
      "  combined_isochrones['area'] = combined_isochrones['geometry'].area\n",
      "/Users/nabilersyad/miniconda3/envs/sql/lib/python3.9/site-packages/geopandas/geodataframe.py:1442: UserWarning: Geometry column does not contain geometry.\n",
      "  warnings.warn(\"Geometry column does not contain geometry.\")\n",
      "/var/folders/2s/3b55fy1174l4bfchw66wdl800000gn/T/ipykernel_76809/2605401413.py:80: UserWarning: Geometry is in a geographic CRS. Results from 'area' are likely incorrect. Use 'GeoSeries.to_crs()' to re-project geometries to a projected CRS before this operation.\n",
      "\n",
      "  combined_isochrones['area'] = combined_isochrones['geometry'].area\n",
      "/Users/nabilersyad/miniconda3/envs/sql/lib/python3.9/site-packages/geopandas/geodataframe.py:1442: UserWarning: Geometry column does not contain geometry.\n",
      "  warnings.warn(\"Geometry column does not contain geometry.\")\n",
      "/var/folders/2s/3b55fy1174l4bfchw66wdl800000gn/T/ipykernel_76809/2605401413.py:80: UserWarning: Geometry is in a geographic CRS. Results from 'area' are likely incorrect. Use 'GeoSeries.to_crs()' to re-project geometries to a projected CRS before this operation.\n",
      "\n",
      "  combined_isochrones['area'] = combined_isochrones['geometry'].area\n",
      "/Users/nabilersyad/miniconda3/envs/sql/lib/python3.9/site-packages/geopandas/geodataframe.py:1442: UserWarning: Geometry column does not contain geometry.\n",
      "  warnings.warn(\"Geometry column does not contain geometry.\")\n"
     ]
    },
    {
     "name": "stdout",
     "output_type": "stream",
     "text": [
      "updated 180\n",
      "combining isochrones\n",
      "updated 181\n",
      "combining isochrones\n",
      "updated 182\n",
      "combining isochrones\n",
      "updated 183\n",
      "combining isochrones\n"
     ]
    },
    {
     "name": "stderr",
     "output_type": "stream",
     "text": [
      "/var/folders/2s/3b55fy1174l4bfchw66wdl800000gn/T/ipykernel_76809/2605401413.py:80: UserWarning: Geometry is in a geographic CRS. Results from 'area' are likely incorrect. Use 'GeoSeries.to_crs()' to re-project geometries to a projected CRS before this operation.\n",
      "\n",
      "  combined_isochrones['area'] = combined_isochrones['geometry'].area\n",
      "/Users/nabilersyad/miniconda3/envs/sql/lib/python3.9/site-packages/geopandas/geodataframe.py:1442: UserWarning: Geometry column does not contain geometry.\n",
      "  warnings.warn(\"Geometry column does not contain geometry.\")\n",
      "/var/folders/2s/3b55fy1174l4bfchw66wdl800000gn/T/ipykernel_76809/2605401413.py:80: UserWarning: Geometry is in a geographic CRS. Results from 'area' are likely incorrect. Use 'GeoSeries.to_crs()' to re-project geometries to a projected CRS before this operation.\n",
      "\n",
      "  combined_isochrones['area'] = combined_isochrones['geometry'].area\n",
      "/Users/nabilersyad/miniconda3/envs/sql/lib/python3.9/site-packages/geopandas/geodataframe.py:1442: UserWarning: Geometry column does not contain geometry.\n",
      "  warnings.warn(\"Geometry column does not contain geometry.\")\n",
      "/var/folders/2s/3b55fy1174l4bfchw66wdl800000gn/T/ipykernel_76809/2605401413.py:80: UserWarning: Geometry is in a geographic CRS. Results from 'area' are likely incorrect. Use 'GeoSeries.to_crs()' to re-project geometries to a projected CRS before this operation.\n",
      "\n",
      "  combined_isochrones['area'] = combined_isochrones['geometry'].area\n",
      "/Users/nabilersyad/miniconda3/envs/sql/lib/python3.9/site-packages/geopandas/geodataframe.py:1442: UserWarning: Geometry column does not contain geometry.\n",
      "  warnings.warn(\"Geometry column does not contain geometry.\")\n",
      "/var/folders/2s/3b55fy1174l4bfchw66wdl800000gn/T/ipykernel_76809/2605401413.py:80: UserWarning: Geometry is in a geographic CRS. Results from 'area' are likely incorrect. Use 'GeoSeries.to_crs()' to re-project geometries to a projected CRS before this operation.\n",
      "\n",
      "  combined_isochrones['area'] = combined_isochrones['geometry'].area\n",
      "/Users/nabilersyad/miniconda3/envs/sql/lib/python3.9/site-packages/geopandas/geodataframe.py:1442: UserWarning: Geometry column does not contain geometry.\n",
      "  warnings.warn(\"Geometry column does not contain geometry.\")\n",
      "/var/folders/2s/3b55fy1174l4bfchw66wdl800000gn/T/ipykernel_76809/2605401413.py:80: UserWarning: Geometry is in a geographic CRS. Results from 'area' are likely incorrect. Use 'GeoSeries.to_crs()' to re-project geometries to a projected CRS before this operation.\n",
      "\n",
      "  combined_isochrones['area'] = combined_isochrones['geometry'].area\n",
      "/Users/nabilersyad/miniconda3/envs/sql/lib/python3.9/site-packages/geopandas/geodataframe.py:1442: UserWarning: Geometry column does not contain geometry.\n",
      "  warnings.warn(\"Geometry column does not contain geometry.\")\n",
      "/var/folders/2s/3b55fy1174l4bfchw66wdl800000gn/T/ipykernel_76809/2605401413.py:80: UserWarning: Geometry is in a geographic CRS. Results from 'area' are likely incorrect. Use 'GeoSeries.to_crs()' to re-project geometries to a projected CRS before this operation.\n",
      "\n",
      "  combined_isochrones['area'] = combined_isochrones['geometry'].area\n",
      "/Users/nabilersyad/miniconda3/envs/sql/lib/python3.9/site-packages/geopandas/geodataframe.py:1442: UserWarning: Geometry column does not contain geometry.\n",
      "  warnings.warn(\"Geometry column does not contain geometry.\")\n"
     ]
    },
    {
     "name": "stdout",
     "output_type": "stream",
     "text": [
      "updated 184\n",
      "combining isochrones\n",
      "updated 185\n",
      "combining isochrones\n",
      "updated 186\n",
      "combining isochrones\n",
      "updated 187\n",
      "combining isochrones\n"
     ]
    },
    {
     "name": "stderr",
     "output_type": "stream",
     "text": [
      "/var/folders/2s/3b55fy1174l4bfchw66wdl800000gn/T/ipykernel_76809/2605401413.py:80: UserWarning: Geometry is in a geographic CRS. Results from 'area' are likely incorrect. Use 'GeoSeries.to_crs()' to re-project geometries to a projected CRS before this operation.\n",
      "\n",
      "  combined_isochrones['area'] = combined_isochrones['geometry'].area\n",
      "/Users/nabilersyad/miniconda3/envs/sql/lib/python3.9/site-packages/geopandas/geodataframe.py:1442: UserWarning: Geometry column does not contain geometry.\n",
      "  warnings.warn(\"Geometry column does not contain geometry.\")\n",
      "/var/folders/2s/3b55fy1174l4bfchw66wdl800000gn/T/ipykernel_76809/2605401413.py:80: UserWarning: Geometry is in a geographic CRS. Results from 'area' are likely incorrect. Use 'GeoSeries.to_crs()' to re-project geometries to a projected CRS before this operation.\n",
      "\n",
      "  combined_isochrones['area'] = combined_isochrones['geometry'].area\n",
      "/Users/nabilersyad/miniconda3/envs/sql/lib/python3.9/site-packages/geopandas/geodataframe.py:1442: UserWarning: Geometry column does not contain geometry.\n",
      "  warnings.warn(\"Geometry column does not contain geometry.\")\n",
      "/var/folders/2s/3b55fy1174l4bfchw66wdl800000gn/T/ipykernel_76809/2605401413.py:80: UserWarning: Geometry is in a geographic CRS. Results from 'area' are likely incorrect. Use 'GeoSeries.to_crs()' to re-project geometries to a projected CRS before this operation.\n",
      "\n",
      "  combined_isochrones['area'] = combined_isochrones['geometry'].area\n",
      "/Users/nabilersyad/miniconda3/envs/sql/lib/python3.9/site-packages/geopandas/geodataframe.py:1442: UserWarning: Geometry column does not contain geometry.\n",
      "  warnings.warn(\"Geometry column does not contain geometry.\")\n",
      "/var/folders/2s/3b55fy1174l4bfchw66wdl800000gn/T/ipykernel_76809/2605401413.py:80: UserWarning: Geometry is in a geographic CRS. Results from 'area' are likely incorrect. Use 'GeoSeries.to_crs()' to re-project geometries to a projected CRS before this operation.\n",
      "\n",
      "  combined_isochrones['area'] = combined_isochrones['geometry'].area\n",
      "/Users/nabilersyad/miniconda3/envs/sql/lib/python3.9/site-packages/geopandas/geodataframe.py:1442: UserWarning: Geometry column does not contain geometry.\n",
      "  warnings.warn(\"Geometry column does not contain geometry.\")\n"
     ]
    },
    {
     "name": "stdout",
     "output_type": "stream",
     "text": [
      "updated 188\n",
      "combining isochrones\n",
      "updated 189\n",
      "combining isochrones\n",
      "updated 190\n",
      "combining isochrones\n"
     ]
    },
    {
     "name": "stderr",
     "output_type": "stream",
     "text": [
      "/var/folders/2s/3b55fy1174l4bfchw66wdl800000gn/T/ipykernel_76809/2605401413.py:80: UserWarning: Geometry is in a geographic CRS. Results from 'area' are likely incorrect. Use 'GeoSeries.to_crs()' to re-project geometries to a projected CRS before this operation.\n",
      "\n",
      "  combined_isochrones['area'] = combined_isochrones['geometry'].area\n",
      "/Users/nabilersyad/miniconda3/envs/sql/lib/python3.9/site-packages/geopandas/geodataframe.py:1442: UserWarning: Geometry column does not contain geometry.\n",
      "  warnings.warn(\"Geometry column does not contain geometry.\")\n",
      "/var/folders/2s/3b55fy1174l4bfchw66wdl800000gn/T/ipykernel_76809/2605401413.py:80: UserWarning: Geometry is in a geographic CRS. Results from 'area' are likely incorrect. Use 'GeoSeries.to_crs()' to re-project geometries to a projected CRS before this operation.\n",
      "\n",
      "  combined_isochrones['area'] = combined_isochrones['geometry'].area\n",
      "/Users/nabilersyad/miniconda3/envs/sql/lib/python3.9/site-packages/geopandas/geodataframe.py:1442: UserWarning: Geometry column does not contain geometry.\n",
      "  warnings.warn(\"Geometry column does not contain geometry.\")\n"
     ]
    },
    {
     "name": "stdout",
     "output_type": "stream",
     "text": [
      "updated 191\n",
      "combining isochrones\n",
      "updated 192\n",
      "generating isochrones\n"
     ]
    },
    {
     "name": "stderr",
     "output_type": "stream",
     "text": [
      "/var/folders/2s/3b55fy1174l4bfchw66wdl800000gn/T/ipykernel_76809/2605401413.py:47: UserWarning: Geometry is in a geographic CRS. Results from 'area' are likely incorrect. Use 'GeoSeries.to_crs()' to re-project geometries to a projected CRS before this operation.\n",
      "\n",
      "  gdf['area'] = gdf['geometry'].area\n",
      "/Users/nabilersyad/miniconda3/envs/sql/lib/python3.9/site-packages/geopandas/geodataframe.py:1442: UserWarning: Geometry column does not contain geometry.\n",
      "  warnings.warn(\"Geometry column does not contain geometry.\")\n"
     ]
    },
    {
     "name": "stdout",
     "output_type": "stream",
     "text": [
      "updated 193\n",
      "generating isochrones\n"
     ]
    },
    {
     "name": "stderr",
     "output_type": "stream",
     "text": [
      "/var/folders/2s/3b55fy1174l4bfchw66wdl800000gn/T/ipykernel_76809/2605401413.py:47: UserWarning: Geometry is in a geographic CRS. Results from 'area' are likely incorrect. Use 'GeoSeries.to_crs()' to re-project geometries to a projected CRS before this operation.\n",
      "\n",
      "  gdf['area'] = gdf['geometry'].area\n",
      "/Users/nabilersyad/miniconda3/envs/sql/lib/python3.9/site-packages/geopandas/geodataframe.py:1442: UserWarning: Geometry column does not contain geometry.\n",
      "  warnings.warn(\"Geometry column does not contain geometry.\")\n"
     ]
    },
    {
     "name": "stdout",
     "output_type": "stream",
     "text": [
      "updated 194\n",
      "generating isochrones\n"
     ]
    },
    {
     "name": "stderr",
     "output_type": "stream",
     "text": [
      "/var/folders/2s/3b55fy1174l4bfchw66wdl800000gn/T/ipykernel_76809/2605401413.py:47: UserWarning: Geometry is in a geographic CRS. Results from 'area' are likely incorrect. Use 'GeoSeries.to_crs()' to re-project geometries to a projected CRS before this operation.\n",
      "\n",
      "  gdf['area'] = gdf['geometry'].area\n",
      "/Users/nabilersyad/miniconda3/envs/sql/lib/python3.9/site-packages/geopandas/geodataframe.py:1442: UserWarning: Geometry column does not contain geometry.\n",
      "  warnings.warn(\"Geometry column does not contain geometry.\")\n"
     ]
    },
    {
     "name": "stdout",
     "output_type": "stream",
     "text": [
      "updated 195\n",
      "generating isochrones\n"
     ]
    },
    {
     "name": "stderr",
     "output_type": "stream",
     "text": [
      "/var/folders/2s/3b55fy1174l4bfchw66wdl800000gn/T/ipykernel_76809/2605401413.py:47: UserWarning: Geometry is in a geographic CRS. Results from 'area' are likely incorrect. Use 'GeoSeries.to_crs()' to re-project geometries to a projected CRS before this operation.\n",
      "\n",
      "  gdf['area'] = gdf['geometry'].area\n",
      "/Users/nabilersyad/miniconda3/envs/sql/lib/python3.9/site-packages/geopandas/geodataframe.py:1442: UserWarning: Geometry column does not contain geometry.\n",
      "  warnings.warn(\"Geometry column does not contain geometry.\")\n"
     ]
    },
    {
     "name": "stdout",
     "output_type": "stream",
     "text": [
      "updated 196\n",
      "generating isochrones\n"
     ]
    },
    {
     "name": "stderr",
     "output_type": "stream",
     "text": [
      "/var/folders/2s/3b55fy1174l4bfchw66wdl800000gn/T/ipykernel_76809/2605401413.py:47: UserWarning: Geometry is in a geographic CRS. Results from 'area' are likely incorrect. Use 'GeoSeries.to_crs()' to re-project geometries to a projected CRS before this operation.\n",
      "\n",
      "  gdf['area'] = gdf['geometry'].area\n",
      "/Users/nabilersyad/miniconda3/envs/sql/lib/python3.9/site-packages/geopandas/geodataframe.py:1442: UserWarning: Geometry column does not contain geometry.\n",
      "  warnings.warn(\"Geometry column does not contain geometry.\")\n"
     ]
    },
    {
     "name": "stdout",
     "output_type": "stream",
     "text": [
      "updated 197\n",
      "generating isochrones\n"
     ]
    },
    {
     "name": "stderr",
     "output_type": "stream",
     "text": [
      "/var/folders/2s/3b55fy1174l4bfchw66wdl800000gn/T/ipykernel_76809/2605401413.py:47: UserWarning: Geometry is in a geographic CRS. Results from 'area' are likely incorrect. Use 'GeoSeries.to_crs()' to re-project geometries to a projected CRS before this operation.\n",
      "\n",
      "  gdf['area'] = gdf['geometry'].area\n",
      "/Users/nabilersyad/miniconda3/envs/sql/lib/python3.9/site-packages/geopandas/geodataframe.py:1442: UserWarning: Geometry column does not contain geometry.\n",
      "  warnings.warn(\"Geometry column does not contain geometry.\")\n"
     ]
    },
    {
     "name": "stdout",
     "output_type": "stream",
     "text": [
      "updated 198\n",
      "generating isochrones\n"
     ]
    },
    {
     "name": "stderr",
     "output_type": "stream",
     "text": [
      "/var/folders/2s/3b55fy1174l4bfchw66wdl800000gn/T/ipykernel_76809/2605401413.py:47: UserWarning: Geometry is in a geographic CRS. Results from 'area' are likely incorrect. Use 'GeoSeries.to_crs()' to re-project geometries to a projected CRS before this operation.\n",
      "\n",
      "  gdf['area'] = gdf['geometry'].area\n",
      "/Users/nabilersyad/miniconda3/envs/sql/lib/python3.9/site-packages/geopandas/geodataframe.py:1442: UserWarning: Geometry column does not contain geometry.\n",
      "  warnings.warn(\"Geometry column does not contain geometry.\")\n"
     ]
    },
    {
     "name": "stdout",
     "output_type": "stream",
     "text": [
      "updated 199\n",
      "generating isochrones\n"
     ]
    },
    {
     "name": "stderr",
     "output_type": "stream",
     "text": [
      "/var/folders/2s/3b55fy1174l4bfchw66wdl800000gn/T/ipykernel_76809/2605401413.py:47: UserWarning: Geometry is in a geographic CRS. Results from 'area' are likely incorrect. Use 'GeoSeries.to_crs()' to re-project geometries to a projected CRS before this operation.\n",
      "\n",
      "  gdf['area'] = gdf['geometry'].area\n",
      "/Users/nabilersyad/miniconda3/envs/sql/lib/python3.9/site-packages/geopandas/geodataframe.py:1442: UserWarning: Geometry column does not contain geometry.\n",
      "  warnings.warn(\"Geometry column does not contain geometry.\")\n"
     ]
    },
    {
     "name": "stdout",
     "output_type": "stream",
     "text": [
      "updated 200\n",
      "generating isochrones\n"
     ]
    },
    {
     "name": "stderr",
     "output_type": "stream",
     "text": [
      "/var/folders/2s/3b55fy1174l4bfchw66wdl800000gn/T/ipykernel_76809/2605401413.py:47: UserWarning: Geometry is in a geographic CRS. Results from 'area' are likely incorrect. Use 'GeoSeries.to_crs()' to re-project geometries to a projected CRS before this operation.\n",
      "\n",
      "  gdf['area'] = gdf['geometry'].area\n",
      "/Users/nabilersyad/miniconda3/envs/sql/lib/python3.9/site-packages/geopandas/geodataframe.py:1442: UserWarning: Geometry column does not contain geometry.\n",
      "  warnings.warn(\"Geometry column does not contain geometry.\")\n"
     ]
    },
    {
     "name": "stdout",
     "output_type": "stream",
     "text": [
      "updated 201\n",
      "generating isochrones\n"
     ]
    },
    {
     "name": "stderr",
     "output_type": "stream",
     "text": [
      "/var/folders/2s/3b55fy1174l4bfchw66wdl800000gn/T/ipykernel_76809/2605401413.py:47: UserWarning: Geometry is in a geographic CRS. Results from 'area' are likely incorrect. Use 'GeoSeries.to_crs()' to re-project geometries to a projected CRS before this operation.\n",
      "\n",
      "  gdf['area'] = gdf['geometry'].area\n",
      "/Users/nabilersyad/miniconda3/envs/sql/lib/python3.9/site-packages/geopandas/geodataframe.py:1442: UserWarning: Geometry column does not contain geometry.\n",
      "  warnings.warn(\"Geometry column does not contain geometry.\")\n",
      "/var/folders/2s/3b55fy1174l4bfchw66wdl800000gn/T/ipykernel_76809/2605401413.py:80: UserWarning: Geometry is in a geographic CRS. Results from 'area' are likely incorrect. Use 'GeoSeries.to_crs()' to re-project geometries to a projected CRS before this operation.\n",
      "\n",
      "  combined_isochrones['area'] = combined_isochrones['geometry'].area\n",
      "/Users/nabilersyad/miniconda3/envs/sql/lib/python3.9/site-packages/geopandas/geodataframe.py:1442: UserWarning: Geometry column does not contain geometry.\n",
      "  warnings.warn(\"Geometry column does not contain geometry.\")\n",
      "/var/folders/2s/3b55fy1174l4bfchw66wdl800000gn/T/ipykernel_76809/2605401413.py:80: UserWarning: Geometry is in a geographic CRS. Results from 'area' are likely incorrect. Use 'GeoSeries.to_crs()' to re-project geometries to a projected CRS before this operation.\n",
      "\n",
      "  combined_isochrones['area'] = combined_isochrones['geometry'].area\n",
      "/Users/nabilersyad/miniconda3/envs/sql/lib/python3.9/site-packages/geopandas/geodataframe.py:1442: UserWarning: Geometry column does not contain geometry.\n",
      "  warnings.warn(\"Geometry column does not contain geometry.\")\n"
     ]
    },
    {
     "name": "stdout",
     "output_type": "stream",
     "text": [
      "updated 202\n",
      "combining isochrones\n",
      "updated 203\n",
      "combining isochrones\n",
      "updated 204\n",
      "combining isochrones\n"
     ]
    },
    {
     "name": "stderr",
     "output_type": "stream",
     "text": [
      "/var/folders/2s/3b55fy1174l4bfchw66wdl800000gn/T/ipykernel_76809/2605401413.py:80: UserWarning: Geometry is in a geographic CRS. Results from 'area' are likely incorrect. Use 'GeoSeries.to_crs()' to re-project geometries to a projected CRS before this operation.\n",
      "\n",
      "  combined_isochrones['area'] = combined_isochrones['geometry'].area\n",
      "/Users/nabilersyad/miniconda3/envs/sql/lib/python3.9/site-packages/geopandas/geodataframe.py:1442: UserWarning: Geometry column does not contain geometry.\n",
      "  warnings.warn(\"Geometry column does not contain geometry.\")\n",
      "/var/folders/2s/3b55fy1174l4bfchw66wdl800000gn/T/ipykernel_76809/2605401413.py:80: UserWarning: Geometry is in a geographic CRS. Results from 'area' are likely incorrect. Use 'GeoSeries.to_crs()' to re-project geometries to a projected CRS before this operation.\n",
      "\n",
      "  combined_isochrones['area'] = combined_isochrones['geometry'].area\n",
      "/Users/nabilersyad/miniconda3/envs/sql/lib/python3.9/site-packages/geopandas/geodataframe.py:1442: UserWarning: Geometry column does not contain geometry.\n",
      "  warnings.warn(\"Geometry column does not contain geometry.\")\n",
      "/var/folders/2s/3b55fy1174l4bfchw66wdl800000gn/T/ipykernel_76809/2605401413.py:80: UserWarning: Geometry is in a geographic CRS. Results from 'area' are likely incorrect. Use 'GeoSeries.to_crs()' to re-project geometries to a projected CRS before this operation.\n",
      "\n",
      "  combined_isochrones['area'] = combined_isochrones['geometry'].area\n",
      "/Users/nabilersyad/miniconda3/envs/sql/lib/python3.9/site-packages/geopandas/geodataframe.py:1442: UserWarning: Geometry column does not contain geometry.\n",
      "  warnings.warn(\"Geometry column does not contain geometry.\")\n"
     ]
    },
    {
     "name": "stdout",
     "output_type": "stream",
     "text": [
      "updated 205\n",
      "combining isochrones\n",
      "updated 206\n",
      "combining isochrones\n",
      "updated 207\n",
      "combining isochrones\n",
      "updated 208\n",
      "combining isochrones\n"
     ]
    },
    {
     "name": "stderr",
     "output_type": "stream",
     "text": [
      "/var/folders/2s/3b55fy1174l4bfchw66wdl800000gn/T/ipykernel_76809/2605401413.py:80: UserWarning: Geometry is in a geographic CRS. Results from 'area' are likely incorrect. Use 'GeoSeries.to_crs()' to re-project geometries to a projected CRS before this operation.\n",
      "\n",
      "  combined_isochrones['area'] = combined_isochrones['geometry'].area\n",
      "/Users/nabilersyad/miniconda3/envs/sql/lib/python3.9/site-packages/geopandas/geodataframe.py:1442: UserWarning: Geometry column does not contain geometry.\n",
      "  warnings.warn(\"Geometry column does not contain geometry.\")\n",
      "/var/folders/2s/3b55fy1174l4bfchw66wdl800000gn/T/ipykernel_76809/2605401413.py:80: UserWarning: Geometry is in a geographic CRS. Results from 'area' are likely incorrect. Use 'GeoSeries.to_crs()' to re-project geometries to a projected CRS before this operation.\n",
      "\n",
      "  combined_isochrones['area'] = combined_isochrones['geometry'].area\n",
      "/Users/nabilersyad/miniconda3/envs/sql/lib/python3.9/site-packages/geopandas/geodataframe.py:1442: UserWarning: Geometry column does not contain geometry.\n",
      "  warnings.warn(\"Geometry column does not contain geometry.\")\n",
      "/var/folders/2s/3b55fy1174l4bfchw66wdl800000gn/T/ipykernel_76809/2605401413.py:80: UserWarning: Geometry is in a geographic CRS. Results from 'area' are likely incorrect. Use 'GeoSeries.to_crs()' to re-project geometries to a projected CRS before this operation.\n",
      "\n",
      "  combined_isochrones['area'] = combined_isochrones['geometry'].area\n",
      "/Users/nabilersyad/miniconda3/envs/sql/lib/python3.9/site-packages/geopandas/geodataframe.py:1442: UserWarning: Geometry column does not contain geometry.\n",
      "  warnings.warn(\"Geometry column does not contain geometry.\")\n",
      "/var/folders/2s/3b55fy1174l4bfchw66wdl800000gn/T/ipykernel_76809/2605401413.py:80: UserWarning: Geometry is in a geographic CRS. Results from 'area' are likely incorrect. Use 'GeoSeries.to_crs()' to re-project geometries to a projected CRS before this operation.\n",
      "\n",
      "  combined_isochrones['area'] = combined_isochrones['geometry'].area\n",
      "/Users/nabilersyad/miniconda3/envs/sql/lib/python3.9/site-packages/geopandas/geodataframe.py:1442: UserWarning: Geometry column does not contain geometry.\n",
      "  warnings.warn(\"Geometry column does not contain geometry.\")\n"
     ]
    },
    {
     "name": "stdout",
     "output_type": "stream",
     "text": [
      "updated 209\n",
      "combining isochrones\n",
      "updated 210\n",
      "combining isochrones\n",
      "updated 211\n",
      "combining isochrones\n"
     ]
    },
    {
     "name": "stderr",
     "output_type": "stream",
     "text": [
      "/var/folders/2s/3b55fy1174l4bfchw66wdl800000gn/T/ipykernel_76809/2605401413.py:80: UserWarning: Geometry is in a geographic CRS. Results from 'area' are likely incorrect. Use 'GeoSeries.to_crs()' to re-project geometries to a projected CRS before this operation.\n",
      "\n",
      "  combined_isochrones['area'] = combined_isochrones['geometry'].area\n",
      "/Users/nabilersyad/miniconda3/envs/sql/lib/python3.9/site-packages/geopandas/geodataframe.py:1442: UserWarning: Geometry column does not contain geometry.\n",
      "  warnings.warn(\"Geometry column does not contain geometry.\")\n",
      "/var/folders/2s/3b55fy1174l4bfchw66wdl800000gn/T/ipykernel_76809/2605401413.py:80: UserWarning: Geometry is in a geographic CRS. Results from 'area' are likely incorrect. Use 'GeoSeries.to_crs()' to re-project geometries to a projected CRS before this operation.\n",
      "\n",
      "  combined_isochrones['area'] = combined_isochrones['geometry'].area\n",
      "/Users/nabilersyad/miniconda3/envs/sql/lib/python3.9/site-packages/geopandas/geodataframe.py:1442: UserWarning: Geometry column does not contain geometry.\n",
      "  warnings.warn(\"Geometry column does not contain geometry.\")\n",
      "/var/folders/2s/3b55fy1174l4bfchw66wdl800000gn/T/ipykernel_76809/2605401413.py:80: UserWarning: Geometry is in a geographic CRS. Results from 'area' are likely incorrect. Use 'GeoSeries.to_crs()' to re-project geometries to a projected CRS before this operation.\n",
      "\n",
      "  combined_isochrones['area'] = combined_isochrones['geometry'].area\n",
      "/Users/nabilersyad/miniconda3/envs/sql/lib/python3.9/site-packages/geopandas/geodataframe.py:1442: UserWarning: Geometry column does not contain geometry.\n",
      "  warnings.warn(\"Geometry column does not contain geometry.\")\n"
     ]
    },
    {
     "name": "stdout",
     "output_type": "stream",
     "text": [
      "updated 212\n",
      "combining isochrones\n",
      "updated 213\n",
      "combining isochrones\n",
      "updated 214\n",
      "combining isochrones\n",
      "updated 215\n",
      "combining isochrones\n"
     ]
    },
    {
     "name": "stderr",
     "output_type": "stream",
     "text": [
      "/var/folders/2s/3b55fy1174l4bfchw66wdl800000gn/T/ipykernel_76809/2605401413.py:80: UserWarning: Geometry is in a geographic CRS. Results from 'area' are likely incorrect. Use 'GeoSeries.to_crs()' to re-project geometries to a projected CRS before this operation.\n",
      "\n",
      "  combined_isochrones['area'] = combined_isochrones['geometry'].area\n",
      "/Users/nabilersyad/miniconda3/envs/sql/lib/python3.9/site-packages/geopandas/geodataframe.py:1442: UserWarning: Geometry column does not contain geometry.\n",
      "  warnings.warn(\"Geometry column does not contain geometry.\")\n",
      "/var/folders/2s/3b55fy1174l4bfchw66wdl800000gn/T/ipykernel_76809/2605401413.py:80: UserWarning: Geometry is in a geographic CRS. Results from 'area' are likely incorrect. Use 'GeoSeries.to_crs()' to re-project geometries to a projected CRS before this operation.\n",
      "\n",
      "  combined_isochrones['area'] = combined_isochrones['geometry'].area\n",
      "/Users/nabilersyad/miniconda3/envs/sql/lib/python3.9/site-packages/geopandas/geodataframe.py:1442: UserWarning: Geometry column does not contain geometry.\n",
      "  warnings.warn(\"Geometry column does not contain geometry.\")\n",
      "/var/folders/2s/3b55fy1174l4bfchw66wdl800000gn/T/ipykernel_76809/2605401413.py:80: UserWarning: Geometry is in a geographic CRS. Results from 'area' are likely incorrect. Use 'GeoSeries.to_crs()' to re-project geometries to a projected CRS before this operation.\n",
      "\n",
      "  combined_isochrones['area'] = combined_isochrones['geometry'].area\n",
      "/Users/nabilersyad/miniconda3/envs/sql/lib/python3.9/site-packages/geopandas/geodataframe.py:1442: UserWarning: Geometry column does not contain geometry.\n",
      "  warnings.warn(\"Geometry column does not contain geometry.\")\n"
     ]
    },
    {
     "name": "stdout",
     "output_type": "stream",
     "text": [
      "updated 216\n",
      "combining isochrones\n",
      "updated 217\n",
      "combining isochrones\n",
      "updated 218\n",
      "combining isochrones\n"
     ]
    },
    {
     "name": "stderr",
     "output_type": "stream",
     "text": [
      "/var/folders/2s/3b55fy1174l4bfchw66wdl800000gn/T/ipykernel_76809/2605401413.py:80: UserWarning: Geometry is in a geographic CRS. Results from 'area' are likely incorrect. Use 'GeoSeries.to_crs()' to re-project geometries to a projected CRS before this operation.\n",
      "\n",
      "  combined_isochrones['area'] = combined_isochrones['geometry'].area\n",
      "/Users/nabilersyad/miniconda3/envs/sql/lib/python3.9/site-packages/geopandas/geodataframe.py:1442: UserWarning: Geometry column does not contain geometry.\n",
      "  warnings.warn(\"Geometry column does not contain geometry.\")\n",
      "/var/folders/2s/3b55fy1174l4bfchw66wdl800000gn/T/ipykernel_76809/2605401413.py:80: UserWarning: Geometry is in a geographic CRS. Results from 'area' are likely incorrect. Use 'GeoSeries.to_crs()' to re-project geometries to a projected CRS before this operation.\n",
      "\n",
      "  combined_isochrones['area'] = combined_isochrones['geometry'].area\n",
      "/Users/nabilersyad/miniconda3/envs/sql/lib/python3.9/site-packages/geopandas/geodataframe.py:1442: UserWarning: Geometry column does not contain geometry.\n",
      "  warnings.warn(\"Geometry column does not contain geometry.\")\n",
      "/var/folders/2s/3b55fy1174l4bfchw66wdl800000gn/T/ipykernel_76809/2605401413.py:80: UserWarning: Geometry is in a geographic CRS. Results from 'area' are likely incorrect. Use 'GeoSeries.to_crs()' to re-project geometries to a projected CRS before this operation.\n",
      "\n",
      "  combined_isochrones['area'] = combined_isochrones['geometry'].area\n",
      "/Users/nabilersyad/miniconda3/envs/sql/lib/python3.9/site-packages/geopandas/geodataframe.py:1442: UserWarning: Geometry column does not contain geometry.\n",
      "  warnings.warn(\"Geometry column does not contain geometry.\")\n"
     ]
    },
    {
     "name": "stdout",
     "output_type": "stream",
     "text": [
      "updated 219\n",
      "combining isochrones\n",
      "updated 220\n",
      "combining isochrones\n",
      "updated 221\n",
      "combining isochrones\n"
     ]
    },
    {
     "name": "stderr",
     "output_type": "stream",
     "text": [
      "/var/folders/2s/3b55fy1174l4bfchw66wdl800000gn/T/ipykernel_76809/2605401413.py:80: UserWarning: Geometry is in a geographic CRS. Results from 'area' are likely incorrect. Use 'GeoSeries.to_crs()' to re-project geometries to a projected CRS before this operation.\n",
      "\n",
      "  combined_isochrones['area'] = combined_isochrones['geometry'].area\n",
      "/Users/nabilersyad/miniconda3/envs/sql/lib/python3.9/site-packages/geopandas/geodataframe.py:1442: UserWarning: Geometry column does not contain geometry.\n",
      "  warnings.warn(\"Geometry column does not contain geometry.\")\n",
      "/var/folders/2s/3b55fy1174l4bfchw66wdl800000gn/T/ipykernel_76809/2605401413.py:80: UserWarning: Geometry is in a geographic CRS. Results from 'area' are likely incorrect. Use 'GeoSeries.to_crs()' to re-project geometries to a projected CRS before this operation.\n",
      "\n",
      "  combined_isochrones['area'] = combined_isochrones['geometry'].area\n",
      "/Users/nabilersyad/miniconda3/envs/sql/lib/python3.9/site-packages/geopandas/geodataframe.py:1442: UserWarning: Geometry column does not contain geometry.\n",
      "  warnings.warn(\"Geometry column does not contain geometry.\")\n",
      "/var/folders/2s/3b55fy1174l4bfchw66wdl800000gn/T/ipykernel_76809/2605401413.py:80: UserWarning: Geometry is in a geographic CRS. Results from 'area' are likely incorrect. Use 'GeoSeries.to_crs()' to re-project geometries to a projected CRS before this operation.\n",
      "\n",
      "  combined_isochrones['area'] = combined_isochrones['geometry'].area\n",
      "/Users/nabilersyad/miniconda3/envs/sql/lib/python3.9/site-packages/geopandas/geodataframe.py:1442: UserWarning: Geometry column does not contain geometry.\n",
      "  warnings.warn(\"Geometry column does not contain geometry.\")\n"
     ]
    },
    {
     "name": "stdout",
     "output_type": "stream",
     "text": [
      "updated 222\n",
      "combining isochrones\n",
      "updated 223\n",
      "combining isochrones\n",
      "updated 224\n",
      "combining isochrones\n"
     ]
    },
    {
     "name": "stderr",
     "output_type": "stream",
     "text": [
      "/var/folders/2s/3b55fy1174l4bfchw66wdl800000gn/T/ipykernel_76809/2605401413.py:80: UserWarning: Geometry is in a geographic CRS. Results from 'area' are likely incorrect. Use 'GeoSeries.to_crs()' to re-project geometries to a projected CRS before this operation.\n",
      "\n",
      "  combined_isochrones['area'] = combined_isochrones['geometry'].area\n",
      "/Users/nabilersyad/miniconda3/envs/sql/lib/python3.9/site-packages/geopandas/geodataframe.py:1442: UserWarning: Geometry column does not contain geometry.\n",
      "  warnings.warn(\"Geometry column does not contain geometry.\")\n",
      "/var/folders/2s/3b55fy1174l4bfchw66wdl800000gn/T/ipykernel_76809/2605401413.py:80: UserWarning: Geometry is in a geographic CRS. Results from 'area' are likely incorrect. Use 'GeoSeries.to_crs()' to re-project geometries to a projected CRS before this operation.\n",
      "\n",
      "  combined_isochrones['area'] = combined_isochrones['geometry'].area\n",
      "/Users/nabilersyad/miniconda3/envs/sql/lib/python3.9/site-packages/geopandas/geodataframe.py:1442: UserWarning: Geometry column does not contain geometry.\n",
      "  warnings.warn(\"Geometry column does not contain geometry.\")\n"
     ]
    },
    {
     "name": "stdout",
     "output_type": "stream",
     "text": [
      "updated 225\n",
      "combining isochrones\n",
      "updated 226\n",
      "combining isochrones\n",
      "updated 227\n",
      "combining isochrones\n"
     ]
    },
    {
     "name": "stderr",
     "output_type": "stream",
     "text": [
      "/var/folders/2s/3b55fy1174l4bfchw66wdl800000gn/T/ipykernel_76809/2605401413.py:80: UserWarning: Geometry is in a geographic CRS. Results from 'area' are likely incorrect. Use 'GeoSeries.to_crs()' to re-project geometries to a projected CRS before this operation.\n",
      "\n",
      "  combined_isochrones['area'] = combined_isochrones['geometry'].area\n",
      "/Users/nabilersyad/miniconda3/envs/sql/lib/python3.9/site-packages/geopandas/geodataframe.py:1442: UserWarning: Geometry column does not contain geometry.\n",
      "  warnings.warn(\"Geometry column does not contain geometry.\")\n",
      "/var/folders/2s/3b55fy1174l4bfchw66wdl800000gn/T/ipykernel_76809/2605401413.py:80: UserWarning: Geometry is in a geographic CRS. Results from 'area' are likely incorrect. Use 'GeoSeries.to_crs()' to re-project geometries to a projected CRS before this operation.\n",
      "\n",
      "  combined_isochrones['area'] = combined_isochrones['geometry'].area\n",
      "/Users/nabilersyad/miniconda3/envs/sql/lib/python3.9/site-packages/geopandas/geodataframe.py:1442: UserWarning: Geometry column does not contain geometry.\n",
      "  warnings.warn(\"Geometry column does not contain geometry.\")\n",
      "/var/folders/2s/3b55fy1174l4bfchw66wdl800000gn/T/ipykernel_76809/2605401413.py:80: UserWarning: Geometry is in a geographic CRS. Results from 'area' are likely incorrect. Use 'GeoSeries.to_crs()' to re-project geometries to a projected CRS before this operation.\n",
      "\n",
      "  combined_isochrones['area'] = combined_isochrones['geometry'].area\n",
      "/Users/nabilersyad/miniconda3/envs/sql/lib/python3.9/site-packages/geopandas/geodataframe.py:1442: UserWarning: Geometry column does not contain geometry.\n",
      "  warnings.warn(\"Geometry column does not contain geometry.\")\n"
     ]
    },
    {
     "name": "stdout",
     "output_type": "stream",
     "text": [
      "updated 228\n",
      "combining isochrones\n",
      "updated 229\n",
      "combining isochrones\n",
      "updated 230\n",
      "combining isochrones\n"
     ]
    },
    {
     "name": "stderr",
     "output_type": "stream",
     "text": [
      "/var/folders/2s/3b55fy1174l4bfchw66wdl800000gn/T/ipykernel_76809/2605401413.py:80: UserWarning: Geometry is in a geographic CRS. Results from 'area' are likely incorrect. Use 'GeoSeries.to_crs()' to re-project geometries to a projected CRS before this operation.\n",
      "\n",
      "  combined_isochrones['area'] = combined_isochrones['geometry'].area\n",
      "/Users/nabilersyad/miniconda3/envs/sql/lib/python3.9/site-packages/geopandas/geodataframe.py:1442: UserWarning: Geometry column does not contain geometry.\n",
      "  warnings.warn(\"Geometry column does not contain geometry.\")\n",
      "/var/folders/2s/3b55fy1174l4bfchw66wdl800000gn/T/ipykernel_76809/2605401413.py:80: UserWarning: Geometry is in a geographic CRS. Results from 'area' are likely incorrect. Use 'GeoSeries.to_crs()' to re-project geometries to a projected CRS before this operation.\n",
      "\n",
      "  combined_isochrones['area'] = combined_isochrones['geometry'].area\n",
      "/Users/nabilersyad/miniconda3/envs/sql/lib/python3.9/site-packages/geopandas/geodataframe.py:1442: UserWarning: Geometry column does not contain geometry.\n",
      "  warnings.warn(\"Geometry column does not contain geometry.\")\n",
      "/var/folders/2s/3b55fy1174l4bfchw66wdl800000gn/T/ipykernel_76809/2605401413.py:80: UserWarning: Geometry is in a geographic CRS. Results from 'area' are likely incorrect. Use 'GeoSeries.to_crs()' to re-project geometries to a projected CRS before this operation.\n",
      "\n",
      "  combined_isochrones['area'] = combined_isochrones['geometry'].area\n",
      "/Users/nabilersyad/miniconda3/envs/sql/lib/python3.9/site-packages/geopandas/geodataframe.py:1442: UserWarning: Geometry column does not contain geometry.\n",
      "  warnings.warn(\"Geometry column does not contain geometry.\")\n"
     ]
    },
    {
     "name": "stdout",
     "output_type": "stream",
     "text": [
      "updated 231\n",
      "combining isochrones\n",
      "updated 232\n",
      "combining isochrones\n",
      "updated 233\n",
      "combining isochrones\n"
     ]
    },
    {
     "name": "stderr",
     "output_type": "stream",
     "text": [
      "/var/folders/2s/3b55fy1174l4bfchw66wdl800000gn/T/ipykernel_76809/2605401413.py:80: UserWarning: Geometry is in a geographic CRS. Results from 'area' are likely incorrect. Use 'GeoSeries.to_crs()' to re-project geometries to a projected CRS before this operation.\n",
      "\n",
      "  combined_isochrones['area'] = combined_isochrones['geometry'].area\n",
      "/Users/nabilersyad/miniconda3/envs/sql/lib/python3.9/site-packages/geopandas/geodataframe.py:1442: UserWarning: Geometry column does not contain geometry.\n",
      "  warnings.warn(\"Geometry column does not contain geometry.\")\n",
      "/var/folders/2s/3b55fy1174l4bfchw66wdl800000gn/T/ipykernel_76809/2605401413.py:80: UserWarning: Geometry is in a geographic CRS. Results from 'area' are likely incorrect. Use 'GeoSeries.to_crs()' to re-project geometries to a projected CRS before this operation.\n",
      "\n",
      "  combined_isochrones['area'] = combined_isochrones['geometry'].area\n",
      "/Users/nabilersyad/miniconda3/envs/sql/lib/python3.9/site-packages/geopandas/geodataframe.py:1442: UserWarning: Geometry column does not contain geometry.\n",
      "  warnings.warn(\"Geometry column does not contain geometry.\")\n",
      "/var/folders/2s/3b55fy1174l4bfchw66wdl800000gn/T/ipykernel_76809/2605401413.py:80: UserWarning: Geometry is in a geographic CRS. Results from 'area' are likely incorrect. Use 'GeoSeries.to_crs()' to re-project geometries to a projected CRS before this operation.\n",
      "\n",
      "  combined_isochrones['area'] = combined_isochrones['geometry'].area\n",
      "/Users/nabilersyad/miniconda3/envs/sql/lib/python3.9/site-packages/geopandas/geodataframe.py:1442: UserWarning: Geometry column does not contain geometry.\n",
      "  warnings.warn(\"Geometry column does not contain geometry.\")\n"
     ]
    },
    {
     "name": "stdout",
     "output_type": "stream",
     "text": [
      "updated 234\n",
      "combining isochrones\n",
      "updated 235\n",
      "combining isochrones\n",
      "updated 236\n",
      "generating isochrones\n"
     ]
    },
    {
     "name": "stderr",
     "output_type": "stream",
     "text": [
      "/var/folders/2s/3b55fy1174l4bfchw66wdl800000gn/T/ipykernel_76809/2605401413.py:80: UserWarning: Geometry is in a geographic CRS. Results from 'area' are likely incorrect. Use 'GeoSeries.to_crs()' to re-project geometries to a projected CRS before this operation.\n",
      "\n",
      "  combined_isochrones['area'] = combined_isochrones['geometry'].area\n",
      "/Users/nabilersyad/miniconda3/envs/sql/lib/python3.9/site-packages/geopandas/geodataframe.py:1442: UserWarning: Geometry column does not contain geometry.\n",
      "  warnings.warn(\"Geometry column does not contain geometry.\")\n",
      "/var/folders/2s/3b55fy1174l4bfchw66wdl800000gn/T/ipykernel_76809/2605401413.py:80: UserWarning: Geometry is in a geographic CRS. Results from 'area' are likely incorrect. Use 'GeoSeries.to_crs()' to re-project geometries to a projected CRS before this operation.\n",
      "\n",
      "  combined_isochrones['area'] = combined_isochrones['geometry'].area\n",
      "/Users/nabilersyad/miniconda3/envs/sql/lib/python3.9/site-packages/geopandas/geodataframe.py:1442: UserWarning: Geometry column does not contain geometry.\n",
      "  warnings.warn(\"Geometry column does not contain geometry.\")\n",
      "/var/folders/2s/3b55fy1174l4bfchw66wdl800000gn/T/ipykernel_76809/2605401413.py:47: UserWarning: Geometry is in a geographic CRS. Results from 'area' are likely incorrect. Use 'GeoSeries.to_crs()' to re-project geometries to a projected CRS before this operation.\n",
      "\n",
      "  gdf['area'] = gdf['geometry'].area\n",
      "/Users/nabilersyad/miniconda3/envs/sql/lib/python3.9/site-packages/geopandas/geodataframe.py:1442: UserWarning: Geometry column does not contain geometry.\n",
      "  warnings.warn(\"Geometry column does not contain geometry.\")\n",
      "/var/folders/2s/3b55fy1174l4bfchw66wdl800000gn/T/ipykernel_76809/2605401413.py:80: UserWarning: Geometry is in a geographic CRS. Results from 'area' are likely incorrect. Use 'GeoSeries.to_crs()' to re-project geometries to a projected CRS before this operation.\n",
      "\n",
      "  combined_isochrones['area'] = combined_isochrones['geometry'].area\n",
      "/Users/nabilersyad/miniconda3/envs/sql/lib/python3.9/site-packages/geopandas/geodataframe.py:1442: UserWarning: Geometry column does not contain geometry.\n",
      "  warnings.warn(\"Geometry column does not contain geometry.\")\n"
     ]
    },
    {
     "name": "stdout",
     "output_type": "stream",
     "text": [
      "updated 237\n",
      "combining isochrones\n",
      "updated 238\n",
      "generating isochrones\n"
     ]
    },
    {
     "name": "stderr",
     "output_type": "stream",
     "text": [
      "/var/folders/2s/3b55fy1174l4bfchw66wdl800000gn/T/ipykernel_76809/2605401413.py:47: UserWarning: Geometry is in a geographic CRS. Results from 'area' are likely incorrect. Use 'GeoSeries.to_crs()' to re-project geometries to a projected CRS before this operation.\n",
      "\n",
      "  gdf['area'] = gdf['geometry'].area\n",
      "/Users/nabilersyad/miniconda3/envs/sql/lib/python3.9/site-packages/geopandas/geodataframe.py:1442: UserWarning: Geometry column does not contain geometry.\n",
      "  warnings.warn(\"Geometry column does not contain geometry.\")\n"
     ]
    },
    {
     "name": "stdout",
     "output_type": "stream",
     "text": [
      "updated 239\n",
      "generating isochrones\n"
     ]
    },
    {
     "name": "stderr",
     "output_type": "stream",
     "text": [
      "/var/folders/2s/3b55fy1174l4bfchw66wdl800000gn/T/ipykernel_76809/2605401413.py:47: UserWarning: Geometry is in a geographic CRS. Results from 'area' are likely incorrect. Use 'GeoSeries.to_crs()' to re-project geometries to a projected CRS before this operation.\n",
      "\n",
      "  gdf['area'] = gdf['geometry'].area\n",
      "/Users/nabilersyad/miniconda3/envs/sql/lib/python3.9/site-packages/geopandas/geodataframe.py:1442: UserWarning: Geometry column does not contain geometry.\n",
      "  warnings.warn(\"Geometry column does not contain geometry.\")\n"
     ]
    },
    {
     "name": "stdout",
     "output_type": "stream",
     "text": [
      "updated 240\n",
      "generating isochrones\n"
     ]
    },
    {
     "name": "stderr",
     "output_type": "stream",
     "text": [
      "/var/folders/2s/3b55fy1174l4bfchw66wdl800000gn/T/ipykernel_76809/2605401413.py:47: UserWarning: Geometry is in a geographic CRS. Results from 'area' are likely incorrect. Use 'GeoSeries.to_crs()' to re-project geometries to a projected CRS before this operation.\n",
      "\n",
      "  gdf['area'] = gdf['geometry'].area\n",
      "/Users/nabilersyad/miniconda3/envs/sql/lib/python3.9/site-packages/geopandas/geodataframe.py:1442: UserWarning: Geometry column does not contain geometry.\n",
      "  warnings.warn(\"Geometry column does not contain geometry.\")\n"
     ]
    },
    {
     "name": "stdout",
     "output_type": "stream",
     "text": [
      "updated 241\n",
      "generating isochrones\n"
     ]
    },
    {
     "name": "stderr",
     "output_type": "stream",
     "text": [
      "/var/folders/2s/3b55fy1174l4bfchw66wdl800000gn/T/ipykernel_76809/2605401413.py:47: UserWarning: Geometry is in a geographic CRS. Results from 'area' are likely incorrect. Use 'GeoSeries.to_crs()' to re-project geometries to a projected CRS before this operation.\n",
      "\n",
      "  gdf['area'] = gdf['geometry'].area\n",
      "/Users/nabilersyad/miniconda3/envs/sql/lib/python3.9/site-packages/geopandas/geodataframe.py:1442: UserWarning: Geometry column does not contain geometry.\n",
      "  warnings.warn(\"Geometry column does not contain geometry.\")\n"
     ]
    },
    {
     "name": "stdout",
     "output_type": "stream",
     "text": [
      "updated 242\n",
      "generating isochrones\n"
     ]
    },
    {
     "name": "stderr",
     "output_type": "stream",
     "text": [
      "/var/folders/2s/3b55fy1174l4bfchw66wdl800000gn/T/ipykernel_76809/2605401413.py:47: UserWarning: Geometry is in a geographic CRS. Results from 'area' are likely incorrect. Use 'GeoSeries.to_crs()' to re-project geometries to a projected CRS before this operation.\n",
      "\n",
      "  gdf['area'] = gdf['geometry'].area\n",
      "/Users/nabilersyad/miniconda3/envs/sql/lib/python3.9/site-packages/geopandas/geodataframe.py:1442: UserWarning: Geometry column does not contain geometry.\n",
      "  warnings.warn(\"Geometry column does not contain geometry.\")\n"
     ]
    },
    {
     "name": "stdout",
     "output_type": "stream",
     "text": [
      "updated 243\n",
      "generating isochrones\n"
     ]
    },
    {
     "name": "stderr",
     "output_type": "stream",
     "text": [
      "/Users/nabilersyad/miniconda3/envs/sql/lib/python3.9/site-packages/openrouteservice/client.py:211: UserWarning: Rate limit exceeded. Retrying for the 1st time.\n",
      "  warnings.warn('Rate limit exceeded. Retrying for the {0}{1} time.'.format(retry_counter + 1,\n",
      "/Users/nabilersyad/miniconda3/envs/sql/lib/python3.9/site-packages/openrouteservice/client.py:211: UserWarning: Rate limit exceeded. Retrying for the 2nd time.\n",
      "  warnings.warn('Rate limit exceeded. Retrying for the {0}{1} time.'.format(retry_counter + 1,\n",
      "/Users/nabilersyad/miniconda3/envs/sql/lib/python3.9/site-packages/openrouteservice/client.py:211: UserWarning: Rate limit exceeded. Retrying for the 3rd time.\n",
      "  warnings.warn('Rate limit exceeded. Retrying for the {0}{1} time.'.format(retry_counter + 1,\n",
      "/Users/nabilersyad/miniconda3/envs/sql/lib/python3.9/site-packages/openrouteservice/client.py:211: UserWarning: Rate limit exceeded. Retrying for the 4th time.\n",
      "  warnings.warn('Rate limit exceeded. Retrying for the {0}{1} time.'.format(retry_counter + 1,\n",
      "/Users/nabilersyad/miniconda3/envs/sql/lib/python3.9/site-packages/openrouteservice/client.py:211: UserWarning: Rate limit exceeded. Retrying for the 5th time.\n",
      "  warnings.warn('Rate limit exceeded. Retrying for the {0}{1} time.'.format(retry_counter + 1,\n",
      "/Users/nabilersyad/miniconda3/envs/sql/lib/python3.9/site-packages/openrouteservice/client.py:211: UserWarning: Rate limit exceeded. Retrying for the 6th time.\n",
      "  warnings.warn('Rate limit exceeded. Retrying for the {0}{1} time.'.format(retry_counter + 1,\n",
      "/Users/nabilersyad/miniconda3/envs/sql/lib/python3.9/site-packages/openrouteservice/client.py:211: UserWarning: Rate limit exceeded. Retrying for the 7th time.\n",
      "  warnings.warn('Rate limit exceeded. Retrying for the {0}{1} time.'.format(retry_counter + 1,\n",
      "/Users/nabilersyad/miniconda3/envs/sql/lib/python3.9/site-packages/openrouteservice/client.py:211: UserWarning: Rate limit exceeded. Retrying for the 8th time.\n",
      "  warnings.warn('Rate limit exceeded. Retrying for the {0}{1} time.'.format(retry_counter + 1,\n",
      "/Users/nabilersyad/miniconda3/envs/sql/lib/python3.9/site-packages/openrouteservice/client.py:211: UserWarning: Rate limit exceeded. Retrying for the 9th time.\n",
      "  warnings.warn('Rate limit exceeded. Retrying for the {0}{1} time.'.format(retry_counter + 1,\n",
      "/var/folders/2s/3b55fy1174l4bfchw66wdl800000gn/T/ipykernel_76809/2605401413.py:47: UserWarning: Geometry is in a geographic CRS. Results from 'area' are likely incorrect. Use 'GeoSeries.to_crs()' to re-project geometries to a projected CRS before this operation.\n",
      "\n",
      "  gdf['area'] = gdf['geometry'].area\n",
      "/Users/nabilersyad/miniconda3/envs/sql/lib/python3.9/site-packages/geopandas/geodataframe.py:1442: UserWarning: Geometry column does not contain geometry.\n",
      "  warnings.warn(\"Geometry column does not contain geometry.\")\n"
     ]
    },
    {
     "name": "stdout",
     "output_type": "stream",
     "text": [
      "updated 244\n",
      "generating isochrones\n"
     ]
    },
    {
     "name": "stderr",
     "output_type": "stream",
     "text": [
      "/var/folders/2s/3b55fy1174l4bfchw66wdl800000gn/T/ipykernel_76809/2605401413.py:47: UserWarning: Geometry is in a geographic CRS. Results from 'area' are likely incorrect. Use 'GeoSeries.to_crs()' to re-project geometries to a projected CRS before this operation.\n",
      "\n",
      "  gdf['area'] = gdf['geometry'].area\n",
      "/Users/nabilersyad/miniconda3/envs/sql/lib/python3.9/site-packages/geopandas/geodataframe.py:1442: UserWarning: Geometry column does not contain geometry.\n",
      "  warnings.warn(\"Geometry column does not contain geometry.\")\n"
     ]
    },
    {
     "name": "stdout",
     "output_type": "stream",
     "text": [
      "updated 245\n",
      "generating isochrones\n"
     ]
    },
    {
     "name": "stderr",
     "output_type": "stream",
     "text": [
      "/var/folders/2s/3b55fy1174l4bfchw66wdl800000gn/T/ipykernel_76809/2605401413.py:47: UserWarning: Geometry is in a geographic CRS. Results from 'area' are likely incorrect. Use 'GeoSeries.to_crs()' to re-project geometries to a projected CRS before this operation.\n",
      "\n",
      "  gdf['area'] = gdf['geometry'].area\n",
      "/Users/nabilersyad/miniconda3/envs/sql/lib/python3.9/site-packages/geopandas/geodataframe.py:1442: UserWarning: Geometry column does not contain geometry.\n",
      "  warnings.warn(\"Geometry column does not contain geometry.\")\n"
     ]
    },
    {
     "name": "stdout",
     "output_type": "stream",
     "text": [
      "updated 246\n",
      "generating isochrones\n"
     ]
    },
    {
     "name": "stderr",
     "output_type": "stream",
     "text": [
      "/var/folders/2s/3b55fy1174l4bfchw66wdl800000gn/T/ipykernel_76809/2605401413.py:47: UserWarning: Geometry is in a geographic CRS. Results from 'area' are likely incorrect. Use 'GeoSeries.to_crs()' to re-project geometries to a projected CRS before this operation.\n",
      "\n",
      "  gdf['area'] = gdf['geometry'].area\n",
      "/Users/nabilersyad/miniconda3/envs/sql/lib/python3.9/site-packages/geopandas/geodataframe.py:1442: UserWarning: Geometry column does not contain geometry.\n",
      "  warnings.warn(\"Geometry column does not contain geometry.\")\n"
     ]
    },
    {
     "name": "stdout",
     "output_type": "stream",
     "text": [
      "updated 247\n",
      "generating isochrones\n"
     ]
    },
    {
     "name": "stderr",
     "output_type": "stream",
     "text": [
      "/var/folders/2s/3b55fy1174l4bfchw66wdl800000gn/T/ipykernel_76809/2605401413.py:47: UserWarning: Geometry is in a geographic CRS. Results from 'area' are likely incorrect. Use 'GeoSeries.to_crs()' to re-project geometries to a projected CRS before this operation.\n",
      "\n",
      "  gdf['area'] = gdf['geometry'].area\n",
      "/Users/nabilersyad/miniconda3/envs/sql/lib/python3.9/site-packages/geopandas/geodataframe.py:1442: UserWarning: Geometry column does not contain geometry.\n",
      "  warnings.warn(\"Geometry column does not contain geometry.\")\n"
     ]
    },
    {
     "name": "stdout",
     "output_type": "stream",
     "text": [
      "updated 248\n",
      "generating isochrones\n"
     ]
    },
    {
     "name": "stderr",
     "output_type": "stream",
     "text": [
      "/var/folders/2s/3b55fy1174l4bfchw66wdl800000gn/T/ipykernel_76809/2605401413.py:47: UserWarning: Geometry is in a geographic CRS. Results from 'area' are likely incorrect. Use 'GeoSeries.to_crs()' to re-project geometries to a projected CRS before this operation.\n",
      "\n",
      "  gdf['area'] = gdf['geometry'].area\n",
      "/Users/nabilersyad/miniconda3/envs/sql/lib/python3.9/site-packages/geopandas/geodataframe.py:1442: UserWarning: Geometry column does not contain geometry.\n",
      "  warnings.warn(\"Geometry column does not contain geometry.\")\n"
     ]
    },
    {
     "name": "stdout",
     "output_type": "stream",
     "text": [
      "updated 249\n",
      "generating isochrones\n"
     ]
    },
    {
     "name": "stderr",
     "output_type": "stream",
     "text": [
      "/var/folders/2s/3b55fy1174l4bfchw66wdl800000gn/T/ipykernel_76809/2605401413.py:47: UserWarning: Geometry is in a geographic CRS. Results from 'area' are likely incorrect. Use 'GeoSeries.to_crs()' to re-project geometries to a projected CRS before this operation.\n",
      "\n",
      "  gdf['area'] = gdf['geometry'].area\n",
      "/Users/nabilersyad/miniconda3/envs/sql/lib/python3.9/site-packages/geopandas/geodataframe.py:1442: UserWarning: Geometry column does not contain geometry.\n",
      "  warnings.warn(\"Geometry column does not contain geometry.\")\n"
     ]
    },
    {
     "name": "stdout",
     "output_type": "stream",
     "text": [
      "updated 250\n",
      "generating isochrones\n"
     ]
    },
    {
     "name": "stderr",
     "output_type": "stream",
     "text": [
      "/var/folders/2s/3b55fy1174l4bfchw66wdl800000gn/T/ipykernel_76809/2605401413.py:47: UserWarning: Geometry is in a geographic CRS. Results from 'area' are likely incorrect. Use 'GeoSeries.to_crs()' to re-project geometries to a projected CRS before this operation.\n",
      "\n",
      "  gdf['area'] = gdf['geometry'].area\n",
      "/Users/nabilersyad/miniconda3/envs/sql/lib/python3.9/site-packages/geopandas/geodataframe.py:1442: UserWarning: Geometry column does not contain geometry.\n",
      "  warnings.warn(\"Geometry column does not contain geometry.\")\n"
     ]
    },
    {
     "name": "stdout",
     "output_type": "stream",
     "text": [
      "updated 251\n",
      "generating isochrones\n"
     ]
    },
    {
     "name": "stderr",
     "output_type": "stream",
     "text": [
      "/var/folders/2s/3b55fy1174l4bfchw66wdl800000gn/T/ipykernel_76809/2605401413.py:47: UserWarning: Geometry is in a geographic CRS. Results from 'area' are likely incorrect. Use 'GeoSeries.to_crs()' to re-project geometries to a projected CRS before this operation.\n",
      "\n",
      "  gdf['area'] = gdf['geometry'].area\n",
      "/Users/nabilersyad/miniconda3/envs/sql/lib/python3.9/site-packages/geopandas/geodataframe.py:1442: UserWarning: Geometry column does not contain geometry.\n",
      "  warnings.warn(\"Geometry column does not contain geometry.\")\n"
     ]
    },
    {
     "name": "stdout",
     "output_type": "stream",
     "text": [
      "updated 252\n",
      "generating isochrones\n"
     ]
    },
    {
     "name": "stderr",
     "output_type": "stream",
     "text": [
      "/var/folders/2s/3b55fy1174l4bfchw66wdl800000gn/T/ipykernel_76809/2605401413.py:47: UserWarning: Geometry is in a geographic CRS. Results from 'area' are likely incorrect. Use 'GeoSeries.to_crs()' to re-project geometries to a projected CRS before this operation.\n",
      "\n",
      "  gdf['area'] = gdf['geometry'].area\n",
      "/Users/nabilersyad/miniconda3/envs/sql/lib/python3.9/site-packages/geopandas/geodataframe.py:1442: UserWarning: Geometry column does not contain geometry.\n",
      "  warnings.warn(\"Geometry column does not contain geometry.\")\n"
     ]
    },
    {
     "name": "stdout",
     "output_type": "stream",
     "text": [
      "updated 253\n",
      "generating isochrones\n"
     ]
    },
    {
     "name": "stderr",
     "output_type": "stream",
     "text": [
      "/var/folders/2s/3b55fy1174l4bfchw66wdl800000gn/T/ipykernel_76809/2605401413.py:47: UserWarning: Geometry is in a geographic CRS. Results from 'area' are likely incorrect. Use 'GeoSeries.to_crs()' to re-project geometries to a projected CRS before this operation.\n",
      "\n",
      "  gdf['area'] = gdf['geometry'].area\n",
      "/Users/nabilersyad/miniconda3/envs/sql/lib/python3.9/site-packages/geopandas/geodataframe.py:1442: UserWarning: Geometry column does not contain geometry.\n",
      "  warnings.warn(\"Geometry column does not contain geometry.\")\n"
     ]
    },
    {
     "name": "stdout",
     "output_type": "stream",
     "text": [
      "updated 254\n",
      "generating isochrones\n"
     ]
    },
    {
     "name": "stderr",
     "output_type": "stream",
     "text": [
      "/var/folders/2s/3b55fy1174l4bfchw66wdl800000gn/T/ipykernel_76809/2605401413.py:47: UserWarning: Geometry is in a geographic CRS. Results from 'area' are likely incorrect. Use 'GeoSeries.to_crs()' to re-project geometries to a projected CRS before this operation.\n",
      "\n",
      "  gdf['area'] = gdf['geometry'].area\n",
      "/Users/nabilersyad/miniconda3/envs/sql/lib/python3.9/site-packages/geopandas/geodataframe.py:1442: UserWarning: Geometry column does not contain geometry.\n",
      "  warnings.warn(\"Geometry column does not contain geometry.\")\n"
     ]
    },
    {
     "name": "stdout",
     "output_type": "stream",
     "text": [
      "updated 255\n",
      "generating isochrones\n"
     ]
    },
    {
     "name": "stderr",
     "output_type": "stream",
     "text": [
      "/var/folders/2s/3b55fy1174l4bfchw66wdl800000gn/T/ipykernel_76809/2605401413.py:47: UserWarning: Geometry is in a geographic CRS. Results from 'area' are likely incorrect. Use 'GeoSeries.to_crs()' to re-project geometries to a projected CRS before this operation.\n",
      "\n",
      "  gdf['area'] = gdf['geometry'].area\n",
      "/Users/nabilersyad/miniconda3/envs/sql/lib/python3.9/site-packages/geopandas/geodataframe.py:1442: UserWarning: Geometry column does not contain geometry.\n",
      "  warnings.warn(\"Geometry column does not contain geometry.\")\n"
     ]
    },
    {
     "name": "stdout",
     "output_type": "stream",
     "text": [
      "updated 256\n",
      "generating isochrones\n"
     ]
    },
    {
     "name": "stderr",
     "output_type": "stream",
     "text": [
      "/var/folders/2s/3b55fy1174l4bfchw66wdl800000gn/T/ipykernel_76809/2605401413.py:47: UserWarning: Geometry is in a geographic CRS. Results from 'area' are likely incorrect. Use 'GeoSeries.to_crs()' to re-project geometries to a projected CRS before this operation.\n",
      "\n",
      "  gdf['area'] = gdf['geometry'].area\n",
      "/Users/nabilersyad/miniconda3/envs/sql/lib/python3.9/site-packages/geopandas/geodataframe.py:1442: UserWarning: Geometry column does not contain geometry.\n",
      "  warnings.warn(\"Geometry column does not contain geometry.\")\n"
     ]
    },
    {
     "name": "stdout",
     "output_type": "stream",
     "text": [
      "updated 257\n",
      "generating isochrones\n"
     ]
    },
    {
     "name": "stderr",
     "output_type": "stream",
     "text": [
      "/var/folders/2s/3b55fy1174l4bfchw66wdl800000gn/T/ipykernel_76809/2605401413.py:47: UserWarning: Geometry is in a geographic CRS. Results from 'area' are likely incorrect. Use 'GeoSeries.to_crs()' to re-project geometries to a projected CRS before this operation.\n",
      "\n",
      "  gdf['area'] = gdf['geometry'].area\n",
      "/Users/nabilersyad/miniconda3/envs/sql/lib/python3.9/site-packages/geopandas/geodataframe.py:1442: UserWarning: Geometry column does not contain geometry.\n",
      "  warnings.warn(\"Geometry column does not contain geometry.\")\n"
     ]
    },
    {
     "name": "stdout",
     "output_type": "stream",
     "text": [
      "updated 258\n",
      "generating isochrones\n",
      "updated 0\n"
     ]
    },
    {
     "name": "stderr",
     "output_type": "stream",
     "text": [
      "/var/folders/2s/3b55fy1174l4bfchw66wdl800000gn/T/ipykernel_76809/2605401413.py:47: UserWarning: Geometry is in a geographic CRS. Results from 'area' are likely incorrect. Use 'GeoSeries.to_crs()' to re-project geometries to a projected CRS before this operation.\n",
      "\n",
      "  gdf['area'] = gdf['geometry'].area\n",
      "/Users/nabilersyad/miniconda3/envs/sql/lib/python3.9/site-packages/geopandas/geodataframe.py:1442: UserWarning: Geometry column does not contain geometry.\n",
      "  warnings.warn(\"Geometry column does not contain geometry.\")\n"
     ]
    }
   ],
   "source": [
    "process_stations(stations_gdf,merged_gdf,ors_client,supabase)"
   ]
  },
  {
   "cell_type": "code",
   "execution_count": 27,
   "metadata": {},
   "outputs": [
    {
     "name": "stderr",
     "output_type": "stream",
     "text": [
      "/var/folders/2s/3b55fy1174l4bfchw66wdl800000gn/T/ipykernel_76809/1021231826.py:23: UserWarning: Geometry is in a geographic CRS. Results from 'centroid' are likely incorrect. Use 'GeoSeries.to_crs()' to re-project geometries to a projected CRS before this operation.\n",
      "\n",
      "  map_center = entrances_isochrones_gdf.geometry.centroid.iloc[0].coords[0][::-1]\n"
     ]
    },
    {
     "data": {
      "text/html": [
       "<div style=\"width:100%;\"><div style=\"position:relative;width:100%;height:0;padding-bottom:60%;\"><span style=\"color:#565656\">Make this Notebook Trusted to load map: File -> Trust Notebook</span><iframe srcdoc=\"&lt;!DOCTYPE html&gt;\n",
       "&lt;html&gt;\n",
       "&lt;head&gt;\n",
       "    \n",
       "    &lt;meta http-equiv=&quot;content-type&quot; content=&quot;text/html; charset=UTF-8&quot; /&gt;\n",
       "    \n",
       "        &lt;script&gt;\n",
       "            L_NO_TOUCH = false;\n",
       "            L_DISABLE_3D = false;\n",
       "        &lt;/script&gt;\n",
       "    \n",
       "    &lt;style&gt;html, body {width: 100%;height: 100%;margin: 0;padding: 0;}&lt;/style&gt;\n",
       "    &lt;style&gt;#map {position:absolute;top:0;bottom:0;right:0;left:0;}&lt;/style&gt;\n",
       "    &lt;script src=&quot;https://cdn.jsdelivr.net/npm/leaflet@1.9.3/dist/leaflet.js&quot;&gt;&lt;/script&gt;\n",
       "    &lt;script src=&quot;https://code.jquery.com/jquery-1.12.4.min.js&quot;&gt;&lt;/script&gt;\n",
       "    &lt;script src=&quot;https://cdn.jsdelivr.net/npm/bootstrap@5.2.2/dist/js/bootstrap.bundle.min.js&quot;&gt;&lt;/script&gt;\n",
       "    &lt;script src=&quot;https://cdnjs.cloudflare.com/ajax/libs/Leaflet.awesome-markers/2.0.2/leaflet.awesome-markers.js&quot;&gt;&lt;/script&gt;\n",
       "    &lt;link rel=&quot;stylesheet&quot; href=&quot;https://cdn.jsdelivr.net/npm/leaflet@1.9.3/dist/leaflet.css&quot;/&gt;\n",
       "    &lt;link rel=&quot;stylesheet&quot; href=&quot;https://cdn.jsdelivr.net/npm/bootstrap@5.2.2/dist/css/bootstrap.min.css&quot;/&gt;\n",
       "    &lt;link rel=&quot;stylesheet&quot; href=&quot;https://netdna.bootstrapcdn.com/bootstrap/3.0.0/css/bootstrap.min.css&quot;/&gt;\n",
       "    &lt;link rel=&quot;stylesheet&quot; href=&quot;https://cdn.jsdelivr.net/npm/@fortawesome/fontawesome-free@6.2.0/css/all.min.css&quot;/&gt;\n",
       "    &lt;link rel=&quot;stylesheet&quot; href=&quot;https://cdnjs.cloudflare.com/ajax/libs/Leaflet.awesome-markers/2.0.2/leaflet.awesome-markers.css&quot;/&gt;\n",
       "    &lt;link rel=&quot;stylesheet&quot; href=&quot;https://cdn.jsdelivr.net/gh/python-visualization/folium/folium/templates/leaflet.awesome.rotate.min.css&quot;/&gt;\n",
       "    \n",
       "            &lt;meta name=&quot;viewport&quot; content=&quot;width=device-width,\n",
       "                initial-scale=1.0, maximum-scale=1.0, user-scalable=no&quot; /&gt;\n",
       "            &lt;style&gt;\n",
       "                #map_2d70022eb852eead2f68964700ee7c2e {\n",
       "                    position: relative;\n",
       "                    width: 100.0%;\n",
       "                    height: 100.0%;\n",
       "                    left: 0.0%;\n",
       "                    top: 0.0%;\n",
       "                }\n",
       "                .leaflet-container { font-size: 1rem; }\n",
       "            &lt;/style&gt;\n",
       "        \n",
       "&lt;/head&gt;\n",
       "&lt;body&gt;\n",
       "    \n",
       "    \n",
       "            &lt;div class=&quot;folium-map&quot; id=&quot;map_2d70022eb852eead2f68964700ee7c2e&quot; &gt;&lt;/div&gt;\n",
       "        \n",
       "&lt;/body&gt;\n",
       "&lt;script&gt;\n",
       "    \n",
       "    \n",
       "            var map_2d70022eb852eead2f68964700ee7c2e = L.map(\n",
       "                &quot;map_2d70022eb852eead2f68964700ee7c2e&quot;,\n",
       "                {\n",
       "                    center: [3.0933066110084293, 101.58712460951683],\n",
       "                    crs: L.CRS.EPSG3857,\n",
       "                    zoom: 12,\n",
       "                    zoomControl: true,\n",
       "                    preferCanvas: false,\n",
       "                }\n",
       "            );\n",
       "\n",
       "            \n",
       "\n",
       "        \n",
       "    \n",
       "            var tile_layer_e7daefb73ad6895840b5f69e38399e87 = L.tileLayer(\n",
       "                &quot;https://{s}.tile.openstreetmap.org/{z}/{x}/{y}.png&quot;,\n",
       "                {&quot;attribution&quot;: &quot;Data by \\u0026copy; \\u003ca target=\\&quot;_blank\\&quot; href=\\&quot;http://openstreetmap.org\\&quot;\\u003eOpenStreetMap\\u003c/a\\u003e, under \\u003ca target=\\&quot;_blank\\&quot; href=\\&quot;http://www.openstreetmap.org/copyright\\&quot;\\u003eODbL\\u003c/a\\u003e.&quot;, &quot;detectRetina&quot;: false, &quot;maxNativeZoom&quot;: 18, &quot;maxZoom&quot;: 18, &quot;minZoom&quot;: 0, &quot;noWrap&quot;: false, &quot;opacity&quot;: 1, &quot;subdomains&quot;: &quot;abc&quot;, &quot;tms&quot;: false}\n",
       "            ).addTo(map_2d70022eb852eead2f68964700ee7c2e);\n",
       "        \n",
       "    \n",
       "        function geo_json_6e11238db9c32b744dbbd2f107218f82_styler(feature) {\n",
       "            switch(feature.id) {\n",
       "                default:\n",
       "                    return {&quot;color&quot;: &quot;black&quot;, &quot;fillColor&quot;: &quot;cyan&quot;, &quot;fillOpacity&quot;: 0.6, &quot;weight&quot;: 1};\n",
       "            }\n",
       "        }\n",
       "\n",
       "        function geo_json_6e11238db9c32b744dbbd2f107218f82_onEachFeature(feature, layer) {\n",
       "            layer.on({\n",
       "            });\n",
       "        };\n",
       "        var geo_json_6e11238db9c32b744dbbd2f107218f82 = L.geoJson(null, {\n",
       "                onEachFeature: geo_json_6e11238db9c32b744dbbd2f107218f82_onEachFeature,\n",
       "            \n",
       "                style: geo_json_6e11238db9c32b744dbbd2f107218f82_styler,\n",
       "        });\n",
       "\n",
       "        function geo_json_6e11238db9c32b744dbbd2f107218f82_add (data) {\n",
       "            geo_json_6e11238db9c32b744dbbd2f107218f82\n",
       "                .addData(data)\n",
       "                .addTo(map_2d70022eb852eead2f68964700ee7c2e);\n",
       "        }\n",
       "            geo_json_6e11238db9c32b744dbbd2f107218f82_add({&quot;bbox&quot;: [101.386344, 2.461433, 102.229398, 3.687177], &quot;features&quot;: [{&quot;bbox&quot;: [101.691148, 3.13658, 101.695419, 3.143129], &quot;geometry&quot;: {&quot;coordinates&quot;: [[[101.691215, 3.137656], [101.691633, 3.13658], [101.694618, 3.136724], [101.695382, 3.137284], [101.695419, 3.137616], [101.695299, 3.138986], [101.6949, 3.142327], [101.694725, 3.143113], [101.69434, 3.143129], [101.694204, 3.143099], [101.691148, 3.13801], [101.691215, 3.137656]]], &quot;type&quot;: &quot;Polygon&quot;}, &quot;id&quot;: &quot;3&quot;, &quot;properties&quot;: {&quot;area&quot;: 1.7580643500033164e-05, &quot;center&quot;: &quot;[101.69396136409445, 3.1394620891138714]&quot;, &quot;isochrone_id&quot;: 1300, &quot;reachfactor&quot;: 0.6233, &quot;station_id&quot;: &quot;1&quot;, &quot;total_pop&quot;: 1069.0, &quot;type&quot;: &quot;Polygon&quot;, &quot;value&quot;: 300}, &quot;type&quot;: &quot;Feature&quot;}, {&quot;bbox&quot;: [101.690127, 3.151269, 101.695707, 3.158233], &quot;geometry&quot;: {&quot;coordinates&quot;: [[[101.691538, 3.151706], [101.691762, 3.151425], [101.692286, 3.151269], [101.692503, 3.15129], [101.694766, 3.153206], [101.694883, 3.15335], [101.695349, 3.15414], [101.695707, 3.155532], [101.695639, 3.155885], [101.69472, 3.156908], [101.692893, 3.158103], [101.692803, 3.158158], [101.692674, 3.158217], [101.692596, 3.158233], [101.690127, 3.154343], [101.691538, 3.151706]]], &quot;type&quot;: &quot;Polygon&quot;}, &quot;id&quot;: &quot;6&quot;, &quot;properties&quot;: {&quot;area&quot;: 2.338473550000664e-05, &quot;center&quot;: &quot;[101.69293232544325, 3.1545974065434557]&quot;, &quot;isochrone_id&quot;: 2300, &quot;reachfactor&quot;: 0.8288, &quot;station_id&quot;: &quot;2&quot;, &quot;total_pop&quot;: 3527.0, &quot;type&quot;: &quot;Polygon&quot;, &quot;value&quot;: 300}, &quot;type&quot;: &quot;Feature&quot;}, {&quot;bbox&quot;: [101.688235, 3.161886, 101.693187, 3.167837], &quot;geometry&quot;: {&quot;coordinates&quot;: [[[101.688651, 3.163433], [101.688728, 3.163357], [101.690598, 3.161886], [101.690945, 3.161983], [101.692634, 3.16331], [101.693177, 3.164588], [101.693187, 3.164842], [101.692924, 3.166125], [101.692178, 3.166912], [101.691023, 3.167837], [101.690678, 3.167734], [101.689168, 3.165926], [101.688235, 3.164561], [101.688651, 3.163433]]], &quot;type&quot;: &quot;Polygon&quot;}, &quot;id&quot;: &quot;9&quot;, &quot;properties&quot;: {&quot;area&quot;: 1.855495300000621e-05, &quot;center&quot;: &quot;[101.69119879753202, 3.1649780654673743]&quot;, &quot;isochrone_id&quot;: 3300, &quot;reachfactor&quot;: 0.6577, &quot;station_id&quot;: &quot;3&quot;, &quot;total_pop&quot;: 1406.0, &quot;type&quot;: &quot;Polygon&quot;, &quot;value&quot;: 300}, &quot;type&quot;: &quot;Feature&quot;}, {&quot;bbox&quot;: [101.785208, 2.937171, 101.7907, 2.942301], &quot;geometry&quot;: {&quot;coordinates&quot;: [[[101.785208, 2.941171], [101.785627, 2.940009], [101.788218, 2.938493], [101.790484, 2.937171], [101.7907, 2.937459], [101.789365, 2.9414], [101.789088, 2.941562], [101.788013, 2.942026], [101.78573, 2.942301], [101.785373, 2.942253], [101.785295, 2.942051], [101.785208, 2.941171]]], &quot;type&quot;: &quot;Polygon&quot;}, &quot;id&quot;: &quot;11&quot;, &quot;properties&quot;: {&quot;area&quot;: 1.4823439000002481e-05, &quot;center&quot;: &quot;[101.7877487, 2.9395406]&quot;, &quot;isochrone_id&quot;: 10300, &quot;reachfactor&quot;: 0.5254, &quot;station_id&quot;: &quot;10&quot;, &quot;total_pop&quot;: 804.0, &quot;type&quot;: &quot;Polygon&quot;, &quot;value&quot;: 300}, &quot;type&quot;: &quot;Feature&quot;}, {&quot;bbox&quot;: [101.702929, 3.095638, 101.707892, 3.100219], &quot;geometry&quot;: {&quot;coordinates&quot;: [[[101.703123, 3.099104], [101.703343, 3.098534], [101.703537, 3.098207], [101.70368, 3.098091], [101.707669, 3.095638], [101.707892, 3.09592], [101.705185, 3.099758], [101.704705, 3.100156], [101.704443, 3.100219], [101.703616, 3.10021], [101.703194, 3.099902], [101.702929, 3.099658], [101.703123, 3.099104]]], &quot;type&quot;: &quot;Polygon&quot;}, &quot;id&quot;: &quot;17&quot;, &quot;properties&quot;: {&quot;area&quot;: 8.73089599999927e-06, &quot;center&quot;: &quot;[101.7052056, 3.0979583]&quot;, &quot;isochrone_id&quot;: 6300, &quot;reachfactor&quot;: 0.3096, &quot;station_id&quot;: &quot;6&quot;, &quot;total_pop&quot;: 437.0, &quot;type&quot;: &quot;Polygon&quot;, &quot;value&quot;: 300}, &quot;type&quot;: &quot;Feature&quot;}, {&quot;bbox&quot;: [101.709087, 3.073887, 101.714107, 3.077806], &quot;geometry&quot;: {&quot;coordinates&quot;: [[[101.709087, 3.075215], [101.710075, 3.074152], [101.71032, 3.073888], [101.710527, 3.073887], [101.713237, 3.075847], [101.713874, 3.076517], [101.714107, 3.077008], [101.71398, 3.077345], [101.712399, 3.077806], [101.710836, 3.077395], [101.709623, 3.076055], [101.70942, 3.075834], [101.709176, 3.075538], [101.709087, 3.075215]]], &quot;type&quot;: &quot;Polygon&quot;}, &quot;id&quot;: &quot;20&quot;, &quot;properties&quot;: {&quot;area&quot;: 1.0877836500019058e-05, &quot;center&quot;: &quot;[101.7111191278877, 3.076309029775572]&quot;, &quot;isochrone_id&quot;: 7300, &quot;reachfactor&quot;: 0.3856, &quot;station_id&quot;: &quot;7&quot;, &quot;total_pop&quot;: 637.0, &quot;type&quot;: &quot;Polygon&quot;, &quot;value&quot;: 300}, &quot;type&quot;: &quot;Feature&quot;}, {&quot;bbox&quot;: [101.713225, 3.021714, 101.717542, 3.025939], &quot;geometry&quot;: {&quot;coordinates&quot;: [[[101.715136, 3.022174], [101.715569, 3.021851], [101.716036, 3.021714], [101.716353, 3.021884], [101.717102, 3.022835], [101.717159, 3.023021], [101.717242, 3.023307], [101.717493, 3.024812], [101.717542, 3.025354], [101.717537, 3.025375], [101.716817, 3.025775], [101.715476, 3.025939], [101.714227, 3.025763], [101.713899, 3.025614], [101.713225, 3.0241], [101.715136, 3.022174]]], &quot;type&quot;: &quot;Polygon&quot;}, &quot;id&quot;: &quot;23&quot;, &quot;properties&quot;: {&quot;area&quot;: 1.2608699500009606e-05, &quot;center&quot;: &quot;[101.7159968, 3.0233759]&quot;, &quot;isochrone_id&quot;: 8300, &quot;reachfactor&quot;: 0.4471, &quot;station_id&quot;: &quot;8&quot;, &quot;total_pop&quot;: 1458.0, &quot;type&quot;: &quot;Polygon&quot;, &quot;value&quot;: 300}, &quot;type&quot;: &quot;Feature&quot;}, {&quot;bbox&quot;: [101.868093, 2.738968, 101.87392, 2.742435], &quot;geometry&quot;: {&quot;coordinates&quot;: [[[101.868093, 2.742088], [101.868657, 2.741182], [101.869402, 2.740194], [101.871542, 2.739029], [101.871901, 2.739001], [101.872324, 2.738968], [101.873803, 2.740506], [101.87392, 2.740847], [101.873819, 2.740881], [101.873541, 2.740957], [101.873274, 2.741029], [101.873038, 2.74108], [101.872811, 2.741129], [101.868914, 2.742234], [101.868551, 2.742334], [101.868189, 2.742435], [101.868093, 2.742088]]], &quot;type&quot;: &quot;Polygon&quot;}, &quot;id&quot;: &quot;26&quot;, &quot;properties&quot;: {&quot;area&quot;: 1.0059339000004295e-05, &quot;center&quot;: &quot;[101.871728, 2.7411712]&quot;, &quot;isochrone_id&quot;: 15300, &quot;reachfactor&quot;: 0.3567, &quot;station_id&quot;: &quot;15&quot;, &quot;total_pop&quot;: 124.0, &quot;type&quot;: &quot;Polygon&quot;, &quot;value&quot;: 300}, &quot;type&quot;: &quot;Feature&quot;}, {&quot;bbox&quot;: [101.676646, 3.115145, 101.681526, 3.122412], &quot;geometry&quot;: {&quot;coordinates&quot;: [[[101.676646, 3.119904], [101.676674, 3.119479], [101.677034, 3.115789], [101.677104, 3.115436], [101.678644, 3.115145], [101.67895, 3.115454], [101.681301, 3.118986], [101.681526, 3.119744], [101.68052, 3.121009], [101.679574, 3.121768], [101.678813, 3.122383], [101.678751, 3.122412], [101.678542, 3.1224], [101.676712, 3.120352], [101.676646, 3.119904]]], &quot;type&quot;: &quot;Polygon&quot;}, &quot;id&quot;: &quot;27&quot;, &quot;properties&quot;: {&quot;area&quot;: 2.2986923500008006e-05, &quot;center&quot;: &quot;[101.67916869413706, 3.1185761177070312]&quot;, &quot;isochrone_id&quot;: 4300, &quot;reachfactor&quot;: 0.8148, &quot;station_id&quot;: &quot;4&quot;, &quot;total_pop&quot;: 2778.0, &quot;type&quot;: &quot;Polygon&quot;, &quot;value&quot;: 300}, &quot;type&quot;: &quot;Feature&quot;}, {&quot;bbox&quot;: [101.678762, 3.111858, 101.684661, 3.116527], &quot;geometry&quot;: {&quot;coordinates&quot;: [[[101.67878, 3.114787], [101.678762, 3.114166], [101.678808, 3.113684], [101.679867, 3.111858], [101.679983, 3.11187], [101.684661, 3.112953], [101.684656, 3.113313], [101.684285, 3.114427], [101.683047, 3.116302], [101.682766, 3.116527], [101.682582, 3.116505], [101.678982, 3.115475], [101.678812, 3.115076], [101.67878, 3.114787]]], &quot;type&quot;: &quot;Polygon&quot;}, &quot;id&quot;: &quot;28&quot;, &quot;properties&quot;: {&quot;area&quot;: 1.9181064499999232e-05, &quot;center&quot;: &quot;[101.68132060277134, 3.1137254405689823]&quot;, &quot;isochrone_id&quot;: 5300, &quot;reachfactor&quot;: 0.6799, &quot;station_id&quot;: &quot;5&quot;, &quot;total_pop&quot;: 1680.0, &quot;type&quot;: &quot;Polygon&quot;, &quot;value&quot;: 300}, &quot;type&quot;: &quot;Feature&quot;}, {&quot;bbox&quot;: [101.826002, 2.826398, 101.829283, 2.83357], &quot;geometry&quot;: {&quot;coordinates&quot;: [[[101.827481, 2.833127], [101.827399, 2.832684], [101.826971, 2.83019], [101.826002, 2.826567], [101.82632, 2.826398], [101.829097, 2.829776], [101.829283, 2.830983], [101.829229, 2.831339], [101.827916, 2.833505], [101.827562, 2.83357], [101.827481, 2.833127]]], &quot;type&quot;: &quot;Polygon&quot;}, &quot;id&quot;: &quot;33&quot;, &quot;properties&quot;: {&quot;area&quot;: 1.0408715999997025e-05, &quot;center&quot;: &quot;[101.8269775, 2.8302305]&quot;, &quot;isochrone_id&quot;: 12300, &quot;reachfactor&quot;: 0.3691, &quot;station_id&quot;: &quot;12&quot;, &quot;total_pop&quot;: 354.0, &quot;type&quot;: &quot;Polygon&quot;, &quot;value&quot;: 300}, &quot;type&quot;: &quot;Feature&quot;}, {&quot;bbox&quot;: [101.798212, 2.799565, 101.80267, 2.804605], &quot;geometry&quot;: {&quot;coordinates&quot;: [[[101.798212, 2.801483], [101.798215, 2.801462], [101.799805, 2.799756], [101.80011, 2.799565], [101.801077, 2.800661], [101.80267, 2.804461], [101.802526, 2.804605], [101.802116, 2.804591], [101.802042, 2.804554], [101.798399, 2.802733], [101.798214, 2.802541], [101.798212, 2.801483]]], &quot;type&quot;: &quot;Polygon&quot;}, &quot;id&quot;: &quot;36&quot;, &quot;properties&quot;: {&quot;area&quot;: 1.1583312500016975e-05, &quot;center&quot;: &quot;[101.79992376041807, 2.802220206355173]&quot;, &quot;isochrone_id&quot;: 13300, &quot;reachfactor&quot;: 0.4107, &quot;station_id&quot;: &quot;13&quot;, &quot;total_pop&quot;: 405.0, &quot;type&quot;: &quot;Polygon&quot;, &quot;value&quot;: 300}, &quot;type&quot;: &quot;Feature&quot;}, {&quot;bbox&quot;: [101.823011, 2.751742, 101.83036, 2.754962], &quot;geometry&quot;: {&quot;coordinates&quot;: [[[101.823011, 2.753915], [101.824411, 2.751813], [101.82442, 2.751809], [101.828874, 2.751742], [101.830268, 2.75264], [101.83036, 2.752988], [101.829212, 2.753335], [101.82427, 2.754962], [101.823743, 2.754961], [101.823516, 2.754716], [101.823034, 2.754075], [101.823011, 2.753915]]], &quot;type&quot;: &quot;Polygon&quot;}, &quot;id&quot;: &quot;39&quot;, &quot;properties&quot;: {&quot;area&quot;: 1.4807737000005521e-05, &quot;center&quot;: &quot;[101.82658421383195, 2.7538698413573086]&quot;, &quot;isochrone_id&quot;: 14300, &quot;reachfactor&quot;: 0.5251, &quot;station_id&quot;: &quot;14&quot;, &quot;total_pop&quot;: 517.0, &quot;type&quot;: &quot;Polygon&quot;, &quot;value&quot;: 300}, &quot;type&quot;: &quot;Feature&quot;}, {&quot;bbox&quot;: [101.783277, 2.900884, 101.788077, 2.906767], &quot;geometry&quot;: {&quot;coordinates&quot;: [[[101.783456, 2.902842], [101.783964, 2.901261], [101.784164, 2.900961], [101.784858, 2.900884], [101.787974, 2.905898], [101.788007, 2.906015], [101.788058, 2.906398], [101.788077, 2.906584], [101.788022, 2.906767], [101.78463, 2.906223], [101.783532, 2.905456], [101.783277, 2.905202], [101.783456, 2.902842]]], &quot;type&quot;: &quot;Polygon&quot;}, &quot;id&quot;: &quot;42&quot;, &quot;properties&quot;: {&quot;area&quot;: 1.6341562500013983e-05, &quot;center&quot;: &quot;[101.7859919, 2.90388]&quot;, &quot;isochrone_id&quot;: 11300, &quot;reachfactor&quot;: 0.5794, &quot;station_id&quot;: &quot;11&quot;, &quot;total_pop&quot;: 801.0, &quot;type&quot;: &quot;Polygon&quot;, &quot;value&quot;: 300}, &quot;type&quot;: &quot;Feature&quot;}, {&quot;bbox&quot;: [101.994254, 2.659084, 101.997712, 2.663916], &quot;geometry&quot;: {&quot;coordinates&quot;: [[[101.994933, 2.660444], [101.995703, 2.659692], [101.996501, 2.659084], [101.997712, 2.659638], [101.997596, 2.659978], [101.995316, 2.663916], [101.994956, 2.663901], [101.994394, 2.662912], [101.994288, 2.662679], [101.994254, 2.66258], [101.994933, 2.660444]]], &quot;type&quot;: &quot;Polygon&quot;}, &quot;id&quot;: &quot;50&quot;, &quot;properties&quot;: {&quot;area&quot;: 8.30732400000445e-06, &quot;center&quot;: &quot;[101.99607133897402, 2.660442213374619]&quot;, &quot;isochrone_id&quot;: 18300, &quot;reachfactor&quot;: 0.2947, &quot;station_id&quot;: &quot;18&quot;, &quot;total_pop&quot;: 89.0, &quot;type&quot;: &quot;Polygon&quot;, &quot;value&quot;: 300}, &quot;type&quot;: &quot;Feature&quot;}, {&quot;bbox&quot;: [101.994254, 2.659084, 101.997712, 2.663916], &quot;geometry&quot;: {&quot;coordinates&quot;: [[[101.994933, 2.660444], [101.995703, 2.659692], [101.996501, 2.659084], [101.997712, 2.659638], [101.997596, 2.659978], [101.995316, 2.663916], [101.994956, 2.663901], [101.994394, 2.662912], [101.994288, 2.662679], [101.994254, 2.66258], [101.994933, 2.660444]]], &quot;type&quot;: &quot;Polygon&quot;}, &quot;id&quot;: &quot;53&quot;, &quot;properties&quot;: {&quot;area&quot;: 8.30732400000445e-06, &quot;center&quot;: &quot;[101.99607133897402, 2.660442213374619]&quot;, &quot;isochrone_id&quot;: 19300, &quot;reachfactor&quot;: 0.2947, &quot;station_id&quot;: &quot;19&quot;, &quot;total_pop&quot;: 89.0, &quot;type&quot;: &quot;Polygon&quot;, &quot;value&quot;: 300}, &quot;type&quot;: &quot;Feature&quot;}, {&quot;bbox&quot;: [102.22583, 2.461433, 102.229398, 2.463318], &quot;geometry&quot;: {&quot;coordinates&quot;: [[[102.227119, 2.462352], [102.227273, 2.462277], [102.229228, 2.461433], [102.229398, 2.46175], [102.22893, 2.462002], [102.228462, 2.462254], [102.228231, 2.462351], [102.225876, 2.463318], [102.22583, 2.463256], [102.227119, 2.462352]]], &quot;type&quot;: &quot;Polygon&quot;}, &quot;id&quot;: &quot;56&quot;, &quot;properties&quot;: {&quot;area&quot;: 1.3643299999959988e-06, &quot;center&quot;: &quot;[102.2258577, 2.463407]&quot;, &quot;isochrone_id&quot;: 20300, &quot;reachfactor&quot;: 0.0484, &quot;station_id&quot;: &quot;20&quot;, &quot;total_pop&quot;: 60.0, &quot;type&quot;: &quot;Polygon&quot;, &quot;value&quot;: 300}, &quot;type&quot;: &quot;Feature&quot;}, {&quot;bbox&quot;: [101.937593, 2.717344, 101.943411, 2.722272], &quot;geometry&quot;: {&quot;coordinates&quot;: [[[101.937697, 2.720206], [101.937978, 2.720048], [101.941035, 2.718395], [101.942606, 2.717537], [101.942781, 2.717468], [101.943206, 2.717344], [101.943411, 2.717639], [101.942567, 2.719836], [101.942415, 2.720162], [101.941806, 2.721207], [101.93977, 2.722272], [101.939424, 2.722174], [101.938532, 2.721402], [101.938193, 2.721062], [101.937593, 2.720382], [101.937697, 2.720206]]], &quot;type&quot;: &quot;Polygon&quot;}, &quot;id&quot;: &quot;58&quot;, &quot;properties&quot;: {&quot;area&quot;: 1.367046299998915e-05, &quot;center&quot;: &quot;[101.94052899886414, 2.718895489957214]&quot;, &quot;isochrone_id&quot;: 16300, &quot;reachfactor&quot;: 0.4848, &quot;station_id&quot;: &quot;16&quot;, &quot;total_pop&quot;: 1286.0, &quot;type&quot;: &quot;Polygon&quot;, &quot;value&quot;: 300}, &quot;type&quot;: &quot;Feature&quot;}, {&quot;bbox&quot;: [101.96991, 2.687265, 101.974015, 2.691287], &quot;geometry&quot;: {&quot;coordinates&quot;: [[[101.970042, 2.689917], [101.970174, 2.689307], [101.970176, 2.689302], [101.970324, 2.688696], [101.970472, 2.68809], [101.971565, 2.687529], [101.972631, 2.687265], [101.972964, 2.687401], [101.973526, 2.687621], [101.97394, 2.687945], [101.974015, 2.688297], [101.973664, 2.68884], [101.972157, 2.690631], [101.971269, 2.691287], [101.97008, 2.690817], [101.96991, 2.690526], [101.970042, 2.689917]]], &quot;type&quot;: &quot;Polygon&quot;}, &quot;id&quot;: &quot;60&quot;, &quot;properties&quot;: {&quot;area&quot;: 1.0239576499990974e-05, &quot;center&quot;: &quot;[101.97184151056248, 2.6904387732523465]&quot;, &quot;isochrone_id&quot;: 17300, &quot;reachfactor&quot;: 0.3631, &quot;station_id&quot;: &quot;17&quot;, &quot;total_pop&quot;: 792.0, &quot;type&quot;: &quot;Polygon&quot;, &quot;value&quot;: 300}, &quot;type&quot;: &quot;Feature&quot;}, {&quot;bbox&quot;: [101.788569, 2.979548, 101.792628, 2.987626], &quot;geometry&quot;: {&quot;coordinates&quot;: [[[101.7905197947245, 2.980258167880356], [101.790009, 2.979649], [101.78991, 2.979548], [101.789551, 2.979572], [101.788569, 2.980451], [101.788578, 2.980811], [101.788673, 2.981838], [101.789473, 2.98599], [101.789547, 2.986335], [101.789907, 2.986339], [101.7905476881708, 2.986127049623668], [101.791138, 2.987377], [101.791213, 2.987506], [101.791302, 2.987626], [101.791662, 2.987618], [101.792628, 2.986064], [101.792517, 2.985244], [101.7923468886017, 2.984126063883693], [101.792384, 2.984058], [101.792399, 2.983857], [101.792413, 2.983656], [101.79212, 2.982635], [101.791938, 2.981608], [101.790941, 2.980355], [101.790837, 2.980252], [101.7905197947245, 2.980258167880356]]], &quot;type&quot;: &quot;Polygon&quot;}, &quot;id&quot;: &quot;64&quot;, &quot;properties&quot;: {&quot;area&quot;: 2.1213679182240835e-05, &quot;center&quot;: &quot;[101.79089, 2.9838212]&quot;, &quot;isochrone_id&quot;: 9300, &quot;reachfactor&quot;: 0.5704499999999999, &quot;station_id&quot;: &quot;9&quot;, &quot;total_pop&quot;: 1331.5, &quot;type&quot;: &quot;Polygon&quot;, &quot;value&quot;: 300}, &quot;type&quot;: &quot;Feature&quot;}, {&quot;bbox&quot;: [101.686212, 3.17834, 101.691722, 3.18621], &quot;geometry&quot;: {&quot;coordinates&quot;: [[[101.687057, 3.178494], [101.687382, 3.17834], [101.690615, 3.180927], [101.690921, 3.181312], [101.690997, 3.181408], [101.691722, 3.18285], [101.691667, 3.183206], [101.691579, 3.183357], [101.69085, 3.1846], [101.689032, 3.186169], [101.688674, 3.18621], [101.686912, 3.183818], [101.686364, 3.183096], [101.686212, 3.18277], [101.687057, 3.178494]]], &quot;type&quot;: &quot;Polygon&quot;}, &quot;id&quot;: &quot;70&quot;, &quot;properties&quot;: {&quot;area&quot;: 2.571129799998182e-05, &quot;center&quot;: &quot;[101.6888573, 3.1823043]&quot;, &quot;isochrone_id&quot;: 21300, &quot;reachfactor&quot;: 0.9114, &quot;station_id&quot;: &quot;21&quot;, &quot;total_pop&quot;: 1367.0, &quot;type&quot;: &quot;Polygon&quot;, &quot;value&quot;: 300}, &quot;type&quot;: &quot;Feature&quot;}, {&quot;bbox&quot;: [101.678489, 3.19588, 101.682173, 3.199495], &quot;geometry&quot;: {&quot;coordinates&quot;: [[[101.67862, 3.198935], [101.678489, 3.198471], [101.679244, 3.196084], [101.679484, 3.19588], [101.679561, 3.19588], [101.680292, 3.195931], [101.680664, 3.195975], [101.682173, 3.196553], [101.682049, 3.19704], [101.681797, 3.19743], [101.681167, 3.19814], [101.680437, 3.198865], [101.679392, 3.199375], [101.679106, 3.199475], [101.679025, 3.199495], [101.678721, 3.199302], [101.67862, 3.198935]]], &quot;type&quot;: &quot;Polygon&quot;}, &quot;id&quot;: &quot;72&quot;, &quot;properties&quot;: {&quot;area&quot;: 8.323036500016739e-06, &quot;center&quot;: &quot;[101.6811889, 3.1981577]&quot;, &quot;isochrone_id&quot;: 22300, &quot;reachfactor&quot;: 0.295, &quot;station_id&quot;: &quot;22&quot;, &quot;total_pop&quot;: 1478.0, &quot;type&quot;: &quot;Polygon&quot;, &quot;value&quot;: 300}, &quot;type&quot;: &quot;Feature&quot;}, {&quot;bbox&quot;: [101.673263, 3.201999, 101.677384, 3.207682], &quot;geometry&quot;: {&quot;coordinates&quot;: [[[101.673263, 3.204956], [101.673786, 3.203042], [101.674022, 3.202681], [101.674272, 3.202528], [101.674857, 3.202274], [101.675783, 3.201999], [101.675933, 3.202013], [101.676076, 3.202107], [101.676215, 3.202248], [101.677351, 3.203811], [101.677384, 3.204682], [101.676901, 3.205915], [101.67665, 3.206173], [101.675344, 3.207519], [101.675192, 3.207682], [101.674995, 3.207617], [101.674863, 3.207564], [101.673849, 3.206902], [101.673575, 3.206668], [101.67354, 3.206571], [101.673263, 3.204956]]], &quot;type&quot;: &quot;Polygon&quot;}, &quot;id&quot;: &quot;73&quot;, &quot;properties&quot;: {&quot;area&quot;: 1.6422093999976215e-05, &quot;center&quot;: &quot;[101.6756362078567, 3.204807719599387]&quot;, &quot;isochrone_id&quot;: 23300, &quot;reachfactor&quot;: 0.5821, &quot;station_id&quot;: &quot;23&quot;, &quot;total_pop&quot;: 3398.0, &quot;type&quot;: &quot;Polygon&quot;, &quot;value&quot;: 300}, &quot;type&quot;: &quot;Feature&quot;}, {&quot;bbox&quot;: [101.669302, 3.210843, 101.675278, 3.217937], &quot;geometry&quot;: {&quot;coordinates&quot;: [[[101.669302, 3.21528], [101.669417, 3.213719], [101.670229, 3.212832], [101.671255, 3.211792], [101.672271, 3.21086], [101.672631, 3.210843], [101.672712, 3.21089], [101.674393, 3.212538], [101.675278, 3.213615], [101.675274, 3.213975], [101.673447, 3.216929], [101.672943, 3.217797], [101.671972, 3.217937], [101.671636, 3.217808], [101.669341, 3.215638], [101.669302, 3.21528]]], &quot;type&quot;: &quot;Polygon&quot;}, &quot;id&quot;: &quot;76&quot;, &quot;properties&quot;: {&quot;area&quot;: 2.6735999499984223e-05, &quot;center&quot;: &quot;[101.67217514370128, 3.2144348288832902]&quot;, &quot;isochrone_id&quot;: 24300, &quot;reachfactor&quot;: 0.9476, &quot;station_id&quot;: &quot;24&quot;, &quot;total_pop&quot;: 2214.0, &quot;type&quot;: &quot;Polygon&quot;, &quot;value&quot;: 300}, &quot;type&quot;: &quot;Feature&quot;}, {&quot;bbox&quot;: [101.68043, 3.235502, 101.68387, 3.240869], &quot;geometry&quot;: {&quot;coordinates&quot;: [[[101.680714, 3.238963], [101.68043, 3.237609], [101.680661, 3.236182], [101.681024, 3.235615], [101.681265, 3.235518], [101.681321, 3.235502], [101.682021, 3.235721], [101.683767, 3.2366], [101.683847, 3.236951], [101.68387, 3.237183], [101.68147, 3.240854], [101.681111, 3.240869], [101.680714, 3.238963]]], &quot;type&quot;: &quot;Polygon&quot;}, &quot;id&quot;: &quot;78&quot;, &quot;properties&quot;: {&quot;area&quot;: 1.106058800001851e-05, &quot;center&quot;: &quot;[101.68120164227555, 3.23788813094384]&quot;, &quot;isochrone_id&quot;: 25300, &quot;reachfactor&quot;: 0.392, &quot;station_id&quot;: &quot;25&quot;, &quot;total_pop&quot;: 524.0, &quot;type&quot;: &quot;Polygon&quot;, &quot;value&quot;: 300}, &quot;type&quot;: &quot;Feature&quot;}, {&quot;bbox&quot;: [101.683995, 3.13165, 101.689254, 3.13695], &quot;geometry&quot;: {&quot;coordinates&quot;: [[[101.68409, 3.133054], [101.684363, 3.13282], [101.686566, 3.131712], [101.68681, 3.131694], [101.687763, 3.13165], [101.688293, 3.131946], [101.68856, 3.132188], [101.688703, 3.132495], [101.689093, 3.133629], [101.689099, 3.13372], [101.689254, 3.135946], [101.689079, 3.13626], [101.68818, 3.13669], [101.686244, 3.13695], [101.6857, 3.136912], [101.685676, 3.136902], [101.685508, 3.136691], [101.683995, 3.133657], [101.68409, 3.133054]]], &quot;type&quot;: &quot;Polygon&quot;}, &quot;id&quot;: &quot;81&quot;, &quot;properties&quot;: {&quot;area&quot;: 2.1072351000019642e-05, &quot;center&quot;: &quot;[101.68630396418591, 3.134461275989355]&quot;, &quot;isochrone_id&quot;: 26300, &quot;reachfactor&quot;: 0.7469, &quot;station_id&quot;: &quot;26&quot;, &quot;total_pop&quot;: 2635.0, &quot;type&quot;: &quot;Polygon&quot;, &quot;value&quot;: 300}, &quot;type&quot;: &quot;Feature&quot;}, {&quot;bbox&quot;: [101.666883, 3.060512, 101.672543, 3.064075], &quot;geometry&quot;: {&quot;coordinates&quot;: [[[101.666883, 3.061657], [101.667394, 3.060792], [101.66762, 3.060512], [101.669498, 3.060934], [101.67208, 3.061453], [101.672543, 3.061675], [101.672506, 3.061836], [101.671975, 3.062396], [101.669529, 3.064041], [101.66944, 3.064075], [101.669251, 3.064067], [101.66889, 3.06395], [101.668418, 3.063639], [101.666889, 3.062017], [101.666883, 3.061657]]], &quot;type&quot;: &quot;Polygon&quot;}, &quot;id&quot;: &quot;83&quot;, &quot;properties&quot;: {&quot;area&quot;: 1.1828073499999409e-05, &quot;center&quot;: &quot;[101.67059016401377, 3.0621701567564075]&quot;, &quot;isochrone_id&quot;: 88300, &quot;reachfactor&quot;: 0.4193, &quot;station_id&quot;: &quot;88&quot;, &quot;total_pop&quot;: 1145.0, &quot;type&quot;: &quot;Polygon&quot;, &quot;value&quot;: 300}, &quot;type&quot;: &quot;Feature&quot;}, {&quot;bbox&quot;: [101.691159, 3.136581, 101.695419, 3.143131], &quot;geometry&quot;: {&quot;coordinates&quot;: [[[101.691226, 3.137658], [101.691636, 3.136581], [101.694621, 3.136744], [101.695384, 3.137304], [101.695419, 3.137616], [101.695299, 3.138986], [101.694908, 3.142329], [101.694725, 3.143122], [101.694334, 3.143131], [101.694204, 3.143107], [101.691159, 3.138012], [101.691226, 3.137658]]], &quot;type&quot;: &quot;Polygon&quot;}, &quot;id&quot;: &quot;84&quot;, &quot;properties&quot;: {&quot;area&quot;: 1.753166350001657e-05, &quot;center&quot;: &quot;[101.69396703590424, 3.1394813968241753]&quot;, &quot;isochrone_id&quot;: 27300, &quot;reachfactor&quot;: 0.6215, &quot;station_id&quot;: &quot;27&quot;, &quot;total_pop&quot;: 1069.0, &quot;type&quot;: &quot;Polygon&quot;, &quot;value&quot;: 300}, &quot;type&quot;: &quot;Feature&quot;}, {&quot;bbox&quot;: [101.690128, 3.151272, 101.695721, 3.158234], &quot;geometry&quot;: {&quot;coordinates&quot;: [[[101.691541, 3.151709], [101.691766, 3.151428], [101.692285, 3.151272], [101.692501, 3.15129], [101.694767, 3.153191], [101.694883, 3.153335], [101.695362, 3.15414], [101.695721, 3.155534], [101.695653, 3.155888], [101.69472, 3.156917], [101.692893, 3.158103], [101.692803, 3.158158], [101.692674, 3.158217], [101.692592, 3.158234], [101.690128, 3.154342], [101.691541, 3.151709]]], &quot;type&quot;: &quot;Polygon&quot;}, &quot;id&quot;: &quot;85&quot;, &quot;properties&quot;: {&quot;area&quot;: 2.345118949998562e-05, &quot;center&quot;: &quot;[101.6929348, 3.1546009]&quot;, &quot;isochrone_id&quot;: 28300, &quot;reachfactor&quot;: 0.8312, &quot;station_id&quot;: &quot;28&quot;, &quot;total_pop&quot;: 3527.0, &quot;type&quot;: &quot;Polygon&quot;, &quot;value&quot;: 300}, &quot;type&quot;: &quot;Feature&quot;}, {&quot;bbox&quot;: [101.688235, 3.161886, 101.693187, 3.167837], &quot;geometry&quot;: {&quot;coordinates&quot;: [[[101.688651, 3.163433], [101.688728, 3.163357], [101.690598, 3.161886], [101.690945, 3.161983], [101.692634, 3.16331], [101.693177, 3.164588], [101.693187, 3.164842], [101.692924, 3.166125], [101.692178, 3.166912], [101.691023, 3.167837], [101.690678, 3.167734], [101.689168, 3.165926], [101.688235, 3.164561], [101.688651, 3.163433]]], &quot;type&quot;: &quot;Polygon&quot;}, &quot;id&quot;: &quot;88&quot;, &quot;properties&quot;: {&quot;area&quot;: 1.855495300000621e-05, &quot;center&quot;: &quot;[101.69119879753202, 3.1649780654673743]&quot;, &quot;isochrone_id&quot;: 29300, &quot;reachfactor&quot;: 0.6577, &quot;station_id&quot;: &quot;29&quot;, &quot;total_pop&quot;: 1406.0, &quot;type&quot;: &quot;Polygon&quot;, &quot;value&quot;: 300}, &quot;type&quot;: &quot;Feature&quot;}, {&quot;bbox&quot;: [101.660628, 3.185221, 101.666236, 3.189062], &quot;geometry&quot;: {&quot;coordinates&quot;: [[[101.660733, 3.186382], [101.660907, 3.186095], [101.661258, 3.186012], [101.662005, 3.185861], [101.664873, 3.185221], [101.666236, 3.187007], [101.666199, 3.187189], [101.666144, 3.187387], [101.663765, 3.189046], [101.663666, 3.189062], [101.663345, 3.188898], [101.662114, 3.18826], [101.660628, 3.186727], [101.660733, 3.186382]]], &quot;type&quot;: &quot;Polygon&quot;}, &quot;id&quot;: &quot;91&quot;, &quot;properties&quot;: {&quot;area&quot;: 1.3127499999997053e-05, &quot;center&quot;: &quot;[101.66411760145601, 3.186299331178106]&quot;, &quot;isochrone_id&quot;: 30300, &quot;reachfactor&quot;: 0.4653, &quot;station_id&quot;: &quot;30&quot;, &quot;total_pop&quot;: 675.0, &quot;type&quot;: &quot;Polygon&quot;, &quot;value&quot;: 300}, &quot;type&quot;: &quot;Feature&quot;}, {&quot;bbox&quot;: [101.635572, 3.20029, 101.640533, 3.205762], &quot;geometry&quot;: {&quot;coordinates&quot;: [[[101.637755, 3.200503], [101.638045, 3.20029], [101.639335, 3.200749], [101.63978, 3.200925], [101.639813, 3.20096], [101.640366, 3.202094], [101.640533, 3.202619], [101.640102, 3.203065], [101.636841, 3.205638], [101.635829, 3.205762], [101.635572, 3.20551], [101.637755, 3.200503]]], &quot;type&quot;: &quot;Polygon&quot;}, &quot;id&quot;: &quot;94&quot;, &quot;properties&quot;: {&quot;area&quot;: 1.364213200002413e-05, &quot;center&quot;: &quot;[101.63752424938214, 3.202931066341391]&quot;, &quot;isochrone_id&quot;: 31300, &quot;reachfactor&quot;: 0.4836, &quot;station_id&quot;: &quot;31&quot;, &quot;total_pop&quot;: 1398.0, &quot;type&quot;: &quot;Polygon&quot;, &quot;value&quot;: 300}, &quot;type&quot;: &quot;Feature&quot;}, {&quot;bbox&quot;: [101.625961, 3.206144, 101.631667, 3.211736], &quot;geometry&quot;: {&quot;coordinates&quot;: [[[101.625961, 3.208193], [101.625963, 3.208149], [101.626001, 3.20809], [101.628549, 3.20626], [101.62889, 3.206144], [101.631518, 3.208024], [101.631667, 3.208351], [101.631365, 3.209238], [101.631088, 3.210063], [101.630182, 3.21161], [101.629845, 3.211736], [101.629138, 3.211735], [101.625968, 3.208448], [101.625961, 3.208193]]], &quot;type&quot;: &quot;Polygon&quot;}, &quot;id&quot;: &quot;97&quot;, &quot;properties&quot;: {&quot;area&quot;: 1.8867740000001753e-05, &quot;center&quot;: &quot;[101.62851349827879, 3.208701585934904]&quot;, &quot;isochrone_id&quot;: 32300, &quot;reachfactor&quot;: 0.6688, &quot;station_id&quot;: &quot;32&quot;, &quot;total_pop&quot;: 1452.0, &quot;type&quot;: &quot;Polygon&quot;, &quot;value&quot;: 300}, &quot;type&quot;: &quot;Feature&quot;}, {&quot;bbox&quot;: [101.576851, 3.203105, 101.584019, 3.208142], &quot;geometry&quot;: {&quot;coordinates&quot;: [[[101.579119, 3.203167], [101.579474, 3.203105], [101.583837, 3.204139], [101.584019, 3.204449], [101.58221, 3.206065], [101.581429, 3.206624], [101.579111, 3.208026], [101.578946, 3.208132], [101.578724, 3.208142], [101.577058, 3.207675], [101.576851, 3.20738], [101.579119, 3.203167]]], &quot;type&quot;: &quot;Polygon&quot;}, &quot;id&quot;: &quot;99&quot;, &quot;properties&quot;: {&quot;area&quot;: 1.965964799998449e-05, &quot;center&quot;: &quot;[101.58080444844524, 3.2062806995214523]&quot;, &quot;isochrone_id&quot;: 33300, &quot;reachfactor&quot;: 0.6968, &quot;station_id&quot;: &quot;33&quot;, &quot;total_pop&quot;: 432.0, &quot;type&quot;: &quot;Polygon&quot;, &quot;value&quot;: 300}, &quot;type&quot;: &quot;Feature&quot;}, {&quot;bbox&quot;: [101.551983, 3.254579, 101.555778, 3.262036], &quot;geometry&quot;: {&quot;coordinates&quot;: [[[101.551983, 3.258823], [101.551984, 3.258529], [101.552016, 3.258426], [101.553759, 3.254879], [101.553778, 3.254858], [101.554055, 3.254586], [101.554415, 3.254579], [101.555693, 3.260439], [101.555763, 3.260649], [101.555778, 3.260824], [101.555763, 3.26105], [101.555743, 3.261309], [101.555642, 3.261663], [101.555517, 3.26185], [101.555392, 3.262036], [101.555093, 3.261837], [101.551986, 3.258862], [101.551983, 3.258823]]], &quot;type&quot;: &quot;Polygon&quot;}, &quot;id&quot;: &quot;102&quot;, &quot;properties&quot;: {&quot;area&quot;: 1.4840517500046203e-05, &quot;center&quot;: &quot;[101.55455675198353, 3.258307764863513]&quot;, &quot;isochrone_id&quot;: 34300, &quot;reachfactor&quot;: 0.526, &quot;station_id&quot;: &quot;34&quot;, &quot;total_pop&quot;: 324.0, &quot;type&quot;: &quot;Polygon&quot;, &quot;value&quot;: 300}, &quot;type&quot;: &quot;Feature&quot;}, {&quot;bbox&quot;: [101.573907, 3.317085, 101.577408, 3.322474], &quot;geometry&quot;: {&quot;coordinates&quot;: [[[101.57467, 3.319443], [101.574961, 3.318276], [101.575289, 3.317421], [101.575582, 3.317212], [101.576095, 3.317085], [101.576403, 3.317271], [101.577408, 3.3203], [101.577362, 3.320434], [101.577234, 3.320776], [101.57624, 3.321544], [101.574249, 3.322474], [101.573907, 3.322364], [101.57467, 3.319443]]], &quot;type&quot;: &quot;Polygon&quot;}, &quot;id&quot;: &quot;105&quot;, &quot;properties&quot;: {&quot;area&quot;: 1.0761619500000768e-05, &quot;center&quot;: &quot;[101.57497918824737, 3.3188748847075935]&quot;, &quot;isochrone_id&quot;: 35300, &quot;reachfactor&quot;: 0.3815, &quot;station_id&quot;: &quot;35&quot;, &quot;total_pop&quot;: 500.0, &quot;type&quot;: &quot;Polygon&quot;, &quot;value&quot;: 300}, &quot;type&quot;: &quot;Feature&quot;}, {&quot;bbox&quot;: [101.612557, 3.373159, 101.617737, 3.378869], &quot;geometry&quot;: {&quot;coordinates&quot;: [[[101.612597, 3.37342], [101.612845, 3.373159], [101.613217, 3.373241], [101.61599, 3.374203], [101.616413, 3.374457], [101.617737, 3.377273], [101.617627, 3.378567], [101.617431, 3.378869], [101.617246, 3.378748], [101.61706, 3.378628], [101.61692, 3.378513], [101.616865, 3.378447], [101.613533, 3.374657], [101.612557, 3.373497], [101.612597, 3.37342]]], &quot;type&quot;: &quot;Polygon&quot;}, &quot;id&quot;: &quot;108&quot;, &quot;properties&quot;: {&quot;area&quot;: 1.1239662499990028e-05, &quot;center&quot;: &quot;[101.61469463453753, 3.375821786366095]&quot;, &quot;isochrone_id&quot;: 36300, &quot;reachfactor&quot;: 0.3982, &quot;station_id&quot;: &quot;36&quot;, &quot;total_pop&quot;: 188.0, &quot;type&quot;: &quot;Polygon&quot;, &quot;value&quot;: 300}, &quot;type&quot;: &quot;Feature&quot;}, {&quot;bbox&quot;: [101.634093, 3.464388, 101.639373, 3.470796], &quot;geometry&quot;: {&quot;coordinates&quot;: [[[101.634753, 3.46692], [101.637035, 3.464388], [101.637395, 3.464406], [101.639325, 3.468625], [101.639373, 3.46891], [101.639265, 3.469352], [101.636417, 3.470471], [101.635987, 3.470634], [101.635557, 3.470796], [101.634093, 3.468556], [101.634753, 3.46692]]], &quot;type&quot;: &quot;Polygon&quot;}, &quot;id&quot;: &quot;109&quot;, &quot;properties&quot;: {&quot;area&quot;: 1.9936605999993252e-05, &quot;center&quot;: &quot;[101.6375061770401, 3.4684209132430617]&quot;, &quot;isochrone_id&quot;: 37300, &quot;reachfactor&quot;: 0.7065, &quot;station_id&quot;: &quot;37&quot;, &quot;total_pop&quot;: 302.0, &quot;type&quot;: &quot;Polygon&quot;, &quot;value&quot;: 300}, &quot;type&quot;: &quot;Feature&quot;}, {&quot;bbox&quot;: [101.632246, 3.497656, 101.637553, 3.503016], &quot;geometry&quot;: {&quot;coordinates&quot;: [[[101.632272, 3.500399], [101.632376, 3.499802], [101.63354, 3.497858], [101.633809, 3.497656], [101.634165, 3.497708], [101.636798, 3.498918], [101.637553, 3.499972], [101.63744, 3.500314], [101.633877, 3.503016], [101.63359, 3.502977], [101.632246, 3.500758], [101.632272, 3.500399]]], &quot;type&quot;: &quot;Polygon&quot;}, &quot;id&quot;: &quot;110&quot;, &quot;properties&quot;: {&quot;area&quot;: 1.6944327500009068e-05, &quot;center&quot;: &quot;[101.63443311281418, 3.500346834920422]&quot;, &quot;isochrone_id&quot;: 38300, &quot;reachfactor&quot;: 0.6004, &quot;station_id&quot;: &quot;38&quot;, &quot;total_pop&quot;: 395.0, &quot;type&quot;: &quot;Polygon&quot;, &quot;value&quot;: 300}, &quot;type&quot;: &quot;Feature&quot;}, {&quot;bbox&quot;: [101.639486, 3.551452, 101.641601, 3.556231], &quot;geometry&quot;: {&quot;coordinates&quot;: [[[101.639495, 3.554713], [101.639486, 3.554445], [101.639566, 3.553943], [101.639917, 3.551452], [101.64001, 3.551585], [101.641601, 3.555923], [101.641416, 3.556231], [101.640466, 3.555776], [101.639692, 3.555031], [101.639605, 3.554948], [101.639534, 3.554831], [101.639495, 3.554713]]], &quot;type&quot;: &quot;Polygon&quot;}, &quot;id&quot;: &quot;113&quot;, &quot;properties&quot;: {&quot;area&quot;: 4.622261999992865e-06, &quot;center&quot;: &quot;[101.6397037, 3.5534897]&quot;, &quot;isochrone_id&quot;: 39300, &quot;reachfactor&quot;: 0.1638, &quot;station_id&quot;: &quot;39&quot;, &quot;total_pop&quot;: 52.0, &quot;type&quot;: &quot;Polygon&quot;, &quot;value&quot;: 300}, &quot;type&quot;: &quot;Feature&quot;}, {&quot;bbox&quot;: [101.515038, 3.681764, 101.520917, 3.687177], &quot;geometry&quot;: {&quot;coordinates&quot;: [[[101.515038, 3.685057], [101.517634, 3.682209], [101.517904, 3.681976], [101.518224, 3.68181], [101.519616, 3.681764], [101.520201, 3.681869], [101.520675, 3.681979], [101.520917, 3.682245], [101.519753, 3.685415], [101.519402, 3.686006], [101.519187, 3.686295], [101.516434, 3.687152], [101.516293, 3.687177], [101.515427, 3.687104], [101.515144, 3.686773], [101.515038, 3.685057]]], &quot;type&quot;: &quot;Polygon&quot;}, &quot;id&quot;: &quot;116&quot;, &quot;properties&quot;: {&quot;area&quot;: 2.050387199996842e-05, &quot;center&quot;: &quot;[101.51805920769817, 3.6845483460790347]&quot;, &quot;isochrone_id&quot;: 40300, &quot;reachfactor&quot;: 0.7265, &quot;station_id&quot;: &quot;40&quot;, &quot;total_pop&quot;: 1229.0, &quot;type&quot;: &quot;Polygon&quot;, &quot;value&quot;: 300}, &quot;type&quot;: &quot;Feature&quot;}, {&quot;bbox&quot;: [101.670394, 3.115564, 101.675442, 3.122059], &quot;geometry&quot;: {&quot;coordinates&quot;: [[[101.670428, 3.116738], [101.670445, 3.116655], [101.670883, 3.116252], [101.671697, 3.115726], [101.672495, 3.115564], [101.672852, 3.115607], [101.674333, 3.117132], [101.675255, 3.118165], [101.675442, 3.121813], [101.67518, 3.122059], [101.671807, 3.120133], [101.671161, 3.119207], [101.670394, 3.117096], [101.670428, 3.116738]]], &quot;type&quot;: &quot;Polygon&quot;}, &quot;id&quot;: &quot;119&quot;, &quot;properties&quot;: {&quot;area&quot;: 2.015054000003658e-05, &quot;center&quot;: &quot;[101.67279765153405, 3.1187694025946326]&quot;, &quot;isochrone_id&quot;: 41300, &quot;reachfactor&quot;: 0.7143, &quot;station_id&quot;: &quot;41&quot;, &quot;total_pop&quot;: 1082.0, &quot;type&quot;: &quot;Polygon&quot;, &quot;value&quot;: 300}, &quot;type&quot;: &quot;Feature&quot;}, {&quot;bbox&quot;: [101.667486, 3.092257, 101.671941, 3.100497], &quot;geometry&quot;: {&quot;coordinates&quot;: [[[101.667985, 3.093844], [101.669015, 3.092286], [101.669374, 3.092257], [101.671941, 3.093949], [101.67194, 3.094163], [101.671831, 3.098002], [101.671742, 3.100397], [101.671397, 3.100497], [101.668651, 3.096158], [101.667728, 3.095387], [101.667629, 3.095281], [101.667486, 3.094951], [101.667985, 3.093844]]], &quot;type&quot;: &quot;Polygon&quot;}, &quot;id&quot;: &quot;122&quot;, &quot;properties&quot;: {&quot;area&quot;: 2.041283350001522e-05, &quot;center&quot;: &quot;[101.67000479458999, 3.0955662168057447]&quot;, &quot;isochrone_id&quot;: 43300, &quot;reachfactor&quot;: 0.7236, &quot;station_id&quot;: &quot;43&quot;, &quot;total_pop&quot;: 1592.0, &quot;type&quot;: &quot;Polygon&quot;, &quot;value&quot;: 300}, &quot;type&quot;: &quot;Feature&quot;}, {&quot;bbox&quot;: [101.661041, 3.083334, 101.666938, 3.088622], &quot;geometry&quot;: {&quot;coordinates&quot;: [[[101.661237, 3.086019], [101.662734, 3.083943], [101.662867, 3.083803], [101.663076, 3.083683], [101.66308, 3.083681], [101.663903, 3.083334], [101.664215, 3.083513], [101.666802, 3.085709], [101.666938, 3.085922], [101.666777, 3.086244], [101.665642, 3.088041], [101.662586, 3.088622], [101.662335, 3.088364], [101.661185, 3.086662], [101.661041, 3.086321], [101.661237, 3.086019]]], &quot;type&quot;: &quot;Polygon&quot;}, &quot;id&quot;: &quot;125&quot;, &quot;properties&quot;: {&quot;area&quot;: 1.9601263000005506e-05, &quot;center&quot;: &quot;[101.6639791, 3.0862086]&quot;, &quot;isochrone_id&quot;: 44300, &quot;reachfactor&quot;: 0.6948, &quot;station_id&quot;: &quot;44&quot;, &quot;total_pop&quot;: 2453.0, &quot;type&quot;: &quot;Polygon&quot;, &quot;value&quot;: 300}, &quot;type&quot;: &quot;Feature&quot;}, {&quot;bbox&quot;: [101.652418, 3.081678, 101.657894, 3.084639], &quot;geometry&quot;: {&quot;coordinates&quot;: [[[101.652502, 3.082524], [101.656954, 3.081678], [101.657148, 3.081744], [101.657357, 3.082095], [101.657894, 3.083968], [101.657776, 3.084307], [101.65415, 3.084639], [101.653841, 3.084454], [101.652418, 3.082874], [101.652502, 3.082524]]], &quot;type&quot;: &quot;Polygon&quot;}, &quot;id&quot;: &quot;128&quot;, &quot;properties&quot;: {&quot;area&quot;: 1.1384670500009106e-05, &quot;center&quot;: &quot;[101.65658161542454, 3.083699430078563]&quot;, &quot;isochrone_id&quot;: 45300, &quot;reachfactor&quot;: 0.4036, &quot;station_id&quot;: &quot;45&quot;, &quot;total_pop&quot;: 1088.0, &quot;type&quot;: &quot;Polygon&quot;, &quot;value&quot;: 300}, &quot;type&quot;: &quot;Feature&quot;}, {&quot;bbox&quot;: [101.629666, 3.082327, 101.635193, 3.087729], &quot;geometry&quot;: {&quot;coordinates&quot;: [[[101.629683, 3.085409], [101.633174, 3.082342], [101.633238, 3.082335], [101.633238, 3.082335], [101.633302, 3.082327], [101.634536, 3.082958], [101.634555, 3.082972], [101.63485, 3.083194], [101.635139, 3.083412], [101.635193, 3.083768], [101.634537, 3.086005], [101.634433, 3.086349], [101.633172, 3.087346], [101.632844, 3.087494], [101.631042, 3.087729], [101.630682, 3.087712], [101.6303, 3.087342], [101.629666, 3.085769], [101.629683, 3.085409]]], &quot;type&quot;: &quot;Polygon&quot;}, &quot;id&quot;: &quot;131&quot;, &quot;properties&quot;: {&quot;area&quot;: 1.9144889999995883e-05, &quot;center&quot;: &quot;[101.63228041190864, 3.0845220140894476]&quot;, &quot;isochrone_id&quot;: 46300, &quot;reachfactor&quot;: 0.6787, &quot;station_id&quot;: &quot;46&quot;, &quot;total_pop&quot;: 2494.0, &quot;type&quot;: &quot;Polygon&quot;, &quot;value&quot;: 300}, &quot;type&quot;: &quot;Feature&quot;}, {&quot;bbox&quot;: [101.618964, 3.083087, 101.625736, 3.08614], &quot;geometry&quot;: {&quot;coordinates&quot;: [[[101.61901, 3.084142], [101.622686, 3.083087], [101.623045, 3.083104], [101.624589, 3.083273], [101.624884, 3.083512], [101.625603, 3.084362], [101.625736, 3.084697], [101.625687, 3.084806], [101.625542, 3.084848], [101.62082, 3.086136], [101.62046, 3.08614], [101.620127, 3.085812], [101.618964, 3.084499], [101.61901, 3.084142]]], &quot;type&quot;: &quot;Polygon&quot;}, &quot;id&quot;: &quot;134&quot;, &quot;properties&quot;: {&quot;area&quot;: 1.310760949998825e-05, &quot;center&quot;: &quot;[101.62192425152345, 3.084337979516632]&quot;, &quot;isochrone_id&quot;: 47300, &quot;reachfactor&quot;: 0.4646, &quot;station_id&quot;: &quot;47&quot;, &quot;total_pop&quot;: 2121.0, &quot;type&quot;: &quot;Polygon&quot;, &quot;value&quot;: 300}, &quot;type&quot;: &quot;Feature&quot;}, {&quot;bbox&quot;: [101.609256, 3.08023, 101.615288, 3.084274], &quot;geometry&quot;: {&quot;coordinates&quot;: [[[101.609294, 3.082968], [101.611069, 3.080727], [101.611352, 3.080391], [101.61143, 3.080328], [101.611617, 3.08023], [101.612905, 3.080629], [101.615288, 3.083642], [101.615241, 3.083999], [101.613203, 3.084274], [101.613013, 3.084244], [101.612822, 3.084214], [101.609256, 3.083326], [101.609294, 3.082968]]], &quot;type&quot;: &quot;Polygon&quot;}, &quot;id&quot;: &quot;135&quot;, &quot;properties&quot;: {&quot;area&quot;: 1.4391117499999747e-05, &quot;center&quot;: &quot;[101.61145269954186, 3.0831135375502265]&quot;, &quot;isochrone_id&quot;: 48300, &quot;reachfactor&quot;: 0.5102, &quot;station_id&quot;: &quot;48&quot;, &quot;total_pop&quot;: 1750.0, &quot;type&quot;: &quot;Polygon&quot;, &quot;value&quot;: 300}, &quot;type&quot;: &quot;Feature&quot;}, {&quot;bbox&quot;: [101.584894, 3.082495, 101.59017, 3.08653], &quot;geometry&quot;: {&quot;coordinates&quot;: [[[101.585173, 3.083677], [101.587232, 3.082575], [101.587583, 3.082495], [101.588694, 3.082728], [101.590163, 3.084102], [101.59017, 3.084225], [101.58871, 3.086384], [101.588674, 3.08641], [101.587084, 3.086529], [101.587033, 3.08653], [101.586175, 3.0859], [101.584894, 3.083905], [101.585173, 3.083677]]], &quot;type&quot;: &quot;Polygon&quot;}, &quot;id&quot;: &quot;137&quot;, &quot;properties&quot;: {&quot;area&quot;: 1.3875880000010702e-05, &quot;center&quot;: &quot;[101.58812464756288, 3.0846313272208516]&quot;, &quot;isochrone_id&quot;: 49300, &quot;reachfactor&quot;: 0.4918, &quot;station_id&quot;: &quot;49&quot;, &quot;total_pop&quot;: 1019.0, &quot;type&quot;: &quot;Polygon&quot;, &quot;value&quot;: 300}, &quot;type&quot;: &quot;Feature&quot;}, {&quot;bbox&quot;: [101.55678, 3.074693, 101.559933, 3.075881], &quot;geometry&quot;: {&quot;coordinates&quot;: [[[101.556792, 3.074955], [101.557424, 3.074693], [101.558121, 3.074777], [101.559647, 3.075439], [101.559933, 3.075562], [101.559766, 3.075881], [101.559511, 3.075832], [101.557128, 3.075094], [101.55678, 3.075003], [101.556792, 3.074955]]], &quot;type&quot;: &quot;Polygon&quot;}, &quot;id&quot;: &quot;140&quot;, &quot;properties&quot;: {&quot;area&quot;: 1.44734299999631e-06, &quot;center&quot;: &quot;[101.5598496, 3.0757214]&quot;, &quot;isochrone_id&quot;: 50300, &quot;reachfactor&quot;: 0.0513, &quot;station_id&quot;: &quot;50&quot;, &quot;total_pop&quot;: 76.0, &quot;type&quot;: &quot;Polygon&quot;, &quot;value&quot;: 300}, &quot;type&quot;: &quot;Feature&quot;}, {&quot;bbox&quot;: [101.521826, 3.053153, 101.528508, 3.057321], &quot;geometry&quot;: {&quot;coordinates&quot;: [[[101.521826, 3.05495], [101.521827, 3.054831], [101.521874, 3.054605], [101.522992, 3.054149], [101.525762, 3.053238], [101.526259, 3.053153], [101.527106, 3.053392], [101.528472, 3.056819], [101.528508, 3.05717], [101.528487, 3.057248], [101.528469, 3.057311], [101.528449, 3.057321], [101.52761, 3.057058], [101.526771, 3.056791], [101.524539, 3.056077], [101.523699, 3.055831], [101.522679, 3.055518], [101.522409, 3.05544], [101.522092, 3.05534], [101.521959, 3.055238], [101.521879, 3.055114], [101.521826, 3.05495]]], &quot;type&quot;: &quot;Polygon&quot;}, &quot;id&quot;: &quot;143&quot;, &quot;properties&quot;: {&quot;area&quot;: 1.5055593499998695e-05, &quot;center&quot;: &quot;[101.52508000220529, 3.0561780569404493]&quot;, &quot;isochrone_id&quot;: 51300, &quot;reachfactor&quot;: 0.5337, &quot;station_id&quot;: &quot;51&quot;, &quot;total_pop&quot;: 1261.0, &quot;type&quot;: &quot;Polygon&quot;, &quot;value&quot;: 300}, &quot;type&quot;: &quot;Feature&quot;}, {&quot;bbox&quot;: [101.489321, 3.051113, 101.495048, 3.054277], &quot;geometry&quot;: {&quot;coordinates&quot;: [[[101.489321, 3.052433], [101.489519, 3.052021], [101.490591, 3.051158], [101.490948, 3.051113], [101.495037, 3.052199], [101.495048, 3.052559], [101.491142, 3.054215], [101.491042, 3.054242], [101.490787, 3.054277], [101.490682, 3.054245], [101.489457, 3.052956], [101.489328, 3.052793], [101.489321, 3.052433]]], &quot;type&quot;: &quot;Polygon&quot;}, &quot;id&quot;: &quot;146&quot;, &quot;properties&quot;: {&quot;area&quot;: 1.0637946999987532e-05, &quot;center&quot;: &quot;[101.49270354103727, 3.052426763781548]&quot;, &quot;isochrone_id&quot;: 52300, &quot;reachfactor&quot;: 0.3771, &quot;station_id&quot;: &quot;52&quot;, &quot;total_pop&quot;: 692.0, &quot;type&quot;: &quot;Polygon&quot;, &quot;value&quot;: 300}, &quot;type&quot;: &quot;Feature&quot;}, {&quot;bbox&quot;: [101.703341, 3.13676, 101.709122, 3.142225], &quot;geometry&quot;: {&quot;coordinates&quot;: [[[101.703341, 3.141213], [101.703468, 3.140572], [101.704054, 3.137532], [101.704349, 3.137325], [101.705529, 3.13676], [101.70805, 3.137087], [101.708982, 3.137215], [101.709074, 3.137267], [101.709104, 3.137311], [101.709122, 3.137472], [101.708273, 3.141985], [101.708125, 3.142081], [101.707883, 3.142225], [101.706238, 3.141997], [101.703564, 3.141663], [101.703365, 3.141362], [101.703341, 3.141213]]], &quot;type&quot;: &quot;Polygon&quot;}, &quot;id&quot;: &quot;148&quot;, &quot;properties&quot;: {&quot;area&quot;: 2.4773167499999563e-05, &quot;center&quot;: &quot;[101.7061513, 3.1397467]&quot;, &quot;isochrone_id&quot;: 77300, &quot;reachfactor&quot;: 0.878, &quot;station_id&quot;: &quot;77&quot;, &quot;total_pop&quot;: 3331.0, &quot;type&quot;: &quot;Polygon&quot;, &quot;value&quot;: 300}, &quot;type&quot;: &quot;Feature&quot;}, {&quot;bbox&quot;: [101.467022, 3.034809, 101.471589, 3.039775], &quot;geometry&quot;: {&quot;coordinates&quot;: [[[101.467022, 3.035423], [101.467245, 3.035258], [101.468142, 3.034809], [101.46973, 3.035424], [101.470799, 3.037184], [101.471589, 3.03944], [101.471258, 3.039583], [101.470799, 3.039775], [101.469379, 3.039392], [101.469095, 3.039171], [101.468438, 3.038252], [101.467025, 3.035783], [101.467022, 3.035423]]], &quot;type&quot;: &quot;Polygon&quot;}, &quot;id&quot;: &quot;149&quot;, &quot;properties&quot;: {&quot;area&quot;: 1.2355036499971539e-05, &quot;center&quot;: &quot;[101.47011751876626, 3.036041964833819]&quot;, &quot;isochrone_id&quot;: 53300, &quot;reachfactor&quot;: 0.438, &quot;station_id&quot;: &quot;53&quot;, &quot;total_pop&quot;: 130.0, &quot;type&quot;: &quot;Polygon&quot;, &quot;value&quot;: 300}, &quot;type&quot;: &quot;Feature&quot;}, {&quot;bbox&quot;: [101.446758, 3.039625, 101.452218, 3.045655], &quot;geometry&quot;: {&quot;coordinates&quot;: [[[101.447085, 3.042303], [101.447122, 3.042212], [101.447516, 3.041277], [101.448127, 3.039721], [101.448473, 3.039625], [101.452206, 3.040509], [101.452218, 3.040788], [101.452003, 3.041175], [101.45135, 3.04225], [101.44896, 3.045554], [101.448615, 3.045655], [101.446758, 3.043985], [101.447085, 3.042303]]], &quot;type&quot;: &quot;Polygon&quot;}, &quot;id&quot;: &quot;150&quot;, &quot;properties&quot;: {&quot;area&quot;: 1.9290769000023494e-05, &quot;center&quot;: &quot;[101.44966429407013, 3.0429987000487677]&quot;, &quot;isochrone_id&quot;: 54300, &quot;reachfactor&quot;: 0.6839, &quot;station_id&quot;: &quot;54&quot;, &quot;total_pop&quot;: 598.0, &quot;type&quot;: &quot;Polygon&quot;, &quot;value&quot;: 300}, &quot;type&quot;: &quot;Feature&quot;}, {&quot;bbox&quot;: [101.428562, 3.039586, 101.436026, 3.043639], &quot;geometry&quot;: {&quot;coordinates&quot;: [[[101.428562, 3.04186], [101.429008, 3.040938], [101.429502, 3.040131], [101.429791, 3.039666], [101.430144, 3.039592], [101.435276, 3.039586], [101.435911, 3.039995], [101.436026, 3.040336], [101.434402, 3.041834], [101.431337, 3.043583], [101.431173, 3.043639], [101.430274, 3.043167], [101.429026, 3.042459], [101.428637, 3.042212], [101.428562, 3.04186]]], &quot;type&quot;: &quot;Polygon&quot;}, &quot;id&quot;: &quot;153&quot;, &quot;properties&quot;: {&quot;area&quot;: 1.9782478500021874e-05, &quot;center&quot;: &quot;[101.4322074029396, 3.041038057550087]&quot;, &quot;isochrone_id&quot;: 55300, &quot;reachfactor&quot;: 0.7013, &quot;station_id&quot;: &quot;55&quot;, &quot;total_pop&quot;: 1574.0, &quot;type&quot;: &quot;Polygon&quot;, &quot;value&quot;: 300}, &quot;type&quot;: &quot;Feature&quot;}, {&quot;bbox&quot;: [101.422547, 3.030397, 101.427916, 3.036162], &quot;geometry&quot;: {&quot;coordinates&quot;: [[[101.423242, 3.031126], [101.423629, 3.030863], [101.423769, 3.03077], [101.426333, 3.030397], [101.426669, 3.030526], [101.426937, 3.031298], [101.427096, 3.031742], [101.427386, 3.032584], [101.427916, 3.035441], [101.427878, 3.035878], [101.42787, 3.035907], [101.427616, 3.036162], [101.424014, 3.033269], [101.423177, 3.032507], [101.422547, 3.031954], [101.423242, 3.031126]]], &quot;type&quot;: &quot;Polygon&quot;}, &quot;id&quot;: &quot;155&quot;, &quot;properties&quot;: {&quot;area&quot;: 1.6142035500002303e-05, &quot;center&quot;: &quot;[101.4250999, 3.0339365]&quot;, &quot;isochrone_id&quot;: 56300, &quot;reachfactor&quot;: 0.5723, &quot;station_id&quot;: &quot;56&quot;, &quot;total_pop&quot;: 1074.0, &quot;type&quot;: &quot;Polygon&quot;, &quot;value&quot;: 300}, &quot;type&quot;: &quot;Feature&quot;}, {&quot;bbox&quot;: [101.409962, 3.018202, 101.413721, 3.02234], &quot;geometry&quot;: {&quot;coordinates&quot;: [[[101.409962, 3.019704], [101.410766, 3.018444], [101.411033, 3.018202], [101.412694, 3.018749], [101.413638, 3.019452], [101.413718, 3.019631], [101.413721, 3.019817], [101.413548, 3.020787], [101.413454, 3.021076], [101.412761, 3.02208], [101.412511, 3.02234], [101.412347, 3.022182], [101.412182, 3.022025], [101.410167, 3.020008], [101.409982, 3.019768], [101.409962, 3.019704]]], &quot;type&quot;: &quot;Polygon&quot;}, &quot;id&quot;: &quot;158&quot;, &quot;properties&quot;: {&quot;area&quot;: 9.137083500014033e-06, &quot;center&quot;: &quot;[101.41032762147691, 3.020109367383416]&quot;, &quot;isochrone_id&quot;: 57300, &quot;reachfactor&quot;: 0.3239, &quot;station_id&quot;: &quot;57&quot;, &quot;total_pop&quot;: 604.0, &quot;type&quot;: &quot;Polygon&quot;, &quot;value&quot;: 300}, &quot;type&quot;: &quot;Feature&quot;}, {&quot;bbox&quot;: [101.40031, 3.009375, 101.405776, 3.013561], &quot;geometry&quot;: {&quot;coordinates&quot;: [[[101.400558, 3.010544], [101.401091, 3.010165], [101.402116, 3.009436], [101.402312, 3.009375], [101.40256, 3.0094], [101.403093, 3.009846], [101.403638, 3.010378], [101.40554, 3.012133], [101.405776, 3.012406], [101.405739, 3.013314], [101.405476, 3.013561], [101.404642, 3.01349], [101.403179, 3.013264], [101.402441, 3.012739], [101.40051, 3.010994], [101.40031, 3.010804], [101.400558, 3.010544]]], &quot;type&quot;: &quot;Polygon&quot;}, &quot;id&quot;: &quot;161&quot;, &quot;properties&quot;: {&quot;area&quot;: 1.222296600000869e-05, &quot;center&quot;: &quot;[101.4026593120458, 3.0129332275975655]&quot;, &quot;isochrone_id&quot;: 58300, &quot;reachfactor&quot;: 0.4334, &quot;station_id&quot;: &quot;58&quot;, &quot;total_pop&quot;: 755.0, &quot;type&quot;: &quot;Polygon&quot;, &quot;value&quot;: 300}, &quot;type&quot;: &quot;Feature&quot;}, {&quot;bbox&quot;: [101.386344, 2.99659, 101.394327, 3.003136], &quot;geometry&quot;: {&quot;coordinates&quot;: [[[101.386441, 2.99659], [101.387984, 2.997023], [101.393534, 2.998065], [101.393846, 2.998243], [101.394327, 3.000277], [101.394279, 3.000365], [101.39414, 3.000585], [101.394083, 3.000666], [101.391177, 3.003136], [101.391005, 3.003019], [101.39017, 3.002364], [101.389068, 2.999501], [101.386344, 2.996937], [101.386441, 2.99659]]], &quot;type&quot;: &quot;Polygon&quot;}, &quot;id&quot;: &quot;162&quot;, &quot;properties&quot;: {&quot;area&quot;: 2.4398499000019666e-05, &quot;center&quot;: &quot;[101.3912787289839, 2.999395605996668]&quot;, &quot;isochrone_id&quot;: 59300, &quot;reachfactor&quot;: 0.865, &quot;station_id&quot;: &quot;59&quot;, &quot;total_pop&quot;: 1086.0, &quot;type&quot;: &quot;Polygon&quot;, &quot;value&quot;: 300}, &quot;type&quot;: &quot;Feature&quot;}, {&quot;bbox&quot;: [101.694311, 3.181946, 101.697854, 3.189221], &quot;geometry&quot;: {&quot;coordinates&quot;: [[[101.694388, 3.188509], [101.694542, 3.182854], [101.694311, 3.182302], [101.694367, 3.181946], [101.694503, 3.181968], [101.69475, 3.182024], [101.694825, 3.182063], [101.694865, 3.182096], [101.695474, 3.18261], [101.697045, 3.184035], [101.697158, 3.184153], [101.697854, 3.185994], [101.697838, 3.186354], [101.697741, 3.187068], [101.696326, 3.188442], [101.696208, 3.188539], [101.694786, 3.189221], [101.69475, 3.189189], [101.694392, 3.188869], [101.694388, 3.188509]]], &quot;type&quot;: &quot;Polygon&quot;}, &quot;id&quot;: &quot;164&quot;, &quot;properties&quot;: {&quot;area&quot;: 1.6910447000002455e-05, &quot;center&quot;: &quot;[101.69538500593573, 3.1854635657719412]&quot;, &quot;isochrone_id&quot;: 60300, &quot;reachfactor&quot;: 0.5994, &quot;station_id&quot;: &quot;60&quot;, &quot;total_pop&quot;: 1766.0, &quot;type&quot;: &quot;Polygon&quot;, &quot;value&quot;: 300}, &quot;type&quot;: &quot;Feature&quot;}, {&quot;bbox&quot;: [101.709652, 3.13139, 101.715289, 3.137578], &quot;geometry&quot;: {&quot;coordinates&quot;: [[[101.709652, 3.13579], [101.709706, 3.135624], [101.710089, 3.134739], [101.712322, 3.131582], [101.712627, 3.13139], [101.712726, 3.13139], [101.714969, 3.132848], [101.715181, 3.133139], [101.715289, 3.13507], [101.715288, 3.13543], [101.712347, 3.137032], [101.71161, 3.137479], [101.710488, 3.137578], [101.710023, 3.137494], [101.709723, 3.137295], [101.709652, 3.13579]]], &quot;type&quot;: &quot;Polygon&quot;}, &quot;id&quot;: &quot;167&quot;, &quot;properties&quot;: {&quot;area&quot;: 2.2540254999997258e-05, &quot;center&quot;: &quot;[101.7121408, 3.1347568]&quot;, &quot;isochrone_id&quot;: 61300, &quot;reachfactor&quot;: 0.799, &quot;station_id&quot;: &quot;61&quot;, &quot;total_pop&quot;: 2478.0, &quot;type&quot;: &quot;Polygon&quot;, &quot;value&quot;: 300}, &quot;type&quot;: &quot;Feature&quot;}, {&quot;bbox&quot;: [101.713428, 3.12457, 101.717399, 3.130709], &quot;geometry&quot;: {&quot;coordinates&quot;: [[[101.713428, 3.126454], [101.713789, 3.124775], [101.714085, 3.12457], [101.71427, 3.124735], [101.716078, 3.126796], [101.717038, 3.128876], [101.717374, 3.129989], [101.717399, 3.130326], [101.717317, 3.130483], [101.717037, 3.130709], [101.714102, 3.129537], [101.714057, 3.129488], [101.713928, 3.129348], [101.713754, 3.129158], [101.713428, 3.126454]]], &quot;type&quot;: &quot;Polygon&quot;}, &quot;id&quot;: &quot;170&quot;, &quot;properties&quot;: {&quot;area&quot;: 1.3688368000016153e-05, &quot;center&quot;: &quot;[101.71576086194644, 3.1279810758616358]&quot;, &quot;isochrone_id&quot;: 62300, &quot;reachfactor&quot;: 0.4852, &quot;station_id&quot;: &quot;62&quot;, &quot;total_pop&quot;: 1129.0, &quot;type&quot;: &quot;Polygon&quot;, &quot;value&quot;: 300}, &quot;type&quot;: &quot;Feature&quot;}, {&quot;bbox&quot;: [101.716757, 3.120339, 101.721023, 3.123839], &quot;geometry&quot;: {&quot;coordinates&quot;: [[[101.716757, 3.123009], [101.717202, 3.121617], [101.71741, 3.121358], [101.718161, 3.12091], [101.720092, 3.120339], [101.721023, 3.122224], [101.720769, 3.122479], [101.718412, 3.123297], [101.717129, 3.123839], [101.71681, 3.123672], [101.716757, 3.123009]]], &quot;type&quot;: &quot;Polygon&quot;}, &quot;id&quot;: &quot;172&quot;, &quot;properties&quot;: {&quot;area&quot;: 8.76778700000377e-06, &quot;center&quot;: &quot;[101.7179504, 3.1210289]&quot;, &quot;isochrone_id&quot;: 63300, &quot;reachfactor&quot;: 0.3108, &quot;station_id&quot;: &quot;63&quot;, &quot;total_pop&quot;: 989.0, &quot;type&quot;: &quot;Polygon&quot;, &quot;value&quot;: 300}, &quot;type&quot;: &quot;Feature&quot;}, {&quot;bbox&quot;: [101.724569, 3.120792, 101.729846, 3.126081], &quot;geometry&quot;: {&quot;coordinates&quot;: [[[101.72457, 3.124242], [101.72461, 3.123282], [101.724909, 3.122808], [101.725103, 3.122505], [101.728195, 3.120831], [101.728435, 3.120792], [101.728554, 3.120803], [101.729765, 3.121587], [101.729846, 3.124438], [101.729666, 3.124749], [101.728387, 3.125324], [101.726817, 3.125827], [101.726122, 3.126019], [101.725674, 3.126081], [101.724573, 3.125781], [101.724569, 3.12577], [101.72457, 3.124242]]], &quot;type&quot;: &quot;Polygon&quot;}, &quot;id&quot;: &quot;174&quot;, &quot;properties&quot;: {&quot;area&quot;: 2.0682488499986176e-05, &quot;center&quot;: &quot;[101.72694876659114, 3.1232710703739235]&quot;, &quot;isochrone_id&quot;: 64300, &quot;reachfactor&quot;: 0.7332, &quot;station_id&quot;: &quot;64&quot;, &quot;total_pop&quot;: 1791.0, &quot;type&quot;: &quot;Polygon&quot;, &quot;value&quot;: 300}, &quot;type&quot;: &quot;Feature&quot;}, {&quot;bbox&quot;: [101.736967, 3.130159, 101.741876, 3.1331], &quot;geometry&quot;: {&quot;coordinates&quot;: [[[101.737108, 3.132006], [101.737398, 3.131307], [101.737508, 3.131053], [101.738244, 3.130295], [101.738524, 3.130159], [101.740511, 3.131123], [101.740878, 3.131324], [101.741259, 3.131533], [101.741567, 3.131738], [101.741876, 3.131942], [101.741853, 3.132158], [101.741683, 3.132476], [101.739518, 3.1331], [101.738251, 3.132719], [101.737298, 3.132479], [101.736967, 3.132337], [101.737108, 3.132006]]], &quot;type&quot;: &quot;Polygon&quot;}, &quot;id&quot;: &quot;176&quot;, &quot;properties&quot;: {&quot;area&quot;: 8.622056999992908e-06, &quot;center&quot;: &quot;[101.738876, 3.1303435]&quot;, &quot;isochrone_id&quot;: 65300, &quot;reachfactor&quot;: 0.3056, &quot;station_id&quot;: &quot;65&quot;, &quot;total_pop&quot;: 1406.0, &quot;type&quot;: &quot;Polygon&quot;, &quot;value&quot;: 300}, &quot;type&quot;: &quot;Feature&quot;}, {&quot;bbox&quot;: [101.744261, 3.131653, 101.749761, 3.137465], &quot;geometry&quot;: {&quot;coordinates&quot;: [[[101.74431, 3.135205], [101.744261, 3.132609], [101.744277, 3.132541], [101.744467, 3.132461], [101.744843, 3.13231], [101.746559, 3.131653], [101.746701, 3.131703], [101.748666, 3.132654], [101.74875, 3.132798], [101.749012, 3.133246], [101.749192, 3.133551], [101.749357, 3.133831], [101.749761, 3.13528], [101.74909, 3.136778], [101.748907, 3.137088], [101.747647, 3.137419], [101.747447, 3.137465], [101.744357, 3.13569], [101.74431, 3.135205]]], &quot;type&quot;: &quot;Polygon&quot;}, &quot;id&quot;: &quot;179&quot;, &quot;properties&quot;: {&quot;area&quot;: 2.3299423000025308e-05, &quot;center&quot;: &quot;[101.74666782831245, 3.1347806505749407]&quot;, &quot;isochrone_id&quot;: 66300, &quot;reachfactor&quot;: 0.826, &quot;station_id&quot;: &quot;66&quot;, &quot;total_pop&quot;: 4050.0, &quot;type&quot;: &quot;Polygon&quot;, &quot;value&quot;: 300}, &quot;type&quot;: &quot;Feature&quot;}, {&quot;bbox&quot;: [101.748825, 3.135166, 101.754792, 3.140813], &quot;geometry&quot;: {&quot;coordinates&quot;: [[[101.7526969484313, 3.135222672106714], [101.749009, 3.135673], [101.748825, 3.135983], [101.7491790181824, 3.136474502411636], [101.750447, 3.13979], [101.750643, 3.139923], [101.752379, 3.140813], [101.752641, 3.140696], [101.752821, 3.140385], [101.753834704464, 3.13825113253373], [101.754108, 3.137967], [101.754713, 3.136813], [101.754791, 3.136613], [101.754792, 3.13661], [101.754783, 3.136589], [101.754642, 3.136286], [101.754042, 3.135579], [101.753377, 3.135166], [101.752899, 3.135198], [101.7527265086221, 3.135219062571851], [101.752719, 3.135219], [101.7526969484313, 3.135222672106714]]], &quot;type&quot;: &quot;Polygon&quot;}, &quot;id&quot;: &quot;182&quot;, &quot;properties&quot;: {&quot;area&quot;: 2.103271730413112e-05, &quot;center&quot;: &quot;[101.7529452, 3.1382756]&quot;, &quot;isochrone_id&quot;: 67300, &quot;reachfactor&quot;: 0.6541, &quot;station_id&quot;: &quot;67&quot;, &quot;total_pop&quot;: 4701.0, &quot;type&quot;: &quot;Polygon&quot;, &quot;value&quot;: 300}, &quot;type&quot;: &quot;Feature&quot;}, {&quot;bbox&quot;: [101.712574, 3.087514, 101.716271, 3.092958], &quot;geometry&quot;: {&quot;coordinates&quot;: [[[101.712574, 3.089854], [101.712651, 3.089254], [101.712743, 3.088972], [101.713234, 3.088252], [101.713282, 3.088181], [101.713648, 3.087702], [101.71384, 3.087514], [101.715255, 3.087689], [101.716271, 3.089966], [101.716098, 3.090281], [101.714337, 3.091813], [101.713122, 3.092942], [101.712938, 3.09295], [101.712753, 3.092958], [101.712623, 3.092913], [101.712574, 3.089854]]], &quot;type&quot;: &quot;Polygon&quot;}, &quot;id&quot;: &quot;184&quot;, &quot;properties&quot;: {&quot;area&quot;: 1.2972630000008849e-05, &quot;center&quot;: &quot;[101.71265775719348, 3.0895858837549794]&quot;, &quot;isochrone_id&quot;: 83300, &quot;reachfactor&quot;: 0.4599, &quot;station_id&quot;: &quot;83&quot;, &quot;total_pop&quot;: 3859.0, &quot;type&quot;: &quot;Polygon&quot;, &quot;value&quot;: 300}, &quot;type&quot;: &quot;Feature&quot;}, {&quot;bbox&quot;: [101.754236, 3.139932, 101.758202, 3.143511], &quot;geometry&quot;: {&quot;coordinates&quot;: [[[101.754244, 3.142], [101.754236, 3.141104], [101.754265, 3.140847], [101.754361, 3.140704], [101.754456, 3.140608], [101.755329, 3.140004], [101.755484, 3.139932], [101.757803, 3.140347], [101.758025, 3.140631], [101.758202, 3.141032], [101.757104, 3.143284], [101.756824, 3.143511], [101.754959, 3.143247], [101.754572, 3.143159], [101.754482, 3.143025], [101.754244, 3.142]]], &quot;type&quot;: &quot;Polygon&quot;}, &quot;id&quot;: &quot;185&quot;, &quot;properties&quot;: {&quot;area&quot;: 1.074438149998906e-05, &quot;center&quot;: &quot;[101.75643637635682, 3.1407303786281133]&quot;, &quot;isochrone_id&quot;: 68300, &quot;reachfactor&quot;: 0.3809, &quot;station_id&quot;: &quot;68&quot;, &quot;total_pop&quot;: 1919.0, &quot;type&quot;: &quot;Polygon&quot;, &quot;value&quot;: 300}, &quot;type&quot;: &quot;Feature&quot;}, {&quot;bbox&quot;: [101.758083, 3.148467, 101.763164, 3.15336], &quot;geometry&quot;: {&quot;coordinates&quot;: [[[101.758083, 3.152115], [101.758226, 3.151853], [101.758802, 3.150999], [101.762247, 3.148468], [101.762438, 3.148467], [101.762692, 3.148529], [101.762971, 3.148815], [101.763164, 3.149119], [101.761407, 3.153188], [101.76109, 3.15336], [101.758815, 3.15305], [101.758355, 3.152917], [101.758189, 3.152606], [101.758136, 3.152474], [101.758083, 3.152115]]], &quot;type&quot;: &quot;Polygon&quot;}, &quot;id&quot;: &quot;186&quot;, &quot;properties&quot;: {&quot;area&quot;: 1.3500081000016843e-05, &quot;center&quot;: &quot;[101.7603983, 3.1504751]&quot;, &quot;isochrone_id&quot;: 69300, &quot;reachfactor&quot;: 0.4785, &quot;station_id&quot;: &quot;69&quot;, &quot;total_pop&quot;: 3008.0, &quot;type&quot;: &quot;Polygon&quot;, &quot;value&quot;: 300}, &quot;type&quot;: &quot;Feature&quot;}, {&quot;bbox&quot;: [101.692637, 3.175779, 101.698237, 3.182148], &quot;geometry&quot;: {&quot;coordinates&quot;: [[[101.692637, 3.17738], [101.692647, 3.177287], [101.692806, 3.177059], [101.694245, 3.175779], [101.694385, 3.175841], [101.697761, 3.177976], [101.698034, 3.178188], [101.698116, 3.178305], [101.698215, 3.17854], [101.698226, 3.178762], [101.698237, 3.178983], [101.696644, 3.180675], [101.696448, 3.180853], [101.695868, 3.181345], [101.6951, 3.18195], [101.694705, 3.182148], [101.694349, 3.182098], [101.69428, 3.182043], [101.692642, 3.177559], [101.692637, 3.17738]]], &quot;type&quot;: &quot;Polygon&quot;}, &quot;id&quot;: &quot;189&quot;, &quot;properties&quot;: {&quot;area&quot;: 2.065296999998395e-05, &quot;center&quot;: &quot;[101.69553274931489, 3.178600825386419]&quot;, &quot;isochrone_id&quot;: 70300, &quot;reachfactor&quot;: 0.7321, &quot;station_id&quot;: &quot;70&quot;, &quot;total_pop&quot;: 1760.0, &quot;type&quot;: &quot;Polygon&quot;, &quot;value&quot;: 300}, &quot;type&quot;: &quot;Feature&quot;}, {&quot;bbox&quot;: [101.691877, 3.169373, 101.698693, 3.17653], &quot;geometry&quot;: {&quot;coordinates&quot;: [[[101.6985902244884, 3.174319746360337], [101.698627, 3.174298], [101.698693, 3.173944], [101.698517, 3.171496], [101.69849, 3.171408], [101.697432, 3.169903], [101.697068, 3.169596], [101.696802, 3.16945], [101.696475, 3.169401], [101.696241, 3.169373], [101.695403, 3.169687], [101.6948119722682, 3.170044997608723], [101.694648, 3.170026], [101.692525, 3.171233], [101.692325, 3.171393], [101.692073, 3.17165], [101.691877, 3.172722], [101.691916, 3.172862], [101.692198, 3.173489], [101.692968, 3.175035], [101.693803, 3.17591], [101.694063, 3.176093], [101.694229, 3.176165], [101.696128, 3.17653], [101.697678, 3.175227], [101.698473, 3.174583], [101.698527, 3.174532], [101.6985902244884, 3.174319746360337]]], &quot;type&quot;: &quot;Polygon&quot;}, &quot;id&quot;: &quot;192&quot;, &quot;properties&quot;: {&quot;area&quot;: 3.484914818641941e-05, &quot;center&quot;: &quot;[101.6954278, 3.1725154]&quot;, &quot;isochrone_id&quot;: 71300, &quot;reachfactor&quot;: 1.0, &quot;station_id&quot;: &quot;71&quot;, &quot;total_pop&quot;: 4072.5, &quot;type&quot;: &quot;Polygon&quot;, &quot;value&quot;: 300}, &quot;type&quot;: &quot;Feature&quot;}, {&quot;bbox&quot;: [101.690564, 3.16362, 101.697391, 3.170017], &quot;geometry&quot;: {&quot;coordinates&quot;: [[[101.6906876981852, 3.167817024775346], [101.690734, 3.168175], [101.691128, 3.169353], [101.69133, 3.169651], [101.6919331583942, 3.169671618944746], [101.691951, 3.169674], [101.694343, 3.170015], [101.694366, 3.170017], [101.694646, 3.16979], [101.696091, 3.168293], [101.696597, 3.167692], [101.697094, 3.167016], [101.697391, 3.166554], [101.697321, 3.166201], [101.697046, 3.165895], [101.696953, 3.165817], [101.696382, 3.165331], [101.695636, 3.164838], [101.694805, 3.164271], [101.693616, 3.16362], [101.6929896905698, 3.163707836078626], [101.692942, 3.163682], [101.69263, 3.163861], [101.691107, 3.165733], [101.690817, 3.166213], [101.690564, 3.166702], [101.690669, 3.167763], [101.6906876981852, 3.167817024775346]]], &quot;type&quot;: &quot;Polygon&quot;}, &quot;id&quot;: &quot;194&quot;, &quot;properties&quot;: {&quot;area&quot;: 2.9552818673691123e-05, &quot;center&quot;: &quot;[101.69373096126859, 3.1670089963140877]&quot;, &quot;isochrone_id&quot;: 72300, &quot;reachfactor&quot;: 0.95355, &quot;station_id&quot;: &quot;72&quot;, &quot;total_pop&quot;: 4235.0, &quot;type&quot;: &quot;Polygon&quot;, &quot;value&quot;: 300}, &quot;type&quot;: &quot;Feature&quot;}, {&quot;bbox&quot;: [101.722987, 3.227795, 101.725514, 3.232018], &quot;geometry&quot;: {&quot;coordinates&quot;: [[[101.723934, 3.227801], [101.724294, 3.227795], [101.725068, 3.227872], [101.725461, 3.228032], [101.725495, 3.228285], [101.725514, 3.228818], [101.724598, 3.230968], [101.724122, 3.232018], [101.723011, 3.230386], [101.722987, 3.230327], [101.723934, 3.227801]]], &quot;type&quot;: &quot;Polygon&quot;}, &quot;id&quot;: &quot;195&quot;, &quot;properties&quot;: {&quot;area&quot;: 6.2076135000001846e-06, &quot;center&quot;: &quot;[101.72429898319118, 3.231206193824145]&quot;, &quot;isochrone_id&quot;: 107300, &quot;reachfactor&quot;: 0.2201, &quot;station_id&quot;: &quot;107&quot;, &quot;total_pop&quot;: 571.0, &quot;type&quot;: &quot;Polygon&quot;, &quot;value&quot;: 300}, &quot;type&quot;: &quot;Feature&quot;}, {&quot;bbox&quot;: [101.692694, 3.157982, 101.697085, 3.162908], &quot;geometry&quot;: {&quot;coordinates&quot;: [[[101.692695, 3.161223], [101.69274, 3.161028], [101.694315, 3.157982], [101.694675, 3.157985], [101.695196, 3.158349], [101.697077, 3.159651], [101.697085, 3.159672], [101.696806, 3.16101], [101.696738, 3.161215], [101.696576, 3.161618], [101.696057, 3.162618], [101.695919, 3.162879], [101.69583, 3.162905], [101.695612, 3.162908], [101.694391, 3.162408], [101.692822, 3.16181], [101.692694, 3.161707], [101.692695, 3.161223]]], &quot;type&quot;: &quot;Polygon&quot;}, &quot;id&quot;: &quot;196&quot;, &quot;properties&quot;: {&quot;area&quot;: 1.3841482499975651e-05, &quot;center&quot;: &quot;[101.6940522, 3.1611555]&quot;, &quot;isochrone_id&quot;: 73300, &quot;reachfactor&quot;: 0.4907, &quot;station_id&quot;: &quot;73&quot;, &quot;total_pop&quot;: 1511.0, &quot;type&quot;: &quot;Polygon&quot;, &quot;value&quot;: 300}, &quot;type&quot;: &quot;Feature&quot;}, {&quot;bbox&quot;: [101.691929, 3.151728, 101.697425, 3.159264], &quot;geometry&quot;: {&quot;coordinates&quot;: [[[101.691929, 3.153522], [101.69357, 3.151989], [101.694554, 3.151728], [101.694561, 3.151728], [101.694609, 3.151729], [101.694652, 3.151731], [101.694931, 3.151915], [101.696294, 3.153212], [101.697315, 3.154529], [101.697425, 3.154684], [101.697221, 3.156951], [101.697135, 3.157235], [101.694993, 3.15911], [101.694826, 3.159186], [101.694475, 3.159264], [101.693804, 3.158646], [101.692651, 3.156562], [101.691929, 3.153522]]], &quot;type&quot;: &quot;Polygon&quot;}, &quot;id&quot;: &quot;198&quot;, &quot;properties&quot;: {&quot;area&quot;: 2.75033384999954e-05, &quot;center&quot;: &quot;[101.69453289220279, 3.1555503765897095]&quot;, &quot;isochrone_id&quot;: 74300, &quot;reachfactor&quot;: 0.9748, &quot;station_id&quot;: &quot;74&quot;, &quot;total_pop&quot;: 4457.0, &quot;type&quot;: &quot;Polygon&quot;, &quot;value&quot;: 300}, &quot;type&quot;: &quot;Feature&quot;}, {&quot;bbox&quot;: [101.693195, 3.145727, 101.699466, 3.15266], &quot;geometry&quot;: {&quot;coordinates&quot;: [[[101.6993063418263, 3.147633890375264], [101.699269, 3.14705], [101.699248, 3.14669], [101.699178, 3.146615], [101.698904, 3.146382], [101.695999, 3.145727], [101.694886, 3.14586], [101.694535, 3.145938], [101.694119, 3.147075], [101.6938018381447, 3.14838530615893], [101.693231, 3.149571], [101.693195, 3.149729], [101.693346, 3.151336], [101.694158, 3.15208], [101.694523, 3.152374], [101.694601, 3.152394], [101.69496, 3.152409], [101.695897, 3.152444], [101.695972, 3.152448], [101.6959852479291, 3.152446690543075], [101.696974, 3.15266], [101.698642, 3.152608], [101.698901, 3.152497], [101.699003, 3.152381], [101.699003, 3.152378], [101.699439, 3.148902], [101.699456, 3.14874], [101.699466, 3.148473], [101.6993063418263, 3.147633890375264]]], &quot;type&quot;: &quot;Polygon&quot;}, &quot;id&quot;: &quot;201&quot;, &quot;properties&quot;: {&quot;area&quot;: 3.591240974995793e-05, &quot;center&quot;: &quot;[101.6966656, 3.1495984]&quot;, &quot;isochrone_id&quot;: 75300, &quot;reachfactor&quot;: 1.0, &quot;station_id&quot;: &quot;75&quot;, &quot;total_pop&quot;: 4099.0, &quot;type&quot;: &quot;Polygon&quot;, &quot;value&quot;: 300}, &quot;type&quot;: &quot;Feature&quot;}, {&quot;bbox&quot;: [101.698076, 3.144257, 101.703161, 3.14728], &quot;geometry&quot;: {&quot;coordinates&quot;: [[[101.698112, 3.145111], [101.698856, 3.144257], [101.699216, 3.144259], [101.703016, 3.145216], [101.703108, 3.145398], [101.703161, 3.145754], [101.702799, 3.146102], [101.702498, 3.146382], [101.700858, 3.14728], [101.698972, 3.147039], [101.698714, 3.146787], [101.698106, 3.145534], [101.698076, 3.145469], [101.698112, 3.145111]]], &quot;type&quot;: &quot;Polygon&quot;}, &quot;id&quot;: &quot;203&quot;, &quot;properties&quot;: {&quot;area&quot;: 1.0430130000013216e-05, &quot;center&quot;: &quot;[101.7014318, 3.1447304]&quot;, &quot;isochrone_id&quot;: 76300, &quot;reachfactor&quot;: 0.3696, &quot;station_id&quot;: &quot;76&quot;, &quot;total_pop&quot;: 1095.0, &quot;type&quot;: &quot;Polygon&quot;, &quot;value&quot;: 300}, &quot;type&quot;: &quot;Feature&quot;}, {&quot;bbox&quot;: [101.694311, 3.181946, 101.697854, 3.189221], &quot;geometry&quot;: {&quot;coordinates&quot;: [[[101.694388, 3.188509], [101.694542, 3.182854], [101.694311, 3.182302], [101.694367, 3.181946], [101.694503, 3.181968], [101.69475, 3.182024], [101.694825, 3.182063], [101.694865, 3.182096], [101.695474, 3.18261], [101.697045, 3.184035], [101.697158, 3.184153], [101.697854, 3.185994], [101.697838, 3.186354], [101.697741, 3.187068], [101.696326, 3.188442], [101.696208, 3.188539], [101.694786, 3.189221], [101.69475, 3.189189], [101.694392, 3.188869], [101.694388, 3.188509]]], &quot;type&quot;: &quot;Polygon&quot;}, &quot;id&quot;: &quot;206&quot;, &quot;properties&quot;: {&quot;area&quot;: 1.6910447000002455e-05, &quot;center&quot;: &quot;[101.69538500593573, 3.1854635657719412]&quot;, &quot;isochrone_id&quot;: 78300, &quot;reachfactor&quot;: 0.5994, &quot;station_id&quot;: &quot;78&quot;, &quot;total_pop&quot;: 1766.0, &quot;type&quot;: &quot;Polygon&quot;, &quot;value&quot;: 300}, &quot;type&quot;: &quot;Feature&quot;}, {&quot;bbox&quot;: [101.709652, 3.13139, 101.715289, 3.137578], &quot;geometry&quot;: {&quot;coordinates&quot;: [[[101.709652, 3.13579], [101.709706, 3.135624], [101.710089, 3.134739], [101.712322, 3.131582], [101.712627, 3.13139], [101.712726, 3.13139], [101.714969, 3.132848], [101.715181, 3.133139], [101.715289, 3.13507], [101.715288, 3.13543], [101.712347, 3.137032], [101.71161, 3.137479], [101.710488, 3.137578], [101.710023, 3.137494], [101.709723, 3.137295], [101.709652, 3.13579]]], &quot;type&quot;: &quot;Polygon&quot;}, &quot;id&quot;: &quot;207&quot;, &quot;properties&quot;: {&quot;area&quot;: 2.2540254999997258e-05, &quot;center&quot;: &quot;[101.7121408, 3.1347568]&quot;, &quot;isochrone_id&quot;: 79300, &quot;reachfactor&quot;: 0.799, &quot;station_id&quot;: &quot;79&quot;, &quot;total_pop&quot;: 2478.0, &quot;type&quot;: &quot;Polygon&quot;, &quot;value&quot;: 300}, &quot;type&quot;: &quot;Feature&quot;}, {&quot;bbox&quot;: [101.713428, 3.12457, 101.717399, 3.130709], &quot;geometry&quot;: {&quot;coordinates&quot;: [[[101.713428, 3.126454], [101.713789, 3.124775], [101.714085, 3.12457], [101.71427, 3.124735], [101.716078, 3.126796], [101.717038, 3.128876], [101.717374, 3.129989], [101.717399, 3.130326], [101.717317, 3.130483], [101.717037, 3.130709], [101.714102, 3.129537], [101.714057, 3.129488], [101.713928, 3.129348], [101.713754, 3.129158], [101.713428, 3.126454]]], &quot;type&quot;: &quot;Polygon&quot;}, &quot;id&quot;: &quot;210&quot;, &quot;properties&quot;: {&quot;area&quot;: 1.3688368000016153e-05, &quot;center&quot;: &quot;[101.71576086194644, 3.1279810758616358]&quot;, &quot;isochrone_id&quot;: 80300, &quot;reachfactor&quot;: 0.4852, &quot;station_id&quot;: &quot;80&quot;, &quot;total_pop&quot;: 1129.0, &quot;type&quot;: &quot;Polygon&quot;, &quot;value&quot;: 300}, &quot;type&quot;: &quot;Feature&quot;}, {&quot;bbox&quot;: [101.712058, 3.11051, 101.717482, 3.115637], &quot;geometry&quot;: {&quot;coordinates&quot;: [[[101.713297, 3.110928], [101.713795, 3.110616], [101.714582, 3.110548], [101.715403, 3.11051], [101.716321, 3.110846], [101.717476, 3.11176], [101.717482, 3.11212], [101.715663, 3.115386], [101.715404, 3.115637], [101.713375, 3.114438], [101.712557, 3.11338], [101.712058, 3.112485], [101.713297, 3.110928]]], &quot;type&quot;: &quot;Polygon&quot;}, &quot;id&quot;: &quot;213&quot;, &quot;properties&quot;: {&quot;area&quot;: 1.7605991000013786e-05, &quot;center&quot;: &quot;[101.7141760507036, 3.1127061367725033]&quot;, &quot;isochrone_id&quot;: 81300, &quot;reachfactor&quot;: 0.624, &quot;station_id&quot;: &quot;81&quot;, &quot;total_pop&quot;: 1299.0, &quot;type&quot;: &quot;Polygon&quot;, &quot;value&quot;: 300}, &quot;type&quot;: &quot;Feature&quot;}, {&quot;bbox&quot;: [101.704149, 3.099371, 101.708637, 3.105451], &quot;geometry&quot;: {&quot;coordinates&quot;: [[[101.704169, 3.099712], [101.704193, 3.099637], [101.704435, 3.099371], [101.705211, 3.099372], [101.705435, 3.099378], [101.706486, 3.099545], [101.708186, 3.100053], [101.708495, 3.100238], [101.708568, 3.100403], [101.70862, 3.101476], [101.708637, 3.103082], [101.706855, 3.105287], [101.706535, 3.105451], [101.705774, 3.104423], [101.704149, 3.100005], [101.704169, 3.099712]]], &quot;type&quot;: &quot;Polygon&quot;}, &quot;id&quot;: &quot;216&quot;, &quot;properties&quot;: {&quot;area&quot;: 1.8039766499973127e-05, &quot;center&quot;: &quot;[101.70617418314254, 3.102030693820194]&quot;, &quot;isochrone_id&quot;: 82300, &quot;reachfactor&quot;: 0.6395, &quot;station_id&quot;: &quot;82&quot;, &quot;total_pop&quot;: 1656.0, &quot;type&quot;: &quot;Polygon&quot;, &quot;value&quot;: 300}, &quot;type&quot;: &quot;Feature&quot;}, {&quot;bbox&quot;: [101.709002, 3.073321, 101.714581, 3.077833], &quot;geometry&quot;: {&quot;coordinates&quot;: [[[101.7097, 3.07356], [101.709969, 3.073321], [101.71356, 3.075547], [101.714317, 3.076456], [101.714566, 3.076874], [101.714581, 3.076905], [101.714514, 3.07723], [101.714336, 3.077833], [101.712399, 3.077806], [101.710836, 3.077395], [101.709623, 3.076055], [101.70942, 3.075834], [101.709176, 3.075538], [101.709002, 3.07506], [101.7097, 3.07356]]], &quot;type&quot;: &quot;Polygon&quot;}, &quot;id&quot;: &quot;219&quot;, &quot;properties&quot;: {&quot;area&quot;: 1.4351219500006525e-05, &quot;center&quot;: &quot;[101.71134654275657, 3.0760317933119916]&quot;, &quot;isochrone_id&quot;: 84300, &quot;reachfactor&quot;: 0.5088, &quot;station_id&quot;: &quot;84&quot;, &quot;total_pop&quot;: 888.0, &quot;type&quot;: &quot;Polygon&quot;, &quot;value&quot;: 300}, &quot;type&quot;: &quot;Feature&quot;}, {&quot;bbox&quot;: [101.705195, 3.060582, 101.711504, 3.067058], &quot;geometry&quot;: {&quot;coordinates&quot;: [[[101.7079465319793, 3.062791116023239], [101.707927, 3.062633], [101.706133, 3.061789], [101.705195, 3.062612], [101.70521, 3.062971], [101.706267, 3.063795], [101.707363, 3.063829], [101.7079639384897, 3.062980149592072], [101.708234, 3.065913], [101.708381, 3.067058], [101.709328, 3.067027], [101.711499, 3.064649], [101.711504, 3.064642], [101.71141, 3.06261], [101.711083, 3.061954], [101.710486, 3.060865], [101.710241, 3.060602], [101.709769, 3.060582], [101.709358, 3.060821], [101.708683, 3.061422], [101.707927, 3.062579], [101.7079465319793, 3.062791116023239]]], &quot;type&quot;: &quot;Polygon&quot;}, &quot;id&quot;: &quot;221&quot;, &quot;properties&quot;: {&quot;area&quot;: 2.038608737762451e-05, &quot;center&quot;: &quot;[101.7080119, 3.0634977]&quot;, &quot;isochrone_id&quot;: 85300, &quot;reachfactor&quot;: 0.36134999999999995, &quot;station_id&quot;: &quot;85&quot;, &quot;total_pop&quot;: 996.5, &quot;type&quot;: &quot;Polygon&quot;, &quot;value&quot;: 300}, &quot;type&quot;: &quot;Feature&quot;}, {&quot;bbox&quot;: [101.688554, 3.054531, 101.695302, 3.060627], &quot;geometry&quot;: {&quot;coordinates&quot;: [[[101.688554, 3.057494], [101.688601, 3.05737], [101.689723, 3.055019], [101.689933, 3.054726], [101.692498, 3.054535], [101.692858, 3.054531], [101.694647, 3.054956], [101.694914, 3.055197], [101.695302, 3.058055], [101.69527, 3.058413], [101.69364, 3.060406], [101.693557, 3.060455], [101.693241, 3.060627], [101.6921, 3.060455], [101.69032, 3.059694], [101.688747, 3.058098], [101.688617, 3.057762], [101.688554, 3.057494]]], &quot;type&quot;: &quot;Polygon&quot;}, &quot;id&quot;: &quot;223&quot;, &quot;properties&quot;: {&quot;area&quot;: 3.101811799997979e-05, &quot;center&quot;: &quot;[101.6920688, 3.0578092]&quot;, &quot;isochrone_id&quot;: 86300, &quot;reachfactor&quot;: 1.0, &quot;station_id&quot;: &quot;86&quot;, &quot;total_pop&quot;: 1559.0, &quot;type&quot;: &quot;Polygon&quot;, &quot;value&quot;: 300}, &quot;type&quot;: &quot;Feature&quot;}, {&quot;bbox&quot;: [101.683609, 3.057891, 101.690342, 3.062268], &quot;geometry&quot;: {&quot;coordinates&quot;: [[[101.683609, 3.06182], [101.683671, 3.061674], [101.685763, 3.058666], [101.685943, 3.058547], [101.688208, 3.057891], [101.688565, 3.057937], [101.688693, 3.058114], [101.690342, 3.060539], [101.690233, 3.060619], [101.68976, 3.060895], [101.68871, 3.061245], [101.684006, 3.062268], [101.683652, 3.062208], [101.683609, 3.06182]]], &quot;type&quot;: &quot;Polygon&quot;}, &quot;id&quot;: &quot;226&quot;, &quot;properties&quot;: {&quot;area&quot;: 1.6614982500007225e-05, &quot;center&quot;: &quot;[101.6871114210793, 3.0610687605532427]&quot;, &quot;isochrone_id&quot;: 87300, &quot;reachfactor&quot;: 0.589, &quot;station_id&quot;: &quot;87&quot;, &quot;total_pop&quot;: 2142.0, &quot;type&quot;: &quot;Polygon&quot;, &quot;value&quot;: 300}, &quot;type&quot;: &quot;Feature&quot;}, {&quot;bbox&quot;: [101.692637, 3.175779, 101.698237, 3.182148], &quot;geometry&quot;: {&quot;coordinates&quot;: [[[101.692637, 3.17738], [101.692647, 3.177287], [101.692806, 3.177059], [101.694245, 3.175779], [101.694385, 3.175841], [101.697761, 3.177976], [101.698034, 3.178188], [101.698116, 3.178305], [101.698215, 3.17854], [101.698226, 3.178762], [101.698237, 3.178983], [101.696644, 3.180675], [101.696448, 3.180853], [101.695868, 3.181345], [101.6951, 3.18195], [101.694705, 3.182148], [101.694349, 3.182098], [101.69428, 3.182043], [101.692642, 3.177559], [101.692637, 3.17738]]], &quot;type&quot;: &quot;Polygon&quot;}, &quot;id&quot;: &quot;229&quot;, &quot;properties&quot;: {&quot;area&quot;: 2.065296999998395e-05, &quot;center&quot;: &quot;[101.69553274931489, 3.178600825386419]&quot;, &quot;isochrone_id&quot;: 89300, &quot;reachfactor&quot;: 0.7321, &quot;station_id&quot;: &quot;89&quot;, &quot;total_pop&quot;: 1760.0, &quot;type&quot;: &quot;Polygon&quot;, &quot;value&quot;: 300}, &quot;type&quot;: &quot;Feature&quot;}, {&quot;bbox&quot;: [101.659326, 3.058932, 101.666942, 3.063749], &quot;geometry&quot;: {&quot;coordinates&quot;: [[[101.659326, 3.06055], [101.659613, 3.060334], [101.662792, 3.059025], [101.663089, 3.058989], [101.663396, 3.058951], [101.663694, 3.058932], [101.666936, 3.061656], [101.666942, 3.062016], [101.665159, 3.063749], [101.664799, 3.063747], [101.660851, 3.063143], [101.659849, 3.063009], [101.659632, 3.062872], [101.659326, 3.06055]]], &quot;type&quot;: &quot;Polygon&quot;}, &quot;id&quot;: &quot;230&quot;, &quot;properties&quot;: {&quot;area&quot;: 2.518785950004509e-05, &quot;center&quot;: &quot;[101.662790704004, 3.0618739788352456]&quot;, &quot;isochrone_id&quot;: 90300, &quot;reachfactor&quot;: 0.893, &quot;station_id&quot;: &quot;90&quot;, &quot;total_pop&quot;: 4452.0, &quot;type&quot;: &quot;Polygon&quot;, &quot;value&quot;: 300}, &quot;type&quot;: &quot;Feature&quot;}, {&quot;bbox&quot;: [101.653192, 3.053148, 101.660261, 3.056536], &quot;geometry&quot;: {&quot;coordinates&quot;: [[[101.653341, 3.053148], [101.657031, 3.054374], [101.660261, 3.055666], [101.660249, 3.056026], [101.659464, 3.056308], [101.655586, 3.056536], [101.655078, 3.056502], [101.654749, 3.056358], [101.654669, 3.056219], [101.653192, 3.053476], [101.653341, 3.053148]]], &quot;type&quot;: &quot;Polygon&quot;}, &quot;id&quot;: &quot;233&quot;, &quot;properties&quot;: {&quot;area&quot;: 1.2319544500000774e-05, &quot;center&quot;: &quot;[101.6566818079202, 3.0548633252267803]&quot;, &quot;isochrone_id&quot;: 91300, &quot;reachfactor&quot;: 0.4366, &quot;station_id&quot;: &quot;91&quot;, &quot;total_pop&quot;: 806.0, &quot;type&quot;: &quot;Polygon&quot;, &quot;value&quot;: 300}, &quot;type&quot;: &quot;Feature&quot;}, {&quot;bbox&quot;: [101.640388, 3.047156, 101.648703, 3.052907], &quot;geometry&quot;: {&quot;coordinates&quot;: [[[101.6473292497442, 3.049638405006082], [101.647348, 3.048966], [101.647207, 3.048635], [101.646896, 3.048446], [101.64451, 3.047156], [101.64415, 3.047164], [101.64391, 3.047247], [101.643214, 3.047864], [101.6425510502516, 3.04865641175688], [101.641885, 3.048442], [101.641532, 3.048371], [101.640418, 3.049022], [101.640388, 3.04938], [101.6408370412386, 3.049522124796676], [101.640802, 3.049666], [101.641614, 3.051743], [101.641727, 3.051927], [101.641881, 3.052072], [101.642769, 3.052907], [101.645181, 3.052905], [101.6475673383154, 3.052011148191134], [101.647668, 3.052054], [101.647983, 3.05188], [101.6481234855955, 3.051802831855965], [101.648673, 3.051597], [101.648703, 3.051238], [101.6486742246902, 3.051231259294693], [101.648679, 3.051088], [101.647681, 3.049697], [101.6473292497442, 3.049638405006082]]], &quot;type&quot;: &quot;Polygon&quot;}, &quot;id&quot;: &quot;236&quot;, &quot;properties&quot;: {&quot;area&quot;: 3.110502831980028e-05, &quot;center&quot;: &quot;[101.64435202836891, 3.0503027157083342]&quot;, &quot;isochrone_id&quot;: 92300, &quot;reachfactor&quot;: 0.43316, &quot;station_id&quot;: &quot;92&quot;, &quot;total_pop&quot;: 873.4, &quot;type&quot;: &quot;Polygon&quot;, &quot;value&quot;: 300}, &quot;type&quot;: &quot;Feature&quot;}, {&quot;bbox&quot;: [101.588652, 3.050957, 101.593824, 3.058893], &quot;geometry&quot;: {&quot;coordinates&quot;: [[[101.588652, 3.05438], [101.591713, 3.050963], [101.592073, 3.050957], [101.592085, 3.051811], [101.592097, 3.052664], [101.593824, 3.05763], [101.593615, 3.057923], [101.592281, 3.058849], [101.591924, 3.058893], [101.591774, 3.058865], [101.589627, 3.056861], [101.588654, 3.05474], [101.588652, 3.05438]]], &quot;type&quot;: &quot;Polygon&quot;}, &quot;id&quot;: &quot;239&quot;, &quot;properties&quot;: {&quot;area&quot;: 2.239048849999482e-05, &quot;center&quot;: &quot;[101.59192137105893, 3.0550249771694777]&quot;, &quot;isochrone_id&quot;: 131300, &quot;reachfactor&quot;: 0.7939, &quot;station_id&quot;: &quot;131&quot;, &quot;total_pop&quot;: 2562.0, &quot;type&quot;: &quot;Polygon&quot;, &quot;value&quot;: 300}, &quot;type&quot;: &quot;Feature&quot;}, {&quot;bbox&quot;: [101.617933, 3.044945, 101.622058, 3.049789], &quot;geometry&quot;: {&quot;coordinates&quot;: [[[101.617933, 3.047109], [101.618001, 3.046756], [101.61848, 3.045812], [101.619246, 3.044996], [101.619495, 3.044945], [101.619547, 3.044952], [101.621868, 3.048008], [101.621894, 3.048055], [101.622058, 3.049789], [101.61834, 3.048898], [101.618009, 3.048755], [101.617952, 3.048673], [101.617933, 3.047109]]], &quot;type&quot;: &quot;Polygon&quot;}, &quot;id&quot;: &quot;240&quot;, &quot;properties&quot;: {&quot;area&quot;: 1.2479337999993173e-05, &quot;center&quot;: &quot;[101.62087393320175, 3.048133231741604]&quot;, &quot;isochrone_id&quot;: 93300, &quot;reachfactor&quot;: 0.4423, &quot;station_id&quot;: &quot;93&quot;, &quot;total_pop&quot;: 640.0, &quot;type&quot;: &quot;Polygon&quot;, &quot;value&quot;: 300}, &quot;type&quot;: &quot;Feature&quot;}, {&quot;bbox&quot;: [101.613246, 3.03147, 101.617019, 3.036827], &quot;geometry&quot;: {&quot;coordinates&quot;: [[[101.613617, 3.034662], [101.613487, 3.034251], [101.613246, 3.033214], [101.613303, 3.033023], [101.613864, 3.032208], [101.614462, 3.031849], [101.614645, 3.031757], [101.614954, 3.031598], [101.615217, 3.03147], [101.615362, 3.031471], [101.616825, 3.033291], [101.617019, 3.03365], [101.61701, 3.036827], [101.616459, 3.036745], [101.616032, 3.036565], [101.615872, 3.036464], [101.615373, 3.036126], [101.613748, 3.035072], [101.613617, 3.034662]]], &quot;type&quot;: &quot;Polygon&quot;}, &quot;id&quot;: &quot;242&quot;, &quot;properties&quot;: {&quot;area&quot;: 1.3546537999980075e-05, &quot;center&quot;: &quot;[101.61606836018456, 3.0333071327636474]&quot;, &quot;isochrone_id&quot;: 94300, &quot;reachfactor&quot;: 0.4803, &quot;station_id&quot;: &quot;94&quot;, &quot;total_pop&quot;: 328.0, &quot;type&quot;: &quot;Polygon&quot;, &quot;value&quot;: 300}, &quot;type&quot;: &quot;Feature&quot;}, {&quot;bbox&quot;: [101.610329, 3.020492, 101.616664, 3.026234], &quot;geometry&quot;: {&quot;coordinates&quot;: [[[101.6147662895572, 3.02538932188459], [101.615244, 3.025566], [101.615475, 3.025506], [101.616664, 3.023475], [101.616633, 3.023289], [101.616602, 3.023104], [101.616571, 3.022918], [101.61654, 3.022733], [101.616296, 3.022148], [101.614862, 3.021034], [101.613056, 3.020613], [101.612937087963, 3.020638674189815], [101.612866, 3.020588], [101.612702, 3.020517], [101.612515, 3.020492], [101.612378, 3.020502], [101.611052, 3.021114], [101.610865, 3.021328], [101.610782, 3.021522], [101.610329, 3.023501], [101.610369, 3.023859], [101.611527, 3.024788], [101.612009, 3.025169], [101.614077, 3.026234], [101.614416, 3.026113], [101.6147662895572, 3.02538932188459]]], &quot;type&quot;: &quot;Polygon&quot;}, &quot;id&quot;: &quot;245&quot;, &quot;properties&quot;: {&quot;area&quot;: 2.501043400562973e-05, &quot;center&quot;: &quot;[101.6141298, 3.0222312]&quot;, &quot;isochrone_id&quot;: 95300, &quot;reachfactor&quot;: 0.6722999999999999, &quot;station_id&quot;: &quot;95&quot;, &quot;total_pop&quot;: 1583.0, &quot;type&quot;: &quot;Polygon&quot;, &quot;value&quot;: 300}, &quot;type&quot;: &quot;Feature&quot;}, {&quot;bbox&quot;: [101.612143, 3.012353, 101.615074, 3.018785], &quot;geometry&quot;: {&quot;coordinates&quot;: [[[101.612149, 3.014117], [101.612498, 3.017044], [101.612621, 3.017706], [101.612883, 3.018765], [101.613021, 3.018785], [101.613375, 3.018718], [101.614363, 3.017564], [101.614557, 3.017279], [101.61502, 3.016549], [101.615074, 3.016359], [101.614986, 3.014219], [101.614985, 3.014214], [101.614394, 3.013522], [101.613256, 3.012508], [101.612931, 3.012353], [101.612217, 3.013695], [101.6122096437315, 3.013710308991138], [101.612209, 3.01371], [101.61218, 3.013772], [101.612143, 3.013913], [101.612149, 3.014117]]], &quot;type&quot;: &quot;Polygon&quot;}, &quot;id&quot;: &quot;247&quot;, &quot;properties&quot;: {&quot;area&quot;: 1.2962225936060528e-05, &quot;center&quot;: &quot;[101.6125364, 3.0162107]&quot;, &quot;isochrone_id&quot;: 96300, &quot;reachfactor&quot;: 0.3173, &quot;station_id&quot;: &quot;96&quot;, &quot;total_pop&quot;: 497.0, &quot;type&quot;: &quot;Polygon&quot;, &quot;value&quot;: 300}, &quot;type&quot;: &quot;Feature&quot;}, {&quot;bbox&quot;: [101.601145, 3.004923, 101.608638, 3.011096], &quot;geometry&quot;: {&quot;coordinates&quot;: [[[101.601145, 3.00769], [101.604235, 3.004923], [101.604595, 3.004927], [101.606738, 3.006098], [101.608377, 3.007461], [101.608638, 3.007709], [101.608535, 3.009526], [101.608286, 3.009786], [101.606026, 3.011095], [101.605666, 3.011096], [101.604217, 3.010923], [101.603571, 3.010284], [101.601151, 3.00805], [101.601145, 3.00769]]], &quot;type&quot;: &quot;Polygon&quot;}, &quot;id&quot;: &quot;250&quot;, &quot;properties&quot;: {&quot;area&quot;: 2.975118500000713e-05, &quot;center&quot;: &quot;[101.6052521920149, 3.007877902677629]&quot;, &quot;isochrone_id&quot;: 97300, &quot;reachfactor&quot;: 1.0, &quot;station_id&quot;: &quot;97&quot;, &quot;total_pop&quot;: 4577.0, &quot;type&quot;: &quot;Polygon&quot;, &quot;value&quot;: 300}, &quot;type&quot;: &quot;Feature&quot;}, {&quot;bbox&quot;: [101.593911, 2.99623, 101.599207, 3.003477], &quot;geometry&quot;: {&quot;coordinates&quot;: [[[101.593975, 2.998877], [101.59511, 2.996362], [101.595246, 2.996296], [101.595309, 2.996273], [101.595445, 2.99623], [101.595786, 2.996261], [101.59795, 2.99722], [101.599187, 2.999125], [101.599207, 2.999464], [101.598194, 3.003348], [101.597858, 3.003477], [101.597689, 3.003392], [101.595743, 3.00242], [101.594269, 3.000071], [101.593911, 2.999134], [101.593975, 2.998877]]], &quot;type&quot;: &quot;Polygon&quot;}, &quot;id&quot;: &quot;251&quot;, &quot;properties&quot;: {&quot;area&quot;: 2.5117160500021097e-05, &quot;center&quot;: &quot;[101.59667566253636, 2.9999163681054823]&quot;, &quot;isochrone_id&quot;: 98300, &quot;reachfactor&quot;: 0.8904, &quot;station_id&quot;: &quot;98&quot;, &quot;total_pop&quot;: 2721.0, &quot;type&quot;: &quot;Polygon&quot;, &quot;value&quot;: 300}, &quot;type&quot;: &quot;Feature&quot;}, {&quot;bbox&quot;: [101.691877, 3.169373, 101.698693, 3.17653], &quot;geometry&quot;: {&quot;coordinates&quot;: [[[101.6985902244884, 3.174319746360337], [101.698627, 3.174298], [101.698693, 3.173944], [101.698517, 3.171496], [101.69849, 3.171408], [101.697432, 3.169903], [101.697068, 3.169596], [101.696802, 3.16945], [101.696475, 3.169401], [101.696241, 3.169373], [101.695403, 3.169687], [101.6948119722682, 3.170044997608723], [101.694648, 3.170026], [101.692525, 3.171233], [101.692325, 3.171393], [101.692073, 3.17165], [101.691877, 3.172722], [101.691916, 3.172862], [101.692198, 3.173489], [101.692968, 3.175035], [101.693803, 3.17591], [101.694063, 3.176093], [101.694229, 3.176165], [101.696128, 3.17653], [101.697678, 3.175227], [101.698473, 3.174583], [101.698527, 3.174532], [101.6985902244884, 3.174319746360337]]], &quot;type&quot;: &quot;Polygon&quot;}, &quot;id&quot;: &quot;252&quot;, &quot;properties&quot;: {&quot;area&quot;: 3.484914818641941e-05, &quot;center&quot;: &quot;[101.6954278, 3.1725154]&quot;, &quot;isochrone_id&quot;: 99300, &quot;reachfactor&quot;: 1.0, &quot;station_id&quot;: &quot;99&quot;, &quot;total_pop&quot;: 4072.5, &quot;type&quot;: &quot;Polygon&quot;, &quot;value&quot;: 300}, &quot;type&quot;: &quot;Feature&quot;}, {&quot;bbox&quot;: [101.572231, 2.992877, 101.576711, 2.996978], &quot;geometry&quot;: {&quot;coordinates&quot;: [[[101.572243, 2.995805], [101.572237, 2.995607], [101.572231, 2.995408], [101.574123, 2.993038], [101.574445, 2.992877], [101.575117, 2.99288], [101.576056, 2.994462], [101.576224, 2.994784], [101.576396, 2.995115], [101.57649, 2.995319], [101.576583, 2.995524], [101.576711, 2.996348], [101.5764, 2.996506], [101.576195, 2.996593], [101.576003, 2.996673], [101.575751, 2.996742], [101.575522, 2.996802], [101.575009, 2.9969], [101.574644, 2.996947], [101.574295, 2.99697], [101.573833, 2.996974], [101.573371, 2.996978], [101.572451, 2.996969], [101.57237, 2.996969], [101.572243, 2.995805]]], &quot;type&quot;: &quot;Polygon&quot;}, &quot;id&quot;: &quot;254&quot;, &quot;properties&quot;: {&quot;area&quot;: 1.2922694999995298e-05, &quot;center&quot;: &quot;[101.57548924114543, 2.9958655024106937]&quot;, &quot;isochrone_id&quot;: 100300, &quot;reachfactor&quot;: 0.4582, &quot;station_id&quot;: &quot;100&quot;, &quot;total_pop&quot;: 136.0, &quot;type&quot;: &quot;Polygon&quot;, &quot;value&quot;: 300}, &quot;type&quot;: &quot;Feature&quot;}, {&quot;bbox&quot;: [101.690564, 3.16362, 101.697391, 3.170017], &quot;geometry&quot;: {&quot;coordinates&quot;: [[[101.6906876981852, 3.167817024775346], [101.690734, 3.168175], [101.691128, 3.169353], [101.69133, 3.169651], [101.6919331583942, 3.169671618944746], [101.691951, 3.169674], [101.694343, 3.170015], [101.694366, 3.170017], [101.694646, 3.16979], [101.696091, 3.168293], [101.696597, 3.167692], [101.697094, 3.167016], [101.697391, 3.166554], [101.697321, 3.166201], [101.697046, 3.165895], [101.696953, 3.165817], [101.696382, 3.165331], [101.695636, 3.164838], [101.694805, 3.164271], [101.693616, 3.16362], [101.6929896905698, 3.163707836078626], [101.692942, 3.163682], [101.69263, 3.163861], [101.691107, 3.165733], [101.690817, 3.166213], [101.690564, 3.166702], [101.690669, 3.167763], [101.6906876981852, 3.167817024775346]]], &quot;type&quot;: &quot;Polygon&quot;}, &quot;id&quot;: &quot;257&quot;, &quot;properties&quot;: {&quot;area&quot;: 2.9552818673691123e-05, &quot;center&quot;: &quot;[101.69373096126859, 3.1670089963140877]&quot;, &quot;isochrone_id&quot;: 101300, &quot;reachfactor&quot;: 0.95355, &quot;station_id&quot;: &quot;101&quot;, &quot;total_pop&quot;: 4235.0, &quot;type&quot;: &quot;Polygon&quot;, &quot;value&quot;: 300}, &quot;type&quot;: &quot;Feature&quot;}, {&quot;bbox&quot;: [101.692694, 3.157982, 101.697085, 3.162908], &quot;geometry&quot;: {&quot;coordinates&quot;: [[[101.692695, 3.161223], [101.69274, 3.161028], [101.694315, 3.157982], [101.694675, 3.157985], [101.695196, 3.158349], [101.697077, 3.159651], [101.697085, 3.159672], [101.696806, 3.16101], [101.696738, 3.161215], [101.696576, 3.161618], [101.696057, 3.162618], [101.695919, 3.162879], [101.69583, 3.162905], [101.695612, 3.162908], [101.694391, 3.162408], [101.692822, 3.16181], [101.692694, 3.161707], [101.692695, 3.161223]]], &quot;type&quot;: &quot;Polygon&quot;}, &quot;id&quot;: &quot;260&quot;, &quot;properties&quot;: {&quot;area&quot;: 1.3841482499975651e-05, &quot;center&quot;: &quot;[101.6940522, 3.1611555]&quot;, &quot;isochrone_id&quot;: 102300, &quot;reachfactor&quot;: 0.4907, &quot;station_id&quot;: &quot;102&quot;, &quot;total_pop&quot;: 1511.0, &quot;type&quot;: &quot;Polygon&quot;, &quot;value&quot;: 300}, &quot;type&quot;: &quot;Feature&quot;}, {&quot;bbox&quot;: [101.691929, 3.151728, 101.697425, 3.159264], &quot;geometry&quot;: {&quot;coordinates&quot;: [[[101.691929, 3.153522], [101.69357, 3.151989], [101.694554, 3.151728], [101.694561, 3.151728], [101.694609, 3.151729], [101.694652, 3.151731], [101.694931, 3.151915], [101.696294, 3.153212], [101.697315, 3.154529], [101.697425, 3.154684], [101.697221, 3.156951], [101.697135, 3.157235], [101.694993, 3.15911], [101.694826, 3.159186], [101.694475, 3.159264], [101.693804, 3.158646], [101.692651, 3.156562], [101.691929, 3.153522]]], &quot;type&quot;: &quot;Polygon&quot;}, &quot;id&quot;: &quot;261&quot;, &quot;properties&quot;: {&quot;area&quot;: 2.75033384999954e-05, &quot;center&quot;: &quot;[101.69453289220279, 3.1555503765897095]&quot;, &quot;isochrone_id&quot;: 103300, &quot;reachfactor&quot;: 0.9748, &quot;station_id&quot;: &quot;103&quot;, &quot;total_pop&quot;: 4457.0, &quot;type&quot;: &quot;Polygon&quot;, &quot;value&quot;: 300}, &quot;type&quot;: &quot;Feature&quot;}, {&quot;bbox&quot;: [101.693195, 3.145727, 101.699466, 3.15266], &quot;geometry&quot;: {&quot;coordinates&quot;: [[[101.6993063418263, 3.147633890375264], [101.699269, 3.14705], [101.699248, 3.14669], [101.699178, 3.146615], [101.698904, 3.146382], [101.695999, 3.145727], [101.694886, 3.14586], [101.694535, 3.145938], [101.694119, 3.147075], [101.6938018381447, 3.14838530615893], [101.693231, 3.149571], [101.693195, 3.149729], [101.693346, 3.151336], [101.694158, 3.15208], [101.694523, 3.152374], [101.694601, 3.152394], [101.69496, 3.152409], [101.695897, 3.152444], [101.695972, 3.152448], [101.6959852479291, 3.152446690543075], [101.696974, 3.15266], [101.698642, 3.152608], [101.698901, 3.152497], [101.699003, 3.152381], [101.699003, 3.152378], [101.699439, 3.148902], [101.699456, 3.14874], [101.699466, 3.148473], [101.6993063418263, 3.147633890375264]]], &quot;type&quot;: &quot;Polygon&quot;}, &quot;id&quot;: &quot;264&quot;, &quot;properties&quot;: {&quot;area&quot;: 3.591240974995793e-05, &quot;center&quot;: &quot;[101.6966656, 3.1495984]&quot;, &quot;isochrone_id&quot;: 104300, &quot;reachfactor&quot;: 1.0, &quot;station_id&quot;: &quot;104&quot;, &quot;total_pop&quot;: 4099.0, &quot;type&quot;: &quot;Polygon&quot;, &quot;value&quot;: 300}, &quot;type&quot;: &quot;Feature&quot;}, {&quot;bbox&quot;: [101.698076, 3.144257, 101.703161, 3.14728], &quot;geometry&quot;: {&quot;coordinates&quot;: [[[101.698112, 3.145111], [101.698856, 3.144257], [101.699216, 3.144259], [101.703016, 3.145216], [101.703108, 3.145398], [101.703161, 3.145754], [101.702799, 3.146102], [101.702498, 3.146382], [101.700858, 3.14728], [101.698972, 3.147039], [101.698714, 3.146787], [101.698106, 3.145534], [101.698076, 3.145469], [101.698112, 3.145111]]], &quot;type&quot;: &quot;Polygon&quot;}, &quot;id&quot;: &quot;266&quot;, &quot;properties&quot;: {&quot;area&quot;: 1.0430130000013216e-05, &quot;center&quot;: &quot;[101.7014318, 3.1447304]&quot;, &quot;isochrone_id&quot;: 105300, &quot;reachfactor&quot;: 0.3696, &quot;station_id&quot;: &quot;105&quot;, &quot;total_pop&quot;: 1095.0, &quot;type&quot;: &quot;Polygon&quot;, &quot;value&quot;: 300}, &quot;type&quot;: &quot;Feature&quot;}, {&quot;bbox&quot;: [101.703341, 3.13676, 101.709122, 3.142225], &quot;geometry&quot;: {&quot;coordinates&quot;: [[[101.703341, 3.141213], [101.703468, 3.140572], [101.704054, 3.137532], [101.704349, 3.137325], [101.705529, 3.13676], [101.70805, 3.137087], [101.708982, 3.137215], [101.709074, 3.137267], [101.709104, 3.137311], [101.709122, 3.137472], [101.708273, 3.141985], [101.708125, 3.142081], [101.707883, 3.142225], [101.706238, 3.141997], [101.703564, 3.141663], [101.703365, 3.141362], [101.703341, 3.141213]]], &quot;type&quot;: &quot;Polygon&quot;}, &quot;id&quot;: &quot;269&quot;, &quot;properties&quot;: {&quot;area&quot;: 2.4773167499999563e-05, &quot;center&quot;: &quot;[101.7061513, 3.1397467]&quot;, &quot;isochrone_id&quot;: 106300, &quot;reachfactor&quot;: 0.878, &quot;station_id&quot;: &quot;106&quot;, &quot;total_pop&quot;: 3331.0, &quot;type&quot;: &quot;Polygon&quot;, &quot;value&quot;: 300}, &quot;type&quot;: &quot;Feature&quot;}, {&quot;bbox&quot;: [101.709052, 3.155866, 101.716192, 3.161491], &quot;geometry&quot;: {&quot;coordinates&quot;: [[[101.7104860993766, 3.157041433141345], [101.709215, 3.158649], [101.709052, 3.15897], [101.709107, 3.15916], [101.709436, 3.15985], [101.70948, 3.159937], [101.709793, 3.160113], [101.7105446153055, 3.160510116334092], [101.711485, 3.161255], [101.71226, 3.161491], [101.7131314401721, 3.161254596131241], [101.713294, 3.161253], [101.7138059621658, 3.161071612130751], [101.715902, 3.160503], [101.716187, 3.159983], [101.716192, 3.159969], [101.715935, 3.158057], [101.71546, 3.156514], [101.715202, 3.156357], [101.714179, 3.15594], [101.713712, 3.155866], [101.711609, 3.156051], [101.710819, 3.156717], [101.710506, 3.157012], [101.7104860993766, 3.157041433141345]]], &quot;type&quot;: &quot;Polygon&quot;}, &quot;id&quot;: &quot;272&quot;, &quot;properties&quot;: {&quot;area&quot;: 2.927715625771146e-05, &quot;center&quot;: &quot;[101.7125217751169, 3.1588555818871913]&quot;, &quot;isochrone_id&quot;: 108300, &quot;reachfactor&quot;: 0.9823999999999999, &quot;station_id&quot;: &quot;108&quot;, &quot;total_pop&quot;: 4725.0, &quot;type&quot;: &quot;Polygon&quot;, &quot;value&quot;: 300}, &quot;type&quot;: &quot;Feature&quot;}, {&quot;bbox&quot;: [101.703544, 3.159694, 101.710494, 3.164139], &quot;geometry&quot;: {&quot;coordinates&quot;: [[[101.7063704270304, 3.1640887536329], [101.707984, 3.164034], [101.7103, 3.162765], [101.710494, 3.162462], [101.709879, 3.159962], [101.709837, 3.159871], [101.709523, 3.159694], [101.708987, 3.15985], [101.705799, 3.16098], [101.704403, 3.161356], [101.704058, 3.16146], [101.703544, 3.162188], [101.70357, 3.162335], [101.703609, 3.162501], [101.704963, 3.163862], [101.705114, 3.16402], [101.706136, 3.164139], [101.7063704270304, 3.1640887536329]]], &quot;type&quot;: &quot;Polygon&quot;}, &quot;id&quot;: &quot;273&quot;, &quot;properties&quot;: {&quot;area&quot;: 2.0194970775896366e-05, &quot;center&quot;: &quot;[101.7073835, 3.1615978]&quot;, &quot;isochrone_id&quot;: 109300, &quot;reachfactor&quot;: 0.6126, &quot;station_id&quot;: &quot;109&quot;, &quot;total_pop&quot;: 1809.5, &quot;type&quot;: &quot;Polygon&quot;, &quot;value&quot;: 300}, &quot;type&quot;: &quot;Feature&quot;}, {&quot;bbox&quot;: [101.699158, 3.15369, 101.705167, 3.159821], &quot;geometry&quot;: {&quot;coordinates&quot;: [[[101.69917, 3.157397], [101.699852, 3.154576], [101.701181, 3.15369], [101.701278, 3.153751], [101.70481, 3.155949], [101.705167, 3.15644], [101.705015, 3.156867], [101.702203, 3.15971], [101.701861, 3.159821], [101.701345, 3.159707], [101.70062, 3.159394], [101.699616, 3.158479], [101.699549, 3.158417], [101.699158, 3.157451], [101.69917, 3.157397]]], &quot;type&quot;: &quot;Polygon&quot;}, &quot;id&quot;: &quot;276&quot;, &quot;properties&quot;: {&quot;area&quot;: 2.2894024499983637e-05, &quot;center&quot;: &quot;[101.70192674065594, 3.156964849023468]&quot;, &quot;isochrone_id&quot;: 110300, &quot;reachfactor&quot;: 0.8116, &quot;station_id&quot;: &quot;110&quot;, &quot;total_pop&quot;: 3682.0, &quot;type&quot;: &quot;Polygon&quot;, &quot;value&quot;: 300}, &quot;type&quot;: &quot;Feature&quot;}, {&quot;bbox&quot;: [101.693195, 3.145727, 101.699466, 3.15266], &quot;geometry&quot;: {&quot;coordinates&quot;: [[[101.6993063418263, 3.147633890375264], [101.699269, 3.14705], [101.699248, 3.14669], [101.699178, 3.146615], [101.698904, 3.146382], [101.695999, 3.145727], [101.694886, 3.14586], [101.694535, 3.145938], [101.694119, 3.147075], [101.6938018381447, 3.14838530615893], [101.693231, 3.149571], [101.693195, 3.149729], [101.693346, 3.151336], [101.694158, 3.15208], [101.694523, 3.152374], [101.694601, 3.152394], [101.69496, 3.152409], [101.695897, 3.152444], [101.695972, 3.152448], [101.6959852479291, 3.152446690543075], [101.696974, 3.15266], [101.698642, 3.152608], [101.698901, 3.152497], [101.699003, 3.152381], [101.699003, 3.152378], [101.699439, 3.148902], [101.699456, 3.14874], [101.699466, 3.148473], [101.6993063418263, 3.147633890375264]]], &quot;type&quot;: &quot;Polygon&quot;}, &quot;id&quot;: &quot;279&quot;, &quot;properties&quot;: {&quot;area&quot;: 3.591240974995793e-05, &quot;center&quot;: &quot;[101.6966656, 3.1495984]&quot;, &quot;isochrone_id&quot;: 111300, &quot;reachfactor&quot;: 1.0, &quot;station_id&quot;: &quot;111&quot;, &quot;total_pop&quot;: 4099.0, &quot;type&quot;: &quot;Polygon&quot;, &quot;value&quot;: 300}, &quot;type&quot;: &quot;Feature&quot;}, {&quot;bbox&quot;: [101.727889, 3.163244, 101.735129, 3.168328], &quot;geometry&quot;: {&quot;coordinates&quot;: [[[101.727933, 3.165164], [101.728254, 3.16418], [101.729113, 3.163803], [101.731487, 3.163244], [101.733022, 3.164055], [101.735103, 3.165757], [101.735119, 3.165788], [101.735129, 3.165882], [101.735129, 3.165914], [101.735051, 3.166182], [101.734036, 3.166895], [101.733859, 3.166976], [101.731187, 3.168291], [101.730632, 3.168328], [101.730282, 3.168244], [101.728699, 3.167433], [101.727889, 3.165521], [101.727933, 3.165164]]], &quot;type&quot;: &quot;Polygon&quot;}, &quot;id&quot;: &quot;281&quot;, &quot;properties&quot;: {&quot;area&quot;: 2.4408856999989546e-05, &quot;center&quot;: &quot;[101.7314919, 3.165189]&quot;, &quot;isochrone_id&quot;: 141300, &quot;reachfactor&quot;: 0.8652, &quot;station_id&quot;: &quot;141&quot;, &quot;total_pop&quot;: 2032.0, &quot;type&quot;: &quot;Polygon&quot;, &quot;value&quot;: 300}, &quot;type&quot;: &quot;Feature&quot;}, {&quot;bbox&quot;: [101.693254, 3.138625, 101.698227, 3.145363], &quot;geometry&quot;: {&quot;coordinates&quot;: [[[101.693254, 3.141124], [101.693513, 3.140718], [101.694886, 3.138734], [101.695092, 3.138625], [101.695445, 3.138695], [101.697299, 3.140026], [101.697913, 3.141523], [101.698227, 3.142358], [101.698176, 3.142714], [101.696396, 3.145209], [101.695958, 3.145359], [101.695598, 3.145363], [101.694734, 3.145178], [101.694095, 3.144456], [101.693254, 3.141124]]], &quot;type&quot;: &quot;Polygon&quot;}, &quot;id&quot;: &quot;282&quot;, &quot;properties&quot;: {&quot;area&quot;: 2.23868020000113e-05, &quot;center&quot;: &quot;[101.69531014062251, 3.1424390028966136]&quot;, &quot;isochrone_id&quot;: 112300, &quot;reachfactor&quot;: 0.7936, &quot;station_id&quot;: &quot;112&quot;, &quot;total_pop&quot;: 1796.0, &quot;type&quot;: &quot;Polygon&quot;, &quot;value&quot;: 300}, &quot;type&quot;: &quot;Feature&quot;}, {&quot;bbox&quot;: [101.684292, 3.131351, 101.689469, 3.136616], &quot;geometry&quot;: {&quot;coordinates&quot;: [[[101.684387, 3.133401], [101.684442, 3.133186], [101.686266, 3.131407], [101.686864, 3.131364], [101.687308, 3.131351], [101.688605, 3.131606], [101.688865, 3.131855], [101.689384, 3.133328], [101.689403, 3.133379], [101.689434, 3.133482], [101.689469, 3.134508], [101.688633, 3.135991], [101.687763, 3.136527], [101.687685, 3.136573], [101.68756, 3.136597], [101.685879, 3.136616], [101.68566, 3.136384], [101.684292, 3.134016], [101.684387, 3.133401]]], &quot;type&quot;: &quot;Polygon&quot;}, &quot;id&quot;: &quot;283&quot;, &quot;properties&quot;: {&quot;area&quot;: 2.0634618500007323e-05, &quot;center&quot;: &quot;[101.68652108831382, 3.13405950436688]&quot;, &quot;isochrone_id&quot;: 113300, &quot;reachfactor&quot;: 0.7315, &quot;station_id&quot;: &quot;113&quot;, &quot;total_pop&quot;: 2337.0, &quot;type&quot;: &quot;Polygon&quot;, &quot;value&quot;: 300}, &quot;type&quot;: &quot;Feature&quot;}, {&quot;bbox&quot;: [101.676512, 3.124228, 101.681785, 3.131149], &quot;geometry&quot;: {&quot;coordinates&quot;: [[[101.676512, 3.126584], [101.67711, 3.124427], [101.677409, 3.124228], [101.678683, 3.124708], [101.680072, 3.125613], [101.680254, 3.125923], [101.681785, 3.130547], [101.681705, 3.130941], [101.681412, 3.131149], [101.677826, 3.130676], [101.676864, 3.13013], [101.676617, 3.129868], [101.676512, 3.126584]]], &quot;type&quot;: &quot;Polygon&quot;}, &quot;id&quot;: &quot;286&quot;, &quot;properties&quot;: {&quot;area&quot;: 2.5465160000036096e-05, &quot;center&quot;: &quot;[101.67901934079306, 3.127618311022056]&quot;, &quot;isochrone_id&quot;: 114300, &quot;reachfactor&quot;: 0.9027, &quot;station_id&quot;: &quot;114&quot;, &quot;total_pop&quot;: 3556.0, &quot;type&quot;: &quot;Polygon&quot;, &quot;value&quot;: 300}, &quot;type&quot;: &quot;Feature&quot;}, {&quot;bbox&quot;: [101.670394, 3.115564, 101.675442, 3.122059], &quot;geometry&quot;: {&quot;coordinates&quot;: [[[101.670428, 3.116738], [101.670445, 3.116655], [101.670883, 3.116252], [101.671697, 3.115726], [101.672495, 3.115564], [101.672852, 3.115607], [101.674333, 3.117132], [101.675255, 3.118165], [101.675442, 3.121813], [101.67518, 3.122059], [101.671807, 3.120133], [101.671161, 3.119207], [101.670394, 3.117096], [101.670428, 3.116738]]], &quot;type&quot;: &quot;Polygon&quot;}, &quot;id&quot;: &quot;289&quot;, &quot;properties&quot;: {&quot;area&quot;: 2.015054000003658e-05, &quot;center&quot;: &quot;[101.67279765153405, 3.1187694025946326]&quot;, &quot;isochrone_id&quot;: 115300, &quot;reachfactor&quot;: 0.7143, &quot;station_id&quot;: &quot;115&quot;, &quot;total_pop&quot;: 1082.0, &quot;type&quot;: &quot;Polygon&quot;, &quot;value&quot;: 300}, &quot;type&quot;: &quot;Feature&quot;}, {&quot;bbox&quot;: [101.665065, 3.113401, 101.671566, 3.118721], &quot;geometry&quot;: {&quot;coordinates&quot;: [[[101.665085, 3.116955], [101.665065, 3.116596], [101.665181, 3.115867], [101.66528, 3.115654], [101.66539, 3.115426], [101.667457, 3.113401], [101.667817, 3.113404], [101.671566, 3.116741], [101.671542, 3.1171], [101.668296, 3.11871], [101.668188, 3.118717], [101.668041, 3.118721], [101.666152, 3.118018], [101.665143, 3.117132], [101.665085, 3.116955]]], &quot;type&quot;: &quot;Polygon&quot;}, &quot;id&quot;: &quot;292&quot;, &quot;properties&quot;: {&quot;area&quot;: 2.0778715999995994e-05, &quot;center&quot;: &quot;[101.6685528, 3.115614]&quot;, &quot;isochrone_id&quot;: 116300, &quot;reachfactor&quot;: 0.7365, &quot;station_id&quot;: &quot;116&quot;, &quot;total_pop&quot;: 1930.0, &quot;type&quot;: &quot;Polygon&quot;, &quot;value&quot;: 300}, &quot;type&quot;: &quot;Feature&quot;}, {&quot;bbox&quot;: [101.620468, 3.101718, 101.62628, 3.108533], &quot;geometry&quot;: {&quot;coordinates&quot;: [[[101.620594, 3.106255], [101.620468, 3.104293], [101.620594, 3.103921], [101.621481, 3.101801], [101.621832, 3.101718], [101.625022, 3.102414], [101.625784, 3.103296], [101.62628, 3.10414], [101.626093, 3.105151], [101.625836, 3.105735], [101.625546, 3.106054], [101.625211, 3.106422], [101.624264, 3.10745], [101.623947, 3.107778], [101.623675, 3.108064], [101.623104, 3.108503], [101.622991, 3.108515], [101.622632, 3.108533], [101.621314, 3.107266], [101.621103, 3.107063], [101.620896, 3.106862], [101.620678, 3.106576], [101.620594, 3.106255]]], &quot;type&quot;: &quot;Polygon&quot;}, &quot;id&quot;: &quot;293&quot;, &quot;properties&quot;: {&quot;area&quot;: 2.770445249999147e-05, &quot;center&quot;: &quot;[101.6230225, 3.1049369]&quot;, &quot;isochrone_id&quot;: 121300, &quot;reachfactor&quot;: 0.9821, &quot;station_id&quot;: &quot;121&quot;, &quot;total_pop&quot;: 2777.0, &quot;type&quot;: &quot;Polygon&quot;, &quot;value&quot;: 300}, &quot;type&quot;: &quot;Feature&quot;}, {&quot;bbox&quot;: [101.658977, 3.111016, 101.665647, 3.117914], &quot;geometry&quot;: {&quot;coordinates&quot;: [[[101.6654751914859, 3.114505012276693], [101.664563, 3.113119], [101.664342, 3.112835], [101.66361, 3.111963], [101.662686, 3.11116], [101.662222, 3.111016], [101.661606, 3.111375], [101.6593813993229, 3.113352321438605], [101.65916, 3.113537], [101.658977, 3.113847], [101.659853, 3.114809], [101.6598536907947, 3.114809659163319], [101.659854, 3.11481], [101.6599207449358, 3.114873642908975], [101.663107, 3.117914], [101.66326, 3.11787], [101.663292, 3.117844], [101.665647, 3.115081], [101.665627, 3.114721], [101.6654751914859, 3.114505012276693]]], &quot;type&quot;: &quot;Polygon&quot;}, &quot;id&quot;: &quot;294&quot;, &quot;properties&quot;: {&quot;area&quot;: 2.5099591096781024e-05, &quot;center&quot;: &quot;[101.6620724, 3.1146593]&quot;, &quot;isochrone_id&quot;: 117300, &quot;reachfactor&quot;: 0.88195, &quot;station_id&quot;: &quot;117&quot;, &quot;total_pop&quot;: 1952.0, &quot;type&quot;: &quot;Polygon&quot;, &quot;value&quot;: 300}, &quot;type&quot;: &quot;Feature&quot;}, {&quot;bbox&quot;: [101.719342, 3.216729, 101.725138, 3.222454], &quot;geometry&quot;: {&quot;coordinates&quot;: [[[101.719397, 3.222153], [101.719348, 3.220792], [101.719342, 3.219256], [101.719349, 3.219002], [101.719414, 3.21846], [101.719545, 3.218337], [101.719674, 3.218232], [101.724233, 3.216729], [101.724399, 3.216729], [101.724566, 3.216924], [101.724695, 3.217183], [101.724931, 3.21926], [101.725138, 3.221049], [101.724934, 3.221345], [101.722481, 3.222274], [101.720567, 3.222444], [101.71949, 3.222454], [101.719397, 3.222153]]], &quot;type&quot;: &quot;Polygon&quot;}, &quot;id&quot;: &quot;296&quot;, &quot;properties&quot;: {&quot;area&quot;: 2.5968994500011052e-05, &quot;center&quot;: &quot;[101.72199698542184, 3.2195830788466053]&quot;, &quot;isochrone_id&quot;: 118300, &quot;reachfactor&quot;: 0.9205, &quot;station_id&quot;: &quot;118&quot;, &quot;total_pop&quot;: 6899.0, &quot;type&quot;: &quot;Polygon&quot;, &quot;value&quot;: 300}, &quot;type&quot;: &quot;Feature&quot;}, {&quot;bbox&quot;: [101.642635, 3.100218, 101.648686, 3.105688], &quot;geometry&quot;: {&quot;coordinates&quot;: [[[101.6468016596158, 3.101249646005109], [101.646379, 3.100713], [101.645936, 3.100251], [101.645878, 3.100218], [101.645815, 3.10022], [101.645321, 3.100279], [101.645189, 3.100371], [101.643992, 3.101554], [101.643793, 3.101854], [101.6436572381776, 3.10207415430661], [101.642928, 3.102762], [101.642635, 3.103428], [101.642918, 3.103951], [101.643256, 3.104292], [101.643332, 3.104367], [101.643414, 3.104408], [101.644582, 3.105006], [101.646627, 3.105676], [101.646747, 3.105688], [101.646991, 3.105667], [101.6472301199999, 3.105645440000005], [101.647292, 3.10564], [101.648491, 3.104078], [101.648686, 3.103126], [101.648581, 3.102782], [101.6468016596158, 3.101249646005109]]], &quot;type&quot;: &quot;Polygon&quot;}, &quot;id&quot;: &quot;299&quot;, &quot;properties&quot;: {&quot;area&quot;: 2.0696409090687778e-05, &quot;center&quot;: &quot;[101.6454638, 3.1038598]&quot;, &quot;isochrone_id&quot;: 119300, &quot;reachfactor&quot;: 0.6994, &quot;station_id&quot;: &quot;119&quot;, &quot;total_pop&quot;: 1955.5, &quot;type&quot;: &quot;Polygon&quot;, &quot;value&quot;: 300}, &quot;type&quot;: &quot;Feature&quot;}, {&quot;bbox&quot;: [101.635184, 3.101981, 101.641225, 3.107457], &quot;geometry&quot;: {&quot;coordinates&quot;: [[[101.635223, 3.104498], [101.635749, 3.102402], [101.636089, 3.102284], [101.636405, 3.102245], [101.640046, 3.101981], [101.640354, 3.102167], [101.641207, 3.103588], [101.641225, 3.104502], [101.641171, 3.104857], [101.640701, 3.10616], [101.63978, 3.107239], [101.63966, 3.107326], [101.639325, 3.107457], [101.635184, 3.104856], [101.635223, 3.104498]]], &quot;type&quot;: &quot;Polygon&quot;}, &quot;id&quot;: &quot;302&quot;, &quot;properties&quot;: {&quot;area&quot;: 2.348719900001736e-05, &quot;center&quot;: &quot;[101.63819343060233, 3.1044106602584773]&quot;, &quot;isochrone_id&quot;: 120300, &quot;reachfactor&quot;: 0.8326, &quot;station_id&quot;: &quot;120&quot;, &quot;total_pop&quot;: 2177.0, &quot;type&quot;: &quot;Polygon&quot;, &quot;value&quot;: 300}, &quot;type&quot;: &quot;Feature&quot;}, {&quot;bbox&quot;: [101.609288, 3.108392, 101.616326, 3.113833], &quot;geometry&quot;: {&quot;coordinates&quot;: [[[101.609288, 3.111284], [101.609426, 3.110942], [101.610507, 3.109233], [101.611052, 3.10855], [101.611118, 3.10847], [101.611469, 3.108392], [101.61611, 3.110004], [101.616326, 3.110293], [101.61496, 3.112731], [101.614665, 3.112885], [101.614374, 3.112951], [101.610866, 3.113833], [101.610735, 3.113776], [101.610584, 3.113669], [101.609362, 3.111636], [101.609288, 3.111284]]], &quot;type&quot;: &quot;Polygon&quot;}, &quot;id&quot;: &quot;305&quot;, &quot;properties&quot;: {&quot;area&quot;: 2.4746923999992845e-05, &quot;center&quot;: &quot;[101.612643, 3.1108192]&quot;, &quot;isochrone_id&quot;: 122300, &quot;reachfactor&quot;: 0.8772, &quot;station_id&quot;: &quot;122&quot;, &quot;total_pop&quot;: 2589.0, &quot;type&quot;: &quot;Polygon&quot;, &quot;value&quot;: 300}, &quot;type&quot;: &quot;Feature&quot;}, {&quot;bbox&quot;: [101.601253, 3.110563, 101.607949, 3.116664], &quot;geometry&quot;: {&quot;coordinates&quot;: [[[101.607584671525, 3.112551575795669], [101.607641, 3.111872], [101.607568, 3.11152], [101.606296, 3.110672], [101.606084, 3.110565], [101.605953, 3.110563], [101.603031, 3.112129], [101.601253, 3.11352], [101.601294, 3.113877], [101.601994, 3.114508], [101.602177, 3.114668], [101.603229, 3.115521], [101.603307, 3.115586], [101.603692, 3.115907], [101.603993, 3.116149], [101.60507, 3.116664], [101.60543, 3.116646], [101.606553, 3.115564], [101.606969, 3.115109], [101.607028, 3.115045], [101.607703, 3.114278], [101.607949, 3.113874], [101.607925, 3.113677], [101.607902, 3.113481], [101.607584671525, 3.112551575795669]]], &quot;type&quot;: &quot;Polygon&quot;}, &quot;id&quot;: &quot;307&quot;, &quot;properties&quot;: {&quot;area&quot;: 2.488226560050158e-05, &quot;center&quot;: &quot;[101.60451320852754, 3.1127643477236737]&quot;, &quot;isochrone_id&quot;: 123300, &quot;reachfactor&quot;: 0.7157, &quot;station_id&quot;: &quot;123&quot;, &quot;total_pop&quot;: 2932.0, &quot;type&quot;: &quot;Polygon&quot;, &quot;value&quot;: 300}, &quot;type&quot;: &quot;Feature&quot;}, {&quot;bbox&quot;: [101.588289, 3.110989, 101.593853, 3.115538], &quot;geometry&quot;: {&quot;coordinates&quot;: [[[101.590254, 3.111488], [101.590904, 3.111284], [101.591554, 3.111081], [101.591692, 3.111068], [101.593101, 3.110994], [101.593476, 3.110991], [101.59385, 3.110989], [101.593853, 3.111349], [101.59381, 3.111926], [101.592544, 3.114466], [101.592423, 3.114575], [101.59132, 3.115538], [101.591203, 3.115537], [101.59096, 3.115535], [101.590843, 3.115532], [101.588467, 3.113998], [101.588289, 3.113685], [101.590254, 3.111488]]], &quot;type&quot;: &quot;Polygon&quot;}, &quot;id&quot;: &quot;309&quot;, &quot;properties&quot;: {&quot;area&quot;: 1.57879185000029e-05, &quot;center&quot;: &quot;[101.59106139005435, 3.112074770283827]&quot;, &quot;isochrone_id&quot;: 124300, &quot;reachfactor&quot;: 0.5596, &quot;station_id&quot;: &quot;124&quot;, &quot;total_pop&quot;: 1765.0, &quot;type&quot;: &quot;Polygon&quot;, &quot;value&quot;: 300}, &quot;type&quot;: &quot;Feature&quot;}, {&quot;bbox&quot;: [101.58383, 3.105177, 101.588536, 3.111654], &quot;geometry&quot;: {&quot;coordinates&quot;: [[[101.584264, 3.107901], [101.584358, 3.107747], [101.586545, 3.105177], [101.586879, 3.105313], [101.587927, 3.109027], [101.588529, 3.110847], [101.588536, 3.111207], [101.586717, 3.111654], [101.586082, 3.111379], [101.585187, 3.110785], [101.583966, 3.108997], [101.58383, 3.108664], [101.584264, 3.107901]]], &quot;type&quot;: &quot;Polygon&quot;}, &quot;id&quot;: &quot;312&quot;, &quot;properties&quot;: {&quot;area&quot;: 1.7513597999958213e-05, &quot;center&quot;: &quot;[101.58656076352584, 3.108485000003698]&quot;, &quot;isochrone_id&quot;: 125300, &quot;reachfactor&quot;: 0.6208, &quot;station_id&quot;: &quot;125&quot;, &quot;total_pop&quot;: 960.0, &quot;type&quot;: &quot;Polygon&quot;, &quot;value&quot;: 300}, &quot;type&quot;: &quot;Feature&quot;}, {&quot;bbox&quot;: [101.587928, 3.092332, 101.593272, 3.097268], &quot;geometry&quot;: {&quot;coordinates&quot;: [[[101.5912751404321, 3.094037109481886], [101.590305, 3.092634], [101.590158, 3.092451], [101.589819, 3.092332], [101.587933, 3.094028], [101.587928, 3.094388], [101.587986, 3.094716], [101.5898956894755, 3.096332963351498], [101.59002, 3.097115], [101.590354, 3.09725], [101.591, 3.097268], [101.593044, 3.095746], [101.593071, 3.095585], [101.593272, 3.094438], [101.59308, 3.094133], [101.5912751404321, 3.094037109481886]]], &quot;type&quot;: &quot;Polygon&quot;}, &quot;id&quot;: &quot;315&quot;, &quot;properties&quot;: {&quot;area&quot;: 1.456407055035649e-05, &quot;center&quot;: &quot;[101.5898985, 3.0957189]&quot;, &quot;isochrone_id&quot;: 126300, &quot;reachfactor&quot;: 0.3563, &quot;station_id&quot;: &quot;126&quot;, &quot;total_pop&quot;: 661.5, &quot;type&quot;: &quot;Polygon&quot;, &quot;value&quot;: 300}, &quot;type&quot;: &quot;Feature&quot;}, {&quot;bbox&quot;: [101.584854, 3.082527, 101.59017, 3.086412], &quot;geometry&quot;: {&quot;coordinates&quot;: [[[101.584869, 3.083626], [101.585005, 3.083382], [101.587239, 3.082607], [101.58759, 3.082527], [101.588694, 3.082756], [101.590164, 3.084117], [101.59017, 3.084225], [101.589215, 3.086228], [101.589183, 3.086283], [101.589087, 3.086373], [101.58899, 3.086412], [101.588854, 3.086409], [101.586805, 3.086354], [101.586287, 3.086234], [101.585972, 3.08587], [101.584923, 3.08394], [101.584854, 3.083806], [101.584869, 3.083626]]], &quot;type&quot;: &quot;Polygon&quot;}, &quot;id&quot;: &quot;316&quot;, &quot;properties&quot;: {&quot;area&quot;: 1.4829908500004953e-05, &quot;center&quot;: &quot;[101.58723904201264, 3.0848474272334965]&quot;, &quot;isochrone_id&quot;: 127300, &quot;reachfactor&quot;: 0.5258, &quot;station_id&quot;: &quot;127&quot;, &quot;total_pop&quot;: 863.0, &quot;type&quot;: &quot;Polygon&quot;, &quot;value&quot;: 300}, &quot;type&quot;: &quot;Feature&quot;}, {&quot;bbox&quot;: [101.582827, 3.072132, 101.589393, 3.079819], &quot;geometry&quot;: {&quot;coordinates&quot;: [[[101.5868849779736, 3.073260991305386], [101.586922, 3.073087], [101.586922, 3.072727], [101.586453, 3.072284], [101.586246, 3.072137], [101.585886, 3.072132], [101.584099, 3.07342], [101.583145, 3.07424], [101.582827, 3.074722], [101.584197, 3.077775], [101.584981, 3.079], [101.585126, 3.079111], [101.5852326945125, 3.079174709672956], [101.585231, 3.079195], [101.584967, 3.079633], [101.585275, 3.079819], [101.585545, 3.079756], [101.58793, 3.07881], [101.588615, 3.078415], [101.588965, 3.078074], [101.58918, 3.077611], [101.589321, 3.077203], [101.589393, 3.076285], [101.588814, 3.075134], [101.587963, 3.07417], [101.587227, 3.073396], [101.5868849779736, 3.073260991305386]]], &quot;type&quot;: &quot;Polygon&quot;}, &quot;id&quot;: &quot;318&quot;, &quot;properties&quot;: {&quot;area&quot;: 3.1192928511168806e-05, &quot;center&quot;: &quot;[101.5859436, 3.0756213]&quot;, &quot;isochrone_id&quot;: 128300, &quot;reachfactor&quot;: 0.63185, &quot;station_id&quot;: &quot;128&quot;, &quot;total_pop&quot;: 3279.0, &quot;type&quot;: &quot;Polygon&quot;, &quot;value&quot;: 300}, &quot;type&quot;: &quot;Feature&quot;}, {&quot;bbox&quot;: [101.728685, 3.203019, 101.735067, 3.208116], &quot;geometry&quot;: {&quot;coordinates&quot;: [[[101.728685, 3.207854], [101.730528, 3.204756], [101.730807, 3.204481], [101.731122, 3.204307], [101.733378, 3.203515], [101.734681, 3.203046], [101.734825, 3.203019], [101.735067, 3.203286], [101.734591, 3.207064], [101.734459, 3.207191], [101.728939, 3.208109], [101.728801, 3.208116], [101.728747, 3.208071], [101.728685, 3.207854]]], &quot;type&quot;: &quot;Polygon&quot;}, &quot;id&quot;: &quot;320&quot;, &quot;properties&quot;: {&quot;area&quot;: 1.9092299999981342e-05, &quot;center&quot;: &quot;[101.73179027405824, 3.205743676302279]&quot;, &quot;isochrone_id&quot;: 129300, &quot;reachfactor&quot;: 0.6767, &quot;station_id&quot;: &quot;129&quot;, &quot;total_pop&quot;: 4099.0, &quot;type&quot;: &quot;Polygon&quot;, &quot;value&quot;: 300}, &quot;type&quot;: &quot;Feature&quot;}, {&quot;bbox&quot;: [101.583717, 3.063324, 101.587771, 3.070737], &quot;geometry&quot;: {&quot;coordinates&quot;: [[[101.583718, 3.065901], [101.583717, 3.065541], [101.584234, 3.065021], [101.585155, 3.064094], [101.585388, 3.063861], [101.585722, 3.063537], [101.586087, 3.063324], [101.586098, 3.063324], [101.586323, 3.063496], [101.586341, 3.063527], [101.587771, 3.06862], [101.587771, 3.06898], [101.58636, 3.070567], [101.586247, 3.070683], [101.586058, 3.070737], [101.585698, 3.070737], [101.584505, 3.069557], [101.58418, 3.06922], [101.583718, 3.065901]]], &quot;type&quot;: &quot;Polygon&quot;}, &quot;id&quot;: &quot;323&quot;, &quot;properties&quot;: {&quot;area&quot;: 1.964163250002356e-05, &quot;center&quot;: &quot;[101.5859593, 3.0670669]&quot;, &quot;isochrone_id&quot;: 130300, &quot;reachfactor&quot;: 0.6962, &quot;station_id&quot;: &quot;130&quot;, &quot;total_pop&quot;: 1919.0, &quot;type&quot;: &quot;Polygon&quot;, &quot;value&quot;: 300}, &quot;type&quot;: &quot;Feature&quot;}, {&quot;bbox&quot;: [101.587129, 3.044692, 101.593055, 3.051845], &quot;geometry&quot;: {&quot;coordinates&quot;: [[[101.587129, 3.048301], [101.587509, 3.045484], [101.587917, 3.044754], [101.588131, 3.04471], [101.588408, 3.044692], [101.588491, 3.044708], [101.592809, 3.047145], [101.592981, 3.047529], [101.593043, 3.047887], [101.593055, 3.048072], [101.593053, 3.048242], [101.592086, 3.05184], [101.591726, 3.051845], [101.587492, 3.049827], [101.587255, 3.049556], [101.587129, 3.048301]]], &quot;type&quot;: &quot;Polygon&quot;}, &quot;id&quot;: &quot;326&quot;, &quot;properties&quot;: {&quot;area&quot;: 2.8451893499997425e-05, &quot;center&quot;: &quot;[101.5901643597106, 3.047857112475514]&quot;, &quot;isochrone_id&quot;: 132300, &quot;reachfactor&quot;: 1.0, &quot;station_id&quot;: &quot;132&quot;, &quot;total_pop&quot;: 2839.0, &quot;type&quot;: &quot;Polygon&quot;, &quot;value&quot;: 300}, &quot;type&quot;: &quot;Feature&quot;}, {&quot;bbox&quot;: [101.585246, 3.031341, 101.590971, 3.038863], &quot;geometry&quot;: {&quot;coordinates&quot;: [[[101.585246, 3.035802], [101.587211, 3.031613], [101.587446, 3.031341], [101.58796, 3.031357], [101.588289, 3.031402], [101.58943, 3.032082], [101.589536, 3.032168], [101.590954, 3.033297], [101.590971, 3.03339], [101.590962, 3.03375], [101.589662, 3.0372], [101.58912, 3.037978], [101.588392, 3.038842], [101.588032, 3.038863], [101.585309, 3.036157], [101.585246, 3.035802]]], &quot;type&quot;: &quot;Polygon&quot;}, &quot;id&quot;: &quot;328&quot;, &quot;properties&quot;: {&quot;area&quot;: 2.6474716000027352e-05, &quot;center&quot;: &quot;[101.58820039014311, 3.0349690159985667]&quot;, &quot;isochrone_id&quot;: 133300, &quot;reachfactor&quot;: 0.9385, &quot;station_id&quot;: &quot;133&quot;, &quot;total_pop&quot;: 4808.0, &quot;type&quot;: &quot;Polygon&quot;, &quot;value&quot;: 300}, &quot;type&quot;: &quot;Feature&quot;}, {&quot;bbox&quot;: [101.579694, 3.026083, 101.58482, 3.0311], &quot;geometry&quot;: {&quot;coordinates&quot;: [[[101.58269852449, 3.030178172366217], [101.582746, 3.030106], [101.582427, 3.026493], [101.581945, 3.026124], [101.581678, 3.026085], [101.581626, 3.026083], [101.58149, 3.026171], [101.580735, 3.026867], [101.5806873368576, 3.027070154377367], [101.580291, 3.026421], [101.579934, 3.026379], [101.579701, 3.027362], [101.579694, 3.027796], [101.580113, 3.028746], [101.581237, 3.029592], [101.58236, 3.030437], [101.582376, 3.030447], [101.582571, 3.030565], [101.582766, 3.030682], [101.582789, 3.030694], [101.582974, 3.030772], [101.583159, 3.030849], [101.583183, 3.030857], [101.583361, 3.030905], [101.583539, 3.030952], [101.583558, 3.030956], [101.583907, 3.031011], [101.583922, 3.031012], [101.584639, 3.0311], [101.584714, 3.031062], [101.58482, 3.030789], [101.584724, 3.030702], [101.58452, 3.030697], [101.58269852449, 3.030178172366217]]], &quot;type&quot;: &quot;Polygon&quot;}, &quot;id&quot;: &quot;331&quot;, &quot;properties&quot;: {&quot;area&quot;: 9.723375945427843e-06, &quot;center&quot;: &quot;[101.5820341, 3.0296234]&quot;, &quot;isochrone_id&quot;: 134300, &quot;reachfactor&quot;: 0.21425, &quot;station_id&quot;: &quot;134&quot;, &quot;total_pop&quot;: 287.0, &quot;type&quot;: &quot;Polygon&quot;, &quot;value&quot;: 300}, &quot;type&quot;: &quot;Feature&quot;}, {&quot;bbox&quot;: [101.571589, 3.022538, 101.573194, 3.025103], &quot;geometry&quot;: {&quot;coordinates&quot;: [[[101.571677, 3.024743], [101.571675, 3.024541], [101.571589, 3.022538], [101.57256, 3.022585], [101.573194, 3.023308], [101.573039, 3.023579], [101.573039, 3.023579], [101.572819, 3.023961], [101.5726, 3.024343], [101.572018, 3.02496], [101.571799, 3.025097], [101.571698, 3.025103], [101.571677, 3.024743]]], &quot;type&quot;: &quot;Polygon&quot;}, &quot;id&quot;: &quot;334&quot;, &quot;properties&quot;: {&quot;area&quot;: 2.6577114999925154e-06, &quot;center&quot;: &quot;[101.57188575242697, 3.0231543031071437]&quot;, &quot;isochrone_id&quot;: 135300, &quot;reachfactor&quot;: 0.0942, &quot;station_id&quot;: &quot;135&quot;, &quot;total_pop&quot;: 264.0, &quot;type&quot;: &quot;Polygon&quot;, &quot;value&quot;: 300}, &quot;type&quot;: &quot;Feature&quot;}, {&quot;bbox&quot;: [101.569264, 3.005362, 101.574261, 3.012596], &quot;geometry&quot;: {&quot;coordinates&quot;: [[[101.569264, 3.008762], [101.569301, 3.008496], [101.571991, 3.005362], [101.572351, 3.005363], [101.574241, 3.007926], [101.574261, 3.008285], [101.573946, 3.012479], [101.573605, 3.012596], [101.569815, 3.010473], [101.569697, 3.010375], [101.569264, 3.008762]]], &quot;type&quot;: &quot;Polygon&quot;}, &quot;id&quot;: &quot;337&quot;, &quot;properties&quot;: {&quot;area&quot;: 2.3025567000025013e-05, &quot;center&quot;: &quot;[101.57201349315338, 3.010070220751253]&quot;, &quot;isochrone_id&quot;: 136300, &quot;reachfactor&quot;: 0.8162, &quot;station_id&quot;: &quot;136&quot;, &quot;total_pop&quot;: 1775.0, &quot;type&quot;: &quot;Polygon&quot;, &quot;value&quot;: 300}, &quot;type&quot;: &quot;Feature&quot;}, {&quot;bbox&quot;: [101.572216, 2.993906, 101.57818, 2.998046], &quot;geometry&quot;: {&quot;coordinates&quot;: [[[101.57222, 2.996607], [101.572262, 2.996421], [101.57397, 2.994593], [101.575855, 2.993906], [101.578017, 2.995255], [101.57818, 2.995576], [101.578148, 2.995746], [101.577635, 2.997582], [101.577293, 2.997694], [101.573426, 2.998046], [101.573066, 2.998038], [101.572924, 2.997926], [101.572216, 2.996967], [101.57222, 2.996607]]], &quot;type&quot;: &quot;Polygon&quot;}, &quot;id&quot;: &quot;338&quot;, &quot;properties&quot;: {&quot;area&quot;: 1.7443189000006572e-05, &quot;center&quot;: &quot;[101.57548471706191, 2.996268776221298]&quot;, &quot;isochrone_id&quot;: 137300, &quot;reachfactor&quot;: 0.6185, &quot;station_id&quot;: &quot;137&quot;, &quot;total_pop&quot;: 157.0, &quot;type&quot;: &quot;Polygon&quot;, &quot;value&quot;: 300}, &quot;type&quot;: &quot;Feature&quot;}, {&quot;bbox&quot;: [101.736832, 3.196571, 101.740621, 3.199792], &quot;geometry&quot;: {&quot;coordinates&quot;: [[[101.736849, 3.198311], [101.737056, 3.197346], [101.737131, 3.197075], [101.737206, 3.196805], [101.737273, 3.196702], [101.737476, 3.196571], [101.737816, 3.196689], [101.74037, 3.198339], [101.740603, 3.198604], [101.740621, 3.198653], [101.740528, 3.199], [101.740418, 3.199043], [101.738063, 3.199788], [101.737339, 3.199792], [101.736832, 3.19901], [101.736849, 3.198311]]], &quot;type&quot;: &quot;Polygon&quot;}, &quot;id&quot;: &quot;341&quot;, &quot;properties&quot;: {&quot;area&quot;: 7.63816099998292e-06, &quot;center&quot;: &quot;[101.73747821973654, 3.1991779849900244]&quot;, &quot;isochrone_id&quot;: 138300, &quot;reachfactor&quot;: 0.2707, &quot;station_id&quot;: &quot;138&quot;, &quot;total_pop&quot;: 1501.0, &quot;type&quot;: &quot;Polygon&quot;, &quot;value&quot;: 300}, &quot;type&quot;: &quot;Feature&quot;}, {&quot;bbox&quot;: [101.733069, 3.171998, 101.738777, 3.179793], &quot;geometry&quot;: {&quot;coordinates&quot;: [[[101.7351452092816, 3.172199308839506], [101.735048, 3.172074], [101.734986, 3.172034], [101.734878, 3.171998], [101.734662, 3.172039], [101.733069, 3.174604], [101.733393, 3.177114], [101.733615, 3.177252], [101.733837, 3.177391], [101.73534244983, 3.178305752142475], [101.7355805867207, 3.178519674067556], [101.735701, 3.178814], [101.73598, 3.179043], [101.73748, 3.179793], [101.737812, 3.179654], [101.738692, 3.177775], [101.738777, 3.177591], [101.73874, 3.177233], [101.7378554706767, 3.175064668732981], [101.737775, 3.174612], [101.737517, 3.17436], [101.73655, 3.173419], [101.735972, 3.17289], [101.735151, 3.172197], [101.7351452092816, 3.172199308839506]]], &quot;type&quot;: &quot;Polygon&quot;}, &quot;id&quot;: &quot;344&quot;, &quot;properties&quot;: {&quot;area&quot;: 2.6923585155521924e-05, &quot;center&quot;: &quot;[101.735265, 3.1756716]&quot;, &quot;isochrone_id&quot;: 139300, &quot;reachfactor&quot;: 0.7363666666666666, &quot;station_id&quot;: &quot;139&quot;, &quot;total_pop&quot;: 3722.0, &quot;type&quot;: &quot;Polygon&quot;, &quot;value&quot;: 300}, &quot;type&quot;: &quot;Feature&quot;}, {&quot;bbox&quot;: [101.73282, 3.163664, 101.73846, 3.171281], &quot;geometry&quot;: {&quot;coordinates&quot;: [[[101.733178, 3.167518], [101.73282, 3.165696], [101.73293, 3.165353], [101.734898, 3.163664], [101.735258, 3.163672], [101.738171, 3.166151], [101.738421, 3.166424], [101.73846, 3.166782], [101.73803, 3.168308], [101.73743, 3.169114], [101.735241, 3.171281], [101.734881, 3.171266], [101.733494, 3.169254], [101.733178, 3.167518]]], &quot;type&quot;: &quot;Polygon&quot;}, &quot;id&quot;: &quot;346&quot;, &quot;properties&quot;: {&quot;area&quot;: 2.71601450000179e-05, &quot;center&quot;: &quot;[101.73548286327376, 3.167203402121835]&quot;, &quot;isochrone_id&quot;: 140300, &quot;reachfactor&quot;: 0.9627, &quot;station_id&quot;: &quot;140&quot;, &quot;total_pop&quot;: 2509.0, &quot;type&quot;: &quot;Polygon&quot;, &quot;value&quot;: 300}, &quot;type&quot;: &quot;Feature&quot;}, {&quot;bbox&quot;: [101.721033, 3.162841, 101.728036, 3.16762], &quot;geometry&quot;: {&quot;coordinates&quot;: [[[101.721033, 3.165899], [101.721821, 3.164024], [101.722109, 3.163809], [101.72392, 3.162861], [101.724282, 3.162858], [101.724944, 3.162849], [101.725155, 3.162845], [101.725365, 3.162841], [101.727129, 3.163939], [101.728031, 3.165176], [101.728036, 3.165186], [101.728034, 3.165215], [101.727987, 3.165533], [101.72768, 3.165766], [101.726832, 3.166412], [101.726736, 3.166482], [101.726167, 3.166864], [101.725532, 3.167244], [101.724848, 3.16762], [101.724498, 3.167534], [101.722609, 3.166772], [101.721125, 3.166247], [101.721061, 3.166079], [101.721033, 3.165899]]], &quot;type&quot;: &quot;Polygon&quot;}, &quot;id&quot;: &quot;349&quot;, &quot;properties&quot;: {&quot;area&quot;: 2.2209731499987838e-05, &quot;center&quot;: &quot;[101.72458562735314, 3.164562466142046]&quot;, &quot;isochrone_id&quot;: 142300, &quot;reachfactor&quot;: 0.7872, &quot;station_id&quot;: &quot;142&quot;, &quot;total_pop&quot;: 2348.0, &quot;type&quot;: &quot;Polygon&quot;, &quot;value&quot;: 300}, &quot;type&quot;: &quot;Feature&quot;}, {&quot;bbox&quot;: [101.714751, 3.156616, 101.7226, 3.16323], &quot;geometry&quot;: {&quot;coordinates&quot;: [[[101.7190892468107, 3.162543785646102], [101.719413, 3.16245], [101.721808, 3.161597], [101.722597, 3.160454], [101.7226, 3.160094], [101.722576, 3.160037], [101.721553, 3.158117], [101.720984, 3.157248], [101.720641, 3.157136], [101.718435, 3.156616], [101.718075, 3.156617], [101.717354, 3.157503], [101.7162608165818, 3.158895322852426], [101.714983, 3.159501], [101.714751, 3.159777], [101.71493, 3.160549], [101.715788, 3.161877], [101.716574, 3.162511], [101.717631, 3.163195], [101.717706, 3.16323], [101.717772, 3.163208], [101.718775, 3.162716], [101.7190892468107, 3.162543785646102]]], &quot;type&quot;: &quot;Polygon&quot;}, &quot;id&quot;: &quot;351&quot;, &quot;properties&quot;: {&quot;area&quot;: 3.305615394020524e-05, &quot;center&quot;: &quot;[101.719112, 3.1598932]&quot;, &quot;isochrone_id&quot;: 143300, &quot;reachfactor&quot;: 0.937, &quot;station_id&quot;: &quot;143&quot;, &quot;total_pop&quot;: 4640.0, &quot;type&quot;: &quot;Polygon&quot;, &quot;value&quot;: 300}, &quot;type&quot;: &quot;Feature&quot;}, {&quot;bbox&quot;: [101.684957, 3.130002, 101.690441, 3.135678], &quot;geometry&quot;: {&quot;coordinates&quot;: [[[101.685057, 3.132133], [101.684957, 3.130577], [101.685033, 3.130382], [101.68504, 3.130375], [101.685193, 3.130305], [101.687434, 3.130002], [101.689665, 3.130359], [101.689692, 3.130416], [101.690369, 3.132267], [101.690382, 3.132327], [101.690416, 3.132651], [101.690441, 3.133663], [101.690121, 3.13542], [101.689828, 3.135629], [101.689638, 3.135678], [101.6863, 3.135545], [101.686111, 3.135437], [101.685297, 3.134707], [101.685057, 3.132133]]], &quot;type&quot;: &quot;Polygon&quot;}, &quot;id&quot;: &quot;354&quot;, &quot;properties&quot;: {&quot;area&quot;: 2.705014700000627e-05, &quot;center&quot;: &quot;[101.6878981, 3.132682]&quot;, &quot;isochrone_id&quot;: 144300, &quot;reachfactor&quot;: 0.9588, &quot;station_id&quot;: &quot;144&quot;, &quot;total_pop&quot;: 2483.0, &quot;type&quot;: &quot;Polygon&quot;, &quot;value&quot;: 300}, &quot;type&quot;: &quot;Feature&quot;}, {&quot;bbox&quot;: [101.701356, 2.75306, 101.707784, 2.757712], &quot;geometry&quot;: {&quot;coordinates&quot;: [[[101.70156, 2.75306], [101.701591, 2.753081], [101.702822, 2.753916], [101.706385, 2.756164], [101.706558, 2.756281], [101.706749, 2.756412], [101.706933, 2.756572], [101.70713, 2.756745], [101.707336, 2.756965], [101.707553, 2.757197], [101.707669, 2.757343], [101.707784, 2.757489], [101.707502, 2.757712], [101.705234, 2.755989], [101.703927, 2.755101], [101.70262, 2.754214], [101.701387, 2.753378], [101.701356, 2.753356], [101.70156, 2.75306]]], &quot;type&quot;: &quot;Polygon&quot;}, &quot;id&quot;: &quot;357&quot;, &quot;properties&quot;: {&quot;area&quot;: 3.3462029999948353e-06, &quot;center&quot;: &quot;[101.70456062418378, 2.7553140684980124]&quot;, &quot;isochrone_id&quot;: 145300, &quot;reachfactor&quot;: 0.1187, &quot;station_id&quot;: &quot;145&quot;, &quot;total_pop&quot;: 145.0, &quot;type&quot;: &quot;Polygon&quot;, &quot;value&quot;: 300}, &quot;type&quot;: &quot;Feature&quot;}, {&quot;bbox&quot;: [101.681917, 2.743164, 101.688286, 2.747184], &quot;geometry&quot;: {&quot;coordinates&quot;: [[[101.68212, 2.743336], [101.682921, 2.743164], [101.683633, 2.74355], [101.68418, 2.743917], [101.688022, 2.746557], [101.688286, 2.746733], [101.688086, 2.747032], [101.687059, 2.747184], [101.686757, 2.747045], [101.686413, 2.74682], [101.682284, 2.744473], [101.681917, 2.743633], [101.68212, 2.743336]]], &quot;type&quot;: &quot;Polygon&quot;}, &quot;id&quot;: &quot;360&quot;, &quot;properties&quot;: {&quot;area&quot;: 8.393778500007691e-06, &quot;center&quot;: &quot;[101.68499466614408, 2.744694698112463]&quot;, &quot;isochrone_id&quot;: 146300, &quot;reachfactor&quot;: 0.2977, &quot;station_id&quot;: &quot;146&quot;, &quot;total_pop&quot;: 135.0, &quot;type&quot;: &quot;Polygon&quot;, &quot;value&quot;: 300}, &quot;type&quot;: &quot;Feature&quot;}, {&quot;bbox&quot;: [101.684957, 3.130002, 101.690441, 3.135678], &quot;geometry&quot;: {&quot;coordinates&quot;: [[[101.685057, 3.132133], [101.684957, 3.130577], [101.685033, 3.130382], [101.68504, 3.130375], [101.685193, 3.130305], [101.687434, 3.130002], [101.689665, 3.130359], [101.689692, 3.130416], [101.690369, 3.132267], [101.690382, 3.132327], [101.690416, 3.132651], [101.690441, 3.133663], [101.690121, 3.13542], [101.689828, 3.135629], [101.689638, 3.135678], [101.6863, 3.135545], [101.686111, 3.135437], [101.685297, 3.134707], [101.685057, 3.132133]]], &quot;type&quot;: &quot;Polygon&quot;}, &quot;id&quot;: &quot;362&quot;, &quot;properties&quot;: {&quot;area&quot;: 2.705014700000627e-05, &quot;center&quot;: &quot;[101.6878981, 3.132682]&quot;, &quot;isochrone_id&quot;: 147300, &quot;reachfactor&quot;: 0.9588, &quot;station_id&quot;: &quot;147&quot;, &quot;total_pop&quot;: 2483.0, &quot;type&quot;: &quot;Polygon&quot;, &quot;value&quot;: 300}, &quot;type&quot;: &quot;Feature&quot;}, {&quot;bbox&quot;: [101.709002, 3.073321, 101.714581, 3.077833], &quot;geometry&quot;: {&quot;coordinates&quot;: [[[101.7097, 3.07356], [101.709969, 3.073321], [101.71356, 3.075547], [101.714317, 3.076456], [101.714566, 3.076874], [101.714581, 3.076905], [101.714514, 3.07723], [101.714336, 3.077833], [101.712399, 3.077806], [101.710836, 3.077395], [101.709623, 3.076055], [101.70942, 3.075834], [101.709176, 3.075538], [101.709002, 3.07506], [101.7097, 3.07356]]], &quot;type&quot;: &quot;Polygon&quot;}, &quot;id&quot;: &quot;365&quot;, &quot;properties&quot;: {&quot;area&quot;: 1.4351219500006525e-05, &quot;center&quot;: &quot;[101.71134654275657, 3.0760317933119916]&quot;, &quot;isochrone_id&quot;: 148300, &quot;reachfactor&quot;: 0.5088, &quot;station_id&quot;: &quot;148&quot;, &quot;total_pop&quot;: 888.0, &quot;type&quot;: &quot;Polygon&quot;, &quot;value&quot;: 300}, &quot;type&quot;: &quot;Feature&quot;}, {&quot;bbox&quot;: [101.670212, 2.931216, 101.672998, 2.933943], &quot;geometry&quot;: {&quot;coordinates&quot;: [[[101.670592, 2.931421], [101.671268, 2.931291], [101.671511, 2.93124], [101.671625, 2.931216], [101.672891, 2.933079], [101.672973, 2.933298], [101.672998, 2.933395], [101.672995, 2.933445], [101.672933, 2.933503], [101.672513, 2.933811], [101.672398, 2.933888], [101.672069, 2.933943], [101.671967, 2.933933], [101.671925, 2.933886], [101.670212, 2.931816], [101.670592, 2.931421]]], &quot;type&quot;: &quot;Polygon&quot;}, &quot;id&quot;: &quot;368&quot;, &quot;properties&quot;: {&quot;area&quot;: 3.89906900000334e-06, &quot;center&quot;: &quot;[101.67082837225065, 2.9313750389614417]&quot;, &quot;isochrone_id&quot;: 149300, &quot;reachfactor&quot;: 0.1383, &quot;station_id&quot;: &quot;149&quot;, &quot;total_pop&quot;: 64.0, &quot;type&quot;: &quot;Polygon&quot;, &quot;value&quot;: 300}, &quot;type&quot;: &quot;Feature&quot;}, {&quot;bbox&quot;: [101.710272, 2.821837, 101.713788, 2.829403], &quot;geometry&quot;: {&quot;coordinates&quot;: [[[101.710279, 2.824706], [101.710272, 2.824346], [101.713429, 2.821837], [101.713788, 2.821863], [101.713768, 2.82213], [101.713741, 2.822423], [101.713715, 2.822713], [101.712984, 2.827063], [101.712667, 2.829403], [101.712309, 2.829369], [101.710388, 2.826643], [101.710279, 2.824706]]], &quot;type&quot;: &quot;Polygon&quot;}, &quot;id&quot;: &quot;371&quot;, &quot;properties&quot;: {&quot;area&quot;: 1.5317053499994022e-05, &quot;center&quot;: &quot;[101.7129701, 2.8256427]&quot;, &quot;isochrone_id&quot;: 150300, &quot;reachfactor&quot;: 0.5432, &quot;station_id&quot;: &quot;150&quot;, &quot;total_pop&quot;: 93.0, &quot;type&quot;: &quot;Polygon&quot;, &quot;value&quot;: 300}, &quot;type&quot;: &quot;Feature&quot;}, {&quot;bbox&quot;: [101.681917, 2.743164, 101.688286, 2.747184], &quot;geometry&quot;: {&quot;coordinates&quot;: [[[101.68212, 2.743336], [101.682921, 2.743164], [101.683633, 2.74355], [101.68418, 2.743917], [101.688022, 2.746557], [101.688286, 2.746733], [101.688086, 2.747032], [101.687059, 2.747184], [101.686757, 2.747045], [101.686413, 2.74682], [101.682284, 2.744473], [101.681917, 2.743633], [101.68212, 2.743336]]], &quot;type&quot;: &quot;Polygon&quot;}, &quot;id&quot;: &quot;373&quot;, &quot;properties&quot;: {&quot;area&quot;: 8.393778500007691e-06, &quot;center&quot;: &quot;[101.68499466614408, 2.744694698112463]&quot;, &quot;isochrone_id&quot;: 152300, &quot;reachfactor&quot;: 0.2977, &quot;station_id&quot;: &quot;152&quot;, &quot;total_pop&quot;: 135.0, &quot;type&quot;: &quot;Polygon&quot;, &quot;value&quot;: 300}, &quot;type&quot;: &quot;Feature&quot;}, {&quot;bbox&quot;: [101.684822, 3.129871, 101.690603, 3.135859], &quot;geometry&quot;: {&quot;coordinates&quot;: [[[101.684966, 3.132435], [101.685122, 3.134613], [101.686046, 3.135504], [101.686362, 3.135676], [101.6877520912835, 3.135662325569913], [101.68976, 3.135859], [101.689936, 3.135779], [101.690228, 3.135569], [101.690603, 3.13381], [101.690577, 3.1328], [101.690539, 3.132093], [101.690509, 3.131875], [101.689901, 3.13035], [101.689497, 3.130071], [101.687282, 3.129871], [101.685058, 3.130188], [101.684822, 3.13046], [101.684966, 3.132435]]], &quot;type&quot;: &quot;Polygon&quot;}, &quot;id&quot;: &quot;376&quot;, &quot;properties&quot;: {&quot;area&quot;: 3.00080352908381e-05, &quot;center&quot;: &quot;[101.6878032, 3.1328157]&quot;, &quot;isochrone_id&quot;: 153300, &quot;reachfactor&quot;: 0.9995499999999999, &quot;station_id&quot;: &quot;153&quot;, &quot;total_pop&quot;: 2816.0, &quot;type&quot;: &quot;Polygon&quot;, &quot;value&quot;: 300}, &quot;type&quot;: &quot;Feature&quot;}, {&quot;bbox&quot;: [101.695004, 3.163116, 101.702574, 3.170953], &quot;geometry&quot;: {&quot;coordinates&quot;: [[[101.7011110927404, 3.166565245821285], [101.700962, 3.166189], [101.69864, 3.163577], [101.698369, 3.163366], [101.698003, 3.163116], [101.697946, 3.163127], [101.697792, 3.163267], [101.697497, 3.163647], [101.697147, 3.164089], [101.69712, 3.164123], [101.696657, 3.164707], [101.696466, 3.164947], [101.695792, 3.165816], [101.695238, 3.166616], [101.695187, 3.166691], [101.695004, 3.167755], [101.695504, 3.169263], [101.69572, 3.16955], [101.695798, 3.16963], [101.6976468024903, 3.170236190166639], [101.698265, 3.170786], [101.698486, 3.170907], [101.698577, 3.170953], [101.698925, 3.170861], [101.700734, 3.17008], [101.701678, 3.169211], [101.702558, 3.168228], [101.702574, 3.168208], [101.702564, 3.167848], [101.702308, 3.167591], [101.7011110927404, 3.166565245821285]]], &quot;type&quot;: &quot;Polygon&quot;}, &quot;id&quot;: &quot;379&quot;, &quot;properties&quot;: {&quot;area&quot;: 3.513786980443046e-05, &quot;center&quot;: &quot;[101.69893021487609, 3.167557226265481]&quot;, &quot;isochrone_id&quot;: 154300, &quot;reachfactor&quot;: 0.9459, &quot;station_id&quot;: &quot;154&quot;, &quot;total_pop&quot;: 6740.5, &quot;type&quot;: &quot;Polygon&quot;, &quot;value&quot;: 300}, &quot;type&quot;: &quot;Feature&quot;}, {&quot;bbox&quot;: [101.688108, 3.12849, 101.694225, 3.134421], &quot;geometry&quot;: {&quot;coordinates&quot;: [[[101.688178, 3.133571], [101.688156, 3.132493], [101.688108, 3.130998], [101.68811, 3.130883], [101.68846, 3.130136], [101.689215, 3.128746], [101.689469, 3.12849], [101.691146, 3.128878], [101.69194, 3.129272], [101.693214, 3.130749], [101.694225, 3.132805], [101.694017, 3.133425], [101.693433, 3.134246], [101.693408, 3.134273], [101.69328, 3.13428], [101.693177, 3.134285], [101.688777, 3.134421], [101.688658, 3.134294], [101.688452, 3.134041], [101.688185, 3.133638], [101.688178, 3.133571]]], &quot;type&quot;: &quot;Polygon&quot;}, &quot;id&quot;: &quot;382&quot;, &quot;properties&quot;: {&quot;area&quot;: 2.7438267499993026e-05, &quot;center&quot;: &quot;[101.6909066, 3.1315206]&quot;, &quot;isochrone_id&quot;: 156300, &quot;reachfactor&quot;: 0.9726, &quot;station_id&quot;: &quot;156&quot;, &quot;total_pop&quot;: 2501.0, &quot;type&quot;: &quot;Polygon&quot;, &quot;value&quot;: 300}, &quot;type&quot;: &quot;Feature&quot;}, {&quot;bbox&quot;: [101.695934, 3.135702, 101.702652, 3.142255], &quot;geometry&quot;: {&quot;coordinates&quot;: [[[101.7013919827592, 3.14048495226413], [101.701408, 3.140476], [101.702652, 3.137046], [101.702549, 3.136701], [101.701775, 3.136163], [101.698398, 3.135738], [101.69804, 3.135702], [101.696674, 3.13626], [101.696363, 3.136441], [101.696084, 3.138927], [101.6962174501466, 3.139523545567785], [101.695934, 3.14028], [101.696137, 3.140578], [101.696915, 3.141533], [101.697725, 3.142213], [101.698083, 3.142255], [101.698522, 3.142193], [101.699526, 3.14178], [101.7013919827592, 3.14048495226413]]], &quot;type&quot;: &quot;Polygon&quot;}, &quot;id&quot;: &quot;385&quot;, &quot;properties&quot;: {&quot;area&quot;: 3.2262141397766716e-05, &quot;center&quot;: &quot;[101.6991821, 3.1385646]&quot;, &quot;isochrone_id&quot;: 157300, &quot;reachfactor&quot;: 0.9408000000000001, &quot;station_id&quot;: &quot;157&quot;, &quot;total_pop&quot;: 1614.0, &quot;type&quot;: &quot;Polygon&quot;, &quot;value&quot;: 300}, &quot;type&quot;: &quot;Feature&quot;}, {&quot;bbox&quot;: [101.702683, 3.137153, 101.709865, 3.144124], &quot;geometry&quot;: {&quot;coordinates&quot;: [[[101.7043204788732, 3.137173352112676], [101.704242, 3.137172], [101.704142, 3.137209], [101.703845, 3.137412], [101.703785, 3.137541], [101.7037610734821, 3.137728001958786], [101.703096, 3.140039], [101.702725, 3.141577], [101.702683, 3.141787], [101.702865, 3.142098], [101.702895, 3.142127], [101.7039782005086, 3.14287700124699], [101.704177, 3.143211], [101.705093, 3.143864], [101.705727, 3.144062], [101.706154, 3.144124], [101.708637, 3.1428], [101.7086754081921, 3.142708262447559], [101.7088096570765, 3.142734955208187], [101.709144, 3.142849], [101.709212, 3.14287], [101.709365, 3.142664], [101.709375, 3.14263], [101.709865, 3.140313], [101.709815, 3.13983], [101.709644, 3.139077], [101.708967, 3.138849], [101.7087297900573, 3.138761788193622], [101.708424, 3.138179], [101.708201, 3.137896], [101.706074, 3.137296], [101.705635, 3.137196], [101.7044137260233, 3.137174958668026], [101.704354, 3.137153], [101.7043204788732, 3.137173352112676]]], &quot;type&quot;: &quot;Polygon&quot;}, &quot;id&quot;: &quot;388&quot;, &quot;properties&quot;: {&quot;area&quot;: 3.648544026389148e-05, &quot;center&quot;: &quot;[101.7062195542146, 3.140976299841089]&quot;, &quot;isochrone_id&quot;: 158300, &quot;reachfactor&quot;: 0.850075, &quot;station_id&quot;: &quot;158&quot;, &quot;total_pop&quot;: 3208.0, &quot;type&quot;: &quot;Polygon&quot;, &quot;value&quot;: 300}, &quot;type&quot;: &quot;Feature&quot;}, {&quot;bbox&quot;: [101.706413, 3.139978, 101.713256, 3.146022], &quot;geometry&quot;: {&quot;coordinates&quot;: [[[101.7127417486214, 3.144303580709334], [101.71282, 3.14428], [101.713012, 3.144177], [101.713242, 3.1439], [101.713256, 3.142586], [101.712608, 3.141238], [101.71256, 3.141206], [101.710314, 3.140331], [101.709442, 3.139978], [101.707117, 3.140603], [101.706778, 3.140973], [101.706564, 3.141262], [101.7065673128415, 3.141269316636353], [101.706453, 3.141364], [101.706413, 3.1414], [101.706844, 3.143728], [101.707666, 3.145905], [101.707812, 3.146022], [101.710388, 3.145898], [101.710519, 3.145855], [101.711814, 3.145314], [101.7127417486214, 3.144303580709334]]], &quot;type&quot;: &quot;Polygon&quot;}, &quot;id&quot;: &quot;390&quot;, &quot;properties&quot;: {&quot;area&quot;: 3.133124860583124e-05, &quot;center&quot;: &quot;[101.7097169, 3.1430868]&quot;, &quot;isochrone_id&quot;: 159300, &quot;reachfactor&quot;: 0.8312200000000001, &quot;station_id&quot;: &quot;159&quot;, &quot;total_pop&quot;: 3614.8, &quot;type&quot;: &quot;Polygon&quot;, &quot;value&quot;: 300}, &quot;type&quot;: &quot;Feature&quot;}, {&quot;bbox&quot;: [101.70845, 3.142645, 101.714365, 3.149975], &quot;geometry&quot;: {&quot;coordinates&quot;: [[[101.7142138494897, 3.147017355982778], [101.714291, 3.146453], [101.713922, 3.144464], [101.713199, 3.143003], [101.712954, 3.142738], [101.71286, 3.142679], [101.7127353168539, 3.142697316853933], [101.712683, 3.142645], [101.710722, 3.143058], [101.710628, 3.143099], [101.71055, 3.143153], [101.708673, 3.144463], [101.70845, 3.144746], [101.708451, 3.144763], [101.708644, 3.147685], [101.709146, 3.148536], [101.710645, 3.14978], [101.710948, 3.149975], [101.711178, 3.1499], [101.711321, 3.149831], [101.711394944654, 3.149790211174716], [101.712828, 3.149116], [101.714133, 3.148332], [101.71419, 3.148291], [101.714332, 3.14812], [101.714343, 3.148086], [101.714365, 3.147938], [101.7142138494897, 3.147017355982778]]], &quot;type&quot;: &quot;Polygon&quot;}, &quot;id&quot;: &quot;391&quot;, &quot;properties&quot;: {&quot;area&quot;: 3.219964875363938e-05, &quot;center&quot;: &quot;[101.71137703833534, 3.1461480766433274]&quot;, &quot;isochrone_id&quot;: 160300, &quot;reachfactor&quot;: 0.91814, &quot;station_id&quot;: &quot;160&quot;, &quot;total_pop&quot;: 4121.8, &quot;type&quot;: &quot;Polygon&quot;, &quot;value&quot;: 300}, &quot;type&quot;: &quot;Feature&quot;}, {&quot;bbox&quot;: [101.706597, 3.147213, 101.713824, 3.153783], &quot;geometry&quot;: {&quot;coordinates&quot;: [[[101.708616, 3.148003], [101.708479, 3.148097], [101.707831, 3.148683], [101.707591, 3.148952], [101.706947, 3.150869], [101.706705, 3.151615], [101.706597, 3.151959], [101.7075199072633, 3.152696224728203], [101.707679, 3.153291], [101.707786, 3.153635], [101.707844, 3.153726], [101.707957, 3.15372], [101.708033, 3.153708], [101.7081981366021, 3.153638805002506], [101.708261, 3.153713], [101.708333, 3.153762], [101.708402, 3.153783], [101.712069, 3.152216], [101.71239, 3.152052], [101.712715, 3.151815], [101.713171, 3.151424], [101.713202, 3.151353], [101.713816, 3.149996], [101.713824, 3.149966], [101.71381, 3.149636], [101.711359, 3.147396], [101.711222875675, 3.147354054713817], [101.711214, 3.147346], [101.7111034573803, 3.147287894264021], [101.711047, 3.147236], [101.710998, 3.147226], [101.7109904105922, 3.147228472234384], [101.71098, 3.147223], [101.710935, 3.147213], [101.708743, 3.147936], [101.708616, 3.148003]]], &quot;type&quot;: &quot;Polygon&quot;}, &quot;id&quot;: &quot;393&quot;, &quot;properties&quot;: {&quot;area&quot;: 3.0302357045174258e-05, &quot;center&quot;: &quot;[101.71034003016264, 3.150933952796049]&quot;, &quot;isochrone_id&quot;: 161300, &quot;reachfactor&quot;: 0.9477333333333333, &quot;station_id&quot;: &quot;161&quot;, &quot;total_pop&quot;: 7646.33333333333, &quot;type&quot;: &quot;Polygon&quot;, &quot;value&quot;: 300}, &quot;type&quot;: &quot;Feature&quot;}, {&quot;bbox&quot;: [101.701376, 3.15368, 101.708177, 3.159703], &quot;geometry&quot;: {&quot;coordinates&quot;: [[[101.7079476582313, 3.155772334289948], [101.70808, 3.154086], [101.708071, 3.153989], [101.708038, 3.153929], [101.707965, 3.153855], [101.707777, 3.153717], [101.707497, 3.15368], [101.7069332298834, 3.153837116262012], [101.706891, 3.153817], [101.701737, 3.154526], [101.701412, 3.154681], [101.701376, 3.155434], [101.701629, 3.15702], [101.701914, 3.158323], [101.701924, 3.158357], [101.702041, 3.158698], [101.702049, 3.158705], [101.7023660728771, 3.158782171176434], [101.702418, 3.158829], [101.702443, 3.158841], [101.705324, 3.159703], [101.705689, 3.159549], [101.705875, 3.159458], [101.708126, 3.158295], [101.708138, 3.158271], [101.708177, 3.158012], [101.7079476582313, 3.155772334289948]]], &quot;type&quot;: &quot;Polygon&quot;}, &quot;id&quot;: &quot;396&quot;, &quot;properties&quot;: {&quot;area&quot;: 3.216923148424121e-05, &quot;center&quot;: &quot;[101.70459968980508, 3.156293667869393]&quot;, &quot;isochrone_id&quot;: 162300, &quot;reachfactor&quot;: 0.9660666666666667, &quot;station_id&quot;: &quot;162&quot;, &quot;total_pop&quot;: 5035.66666666667, &quot;type&quot;: &quot;Polygon&quot;, &quot;value&quot;: 300}, &quot;type&quot;: &quot;Feature&quot;}, {&quot;bbox&quot;: [101.695179, 3.156082, 101.702754, 3.162203], &quot;geometry&quot;: {&quot;coordinates&quot;: [[[101.6980357150976, 3.156328943804487], [101.697895, 3.15635], [101.697653, 3.156408], [101.6975208382078, 3.156462723242067], [101.6967, 3.156676], [101.695538, 3.158318], [101.6955287637366, 3.158608741507367], [101.69522, 3.160641], [101.695179, 3.16092], [101.695303, 3.161273], [101.695419, 3.161343], [101.696297, 3.161742], [101.697509, 3.16205], [101.698177, 3.16214], [101.698531, 3.162181], [101.69889, 3.162203], [101.6994797707289, 3.161995880516895], [101.700202, 3.16216], [101.700324, 3.162117], [101.700944, 3.161491], [101.702316, 3.160057], [101.702658, 3.159249], [101.702734, 3.158699], [101.7027031129597, 3.158623924201192], [101.702754, 3.158449], [101.702609, 3.158119], [101.699686, 3.156082], [101.6987545298638, 3.156221382465945], [101.698621, 3.156188], [101.698328, 3.156253], [101.6980357150976, 3.156328943804487]]], &quot;type&quot;: &quot;Polygon&quot;}, &quot;id&quot;: &quot;398&quot;, &quot;properties&quot;: {&quot;area&quot;: 3.4533529865424055e-05, &quot;center&quot;: &quot;[101.6991072, 3.1590919]&quot;, &quot;isochrone_id&quot;: 163300, &quot;reachfactor&quot;: 0.8005800000000001, &quot;station_id&quot;: &quot;163&quot;, &quot;total_pop&quot;: 2830.2, &quot;type&quot;: &quot;Polygon&quot;, &quot;value&quot;: 300}, &quot;type&quot;: &quot;Feature&quot;}, {&quot;bbox&quot;: [101.570729, 3.173815, 101.575788, 3.179803], &quot;geometry&quot;: {&quot;coordinates&quot;: [[[101.570729, 3.179561], [101.57144, 3.175511], [101.572167, 3.174307], [101.572649, 3.174002], [101.572957, 3.173815], [101.57387, 3.174685], [101.574034, 3.175006], [101.575788, 3.178543], [101.5755, 3.178759], [101.571111, 3.179803], [101.570768, 3.179695], [101.570729, 3.179561]]], &quot;type&quot;: &quot;Polygon&quot;}, &quot;id&quot;: &quot;399&quot;, &quot;properties&quot;: {&quot;area&quot;: 1.8254585000021916e-05, &quot;center&quot;: &quot;[101.5723031, 3.1766755]&quot;, &quot;isochrone_id&quot;: 164300, &quot;reachfactor&quot;: 0.6471, &quot;station_id&quot;: &quot;164&quot;, &quot;total_pop&quot;: 165.0, &quot;type&quot;: &quot;Polygon&quot;, &quot;value&quot;: 300}, &quot;type&quot;: &quot;Feature&quot;}, {&quot;bbox&quot;: [101.562701, 3.167885, 101.566335, 3.171501], &quot;geometry&quot;: {&quot;coordinates&quot;: [[[101.564871, 3.170543], [101.566335, 3.16832], [101.566182, 3.167994], [101.566021, 3.167885], [101.562701, 3.169044], [101.562733, 3.169624], [101.563347, 3.171501], [101.563695, 3.171411], [101.564124171414, 3.171156636110252], [101.564267, 3.171276], [101.564578, 3.171097], [101.564871, 3.170543]]], &quot;type&quot;: &quot;Polygon&quot;}, &quot;id&quot;: &quot;402&quot;, &quot;properties&quot;: {&quot;area&quot;: 7.044010997968663e-06, &quot;center&quot;: &quot;[101.56472529423473, 3.1701364907325735]&quot;, &quot;isochrone_id&quot;: 165300, &quot;reachfactor&quot;: 0.18775, &quot;station_id&quot;: &quot;165&quot;, &quot;total_pop&quot;: 15.5, &quot;type&quot;: &quot;Polygon&quot;, &quot;value&quot;: 300}, &quot;type&quot;: &quot;Feature&quot;}, {&quot;bbox&quot;: [101.575106, 3.147298, 101.583049, 3.15331], &quot;geometry&quot;: {&quot;coordinates&quot;: [[[101.580410223639, 3.148707688399152], [101.578703, 3.147415], [101.578362, 3.147298], [101.576204, 3.148232], [101.575583, 3.149905], [101.575106, 3.151378], [101.575368, 3.151625], [101.576309759884, 3.15186938456746], [101.57751, 3.152766], [101.578033, 3.153004], [101.578821, 3.15331], [101.578956, 3.153264], [101.579548, 3.153065], [101.583049, 3.150323], [101.583036, 3.149963], [101.580410223639, 3.148707688399152]]], &quot;type&quot;: &quot;Polygon&quot;}, &quot;id&quot;: &quot;405&quot;, &quot;properties&quot;: {&quot;area&quot;: 2.8115136857238332e-05, &quot;center&quot;: &quot;[101.5786349, 3.1499793]&quot;, &quot;isochrone_id&quot;: 166300, &quot;reachfactor&quot;: 0.81395, &quot;station_id&quot;: &quot;166&quot;, &quot;total_pop&quot;: 2439.5, &quot;type&quot;: &quot;Polygon&quot;, &quot;value&quot;: 300}, &quot;type&quot;: &quot;Feature&quot;}, {&quot;bbox&quot;: [101.589977, 3.147905, 101.597251, 3.153035], &quot;geometry&quot;: {&quot;coordinates&quot;: [[[101.5939511141739, 3.148747599227098], [101.593119, 3.148545], [101.590954, 3.14799], [101.590605, 3.147905], [101.590306, 3.148205], [101.589977, 3.149466], [101.589999, 3.149825], [101.5900408737859, 3.149861386053224], [101.590052, 3.150097], [101.590867, 3.151391], [101.592264, 3.152449], [101.594107, 3.153035], [101.594466, 3.153021], [101.594793, 3.152691], [101.595821, 3.151688], [101.596649, 3.150846], [101.597251, 3.149709], [101.597234, 3.14935], [101.596896, 3.148981], [101.596694, 3.148891], [101.5939511141739, 3.148747599227098]]], &quot;type&quot;: &quot;Polygon&quot;}, &quot;id&quot;: &quot;407&quot;, &quot;properties&quot;: {&quot;area&quot;: 2.4117218029175304e-05, &quot;center&quot;: &quot;[101.5935975, 3.1494285]&quot;, &quot;isochrone_id&quot;: 167300, &quot;reachfactor&quot;: 0.5252666666666667, &quot;station_id&quot;: &quot;167&quot;, &quot;total_pop&quot;: 631.333333333333, &quot;type&quot;: &quot;Polygon&quot;, &quot;value&quot;: 300}, &quot;type&quot;: &quot;Feature&quot;}, {&quot;bbox&quot;: [101.61513, 3.14373, 101.619505, 3.148792], &quot;geometry&quot;: {&quot;coordinates&quot;: [[[101.618741, 3.145265], [101.617071, 3.143925], [101.61618, 3.14373], [101.615454, 3.143795], [101.615274, 3.144106], [101.615567, 3.145641], [101.615709938172, 3.145918318861276], [101.615148, 3.146406], [101.61513, 3.146437], [101.615146, 3.146485], [101.617064, 3.148638], [101.61739, 3.148792], [101.619505, 3.146103], [101.6194558767641, 3.145940515450597], [101.619464, 3.145928], [101.6194475257677, 3.145912892923906], [101.619401, 3.145759], [101.618741, 3.145265]]], &quot;type&quot;: &quot;Polygon&quot;}, &quot;id&quot;: &quot;410&quot;, &quot;properties&quot;: {&quot;area&quot;: 1.3093418298182057e-05, &quot;center&quot;: &quot;[101.6188927, 3.1457012]&quot;, &quot;isochrone_id&quot;: 169300, &quot;reachfactor&quot;: 0.38385, &quot;station_id&quot;: &quot;169&quot;, &quot;total_pop&quot;: 1934.5, &quot;type&quot;: &quot;Polygon&quot;, &quot;value&quot;: 300}, &quot;type&quot;: &quot;Feature&quot;}, {&quot;bbox&quot;: [101.627079, 3.132109, 101.633051, 3.139462], &quot;geometry&quot;: {&quot;coordinates&quot;: [[[101.6319130477574, 3.133947235853481], [101.630319, 3.132109], [101.629959, 3.132111], [101.629417, 3.132286], [101.62708, 3.135171], [101.627079, 3.135531], [101.62729, 3.136398], [101.627853, 3.138066], [101.628087, 3.138339], [101.6290275863812, 3.138536736909685], [101.629145, 3.138734], [101.629511, 3.138906], [101.630562, 3.139348], [101.630904, 3.139462], [101.631868, 3.138579], [101.633051, 3.134374], [101.632812, 3.134105], [101.6319130477574, 3.133947235853481]]], &quot;type&quot;: &quot;Polygon&quot;}, &quot;id&quot;: &quot;413&quot;, &quot;properties&quot;: {&quot;area&quot;: 2.846499768544944e-05, &quot;center&quot;: &quot;[101.6302937, 3.1356637]&quot;, &quot;isochrone_id&quot;: 170300, &quot;reachfactor&quot;: 0.7745, &quot;station_id&quot;: &quot;170&quot;, &quot;total_pop&quot;: 1906.0, &quot;type&quot;: &quot;Polygon&quot;, &quot;value&quot;: 300}, &quot;type&quot;: &quot;Feature&quot;}, {&quot;bbox&quot;: [101.639395, 3.125963, 101.646295, 3.130213], &quot;geometry&quot;: {&quot;coordinates&quot;: [[[101.639574, 3.129056], [101.639607, 3.128929], [101.639626, 3.128861], [101.641434, 3.126548], [101.642808, 3.126083], [101.644431, 3.125963], [101.644531, 3.125989], [101.645207, 3.126347], [101.645745, 3.126869], [101.646284, 3.127608], [101.646295, 3.127673], [101.646244, 3.127966], [101.642995, 3.129535], [101.639547, 3.130213], [101.639395, 3.129828], [101.639574, 3.129056]]], &quot;type&quot;: &quot;Polygon&quot;}, &quot;id&quot;: &quot;416&quot;, &quot;properties&quot;: {&quot;area&quot;: 1.755153049998547e-05, &quot;center&quot;: &quot;[101.64276309743414, 3.1283555024779015]&quot;, &quot;isochrone_id&quot;: 171300, &quot;reachfactor&quot;: 0.6221, &quot;station_id&quot;: &quot;171&quot;, &quot;total_pop&quot;: 1636.0, &quot;type&quot;: &quot;Polygon&quot;, &quot;value&quot;: 300}, &quot;type&quot;: &quot;Feature&quot;}, {&quot;bbox&quot;: [101.662597, 3.141317, 101.665673, 3.146498], &quot;geometry&quot;: {&quot;coordinates&quot;: [[[101.663833, 3.141326], [101.663832, 3.141326], [101.663624, 3.141332], [101.663415, 3.141338], [101.662689, 3.142804], [101.662597, 3.143736], [101.662598, 3.143755], [101.663261, 3.144897], [101.664209, 3.14617], [101.664541, 3.146348], [101.66469, 3.146424], [101.66492, 3.146498], [101.66503, 3.146156], [101.665657, 3.142691], [101.665668, 3.142331], [101.665673, 3.142062], [101.664369, 3.141373], [101.664138, 3.141317], [101.6640611092437, 3.141319268907563], [101.66406, 3.141319], [101.663833, 3.141326]]], &quot;type&quot;: &quot;Polygon&quot;}, &quot;id&quot;: &quot;419&quot;, &quot;properties&quot;: {&quot;area&quot;: 1.0826784403340412e-05, &quot;center&quot;: &quot;[101.6631665, 3.1434524]&quot;, &quot;isochrone_id&quot;: 172300, &quot;reachfactor&quot;: 0.34965, &quot;station_id&quot;: &quot;172&quot;, &quot;total_pop&quot;: 1922.0, &quot;type&quot;: &quot;Polygon&quot;, &quot;value&quot;: 300}, &quot;type&quot;: &quot;Feature&quot;}, {&quot;bbox&quot;: [101.684784, 3.13507, 101.691357, 3.139684], &quot;geometry&quot;: {&quot;coordinates&quot;: [[[101.6891527515417, 3.136867270241129], [101.687143, 3.135461], [101.687079, 3.135431], [101.686856, 3.135325], [101.685168, 3.13507], [101.684863, 3.135261], [101.6851948173208, 3.136463578014427], [101.684927, 3.137009], [101.684784, 3.137394], [101.684939, 3.138138], [101.685581, 3.139291], [101.687649, 3.139684], [101.687655, 3.139682], [101.687989, 3.139603], [101.688333, 3.139504], [101.691003, 3.138604], [101.691272, 3.138247], [101.691357, 3.137897], [101.690646, 3.137494], [101.6891527515417, 3.136867270241129]]], &quot;type&quot;: &quot;Polygon&quot;}, &quot;id&quot;: &quot;421&quot;, &quot;properties&quot;: {&quot;area&quot;: 1.8742696772849637e-05, &quot;center&quot;: &quot;[101.6876953, 3.1373778]&quot;, &quot;isochrone_id&quot;: 174300, &quot;reachfactor&quot;: 0.4491, &quot;station_id&quot;: &quot;174&quot;, &quot;total_pop&quot;: 818.0, &quot;type&quot;: &quot;Polygon&quot;, &quot;value&quot;: 300}, &quot;type&quot;: &quot;Feature&quot;}, {&quot;bbox&quot;: [101.693208, 3.13859, 101.700486, 3.146065], &quot;geometry&quot;: {&quot;coordinates&quot;: [[[101.6967995521153, 3.13961610259943], [101.695451, 3.138668], [101.695098, 3.138597], [101.694989, 3.13859], [101.694904, 3.13866], [101.693338, 3.140905], [101.693208, 3.141184], [101.6936194170934, 3.142667223926169], [101.693666, 3.143118], [101.693721, 3.143323], [101.694368, 3.145175], [101.694897, 3.145954], [101.695927, 3.146052], [101.695966, 3.146029], [101.696219136433, 3.145864522462587], [101.696588, 3.146065], [101.696604, 3.146065], [101.696662, 3.146028], [101.697463, 3.145468], [101.698802, 3.144469], [101.700486, 3.143], [101.700428, 3.142645], [101.698793, 3.140399], [101.698517, 3.140076], [101.698211, 3.139886], [101.6967995521153, 3.13961610259943]]], &quot;type&quot;: &quot;Polygon&quot;}, &quot;id&quot;: &quot;423&quot;, &quot;properties&quot;: {&quot;area&quot;: 3.466881263083044e-05, &quot;center&quot;: &quot;[101.6968069, 3.1424829]&quot;, &quot;isochrone_id&quot;: 175300, &quot;reachfactor&quot;: 0.9435333333333333, &quot;station_id&quot;: &quot;175&quot;, &quot;total_pop&quot;: 2355.66666666667, &quot;type&quot;: &quot;Polygon&quot;, &quot;value&quot;: 300}, &quot;type&quot;: &quot;Feature&quot;}, {&quot;bbox&quot;: [101.698441, 3.139106, 101.705984, 3.144478], &quot;geometry&quot;: {&quot;coordinates&quot;: [[[101.7031483262414, 3.142459736884304], [101.705926, 3.140806], [101.705953, 3.140777], [101.705984, 3.140487], [101.705279, 3.139106], [101.70256, 3.139665], [101.70237, 3.139751], [101.70218, 3.139836], [101.7012635866226, 3.140733442420271], [101.699221, 3.14157], [101.698464, 3.14282], [101.698442, 3.14286], [101.698441, 3.142911], [101.698859, 3.1435], [101.699215, 3.143771], [101.700684, 3.144478], [101.7031483262414, 3.142459736884304]]], &quot;type&quot;: &quot;Polygon&quot;}, &quot;id&quot;: &quot;426&quot;, &quot;properties&quot;: {&quot;area&quot;: 1.9386604190309786e-05, &quot;center&quot;: &quot;[101.702138, 3.142434]&quot;, &quot;isochrone_id&quot;: 176300, &quot;reachfactor&quot;: 0.54575, &quot;station_id&quot;: &quot;176&quot;, &quot;total_pop&quot;: 1735.5, &quot;type&quot;: &quot;Polygon&quot;, &quot;value&quot;: 300}, &quot;type&quot;: &quot;Feature&quot;}, {&quot;bbox&quot;: [101.70676, 3.14314, 101.715324, 3.150495], &quot;geometry&quot;: {&quot;coordinates&quot;: [[[101.7097962320155, 3.14331623157479], [101.707604, 3.143528], [101.706836, 3.144169], [101.70676, 3.147869], [101.706914, 3.148194], [101.707281, 3.148388], [101.707622, 3.148538], [101.708121, 3.148746], [101.7085921068671, 3.148937008533116], [101.709135, 3.149396], [101.710217, 3.150225], [101.710344, 3.150321], [101.710842, 3.150495], [101.711099, 3.150378], [101.7111903951089, 3.150314073366451], [101.711462, 3.150325], [101.712627, 3.150118], [101.7153, 3.148362], [101.715324, 3.148003], [101.7148853608766, 3.14734397562215], [101.714668, 3.14592], [101.712916, 3.143633], [101.712572, 3.143193], [101.712555, 3.143193], [101.712295, 3.143276], [101.7117200789338, 3.143484088839357], [101.711166, 3.143168], [101.71103, 3.14314], [101.710728, 3.143159], [101.7097962320155, 3.14331623157479]]], &quot;type&quot;: &quot;Polygon&quot;}, &quot;id&quot;: &quot;429&quot;, &quot;properties&quot;: {&quot;area&quot;: 4.661268131569925e-05, &quot;center&quot;: &quot;[101.71165966551918, 3.146824883693265]&quot;, &quot;isochrone_id&quot;: 177300, &quot;reachfactor&quot;: 1.0, &quot;station_id&quot;: &quot;177&quot;, &quot;total_pop&quot;: 5129.6, &quot;type&quot;: &quot;Polygon&quot;, &quot;value&quot;: 300}, &quot;type&quot;: &quot;Feature&quot;}, {&quot;bbox&quot;: [101.609278, 3.079522, 101.615269, 3.084274], &quot;geometry&quot;: {&quot;coordinates&quot;: [[[101.609316, 3.082971], [101.610193, 3.080965], [101.610241, 3.080873], [101.610446, 3.080577], [101.610541, 3.080474], [101.611502, 3.079687], [101.611858, 3.07954], [101.611919, 3.079522], [101.613499, 3.080711], [101.615269, 3.08364], [101.615222, 3.083997], [101.613203, 3.084274], [101.612899, 3.084226], [101.609278, 3.083329], [101.609316, 3.082971]]], &quot;type&quot;: &quot;Polygon&quot;}, &quot;id&quot;: &quot;430&quot;, &quot;properties&quot;: {&quot;area&quot;: 1.7465213500003426e-05, &quot;center&quot;: &quot;[101.6121851, 3.0828145]&quot;, &quot;isochrone_id&quot;: 196300, &quot;reachfactor&quot;: 0.6191, &quot;station_id&quot;: &quot;196&quot;, &quot;total_pop&quot;: 2405.0, &quot;type&quot;: &quot;Polygon&quot;, &quot;value&quot;: 300}, &quot;type&quot;: &quot;Feature&quot;}, {&quot;bbox&quot;: [101.716217, 3.139785, 101.722042, 3.146452], &quot;geometry&quot;: {&quot;coordinates&quot;: [[[101.7218016222845, 3.143321094466896], [101.72027, 3.139817], [101.719777, 3.139785], [101.717916, 3.140569], [101.717834, 3.140614], [101.717789, 3.14073], [101.717059733652, 3.142522620682606], [101.716306, 3.14366], [101.716217, 3.144089], [101.716483, 3.144794], [101.71664, 3.145118], [101.718732, 3.145863], [101.720615, 3.146452], [101.720962, 3.146356], [101.7216071084591, 3.145241841194842], [101.721995, 3.144832], [101.722042, 3.143908], [101.722042, 3.143907], [101.7220269648704, 3.143869068235192], [101.722034, 3.143802], [101.722022, 3.143774], [101.7218016222845, 3.143321094466896]]], &quot;type&quot;: &quot;Polygon&quot;}, &quot;id&quot;: &quot;431&quot;, &quot;properties&quot;: {&quot;area&quot;: 2.572969990632148e-05, &quot;center&quot;: &quot;[101.7197635, 3.1431359]&quot;, &quot;isochrone_id&quot;: 178300, &quot;reachfactor&quot;: 0.8235, &quot;station_id&quot;: &quot;178&quot;, &quot;total_pop&quot;: 2474.5, &quot;type&quot;: &quot;Polygon&quot;, &quot;value&quot;: 300}, &quot;type&quot;: &quot;Feature&quot;}, {&quot;bbox&quot;: [101.719632, 3.128868, 101.726124, 3.135326], &quot;geometry&quot;: {&quot;coordinates&quot;: [[[101.7256806058347, 3.131898415870923], [101.72542, 3.130824], [101.725401, 3.130753], [101.724554, 3.129082], [101.724249, 3.128891], [101.724117, 3.128868], [101.723983, 3.128869], [101.7217, 3.128908], [101.721422, 3.129137], [101.721364, 3.129322], [101.720783, 3.131643], [101.7206778827835, 3.132132346074397], [101.720009, 3.133262], [101.719632, 3.134096], [101.719701, 3.134449], [101.724328, 3.135318], [101.724625, 3.135326], [101.72604, 3.132882], [101.726124, 3.132728], [101.726035, 3.132379], [101.7256806058347, 3.131898415870923]]], &quot;type&quot;: &quot;Polygon&quot;}, &quot;id&quot;: &quot;433&quot;, &quot;properties&quot;: {&quot;area&quot;: 2.902191911214411e-05, &quot;center&quot;: &quot;[101.7229314, 3.1329233]&quot;, &quot;isochrone_id&quot;: 179300, &quot;reachfactor&quot;: 0.90035, &quot;station_id&quot;: &quot;179&quot;, &quot;total_pop&quot;: 1612.0, &quot;type&quot;: &quot;Polygon&quot;, &quot;value&quot;: 300}, &quot;type&quot;: &quot;Feature&quot;}, {&quot;bbox&quot;: [101.723644, 3.120761, 101.730868, 3.128405], &quot;geometry&quot;: {&quot;coordinates&quot;: [[[101.730225788555, 3.125806774912362], [101.730687, 3.12534], [101.730868, 3.125028], [101.730143, 3.121843], [101.729778, 3.121012], [101.72948, 3.12081], [101.728766, 3.120765], [101.728634, 3.120761], [101.728277, 3.120808], [101.728195, 3.12082], [101.7269853028011, 3.121636673214474], [101.725246, 3.12238], [101.725064, 3.12269], [101.7245896857246, 3.124700294615919], [101.724396, 3.124814], [101.724147, 3.125074], [101.723644, 3.126693], [101.723679, 3.126908], [101.724677, 3.128212], [101.724981, 3.128405], [101.726017, 3.128394], [101.727612, 3.128147], [101.7295229617586, 3.126668315082238], [101.730216, 3.126387], [101.730397, 3.126076], [101.730225788555, 3.125806774912362]]], &quot;type&quot;: &quot;Polygon&quot;}, &quot;id&quot;: &quot;436&quot;, &quot;properties&quot;: {&quot;area&quot;: 3.7903201154405686e-05, &quot;center&quot;: &quot;[101.727334, 3.1238622]&quot;, &quot;isochrone_id&quot;: 180300, &quot;reachfactor&quot;: 0.75446, &quot;station_id&quot;: &quot;180&quot;, &quot;total_pop&quot;: 1625.4, &quot;type&quot;: &quot;Polygon&quot;, &quot;value&quot;: 300}, &quot;type&quot;: &quot;Feature&quot;}, {&quot;bbox&quot;: [101.726253, 3.107947, 101.732507, 3.115441], &quot;geometry&quot;: {&quot;coordinates&quot;: [[[101.7302097296625, 3.108257082851809], [101.728464, 3.108947], [101.726253, 3.113626], [101.726509, 3.113879], [101.7281541585746, 3.114676822046614], [101.728308, 3.115094], [101.728509, 3.115439], [101.728515, 3.115441], [101.728931, 3.1153], [101.729114, 3.115227], [101.73058, 3.114509], [101.731407, 3.113777], [101.73219, 3.11299], [101.732378, 3.112674], [101.732379, 3.11267], [101.732507, 3.111822], [101.731366, 3.108846], [101.730818, 3.108052], [101.730474, 3.107947], [101.7302097296625, 3.108257082851809]]], &quot;type&quot;: &quot;Polygon&quot;}, &quot;id&quot;: &quot;439&quot;, &quot;properties&quot;: {&quot;area&quot;: 2.8327827499505382e-05, &quot;center&quot;: &quot;[101.7290571, 3.1117149]&quot;, &quot;isochrone_id&quot;: 181300, &quot;reachfactor&quot;: 0.7940499999999999, &quot;station_id&quot;: &quot;181&quot;, &quot;total_pop&quot;: 1947.5, &quot;type&quot;: &quot;Polygon&quot;, &quot;value&quot;: 300}, &quot;type&quot;: &quot;Feature&quot;}, {&quot;bbox&quot;: [101.730446, 3.101649, 101.73506, 3.108143], &quot;geometry&quot;: {&quot;coordinates&quot;: [[[101.7328935968899, 3.102449079443955], [101.732532, 3.102518], [101.731287, 3.102755], [101.730891, 3.102838], [101.730695, 3.103141], [101.730544, 3.10536], [101.730457, 3.106509], [101.7305901182049, 3.106954140494175], [101.730446, 3.108038], [101.73079, 3.108143], [101.73373, 3.106258], [101.734129, 3.105826], [101.734949, 3.103396], [101.73506, 3.101892], [101.734794, 3.101649], [101.73321, 3.102243], [101.732907, 3.102437], [101.7328935968899, 3.102449079443955]]], &quot;type&quot;: &quot;Polygon&quot;}, &quot;id&quot;: &quot;441&quot;, &quot;properties&quot;: {&quot;area&quot;: 1.8926491289832256e-05, &quot;center&quot;: &quot;[101.7327199, 3.1046709]&quot;, &quot;isochrone_id&quot;: 182300, &quot;reachfactor&quot;: 0.49934999999999996, &quot;station_id&quot;: &quot;182&quot;, &quot;total_pop&quot;: 805.0, &quot;type&quot;: &quot;Polygon&quot;, &quot;value&quot;: 300}, &quot;type&quot;: &quot;Feature&quot;}, {&quot;bbox&quot;: [101.737637, 3.087464, 101.743833, 3.095054], &quot;geometry&quot;: {&quot;coordinates&quot;: [[[101.7411307668296, 3.087665127075319], [101.740203, 3.087527], [101.740081, 3.087534], [101.739066, 3.08815], [101.737919, 3.089345], [101.737637, 3.090094], [101.737662, 3.090453], [101.737819, 3.092319], [101.738125, 3.092908], [101.7388590808166, 3.093556287540148], [101.7389201781537, 3.093663728907693], [101.73918, 3.094772], [101.739325, 3.094938], [101.739666, 3.095054], [101.740107, 3.094955], [101.740456, 3.09482], [101.741162, 3.094523], [101.742323, 3.094003], [101.742568, 3.09374], [101.743134, 3.09258], [101.7433889639106, 3.091936191515182], [101.743558, 3.091724], [101.743833, 3.090474], [101.742817, 3.088314], [101.742283, 3.087712], [101.742022, 3.087464], [101.741431, 3.087464], [101.7411307668296, 3.087665127075319]]], &quot;type&quot;: &quot;Polygon&quot;}, &quot;id&quot;: &quot;442&quot;, &quot;properties&quot;: {&quot;area&quot;: 3.397934393289869e-05, &quot;center&quot;: &quot;[101.7406462, 3.0914822]&quot;, &quot;isochrone_id&quot;: 183300, &quot;reachfactor&quot;: 0.9255999999999999, &quot;station_id&quot;: &quot;183&quot;, &quot;total_pop&quot;: 3312.33333333333, &quot;type&quot;: &quot;Polygon&quot;, &quot;value&quot;: 300}, &quot;type&quot;: &quot;Feature&quot;}, {&quot;bbox&quot;: [101.742217, 3.075184, 101.749644, 3.080628], &quot;geometry&quot;: {&quot;coordinates&quot;: [[[101.7472513353012, 3.076389239852679], [101.746427, 3.075403], [101.746042, 3.075209], [101.746013, 3.075195], [101.745983, 3.075184], [101.745874, 3.075239], [101.743344, 3.077042], [101.742531, 3.078055], [101.742217, 3.080312], [101.742506, 3.080528], [101.7436060627177, 3.080344775967983], [101.743763, 3.080575], [101.744119, 3.080628], [101.748575, 3.079107], [101.7486144205053, 3.078872228990515], [101.749644, 3.078485], [101.74956, 3.078135], [101.7472513353012, 3.076389239852679]]], &quot;type&quot;: &quot;Polygon&quot;}, &quot;id&quot;: &quot;445&quot;, &quot;properties&quot;: {&quot;area&quot;: 2.336937968688834e-05, &quot;center&quot;: &quot;[101.7460092, 3.0785733]&quot;, &quot;isochrone_id&quot;: 184300, &quot;reachfactor&quot;: 0.6514, &quot;station_id&quot;: &quot;184&quot;, &quot;total_pop&quot;: 1378.33333333333, &quot;type&quot;: &quot;Polygon&quot;, &quot;value&quot;: 300}, &quot;type&quot;: &quot;Feature&quot;}, {&quot;bbox&quot;: [101.762003, 3.071019, 101.767314, 3.074727], &quot;geometry&quot;: {&quot;coordinates&quot;: [[[101.763054, 3.071952], [101.76329, 3.071706], [101.764207, 3.071019], [101.767084, 3.071122], [101.767314, 3.071399], [101.766135, 3.074323], [101.765938, 3.074624], [101.765905, 3.07467], [101.765547, 3.074708], [101.765276, 3.074727], [101.762422, 3.074292], [101.762212, 3.074255], [101.762003, 3.073962], [101.763054, 3.071952]]], &quot;type&quot;: &quot;Polygon&quot;}, &quot;id&quot;: &quot;448&quot;, &quot;properties&quot;: {&quot;area&quot;: 1.3832471500003594e-05, &quot;center&quot;: &quot;[101.7637348, 3.0716741]&quot;, &quot;isochrone_id&quot;: 185300, &quot;reachfactor&quot;: 0.4904, &quot;station_id&quot;: &quot;185&quot;, &quot;total_pop&quot;: 1194.0, &quot;type&quot;: &quot;Polygon&quot;, &quot;value&quot;: 300}, &quot;type&quot;: &quot;Feature&quot;}, {&quot;bbox&quot;: [101.769493, 3.059779, 101.776309, 3.065571], &quot;geometry&quot;: {&quot;coordinates&quot;: [[[101.7726834619245, 3.059996314222364], [101.769781, 3.059779], [101.769625, 3.059934], [101.769493, 3.060153], [101.769537, 3.06051], [101.7711897070001, 3.062614489454222], [101.771185, 3.064269], [101.771231, 3.065417], [101.771556, 3.065571], [101.775656, 3.06414], [101.776038, 3.063814], [101.776147, 3.063471], [101.7760311874639, 3.063133874466782], [101.776309, 3.062568], [101.7763, 3.062208], [101.776239, 3.061089], [101.774521, 3.059829], [101.774421, 3.059829], [101.7726834619245, 3.059996314222364]]], &quot;type&quot;: &quot;Polygon&quot;}, &quot;id&quot;: &quot;451&quot;, &quot;properties&quot;: {&quot;area&quot;: 2.642296952750843e-05, &quot;center&quot;: &quot;[101.7730057757587, 3.0623536229516795]&quot;, &quot;isochrone_id&quot;: 186300, &quot;reachfactor&quot;: 0.6329666666666666, &quot;station_id&quot;: &quot;186&quot;, &quot;total_pop&quot;: 1255.33333333333, &quot;type&quot;: &quot;Polygon&quot;, &quot;value&quot;: 300}, &quot;type&quot;: &quot;Feature&quot;}, {&quot;bbox&quot;: [101.771546, 3.047773, 101.775143, 3.050765], &quot;geometry&quot;: {&quot;coordinates&quot;: [[[101.77439, 3.047773], [101.773764, 3.04782], [101.771735, 3.04928], [101.771588, 3.049382], [101.771562, 3.049439], [101.771546, 3.049799], [101.771633, 3.049967], [101.773284, 3.050748], [101.773732, 3.050755], [101.774071, 3.050765], [101.774303, 3.05049], [101.77502, 3.049129], [101.775143, 3.048623], [101.77439, 3.047773]]], &quot;type&quot;: &quot;Polygon&quot;}, &quot;id&quot;: &quot;452&quot;, &quot;properties&quot;: {&quot;area&quot;: 6.843217999995972e-06, &quot;center&quot;: &quot;[101.7745994, 3.0483351]&quot;, &quot;isochrone_id&quot;: 187300, &quot;reachfactor&quot;: 0.22545, &quot;station_id&quot;: &quot;187&quot;, &quot;total_pop&quot;: 598.0, &quot;type&quot;: &quot;Polygon&quot;, &quot;value&quot;: 300}, &quot;type&quot;: &quot;Feature&quot;}, {&quot;bbox&quot;: [101.770421, 3.040146, 101.773422, 3.043574], &quot;geometry&quot;: {&quot;coordinates&quot;: [[[101.7715677439652, 3.040224182628362], [101.770703, 3.040333], [101.770421, 3.040557], [101.7705066592149, 3.041091316906261], [101.77049, 3.042059], [101.770524, 3.043113], [101.770538, 3.04313], [101.770597, 3.043209], [101.770661, 3.043293], [101.77202, 3.043498], [101.772576, 3.043574], [101.772776, 3.043571], [101.773214, 3.043506], [101.7732891169052, 3.043294605430584], [101.773422, 3.043225], [101.773312, 3.041941], [101.773094, 3.041281], [101.773019, 3.04106], [101.772999, 3.041001], [101.772942, 3.040838], [101.77272, 3.040629], [101.772046, 3.040164], [101.77174, 3.040146], [101.7715677439652, 3.040224182628362]]], &quot;type&quot;: &quot;Polygon&quot;}, &quot;id&quot;: &quot;455&quot;, &quot;properties&quot;: {&quot;area&quot;: 8.432573499287248e-06, &quot;center&quot;: &quot;[101.7726712, 3.0406991]&quot;, &quot;isochrone_id&quot;: 188300, &quot;reachfactor&quot;: 0.27905, &quot;station_id&quot;: &quot;188&quot;, &quot;total_pop&quot;: 353.0, &quot;type&quot;: &quot;Polygon&quot;, &quot;value&quot;: 300}, &quot;type&quot;: &quot;Feature&quot;}, {&quot;bbox&quot;: [101.770446, 3.024576, 101.775075, 3.029638], &quot;geometry&quot;: {&quot;coordinates&quot;: [[[101.7714637820587, 3.024782425290812], [101.77145, 3.024776], [101.7714460125883, 3.024786150335606], [101.771275, 3.024822], [101.770803, 3.026423], [101.770446, 3.028659], [101.771357, 3.02947], [101.771969, 3.029573], [101.77351, 3.029608], [101.774478, 3.029638], [101.774748, 3.029401], [101.774762, 3.029279], [101.775075, 3.026309], [101.775012, 3.026115], [101.774742, 3.025394], [101.774434, 3.024759], [101.774107, 3.024609], [101.773791, 3.024576], [101.771628, 3.024748], [101.7714637820587, 3.024782425290812]]], &quot;type&quot;: &quot;Polygon&quot;}, &quot;id&quot;: &quot;457&quot;, &quot;properties&quot;: {&quot;area&quot;: 1.9709072756386664e-05, &quot;center&quot;: &quot;[101.77099296144883, 3.0272457626409692]&quot;, &quot;isochrone_id&quot;: 189300, &quot;reachfactor&quot;: 0.5341, &quot;station_id&quot;: &quot;189&quot;, &quot;total_pop&quot;: 1240.5, &quot;type&quot;: &quot;Polygon&quot;, &quot;value&quot;: 300}, &quot;type&quot;: &quot;Feature&quot;}, {&quot;bbox&quot;: [101.780777, 2.998382, 101.786329, 3.004768], &quot;geometry&quot;: {&quot;coordinates&quot;: [[[101.7834131472939, 2.999363159040676], [101.781005, 3.000979], [101.780777, 3.001257], [101.781491, 3.003185], [101.7821640109322, 3.003641836780868], [101.782255, 3.004475], [101.782418, 3.004567], [101.782571, 3.004647], [101.783097, 3.004768], [101.785976, 3.003664], [101.786091, 3.003573], [101.786329, 3.003302], [101.786313, 3.000525], [101.786287, 3.000187], [101.785897, 2.998635], [101.785764, 2.998387], [101.785757, 2.998382], [101.785529, 2.998401], [101.784948, 2.998483], [101.784273, 2.998583], [101.7834131472939, 2.999363159040676]]], &quot;type&quot;: &quot;Polygon&quot;}, &quot;id&quot;: &quot;460&quot;, &quot;properties&quot;: {&quot;area&quot;: 2.441984526846319e-05, &quot;center&quot;: &quot;[101.783749, 3.0004592]&quot;, &quot;isochrone_id&quot;: 190300, &quot;reachfactor&quot;: 0.66745, &quot;station_id&quot;: &quot;190&quot;, &quot;total_pop&quot;: 1430.0, &quot;type&quot;: &quot;Polygon&quot;, &quot;value&quot;: 300}, &quot;type&quot;: &quot;Feature&quot;}, {&quot;bbox&quot;: [101.78327, 2.990296, 101.789691, 2.997489], &quot;geometry&quot;: {&quot;coordinates&quot;: [[[101.7885708447828, 2.991429357055017], [101.78844, 2.990956], [101.788203, 2.990685], [101.787695, 2.990296], [101.783441, 2.991891], [101.78327, 2.992208], [101.783273, 2.992376], [101.783596, 2.993855], [101.7837420976554, 2.99409171298695], [101.784114, 2.994982], [101.784288, 2.995298], [101.786943, 2.997489], [101.788363, 2.996788], [101.7886631411645, 2.994781068061632], [101.788992, 2.99431], [101.789691, 2.993283], [101.78965, 2.992925], [101.7885708447828, 2.991429357055017]]], &quot;type&quot;: &quot;Polygon&quot;}, &quot;id&quot;: &quot;463&quot;, &quot;properties&quot;: {&quot;area&quot;: 2.909281061339813e-05, &quot;center&quot;: &quot;[101.7861107, 2.9944474]&quot;, &quot;isochrone_id&quot;: 191300, &quot;reachfactor&quot;: 0.8255333333333333, &quot;station_id&quot;: &quot;191&quot;, &quot;total_pop&quot;: 1753.0, &quot;type&quot;: &quot;Polygon&quot;, &quot;value&quot;: 300}, &quot;type&quot;: &quot;Feature&quot;}, {&quot;bbox&quot;: [101.788569, 2.979548, 101.792628, 2.987626], &quot;geometry&quot;: {&quot;coordinates&quot;: [[[101.7905197947245, 2.980258167880356], [101.790009, 2.979649], [101.78991, 2.979548], [101.789551, 2.979572], [101.788569, 2.980451], [101.788578, 2.980811], [101.788673, 2.981838], [101.789473, 2.98599], [101.789547, 2.986335], [101.789907, 2.986339], [101.7905476881708, 2.986127049623668], [101.791138, 2.987377], [101.791213, 2.987506], [101.791302, 2.987626], [101.791662, 2.987618], [101.792628, 2.986064], [101.792517, 2.985244], [101.7923468886017, 2.984126063883693], [101.792384, 2.984058], [101.792399, 2.983857], [101.792413, 2.983656], [101.79212, 2.982635], [101.791938, 2.981608], [101.790941, 2.980355], [101.790837, 2.980252], [101.7905197947245, 2.980258167880356]]], &quot;type&quot;: &quot;Polygon&quot;}, &quot;id&quot;: &quot;464&quot;, &quot;properties&quot;: {&quot;area&quot;: 2.1213679182240835e-05, &quot;center&quot;: &quot;[101.7900849, 2.9829814]&quot;, &quot;isochrone_id&quot;: 192300, &quot;reachfactor&quot;: 0.5704499999999999, &quot;station_id&quot;: &quot;192&quot;, &quot;total_pop&quot;: 1331.5, &quot;type&quot;: &quot;Polygon&quot;, &quot;value&quot;: 300}, &quot;type&quot;: &quot;Feature&quot;}, {&quot;bbox&quot;: [101.684957, 3.130002, 101.690441, 3.135678], &quot;geometry&quot;: {&quot;coordinates&quot;: [[[101.685057, 3.132133], [101.684957, 3.130577], [101.685033, 3.130382], [101.68504, 3.130375], [101.685193, 3.130305], [101.687434, 3.130002], [101.689665, 3.130359], [101.689692, 3.130416], [101.690369, 3.132267], [101.690382, 3.132327], [101.690416, 3.132651], [101.690441, 3.133663], [101.690121, 3.13542], [101.689828, 3.135629], [101.689638, 3.135678], [101.6863, 3.135545], [101.686111, 3.135437], [101.685297, 3.134707], [101.685057, 3.132133]]], &quot;type&quot;: &quot;Polygon&quot;}, &quot;id&quot;: &quot;466&quot;, &quot;properties&quot;: {&quot;area&quot;: 2.705014700000627e-05, &quot;center&quot;: &quot;[101.6878981, 3.132682]&quot;, &quot;isochrone_id&quot;: 193300, &quot;reachfactor&quot;: 0.9588, &quot;station_id&quot;: &quot;193&quot;, &quot;total_pop&quot;: 2483.0, &quot;type&quot;: &quot;Polygon&quot;, &quot;value&quot;: 300}, &quot;type&quot;: &quot;Feature&quot;}, {&quot;bbox&quot;: [101.584894, 3.082495, 101.59017, 3.08653], &quot;geometry&quot;: {&quot;coordinates&quot;: [[[101.585173, 3.083677], [101.587232, 3.082575], [101.587583, 3.082495], [101.588694, 3.082728], [101.590163, 3.084102], [101.59017, 3.084225], [101.58871, 3.086384], [101.588674, 3.08641], [101.587084, 3.086529], [101.587033, 3.08653], [101.586175, 3.0859], [101.584894, 3.083905], [101.585173, 3.083677]]], &quot;type&quot;: &quot;Polygon&quot;}, &quot;id&quot;: &quot;469&quot;, &quot;properties&quot;: {&quot;area&quot;: 1.3875880000010702e-05, &quot;center&quot;: &quot;[101.58812464756288, 3.0846313272208516]&quot;, &quot;isochrone_id&quot;: 194300, &quot;reachfactor&quot;: 0.4918, &quot;station_id&quot;: &quot;194&quot;, &quot;total_pop&quot;: 1019.0, &quot;type&quot;: &quot;Polygon&quot;, &quot;value&quot;: 300}, &quot;type&quot;: &quot;Feature&quot;}, {&quot;bbox&quot;: [101.553237, 3.131269, 101.555791, 3.135176], &quot;geometry&quot;: {&quot;coordinates&quot;: [[[101.553951, 3.133147], [101.555394, 3.131269], [101.555705, 3.13145], [101.555791, 3.132122], [101.555482, 3.133821], [101.554961, 3.13469], [101.554633, 3.134975], [101.553628, 3.135176], [101.553308, 3.135011], [101.553237, 3.134866], [101.553951, 3.133147]]], &quot;type&quot;: &quot;Polygon&quot;}, &quot;id&quot;: &quot;472&quot;, &quot;properties&quot;: {&quot;area&quot;: 5.178614500001467e-06, &quot;center&quot;: &quot;[101.55530141595109, 3.1342691389458124]&quot;, &quot;isochrone_id&quot;: 195300, &quot;reachfactor&quot;: 0.1836, &quot;station_id&quot;: &quot;195&quot;, &quot;total_pop&quot;: 299.0, &quot;type&quot;: &quot;Polygon&quot;, &quot;value&quot;: 300}, &quot;type&quot;: &quot;Feature&quot;}, {&quot;bbox&quot;: [101.606942, 3.073953, 101.613541, 3.079877], &quot;geometry&quot;: {&quot;coordinates&quot;: [[[101.606947, 3.075477], [101.608445, 3.073953], [101.608805, 3.073954], [101.611943, 3.074394], [101.612206, 3.074435], [101.61247, 3.074475], [101.612987, 3.074979], [101.613179, 3.075175], [101.613541, 3.07606], [101.613538, 3.076221], [101.613524, 3.076677], [101.612657, 3.077721], [101.612617, 3.077761], [101.611334, 3.079026], [101.610983, 3.079379], [101.610478, 3.079877], [101.610118, 3.079873], [101.61, 3.079763], [101.608988, 3.078763], [101.608044, 3.077541], [101.606942, 3.075837], [101.606947, 3.075477]]], &quot;type&quot;: &quot;Polygon&quot;}, &quot;id&quot;: &quot;475&quot;, &quot;properties&quot;: {&quot;area&quot;: 2.527346599998682e-05, &quot;center&quot;: &quot;[101.61027804441044, 3.0761293729574577]&quot;, &quot;isochrone_id&quot;: 197300, &quot;reachfactor&quot;: 0.8959, &quot;station_id&quot;: &quot;197&quot;, &quot;total_pop&quot;: 3478.0, &quot;type&quot;: &quot;Polygon&quot;, &quot;value&quot;: 300}, &quot;type&quot;: &quot;Feature&quot;}, {&quot;bbox&quot;: [101.608524, 3.066903, 101.613443, 3.074382], &quot;geometry&quot;: {&quot;coordinates&quot;: [[[101.608524, 3.071836], [101.610071, 3.067881], [101.610501, 3.067009], [101.610609, 3.066904], [101.610969, 3.066903], [101.61113, 3.067047], [101.611971, 3.067875], [101.613091, 3.068946], [101.613437, 3.069677], [101.613443, 3.070229], [101.613265, 3.071555], [101.613093, 3.072278], [101.611547, 3.074382], [101.611224, 3.074332], [101.610901, 3.074281], [101.610134, 3.074139], [101.60887, 3.073139], [101.608524, 3.071836]]], &quot;type&quot;: &quot;Polygon&quot;}, &quot;id&quot;: &quot;477&quot;, &quot;properties&quot;: {&quot;area&quot;: 2.4526400999996035e-05, &quot;center&quot;: &quot;[101.61079751201764, 3.070649995132904]&quot;, &quot;isochrone_id&quot;: 198300, &quot;reachfactor&quot;: 0.8695, &quot;station_id&quot;: &quot;198&quot;, &quot;total_pop&quot;: 2822.0, &quot;type&quot;: &quot;Polygon&quot;, &quot;value&quot;: 300}, &quot;type&quot;: &quot;Feature&quot;}, {&quot;bbox&quot;: [101.604849, 3.062709, 101.612362, 3.068146], &quot;geometry&quot;: {&quot;coordinates&quot;: [[[101.604868, 3.065299], [101.604913, 3.065198], [101.608928, 3.062713], [101.609288, 3.062709], [101.610609, 3.063326], [101.61225, 3.065241], [101.612362, 3.065365], [101.612362, 3.065725], [101.610863, 3.06732], [101.60906, 3.068146], [101.605833, 3.066927], [101.605555, 3.066698], [101.604849, 3.065658], [101.604868, 3.065299]]], &quot;type&quot;: &quot;Polygon&quot;}, &quot;id&quot;: &quot;480&quot;, &quot;properties&quot;: {&quot;area&quot;: 2.548881149999803e-05, &quot;center&quot;: &quot;[101.60860985448382, 3.0655282507679424]&quot;, &quot;isochrone_id&quot;: 199300, &quot;reachfactor&quot;: 0.9036, &quot;station_id&quot;: &quot;199&quot;, &quot;total_pop&quot;: 2805.0, &quot;type&quot;: &quot;Polygon&quot;, &quot;value&quot;: 300}, &quot;type&quot;: &quot;Feature&quot;}, {&quot;bbox&quot;: [101.597778, 3.06196, 101.605368, 3.068106], &quot;geometry&quot;: {&quot;coordinates&quot;: [[[101.597778, 3.065245], [101.59811, 3.064736], [101.59895, 3.063928], [101.600724, 3.062347], [101.601146, 3.061965], [101.601506, 3.06196], [101.605368, 3.065221], [101.60535, 3.065581], [101.605265, 3.06568], [101.603416, 3.06746], [101.602689, 3.068106], [101.602329, 3.068105], [101.600542, 3.06783], [101.597796, 3.065604], [101.597778, 3.065245]]], &quot;type&quot;: &quot;Polygon&quot;}, &quot;id&quot;: &quot;483&quot;, &quot;properties&quot;: {&quot;area&quot;: 2.7735912999978667e-05, &quot;center&quot;: &quot;[101.60161008970644, 3.0652656756187566]&quot;, &quot;isochrone_id&quot;: 200300, &quot;reachfactor&quot;: 0.9834, &quot;station_id&quot;: &quot;200&quot;, &quot;total_pop&quot;: 1639.0, &quot;type&quot;: &quot;Polygon&quot;, &quot;value&quot;: 300}, &quot;type&quot;: &quot;Feature&quot;}, {&quot;bbox&quot;: [101.588877, 3.051072, 101.593969, 3.059169], &quot;geometry&quot;: {&quot;coordinates&quot;: [[[101.588879, 3.054738], [101.588877, 3.054378], [101.591715, 3.051077], [101.592074, 3.051072], [101.592086, 3.051868], [101.5924, 3.054145], [101.593969, 3.05769], [101.593942, 3.057788], [101.593783, 3.058111], [101.592194, 3.059086], [101.591843, 3.059169], [101.589439, 3.056902], [101.589401, 3.056862], [101.588879, 3.054738]]], &quot;type&quot;: &quot;Polygon&quot;}, &quot;id&quot;: &quot;486&quot;, &quot;properties&quot;: {&quot;area&quot;: 2.2582637500010848e-05, &quot;center&quot;: &quot;[101.59192172970651, 3.055250092570856]&quot;, &quot;isochrone_id&quot;: 202300, &quot;reachfactor&quot;: 0.8005, &quot;station_id&quot;: &quot;202&quot;, &quot;total_pop&quot;: 2655.0, &quot;type&quot;: &quot;Polygon&quot;, &quot;value&quot;: 300}, &quot;type&quot;: &quot;Feature&quot;}, {&quot;bbox&quot;: [101.576724, 3.202807, 101.584705, 3.208178], &quot;geometry&quot;: {&quot;coordinates&quot;: [[[101.58221, 3.206065], [101.584511, 3.204161], [101.584705, 3.203899], [101.584523, 3.203588], [101.579421, 3.202807], [101.579067, 3.20287], [101.578099, 3.205591], [101.5780736063805, 3.205750466667314], [101.576724, 3.20747], [101.57693, 3.207764], [101.57845, 3.208178], [101.578946, 3.208132], [101.579696, 3.207662], [101.581429, 3.206624], [101.58221, 3.206065]]], &quot;type&quot;: &quot;Polygon&quot;}, &quot;id&quot;: &quot;488&quot;, &quot;properties&quot;: {&quot;area&quot;: 2.2373229971742103e-05, &quot;center&quot;: &quot;[101.5803881952098, 3.2064113465814885]&quot;, &quot;isochrone_id&quot;: 203300, &quot;reachfactor&quot;: 0.61235, &quot;station_id&quot;: &quot;203&quot;, &quot;total_pop&quot;: 343.0, &quot;type&quot;: &quot;Polygon&quot;, &quot;value&quot;: 300}, &quot;type&quot;: &quot;Feature&quot;}, {&quot;bbox&quot;: [101.573984, 3.195624, 101.579233, 3.203495], &quot;geometry&quot;: {&quot;coordinates&quot;: [[[101.5786575653611, 3.196524055603258], [101.578002, 3.195624], [101.577644, 3.195661], [101.574566, 3.197367], [101.573984, 3.197985], [101.573986, 3.198345], [101.574059, 3.198447], [101.5757186752773, 3.20007108124393], [101.575759, 3.200402], [101.578818, 3.203495], [101.579173, 3.203437], [101.579233, 3.20308], [101.578949, 3.197453], [101.57876, 3.196533], [101.5786575653611, 3.196524055603258]]], &quot;type&quot;: &quot;Polygon&quot;}, &quot;id&quot;: &quot;491&quot;, &quot;properties&quot;: {&quot;area&quot;: 2.3109854356729746e-05, &quot;center&quot;: &quot;[101.578194, 3.199222]&quot;, &quot;isochrone_id&quot;: 204300, &quot;reachfactor&quot;: 0.4968333333333334, &quot;station_id&quot;: &quot;204&quot;, &quot;total_pop&quot;: 760.0, &quot;type&quot;: &quot;Polygon&quot;, &quot;value&quot;: 300}, &quot;type&quot;: &quot;Feature&quot;}, {&quot;bbox&quot;: [101.570729, 3.173815, 101.575788, 3.179803], &quot;geometry&quot;: {&quot;coordinates&quot;: [[[101.570729, 3.179561], [101.57144, 3.175511], [101.572167, 3.174307], [101.572649, 3.174002], [101.572957, 3.173815], [101.57387, 3.174685], [101.574034, 3.175006], [101.575788, 3.178543], [101.5755, 3.178759], [101.571111, 3.179803], [101.570768, 3.179695], [101.570729, 3.179561]]], &quot;type&quot;: &quot;Polygon&quot;}, &quot;id&quot;: &quot;494&quot;, &quot;properties&quot;: {&quot;area&quot;: 1.8254585000021916e-05, &quot;center&quot;: &quot;[101.5723031, 3.1766755]&quot;, &quot;isochrone_id&quot;: 205300, &quot;reachfactor&quot;: 0.6471, &quot;station_id&quot;: &quot;205&quot;, &quot;total_pop&quot;: 165.0, &quot;type&quot;: &quot;Polygon&quot;, &quot;value&quot;: 300}, &quot;type&quot;: &quot;Feature&quot;}, {&quot;bbox&quot;: [101.605328, 3.19522, 101.611135, 3.200529], &quot;geometry&quot;: {&quot;coordinates&quot;: [[[101.6107544751629, 3.198499434583879], [101.610993, 3.197609], [101.611127, 3.196693], [101.610395, 3.195414], [101.610078, 3.195244], [101.610012, 3.19522], [101.608683, 3.195265], [101.606547, 3.19568], [101.60542, 3.197619], [101.6057392782626, 3.198015850562077], [101.605384, 3.198587], [101.605328, 3.198758], [101.605451, 3.198941], [101.605716, 3.199269], [101.610943, 3.200529], [101.611135, 3.200225], [101.6107544751629, 3.198499434583879]]], &quot;type&quot;: &quot;Polygon&quot;}, &quot;id&quot;: &quot;497&quot;, &quot;properties&quot;: {&quot;area&quot;: 2.2997241168358196e-05, &quot;center&quot;: &quot;[101.60800016369531, 3.1985308655612594]&quot;, &quot;isochrone_id&quot;: 207300, &quot;reachfactor&quot;: 0.6494500000000001, &quot;station_id&quot;: &quot;207&quot;, &quot;total_pop&quot;: 1022.5, &quot;type&quot;: &quot;Polygon&quot;, &quot;value&quot;: 300}, &quot;type&quot;: &quot;Feature&quot;}, {&quot;bbox&quot;: [101.619294, 3.198072, 101.6243, 3.201359], &quot;geometry&quot;: {&quot;coordinates&quot;: [[[101.6196725543524, 3.198095967097042], [101.619626, 3.198101], [101.6195985273365, 3.198129796647315], [101.619539, 3.198157], [101.619294, 3.198368], [101.619313, 3.198647], [101.619346, 3.198727], [101.620452, 3.201037], [101.620662, 3.201329], [101.620851, 3.201359], [101.624042, 3.199988], [101.6243, 3.199737], [101.624043, 3.199254], [101.623837, 3.19909], [101.62084, 3.19817], [101.619909, 3.198075], [101.6198981315822, 3.198074822797536], [101.619885, 3.198073], [101.6198720696576, 3.198074397874852], [101.619725, 3.198072], [101.6196725543524, 3.198095967097042]]], &quot;type&quot;: &quot;Polygon&quot;}, &quot;id&quot;: &quot;500&quot;, &quot;properties&quot;: {&quot;area&quot;: 9.699470633871721e-06, &quot;center&quot;: &quot;[101.62083610739101, 3.19865573029317]&quot;, &quot;isochrone_id&quot;: 208300, &quot;reachfactor&quot;: 0.28185, &quot;station_id&quot;: &quot;208&quot;, &quot;total_pop&quot;: 1152.0, &quot;type&quot;: &quot;Polygon&quot;, &quot;value&quot;: 300}, &quot;type&quot;: &quot;Feature&quot;}, {&quot;bbox&quot;: [101.625471, 3.205841, 101.630936, 3.210975], &quot;geometry&quot;: {&quot;coordinates&quot;: [[[101.62599, 3.207651], [101.628446, 3.205957], [101.628787, 3.205841], [101.630804, 3.208278], [101.630936, 3.208613], [101.630298, 3.210813], [101.629977, 3.210975], [101.629543, 3.210898], [101.629534, 3.210892], [101.625677, 3.208398], [101.625471, 3.208103], [101.62599, 3.207651]]], &quot;type&quot;: &quot;Polygon&quot;}, &quot;id&quot;: &quot;503&quot;, &quot;properties&quot;: {&quot;area&quot;: 1.5274568499998582e-05, &quot;center&quot;: &quot;[101.6286093, 3.2079559]&quot;, &quot;isochrone_id&quot;: 209300, &quot;reachfactor&quot;: 0.5414, &quot;station_id&quot;: &quot;209&quot;, &quot;total_pop&quot;: 1155.0, &quot;type&quot;: &quot;Polygon&quot;, &quot;value&quot;: 300}, &quot;type&quot;: &quot;Feature&quot;}, {&quot;bbox&quot;: [101.636028, 3.210894, 101.643335, 3.217901], &quot;geometry&quot;: {&quot;coordinates&quot;: [[[101.6432402486015, 3.214051305066458], [101.64325, 3.214028], [101.643335, 3.213817], [101.64322, 3.213476], [101.640403, 3.210902], [101.640043, 3.210894], [101.636868, 3.212979], [101.636376, 3.213318], [101.636103, 3.213551], [101.636028, 3.213903], [101.636144, 3.214074], [101.6371573258347, 3.215291052770688], [101.637298, 3.215651], [101.638495, 3.21728], [101.639288, 3.21777], [101.639511, 3.217901], [101.639511, 3.2179], [101.640412, 3.217603], [101.641047, 3.217371], [101.642649, 3.215883], [101.643245, 3.214692], [101.643287, 3.214507], [101.643279, 3.214384], [101.6432402486015, 3.214051305066458]]], &quot;type&quot;: &quot;Polygon&quot;}, &quot;id&quot;: &quot;506&quot;, &quot;properties&quot;: {&quot;area&quot;: 3.148056485562104e-05, &quot;center&quot;: &quot;[101.6396741, 3.2140816]&quot;, &quot;isochrone_id&quot;: 210300, &quot;reachfactor&quot;: 0.9137, &quot;station_id&quot;: &quot;210&quot;, &quot;total_pop&quot;: 4079.5, &quot;type&quot;: &quot;Polygon&quot;, &quot;value&quot;: 300}, &quot;type&quot;: &quot;Feature&quot;}, {&quot;bbox&quot;: [101.645376, 3.207181, 101.652181, 3.21433], &quot;geometry&quot;: {&quot;coordinates&quot;: [[[101.6503518443275, 3.209763974771507], [101.649749, 3.208783], [101.649114, 3.208157], [101.648525, 3.207648], [101.647678, 3.207183], [101.647318, 3.207181], [101.64571, 3.208092], [101.645461, 3.208352], [101.645389, 3.209052], [101.645376, 3.209866], [101.645473, 3.211075], [101.645495, 3.211111], [101.6459931707834, 3.211916731474613], [101.645844, 3.212588], [101.646029, 3.212897], [101.646262, 3.213163], [101.6468, 3.213756], [101.647316, 3.213934], [101.64876, 3.21433], [101.64912, 3.214323], [101.6499896966763, 3.213270160357169], [101.65084, 3.212329], [101.6509164454876, 3.212148254393684], [101.650991, 3.212058], [101.652181, 3.210683], [101.652132, 3.210549], [101.651848, 3.210259], [101.6503518443275, 3.209763974771507]]], &quot;type&quot;: &quot;Polygon&quot;}, &quot;id&quot;: &quot;507&quot;, &quot;properties&quot;: {&quot;area&quot;: 3.074189867344965e-05, &quot;center&quot;: &quot;[101.6489876562168, 3.2113975506490746]&quot;, &quot;isochrone_id&quot;: 211300, &quot;reachfactor&quot;: 0.8076, &quot;station_id&quot;: &quot;211&quot;, &quot;total_pop&quot;: 2022.66666666667, &quot;type&quot;: &quot;Polygon&quot;, &quot;value&quot;: 300}, &quot;type&quot;: &quot;Feature&quot;}, {&quot;bbox&quot;: [101.652285, 3.20531, 101.659489, 3.212515], &quot;geometry&quot;: {&quot;coordinates&quot;: [[[101.6584452627875, 3.208184749777372], [101.657104, 3.205468], [101.657019, 3.205349], [101.656942, 3.205336], [101.656657, 3.20531], [101.652695, 3.208174], [101.6526944006401, 3.20817448761481], [101.652601, 3.208199], [101.652505, 3.208295], [101.652285, 3.208721], [101.653335, 3.210829], [101.653857, 3.211577], [101.656965, 3.212515], [101.656982, 3.212515], [101.657154, 3.212345], [101.657701, 3.211808], [101.65859, 3.210871], [101.659066, 3.210327], [101.659489, 3.208649], [101.659268, 3.208365], [101.6584452627875, 3.208184749777372]]], &quot;type&quot;: &quot;Polygon&quot;}, &quot;id&quot;: &quot;509&quot;, &quot;properties&quot;: {&quot;area&quot;: 3.126957846269988e-05, &quot;center&quot;: &quot;[101.65590444196977, 3.209315536206359]&quot;, &quot;isochrone_id&quot;: 212300, &quot;reachfactor&quot;: 0.7875666666666667, &quot;station_id&quot;: &quot;212&quot;, &quot;total_pop&quot;: 2899.66666666667, &quot;type&quot;: &quot;Polygon&quot;, &quot;value&quot;: 300}, &quot;type&quot;: &quot;Feature&quot;}, {&quot;bbox&quot;: [101.662259, 3.202141, 101.669474, 3.209339], &quot;geometry&quot;: {&quot;coordinates&quot;: [[[101.6687360672778, 3.20420138911975], [101.668741, 3.204106], [101.667813, 3.202348], [101.667777, 3.202329], [101.664853, 3.202141], [101.664569, 3.202361], [101.664187, 3.202763], [101.663261, 3.205887], [101.663418, 3.20621], [101.66354763911, 3.206432135442963], [101.6632035669298, 3.206841359039602], [101.662417, 3.207439], [101.66238, 3.207505], [101.662259, 3.207802], [101.662282, 3.208161], [101.663698, 3.209339], [101.664058, 3.209327], [101.6662677426677, 3.207595599306783], [101.668835, 3.20635], [101.669398, 3.206018], [101.669474, 3.205861], [101.669422, 3.205686], [101.668871, 3.204328], [101.6687360672778, 3.20420138911975]]], &quot;type&quot;: &quot;Polygon&quot;}, &quot;id&quot;: &quot;512&quot;, &quot;properties&quot;: {&quot;area&quot;: 3.0280562997968298e-05, &quot;center&quot;: &quot;[101.666548, 3.2054264]&quot;, &quot;isochrone_id&quot;: 213300, &quot;reachfactor&quot;: 0.6622, &quot;station_id&quot;: &quot;213&quot;, &quot;total_pop&quot;: 2823.0, &quot;type&quot;: &quot;Polygon&quot;, &quot;value&quot;: 300}, &quot;type&quot;: &quot;Feature&quot;}, {&quot;bbox&quot;: [101.673296, 3.20251, 101.678023, 3.208442], &quot;geometry&quot;: {&quot;coordinates&quot;: [[[101.673412, 3.204992], [101.673465, 3.204854], [101.673874, 3.204037], [101.674326, 3.203389], [101.674917, 3.20266], [101.67502, 3.202582], [101.675204, 3.20251], [101.677457, 3.202679], [101.677731, 3.202912], [101.678021, 3.204417], [101.678023, 3.204662], [101.677879, 3.205182], [101.677553, 3.206305], [101.67745, 3.206432], [101.677211, 3.206701], [101.675816, 3.20782], [101.675111, 3.208296], [101.674897, 3.208442], [101.674539, 3.208408], [101.673296, 3.206942], [101.673412, 3.204992]]], &quot;type&quot;: &quot;Polygon&quot;}, &quot;id&quot;: &quot;514&quot;, &quot;properties&quot;: {&quot;area&quot;: 2.03042840000242e-05, &quot;center&quot;: &quot;[101.6755411, 3.2051788]&quot;, &quot;isochrone_id&quot;: 214300, &quot;reachfactor&quot;: 0.7197, &quot;station_id&quot;: &quot;214&quot;, &quot;total_pop&quot;: 4064.0, &quot;type&quot;: &quot;Polygon&quot;, &quot;value&quot;: 300}, &quot;type&quot;: &quot;Feature&quot;}, {&quot;bbox&quot;: [101.676618, 3.190019, 101.682315, 3.199743], &quot;geometry&quot;: {&quot;coordinates&quot;: [[[101.6810798107158, 3.193803897984115], [101.680535, 3.190632], [101.680159, 3.190059], [101.679801, 3.190019], [101.679515, 3.190443], [101.6781722296627, 3.19384459853035], [101.676811, 3.19485], [101.676618, 3.195154], [101.676688, 3.195476], [101.676786, 3.195931], [101.677284, 3.198099], [101.677752, 3.199385], [101.67787, 3.199536], [101.678182, 3.199715], [101.678257, 3.199743], [101.678771, 3.199623], [101.678976, 3.199573], [101.679439, 3.199394], [101.680437, 3.198865], [101.681189, 3.198158], [101.681797, 3.19743], [101.682049, 3.19704], [101.682173, 3.196553], [101.682315, 3.195532], [101.6823, 3.195477], [101.68223, 3.195367], [101.681081, 3.193805], [101.6810798107158, 3.193803897984115]]], &quot;type&quot;: &quot;Polygon&quot;}, &quot;id&quot;: &quot;517&quot;, &quot;properties&quot;: {&quot;area&quot;: 3.155913027613139e-05, &quot;center&quot;: &quot;[101.6792866, 3.1939803]&quot;, &quot;isochrone_id&quot;: 215300, &quot;reachfactor&quot;: 0.7587999999999999, &quot;station_id&quot;: &quot;215&quot;, &quot;total_pop&quot;: 2961.5, &quot;type&quot;: &quot;Polygon&quot;, &quot;value&quot;: 300}, &quot;type&quot;: &quot;Feature&quot;}, {&quot;bbox&quot;: [101.678825, 3.186177, 101.684341, 3.194206], &quot;geometry&quot;: {&quot;coordinates&quot;: [[[101.6832913912025, 3.188399572408632], [101.682717, 3.187144], [101.682231, 3.186177], [101.681875, 3.186225], [101.681541, 3.186353], [101.680409, 3.188436], [101.679806, 3.189977], [101.678851, 3.192563], [101.678825, 3.193015], [101.678828, 3.193049], [101.678998, 3.194004], [101.679233, 3.194206], [101.679591, 3.194171], [101.679717, 3.194039], [101.6804883977682, 3.192638750079324], [101.6810195895757, 3.192210477997258], [101.681701, 3.191907], [101.68342, 3.191232], [101.684277, 3.189733], [101.684341, 3.189379], [101.6832913912025, 3.188399572408632]]], &quot;type&quot;: &quot;Polygon&quot;}, &quot;id&quot;: &quot;518&quot;, &quot;properties&quot;: {&quot;area&quot;: 2.0742566955033067e-05, &quot;center&quot;: &quot;[101.6806186, 3.1897855]&quot;, &quot;isochrone_id&quot;: 216300, &quot;reachfactor&quot;: 0.5098, &quot;station_id&quot;: &quot;216&quot;, &quot;total_pop&quot;: 1895.33333333333, &quot;type&quot;: &quot;Polygon&quot;, &quot;value&quot;: 300}, &quot;type&quot;: &quot;Feature&quot;}, {&quot;bbox&quot;: [101.681221, 3.17588, 101.688236, 3.182483], &quot;geometry&quot;: {&quot;coordinates&quot;: [[[101.687040310039, 3.179601551649987], [101.687719, 3.179195], [101.687947, 3.17867], [101.688054, 3.178215], [101.68817, 3.177549], [101.688236, 3.176409], [101.688, 3.176137], [101.685354, 3.17588], [101.6839, 3.176052], [101.6831264639977, 3.17719320093109], [101.68296, 3.177201], [101.682795, 3.177203], [101.682242, 3.17721], [101.682118, 3.177237], [101.681858, 3.177486], [101.681238, 3.180618], [101.681221, 3.181296], [101.681608, 3.182362], [101.681947, 3.182483], [101.683952, 3.182344], [101.684888, 3.181767], [101.686963, 3.179978], [101.687040310039, 3.179601551649987]]], &quot;type&quot;: &quot;Polygon&quot;}, &quot;id&quot;: &quot;521&quot;, &quot;properties&quot;: {&quot;area&quot;: 3.281665189970498e-05, &quot;center&quot;: &quot;[101.68522733320454, 3.1785792296920974]&quot;, &quot;isochrone_id&quot;: 217300, &quot;reachfactor&quot;: 0.8896999999999999, &quot;station_id&quot;: &quot;217&quot;, &quot;total_pop&quot;: 3025.0, &quot;type&quot;: &quot;Polygon&quot;, &quot;value&quot;: 300}, &quot;type&quot;: &quot;Feature&quot;}, {&quot;bbox&quot;: [101.692726, 3.170437, 101.700653, 3.176918], &quot;geometry&quot;: {&quot;coordinates&quot;: [[[101.6977692569808, 3.172368131460493], [101.6975, 3.172044], [101.696054, 3.170718], [101.695493, 3.170437], [101.695147, 3.170483], [101.692805, 3.171868], [101.692779, 3.171914], [101.69273, 3.172132], [101.692726, 3.172172], [101.692753, 3.172283], [101.692921, 3.172858], [101.693739, 3.175732], [101.694063, 3.176093], [101.694206, 3.176155], [101.696146, 3.17654], [101.6965463163265, 3.176428343948848], [101.696982, 3.176566], [101.698343, 3.17689], [101.698744, 3.176918], [101.700138, 3.175976], [101.700246, 3.175608], [101.700653, 3.174126], [101.700568, 3.173915], [101.700423, 3.173585], [101.699412, 3.172811], [101.699214, 3.172704], [101.6977692569808, 3.172368131460493]]], &quot;type&quot;: &quot;Polygon&quot;}, &quot;id&quot;: &quot;524&quot;, &quot;properties&quot;: {&quot;area&quot;: 3.3743492300423116e-05, &quot;center&quot;: &quot;[101.6958928, 3.1737287]&quot;, &quot;isochrone_id&quot;: 218300, &quot;reachfactor&quot;: 0.9027, &quot;station_id&quot;: &quot;218&quot;, &quot;total_pop&quot;: 2974.0, &quot;type&quot;: &quot;Polygon&quot;, &quot;value&quot;: 300}, &quot;type&quot;: &quot;Feature&quot;}, {&quot;bbox&quot;: [101.698312, 3.170535, 101.705799, 3.177644], &quot;geometry&quot;: {&quot;coordinates&quot;: [[[101.7038866234861, 3.17234361532315], [101.703928, 3.171754], [101.703927, 3.171731], [101.703757, 3.171494], [101.703485, 3.171225], [101.702885, 3.170646], [101.702732, 3.170613], [101.699556, 3.170535], [101.698919, 3.17059], [101.698572, 3.170686], [101.698513, 3.170711], [101.69844, 3.170745], [101.698312, 3.172554], [101.698977, 3.173431], [101.699445, 3.17372], [101.6995037760444, 3.1737520255591], [101.699505, 3.173795], [101.699577, 3.174878], [101.700519, 3.176381], [101.702632, 3.177643], [101.702634, 3.177644], [101.702781, 3.177636], [101.703428, 3.177419], [101.70502, 3.175687], [101.705799, 3.172946], [101.705716, 3.172596], [101.7038866234861, 3.17234361532315]]], &quot;type&quot;: &quot;Polygon&quot;}, &quot;id&quot;: &quot;527&quot;, &quot;properties&quot;: {&quot;area&quot;: 3.544780755385743e-05, &quot;center&quot;: &quot;[101.70066779193307, 3.173111720746867]&quot;, &quot;isochrone_id&quot;: 219300, &quot;reachfactor&quot;: 0.8148, &quot;station_id&quot;: &quot;219&quot;, &quot;total_pop&quot;: 2103.0, &quot;type&quot;: &quot;Polygon&quot;, &quot;value&quot;: 300}, &quot;type&quot;: &quot;Feature&quot;}, {&quot;bbox&quot;: [101.705929, 3.164988, 101.715611, 3.170334], &quot;geometry&quot;: {&quot;coordinates&quot;: [[[101.7105216408281, 3.170270099312336], [101.712197, 3.170136], [101.7145, 3.169657], [101.715434, 3.16908], [101.715446, 3.169071], [101.715611, 3.16884], [101.715554, 3.167222], [101.715285, 3.16587], [101.715195, 3.165585], [101.714889, 3.165394], [101.713989, 3.164988], [101.712556, 3.165008], [101.710696, 3.165435], [101.7106581292315, 3.165480513667861], [101.710275, 3.165278], [101.70909, 3.165067], [101.708732, 3.165098], [101.707632, 3.166229], [101.706065, 3.167789], [101.705941, 3.167917], [101.705929, 3.168019], [101.706079, 3.168177], [101.706653, 3.168528], [101.709341, 3.170283], [101.710247, 3.170334], [101.710445, 3.170324], [101.7105216408281, 3.170270099312336]]], &quot;type&quot;: &quot;Polygon&quot;}, &quot;id&quot;: &quot;529&quot;, &quot;properties&quot;: {&quot;area&quot;: 3.922813575302454e-05, &quot;center&quot;: &quot;[101.7099028, 3.1677539]&quot;, &quot;isochrone_id&quot;: 220300, &quot;reachfactor&quot;: 0.91364, &quot;station_id&quot;: &quot;220&quot;, &quot;total_pop&quot;: 2458.8, &quot;type&quot;: &quot;Polygon&quot;, &quot;value&quot;: 300}, &quot;type&quot;: &quot;Feature&quot;}, {&quot;bbox&quot;: [101.715139, 3.15947, 101.720475, 3.164884], &quot;geometry&quot;: {&quot;coordinates&quot;: [[[101.715346, 3.160077], [101.715368, 3.160221], [101.7157234763484, 3.162076742221479], [101.715139, 3.163335], [101.71515, 3.163505], [101.715344, 3.164671], [101.715354, 3.164708], [101.715668, 3.164884], [101.715882, 3.164866], [101.716633, 3.164466], [101.718784, 3.163061], [101.718828, 3.163034], [101.719316, 3.162592], [101.71953, 3.162302], [101.720277, 3.161038], [101.7202840440968, 3.160910814919545], [101.720475, 3.160587], [101.720429, 3.160157], [101.720416, 3.16013], [101.720346, 3.159992], [101.72028, 3.159886], [101.720183, 3.159815], [101.719945, 3.159653], [101.718498, 3.15947], [101.718494, 3.15947], [101.715614, 3.159864], [101.715385, 3.160014], [101.715346, 3.160077]]], &quot;type&quot;: &quot;Polygon&quot;}, &quot;id&quot;: &quot;531&quot;, &quot;properties&quot;: {&quot;area&quot;: 1.895069846211002e-05, &quot;center&quot;: &quot;[101.7181623209893, 3.1625901429900667]&quot;, &quot;isochrone_id&quot;: 221300, &quot;reachfactor&quot;: 0.55685, &quot;station_id&quot;: &quot;221&quot;, &quot;total_pop&quot;: 2815.5, &quot;type&quot;: &quot;Polygon&quot;, &quot;value&quot;: 300}, &quot;type&quot;: &quot;Feature&quot;}, {&quot;bbox&quot;: [101.71503, 3.153772, 101.721155, 3.16049], &quot;geometry&quot;: {&quot;coordinates&quot;: [[[101.715995, 3.155964], [101.715685, 3.156518], [101.71503, 3.158313], [101.716051, 3.159737], [101.717486, 3.16049], [101.719524, 3.160232], [101.719666, 3.160146], [101.719801, 3.160056], [101.720588, 3.15929], [101.721155, 3.157135], [101.720918, 3.155963], [101.71838, 3.153772], [101.71802, 3.15379], [101.717625, 3.154067], [101.715995, 3.155964]]], &quot;type&quot;: &quot;Polygon&quot;}, &quot;id&quot;: &quot;534&quot;, &quot;properties&quot;: {&quot;area&quot;: 2.8136854000010675e-05, &quot;center&quot;: &quot;[101.71836428709463, 3.1574125016889565]&quot;, &quot;isochrone_id&quot;: 222300, &quot;reachfactor&quot;: 0.945475, &quot;station_id&quot;: &quot;222&quot;, &quot;total_pop&quot;: 4825.25, &quot;type&quot;: &quot;Polygon&quot;, &quot;value&quot;: 300}, &quot;type&quot;: &quot;Feature&quot;}, {&quot;bbox&quot;: [101.716217, 3.139785, 101.722042, 3.146452], &quot;geometry&quot;: {&quot;coordinates&quot;: [[[101.721995, 3.144832], [101.722042, 3.143908], [101.722042, 3.143907], [101.7220269648704, 3.143869068235185], [101.722034, 3.143802], [101.722022, 3.143774], [101.7218016222845, 3.143321094466867], [101.7218016222845, 3.143321094466795], [101.72027, 3.139817], [101.719777, 3.139785], [101.717916, 3.140569], [101.717834, 3.140614], [101.717789, 3.14073], [101.717059733652, 3.142522620682606], [101.716306, 3.14366], [101.716217, 3.144089], [101.716483, 3.144794], [101.71664, 3.145118], [101.718732, 3.145863], [101.720615, 3.146452], [101.720962, 3.146356], [101.7216071084591, 3.145241841194832], [101.721995, 3.144832]]], &quot;type&quot;: &quot;Polygon&quot;}, &quot;id&quot;: &quot;536&quot;, &quot;properties&quot;: {&quot;area&quot;: 2.5729699906329535e-05, &quot;center&quot;: &quot;[101.7197635, 3.1431359]&quot;, &quot;isochrone_id&quot;: 224300, &quot;reachfactor&quot;: 0.8201222222222222, &quot;station_id&quot;: &quot;224&quot;, &quot;total_pop&quot;: 2455.0, &quot;type&quot;: &quot;Polygon&quot;, &quot;value&quot;: 300}, &quot;type&quot;: &quot;Feature&quot;}, {&quot;bbox&quot;: [101.712118, 3.124434, 101.718627, 3.13121], &quot;geometry&quot;: {&quot;coordinates&quot;: [[[101.713756, 3.124443], [101.712118, 3.127577], [101.712353, 3.128551], [101.712355, 3.128554], [101.713059, 3.129498], [101.7133511405165, 3.129590379193276], [101.713762, 3.130077], [101.713915, 3.130225], [101.714062, 3.130276], [101.7166635937083, 3.130874067519159], [101.717325, 3.13121], [101.7175507587569, 3.131077737293957], [101.717657, 3.131102], [101.717812, 3.130974], [101.7178966219893, 3.1308751103497], [101.718018, 3.130804], [101.718135, 3.130712], [101.718627, 3.130268], [101.716482, 3.126134], [101.7163719228617, 3.126094223217506], [101.7163719228617, 3.126094223217506], [101.716316, 3.126012], [101.7158003538151, 3.125887684620956], [101.7152590864982, 3.125692095666925], [101.715143, 3.125469], [101.714074, 3.124451], [101.713768, 3.124434], [101.713756, 3.124443]]], &quot;type&quot;: &quot;Polygon&quot;}, &quot;id&quot;: &quot;539&quot;, &quot;properties&quot;: {&quot;area&quot;: 2.5023239821368274e-05, &quot;center&quot;: &quot;[101.715929, 3.1288204]&quot;, &quot;isochrone_id&quot;: 225300, &quot;reachfactor&quot;: 0.498475, &quot;station_id&quot;: &quot;225&quot;, &quot;total_pop&quot;: 1055.5, &quot;type&quot;: &quot;Polygon&quot;, &quot;value&quot;: 300}, &quot;type&quot;: &quot;Feature&quot;}, {&quot;bbox&quot;: [101.69137, 3.086793, 101.695449, 3.091773], &quot;geometry&quot;: {&quot;coordinates&quot;: [[[101.691674, 3.088231], [101.691861, 3.087984], [101.693829, 3.086796], [101.693924, 3.086793], [101.694068, 3.086839], [101.694181, 3.086952], [101.695441, 3.089823], [101.695443, 3.089898], [101.695449, 3.090109], [101.695033, 3.090753], [101.691595, 3.091773], [101.69137, 3.091492], [101.691674, 3.088231]]], &quot;type&quot;: &quot;Polygon&quot;}, &quot;id&quot;: &quot;542&quot;, &quot;properties&quot;: {&quot;area&quot;: 1.3567118999979672e-05, &quot;center&quot;: &quot;[101.6938877, 3.0896471]&quot;, &quot;isochrone_id&quot;: 226300, &quot;reachfactor&quot;: 0.481, &quot;station_id&quot;: &quot;226&quot;, &quot;total_pop&quot;: 971.0, &quot;type&quot;: &quot;Polygon&quot;, &quot;value&quot;: 300}, &quot;type&quot;: &quot;Feature&quot;}, {&quot;bbox&quot;: [101.696648, 3.074015, 101.702276, 3.080636], &quot;geometry&quot;: {&quot;coordinates&quot;: [[[101.696648, 3.077026], [101.698307, 3.076388], [101.701961, 3.074015], [101.702276, 3.074189], [101.702182, 3.074359], [101.702087, 3.074529], [101.701905, 3.074822], [101.701737, 3.075023], [101.699019, 3.080316], [101.698855, 3.080636], [101.698702, 3.0806], [101.698368, 3.080466], [101.697371, 3.07882], [101.696692, 3.077384], [101.696648, 3.077026]]], &quot;type&quot;: &quot;Polygon&quot;}, &quot;id&quot;: &quot;545&quot;, &quot;properties&quot;: {&quot;area&quot;: 1.4215222999999418e-05, &quot;center&quot;: &quot;[101.6996604, 3.0771713]&quot;, &quot;isochrone_id&quot;: 227300, &quot;reachfactor&quot;: 0.5039, &quot;station_id&quot;: &quot;227&quot;, &quot;total_pop&quot;: 1308.0, &quot;type&quot;: &quot;Polygon&quot;, &quot;value&quot;: 300}, &quot;type&quot;: &quot;Feature&quot;}, {&quot;bbox&quot;: [101.705195, 3.060582, 101.711504, 3.067058], &quot;geometry&quot;: {&quot;coordinates&quot;: [[[101.706133, 3.061789], [101.705195, 3.062612], [101.70521, 3.062971], [101.706267, 3.063795], [101.707363, 3.063829], [101.7079639384897, 3.062980149592072], [101.708234, 3.065913], [101.708381, 3.067058], [101.709328, 3.067027], [101.711499, 3.064649], [101.711504, 3.064642], [101.71141, 3.06261], [101.711083, 3.061954], [101.710486, 3.060865], [101.710241, 3.060602], [101.709769, 3.060582], [101.709358, 3.060821], [101.708683, 3.061422], [101.707927, 3.062579], [101.7079465319793, 3.062791116023239], [101.707927, 3.062633], [101.706133, 3.061789]]], &quot;type&quot;: &quot;Polygon&quot;}, &quot;id&quot;: &quot;547&quot;, &quot;properties&quot;: {&quot;area&quot;: 2.0386087377624502e-05, &quot;center&quot;: &quot;[101.70876110625909, 3.0636527536050218]&quot;, &quot;isochrone_id&quot;: 228300, &quot;reachfactor&quot;: 0.36135, &quot;station_id&quot;: &quot;228&quot;, &quot;total_pop&quot;: 996.5, &quot;type&quot;: &quot;Polygon&quot;, &quot;value&quot;: 300}, &quot;type&quot;: &quot;Feature&quot;}, {&quot;bbox&quot;: [101.703017, 3.037722, 101.707697, 3.046955], &quot;geometry&quot;: {&quot;coordinates&quot;: [[[101.7056602324812, 3.040806481943683], [101.705128, 3.037799], [101.704776, 3.037722], [101.703469, 3.038878], [101.703363, 3.040061], [101.703017, 3.043312], [101.703089, 3.043436], [101.703519, 3.044056], [101.704275, 3.045125], [101.704469, 3.045349], [101.704829, 3.045364], [101.704921, 3.045323], [101.7050891231444, 3.04521121599442], [101.705411, 3.046779], [101.705582, 3.046954], [101.705591, 3.046955], [101.706677, 3.046074], [101.706832, 3.045908], [101.707677, 3.042575], [101.707697, 3.042475], [101.707635, 3.042268], [101.7056602324812, 3.040806481943683]]], &quot;type&quot;: &quot;Polygon&quot;}, &quot;id&quot;: &quot;548&quot;, &quot;properties&quot;: {&quot;area&quot;: 2.412122213233037e-05, &quot;center&quot;: &quot;[101.7047318, 3.0416764]&quot;, &quot;isochrone_id&quot;: 229300, &quot;reachfactor&quot;: 0.5302, &quot;station_id&quot;: &quot;229&quot;, &quot;total_pop&quot;: 3339.0, &quot;type&quot;: &quot;Polygon&quot;, &quot;value&quot;: 300}, &quot;type&quot;: &quot;Feature&quot;}, {&quot;bbox&quot;: [101.705266, 3.025688, 101.710489, 3.032619], &quot;geometry&quot;: {&quot;coordinates&quot;: [[[101.7058360296433, 3.028563605836221], [101.705455, 3.029641], [101.705266, 3.030436], [101.705377, 3.031654], [101.705533, 3.032337], [101.705891, 3.03238], [101.7069730215944, 3.031931501736579], [101.70767, 3.03255], [101.707787, 3.032619], [101.708605, 3.032215], [101.709913, 3.030088], [101.710489, 3.028973], [101.710341, 3.027416], [101.710129, 3.027243], [101.709917, 3.02707], [101.7098354551693, 3.027038091153217], [101.709856, 3.026731], [101.709737, 3.02659], [101.709617, 3.026449], [101.708718, 3.025688], [101.708401, 3.025729], [101.708344, 3.025739], [101.707154, 3.026406], [101.706876, 3.026635], [101.7063722210644, 3.027475287521493], [101.706233, 3.027527], [101.706196, 3.027566], [101.705986, 3.028082], [101.7058360296433, 3.028563605836221]]], &quot;type&quot;: &quot;Polygon&quot;}, &quot;id&quot;: &quot;551&quot;, &quot;properties&quot;: {&quot;area&quot;: 2.4853149840855382e-05, &quot;center&quot;: &quot;[101.7072341, 3.0285907]&quot;, &quot;isochrone_id&quot;: 230300, &quot;reachfactor&quot;: 0.73675, &quot;station_id&quot;: &quot;230&quot;, &quot;total_pop&quot;: 2764.5, &quot;type&quot;: &quot;Polygon&quot;, &quot;value&quot;: 300}, &quot;type&quot;: &quot;Feature&quot;}, {&quot;bbox&quot;: [101.705819, 3.018043, 101.711021, 3.025112], &quot;geometry&quot;: {&quot;coordinates&quot;: [[[101.7083833678816, 3.025079762528484], [101.708387, 3.025084], [101.708517, 3.025112], [101.709094, 3.024705], [101.709596, 3.023645], [101.711021, 3.019961], [101.710688, 3.018347], [101.710599, 3.018144], [101.710437, 3.01809], [101.710105, 3.018043], [101.709775, 3.018186], [101.7094893859611, 3.01838775858968], [101.709035, 3.018508], [101.708616, 3.018619], [101.706762, 3.019563], [101.706049, 3.020422], [101.705834, 3.02071], [101.705819, 3.02234], [101.706064, 3.022958], [101.7083833678816, 3.025079762528484]]], &quot;type&quot;: &quot;Polygon&quot;}, &quot;id&quot;: &quot;554&quot;, &quot;properties&quot;: {&quot;area&quot;: 2.349836330083126e-05, &quot;center&quot;: &quot;[101.7090959, 3.0213387]&quot;, &quot;isochrone_id&quot;: 231300, &quot;reachfactor&quot;: 0.7188500000000001, &quot;station_id&quot;: &quot;231&quot;, &quot;total_pop&quot;: 2665.0, &quot;type&quot;: &quot;Polygon&quot;, &quot;value&quot;: 300}, &quot;type&quot;: &quot;Feature&quot;}, {&quot;bbox&quot;: [101.7025, 3.006184, 101.709796, 3.010031], &quot;geometry&quot;: {&quot;coordinates&quot;: [[[101.706806, 3.0062], [101.7025, 3.008461], [101.702519, 3.009203], [101.702526, 3.009208], [101.703531, 3.010031], [101.704106, 3.010003], [101.70468, 3.009974], [101.707738, 3.009828], [101.708469, 3.009595], [101.709696, 3.009086], [101.709796, 3.00874], [101.707166, 3.006184], [101.706806, 3.0062]]], &quot;type&quot;: &quot;Polygon&quot;}, &quot;id&quot;: &quot;556&quot;, &quot;properties&quot;: {&quot;area&quot;: 1.7702162999991726e-05, &quot;center&quot;: &quot;[101.706199, 3.0086059]&quot;, &quot;isochrone_id&quot;: 232300, &quot;reachfactor&quot;: 0.6276, &quot;station_id&quot;: &quot;232&quot;, &quot;total_pop&quot;: 1026.0, &quot;type&quot;: &quot;Polygon&quot;, &quot;value&quot;: 300}, &quot;type&quot;: &quot;Feature&quot;}, {&quot;bbox&quot;: [101.669729, 2.986567, 101.675047, 2.992787], &quot;geometry&quot;: {&quot;coordinates&quot;: [[[101.670421, 2.986626], [101.670131, 2.986839], [101.6702468377104, 2.987330343058521], [101.669729, 2.988014], [101.669845, 2.988355], [101.671964, 2.990295], [101.674564, 2.992768], [101.674923, 2.992787], [101.675035, 2.992519], [101.6746711330626, 2.991158933982707], [101.674787, 2.990881], [101.674923, 2.989702], [101.674996, 2.989082], [101.675047, 2.988288], [101.674129, 2.986854], [101.672005, 2.986567], [101.670421, 2.986626]]], &quot;type&quot;: &quot;Polygon&quot;}, &quot;id&quot;: &quot;558&quot;, &quot;properties&quot;: {&quot;area&quot;: 1.943564305478819e-05, &quot;center&quot;: &quot;[101.67240783331845, 2.9898652489717246]&quot;, &quot;isochrone_id&quot;: 233300, &quot;reachfactor&quot;: 0.5478, &quot;station_id&quot;: &quot;233&quot;, &quot;total_pop&quot;: 2393.5, &quot;type&quot;: &quot;Polygon&quot;, &quot;value&quot;: 300}, &quot;type&quot;: &quot;Feature&quot;}, {&quot;bbox&quot;: [101.658097, 2.980251, 101.664153, 2.986967], &quot;geometry&quot;: {&quot;coordinates&quot;: [[[101.661775, 2.980251], [101.658406, 2.98131], [101.658097, 2.981493], [101.6590511583693, 2.983720066248493], [101.659803, 2.986931], [101.660161, 2.986967], [101.660953, 2.986092], [101.6616184147325, 2.985346560101945], [101.663297, 2.98479], [101.66415, 2.983446], [101.664153, 2.983198], [101.664117, 2.982085], [101.663506, 2.981518], [101.662461, 2.980593], [101.661881, 2.980253], [101.661775, 2.980251]]], &quot;type&quot;: &quot;Polygon&quot;}, &quot;id&quot;: &quot;560&quot;, &quot;properties&quot;: {&quot;area&quot;: 2.435253433433804e-05, &quot;center&quot;: &quot;[101.66123100649843, 2.983313904974272]&quot;, &quot;isochrone_id&quot;: 234300, &quot;reachfactor&quot;: 0.7087499999999999, &quot;station_id&quot;: &quot;234&quot;, &quot;total_pop&quot;: 1343.5, &quot;type&quot;: &quot;Polygon&quot;, &quot;value&quot;: 300}, &quot;type&quot;: &quot;Feature&quot;}, {&quot;bbox&quot;: [101.652568, 2.961444, 101.655134, 2.968692], &quot;geometry&quot;: {&quot;coordinates&quot;: [[[101.653815, 2.961618], [101.652571, 2.966535], [101.652568, 2.966895], [101.654692, 2.968692], [101.655046, 2.968628], [101.655134, 2.965981], [101.65512, 2.965216], [101.655105, 2.964452], [101.655044, 2.964178], [101.65437, 2.961978], [101.654245, 2.961651], [101.65413, 2.961444], [101.653815, 2.961618]]], &quot;type&quot;: &quot;Polygon&quot;}, &quot;id&quot;: &quot;563&quot;, &quot;properties&quot;: {&quot;area&quot;: 1.1794803000038742e-05, &quot;center&quot;: &quot;[101.6545593, 2.9650184]&quot;, &quot;isochrone_id&quot;: 235300, &quot;reachfactor&quot;: 0.4181, &quot;station_id&quot;: &quot;235&quot;, &quot;total_pop&quot;: 52.0, &quot;type&quot;: &quot;Polygon&quot;, &quot;value&quot;: 300}, &quot;type&quot;: &quot;Feature&quot;}, {&quot;bbox&quot;: [101.654677, 2.948077, 101.658047, 2.953123], &quot;geometry&quot;: {&quot;coordinates&quot;: [[[101.658047, 2.948077], [101.655752, 2.948799], [101.654677, 2.951534], [101.655989, 2.953111], [101.656349, 2.953123], [101.656536, 2.953074], [101.657954, 2.94847], [101.658047, 2.948077]]], &quot;type&quot;: &quot;Polygon&quot;}, &quot;id&quot;: &quot;566&quot;, &quot;properties&quot;: {&quot;area&quot;: 9.088593499985518e-06, &quot;center&quot;: &quot;[101.657258, 2.9497304]&quot;, &quot;isochrone_id&quot;: 236300, &quot;reachfactor&quot;: 0.3223, &quot;station_id&quot;: &quot;236&quot;, &quot;total_pop&quot;: 42.0, &quot;type&quot;: &quot;Polygon&quot;, &quot;value&quot;: 300}, &quot;type&quot;: &quot;Feature&quot;}, {&quot;bbox&quot;: [101.663679, 2.937132, 101.666141, 2.941269], &quot;geometry&quot;: {&quot;coordinates&quot;: [[[101.663679, 2.937389], [101.663763, 2.937192], [101.663932, 2.937132], [101.664122, 2.937213], [101.665725, 2.938516], [101.665989, 2.938779], [101.666141, 2.939821], [101.665763, 2.94033], [101.665376, 2.940851], [101.665193, 2.94106], [101.665011, 2.941269], [101.66474, 2.941032], [101.664219, 2.940395], [101.663679, 2.937389]]], &quot;type&quot;: &quot;Polygon&quot;}, &quot;id&quot;: &quot;568&quot;, &quot;properties&quot;: {&quot;area&quot;: 5.860168499986176e-06, &quot;center&quot;: &quot;[101.6654841084816, 2.9388427986209673]&quot;, &quot;isochrone_id&quot;: 237300, &quot;reachfactor&quot;: 0.2078, &quot;station_id&quot;: &quot;237&quot;, &quot;total_pop&quot;: 4.0, &quot;type&quot;: &quot;Polygon&quot;, &quot;value&quot;: 300}, &quot;type&quot;: &quot;Feature&quot;}, {&quot;bbox&quot;: [101.670212, 2.931216, 101.674193, 2.934995], &quot;geometry&quot;: {&quot;coordinates&quot;: [[[101.671625, 2.931216], [101.670592, 2.931421], [101.670212, 2.931816], [101.672532, 2.934974], [101.672891, 2.934995], [101.674144, 2.933657], [101.67417, 2.933549], [101.674193, 2.93319], [101.672888, 2.931532], [101.672672, 2.9314], [101.672471, 2.931337], [101.671625, 2.931216]]], &quot;type&quot;: &quot;Polygon&quot;}, &quot;id&quot;: &quot;569&quot;, &quot;properties&quot;: {&quot;area&quot;: 8.527700999990055e-06, &quot;center&quot;: &quot;[101.67171880976431, 2.9317396772321502]&quot;, &quot;isochrone_id&quot;: 238300, &quot;reachfactor&quot;: 0.3024, &quot;station_id&quot;: &quot;238&quot;, &quot;total_pop&quot;: 181.0, &quot;type&quot;: &quot;Polygon&quot;, &quot;value&quot;: 300}, &quot;type&quot;: &quot;Feature&quot;}, {&quot;bbox&quot;: [101.614945, 3.143097, 101.619464, 3.147439], &quot;geometry&quot;: {&quot;coordinates&quot;: [[[101.615426, 3.145712], [101.614946, 3.143917], [101.614945, 3.143725], [101.615038, 3.143377], [101.615404, 3.143097], [101.6176, 3.143808], [101.617679, 3.14384], [101.617951, 3.144035], [101.618223, 3.14423], [101.61823, 3.144235], [101.618591, 3.144521], [101.618953, 3.144807], [101.618997, 3.144858], [101.619028, 3.144912], [101.619464, 3.145928], [101.618948, 3.146723], [101.618055, 3.147439], [101.615781, 3.146029], [101.615467, 3.145852], [101.615426, 3.145712]]], &quot;type&quot;: &quot;Polygon&quot;}, &quot;id&quot;: &quot;572&quot;, &quot;properties&quot;: {&quot;area&quot;: 1.1698117499992468e-05, &quot;center&quot;: &quot;[101.61815636164052, 3.1444064445440905]&quot;, &quot;isochrone_id&quot;: 239300, &quot;reachfactor&quot;: 0.4147, &quot;station_id&quot;: &quot;239&quot;, &quot;total_pop&quot;: 2413.0, &quot;type&quot;: &quot;Polygon&quot;, &quot;value&quot;: 300}, &quot;type&quot;: &quot;Feature&quot;}, {&quot;bbox&quot;: [101.613694, 3.134309, 101.616572, 3.138031], &quot;geometry&quot;: {&quot;coordinates&quot;: [[[101.613694, 3.134634], [101.613854, 3.134531], [101.615058, 3.134343], [101.615417, 3.134309], [101.615471, 3.134353], [101.615631, 3.134505], [101.616449, 3.135799], [101.616572, 3.136448], [101.615934, 3.137963], [101.615581, 3.138031], [101.615416, 3.138019], [101.613697, 3.134716], [101.613694, 3.134634]]], &quot;type&quot;: &quot;Polygon&quot;}, &quot;id&quot;: &quot;575&quot;, &quot;properties&quot;: {&quot;area&quot;: 6.165510000002759e-06, &quot;center&quot;: &quot;[101.6165172, 3.1356588]&quot;, &quot;isochrone_id&quot;: 240300, &quot;reachfactor&quot;: 0.2186, &quot;station_id&quot;: &quot;240&quot;, &quot;total_pop&quot;: 1101.0, &quot;type&quot;: &quot;Polygon&quot;, &quot;value&quot;: 300}, &quot;type&quot;: &quot;Feature&quot;}, {&quot;bbox&quot;: [101.601165, 3.133363, 101.606281, 3.134209], &quot;geometry&quot;: {&quot;coordinates&quot;: [[[101.601339, 3.133822], [101.603755, 3.133451], [101.603768, 3.133449], [101.604014, 3.13342], [101.604261, 3.13339], [101.604278, 3.133389], [101.604803, 3.133376], [101.605327, 3.133363], [101.606281, 3.133684], [101.605459, 3.133768], [101.602386, 3.134083], [101.602373, 3.134085], [101.602062, 3.134123], [101.601752, 3.13416], [101.601746, 3.134161], [101.601471, 3.134185], [101.601197, 3.134209], [101.601165, 3.13385], [101.601339, 3.133822]]], &quot;type&quot;: &quot;Polygon&quot;}, &quot;id&quot;: &quot;578&quot;, &quot;properties&quot;: {&quot;area&quot;: 2.0461034999987406e-06, &quot;center&quot;: &quot;[101.60491891426364, 3.1335532928059573]&quot;, &quot;isochrone_id&quot;: 241300, &quot;reachfactor&quot;: 0.0725, &quot;station_id&quot;: &quot;241&quot;, &quot;total_pop&quot;: 0.0, &quot;type&quot;: &quot;Polygon&quot;, &quot;value&quot;: 300}, &quot;type&quot;: &quot;Feature&quot;}, {&quot;bbox&quot;: [101.591413, 3.1187, 101.594731, 3.124763], &quot;geometry&quot;: {&quot;coordinates&quot;: [[[101.591413, 3.120615], [101.593037, 3.118709], [101.593397, 3.1187], [101.593862, 3.120593], [101.594731, 3.123765], [101.593419, 3.124763], [101.593061, 3.124722], [101.591427, 3.120873], [101.591413, 3.120615]]], &quot;type&quot;: &quot;Polygon&quot;}, &quot;id&quot;: &quot;581&quot;, &quot;properties&quot;: {&quot;area&quot;: 1.1159832499988885e-05, &quot;center&quot;: &quot;[101.59386122054842, 3.122615744371899]&quot;, &quot;isochrone_id&quot;: 242300, &quot;reachfactor&quot;: 0.3956, &quot;station_id&quot;: &quot;242&quot;, &quot;total_pop&quot;: 1310.0, &quot;type&quot;: &quot;Polygon&quot;, &quot;value&quot;: 300}, &quot;type&quot;: &quot;Feature&quot;}, {&quot;bbox&quot;: [101.586153, 3.09345, 101.59122, 3.096698], &quot;geometry&quot;: {&quot;coordinates&quot;: [[[101.586153, 3.093574], [101.586377, 3.09345], [101.590884, 3.093979], [101.59122, 3.094109], [101.591075, 3.094484], [101.59093, 3.094859], [101.590406, 3.096153], [101.590318, 3.096374], [101.59023, 3.096596], [101.589803, 3.096686], [101.589734, 3.096696], [101.589686, 3.096698], [101.589521, 3.096679], [101.589468, 3.096665], [101.589344, 3.09661], [101.589323, 3.096599], [101.589177, 3.096509], [101.589161, 3.096498], [101.588995, 3.096369], [101.588971, 3.096348], [101.58619, 3.093933], [101.586153, 3.093574]]], &quot;type&quot;: &quot;Polygon&quot;}, &quot;id&quot;: &quot;582&quot;, &quot;properties&quot;: {&quot;area&quot;: 9.174568500002603e-06, &quot;center&quot;: &quot;[101.58895442406303, 3.0960595364587657]&quot;, &quot;isochrone_id&quot;: 244300, &quot;reachfactor&quot;: 0.3252, &quot;station_id&quot;: &quot;244&quot;, &quot;total_pop&quot;: 365.0, &quot;type&quot;: &quot;Polygon&quot;, &quot;value&quot;: 300}, &quot;type&quot;: &quot;Feature&quot;}, {&quot;bbox&quot;: [101.589139, 3.102549, 101.594026, 3.108339], &quot;geometry&quot;: {&quot;coordinates&quot;: [[[101.589223, 3.104298], [101.589449, 3.104009], [101.591353, 3.102549], [101.591664, 3.102731], [101.593579, 3.104025], [101.593651, 3.104118], [101.594026, 3.104696], [101.594026, 3.105056], [101.593667, 3.108234], [101.593576, 3.108339], [101.593497, 3.108335], [101.593002, 3.108089], [101.589139, 3.105085], [101.589223, 3.104298]]], &quot;type&quot;: &quot;Polygon&quot;}, &quot;id&quot;: &quot;584&quot;, &quot;properties&quot;: {&quot;area&quot;: 1.649709449998507e-05, &quot;center&quot;: &quot;[101.5916379, 3.1062451]&quot;, &quot;isochrone_id&quot;: 243300, &quot;reachfactor&quot;: 0.5848, &quot;station_id&quot;: &quot;243&quot;, &quot;total_pop&quot;: 2548.0, &quot;type&quot;: &quot;Polygon&quot;, &quot;value&quot;: 300}, &quot;type&quot;: &quot;Feature&quot;}, {&quot;bbox&quot;: [101.558605, 3.08002, 101.566303, 3.084215], &quot;geometry&quot;: {&quot;coordinates&quot;: [[[101.558605, 3.08223], [101.558667, 3.082075], [101.558881, 3.081792], [101.559616, 3.08107], [101.559892, 3.080794], [101.560183, 3.080501], [101.560488, 3.080196], [101.560497, 3.080187], [101.560672, 3.08002], [101.560683, 3.08002], [101.563234, 3.080745], [101.566142, 3.081971], [101.566247, 3.082066], [101.566303, 3.082422], [101.564745, 3.083943], [101.564395, 3.084215], [101.564035, 3.084214], [101.559885, 3.083683], [101.558605, 3.08259], [101.558605, 3.08223]]], &quot;type&quot;: &quot;Polygon&quot;}, &quot;id&quot;: &quot;586&quot;, &quot;properties&quot;: {&quot;area&quot;: 2.0870760000002383e-05, &quot;center&quot;: &quot;[101.5624193534721, 3.082255548464464]&quot;, &quot;isochrone_id&quot;: 245300, &quot;reachfactor&quot;: 0.7399, &quot;station_id&quot;: &quot;245&quot;, &quot;total_pop&quot;: 1547.0, &quot;type&quot;: &quot;Polygon&quot;, &quot;value&quot;: 300}, &quot;type&quot;: &quot;Feature&quot;}, {&quot;bbox&quot;: [101.54377, 3.076042, 101.551451, 3.079911], &quot;geometry&quot;: {&quot;coordinates&quot;: [[[101.543818, 3.078378], [101.546338, 3.076661], [101.54922, 3.076103], [101.549575, 3.076042], [101.551451, 3.078513], [101.551396, 3.079587], [101.551316, 3.079873], [101.550959, 3.079911], [101.54542, 3.078956], [101.544561, 3.078954], [101.544257, 3.078912], [101.543953, 3.078871], [101.54377, 3.078735], [101.543818, 3.078378]]], &quot;type&quot;: &quot;Polygon&quot;}, &quot;id&quot;: &quot;589&quot;, &quot;properties&quot;: {&quot;area&quot;: 1.822058899999457e-05, &quot;center&quot;: &quot;[101.5480280694809, 3.078918269455164]&quot;, &quot;isochrone_id&quot;: 246300, &quot;reachfactor&quot;: 0.6459, &quot;station_id&quot;: &quot;246&quot;, &quot;total_pop&quot;: 959.0, &quot;type&quot;: &quot;Polygon&quot;, &quot;value&quot;: 300}, &quot;type&quot;: &quot;Feature&quot;}, {&quot;bbox&quot;: [101.517584, 3.067865, 101.524989, 3.072504], &quot;geometry&quot;: {&quot;coordinates&quot;: [[[101.517673, 3.069026], [101.518099, 3.068419], [101.518452, 3.068347], [101.52324, 3.067865], [101.524845, 3.068899], [101.524989, 3.069075], [101.524976, 3.069355], [101.524856, 3.070103], [101.524443, 3.070754], [101.524372, 3.070813], [101.52217, 3.072504], [101.521823, 3.072488], [101.518054, 3.070062], [101.517878, 3.06989], [101.517644, 3.069492], [101.517584, 3.069375], [101.517673, 3.069026]]], &quot;type&quot;: &quot;Polygon&quot;}, &quot;id&quot;: &quot;592&quot;, &quot;properties&quot;: {&quot;area&quot;: 2.240036349999404e-05, &quot;center&quot;: &quot;[101.52131034432519, 3.069854711052831]&quot;, &quot;isochrone_id&quot;: 247300, &quot;reachfactor&quot;: 0.794, &quot;station_id&quot;: &quot;247&quot;, &quot;total_pop&quot;: 1131.0, &quot;type&quot;: &quot;Polygon&quot;, &quot;value&quot;: 300}, &quot;type&quot;: &quot;Feature&quot;}, {&quot;bbox&quot;: [101.497724, 3.061933, 101.506079, 3.062731], &quot;geometry&quot;: {&quot;coordinates&quot;: [[[101.497724, 3.062371], [101.498407, 3.062333], [101.503247, 3.061933], [101.503508, 3.061968], [101.503769, 3.062002], [101.506079, 3.062327], [101.506038, 3.062685], [101.501125, 3.062563], [101.499111, 3.062655], [101.499109, 3.062655], [101.498427, 3.062693], [101.497744, 3.062731], [101.497724, 3.062371]]], &quot;type&quot;: &quot;Polygon&quot;}, &quot;id&quot;: &quot;594&quot;, &quot;properties&quot;: {&quot;area&quot;: 4.02398150000031e-06, &quot;center&quot;: &quot;[101.50148164251122, 3.0623661890667275]&quot;, &quot;isochrone_id&quot;: 248300, &quot;reachfactor&quot;: 0.1425, &quot;station_id&quot;: &quot;248&quot;, &quot;total_pop&quot;: 67.0, &quot;type&quot;: &quot;Polygon&quot;, &quot;value&quot;: 300}, &quot;type&quot;: &quot;Feature&quot;}, {&quot;bbox&quot;: [101.483206, 3.064941, 101.490924, 3.069154], &quot;geometry&quot;: {&quot;coordinates&quot;: [[[101.483206, 3.067486], [101.483212, 3.067126], [101.485795, 3.065405], [101.488282, 3.064941], [101.488642, 3.064948], [101.4894, 3.065695], [101.489524, 3.065815], [101.489738, 3.066026], [101.490095, 3.066382], [101.490924, 3.067291], [101.490909, 3.06765], [101.490805, 3.067971], [101.490483, 3.068065], [101.485368, 3.069154], [101.485008, 3.069142], [101.484864, 3.069121], [101.483217, 3.067601], [101.483206, 3.067486]]], &quot;type&quot;: &quot;Polygon&quot;}, &quot;id&quot;: &quot;596&quot;, &quot;properties&quot;: {&quot;area&quot;: 2.1236015500011933e-05, &quot;center&quot;: &quot;[101.48716567291116, 3.0673740149014654]&quot;, &quot;isochrone_id&quot;: 249300, &quot;reachfactor&quot;: 0.7528, &quot;station_id&quot;: &quot;249&quot;, &quot;total_pop&quot;: 1355.0, &quot;type&quot;: &quot;Polygon&quot;, &quot;value&quot;: 300}, &quot;type&quot;: &quot;Feature&quot;}, {&quot;bbox&quot;: [101.462251, 3.061135, 101.469394, 3.065113], &quot;geometry&quot;: {&quot;coordinates&quot;: [[[101.462535, 3.062398], [101.467767, 3.061135], [101.468127, 3.061142], [101.469241, 3.062149], [101.469345, 3.062253], [101.469394, 3.06261], [101.469251, 3.062813], [101.468979, 3.06318], [101.467601, 3.06508], [101.467398, 3.065097], [101.467195, 3.065113], [101.462478, 3.064258], [101.462251, 3.063979], [101.462535, 3.062398]]], &quot;type&quot;: &quot;Polygon&quot;}, &quot;id&quot;: &quot;599&quot;, &quot;properties&quot;: {&quot;area&quot;: 1.9260759500003137e-05, &quot;center&quot;: &quot;[101.46562590974172, 3.06256510666194]&quot;, &quot;isochrone_id&quot;: 250300, &quot;reachfactor&quot;: 0.6827, &quot;station_id&quot;: &quot;250&quot;, &quot;total_pop&quot;: 2265.0, &quot;type&quot;: &quot;Polygon&quot;, &quot;value&quot;: 300}, &quot;type&quot;: &quot;Feature&quot;}, {&quot;bbox&quot;: [101.447387, 3.064798, 101.452547, 3.072168], &quot;geometry&quot;: {&quot;coordinates&quot;: [[[101.447475, 3.067937], [101.447514, 3.067867], [101.449929, 3.065454], [101.450056, 3.065385], [101.450742, 3.065017], [101.451439, 3.064798], [101.451792, 3.064867], [101.452547, 3.066028], [101.452528, 3.066388], [101.45237, 3.070217], [101.452265, 3.070561], [101.452183, 3.070788], [101.450859, 3.07162], [101.450041, 3.072111], [101.449872, 3.072163], [101.449763, 3.072168], [101.449518, 3.072101], [101.449422, 3.072054], [101.449341, 3.071924], [101.448399, 3.070197], [101.44819, 3.069822], [101.447387, 3.068286], [101.447475, 3.067937]]], &quot;type&quot;: &quot;Polygon&quot;}, &quot;id&quot;: &quot;602&quot;, &quot;properties&quot;: {&quot;area&quot;: 2.559548600000143e-05, &quot;center&quot;: &quot;[101.4506238158309, 3.068446016612784]&quot;, &quot;isochrone_id&quot;: 251300, &quot;reachfactor&quot;: 0.9073, &quot;station_id&quot;: &quot;251&quot;, &quot;total_pop&quot;: 2554.0, &quot;type&quot;: &quot;Polygon&quot;, &quot;value&quot;: 300}, &quot;type&quot;: &quot;Feature&quot;}, {&quot;bbox&quot;: [101.44902, 3.055317, 101.45325, 3.062703], &quot;geometry&quot;: {&quot;coordinates&quot;: [[[101.449046, 3.060192], [101.44902, 3.058686], [101.45081, 3.055409], [101.451158, 3.055317], [101.451251, 3.055359], [101.451858, 3.055646], [101.452991, 3.056331], [101.453175, 3.05664], [101.453177, 3.056671], [101.45325, 3.061844], [101.453138, 3.062187], [101.452461, 3.062703], [101.45212, 3.062587], [101.451982, 3.062517], [101.450793, 3.061869], [101.449094, 3.060548], [101.449046, 3.060192]]], &quot;type&quot;: &quot;Polygon&quot;}, &quot;id&quot;: &quot;604&quot;, &quot;properties&quot;: {&quot;area&quot;: 2.3113802999961206e-05, &quot;center&quot;: &quot;[101.4519201960341, 3.058990295895594]&quot;, &quot;isochrone_id&quot;: 252300, &quot;reachfactor&quot;: 0.8194, &quot;station_id&quot;: &quot;252&quot;, &quot;total_pop&quot;: 1666.0, &quot;type&quot;: &quot;Polygon&quot;, &quot;value&quot;: 300}, &quot;type&quot;: &quot;Feature&quot;}, {&quot;bbox&quot;: [101.444337, 3.043805, 101.450678, 3.048648], &quot;geometry&quot;: {&quot;coordinates&quot;: [[[101.444466, 3.044138], [101.444604, 3.043805], [101.447755, 3.044056], [101.448695, 3.044649], [101.450389, 3.046122], [101.450611, 3.046511], [101.450678, 3.047045], [101.450511, 3.047363], [101.449403, 3.048432], [101.4491, 3.048648], [101.446809, 3.04853], [101.44666, 3.04852], [101.445899, 3.04846], [101.445674, 3.048179], [101.444463, 3.046548], [101.444337, 3.046211], [101.444466, 3.044138]]], &quot;type&quot;: &quot;Polygon&quot;}, &quot;id&quot;: &quot;606&quot;, &quot;properties&quot;: {&quot;area&quot;: 2.287117599999791e-05, &quot;center&quot;: &quot;[101.44717749229925, 3.046753377534956]&quot;, &quot;isochrone_id&quot;: 253300, &quot;reachfactor&quot;: 0.8108, &quot;station_id&quot;: &quot;253&quot;, &quot;total_pop&quot;: 760.0, &quot;type&quot;: &quot;Polygon&quot;, &quot;value&quot;: 300}, &quot;type&quot;: &quot;Feature&quot;}, {&quot;bbox&quot;: [101.441087, 3.022695, 101.442739, 3.031341], &quot;geometry&quot;: {&quot;coordinates&quot;: [[[101.441124, 3.029712], [101.441087, 3.029567], [101.442268, 3.025573], [101.442318, 3.022936], [101.442334, 3.022749], [101.442681, 3.022695], [101.442687, 3.022716], [101.442693, 3.02278], [101.442739, 3.024208], [101.442731, 3.024865], [101.442636, 3.026176], [101.442259, 3.029905], [101.441968, 3.031341], [101.441608, 3.031319], [101.441124, 3.029712]]], &quot;type&quot;: &quot;Polygon&quot;}, &quot;id&quot;: &quot;607&quot;, &quot;properties&quot;: {&quot;area&quot;: 5.871910500014202e-06, &quot;center&quot;: &quot;[101.44238787812951, 3.026430442148865]&quot;, &quot;isochrone_id&quot;: 254300, &quot;reachfactor&quot;: 0.2082, &quot;station_id&quot;: &quot;254&quot;, &quot;total_pop&quot;: 242.0, &quot;type&quot;: &quot;Polygon&quot;, &quot;value&quot;: 300}, &quot;type&quot;: &quot;Feature&quot;}, {&quot;bbox&quot;: [101.437619, 3.011372, 101.443422, 3.018892], &quot;geometry&quot;: {&quot;coordinates&quot;: [[[101.437619, 3.014015], [101.439827, 3.011542], [101.4399, 3.011465], [101.440046, 3.011372], [101.440402, 3.011428], [101.443339, 3.016478], [101.443422, 3.016829], [101.443351, 3.016994], [101.441795, 3.018766], [101.441448, 3.018861], [101.441247, 3.018892], [101.441162, 3.018876], [101.437711, 3.014363], [101.437619, 3.014015]]], &quot;type&quot;: &quot;Polygon&quot;}, &quot;id&quot;: &quot;610&quot;, &quot;properties&quot;: {&quot;area&quot;: 2.246649400002028e-05, &quot;center&quot;: &quot;[101.44040022272867, 3.0152361963077845]&quot;, &quot;isochrone_id&quot;: 255300, &quot;reachfactor&quot;: 0.7965, &quot;station_id&quot;: &quot;255&quot;, &quot;total_pop&quot;: 1457.0, &quot;type&quot;: &quot;Polygon&quot;, &quot;value&quot;: 300}, &quot;type&quot;: &quot;Feature&quot;}, {&quot;bbox&quot;: [101.439685, 3.00117, 101.442821, 3.008674], &quot;geometry&quot;: {&quot;coordinates&quot;: [[[101.440057, 3.007461], [101.439712, 3.006242], [101.439685, 3.006145], [101.439746, 3.005687], [101.43997, 3.004039], [101.441474, 3.001879], [101.442483, 3.00117], [101.442821, 3.001296], [101.442253, 3.006617], [101.442228, 3.00687], [101.442102, 3.007218], [101.442012, 3.007377], [101.441907, 3.007558], [101.441154, 3.008672], [101.441083, 3.008674], [101.440927, 3.008599], [101.44044, 3.00834], [101.440295, 3.008235], [101.440057, 3.007461]]], &quot;type&quot;: &quot;Polygon&quot;}, &quot;id&quot;: &quot;613&quot;, &quot;properties&quot;: {&quot;area&quot;: 1.4687609499970014e-05, &quot;center&quot;: &quot;[101.44207201633256, 3.0050719016357084]&quot;, &quot;isochrone_id&quot;: 256300, &quot;reachfactor&quot;: 0.5206, &quot;station_id&quot;: &quot;256&quot;, &quot;total_pop&quot;: 967.0, &quot;type&quot;: &quot;Polygon&quot;, &quot;value&quot;: 300}, &quot;type&quot;: &quot;Feature&quot;}, {&quot;bbox&quot;: [101.444536, 2.989612, 101.449308, 2.997109], &quot;geometry&quot;: {&quot;coordinates&quot;: [[[101.444547, 2.99695], [101.444556, 2.996904], [101.444563, 2.99689], [101.444564, 2.996888], [101.445746, 2.994253], [101.446318, 2.992907], [101.4466, 2.992238], [101.446998, 2.991299], [101.447403, 2.990346], [101.447568, 2.990035], [101.447699, 2.989823], [101.447829, 2.989612], [101.448135, 2.989801], [101.449308, 2.993272], [101.44916, 2.9936], [101.449009, 2.993761], [101.444895, 2.997109], [101.444536, 2.997079], [101.444547, 2.99695]]], &quot;type&quot;: &quot;Polygon&quot;}, &quot;id&quot;: &quot;615&quot;, &quot;properties&quot;: {&quot;area&quot;: 1.3683527500005364e-05, &quot;center&quot;: &quot;[101.4462385828295, 2.993553176354771]&quot;, &quot;isochrone_id&quot;: 257300, &quot;reachfactor&quot;: 0.4852, &quot;station_id&quot;: &quot;257&quot;, &quot;total_pop&quot;: 532.0, &quot;type&quot;: &quot;Polygon&quot;, &quot;value&quot;: 300}, &quot;type&quot;: &quot;Feature&quot;}, {&quot;bbox&quot;: [101.457085, 2.971901, 101.465422, 2.978037], &quot;geometry&quot;: {&quot;coordinates&quot;: [[[101.457085, 2.974968], [101.4571, 2.97445], [101.462239, 2.971901], [101.462545, 2.972091], [101.46523, 2.975904], [101.465416, 2.976467], [101.465422, 2.976853], [101.465062, 2.976858], [101.462913, 2.976283], [101.458019, 2.978037], [101.457732, 2.97782], [101.457085, 2.974968]]], &quot;type&quot;: &quot;Polygon&quot;}, &quot;id&quot;: &quot;624&quot;, &quot;properties&quot;: {&quot;area&quot;: 2.911736600002958e-05, &quot;center&quot;: &quot;[101.46064922913129, 2.9755184830048305]&quot;, &quot;isochrone_id&quot;: 258300, &quot;reachfactor&quot;: 1.0, &quot;station_id&quot;: &quot;258&quot;, &quot;total_pop&quot;: 183.0, &quot;type&quot;: &quot;Polygon&quot;, &quot;value&quot;: 300}, &quot;type&quot;: &quot;Feature&quot;}, {&quot;bbox&quot;: [101.683995, 3.13165, 101.689254, 3.13695], &quot;geometry&quot;: {&quot;coordinates&quot;: [[[101.68409, 3.133054], [101.684363, 3.13282], [101.686566, 3.131712], [101.68681, 3.131694], [101.687763, 3.13165], [101.688293, 3.131946], [101.68856, 3.132188], [101.688703, 3.132495], [101.689093, 3.133629], [101.689099, 3.13372], [101.689254, 3.135946], [101.689079, 3.13626], [101.68818, 3.13669], [101.686244, 3.13695], [101.6857, 3.136912], [101.685676, 3.136902], [101.685508, 3.136691], [101.683995, 3.133657], [101.68409, 3.133054]]], &quot;type&quot;: &quot;Polygon&quot;}, &quot;id&quot;: &quot;625&quot;, &quot;properties&quot;: {&quot;area&quot;: 2.1072351000019642e-05, &quot;center&quot;: &quot;[101.68630396418591, 3.134461275989355]&quot;, &quot;isochrone_id&quot;: 300, &quot;reachfactor&quot;: 0.7469, &quot;station_id&quot;: &quot;0&quot;, &quot;total_pop&quot;: 2635.0, &quot;type&quot;: &quot;Polygon&quot;, &quot;value&quot;: 300}, &quot;type&quot;: &quot;Feature&quot;}, {&quot;bbox&quot;: [101.673079, 3.109759, 101.674839, 3.114292], &quot;geometry&quot;: {&quot;coordinates&quot;: [[[101.673082, 3.113851], [101.673089, 3.113808], [101.673173, 3.113517], [101.673179, 3.113501], [101.673271, 3.113263], [101.673364, 3.113025], [101.674483, 3.109759], [101.674839, 3.109813], [101.674804, 3.110046], [101.674769, 3.110279], [101.674157, 3.113747], [101.673783, 3.114292], [101.673522, 3.114224], [101.673261, 3.114155], [101.673169, 3.114098], [101.673122, 3.114042], [101.673079, 3.113918], [101.673082, 3.113851]]], &quot;type&quot;: &quot;Polygon&quot;}, &quot;id&quot;: &quot;634&quot;, &quot;properties&quot;: {&quot;area&quot;: 3.2331704999769793e-06, &quot;center&quot;: &quot;[101.6733509574372, 3.113554872785846]&quot;, &quot;isochrone_id&quot;: 42300, &quot;reachfactor&quot;: 0.1145, &quot;station_id&quot;: &quot;42&quot;, &quot;total_pop&quot;: 90.0, &quot;type&quot;: &quot;Polygon&quot;, &quot;value&quot;: 300}, &quot;type&quot;: &quot;Feature&quot;}, {&quot;bbox&quot;: [101.701356, 2.75306, 101.707784, 2.757712], &quot;geometry&quot;: {&quot;coordinates&quot;: [[[101.70156, 2.75306], [101.701591, 2.753081], [101.702822, 2.753916], [101.706385, 2.756164], [101.706558, 2.756281], [101.706749, 2.756412], [101.706933, 2.756572], [101.70713, 2.756745], [101.707336, 2.756965], [101.707553, 2.757197], [101.707669, 2.757343], [101.707784, 2.757489], [101.707502, 2.757712], [101.705234, 2.755989], [101.703927, 2.755101], [101.70262, 2.754214], [101.701387, 2.753378], [101.701356, 2.753356], [101.70156, 2.75306]]], &quot;type&quot;: &quot;Polygon&quot;}, &quot;id&quot;: &quot;709&quot;, &quot;properties&quot;: {&quot;area&quot;: 3.3462029999948353e-06, &quot;center&quot;: &quot;[101.70456062418378, 2.7553140684980124]&quot;, &quot;isochrone_id&quot;: 151300, &quot;reachfactor&quot;: 0.1187, &quot;station_id&quot;: &quot;151&quot;, &quot;total_pop&quot;: 145.0, &quot;type&quot;: &quot;Polygon&quot;, &quot;value&quot;: 300}, &quot;type&quot;: &quot;Feature&quot;}, {&quot;bbox&quot;: [101.692348, 3.169825, 101.699532, 3.176533], &quot;geometry&quot;: {&quot;coordinates&quot;: [[[101.695280373038, 3.16998363819379], [101.694652, 3.170069], [101.694641, 3.170077], [101.6941649536992, 3.17049296028338], [101.692622, 3.171337], [101.692348, 3.171535], [101.69236, 3.171986], [101.692528, 3.172305], [101.6930113796724, 3.173090432555177], [101.693955, 3.175913], [101.696134, 3.176533], [101.697826, 3.175738], [101.699083, 3.174752], [101.699154678745, 3.17453506078949], [101.699355, 3.1744], [101.699532, 3.17395], [101.699262, 3.172842], [101.699091, 3.172252], [101.698821, 3.171411], [101.69691, 3.170061], [101.696854, 3.170049], [101.696726, 3.170027], [101.6966637560497, 3.170017172007848], [101.696223, 3.169894], [101.695729, 3.169825], [101.695280373038, 3.16998363819379]]], &quot;type&quot;: &quot;Polygon&quot;}, &quot;id&quot;: &quot;713&quot;, &quot;properties&quot;: {&quot;area&quot;: 3.3345299028381666e-05, &quot;center&quot;: &quot;[101.6956284, 3.1733467]&quot;, &quot;isochrone_id&quot;: 155300, &quot;reachfactor&quot;: 0.9801000000000001, &quot;station_id&quot;: &quot;155&quot;, &quot;total_pop&quot;: 3402.33333333333, &quot;type&quot;: &quot;Polygon&quot;, &quot;value&quot;: 300}, &quot;type&quot;: &quot;Feature&quot;}, {&quot;bbox&quot;: [101.604735, 3.153874, 101.612876, 3.158725], &quot;geometry&quot;: {&quot;coordinates&quot;: [[[101.6059696709532, 3.154468761698364], [101.605858, 3.154454], [101.605498, 3.154448], [101.6054975974178, 3.154448429906755], [101.605458, 3.154447], [101.604854, 3.154905], [101.604787, 3.154985], [101.604735, 3.155341], [101.606438, 3.158537], [101.606525, 3.15862], [101.606535, 3.15862], [101.61052, 3.158725], [101.610632, 3.158383], [101.6106508732705, 3.158267125240819], [101.6108412337287, 3.157831022053123], [101.61178, 3.157121], [101.611919, 3.156788], [101.6119907975718, 3.156359292312517], [101.612747, 3.15548], [101.612859, 3.155267], [101.612876, 3.154907], [101.61205, 3.153876], [101.612005, 3.153874], [101.6092717435717, 3.154466399601715], [101.6078959801708, 3.154580040357597], [101.6059696709532, 3.154468761698364]]], &quot;type&quot;: &quot;Polygon&quot;}, &quot;id&quot;: &quot;723&quot;, &quot;properties&quot;: {&quot;area&quot;: 2.7637763860255135e-05, &quot;center&quot;: &quot;[101.6091179, 3.1548991]&quot;, &quot;isochrone_id&quot;: 168300, &quot;reachfactor&quot;: 0.714, &quot;station_id&quot;: &quot;168&quot;, &quot;total_pop&quot;: 3861.75, &quot;type&quot;: &quot;Polygon&quot;, &quot;value&quot;: 300}, &quot;type&quot;: &quot;Feature&quot;}, {&quot;bbox&quot;: [101.662825, 3.147141, 101.669152, 3.155049], &quot;geometry&quot;: {&quot;coordinates&quot;: [[[101.667166481021, 3.149251268111422], [101.666179, 3.147205], [101.665902, 3.147141], [101.66396, 3.147935], [101.6638720586227, 3.1499521932485], [101.662915, 3.151537], [101.662826, 3.151779], [101.662825, 3.151796], [101.662888, 3.152095], [101.663891, 3.154628], [101.665038, 3.155031], [101.665324, 3.155049], [101.666722, 3.153915], [101.66699, 3.153683], [101.669131, 3.150751], [101.669152, 3.150693], [101.669091, 3.150542], [101.668525, 3.150074], [101.667166481021, 3.149251268111422]]], &quot;type&quot;: &quot;Polygon&quot;}, &quot;id&quot;: &quot;733&quot;, &quot;properties&quot;: {&quot;area&quot;: 2.9311973478213602e-05, &quot;center&quot;: &quot;[101.6656456, 3.1506493]&quot;, &quot;isochrone_id&quot;: 173300, &quot;reachfactor&quot;: 0.8066, &quot;station_id&quot;: &quot;173&quot;, &quot;total_pop&quot;: 4614.5, &quot;type&quot;: &quot;Polygon&quot;, &quot;value&quot;: 300}, &quot;type&quot;: &quot;Feature&quot;}, {&quot;bbox&quot;: [101.593866, 3.058162, 101.598552, 3.062685], &quot;geometry&quot;: {&quot;coordinates&quot;: [[[101.594003, 3.062302], [101.593869, 3.061142], [101.593866, 3.060786], [101.59393, 3.060323], [101.595854, 3.05844], [101.596893, 3.058162], [101.597253, 3.058166], [101.598552, 3.061297], [101.597558, 3.062037], [101.594942, 3.062685], [101.594679, 3.062673], [101.594415, 3.062662], [101.594259, 3.06263], [101.594134, 3.062564], [101.594035, 3.062441], [101.594003, 3.062302]]], &quot;type&quot;: &quot;Polygon&quot;}, &quot;id&quot;: &quot;742&quot;, &quot;properties&quot;: {&quot;area&quot;: 1.446635599999041e-05, &quot;center&quot;: &quot;[101.59680992805262, 3.0616450277626406]&quot;, &quot;isochrone_id&quot;: 201300, &quot;reachfactor&quot;: 0.5128, &quot;station_id&quot;: &quot;201&quot;, &quot;total_pop&quot;: 1324.0, &quot;type&quot;: &quot;Polygon&quot;, &quot;value&quot;: 300}, &quot;type&quot;: &quot;Feature&quot;}, {&quot;bbox&quot;: [101.589328, 3.196496, 101.594964, 3.200829], &quot;geometry&quot;: {&quot;coordinates&quot;: [[[101.5936512972413, 3.199586687797744], [101.594547, 3.199459], [101.594862, 3.199391], [101.594897, 3.199375], [101.594961, 3.199165], [101.594964, 3.199103], [101.594897, 3.198913], [101.594398, 3.197538], [101.593404, 3.196981], [101.592443, 3.196496], [101.592084, 3.196531], [101.590389, 3.197938], [101.590239, 3.198125], [101.589395, 3.199469], [101.5893939234998, 3.199571267516669], [101.589328, 3.199572], [101.5893284921448, 3.199634994531725], [101.589328, 3.199635], [101.58932918125, 3.199723200000501], [101.58933, 3.199828], [101.589333, 3.200084], [101.589362, 3.200291], [101.589461, 3.200446], [101.589555, 3.200515], [101.589679, 3.200563], [101.589821, 3.200581], [101.59168, 3.200815], [101.591808, 3.200829], [101.593437, 3.20008], [101.59375, 3.199917], [101.5936512972413, 3.199586687797744]]], &quot;type&quot;: &quot;Polygon&quot;}, &quot;id&quot;: &quot;750&quot;, &quot;properties&quot;: {&quot;area&quot;: 1.5811047340441258e-05, &quot;center&quot;: &quot;[101.5925125, 3.1997353]&quot;, &quot;isochrone_id&quot;: 206300, &quot;reachfactor&quot;: 0.25033333333333335, &quot;station_id&quot;: &quot;206&quot;, &quot;total_pop&quot;: 654.333333333333, &quot;type&quot;: &quot;Polygon&quot;, &quot;value&quot;: 300}, &quot;type&quot;: &quot;Feature&quot;}, {&quot;bbox&quot;: [101.71462, 3.147956, 101.721819, 3.155326], &quot;geometry&quot;: {&quot;coordinates&quot;: [[[101.714683, 3.14993], [101.714623, 3.150205], [101.71462, 3.150256], [101.714647, 3.150288], [101.714747, 3.150392], [101.7155605831474, 3.151036372152222], [101.71498, 3.152678], [101.714993, 3.153037], [101.715, 3.153057], [101.715134, 3.153193], [101.718226, 3.155326], [101.718586, 3.155307], [101.72157, 3.151919], [101.721629, 3.151564], [101.721819, 3.150316], [101.721782, 3.150128], [101.721722, 3.150019], [101.721652, 3.149998], [101.721089, 3.149825], [101.720911, 3.149783], [101.7202498462834, 3.149670721232743], [101.719987, 3.149292], [101.719658, 3.148968], [101.719065, 3.148563], [101.718271, 3.148312], [101.716865, 3.147956], [101.716363, 3.148125], [101.716348, 3.148131], [101.714683, 3.14993]]], &quot;type&quot;: &quot;Polygon&quot;}, &quot;id&quot;: &quot;761&quot;, &quot;properties&quot;: {&quot;area&quot;: 3.406036237135608e-05, &quot;center&quot;: &quot;[101.7184289, 3.1517688]&quot;, &quot;isochrone_id&quot;: 223300, &quot;reachfactor&quot;: 0.8178000000000001, &quot;station_id&quot;: &quot;223&quot;, &quot;total_pop&quot;: 3961.5, &quot;type&quot;: &quot;Polygon&quot;, &quot;value&quot;: 300}, &quot;type&quot;: &quot;Feature&quot;}], &quot;type&quot;: &quot;FeatureCollection&quot;});\n",
       "\n",
       "        \n",
       "    \n",
       "            var layer_control_a1686715614a10d079df70d86cc07e42 = {\n",
       "                base_layers : {\n",
       "                    &quot;openstreetmap&quot; : tile_layer_e7daefb73ad6895840b5f69e38399e87,\n",
       "                },\n",
       "                overlays :  {\n",
       "                    &quot;Entrances Isochrones&quot; : geo_json_6e11238db9c32b744dbbd2f107218f82,\n",
       "                },\n",
       "            };\n",
       "            L.control.layers(\n",
       "                layer_control_a1686715614a10d079df70d86cc07e42.base_layers,\n",
       "                layer_control_a1686715614a10d079df70d86cc07e42.overlays,\n",
       "                {&quot;autoZIndex&quot;: true, &quot;collapsed&quot;: true, &quot;position&quot;: &quot;topright&quot;}\n",
       "            ).addTo(map_2d70022eb852eead2f68964700ee7c2e);\n",
       "        \n",
       "&lt;/script&gt;\n",
       "&lt;/html&gt;\" style=\"position:absolute;width:100%;height:100%;left:0;top:0;border:none !important;\" allowfullscreen webkitallowfullscreen mozallowfullscreen></iframe></div></div>"
      ],
      "text/plain": [
       "<folium.folium.Map at 0x7fe7105dfb20>"
      ]
     },
     "execution_count": 27,
     "metadata": {},
     "output_type": "execute_result"
    }
   ],
   "source": [
    "#testing to display some isochrones\n",
    "\n",
    "#Querying table with entrance isochrones\n",
    "from shapely.geometry import shape\n",
    "\n",
    "#query to supabase using the previous supabase client that was declared\n",
    "response_station_isochrones = supabase.table('station_isochrones').select(\"*\").execute()\n",
    "\n",
    "data,_ = response_station_isochrones\n",
    "station_isochrones_df = pd.DataFrame(data[1])\n",
    "\n",
    "# Convert the geometry column from dictionaries to shapely Polygons\n",
    "station_isochrones_df['geometry'] = station_isochrones_df['geometry'].apply(lambda geom: shape(geom))\n",
    "\n",
    "# Convert the DataFrame to a GeoDataFrame\n",
    "entrances_isochrones_gdf = gpd.GeoDataFrame(station_isochrones_df, geometry='geometry', crs='EPSG:4326')\n",
    "\n",
    "\n",
    "import folium\n",
    "import geopandas as gpd\n",
    "\n",
    "# Define the center of the map based on the GeoDataFrame's centroid\n",
    "map_center = entrances_isochrones_gdf.geometry.centroid.iloc[0].coords[0][::-1]\n",
    "\n",
    "# Create a folium map centered on the geometries\n",
    "m = folium.Map(location=map_center, zoom_start=12)\n",
    "\n",
    "# Add GeoDataFrame geometries to the map\n",
    "folium.GeoJson(\n",
    "    entrances_isochrones_gdf[entrances_isochrones_gdf['value']==300],\n",
    "    name=\"Entrances Isochrones\",\n",
    "    style_function=lambda feature: {\n",
    "        'fillColor': 'cyan',\n",
    "        'color': 'black',\n",
    "        'weight': 1,\n",
    "        'fillOpacity': 0.6,\n",
    "    }\n",
    ").add_to(m)\n",
    "\n",
    "# Add a layer control panel\n",
    "folium.LayerControl().add_to(m)\n",
    "\n",
    "# Display the map\n",
    "m.save(\"entrances_isochrones_map.html\")\n",
    "m"
   ]
  },
  {
   "cell_type": "code",
   "execution_count": null,
   "metadata": {},
   "outputs": [],
   "source": []
  }
 ],
 "metadata": {
  "kernelspec": {
   "display_name": "sql",
   "language": "python",
   "name": "python3"
  },
  "language_info": {
   "codemirror_mode": {
    "name": "ipython",
    "version": 3
   },
   "file_extension": ".py",
   "mimetype": "text/x-python",
   "name": "python",
   "nbconvert_exporter": "python",
   "pygments_lexer": "ipython3",
   "version": "3.9.16"
  }
 },
 "nbformat": 4,
 "nbformat_minor": 2
}
